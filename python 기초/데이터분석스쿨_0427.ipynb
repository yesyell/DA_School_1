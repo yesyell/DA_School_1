{
  "nbformat": 4,
  "nbformat_minor": 0,
  "metadata": {
    "colab": {
      "provenance": []
    },
    "kernelspec": {
      "name": "python3",
      "display_name": "Python 3"
    },
    "language_info": {
      "name": "python"
    }
  },
  "cells": [
    {
      "cell_type": "markdown",
      "source": [
        "# Python 기초"
      ],
      "metadata": {
        "id": "ZSno16EwUykI"
      }
    },
    {
      "cell_type": "markdown",
      "source": [
        "## 주석"
      ],
      "metadata": {
        "id": "4bvJwsYK59P7"
      }
    },
    {
      "cell_type": "code",
      "source": [
        "# 주석 : 코드를 보류하거나 해당 코드에 대한 설명을 할 경우\n",
        "\n",
        "# 행 단위 주석입니다.\n",
        "\n",
        "'''\n",
        "열\n",
        "단위\n",
        "주석입니다.\n",
        "'''\n",
        "\n",
        "1 + 1"
      ],
      "metadata": {
        "colab": {
          "base_uri": "https://localhost:8080/"
        },
        "id": "4tqMwbOZu73B",
        "outputId": "aab997d3-b70e-4845-9754-f18e26b46286"
      },
      "execution_count": null,
      "outputs": [
        {
          "output_type": "execute_result",
          "data": {
            "text/plain": [
              "2"
            ]
          },
          "metadata": {},
          "execution_count": 1
        }
      ]
    },
    {
      "cell_type": "code",
      "source": [
        "def solution(hello):\n",
        "    \"\"\"Connects to the next available port.\n",
        "\n",
        "    Args:\n",
        "      minimum: A port value greater or equal to 1024.\n",
        "\n",
        "    Returns:\n",
        "      The new minimum port.\n",
        "\n",
        "    Raises:\n",
        "      ConnectionError: If no available port is found.\n",
        "    \"\"\"\n",
        "    return hello"
      ],
      "metadata": {
        "id": "DcY8dv34YEI5"
      },
      "execution_count": null,
      "outputs": []
    },
    {
      "cell_type": "code",
      "source": [
        "solution"
      ],
      "metadata": {
        "id": "Gb_-AxzADMkQ"
      },
      "execution_count": null,
      "outputs": []
    },
    {
      "cell_type": "code",
      "source": [
        "# 주석을 읽지 않고도 쉽게 읽을 수 있는 코드"
      ],
      "metadata": {
        "id": "cDfbBZQXY3xg"
      },
      "execution_count": null,
      "outputs": []
    },
    {
      "cell_type": "markdown",
      "source": [
        "## 변수의 type"
      ],
      "metadata": {
        "id": "nRON966h4UyN"
      }
    },
    {
      "cell_type": "code",
      "source": [
        "def hello():\n",
        "    return\n",
        "\n",
        "class A:\n",
        "    pass\n",
        "\n",
        "a = 10     #int, 정수형\n",
        "b = 10.1   #float, 실수\n",
        "c = -1\n",
        "d = True   #bool, 논리형(부울형, 참거짓형)\n",
        "e = 'good'\n",
        "f = '10'   #str, 문자열\n",
        "g = 'kim'\n",
        "h = 'honggildong'\n",
        "i = 'example'\n",
        "j = 10 + 2j #complex, 복소수\n",
        "k = 0b110   #int, 2진법 \n",
        "l = 0o56    #int, 8진법\n",
        "m = 0xAC    #int, 16진법\n",
        "\n",
        "##########\n",
        "n = hello         # function\n",
        "o = print         # bulit-in function\n",
        "p = lambda x:x**2 # function\n",
        "q = A             # class\n",
        "r = A()           # instance\n",
        "##########\n",
        "\n",
        "print('type(10) : ', type(a))\n",
        "print('type(10.1) : ', type(b))\n",
        "print('type(-1) : ', type(c))\n",
        "print('type(True) : ', type(d))\n",
        "print('type(\\'good\\') : ', type(e))\n",
        "print('\\'10\\' + \\'10\\' : ', f + f)\n",
        "print('\\'10\\' * 3', f * 3)\n",
        "print('\\'hong\\' + \\'gildong\\'', g + h)\n",
        "print('type(\\'gildong\\') : ', type(h))\n",
        "print('type(\\'gildong100!!\\') : ', type(i))\n",
        "print('type(10 + 2j) : ', type(j))\n",
        "print('type(0b110) : ', type(k))\n",
        "print(k)\n",
        "print('type(0o56) : ', type(i))\n",
        "print(i)\n",
        "print('type(0xAC) : ', type(m))\n",
        "print(m)"
      ],
      "metadata": {
        "id": "4eM4gbOR4g4a",
        "colab": {
          "base_uri": "https://localhost:8080/"
        },
        "outputId": "d4d3aebd-4c7b-412d-cc5b-794e6695151b"
      },
      "execution_count": null,
      "outputs": [
        {
          "output_type": "stream",
          "name": "stdout",
          "text": [
            "type(10) :  <class 'int'>\n",
            "type(10.1) :  <class 'float'>\n",
            "type(-1) :  <class 'int'>\n",
            "type(True) :  <class 'bool'>\n",
            "type('good') :  <class 'str'>\n",
            "'10' + '10' :  1010\n",
            "'10' * 3 101010\n",
            "'hong' + 'gildong' kimhonggildong\n",
            "type('gildong') :  <class 'str'>\n",
            "type('gildong100!!') :  <class 'str'>\n",
            "type(10 + 2j) :  <class 'complex'>\n",
            "type(0b110) :  <class 'int'>\n",
            "6\n",
            "type(0o56) :  <class 'str'>\n",
            "example\n",
            "type(0xAC) :  <class 'int'>\n",
            "172\n"
          ]
        }
      ]
    },
    {
      "cell_type": "markdown",
      "source": [
        "## 변수"
      ],
      "metadata": {
        "id": "XHFD2ejO5VW8"
      }
    },
    {
      "cell_type": "code",
      "source": [
        "# CS에서 변수란? 포스트잇(메모리 공간을 가리키는)\n",
        "a = 10 # a -> 10\n",
        "a = 20 # a -> 20\n",
        "type(a)\n",
        "dir(a)"
      ],
      "metadata": {
        "id": "lzXwDBW-ZFbz"
      },
      "execution_count": null,
      "outputs": []
    },
    {
      "cell_type": "code",
      "source": [
        "a = 10\n",
        "b = a\n",
        "a = 20 # 주소값을 가리킴\n",
        "b"
      ],
      "metadata": {
        "colab": {
          "base_uri": "https://localhost:8080/"
        },
        "id": "cTgLJYo-aDsZ",
        "outputId": "e0b66359-a421-4f76-e7c1-771c949457ff"
      },
      "execution_count": null,
      "outputs": [
        {
          "output_type": "execute_result",
          "data": {
            "text/plain": [
              "10"
            ]
          },
          "metadata": {},
          "execution_count": 25
        }
      ]
    },
    {
      "cell_type": "code",
      "source": [
        "id(a), id(b)"
      ],
      "metadata": {
        "colab": {
          "base_uri": "https://localhost:8080/"
        },
        "id": "dMpqCLE9aRNm",
        "outputId": "c43b04cd-6720-4a12-b85c-4eb15b445bb2"
      },
      "execution_count": null,
      "outputs": [
        {
          "output_type": "execute_result",
          "data": {
            "text/plain": [
              "(140697784097680, 140697784097360)"
            ]
          },
          "metadata": {},
          "execution_count": 26
        }
      ]
    },
    {
      "cell_type": "code",
      "source": [
        "a = 10\n",
        "b = a"
      ],
      "metadata": {
        "id": "E7wb0-L9awO4"
      },
      "execution_count": null,
      "outputs": []
    },
    {
      "cell_type": "code",
      "source": [
        "id(a), id(b)"
      ],
      "metadata": {
        "colab": {
          "base_uri": "https://localhost:8080/"
        },
        "id": "j4DkoVh4a0X0",
        "outputId": "714e66c1-150d-4af9-94f1-30812742444b"
      },
      "execution_count": null,
      "outputs": [
        {
          "output_type": "execute_result",
          "data": {
            "text/plain": [
              "(139804790827600, 139804790827600)"
            ]
          },
          "metadata": {},
          "execution_count": 10
        }
      ]
    },
    {
      "cell_type": "code",
      "source": [
        "a is b"
      ],
      "metadata": {
        "colab": {
          "base_uri": "https://localhost:8080/"
        },
        "id": "_jVsUYhLbAKJ",
        "outputId": "0a4eec78-2286-4007-ad3a-5a9cb2a94899"
      },
      "execution_count": null,
      "outputs": [
        {
          "output_type": "execute_result",
          "data": {
            "text/plain": [
              "True"
            ]
          },
          "metadata": {},
          "execution_count": 11
        }
      ]
    },
    {
      "cell_type": "code",
      "source": [
        "a = 10\n",
        "b = 10"
      ],
      "metadata": {
        "id": "SdKXftD_bAvP"
      },
      "execution_count": null,
      "outputs": []
    },
    {
      "cell_type": "code",
      "source": [
        "id(a), id(b)"
      ],
      "metadata": {
        "colab": {
          "base_uri": "https://localhost:8080/"
        },
        "id": "2c0qmU-1bIZY",
        "outputId": "2a804542-13d6-4b38-87c7-c1c7ae54cdee"
      },
      "execution_count": null,
      "outputs": [
        {
          "output_type": "execute_result",
          "data": {
            "text/plain": [
              "(139804790827600, 139804790827600)"
            ]
          },
          "metadata": {},
          "execution_count": 13
        }
      ]
    },
    {
      "cell_type": "code",
      "source": [
        "a = 257\n",
        "b = 257"
      ],
      "metadata": {
        "id": "XxyKG4vHboNk"
      },
      "execution_count": null,
      "outputs": []
    },
    {
      "cell_type": "code",
      "source": [
        "id(a), id(b) # ?????"
      ],
      "metadata": {
        "colab": {
          "base_uri": "https://localhost:8080/"
        },
        "id": "-wwVZ67fbqWp",
        "outputId": "b1c1f34d-9b03-4ed8-8fcd-2ac73baa6ab7"
      },
      "execution_count": null,
      "outputs": [
        {
          "output_type": "execute_result",
          "data": {
            "text/plain": [
              "(139803525892432, 139803525893296)"
            ]
          },
          "metadata": {},
          "execution_count": 15
        }
      ]
    },
    {
      "cell_type": "code",
      "source": [
        "a is b"
      ],
      "metadata": {
        "colab": {
          "base_uri": "https://localhost:8080/"
        },
        "id": "IjCGHcwYbx6v",
        "outputId": "be62739d-c094-4cd5-858d-02ad6124fdb4"
      },
      "execution_count": null,
      "outputs": [
        {
          "output_type": "execute_result",
          "data": {
            "text/plain": [
              "False"
            ]
          },
          "metadata": {},
          "execution_count": 16
        }
      ]
    },
    {
      "cell_type": "code",
      "source": [
        "# Python은 자체적으로 속도를 높이기 위한 여러가지 노력들을 해왔습니다.\n",
        "# 그래서 0 ~ 256은 먼저 메모리에 적재를 합니다."
      ],
      "metadata": {
        "id": "eecQH9yEb931"
      },
      "execution_count": null,
      "outputs": []
    },
    {
      "cell_type": "code",
      "source": [
        "a = 256\n",
        "b = 256"
      ],
      "metadata": {
        "id": "3_3MriPPcV7X"
      },
      "execution_count": null,
      "outputs": []
    },
    {
      "cell_type": "code",
      "source": [
        "id(a), id(b)"
      ],
      "metadata": {
        "colab": {
          "base_uri": "https://localhost:8080/"
        },
        "id": "e_iyZkMEcWny",
        "outputId": "95e6a8d1-86ba-4c5e-ec13-6e22af1af6f1"
      },
      "execution_count": null,
      "outputs": [
        {
          "output_type": "execute_result",
          "data": {
            "text/plain": [
              "(139804791024016, 139804791024016)"
            ]
          },
          "metadata": {},
          "execution_count": 18
        }
      ]
    },
    {
      "cell_type": "code",
      "source": [
        "a is b"
      ],
      "metadata": {
        "colab": {
          "base_uri": "https://localhost:8080/"
        },
        "id": "j8tVg4rHcXbG",
        "outputId": "50c1fbcc-8817-4af8-9647-07b022d1a694"
      },
      "execution_count": null,
      "outputs": [
        {
          "output_type": "execute_result",
          "data": {
            "text/plain": [
              "True"
            ]
          },
          "metadata": {},
          "execution_count": 19
        }
      ]
    },
    {
      "cell_type": "markdown",
      "source": [
        "* 변수의 타입\n",
        "* 변수의 타입은 왜 있는 것일까?\n",
        "    * 효율적인 측면\n",
        "    * 관리적인 측면"
      ],
      "metadata": {
        "id": "-uY2FWSidDUI"
      }
    },
    {
      "cell_type": "code",
      "source": [
        "'a' + 'a'"
      ],
      "metadata": {
        "colab": {
          "base_uri": "https://localhost:8080/",
          "height": 35
        },
        "id": "A2IH-wPMdioU",
        "outputId": "587ad674-6baf-4127-ea7f-9c8bef195518"
      },
      "execution_count": null,
      "outputs": [
        {
          "output_type": "execute_result",
          "data": {
            "text/plain": [
              "'aa'"
            ],
            "application/vnd.google.colaboratory.intrinsic+json": {
              "type": "string"
            }
          },
          "metadata": {},
          "execution_count": 23
        }
      ]
    },
    {
      "cell_type": "code",
      "source": [
        "# 왜 이어 붙였는가?\n",
        "# 우리가 통념적으로 생각하는 문자열의 연산을 Python이라는 언어에 구현해놓은 것입니다.\n",
        "# 메직 메서드(__init_...)를 통해서 이런 '약속'들을 구현하게 됩니다."
      ],
      "metadata": {
        "id": "Rwztl70pdi-h"
      },
      "execution_count": null,
      "outputs": []
    },
    {
      "cell_type": "markdown",
      "source": [
        "## 변수의 속성\n",
        "\n",
        "* 영문과 숫자를 사용할 수 있지만, 숫자로 시작하지는 못합니다.\n",
        "* 특수문자는 사용하지 않아요.(언더바(_)는 사용합니다. 스네이크 표기법, 특수문자나 이미중 사용 가능한 것들이 있기는 합니다. 권하지 않습니다.)\n",
        "* 예약어는 사용하지 않습니다.(if, elif, while, for, etc)\n",
        "* 대소문자는 구분합니다.\n",
        "* 언더바로만 사용하거나 언더바로 시작할 수 있습니다.\n",
        "* 대문자로 시작하는 변수를 사용할 수 있지만, 관습적으로 대문자로 시작하는 변수는 Class로 만들기 때문에 소문자로 시작하는 변수를 만들기를 권합니다. Class는 보통 파스칼 표기법을 따릅니다. 다만 회사 컨벤션마다 다릅니다."
      ],
      "metadata": {
        "id": "Z_YgmR-eetdZ"
      }
    },
    {
      "cell_type": "code",
      "source": [
        "hello_world = 10 # 스네이크 표기법이 컨벤션으로 있는 경우가 많습니다.\n",
        "helloWorld = 10 # 카멜 표기법(JavaScript에서 많이 사용)\n",
        "hello1 = 100\n",
        "# 1hello = 100 # error\n",
        "# π = 3.14 # error가 안나지만 사회생활 힘듭니다.\n",
        "# π * 100\n",
        "\n",
        "_ = 100 # 권장하지 않습니다.\n",
        "\n",
        "# 아래와 같이 반복 안에서 해당 변수를 전혀 사용하지 않는 경우\n",
        "# (관습적으로) 많이 사용됩니다.\n",
        "for _ in range(10):\n",
        "    print('hello')"
      ],
      "metadata": {
        "colab": {
          "base_uri": "https://localhost:8080/"
        },
        "id": "hLby0QYFezX1",
        "outputId": "1e5f52be-3e38-4624-c5ef-308b28b61a37"
      },
      "execution_count": null,
      "outputs": [
        {
          "output_type": "stream",
          "name": "stdout",
          "text": [
            "hello\n",
            "hello\n",
            "hello\n",
            "hello\n",
            "hello\n",
            "hello\n",
            "hello\n",
            "hello\n",
            "hello\n",
            "hello\n"
          ]
        }
      ]
    },
    {
      "cell_type": "markdown",
      "source": [
        "## 입력과 출력"
      ],
      "metadata": {
        "id": "AA3cAp2Rh98A"
      }
    },
    {
      "cell_type": "code",
      "source": [
        "x = input() # 입력 받는 수는 문자열입니다.\n",
        "print(x + x)"
      ],
      "metadata": {
        "colab": {
          "base_uri": "https://localhost:8080/"
        },
        "id": "cSF-QXdTh_Q8",
        "outputId": "2e316971-e19d-4435-febc-0a1272bcef40"
      },
      "execution_count": null,
      "outputs": [
        {
          "output_type": "stream",
          "name": "stdout",
          "text": [
            "10\n",
            "1010\n"
          ]
        }
      ]
    },
    {
      "cell_type": "code",
      "source": [
        "type(print)\n",
        "# https://docs.python.org/3/library/functions.html"
      ],
      "metadata": {
        "colab": {
          "base_uri": "https://localhost:8080/"
        },
        "id": "iaGRbm6LiOlK",
        "outputId": "997cfcbf-fed1-4bd8-c671-ec685a2bc712"
      },
      "execution_count": null,
      "outputs": [
        {
          "output_type": "execute_result",
          "data": {
            "text/plain": [
              "builtin_function_or_method"
            ]
          },
          "metadata": {},
          "execution_count": 123
        }
      ]
    },
    {
      "cell_type": "code",
      "source": [
        "kimyelin = print\n",
        "kimyelin('hello world')\n",
        "id(print), id(kimyelin)"
      ],
      "metadata": {
        "colab": {
          "base_uri": "https://localhost:8080/"
        },
        "id": "X6dqULxEiS5I",
        "outputId": "d3dfe795-3250-4ec9-d119-28df3ac7aac2"
      },
      "execution_count": null,
      "outputs": [
        {
          "output_type": "stream",
          "name": "stdout",
          "text": [
            "hello world\n"
          ]
        },
        {
          "output_type": "execute_result",
          "data": {
            "text/plain": [
              "(140681353586384, 140681353586384)"
            ]
          },
          "metadata": {},
          "execution_count": 126
        }
      ]
    },
    {
      "cell_type": "code",
      "source": [
        "print('hello world', end='!')\n",
        "print('hello world', end='!')\n",
        "print('hello world', end='!')"
      ],
      "metadata": {
        "colab": {
          "base_uri": "https://localhost:8080/"
        },
        "id": "tnGPoXzUi3Rw",
        "outputId": "b44ff27b-8083-4936-acbe-540b66608936"
      },
      "execution_count": null,
      "outputs": [
        {
          "output_type": "stream",
          "name": "stdout",
          "text": [
            "hello world!hello world!hello world!"
          ]
        }
      ]
    },
    {
      "cell_type": "code",
      "source": [
        "이름 = '김예린'\n",
        "나이 = 24\n",
        "print('1. 제 이름은 ', 이름, '입니다. 제 나이는 ', 나이, '입니다')\n",
        "print(f'2. 제 이름은 {이름}입니다. 제 나이는 {나이}입니다.')\n",
        "print('3. 제 이름은 {}입니다. 제 나이는 {}입니다.'.format(이름, 나이))\n",
        "print('4. 제 이름은 %s입니다. 제 나이는 %d입니다.'%(이름, 나이))"
      ],
      "metadata": {
        "id": "A4TSuaCX50x7",
        "colab": {
          "base_uri": "https://localhost:8080/"
        },
        "outputId": "bca9b073-3504-4d04-c567-5b06c05bc815"
      },
      "execution_count": null,
      "outputs": [
        {
          "output_type": "stream",
          "name": "stdout",
          "text": [
            "1. 제 이름은  김예린 입니다. 제 나이는  24 입니다\n",
            "2. 제 이름은 김예린입니다. 제 나이는 24입니다.\n",
            "3. 제 이름은 김예린입니다. 제 나이는 24입니다.\n",
            "4. 제 이름은 김예린입니다. 제 나이는 24입니다.\n"
          ]
        }
      ]
    },
    {
      "cell_type": "markdown",
      "source": [
        "[포멧 코드의 종류](https://www.notion.so/9fd33417740f4eba8715f5c4a1ed7c7b)"
      ],
      "metadata": {
        "id": "AZ4TrL9k6FyB"
      }
    },
    {
      "cell_type": "markdown",
      "source": [
        "## int (정수)"
      ],
      "metadata": {
        "id": "enKsWhiHcplR"
      }
    },
    {
      "cell_type": "code",
      "source": [
        "10 # 정수\n",
        "-10 # 정수\n",
        "10.0 # 실수"
      ],
      "metadata": {
        "colab": {
          "base_uri": "https://localhost:8080/"
        },
        "id": "L9npSeRMcm1w",
        "outputId": "b1117ecd-72f0-4655-ab5b-94ff4d91b2ca"
      },
      "execution_count": null,
      "outputs": [
        {
          "output_type": "execute_result",
          "data": {
            "text/plain": [
              "-10"
            ]
          },
          "metadata": {},
          "execution_count": 20
        }
      ]
    },
    {
      "cell_type": "code",
      "source": [
        "a = 10\n",
        "type(a)\n",
        "dir(a)"
      ],
      "metadata": {
        "id": "MW6dwVXoc4ci"
      },
      "execution_count": null,
      "outputs": []
    },
    {
      "cell_type": "code",
      "source": [
        "a = 0b110   #int, 2진법, 0, 1 (숫자를 2개만 쓰는 것입니다.)\n",
        "b = 0o56    #int, 8진법, 0, 1, 2, 3, 4, 5, 6, 7 (숫자를 8개만 쓰는 것입니다.)\n",
        "c = 0xAD    #int, 16진법, 0, 1, 2, 3, 4, 5, 6, 7, 8, 9, a, b, c, d, e, f (숫자를 16개만 쓰는 것입니다.)\n",
        "\n",
        "type(a), type(b), type(c)"
      ],
      "metadata": {
        "colab": {
          "base_uri": "https://localhost:8080/"
        },
        "id": "slfbv22Zfu5u",
        "outputId": "3aef1591-e4d6-4fb4-aab8-00efab4d3861"
      },
      "execution_count": null,
      "outputs": [
        {
          "output_type": "execute_result",
          "data": {
            "text/plain": [
              "(int, int, int)"
            ]
          },
          "metadata": {},
          "execution_count": 28
        }
      ]
    },
    {
      "cell_type": "code",
      "source": [
        "# 287 == (10^2) * 2 + (10^1) * 8 + (10^0) * 7 ## 10진법\n",
        "# 110 == (2^2) * 1 + (2^1) * 1 + (2^0) * 0 => 4 + 2 + 0 => 6 ## 2진법\n",
        "# AC == (16^1) * A + (16^0) * C => 160 + 12 => 172"
      ],
      "metadata": {
        "id": "xtQIB8RThNw8"
      },
      "execution_count": null,
      "outputs": []
    },
    {
      "cell_type": "code",
      "source": [
        "a, b, c"
      ],
      "metadata": {
        "colab": {
          "base_uri": "https://localhost:8080/"
        },
        "id": "4EMeJqcNf6Ad",
        "outputId": "126d2a15-0003-4f94-ace1-1b890e8c1743"
      },
      "execution_count": null,
      "outputs": [
        {
          "output_type": "execute_result",
          "data": {
            "text/plain": [
              "(6, 46, 172)"
            ]
          },
          "metadata": {},
          "execution_count": 29
        }
      ]
    },
    {
      "cell_type": "code",
      "source": [
        "bin(6), oct(46), hex(172)"
      ],
      "metadata": {
        "colab": {
          "base_uri": "https://localhost:8080/"
        },
        "id": "s5bVqU3DiVj3",
        "outputId": "3adde4f5-ee41-4816-eab7-4d2982c33c49"
      },
      "execution_count": null,
      "outputs": [
        {
          "output_type": "execute_result",
          "data": {
            "text/plain": [
              "('0b110', '0o56', '0xac')"
            ]
          },
          "metadata": {},
          "execution_count": 31
        }
      ]
    },
    {
      "cell_type": "code",
      "source": [
        "0.1 + 0.2\n",
        "# 모든 언어 공통(2진법으로 변환했을 때 무한대수가 발생됩니다.)\n",
        "# 부동소수점 오차 발생"
      ],
      "metadata": {
        "colab": {
          "base_uri": "https://localhost:8080/"
        },
        "id": "EW9Sjo9ugNRE",
        "outputId": "93db0954-f5e1-42c5-efe6-be0dfdec2f30"
      },
      "execution_count": null,
      "outputs": [
        {
          "output_type": "execute_result",
          "data": {
            "text/plain": [
              "0.30000000000000004"
            ]
          },
          "metadata": {},
          "execution_count": 30
        }
      ]
    },
    {
      "cell_type": "code",
      "source": [
        "a = 10\n",
        "type(a)"
      ],
      "metadata": {
        "colab": {
          "base_uri": "https://localhost:8080/"
        },
        "id": "cVxPal25lPBj",
        "outputId": "33bf92ba-50c4-4330-fede-827febea30f5"
      },
      "execution_count": null,
      "outputs": [
        {
          "output_type": "execute_result",
          "data": {
            "text/plain": [
              "int"
            ]
          },
          "metadata": {},
          "execution_count": 41
        }
      ]
    },
    {
      "cell_type": "code",
      "source": [
        "'100' + '100'"
      ],
      "metadata": {
        "colab": {
          "base_uri": "https://localhost:8080/",
          "height": 35
        },
        "id": "hAAIXvdflZ7z",
        "outputId": "3aee9ddf-72b1-49cb-9ed4-e8a8678c8caf"
      },
      "execution_count": null,
      "outputs": [
        {
          "output_type": "execute_result",
          "data": {
            "text/plain": [
              "'100100'"
            ],
            "application/vnd.google.colaboratory.intrinsic+json": {
              "type": "string"
            }
          },
          "metadata": {},
          "execution_count": 44
        }
      ]
    },
    {
      "cell_type": "code",
      "source": [
        "int('100') + int('100') # 형 변환"
      ],
      "metadata": {
        "colab": {
          "base_uri": "https://localhost:8080/"
        },
        "id": "dq4_v69blVrI",
        "outputId": "a3f5ea32-63f3-4895-8fac-08d32f6122fd"
      },
      "execution_count": null,
      "outputs": [
        {
          "output_type": "execute_result",
          "data": {
            "text/plain": [
              "200"
            ]
          },
          "metadata": {},
          "execution_count": 43
        }
      ]
    },
    {
      "cell_type": "code",
      "source": [
        "('0b110', '0o56', '0xac')"
      ],
      "metadata": {
        "id": "0Oh8HsJSli5W"
      },
      "execution_count": null,
      "outputs": []
    },
    {
      "cell_type": "code",
      "source": [
        "int('0b110', 2)\n",
        "int('110', 2)"
      ],
      "metadata": {
        "colab": {
          "base_uri": "https://localhost:8080/"
        },
        "id": "se3ID9lulmg9",
        "outputId": "971b81bb-6c05-4b6d-a72d-6654e11622bd"
      },
      "execution_count": null,
      "outputs": [
        {
          "output_type": "execute_result",
          "data": {
            "text/plain": [
              "6"
            ]
          },
          "metadata": {},
          "execution_count": 50
        }
      ]
    },
    {
      "cell_type": "code",
      "source": [
        "int('0o56', 8)\n",
        "int('56', 8)"
      ],
      "metadata": {
        "colab": {
          "base_uri": "https://localhost:8080/"
        },
        "id": "0BtghIfzlsDd",
        "outputId": "a00adab2-4fc0-4bc6-92e0-6c73feb05d27"
      },
      "execution_count": null,
      "outputs": [
        {
          "output_type": "execute_result",
          "data": {
            "text/plain": [
              "46"
            ]
          },
          "metadata": {},
          "execution_count": 51
        }
      ]
    },
    {
      "cell_type": "code",
      "source": [
        "int('0xac', 16)\n",
        "int('ac', 16)"
      ],
      "metadata": {
        "colab": {
          "base_uri": "https://localhost:8080/"
        },
        "id": "bhyopSu0lxbc",
        "outputId": "3571f42e-acf9-4955-948e-f43c3cdf50ab"
      },
      "execution_count": null,
      "outputs": [
        {
          "output_type": "execute_result",
          "data": {
            "text/plain": [
              "172"
            ]
          },
          "metadata": {},
          "execution_count": 52
        }
      ]
    },
    {
      "cell_type": "code",
      "source": [
        "int('10') + int('10')"
      ],
      "metadata": {
        "colab": {
          "base_uri": "https://localhost:8080/"
        },
        "id": "J6GQ3xE7EkWG",
        "outputId": "ca568ba4-09a0-4efc-9d1a-906d94052351"
      },
      "execution_count": null,
      "outputs": [
        {
          "output_type": "execute_result",
          "data": {
            "text/plain": [
              "20"
            ]
          },
          "metadata": {},
          "execution_count": 1
        }
      ]
    },
    {
      "cell_type": "code",
      "source": [
        "class int(int):\n",
        "    def __add__(self, a):\n",
        "        return self * a\n",
        "\n",
        "int('10') + int('10')"
      ],
      "metadata": {
        "colab": {
          "base_uri": "https://localhost:8080/"
        },
        "id": "bPutt5h5ErE1",
        "outputId": "b5ec1235-b3a9-4a29-baa7-7c8614d5ad00"
      },
      "execution_count": null,
      "outputs": [
        {
          "output_type": "execute_result",
          "data": {
            "text/plain": [
              "100"
            ]
          },
          "metadata": {},
          "execution_count": 2
        }
      ]
    },
    {
      "cell_type": "markdown",
      "source": [
        "## float (실수)"
      ],
      "metadata": {
        "id": "vGr6y7FRFCdR"
      }
    },
    {
      "cell_type": "code",
      "source": [
        "a = 10.1\n",
        "\n",
        "type(a)"
      ],
      "metadata": {
        "colab": {
          "base_uri": "https://localhost:8080/"
        },
        "id": "WgbSmwxdFGDy",
        "outputId": "60aeaff6-819e-42a8-c0df-a4b1400d67aa"
      },
      "execution_count": null,
      "outputs": [
        {
          "output_type": "execute_result",
          "data": {
            "text/plain": [
              "float"
            ]
          },
          "metadata": {},
          "execution_count": 1
        }
      ]
    },
    {
      "cell_type": "code",
      "source": [
        "dir(a)"
      ],
      "metadata": {
        "id": "3NhBx-ShFU2K"
      },
      "execution_count": null,
      "outputs": []
    },
    {
      "cell_type": "code",
      "source": [
        "a = 10\n",
        "b = 10.1\n",
        "\n",
        "type(a + b) # 다른 언어는 error....."
      ],
      "metadata": {
        "colab": {
          "base_uri": "https://localhost:8080/"
        },
        "id": "Q4x8txgeFXOY",
        "outputId": "52d31bed-8cb5-47b8-9908-a975798a631c"
      },
      "execution_count": null,
      "outputs": [
        {
          "output_type": "execute_result",
          "data": {
            "text/plain": [
              "float"
            ]
          },
          "metadata": {},
          "execution_count": 4
        }
      ]
    },
    {
      "cell_type": "markdown",
      "source": [
        "## str (문자열)\n",
        "\n",
        "* 왜 문자'형'이 아니라 문자'열'일까요?"
      ],
      "metadata": {
        "id": "X-7zNXaOF7tT"
      }
    },
    {
      "cell_type": "code",
      "source": [
        "a = 'Hello World'\n",
        "\n",
        "type(a)"
      ],
      "metadata": {
        "colab": {
          "base_uri": "https://localhost:8080/"
        },
        "id": "6jZePzFoFt3t",
        "outputId": "896af404-40b5-43c4-acb6-f131e493b6ad"
      },
      "execution_count": 62,
      "outputs": [
        {
          "output_type": "execute_result",
          "data": {
            "text/plain": [
              "str"
            ]
          },
          "metadata": {},
          "execution_count": 62
        }
      ]
    },
    {
      "cell_type": "code",
      "source": [
        "# 대괄호 안에 들어값을 index라고 하고, \n",
        "# 이렇게 index로 값을 호출하는 방법을 indexing이라고 합니다.\n",
        "a[0]\n",
        "a[1]"
      ],
      "metadata": {
        "colab": {
          "base_uri": "https://localhost:8080/",
          "height": 35
        },
        "id": "Pm9p7RlHKPOL",
        "outputId": "18e0f38f-925d-4df6-dbab-be0229192787"
      },
      "execution_count": 63,
      "outputs": [
        {
          "output_type": "execute_result",
          "data": {
            "text/plain": [
              "'e'"
            ],
            "application/vnd.google.colaboratory.intrinsic+json": {
              "type": "string"
            }
          },
          "metadata": {},
          "execution_count": 63
        }
      ]
    },
    {
      "cell_type": "code",
      "source": [
        "dir(a)"
      ],
      "metadata": {
        "id": "5cyihLL_GYmu"
      },
      "execution_count": null,
      "outputs": []
    },
    {
      "cell_type": "code",
      "source": [
        "'capitalize','casefold','center','count','encode','endswith','expandtabs',\n",
        "'find','format','format_map','index','isalnum','isalpha','isascii','isdecimal',\n",
        "'isdigit','isidentifier','islower','isnumeric','isprintable','isspace','istitle',\n",
        "'isupper','join','ljust','lower','lstrip','maketrans','partition','removeprefix',\n",
        "'removesuffix','replace','rfind','rindex','rjust','rpartition','rsplit','rstrip',\n",
        "'split','splitlines','startswith','strip','swapcase','title','translate','upper','zfill'"
      ],
      "metadata": {
        "id": "mLei_n2VGZ-m"
      },
      "execution_count": null,
      "outputs": []
    },
    {
      "cell_type": "markdown",
      "source": [
        "* 모든 Line은 79자 (Characters)로 제한하시기를 권고합니다."
      ],
      "metadata": {
        "id": "HpkwfGygGx-y"
      }
    },
    {
      "cell_type": "code",
      "source": [
        "# aaaaaaaaaaaaaaaaaaaaaaaaaaaaaaaaaaaaaaaaaaaaaaaaaaaaaaaaaaaaaaaaaaaaaaaaaaaaaaaa => 80자0\n",
        "# 아아아아아아아아아아아아아아아아아아아아아아아아아아아아아아아아아아아아아아아아아아 => 42자면 한글 넘어갑니다."
      ],
      "metadata": {
        "id": "ZtNr_VqPG0PF"
      },
      "execution_count": null,
      "outputs": []
    },
    {
      "cell_type": "markdown",
      "source": [
        "- line에 딱 맞춰 들어간 것을 볼 수 있습니다. \n",
        "강제사항은 아닙니다.\n",
        "\n",
        "- pep8, pep 20에 기술되어 있습니다.\n",
        "pep(Python Enhancement Proposal)란 무엇인가요?\n",
        "\n",
        "- pep8 : Style Guide for Python Code\n",
        "\n",
        "- pep20 : The Zen of Python\n",
        "\n",
        "  https://wikidocs.net/21733"
      ],
      "metadata": {
        "id": "MYpTKGI_J3eM"
      }
    },
    {
      "cell_type": "code",
      "source": [
        "for i in range(10):\n",
        "        print(i)\n",
        "        print(i + i)"
      ],
      "metadata": {
        "id": "4ZVp4JWoHIpb"
      },
      "execution_count": null,
      "outputs": []
    },
    {
      "cell_type": "code",
      "source": [
        "a"
      ],
      "metadata": {
        "colab": {
          "base_uri": "https://localhost:8080/",
          "height": 35
        },
        "id": "1K4B70rmIif4",
        "outputId": "9b517e65-79ac-43a9-ab0e-5e06a72df0b7"
      },
      "execution_count": null,
      "outputs": [
        {
          "output_type": "execute_result",
          "data": {
            "text/plain": [
              "'Hello World'"
            ],
            "application/vnd.google.colaboratory.intrinsic+json": {
              "type": "string"
            }
          },
          "metadata": {},
          "execution_count": 12
        }
      ]
    },
    {
      "cell_type": "code",
      "source": [
        "a.lower()"
      ],
      "metadata": {
        "colab": {
          "base_uri": "https://localhost:8080/",
          "height": 35
        },
        "id": "1PdiQ2oyIq02",
        "outputId": "cec6fcd9-a001-4f8b-adae-57b1de3b88ac"
      },
      "execution_count": null,
      "outputs": [
        {
          "output_type": "execute_result",
          "data": {
            "text/plain": [
              "'hello world'"
            ],
            "application/vnd.google.colaboratory.intrinsic+json": {
              "type": "string"
            }
          },
          "metadata": {},
          "execution_count": 13
        }
      ]
    },
    {
      "cell_type": "code",
      "source": [
        "a.upper()"
      ],
      "metadata": {
        "colab": {
          "base_uri": "https://localhost:8080/",
          "height": 35
        },
        "id": "l-5K9IheItGN",
        "outputId": "d70b6d6f-c957-4092-b863-c042c4db8463"
      },
      "execution_count": null,
      "outputs": [
        {
          "output_type": "execute_result",
          "data": {
            "text/plain": [
              "'HELLO WORLD'"
            ],
            "application/vnd.google.colaboratory.intrinsic+json": {
              "type": "string"
            }
          },
          "metadata": {},
          "execution_count": 14
        }
      ]
    },
    {
      "cell_type": "code",
      "source": [
        "a.islower() # 전부 다 소문자로 이뤄져 있는가?"
      ],
      "metadata": {
        "colab": {
          "base_uri": "https://localhost:8080/"
        },
        "id": "TMkW0FoVIup3",
        "outputId": "fbfca53a-2195-4d3c-b3ac-9e688bfc9b52"
      },
      "execution_count": null,
      "outputs": [
        {
          "output_type": "execute_result",
          "data": {
            "text/plain": [
              "False"
            ]
          },
          "metadata": {},
          "execution_count": 15
        }
      ]
    },
    {
      "cell_type": "code",
      "source": [
        "'hello'.islower() "
      ],
      "metadata": {
        "colab": {
          "base_uri": "https://localhost:8080/"
        },
        "id": "yokUSvwHI2Qc",
        "outputId": "73da27f1-69de-48f9-8b49-1f5b10c034fb"
      },
      "execution_count": null,
      "outputs": [
        {
          "output_type": "execute_result",
          "data": {
            "text/plain": [
              "True"
            ]
          },
          "metadata": {},
          "execution_count": 16
        }
      ]
    },
    {
      "cell_type": "code",
      "source": [
        "'hello'.isupper() # 전부 다 대문자로 이루어져 있는가?"
      ],
      "metadata": {
        "colab": {
          "base_uri": "https://localhost:8080/"
        },
        "id": "6BFf1K1kI_DU",
        "outputId": "d49303dd-abf7-411a-cdfa-429dc30f64a4"
      },
      "execution_count": null,
      "outputs": [
        {
          "output_type": "execute_result",
          "data": {
            "text/plain": [
              "False"
            ]
          },
          "metadata": {},
          "execution_count": 19
        }
      ]
    },
    {
      "cell_type": "code",
      "source": [
        "'HELLO'.isupper()"
      ],
      "metadata": {
        "colab": {
          "base_uri": "https://localhost:8080/"
        },
        "id": "mM38o028JBjs",
        "outputId": "c6d1e558-1660-4eec-a1e9-da701f962cb0"
      },
      "execution_count": null,
      "outputs": [
        {
          "output_type": "execute_result",
          "data": {
            "text/plain": [
              "True"
            ]
          },
          "metadata": {},
          "execution_count": 20
        }
      ]
    },
    {
      "cell_type": "code",
      "source": [
        "'123'.isdigit() # 숫자인가?"
      ],
      "metadata": {
        "colab": {
          "base_uri": "https://localhost:8080/"
        },
        "id": "xkJFnIZNJL5Y",
        "outputId": "ce8eae64-2ee9-47da-a64f-2cc80cfb5f67"
      },
      "execution_count": null,
      "outputs": [
        {
          "output_type": "execute_result",
          "data": {
            "text/plain": [
              "True"
            ]
          },
          "metadata": {},
          "execution_count": 21
        }
      ]
    },
    {
      "cell_type": "code",
      "source": [
        "# 아래 문자열 중 숫자만 다 더해라\n",
        "s = 0\n",
        "for i in '123abc7584739203lsdlfei123ndsdf':\n",
        "    if i.isdigit():\n",
        "        s = s + int(i)\n",
        "s"
      ],
      "metadata": {
        "colab": {
          "base_uri": "https://localhost:8080/"
        },
        "id": "SXGnvVEUJd31",
        "outputId": "5f4b0007-7024-4c7c-8b89-b5311a14614e"
      },
      "execution_count": null,
      "outputs": [
        {
          "output_type": "execute_result",
          "data": {
            "text/plain": [
              "60"
            ]
          },
          "metadata": {},
          "execution_count": 24
        }
      ]
    },
    {
      "cell_type": "code",
      "source": [
        "'123'.isalpha() # 알파벳인가?"
      ],
      "metadata": {
        "colab": {
          "base_uri": "https://localhost:8080/"
        },
        "id": "FSQk_q-pJZKv",
        "outputId": "15d5a9ab-2bc3-4f7d-df2c-ddde3c143ef9"
      },
      "execution_count": null,
      "outputs": [
        {
          "output_type": "execute_result",
          "data": {
            "text/plain": [
              "False"
            ]
          },
          "metadata": {},
          "execution_count": 22
        }
      ]
    },
    {
      "cell_type": "code",
      "source": [
        "' '.isalpha()"
      ],
      "metadata": {
        "colab": {
          "base_uri": "https://localhost:8080/"
        },
        "id": "8iM_uQhKJ6pU",
        "outputId": "bfc8d34a-0ebf-4ce6-f6e4-1bda5f692e0e"
      },
      "execution_count": null,
      "outputs": [
        {
          "output_type": "execute_result",
          "data": {
            "text/plain": [
              "False"
            ]
          },
          "metadata": {},
          "execution_count": 27
        }
      ]
    },
    {
      "cell_type": "code",
      "source": [
        "'hello world'.isalpha() # 공백 포함시 False"
      ],
      "metadata": {
        "colab": {
          "base_uri": "https://localhost:8080/"
        },
        "id": "8edB5lFyKsoB",
        "outputId": "6ccfe5c6-7038-49ee-aec2-d816b4f4be67"
      },
      "execution_count": null,
      "outputs": [
        {
          "output_type": "execute_result",
          "data": {
            "text/plain": [
              "False"
            ]
          },
          "metadata": {},
          "execution_count": 28
        }
      ]
    },
    {
      "cell_type": "code",
      "source": [
        "'hello world'.count('l')"
      ],
      "metadata": {
        "colab": {
          "base_uri": "https://localhost:8080/"
        },
        "id": "0aI92imOL5QU",
        "outputId": "31c5f6fc-a33b-43e5-a753-204247930c15"
      },
      "execution_count": null,
      "outputs": [
        {
          "output_type": "execute_result",
          "data": {
            "text/plain": [
              "3"
            ]
          },
          "metadata": {},
          "execution_count": 29
        }
      ]
    },
    {
      "cell_type": "code",
      "source": [
        "# 1부터 10000까지 8의 갯수를 모두 세어라.\n",
        "'[1, 2, 3, 4, 5]'.count(',')\n",
        "str(list(range(101))).count('8')"
      ],
      "metadata": {
        "colab": {
          "base_uri": "https://localhost:8080/"
        },
        "id": "RdSPpOTwMBun",
        "outputId": "751d849b-c68d-41f3-df1f-9ee094834a85"
      },
      "execution_count": null,
      "outputs": [
        {
          "output_type": "execute_result",
          "data": {
            "text/plain": [
              "20"
            ]
          },
          "metadata": {},
          "execution_count": 29
        }
      ]
    },
    {
      "cell_type": "code",
      "source": [
        "a = ''\n",
        "print('test'.count(a))\n",
        "print(a.count(''))\n",
        "# ' t e s t ' => 빈 문자가 5번 카운팅"
      ],
      "metadata": {
        "id": "SGhfhl3H7Kgt",
        "colab": {
          "base_uri": "https://localhost:8080/"
        },
        "outputId": "c18828e0-1e11-42f4-9a30-1880f0123357"
      },
      "execution_count": null,
      "outputs": [
        {
          "output_type": "stream",
          "name": "stdout",
          "text": [
            "5\n",
            "1\n"
          ]
        }
      ]
    },
    {
      "cell_type": "code",
      "source": [
        "a = 'x'\n",
        "print(len(a))\n",
        "print(a.count(''))\n",
        "\n",
        "# https://stackoverflow.com/questions/40192449/why-are-str-count-and-lenstr-giving-different-output"
      ],
      "metadata": {
        "colab": {
          "base_uri": "https://localhost:8080/"
        },
        "id": "xiEd4LABciH-",
        "outputId": "40f77915-96c6-4b5f-ce07-081e6890bbe3"
      },
      "execution_count": null,
      "outputs": [
        {
          "output_type": "stream",
          "name": "stdout",
          "text": [
            "1\n",
            "2\n"
          ]
        }
      ]
    },
    {
      "cell_type": "code",
      "source": [
        "'kimyelin'.center(10)\n",
        "'kimyelin'.center(20)\n",
        "'kimyelin'.center(20, '!')\n",
        "'kimyelin'.center(20, '-')"
      ],
      "metadata": {
        "colab": {
          "base_uri": "https://localhost:8080/",
          "height": 35
        },
        "id": "fDwOA3vKPaZ7",
        "outputId": "88bc6992-174e-41fb-f4be-8a482df01eab"
      },
      "execution_count": null,
      "outputs": [
        {
          "output_type": "execute_result",
          "data": {
            "text/plain": [
              "'------kimyelin------'"
            ],
            "application/vnd.google.colaboratory.intrinsic+json": {
              "type": "string"
            }
          },
          "metadata": {},
          "execution_count": 104
        }
      ]
    },
    {
      "cell_type": "code",
      "source": [
        "'my name is kimyelin'.rjust(30) #오른쪽 정렬\n",
        "# 'my name is kimyelin'.ljust(30) #왼쪽 정렬\n",
        "# 'my name is kimyelin'.center(30)#가운데 정렬"
      ],
      "metadata": {
        "colab": {
          "base_uri": "https://localhost:8080/",
          "height": 35
        },
        "id": "G4sxNo9l8gPo",
        "outputId": "1378051d-ea43-44ef-a423-f56540a48846"
      },
      "execution_count": null,
      "outputs": [
        {
          "output_type": "execute_result",
          "data": {
            "text/plain": [
              "'           my name is kimyelin'"
            ],
            "application/vnd.google.colaboratory.intrinsic+json": {
              "type": "string"
            }
          },
          "metadata": {},
          "execution_count": 105
        }
      ]
    },
    {
      "cell_type": "code",
      "source": [
        "'kimyelin'.index('h')\n",
        "# 'kimyelin'.index('z') # 못찾으면 error"
      ],
      "metadata": {
        "id": "rW3Uq_reP-Zz"
      },
      "execution_count": null,
      "outputs": []
    },
    {
      "cell_type": "code",
      "source": [
        "'kimyelin'.find('h')\n",
        "'kimyelin'.find('z') # 못찾으면 -1 => True"
      ],
      "metadata": {
        "colab": {
          "base_uri": "https://localhost:8080/"
        },
        "id": "yG2Rwf6tQBuH",
        "outputId": "13096447-05e1-4acd-a264-acc297f5579f"
      },
      "execution_count": null,
      "outputs": [
        {
          "output_type": "execute_result",
          "data": {
            "text/plain": [
              "-1"
            ]
          },
          "metadata": {},
          "execution_count": 43
        }
      ]
    },
    {
      "cell_type": "code",
      "source": [
        "# index VS. find\n",
        "# 그러면 어떤 코드가 더 좋은가요?\n",
        "# 정답은 없습니다. 코드의 의도에 맞게 코딩하실 필요가 있습니다."
      ],
      "metadata": {
        "id": "_lYbIwGqQVKo"
      },
      "execution_count": null,
      "outputs": []
    },
    {
      "cell_type": "code",
      "source": [
        "# 중요하진 않습니다.\n",
        "'my name is kimyelin.'.endswith('.') # 마침표로 끝났는가?\n",
        "'my name is kimyelin.'[-1] == '.'"
      ],
      "metadata": {
        "colab": {
          "base_uri": "https://localhost:8080/"
        },
        "id": "G5BUykdgRl4Q",
        "outputId": "eb422c5a-5f20-4b37-9b04-4208227bf475"
      },
      "execution_count": null,
      "outputs": [
        {
          "output_type": "execute_result",
          "data": {
            "text/plain": [
              "True"
            ]
          },
          "metadata": {},
          "execution_count": 32
        }
      ]
    },
    {
      "cell_type": "code",
      "source": [
        "# % 용법이 최초에 있었습니다. 현재 사용하지 않습니다.\n",
        "name = 'yelin'\n",
        "age = 24\n",
        "print('name %s'%name)\n",
        "print('name %s age %d'%(name, age))"
      ],
      "metadata": {
        "id": "YaE9CG1aUb0s",
        "colab": {
          "base_uri": "https://localhost:8080/"
        },
        "outputId": "c1ab65b2-fbce-4bc8-da40-b447f21e2403"
      },
      "execution_count": null,
      "outputs": [
        {
          "output_type": "stream",
          "name": "stdout",
          "text": [
            "name yelin\n",
            "name yelin age 24\n"
          ]
        }
      ]
    },
    {
      "cell_type": "code",
      "source": [
        "# format 용법이 생겼습니다.\n",
        "name = 'yelin'\n",
        "age = 24\n",
        "print('name {} age {}'.format(name, age))\n",
        "print('name {0} age {1}'.format(name, age))\n",
        "print('name {1} age {1}'.format(name, age))\n",
        "\n",
        "txt = 'name {} age {}'\n",
        "print(txt.format(name, age))"
      ],
      "metadata": {
        "colab": {
          "base_uri": "https://localhost:8080/"
        },
        "id": "sR_qnaOQSu1T",
        "outputId": "5a2fa861-bfd7-406c-c66b-159c61cee9a2"
      },
      "execution_count": null,
      "outputs": [
        {
          "output_type": "stream",
          "name": "stdout",
          "text": [
            "name yelin age 24\n",
            "name yelin age 24\n",
            "name 24 age 24\n",
            "name yelin age 24\n"
          ]
        }
      ]
    },
    {
      "cell_type": "code",
      "source": [
        "height = 169.99\n",
        "print('height {}'.format(height))\n",
        "print('height {height:.2f}'.format(height=169.91))"
      ],
      "metadata": {
        "colab": {
          "base_uri": "https://localhost:8080/"
        },
        "id": "sb2WKAX8AEwn",
        "outputId": "ed00c336-a713-4f11-95a2-0711e553d0a7"
      },
      "execution_count": null,
      "outputs": [
        {
          "output_type": "stream",
          "name": "stdout",
          "text": [
            "height 169.99\n",
            "height 169.91\n"
          ]
        }
      ]
    },
    {
      "cell_type": "code",
      "source": [
        "# f-string 용법이 생겼습니다.(3.6 version에서 새로 나옴)\n",
        "name = 'yelin'\n",
        "age = 24\n",
        "print(f'name: {name} age: {age}')"
      ],
      "metadata": {
        "colab": {
          "base_uri": "https://localhost:8080/"
        },
        "id": "NPal0E61Ud0Y",
        "outputId": "fd329102-e750-4869-b065-0a2549e231bc"
      },
      "execution_count": null,
      "outputs": [
        {
          "output_type": "stream",
          "name": "stdout",
          "text": [
            "name: yelin age: 24\n"
          ]
        }
      ]
    },
    {
      "cell_type": "code",
      "source": [
        "'hello world'.find('l')\n",
        "'hello world'.rfind('l') # 오른쪽부터 찾음\n",
        "'hello world'.rindex('l')"
      ],
      "metadata": {
        "colab": {
          "base_uri": "https://localhost:8080/"
        },
        "id": "9ImNoYYeVzAP",
        "outputId": "887aa79d-d3f6-4f91-9cf6-1eae369c43e7"
      },
      "execution_count": null,
      "outputs": [
        {
          "output_type": "execute_result",
          "data": {
            "text/plain": [
              "9"
            ]
          },
          "metadata": {},
          "execution_count": 116
        }
      ]
    },
    {
      "cell_type": "code",
      "source": [
        "# strip : 공백 지우기\n",
        "'        hello world         '.strip() #rstrip, lstrip"
      ],
      "metadata": {
        "colab": {
          "base_uri": "https://localhost:8080/",
          "height": 35
        },
        "id": "cdCu1OBNWV9r",
        "outputId": "69bf65b3-f0fe-4488-b3a2-8cf75f927cbf"
      },
      "execution_count": null,
      "outputs": [
        {
          "output_type": "execute_result",
          "data": {
            "text/plain": [
              "'hello world'"
            ],
            "application/vnd.google.colaboratory.intrinsic+json": {
              "type": "string"
            }
          },
          "metadata": {},
          "execution_count": 37
        }
      ]
    },
    {
      "cell_type": "code",
      "source": [
        "'100'.zfill(10) # 10자리를 채웁니다."
      ],
      "metadata": {
        "colab": {
          "base_uri": "https://localhost:8080/",
          "height": 35
        },
        "id": "t0Wk2kSPWfr_",
        "outputId": "58a786fe-461c-43aa-f8bc-1c9c4b14a9c4"
      },
      "execution_count": null,
      "outputs": [
        {
          "output_type": "execute_result",
          "data": {
            "text/plain": [
              "'0000000100'"
            ],
            "application/vnd.google.colaboratory.intrinsic+json": {
              "type": "string"
            }
          },
          "metadata": {},
          "execution_count": 84
        }
      ]
    },
    {
      "cell_type": "code",
      "source": [
        "# join : 합치기 - string에서만 가능\n",
        "' '.join(['hello', 'world', 'yelin'])\n",
        "\n",
        "'-'.join(['010', '1234', '5678'])\n",
        "# '-'.join([010, 1234, 5678]) # error"
      ],
      "metadata": {
        "colab": {
          "base_uri": "https://localhost:8080/",
          "height": 35
        },
        "id": "3Z8X1W-SSQg-",
        "outputId": "766b79b0-530e-49df-c71f-326d661dc194"
      },
      "execution_count": null,
      "outputs": [
        {
          "output_type": "execute_result",
          "data": {
            "text/plain": [
              "'010-1234-5678'"
            ],
            "application/vnd.google.colaboratory.intrinsic+json": {
              "type": "string"
            }
          },
          "metadata": {},
          "execution_count": 33
        }
      ]
    },
    {
      "cell_type": "code",
      "source": [
        "# ''.join([1, 2, 3, 4])\n",
        "''.join(['1', '2', '3', '4'])"
      ],
      "metadata": {
        "colab": {
          "base_uri": "https://localhost:8080/",
          "height": 35
        },
        "id": "Dk_38u7mmGxH",
        "outputId": "1ffffb28-6cd0-4c59-e570-975145059683"
      },
      "execution_count": null,
      "outputs": [
        {
          "output_type": "execute_result",
          "data": {
            "text/plain": [
              "'1234'"
            ],
            "application/vnd.google.colaboratory.intrinsic+json": {
              "type": "string"
            }
          },
          "metadata": {},
          "execution_count": 138
        }
      ]
    },
    {
      "cell_type": "code",
      "source": [
        "# split : 나누기 => ** list 반환 **\n",
        "'010-0000-0000'.split('-')\n",
        "# '010-00!00-00!00'.split('!')"
      ],
      "metadata": {
        "colab": {
          "base_uri": "https://localhost:8080/"
        },
        "id": "Z9s8bqtbWwxs",
        "outputId": "d8f128f5-2fb4-477d-95d1-ef072c29a4f7"
      },
      "execution_count": null,
      "outputs": [
        {
          "output_type": "execute_result",
          "data": {
            "text/plain": [
              "['010', '0000', '0000']"
            ]
          },
          "metadata": {},
          "execution_count": 121
        }
      ]
    },
    {
      "cell_type": "code",
      "source": [
        "# replace : 바꾸기 - string에서만 가능\n",
        "# 메서드 체이닝\n",
        "'my name is kimyelin'.replace('name', 'age').replace('kimyelin', '24') \n",
        "\n",
        "# string이 나와야 string 메서드 체이닝을 할 수 있음."
      ],
      "metadata": {
        "colab": {
          "base_uri": "https://localhost:8080/",
          "height": 35
        },
        "id": "TJLERaX3KvUB",
        "outputId": "5b0daa56-75f3-48ad-90ee-c42f27fbf3dd"
      },
      "execution_count": null,
      "outputs": [
        {
          "output_type": "execute_result",
          "data": {
            "text/plain": [
              "'my age is 24'"
            ],
            "application/vnd.google.colaboratory.intrinsic+json": {
              "type": "string"
            }
          },
          "metadata": {},
          "execution_count": 120
        }
      ]
    },
    {
      "cell_type": "code",
      "source": [
        "# '010-1234-5678'.split('-').zfill(10)\n",
        "# error - 앞에서 진행한 split이 list를 반환하기 때문에 zfill을 사용할 수 없음.\n",
        "\n",
        "'010-1234-5678'.split('-').count('1234')\n",
        "# 이건 가능. count에는 str, list 모두 있음."
      ],
      "metadata": {
        "id": "t6i48XbxA1tI"
      },
      "execution_count": null,
      "outputs": []
    },
    {
      "cell_type": "code",
      "source": [
        "암호 = '''  + +-+ -+-  \n",
        "  ++ -- +-+  \n",
        "  ++-+ -+ -  \n",
        "  + ++-+ -+  '''\n",
        "\n",
        "print(암호)\n",
        "암호.split('\\n')[0]"
      ],
      "metadata": {
        "colab": {
          "base_uri": "https://localhost:8080/",
          "height": 105
        },
        "id": "qfXgaH2ZYcJV",
        "outputId": "db3708fb-e874-4400-a1b6-21bf9db24938"
      },
      "execution_count": null,
      "outputs": [
        {
          "output_type": "stream",
          "name": "stdout",
          "text": [
            "  + +-+ -+-  \n",
            "  ++ -- +-+  \n",
            "  ++-+ -+ -  \n",
            "  + ++-+ -+  \n"
          ]
        },
        {
          "output_type": "execute_result",
          "data": {
            "text/plain": [
              "'  + +-+ -+-  '"
            ],
            "application/vnd.google.colaboratory.intrinsic+json": {
              "type": "string"
            }
          },
          "metadata": {},
          "execution_count": 43
        }
      ]
    },
    {
      "cell_type": "code",
      "source": [
        "# 지금 이 코드에서는 strip을 할 이유가 없지만 앞 뒤 공백만 제거해야 할 때가 있습니다.\n",
        "이진수 = 암호.split('\\n')[0].strip().replace(' ', '').replace('+', '1').replace('-', '0')\n",
        "# 이진수 = 암호.split('\\n')[0].replace(' ', '').replace('+', '1').replace('-', '0')\n",
        "\n",
        "int(이진수, 2)\n",
        "\n",
        "chr(106) # 유니코드표에서 숫자로 문자 출력\n",
        "ord('j') # 유니코드표에서 문자를 숫자로 출력 "
      ],
      "metadata": {
        "colab": {
          "base_uri": "https://localhost:8080/"
        },
        "id": "v-bwiuGuY_4j",
        "outputId": "45b6d814-5761-42b3-b05c-b56b34a0c502"
      },
      "execution_count": null,
      "outputs": [
        {
          "output_type": "execute_result",
          "data": {
            "text/plain": [
              "106"
            ]
          },
          "metadata": {},
          "execution_count": 42
        }
      ]
    },
    {
      "cell_type": "code",
      "source": [
        "a = 10\n",
        "\n",
        "# 아래 3개는 모두 string 입니다.\n",
        "print('hello world {}'.format(a))# format 용법\n",
        "print(f'hello world {a}')        # f-string 용법\n",
        "print(r'hello world {a}')"
      ],
      "metadata": {
        "colab": {
          "base_uri": "https://localhost:8080/"
        },
        "id": "mlHrHKXDdyPu",
        "outputId": "9ca3f131-4488-454c-f20e-dd9ff658cc94"
      },
      "execution_count": null,
      "outputs": [
        {
          "output_type": "stream",
          "name": "stdout",
          "text": [
            "hello world 10\n",
            "hello world 10\n",
            "hello world {a}\n"
          ]
        }
      ]
    },
    {
      "cell_type": "code",
      "source": [
        "a = 10\n",
        "b = 20\n",
        "c = 30\n",
        "\n",
        "'hello world {} {} {}'.format(a, b, c)\n",
        "f'hello world {a} {b} {c}'"
      ],
      "metadata": {
        "colab": {
          "base_uri": "https://localhost:8080/",
          "height": 35
        },
        "id": "7CY4DfZdjuLY",
        "outputId": "25544c26-a3bb-421d-e665-d5344f74a8aa"
      },
      "execution_count": null,
      "outputs": [
        {
          "output_type": "execute_result",
          "data": {
            "text/plain": [
              "'hello world 10 20 30'"
            ],
            "application/vnd.google.colaboratory.intrinsic+json": {
              "type": "string"
            }
          },
          "metadata": {},
          "execution_count": 131
        }
      ]
    },
    {
      "cell_type": "code",
      "source": [
        "r'hello world' # raw : 날것의\n",
        "'hello world'\n",
        "\n",
        "print(r'hello \\n world \\t yelin')\n",
        "print('hello \\n world \\t yelin')"
      ],
      "metadata": {
        "id": "nDNmkFFReGOg",
        "colab": {
          "base_uri": "https://localhost:8080/"
        },
        "outputId": "60211505-cac5-445e-ece5-b1e12834b622"
      },
      "execution_count": null,
      "outputs": [
        {
          "output_type": "stream",
          "name": "stdout",
          "text": [
            "hello \\n world \\t yelin\n",
            "hello \n",
            " world \t yelin\n"
          ]
        }
      ]
    },
    {
      "cell_type": "code",
      "source": [
        "규칙테이블 = str.maketrans('ylo','345')\n",
        "'yelin hello world'.translate(규칙테이블) #어떤 규칙을 정하는것"
      ],
      "metadata": {
        "colab": {
          "base_uri": "https://localhost:8080/",
          "height": 35
        },
        "id": "xM4EOQyh9C7u",
        "outputId": "a9dd2e1e-ec0d-431e-e5f7-ecc795661ba3"
      },
      "execution_count": null,
      "outputs": [
        {
          "output_type": "execute_result",
          "data": {
            "text/plain": [
              "'3e4in he445 w5r4d'"
            ],
            "application/vnd.google.colaboratory.intrinsic+json": {
              "type": "string"
            }
          },
          "metadata": {},
          "execution_count": 51
        }
      ]
    },
    {
      "cell_type": "markdown",
      "source": [
        "## 문자열의 활용"
      ],
      "metadata": {
        "id": "93tN1gIc9qZ2"
      }
    },
    {
      "cell_type": "code",
      "source": [
        "s = '위니브 월드 외각에 살고 있는 생선가게...'\n",
        "# s[start:stop:step]\n",
        "s[0:6]\n",
        "s[:6]\n",
        "\n",
        "s[7:9]\n",
        "s[s.find('외각'):s.find('외각')+2]\n",
        "\n",
        "s[-1]\n",
        "s[:-5]\n",
        "\n",
        "s[:-1]   # 마지막 글자만 제거. 많이 사용합니다.\n",
        "s[-7:-1] # 많이 안씁니다.\n",
        "\n",
        "s[::2]\n",
        "s[::-1]  # 거꾸로"
      ],
      "metadata": {
        "colab": {
          "base_uri": "https://localhost:8080/",
          "height": 35
        },
        "id": "FO2RkV5A9tAj",
        "outputId": "e42e4bc5-125f-4d4c-b7b3-ba37d16dec2d"
      },
      "execution_count": null,
      "outputs": [
        {
          "output_type": "execute_result",
          "data": {
            "text/plain": [
              "'...게가선생 는있 고살 에각외 드월 브니위'"
            ],
            "application/vnd.google.colaboratory.intrinsic+json": {
              "type": "string"
            }
          },
          "metadata": {},
          "execution_count": 53
        }
      ]
    },
    {
      "cell_type": "code",
      "source": [
        "s = 'kimyelin'\n",
        "\n",
        "s + s\n",
        "s * 3\n",
        "# s/s  # error \n",
        "# s//s # error \n",
        "# s-s  # error "
      ],
      "metadata": {
        "id": "x0dAU71E_oi9",
        "colab": {
          "base_uri": "https://localhost:8080/",
          "height": 35
        },
        "outputId": "791ee65f-f6a9-436c-f7ac-229e3d6b0db0"
      },
      "execution_count": null,
      "outputs": [
        {
          "output_type": "execute_result",
          "data": {
            "text/plain": [
              "'kimyelinkimyelinkimyelin'"
            ],
            "application/vnd.google.colaboratory.intrinsic+json": {
              "type": "string"
            }
          },
          "metadata": {},
          "execution_count": 140
        }
      ]
    },
    {
      "cell_type": "code",
      "source": [
        "l = [[[]*3]*3]*2\n",
        "l"
      ],
      "metadata": {
        "colab": {
          "base_uri": "https://localhost:8080/"
        },
        "id": "4DiVrT2qEaNt",
        "outputId": "acc3fd6e-a228-4061-e862-e046b2d61923"
      },
      "execution_count": null,
      "outputs": [
        {
          "output_type": "execute_result",
          "data": {
            "text/plain": [
              "[[[], [], []], [[], [], []]]"
            ]
          },
          "metadata": {},
          "execution_count": 54
        }
      ]
    },
    {
      "cell_type": "code",
      "source": [
        "# 주의\n",
        "l[0][0] = 100\n",
        "l "
      ],
      "metadata": {
        "colab": {
          "base_uri": "https://localhost:8080/"
        },
        "id": "oGCWEd0dEbcq",
        "outputId": "b89ff07a-ff45-4e85-c114-151d7a373203"
      },
      "execution_count": null,
      "outputs": [
        {
          "output_type": "execute_result",
          "data": {
            "text/plain": [
              "[[100, [], []], [100, [], []]]"
            ]
          },
          "metadata": {},
          "execution_count": 55
        }
      ]
    },
    {
      "cell_type": "markdown",
      "source": [
        "## 형변환"
      ],
      "metadata": {
        "id": "E5mtCgxGAdkK"
      }
    },
    {
      "cell_type": "code",
      "source": [
        "print(type(int(3.5)))\n",
        "print(int(3.5))\n",
        "print(type(float(3)))\n",
        "print(float(3))\n",
        "print(type(str(3)))\n",
        "print(str(3))"
      ],
      "metadata": {
        "colab": {
          "base_uri": "https://localhost:8080/"
        },
        "id": "ZeUQ0mreAezL",
        "outputId": "517fd7f9-3c3d-4ede-90fd-93b44a079159"
      },
      "execution_count": null,
      "outputs": [
        {
          "output_type": "stream",
          "name": "stdout",
          "text": [
            "<class 'int'>\n",
            "3\n",
            "<class 'float'>\n",
            "3.0\n",
            "<class 'str'>\n",
            "3\n"
          ]
        }
      ]
    },
    {
      "cell_type": "code",
      "source": [
        "x = input('Insert the number.')\n",
        "y = input('Insert the number.')\n",
        "print(x + y)\n",
        "print(type(x))\n",
        "print(type(y))"
      ],
      "metadata": {
        "id": "IPVPfh2lAk6Z",
        "colab": {
          "base_uri": "https://localhost:8080/"
        },
        "outputId": "ae59e35f-5f1c-4c6f-8f51-9e1fe3a05d5c"
      },
      "execution_count": null,
      "outputs": [
        {
          "output_type": "stream",
          "name": "stdout",
          "text": [
            "Insert the number.12\n",
            "Insert the number.12\n",
            "1212\n",
            "<class 'str'>\n",
            "<class 'str'>\n"
          ]
        }
      ]
    },
    {
      "cell_type": "code",
      "source": [
        "l = [10, 20, 15, 17, '철수']\n",
        "# l = [10, 20, 15, 17, None]\n",
        "len(l)"
      ],
      "metadata": {
        "colab": {
          "base_uri": "https://localhost:8080/"
        },
        "id": "i0qjpegDBcQu",
        "outputId": "de302f81-2999-48fc-8c9d-380cfdd21a3a"
      },
      "execution_count": null,
      "outputs": [
        {
          "output_type": "execute_result",
          "data": {
            "text/plain": [
              "5"
            ]
          },
          "metadata": {},
          "execution_count": 56
        }
      ]
    },
    {
      "cell_type": "code",
      "source": [
        "sum([10, 20, 30, 40], 0)\n",
        "sum([10, 20, 30, 40], 100)\n",
        "sum([[1, 2, 3], [4, 5, 6], [7, 8, 9]], [])"
      ],
      "metadata": {
        "colab": {
          "base_uri": "https://localhost:8080/"
        },
        "id": "cAV0fjQeB938",
        "outputId": "6126fd88-f8c7-418a-f74a-9f6080d36ddb"
      },
      "execution_count": null,
      "outputs": [
        {
          "output_type": "execute_result",
          "data": {
            "text/plain": [
              "[1, 2, 3, 4, 5, 6, 7, 8, 9]"
            ]
          },
          "metadata": {},
          "execution_count": 180
        }
      ]
    },
    {
      "cell_type": "code",
      "source": [
        "# 숫자 : 0외에 다른 숫자는 다 참\n",
        "# 문자 : ''외에 다른 문자는 다 참\n",
        "# 리스트 : []외에 다른 리스트는 다 참\n",
        "# None : False\n",
        "print(\"bool('test') : \", bool('test'))\n",
        "print(\"bool(1) : \", bool(1))\n",
        "print(\"bool(0) : \", bool(0))\n",
        "print(\"bool(-1) : \", bool(-1))\n",
        "print(\"bool(' ') : \", bool(' '))\n",
        "print(\"bool('') : \", bool(''))\n",
        "print(\"bool(None) : \", bool(None))"
      ],
      "metadata": {
        "colab": {
          "base_uri": "https://localhost:8080/"
        },
        "id": "GJGGMi1IA5-X",
        "outputId": "ee5c1992-e92c-4a45-d19e-97726cc28891"
      },
      "execution_count": null,
      "outputs": [
        {
          "output_type": "stream",
          "name": "stdout",
          "text": [
            "bool('test') :  True\n",
            "bool(1) :  True\n",
            "bool(0) :  False\n",
            "bool(-1) :  True\n",
            "bool(' ') :  True\n",
            "bool('') :  False\n",
            "bool(None) :  False\n"
          ]
        }
      ]
    },
    {
      "cell_type": "code",
      "source": [
        "int()\n",
        "float()\n",
        "str()\n",
        "bool()\n",
        "list('kimyelin')\n",
        "tuple()\n",
        "\n",
        "s = [('name','kimyelin'),('age',10)]\n",
        "print(dict(s))\n",
        "\n",
        "print(set('kimyelin'))"
      ],
      "metadata": {
        "colab": {
          "base_uri": "https://localhost:8080/"
        },
        "id": "pmDlSd16A1CT",
        "outputId": "fbc28f51-a187-4f34-970f-8a6b7ddcfed5"
      },
      "execution_count": null,
      "outputs": [
        {
          "output_type": "stream",
          "name": "stdout",
          "text": [
            "{'name': 'kimyelin', 'age': 10}\n",
            "{'i', 'n', 'y', 'l', 'm', 'k', 'e'}\n"
          ]
        }
      ]
    },
    {
      "cell_type": "code",
      "source": [
        "num = 1234567890\n",
        "list(str(num))[3]"
      ],
      "metadata": {
        "colab": {
          "base_uri": "https://localhost:8080/",
          "height": 35
        },
        "id": "_MvLy7meG8sv",
        "outputId": "c5bce571-aa1a-46f3-9361-c77c3b562da3"
      },
      "execution_count": null,
      "outputs": [
        {
          "output_type": "execute_result",
          "data": {
            "text/plain": [
              "'4'"
            ],
            "application/vnd.google.colaboratory.intrinsic+json": {
              "type": "string"
            }
          },
          "metadata": {},
          "execution_count": 191
        }
      ]
    },
    {
      "cell_type": "markdown",
      "source": [
        "# 연산"
      ],
      "metadata": {
        "id": "UHBVBQgYakAf"
      }
    },
    {
      "cell_type": "markdown",
      "source": [
        "## 산술연산"
      ],
      "metadata": {
        "id": "XhJAAN194IIA"
      }
    },
    {
      "cell_type": "code",
      "source": [
        "a = 10\n",
        "b = 3\n",
        "\n",
        "print(a + b)\n",
        "print(a - b)\n",
        "print(a / b)  # float\n",
        "print(a // b) # int\n",
        "print(a * b)\n",
        "print(a ** b)\n",
        "print(a % b)  # 나머지"
      ],
      "metadata": {
        "id": "9c5WZS6o4Hry",
        "colab": {
          "base_uri": "https://localhost:8080/"
        },
        "outputId": "77763f3e-4024-4520-9f74-309c344a242e"
      },
      "execution_count": null,
      "outputs": [
        {
          "output_type": "stream",
          "name": "stdout",
          "text": [
            "13\n",
            "7\n",
            "3.3333333333333335\n",
            "3\n",
            "30\n",
            "1000\n",
            "1\n"
          ]
        }
      ]
    },
    {
      "cell_type": "markdown",
      "source": [
        "## 비교연산"
      ],
      "metadata": {
        "id": "mC5rI8xqIame"
      }
    },
    {
      "cell_type": "code",
      "source": [
        "a = 10\n",
        "b = 3\n",
        "\n",
        "print(a == b) # 같은가?\n",
        "print(a != b) # 다른가?\n",
        "print(a > b)\n",
        "print(a >= b)\n",
        "print(a < b)\n",
        "print(a <= b)"
      ],
      "metadata": {
        "colab": {
          "base_uri": "https://localhost:8080/"
        },
        "id": "F5NAylXEIJc0",
        "outputId": "1f64e701-9da3-425c-e8c4-e66f376e9cd9"
      },
      "execution_count": null,
      "outputs": [
        {
          "output_type": "stream",
          "name": "stdout",
          "text": [
            "False\n",
            "True\n",
            "True\n",
            "True\n",
            "False\n",
            "False\n"
          ]
        }
      ]
    },
    {
      "cell_type": "markdown",
      "source": [
        "## 논리연산"
      ],
      "metadata": {
        "id": "JcLV26PNI38E"
      }
    },
    {
      "cell_type": "code",
      "source": [
        "# True : 1\n",
        "# False : 0\n",
        "# and : 논리곱\n",
        "# or : 논리합\n",
        "# not : 부정"
      ],
      "metadata": {
        "id": "S3mFUwqaI1xc"
      },
      "execution_count": null,
      "outputs": []
    },
    {
      "cell_type": "code",
      "source": [
        "# True and False\n",
        "# 둘 중 하나라도 False라면 False\n",
        "# and는 위와 같은 속성 때문에 둘 다 만족해야하는 '조건'에 사용합니다.\n",
        "\n",
        "for i in range(100):\n",
        "  if i % 3 == 0 and i % 5 == 0:\n",
        "    print(i)\n",
        "\n",
        "# for i in range(100):\n",
        "#   if i % 3 == 0: \n",
        "#     if i % 5 == 0 :\n",
        "#       print(i)"
      ],
      "metadata": {
        "id": "c_bf-mlGJTOS"
      },
      "execution_count": null,
      "outputs": []
    },
    {
      "cell_type": "code",
      "source": [
        "# True or False\n",
        "# 둘 중 하나라도 True라면 True\n",
        "\n",
        "for i in range(100):\n",
        "  if i % 3 == 0 or i % 5 == 0:\n",
        "    print(i)"
      ],
      "metadata": {
        "id": "5eAZJyrcKz9X"
      },
      "execution_count": null,
      "outputs": []
    },
    {
      "cell_type": "code",
      "source": [
        "for i in range(101):\n",
        "    if i % 3 == 0 and i % 5 == 0 or i % 2 == 0:\n",
        "        print(i)\n",
        "\n",
        "for i in range(101):\n",
        "    if (i % 3 == 0 and i % 5 == 0) or i % 2 == 0:\n",
        "        print(i)"
      ],
      "metadata": {
        "id": "Wep9s5OMKWzd"
      },
      "execution_count": null,
      "outputs": []
    },
    {
      "cell_type": "code",
      "source": [
        "for i in range(100):\n",
        "  if (i % 3 == 0 or i % 5 == 0) and i % 2 == 0 :\n",
        "    print(i)\n",
        "\n",
        "for i in range(101):\n",
        "    if i % 3 == 0 or (i % 5 == 0 and i % 2 == 0):\n",
        "    # if i % 3 == 0 or i % 5 == 0 and i % 2 == 0:\n",
        "        print(i)"
      ],
      "metadata": {
        "id": "kI2OUAsIO2X-"
      },
      "execution_count": null,
      "outputs": []
    },
    {
      "cell_type": "code",
      "source": [
        "print(10 and 20) # 뒤의 값까지 고려해줘야 함. 마지막 평가값 반환\n",
        "\n",
        "print(0 and 20) # 뒤에 무슨 값이 오든지 항상 False라서 앞의 값을 반환함\n",
        "print(10 or 20) # 뒤에 무슨 값이 오든지 항상 True라서 앞의 값을 반환함\n",
        "print(4 and 10 or 20)"
      ],
      "metadata": {
        "colab": {
          "base_uri": "https://localhost:8080/"
        },
        "id": "79Q44cPgMYEk",
        "outputId": "0c59d617-ac56-4398-fe84-f2c5f6078ed0"
      },
      "execution_count": null,
      "outputs": [
        {
          "output_type": "stream",
          "name": "stdout",
          "text": [
            "20\n",
            "0\n",
            "10\n",
            "10\n"
          ]
        }
      ]
    },
    {
      "cell_type": "code",
      "source": [
        "name = ''\n",
        "name = name or 'kimyelin'\n",
        "print(name)"
      ],
      "metadata": {
        "colab": {
          "base_uri": "https://localhost:8080/"
        },
        "id": "WVEYdCYMND3D",
        "outputId": "5b7583d3-c258-4fd6-b0e2-1478bd69032b"
      },
      "execution_count": null,
      "outputs": [
        {
          "output_type": "stream",
          "name": "stdout",
          "text": [
            "kimyelin\n"
          ]
        }
      ]
    },
    {
      "cell_type": "code",
      "source": [
        "name = 'unicorn'\n",
        "name = name or 'kimyelin'\n",
        "print(name)"
      ],
      "metadata": {
        "colab": {
          "base_uri": "https://localhost:8080/"
        },
        "id": "H5OgJrnoP3os",
        "outputId": "e04b7678-ea6a-4fd7-cb06-3696e6d07bee"
      },
      "execution_count": null,
      "outputs": [
        {
          "output_type": "stream",
          "name": "stdout",
          "text": [
            "unicorn\n"
          ]
        }
      ]
    },
    {
      "cell_type": "code",
      "source": [
        "def err():\n",
        "  1/0\n",
        "\n",
        "test1 = 0 and err()   # 뒤까지 읽지 않음\n",
        "test2 = 10 or err()   # 뒤까지 읽지 않음\n",
        "test3 = 10 and err()  # error\n",
        "\n",
        "print(test1)\n",
        "print(test2)\n",
        "\n",
        "# https://duck-tube.tistory.com/6\n",
        "# or - 첫 피연산자가 True이면 다음 피연산자를 보지않아도 값이 True\n",
        "# and - 첫 피연산자가 False이면 다음 피연산자를 보지않아도 값이 False"
      ],
      "metadata": {
        "colab": {
          "base_uri": "https://localhost:8080/"
        },
        "id": "I0eO8PICPGDe",
        "outputId": "ac5a35bb-11b8-4459-9d4e-ff2ff058f9bb"
      },
      "execution_count": null,
      "outputs": [
        {
          "output_type": "stream",
          "name": "stdout",
          "text": [
            "0\n",
            "10\n"
          ]
        }
      ]
    },
    {
      "cell_type": "markdown",
      "source": [
        "## 비트연산 (중요도 하)"
      ],
      "metadata": {
        "id": "xtJfRcSjZeU-"
      }
    },
    {
      "cell_type": "code",
      "source": [
        "# Tip\n",
        "# 가장 가까운 2에 승수를 구합니다.\n",
        "# 거기에서 +- 하시면 됩니다.\n",
        "\n",
        "7 & 5 # 곱\n",
        "\n",
        "# 111\n",
        "# 101\n",
        "#-----\n",
        "# 101"
      ],
      "metadata": {
        "colab": {
          "base_uri": "https://localhost:8080/"
        },
        "id": "o30GaQLeTxpO",
        "outputId": "c322cd65-4d0d-4710-890e-a5ef60a1df80"
      },
      "execution_count": null,
      "outputs": [
        {
          "output_type": "execute_result",
          "data": {
            "text/plain": [
              "5"
            ]
          },
          "metadata": {},
          "execution_count": 43
        }
      ]
    },
    {
      "cell_type": "code",
      "source": [
        "7 | 5 # 합\n",
        "\n",
        "# 111\n",
        "# 101\n",
        "#-----\n",
        "# 111"
      ],
      "metadata": {
        "colab": {
          "base_uri": "https://localhost:8080/"
        },
        "id": "C34XaWPhUvz3",
        "outputId": "8a413956-44c2-4ecf-e6ec-b0233ef256b1"
      },
      "execution_count": null,
      "outputs": [
        {
          "output_type": "execute_result",
          "data": {
            "text/plain": [
              "7"
            ]
          },
          "metadata": {},
          "execution_count": 44
        }
      ]
    },
    {
      "cell_type": "code",
      "source": [
        "14 | 7 \n",
        "\n",
        "# 1110\n",
        "# 0111\n",
        "#-----\n",
        "# 1111"
      ],
      "metadata": {
        "colab": {
          "base_uri": "https://localhost:8080/"
        },
        "id": "Lxh8togdU6-9",
        "outputId": "19dbb277-b30d-4112-a260-fe6ba7d9d417"
      },
      "execution_count": null,
      "outputs": [
        {
          "output_type": "execute_result",
          "data": {
            "text/plain": [
              "15"
            ]
          },
          "metadata": {},
          "execution_count": 45
        }
      ]
    },
    {
      "cell_type": "code",
      "source": [
        "# 8 bit\n",
        "# 00000000\n",
        "# 11111111\n",
        "\n",
        "# 256개\n",
        "# 0~255까지 사용? 음수 사용 불가!\n",
        "# 그래서 부호 비트를 사용하는데\n",
        "# ~는 비트단위로 전환을 하는 것입니다.\n",
        "\n",
        "# 00001010 (10) -> not을 취하게 되면\n",
        "# 11110110 (-10) -> 위와 숫자를 더하게 되면\n",
        "# 00000000\n",
        "\n",
        "print(~-10)\n",
        "print(~10)\n",
        "print(~~-10)\n",
        "# ~~-10.1   ## error - 이렇게 했을 경우에 10이 출력되는 언어도 있습니다."
      ],
      "metadata": {
        "colab": {
          "base_uri": "https://localhost:8080/"
        },
        "id": "Y7FVnqO3Wwg0",
        "outputId": "bc558847-e67b-4d3f-c0cc-abaf7b3f801a"
      },
      "execution_count": null,
      "outputs": [
        {
          "output_type": "stream",
          "name": "stdout",
          "text": [
            "9\n",
            "-11\n",
            "-10\n"
          ]
        }
      ]
    },
    {
      "cell_type": "code",
      "source": [
        "a = 7 # 111\n",
        "b = 2 \n",
        "\n",
        "print(a << b) # 11100\n",
        "print(a >> 2) # 1"
      ],
      "metadata": {
        "colab": {
          "base_uri": "https://localhost:8080/"
        },
        "id": "F1yp7WSFXmS-",
        "outputId": "ad8eaf72-0a76-4f7a-8158-2b34dcfc7480"
      },
      "execution_count": null,
      "outputs": [
        {
          "output_type": "stream",
          "name": "stdout",
          "text": [
            "28\n",
            "1\n"
          ]
        }
      ]
    },
    {
      "cell_type": "markdown",
      "source": [
        "## 아름다운 코드 (참고)"
      ],
      "metadata": {
        "id": "yQP3X_TpZ-Qa"
      }
    },
    {
      "cell_type": "code",
      "source": [
        "# 데이터 분석에서 쓰일만한 데코레이터\n",
        "def 숫자로변환(func):\n",
        "    def new_func(l):\n",
        "        print(func(list(map(int, l))))\n",
        "    return new_func\n",
        "\n",
        "@숫자로변환\n",
        "def 평균(l):\n",
        "    return sum(l) / len(l)\n",
        "\n",
        "평균([1, 2, 3, 4, 5])\n",
        "평균(['1', '2', '3', 4, 5])\n",
        "평균(['1', '2', '3', '4', '5'])"
      ],
      "metadata": {
        "colab": {
          "base_uri": "https://localhost:8080/"
        },
        "id": "9euKCmlpZ8W1",
        "outputId": "cd8528f0-f517-43ef-a11b-ae2363e56a77"
      },
      "execution_count": null,
      "outputs": [
        {
          "output_type": "stream",
          "name": "stdout",
          "text": [
            "3.0\n",
            "3.0\n",
            "3.0\n"
          ]
        }
      ]
    },
    {
      "cell_type": "code",
      "source": [
        "d = {'one':10, 'two':20, 'three':30}\n",
        "d.values()\n",
        "max(d.values())\n",
        "max(d, key=d.get)"
      ],
      "metadata": {
        "colab": {
          "base_uri": "https://localhost:8080/",
          "height": 35
        },
        "id": "K7QAVi63hPoB",
        "outputId": "378a14d6-6a76-4cf1-a4d8-61b8ae085664"
      },
      "execution_count": null,
      "outputs": [
        {
          "output_type": "execute_result",
          "data": {
            "text/plain": [
              "'three'"
            ],
            "application/vnd.google.colaboratory.intrinsic+json": {
              "type": "string"
            }
          },
          "metadata": {},
          "execution_count": 78
        }
      ]
    },
    {
      "cell_type": "markdown",
      "source": [
        "## 할당연산"
      ],
      "metadata": {
        "id": "izCVkR1YZh-C"
      }
    },
    {
      "cell_type": "code",
      "source": [
        "a = 10\n",
        "a += 10\n",
        "a"
      ],
      "metadata": {
        "colab": {
          "base_uri": "https://localhost:8080/"
        },
        "id": "sSwf63M_Zkfv",
        "outputId": "fc2a27e9-80f8-4bed-9488-7fe6a9c408e8"
      },
      "execution_count": null,
      "outputs": [
        {
          "output_type": "execute_result",
          "data": {
            "text/plain": [
              "20"
            ]
          },
          "metadata": {},
          "execution_count": 60
        }
      ]
    },
    {
      "cell_type": "markdown",
      "source": [
        "## 식별연산 (is)"
      ],
      "metadata": {
        "id": "Wj1F9LOAcRu6"
      }
    },
    {
      "cell_type": "code",
      "source": [
        "a = 10\n",
        "b = 10\n",
        "print(id(a), id(b))\n",
        "a is b"
      ],
      "metadata": {
        "colab": {
          "base_uri": "https://localhost:8080/"
        },
        "id": "brhkrbJCcUBn",
        "outputId": "2036b5f0-784c-4536-9036-6c60f9f56c89"
      },
      "execution_count": null,
      "outputs": [
        {
          "output_type": "stream",
          "name": "stdout",
          "text": [
            "139733349136976 139733349136976\n"
          ]
        },
        {
          "output_type": "execute_result",
          "data": {
            "text/plain": [
              "True"
            ]
          },
          "metadata": {},
          "execution_count": 64
        }
      ]
    },
    {
      "cell_type": "code",
      "source": [
        "a = 999\n",
        "b = 999\n",
        "print(id(a), id(b))\n",
        "a is b"
      ],
      "metadata": {
        "colab": {
          "base_uri": "https://localhost:8080/"
        },
        "id": "AZGLU-LQccad",
        "outputId": "d92dbc0f-3f25-44d6-94a6-1186415ccd23"
      },
      "execution_count": null,
      "outputs": [
        {
          "output_type": "stream",
          "name": "stdout",
          "text": [
            "139732082677424 139732082676144\n"
          ]
        },
        {
          "output_type": "execute_result",
          "data": {
            "text/plain": [
              "False"
            ]
          },
          "metadata": {},
          "execution_count": 63
        }
      ]
    },
    {
      "cell_type": "code",
      "source": [
        "a = [1,2,3]\n",
        "b = [1,2,3]\n",
        "print(id(a), id(b))\n",
        "a is b, a is not b"
      ],
      "metadata": {
        "colab": {
          "base_uri": "https://localhost:8080/"
        },
        "id": "9kfZfQEMcfIn",
        "outputId": "4f9c0fe3-0ec7-41ab-fd7b-e38627345712"
      },
      "execution_count": null,
      "outputs": [
        {
          "output_type": "stream",
          "name": "stdout",
          "text": [
            "139732084551744 139732082864832\n"
          ]
        },
        {
          "output_type": "execute_result",
          "data": {
            "text/plain": [
              "(False, True)"
            ]
          },
          "metadata": {},
          "execution_count": 67
        }
      ]
    },
    {
      "cell_type": "code",
      "source": [
        "a == b # 메모리 주소가 아니라 '값'만 비교하게 됩니다. -> 유저의 입장"
      ],
      "metadata": {
        "colab": {
          "base_uri": "https://localhost:8080/"
        },
        "id": "QmOiUui-cvHL",
        "outputId": "686b5174-5ff2-4dbf-b96c-ccee3c96403b"
      },
      "execution_count": null,
      "outputs": [
        {
          "output_type": "execute_result",
          "data": {
            "text/plain": [
              "True"
            ]
          },
          "metadata": {},
          "execution_count": 66
        }
      ]
    },
    {
      "cell_type": "code",
      "source": [
        "coffee = \"Brand\"\n",
        "orange = \"Brand\"\n",
        "\n",
        "print(coffee is orange)\n",
        "print(coffee == orange)"
      ],
      "metadata": {
        "colab": {
          "base_uri": "https://localhost:8080/"
        },
        "id": "o_VKPN76eNnr",
        "outputId": "34ee44d8-a1fb-428b-d01e-5a6f9c658ff7"
      },
      "execution_count": null,
      "outputs": [
        {
          "output_type": "stream",
          "name": "stdout",
          "text": [
            "True\n",
            "True\n"
          ]
        }
      ]
    },
    {
      "cell_type": "markdown",
      "source": [
        "\n",
        "## 멤버연산 (in)"
      ],
      "metadata": {
        "id": "T8JJrY1veGHl"
      }
    },
    {
      "cell_type": "code",
      "source": [
        "10 in [1, 2, 3]"
      ],
      "metadata": {
        "colab": {
          "base_uri": "https://localhost:8080/"
        },
        "id": "ig4G1K26eIj_",
        "outputId": "84039adf-8ab1-4c3e-962b-79565bafdb8c"
      },
      "execution_count": null,
      "outputs": [
        {
          "output_type": "execute_result",
          "data": {
            "text/plain": [
              "False"
            ]
          },
          "metadata": {},
          "execution_count": 69
        }
      ]
    },
    {
      "cell_type": "code",
      "source": [
        "10 in [1, 2, 3, 10]"
      ],
      "metadata": {
        "colab": {
          "base_uri": "https://localhost:8080/"
        },
        "id": "OP0HfG2zeSZC",
        "outputId": "47cead7f-f063-4572-f075-9785d878e7d9"
      },
      "execution_count": null,
      "outputs": [
        {
          "output_type": "execute_result",
          "data": {
            "text/plain": [
              "True"
            ]
          },
          "metadata": {},
          "execution_count": 70
        }
      ]
    },
    {
      "cell_type": "code",
      "source": [
        "'one' in {'one':10, 'two':20} # key로 찾을 수 있음"
      ],
      "metadata": {
        "colab": {
          "base_uri": "https://localhost:8080/"
        },
        "id": "9L63KCQieTTq",
        "outputId": "4f29257e-21b7-4c6f-8944-fa55f8eaea5c"
      },
      "execution_count": null,
      "outputs": [
        {
          "output_type": "execute_result",
          "data": {
            "text/plain": [
              "True"
            ]
          },
          "metadata": {},
          "execution_count": 73
        }
      ]
    },
    {
      "cell_type": "code",
      "source": [
        "20 in {'one':10, 'two':20} # value로 찾을 수 없음"
      ],
      "metadata": {
        "colab": {
          "base_uri": "https://localhost:8080/"
        },
        "id": "E85gcoyJecSM",
        "outputId": "ea6f45cb-497a-4c29-c263-340bef553205"
      },
      "execution_count": null,
      "outputs": [
        {
          "output_type": "execute_result",
          "data": {
            "text/plain": [
              "False"
            ]
          },
          "metadata": {},
          "execution_count": 72
        }
      ]
    },
    {
      "cell_type": "code",
      "source": [
        "'l' in 'hello'"
      ],
      "metadata": {
        "colab": {
          "base_uri": "https://localhost:8080/"
        },
        "id": "GGtOo0u3hAO3",
        "outputId": "7e3a8a78-5ace-4391-8cbf-087ab2f06481"
      },
      "execution_count": null,
      "outputs": [
        {
          "output_type": "execute_result",
          "data": {
            "text/plain": [
              "True"
            ]
          },
          "metadata": {},
          "execution_count": 74
        }
      ]
    },
    {
      "cell_type": "code",
      "source": [
        "10 in {10, 20, 30}"
      ],
      "metadata": {
        "colab": {
          "base_uri": "https://localhost:8080/"
        },
        "id": "JcP-_OeihEIq",
        "outputId": "1cf13b55-107a-4015-d5af-c01f6b70bc55"
      },
      "execution_count": null,
      "outputs": [
        {
          "output_type": "execute_result",
          "data": {
            "text/plain": [
              "True"
            ]
          },
          "metadata": {},
          "execution_count": 79
        }
      ]
    },
    {
      "cell_type": "code",
      "source": [
        "{10} in {10, 20, 30}"
      ],
      "metadata": {
        "colab": {
          "base_uri": "https://localhost:8080/"
        },
        "id": "IGe4VFtOikFz",
        "outputId": "8263fec3-ee42-4637-ddbd-1845d05913ba"
      },
      "execution_count": null,
      "outputs": [
        {
          "output_type": "execute_result",
          "data": {
            "text/plain": [
              "False"
            ]
          },
          "metadata": {},
          "execution_count": 80
        }
      ]
    },
    {
      "cell_type": "code",
      "source": [
        "{10, 20, 30} in {10, 20, 30}   # False\n",
        "\n",
        "{10, 20, 30} in [{10, 20, 30}] # True\n",
        "[10, 20, 30] in [[10, 20, 30]] # True\n",
        "[10, 20, 30] in [[10, 20, 30], 20, 30] # True"
      ],
      "metadata": {
        "colab": {
          "base_uri": "https://localhost:8080/"
        },
        "id": "PnbNfEb5inN-",
        "outputId": "1503432d-f3af-4fb8-8dd3-6e2236d90769"
      },
      "execution_count": null,
      "outputs": [
        {
          "output_type": "execute_result",
          "data": {
            "text/plain": [
              "True"
            ]
          },
          "metadata": {},
          "execution_count": 18
        }
      ]
    },
    {
      "cell_type": "code",
      "source": [
        "{10, 20}.issubset({10, 20, 30})\n",
        "{10, 20, 30}.issubset({10, 20, 30})"
      ],
      "metadata": {
        "colab": {
          "base_uri": "https://localhost:8080/"
        },
        "id": "dnvB192BqPdG",
        "outputId": "d4f95ae2-c16b-44bb-9acb-8c8d5ea9019c"
      },
      "execution_count": null,
      "outputs": [
        {
          "output_type": "execute_result",
          "data": {
            "text/plain": [
              "True"
            ]
          },
          "metadata": {},
          "execution_count": 21
        }
      ]
    },
    {
      "cell_type": "code",
      "source": [
        "a={'key':'value', 'key2':'value'}\n",
        "'key' in a"
      ],
      "metadata": {
        "colab": {
          "base_uri": "https://localhost:8080/"
        },
        "id": "Di1BWHaEipyS",
        "outputId": "ebb677ef-447e-4339-cd08-6f37abd62344"
      },
      "execution_count": null,
      "outputs": [
        {
          "output_type": "execute_result",
          "data": {
            "text/plain": [
              "True"
            ]
          },
          "metadata": {},
          "execution_count": 84
        }
      ]
    },
    {
      "cell_type": "markdown",
      "source": [
        "## 그리디 알고리즘\n",
        "\n",
        "- 욕심쟁이 알고리즘이라고도 불립니다.\n",
        "- 가장 최선을 선택한 것이 최종적으로도 가장 최선의 선택임"
      ],
      "metadata": {
        "id": "XmvA5V0ijro9"
      }
    },
    {
      "cell_type": "code",
      "source": [
        "# 입력한 금액을 5000원, 1000원, 500원, 100원으로 교환하는 프로그램을 만들어주세요.\n",
        "\n",
        "money = int(input())\n",
        "\n",
        "num_5000 = money // 5000 # 몫\n",
        "money %= 5000            # 나머지\n",
        "# money = money - num_5000 * 5000\n",
        "\n",
        "num_1000 = money // 1000\n",
        "money %= 1000\n",
        "\n",
        "num_500 = money // 500\n",
        "money %= 500\n",
        "\n",
        "num_100 = money // 100\n",
        "money %= 100\n",
        "\n",
        "print(f'오천원은 {num_5000}개, \\\n",
        "천원은 {num_1000}개, \\\n",
        "오백원은 {num_500}개, \\\n",
        "백원은 {num_100}개를 거슬러 드립니다.')"
      ],
      "metadata": {
        "id": "CE057Qw0ji1o",
        "colab": {
          "base_uri": "https://localhost:8080/"
        },
        "outputId": "59fb8185-54f3-42db-f70a-56b7c83abb9d"
      },
      "execution_count": 60,
      "outputs": [
        {
          "output_type": "stream",
          "name": "stdout",
          "text": [
            "8800\n",
            "오천원은 1개, 천원은 3개, 오백원은 1개, 백원은 3개를 거슬러 드립니다.\n"
          ]
        }
      ]
    }
  ]
}