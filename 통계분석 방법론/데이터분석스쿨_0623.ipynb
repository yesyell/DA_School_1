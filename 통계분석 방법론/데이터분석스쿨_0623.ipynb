{
  "nbformat": 4,
  "nbformat_minor": 0,
  "metadata": {
    "colab": {
      "provenance": [],
      "authorship_tag": "ABX9TyMgFkTAE1ljdwYqWWHXBBpx",
      "include_colab_link": true
    },
    "kernelspec": {
      "name": "python3",
      "display_name": "Python 3"
    },
    "language_info": {
      "name": "python"
    }
  },
  "cells": [
    {
      "cell_type": "markdown",
      "metadata": {
        "id": "view-in-github",
        "colab_type": "text"
      },
      "source": [
        "<a href=\"https://colab.research.google.com/github/yesyell/DA_School_1/blob/main/%ED%86%B5%EA%B3%84%EB%B6%84%EC%84%9D%20%EB%B0%A9%EB%B2%95%EB%A1%A0/%EB%8D%B0%EC%9D%B4%ED%84%B0%EB%B6%84%EC%84%9D%EC%8A%A4%EC%BF%A8_0623.ipynb\" target=\"_parent\"><img src=\"https://colab.research.google.com/assets/colab-badge.svg\" alt=\"Open In Colab\"/></a>"
      ]
    },
    {
      "cell_type": "markdown",
      "source": [
        "#기초\n",
        "[데이터의 유형(실습)](https://happydata1510.notion.site/3-7f061312143a4113be4caddd5cab8c0e)"
      ],
      "metadata": {
        "id": "DHY6zURT69Ls"
      }
    },
    {
      "cell_type": "code",
      "execution_count": 1,
      "metadata": {
        "colab": {
          "base_uri": "https://localhost:8080/",
          "height": 363
        },
        "id": "Xj1VuDVqpob7",
        "outputId": "1f619653-461e-4f03-a34d-817723c5d46a"
      },
      "outputs": [
        {
          "output_type": "execute_result",
          "data": {
            "text/plain": [
              "  학생번호  학년  영어  국어  수학  전체성적  전체성적순위\n",
              "0  008   2  86  97  90   273       1\n",
              "1  010   1  98  84  83   265       2\n",
              "2  009   3  88  99  68   255       3\n",
              "3  001   2  98  84  67   249       4\n",
              "4  005   1  61  95  91   247       5\n",
              "5  004   3  84  91  63   238       6\n",
              "6  002   1  71  76  82   229       7\n",
              "7  003   3  86  70  69   225       8\n",
              "8  007   1  65  95  60   220       9\n",
              "9  006   3  79  61  69   209      10"
            ],
            "text/html": [
              "\n",
              "  <div id=\"df-fbb02b93-dc26-4285-ade8-1699ab7d6966\">\n",
              "    <div class=\"colab-df-container\">\n",
              "      <div>\n",
              "<style scoped>\n",
              "    .dataframe tbody tr th:only-of-type {\n",
              "        vertical-align: middle;\n",
              "    }\n",
              "\n",
              "    .dataframe tbody tr th {\n",
              "        vertical-align: top;\n",
              "    }\n",
              "\n",
              "    .dataframe thead th {\n",
              "        text-align: right;\n",
              "    }\n",
              "</style>\n",
              "<table border=\"1\" class=\"dataframe\">\n",
              "  <thead>\n",
              "    <tr style=\"text-align: right;\">\n",
              "      <th></th>\n",
              "      <th>학생번호</th>\n",
              "      <th>학년</th>\n",
              "      <th>영어</th>\n",
              "      <th>국어</th>\n",
              "      <th>수학</th>\n",
              "      <th>전체성적</th>\n",
              "      <th>전체성적순위</th>\n",
              "    </tr>\n",
              "  </thead>\n",
              "  <tbody>\n",
              "    <tr>\n",
              "      <th>0</th>\n",
              "      <td>008</td>\n",
              "      <td>2</td>\n",
              "      <td>86</td>\n",
              "      <td>97</td>\n",
              "      <td>90</td>\n",
              "      <td>273</td>\n",
              "      <td>1</td>\n",
              "    </tr>\n",
              "    <tr>\n",
              "      <th>1</th>\n",
              "      <td>010</td>\n",
              "      <td>1</td>\n",
              "      <td>98</td>\n",
              "      <td>84</td>\n",
              "      <td>83</td>\n",
              "      <td>265</td>\n",
              "      <td>2</td>\n",
              "    </tr>\n",
              "    <tr>\n",
              "      <th>2</th>\n",
              "      <td>009</td>\n",
              "      <td>3</td>\n",
              "      <td>88</td>\n",
              "      <td>99</td>\n",
              "      <td>68</td>\n",
              "      <td>255</td>\n",
              "      <td>3</td>\n",
              "    </tr>\n",
              "    <tr>\n",
              "      <th>3</th>\n",
              "      <td>001</td>\n",
              "      <td>2</td>\n",
              "      <td>98</td>\n",
              "      <td>84</td>\n",
              "      <td>67</td>\n",
              "      <td>249</td>\n",
              "      <td>4</td>\n",
              "    </tr>\n",
              "    <tr>\n",
              "      <th>4</th>\n",
              "      <td>005</td>\n",
              "      <td>1</td>\n",
              "      <td>61</td>\n",
              "      <td>95</td>\n",
              "      <td>91</td>\n",
              "      <td>247</td>\n",
              "      <td>5</td>\n",
              "    </tr>\n",
              "    <tr>\n",
              "      <th>5</th>\n",
              "      <td>004</td>\n",
              "      <td>3</td>\n",
              "      <td>84</td>\n",
              "      <td>91</td>\n",
              "      <td>63</td>\n",
              "      <td>238</td>\n",
              "      <td>6</td>\n",
              "    </tr>\n",
              "    <tr>\n",
              "      <th>6</th>\n",
              "      <td>002</td>\n",
              "      <td>1</td>\n",
              "      <td>71</td>\n",
              "      <td>76</td>\n",
              "      <td>82</td>\n",
              "      <td>229</td>\n",
              "      <td>7</td>\n",
              "    </tr>\n",
              "    <tr>\n",
              "      <th>7</th>\n",
              "      <td>003</td>\n",
              "      <td>3</td>\n",
              "      <td>86</td>\n",
              "      <td>70</td>\n",
              "      <td>69</td>\n",
              "      <td>225</td>\n",
              "      <td>8</td>\n",
              "    </tr>\n",
              "    <tr>\n",
              "      <th>8</th>\n",
              "      <td>007</td>\n",
              "      <td>1</td>\n",
              "      <td>65</td>\n",
              "      <td>95</td>\n",
              "      <td>60</td>\n",
              "      <td>220</td>\n",
              "      <td>9</td>\n",
              "    </tr>\n",
              "    <tr>\n",
              "      <th>9</th>\n",
              "      <td>006</td>\n",
              "      <td>3</td>\n",
              "      <td>79</td>\n",
              "      <td>61</td>\n",
              "      <td>69</td>\n",
              "      <td>209</td>\n",
              "      <td>10</td>\n",
              "    </tr>\n",
              "  </tbody>\n",
              "</table>\n",
              "</div>\n",
              "      <button class=\"colab-df-convert\" onclick=\"convertToInteractive('df-fbb02b93-dc26-4285-ade8-1699ab7d6966')\"\n",
              "              title=\"Convert this dataframe to an interactive table.\"\n",
              "              style=\"display:none;\">\n",
              "        \n",
              "  <svg xmlns=\"http://www.w3.org/2000/svg\" height=\"24px\"viewBox=\"0 0 24 24\"\n",
              "       width=\"24px\">\n",
              "    <path d=\"M0 0h24v24H0V0z\" fill=\"none\"/>\n",
              "    <path d=\"M18.56 5.44l.94 2.06.94-2.06 2.06-.94-2.06-.94-.94-2.06-.94 2.06-2.06.94zm-11 1L8.5 8.5l.94-2.06 2.06-.94-2.06-.94L8.5 2.5l-.94 2.06-2.06.94zm10 10l.94 2.06.94-2.06 2.06-.94-2.06-.94-.94-2.06-.94 2.06-2.06.94z\"/><path d=\"M17.41 7.96l-1.37-1.37c-.4-.4-.92-.59-1.43-.59-.52 0-1.04.2-1.43.59L10.3 9.45l-7.72 7.72c-.78.78-.78 2.05 0 2.83L4 21.41c.39.39.9.59 1.41.59.51 0 1.02-.2 1.41-.59l7.78-7.78 2.81-2.81c.8-.78.8-2.07 0-2.86zM5.41 20L4 18.59l7.72-7.72 1.47 1.35L5.41 20z\"/>\n",
              "  </svg>\n",
              "      </button>\n",
              "      \n",
              "  <style>\n",
              "    .colab-df-container {\n",
              "      display:flex;\n",
              "      flex-wrap:wrap;\n",
              "      gap: 12px;\n",
              "    }\n",
              "\n",
              "    .colab-df-convert {\n",
              "      background-color: #E8F0FE;\n",
              "      border: none;\n",
              "      border-radius: 50%;\n",
              "      cursor: pointer;\n",
              "      display: none;\n",
              "      fill: #1967D2;\n",
              "      height: 32px;\n",
              "      padding: 0 0 0 0;\n",
              "      width: 32px;\n",
              "    }\n",
              "\n",
              "    .colab-df-convert:hover {\n",
              "      background-color: #E2EBFA;\n",
              "      box-shadow: 0px 1px 2px rgba(60, 64, 67, 0.3), 0px 1px 3px 1px rgba(60, 64, 67, 0.15);\n",
              "      fill: #174EA6;\n",
              "    }\n",
              "\n",
              "    [theme=dark] .colab-df-convert {\n",
              "      background-color: #3B4455;\n",
              "      fill: #D2E3FC;\n",
              "    }\n",
              "\n",
              "    [theme=dark] .colab-df-convert:hover {\n",
              "      background-color: #434B5C;\n",
              "      box-shadow: 0px 1px 3px 1px rgba(0, 0, 0, 0.15);\n",
              "      filter: drop-shadow(0px 1px 2px rgba(0, 0, 0, 0.3));\n",
              "      fill: #FFFFFF;\n",
              "    }\n",
              "  </style>\n",
              "\n",
              "      <script>\n",
              "        const buttonEl =\n",
              "          document.querySelector('#df-fbb02b93-dc26-4285-ade8-1699ab7d6966 button.colab-df-convert');\n",
              "        buttonEl.style.display =\n",
              "          google.colab.kernel.accessAllowed ? 'block' : 'none';\n",
              "\n",
              "        async function convertToInteractive(key) {\n",
              "          const element = document.querySelector('#df-fbb02b93-dc26-4285-ade8-1699ab7d6966');\n",
              "          const dataTable =\n",
              "            await google.colab.kernel.invokeFunction('convertToInteractive',\n",
              "                                                     [key], {});\n",
              "          if (!dataTable) return;\n",
              "\n",
              "          const docLinkHtml = 'Like what you see? Visit the ' +\n",
              "            '<a target=\"_blank\" href=https://colab.research.google.com/notebooks/data_table.ipynb>data table notebook</a>'\n",
              "            + ' to learn more about interactive tables.';\n",
              "          element.innerHTML = '';\n",
              "          dataTable['output_type'] = 'display_data';\n",
              "          await google.colab.output.renderOutput(dataTable, element);\n",
              "          const docLink = document.createElement('div');\n",
              "          docLink.innerHTML = docLinkHtml;\n",
              "          element.appendChild(docLink);\n",
              "        }\n",
              "      </script>\n",
              "    </div>\n",
              "  </div>\n",
              "  "
            ]
          },
          "metadata": {},
          "execution_count": 1
        }
      ],
      "source": [
        "import random\n",
        "import pandas as pd\n",
        "\n",
        "# 학생 데이터 생성\n",
        "def generate_student_data(num_students):\n",
        "    student_data = []\n",
        "    for i in range(1, num_students+1):\n",
        "        student_number = f'{i:03}'  # 학생번호 생성 (예: 001, 002, ...)\n",
        "        grade = random.randint(1, 3)  # 학년 랜덤 생성 (1~3 중 선택)\n",
        "        english_score = random.randint(60, 100)  # 영어 점수 랜덤 생성 (60~100 사이)\n",
        "        korean_score = random.randint(60, 100)  # 국어 점수 랜덤 생성 (60~100 사이)\n",
        "        math_score = random.randint(60, 100)  # 수학 점수 랜덤 생성 (60~100 사이)\n",
        "        total_score = english_score + korean_score + math_score  # 전체 성적 계산\n",
        "\n",
        "        student_data.append([\n",
        "            student_number,\n",
        "            grade,\n",
        "            english_score,\n",
        "            korean_score,\n",
        "            math_score,\n",
        "            total_score\n",
        "        ])\n",
        "\n",
        "    # 전체 성적에 따라 순위 매기기\n",
        "    student_data = sorted(student_data, key=lambda x: x[5], reverse=True)\n",
        "    for i, student in enumerate(student_data):\n",
        "        student.append(i + 1)\n",
        "\n",
        "    return student_data\n",
        "\n",
        "# 10명의 학생 데이터 생성\n",
        "students = generate_student_data(10)\n",
        "\n",
        "# 데이터프레임 생성\n",
        "df = pd.DataFrame(students, columns=['학생번호', '학년', '영어', '국어', '수학', '전체성적', '전체성적순위'])\n",
        "\n",
        "# 생성된 데이터프레임 출력\n",
        "df"
      ]
    },
    {
      "cell_type": "code",
      "source": [
        "# 영어 성적에 대해 출력\n",
        "df['영어']"
      ],
      "metadata": {
        "id": "kmDuGG8ip5-x",
        "colab": {
          "base_uri": "https://localhost:8080/"
        },
        "outputId": "28ca0ca9-322d-434e-b901-a630f457e033"
      },
      "execution_count": 2,
      "outputs": [
        {
          "output_type": "execute_result",
          "data": {
            "text/plain": [
              "0    86\n",
              "1    98\n",
              "2    88\n",
              "3    98\n",
              "4    61\n",
              "5    84\n",
              "6    71\n",
              "7    86\n",
              "8    65\n",
              "9    79\n",
              "Name: 영어, dtype: int64"
            ]
          },
          "metadata": {},
          "execution_count": 2
        }
      ]
    },
    {
      "cell_type": "markdown",
      "source": [
        "DataFrame은 2차원, Series는 1차원의 데이터 구조\n",
        "가끔 데이터 구조로 인해 분석 시 오류가 나는 경우가 있는데 이러한 데이터 구조를 잘 파악해야 합니다."
      ],
      "metadata": {
        "id": "No992UlysEpd"
      }
    },
    {
      "cell_type": "markdown",
      "source": [
        "데이터의 크기를 살펴보지 않고 무턱대고 실행시키거나 분석을 들어가면 다음과 같은 오류에 빠질 수 있음\n",
        "- 데이터의 크기가 커서 컴퓨터나 시스템 다운\n",
        "- 분석을 처음했을 때와 마지막 했을 때의 데이터 수가 다름\n",
        "- 내가 필요한 변수나 자료가 없는 상태로 분석 진행"
      ],
      "metadata": {
        "id": "rzuR75NYrgcR"
      }
    },
    {
      "cell_type": "code",
      "source": [
        "# 데이터의 크기 shape\n",
        "df.shape\n",
        "# (데이터에 대한 수, 변수에 대한 수)"
      ],
      "metadata": {
        "colab": {
          "base_uri": "https://localhost:8080/"
        },
        "id": "iIwqfYqkriwN",
        "outputId": "45b53fee-1303-4da3-dbdb-fda707736758"
      },
      "execution_count": 3,
      "outputs": [
        {
          "output_type": "execute_result",
          "data": {
            "text/plain": [
              "(10, 7)"
            ]
          },
          "metadata": {},
          "execution_count": 3
        }
      ]
    },
    {
      "cell_type": "markdown",
      "source": [
        "## 데이터 중심 지표\n",
        "데이터의 특징을 파악하는데는 두가지 방법이 있습니다.\n",
        "- 하나는 평균과 분산등의 수치 지표에 따라 데이터를 요약하는 방법\n",
        "- 하나는 그림을 그려 시각화 하는 방법"
      ],
      "metadata": {
        "id": "GTD_4yeMuPV3"
      }
    },
    {
      "cell_type": "code",
      "source": [
        "import numpy as np\n",
        "import pandas as pd"
      ],
      "metadata": {
        "id": "7qQZxDDLsBbl"
      },
      "execution_count": 4,
      "outputs": []
    },
    {
      "cell_type": "code",
      "source": [
        "# array를 사용하면 조금 더 빠른 수학 연산들을 할 수 있음\n",
        "scores = np.array(df['영어'])[:10]\n",
        "scores"
      ],
      "metadata": {
        "colab": {
          "base_uri": "https://localhost:8080/"
        },
        "id": "5iOJ8vRmsQt6",
        "outputId": "fe027355-f2eb-40e9-eaf2-8eb2a1aa5632"
      },
      "execution_count": 5,
      "outputs": [
        {
          "output_type": "execute_result",
          "data": {
            "text/plain": [
              "array([86, 98, 88, 98, 61, 84, 71, 86, 65, 79])"
            ]
          },
          "metadata": {},
          "execution_count": 5
        }
      ]
    },
    {
      "cell_type": "code",
      "source": [
        "# 이를 데이터 프레임으로 따로 구성하고 싶다면 다음과 같이 변경할 수 있음\n",
        "scores_df = pd.DataFrame({'score': scores},\n",
        "                         index=pd.Index(df.index, name='stundent_num'))\n",
        "scores_df"
      ],
      "metadata": {
        "colab": {
          "base_uri": "https://localhost:8080/",
          "height": 394
        },
        "id": "MtKWWOdIsYCH",
        "outputId": "92d5252d-a4f7-4aaa-9768-8cbf21090ffd"
      },
      "execution_count": 6,
      "outputs": [
        {
          "output_type": "execute_result",
          "data": {
            "text/plain": [
              "              score\n",
              "stundent_num       \n",
              "0                86\n",
              "1                98\n",
              "2                88\n",
              "3                98\n",
              "4                61\n",
              "5                84\n",
              "6                71\n",
              "7                86\n",
              "8                65\n",
              "9                79"
            ],
            "text/html": [
              "\n",
              "  <div id=\"df-12d5c193-c04e-464f-b4e1-75b410b0c1f9\">\n",
              "    <div class=\"colab-df-container\">\n",
              "      <div>\n",
              "<style scoped>\n",
              "    .dataframe tbody tr th:only-of-type {\n",
              "        vertical-align: middle;\n",
              "    }\n",
              "\n",
              "    .dataframe tbody tr th {\n",
              "        vertical-align: top;\n",
              "    }\n",
              "\n",
              "    .dataframe thead th {\n",
              "        text-align: right;\n",
              "    }\n",
              "</style>\n",
              "<table border=\"1\" class=\"dataframe\">\n",
              "  <thead>\n",
              "    <tr style=\"text-align: right;\">\n",
              "      <th></th>\n",
              "      <th>score</th>\n",
              "    </tr>\n",
              "    <tr>\n",
              "      <th>stundent_num</th>\n",
              "      <th></th>\n",
              "    </tr>\n",
              "  </thead>\n",
              "  <tbody>\n",
              "    <tr>\n",
              "      <th>0</th>\n",
              "      <td>86</td>\n",
              "    </tr>\n",
              "    <tr>\n",
              "      <th>1</th>\n",
              "      <td>98</td>\n",
              "    </tr>\n",
              "    <tr>\n",
              "      <th>2</th>\n",
              "      <td>88</td>\n",
              "    </tr>\n",
              "    <tr>\n",
              "      <th>3</th>\n",
              "      <td>98</td>\n",
              "    </tr>\n",
              "    <tr>\n",
              "      <th>4</th>\n",
              "      <td>61</td>\n",
              "    </tr>\n",
              "    <tr>\n",
              "      <th>5</th>\n",
              "      <td>84</td>\n",
              "    </tr>\n",
              "    <tr>\n",
              "      <th>6</th>\n",
              "      <td>71</td>\n",
              "    </tr>\n",
              "    <tr>\n",
              "      <th>7</th>\n",
              "      <td>86</td>\n",
              "    </tr>\n",
              "    <tr>\n",
              "      <th>8</th>\n",
              "      <td>65</td>\n",
              "    </tr>\n",
              "    <tr>\n",
              "      <th>9</th>\n",
              "      <td>79</td>\n",
              "    </tr>\n",
              "  </tbody>\n",
              "</table>\n",
              "</div>\n",
              "      <button class=\"colab-df-convert\" onclick=\"convertToInteractive('df-12d5c193-c04e-464f-b4e1-75b410b0c1f9')\"\n",
              "              title=\"Convert this dataframe to an interactive table.\"\n",
              "              style=\"display:none;\">\n",
              "        \n",
              "  <svg xmlns=\"http://www.w3.org/2000/svg\" height=\"24px\"viewBox=\"0 0 24 24\"\n",
              "       width=\"24px\">\n",
              "    <path d=\"M0 0h24v24H0V0z\" fill=\"none\"/>\n",
              "    <path d=\"M18.56 5.44l.94 2.06.94-2.06 2.06-.94-2.06-.94-.94-2.06-.94 2.06-2.06.94zm-11 1L8.5 8.5l.94-2.06 2.06-.94-2.06-.94L8.5 2.5l-.94 2.06-2.06.94zm10 10l.94 2.06.94-2.06 2.06-.94-2.06-.94-.94-2.06-.94 2.06-2.06.94z\"/><path d=\"M17.41 7.96l-1.37-1.37c-.4-.4-.92-.59-1.43-.59-.52 0-1.04.2-1.43.59L10.3 9.45l-7.72 7.72c-.78.78-.78 2.05 0 2.83L4 21.41c.39.39.9.59 1.41.59.51 0 1.02-.2 1.41-.59l7.78-7.78 2.81-2.81c.8-.78.8-2.07 0-2.86zM5.41 20L4 18.59l7.72-7.72 1.47 1.35L5.41 20z\"/>\n",
              "  </svg>\n",
              "      </button>\n",
              "      \n",
              "  <style>\n",
              "    .colab-df-container {\n",
              "      display:flex;\n",
              "      flex-wrap:wrap;\n",
              "      gap: 12px;\n",
              "    }\n",
              "\n",
              "    .colab-df-convert {\n",
              "      background-color: #E8F0FE;\n",
              "      border: none;\n",
              "      border-radius: 50%;\n",
              "      cursor: pointer;\n",
              "      display: none;\n",
              "      fill: #1967D2;\n",
              "      height: 32px;\n",
              "      padding: 0 0 0 0;\n",
              "      width: 32px;\n",
              "    }\n",
              "\n",
              "    .colab-df-convert:hover {\n",
              "      background-color: #E2EBFA;\n",
              "      box-shadow: 0px 1px 2px rgba(60, 64, 67, 0.3), 0px 1px 3px 1px rgba(60, 64, 67, 0.15);\n",
              "      fill: #174EA6;\n",
              "    }\n",
              "\n",
              "    [theme=dark] .colab-df-convert {\n",
              "      background-color: #3B4455;\n",
              "      fill: #D2E3FC;\n",
              "    }\n",
              "\n",
              "    [theme=dark] .colab-df-convert:hover {\n",
              "      background-color: #434B5C;\n",
              "      box-shadow: 0px 1px 3px 1px rgba(0, 0, 0, 0.15);\n",
              "      filter: drop-shadow(0px 1px 2px rgba(0, 0, 0, 0.3));\n",
              "      fill: #FFFFFF;\n",
              "    }\n",
              "  </style>\n",
              "\n",
              "      <script>\n",
              "        const buttonEl =\n",
              "          document.querySelector('#df-12d5c193-c04e-464f-b4e1-75b410b0c1f9 button.colab-df-convert');\n",
              "        buttonEl.style.display =\n",
              "          google.colab.kernel.accessAllowed ? 'block' : 'none';\n",
              "\n",
              "        async function convertToInteractive(key) {\n",
              "          const element = document.querySelector('#df-12d5c193-c04e-464f-b4e1-75b410b0c1f9');\n",
              "          const dataTable =\n",
              "            await google.colab.kernel.invokeFunction('convertToInteractive',\n",
              "                                                     [key], {});\n",
              "          if (!dataTable) return;\n",
              "\n",
              "          const docLinkHtml = 'Like what you see? Visit the ' +\n",
              "            '<a target=\"_blank\" href=https://colab.research.google.com/notebooks/data_table.ipynb>data table notebook</a>'\n",
              "            + ' to learn more about interactive tables.';\n",
              "          element.innerHTML = '';\n",
              "          dataTable['output_type'] = 'display_data';\n",
              "          await google.colab.output.renderOutput(dataTable, element);\n",
              "          const docLink = document.createElement('div');\n",
              "          docLink.innerHTML = docLinkHtml;\n",
              "          element.appendChild(docLink);\n",
              "        }\n",
              "      </script>\n",
              "    </div>\n",
              "  </div>\n",
              "  "
            ]
          },
          "metadata": {},
          "execution_count": 6
        }
      ]
    },
    {
      "cell_type": "markdown",
      "source": [
        "### 평균값 mean\n",
        "데이터를 하나의 값으로 요약한 지표이며, 대표값으로 불립니다. 평균값의 경우 데이터의 전반적인 중간값을 알 수 있는 척도이지만 분산 이나 그래프가 없이 평균만 보고 판단할 경우 상당한 데이터적 오류에 빠질 수 있으니 주의해야합니다."
      ],
      "metadata": {
        "id": "ZKN5ED8fuR0p"
      }
    },
    {
      "cell_type": "code",
      "source": [
        "sum(scores)/len(scores)"
      ],
      "metadata": {
        "colab": {
          "base_uri": "https://localhost:8080/"
        },
        "id": "7lBD3N7Ys519",
        "outputId": "abd94276-edeb-42ba-ea08-d2960041d938"
      },
      "execution_count": 7,
      "outputs": [
        {
          "output_type": "execute_result",
          "data": {
            "text/plain": [
              "81.6"
            ]
          },
          "metadata": {},
          "execution_count": 7
        }
      ]
    },
    {
      "cell_type": "code",
      "source": [
        "np.mean(scores) # numpy"
      ],
      "metadata": {
        "colab": {
          "base_uri": "https://localhost:8080/"
        },
        "id": "mf8zT_Jkuj59",
        "outputId": "7c21d21d-7af7-482e-815b-4f9f7c85689f"
      },
      "execution_count": 8,
      "outputs": [
        {
          "output_type": "execute_result",
          "data": {
            "text/plain": [
              "81.6"
            ]
          },
          "metadata": {},
          "execution_count": 8
        }
      ]
    },
    {
      "cell_type": "code",
      "source": [
        "scores_df.mean() # pandas"
      ],
      "metadata": {
        "colab": {
          "base_uri": "https://localhost:8080/"
        },
        "id": "hQMyqVJfumoz",
        "outputId": "a8d63fe8-2adf-433d-b503-152974bf6275"
      },
      "execution_count": 9,
      "outputs": [
        {
          "output_type": "execute_result",
          "data": {
            "text/plain": [
              "score    81.6\n",
              "dtype: float64"
            ]
          },
          "metadata": {},
          "execution_count": 9
        }
      ]
    },
    {
      "cell_type": "markdown",
      "source": [
        "###중앙값 median\n",
        "- 중앙값은 크기 순서대로 나열할때 정확하게 중앙에 위치한 값입니다. 예를 들어 1,2,3,4,5라는 데이터가 있으면 3이 중앙값이 됩니다.\n",
        "- 중앙값은 이상치에 영향을 덜받는 특징이 있습니다. [1,2,3,4,5,1000] 이라는 데이터가 있는 경우 평균과 중앙값의 차이는 어마어마하게 나게 됩니다.\n",
        "- 중앙값은 꼭 데이터안에 있는 수를 표현하지 않아도 됩니다. 예를 들어 [1,2,3,4,5,6]이라는 데이터가 있는 경우 중앙값은 3.5입니다."
      ],
      "metadata": {
        "id": "wBl5hTvDvPvw"
      }
    },
    {
      "cell_type": "code",
      "source": [
        "scores"
      ],
      "metadata": {
        "colab": {
          "base_uri": "https://localhost:8080/"
        },
        "id": "wSiWTO9Ov7jR",
        "outputId": "0748a6ca-64d4-48e6-fbd2-8f935e2e5e3b"
      },
      "execution_count": 10,
      "outputs": [
        {
          "output_type": "execute_result",
          "data": {
            "text/plain": [
              "array([86, 98, 88, 98, 61, 84, 71, 86, 65, 79])"
            ]
          },
          "metadata": {},
          "execution_count": 10
        }
      ]
    },
    {
      "cell_type": "code",
      "source": [
        "# 중앙값 계산\n",
        "# 데이터의 개수가 홀수면 (n+1)/2 번째 데이터가 중앙값\n",
        "# 데이터의 개수가 짝수면 n/2번째 데이터와 n/2+1번째 데이터의 평균이 중앙값\n",
        "sorted_scores = np.sort(scores)\n",
        "sorted_scores"
      ],
      "metadata": {
        "colab": {
          "base_uri": "https://localhost:8080/"
        },
        "id": "XzjiheTnuqwO",
        "outputId": "1a5d95c3-2af4-49c7-a3c5-f3524cad0110"
      },
      "execution_count": 11,
      "outputs": [
        {
          "output_type": "execute_result",
          "data": {
            "text/plain": [
              "array([61, 65, 71, 79, 84, 86, 86, 88, 98, 98])"
            ]
          },
          "metadata": {},
          "execution_count": 11
        }
      ]
    },
    {
      "cell_type": "code",
      "source": [
        "# 중앙값의 정의대로 코드를 작성하면 다음과 같이 됩니다.\n",
        "# 주의점 : 파이썬은 0부터 시작하기 때문에 - 1을 해야합니다.\n",
        "n = len(sorted_scores)\n",
        "if n % 2 == 0:\n",
        "  m0 = sorted_scores[n//2 - 1]\n",
        "  m1 = sorted_scores[n//2]\n",
        "  median = (m0 + m1) / 2\n",
        "else:\n",
        "  median = sorted_scores[(n+1)//2 - 1]\n",
        "\n",
        "print(median)"
      ],
      "metadata": {
        "colab": {
          "base_uri": "https://localhost:8080/"
        },
        "id": "VpX71XqowKv0",
        "outputId": "b7ed439f-6e3f-4dc0-e1ad-e5823f0d608e"
      },
      "execution_count": 12,
      "outputs": [
        {
          "output_type": "stream",
          "name": "stdout",
          "text": [
            "85.0\n"
          ]
        }
      ]
    },
    {
      "cell_type": "code",
      "source": [
        "np.median(scores)"
      ],
      "metadata": {
        "colab": {
          "base_uri": "https://localhost:8080/"
        },
        "id": "q_XXX26gwVMB",
        "outputId": "f9a733ab-1bf6-4dc2-dd1a-d80d8df36401"
      },
      "execution_count": 13,
      "outputs": [
        {
          "output_type": "execute_result",
          "data": {
            "text/plain": [
              "85.0"
            ]
          },
          "metadata": {},
          "execution_count": 13
        }
      ]
    },
    {
      "cell_type": "code",
      "source": [
        "scores_df.median()"
      ],
      "metadata": {
        "colab": {
          "base_uri": "https://localhost:8080/"
        },
        "id": "aaEGXWoKweWg",
        "outputId": "1852dabf-4898-4603-c037-87243882159e"
      },
      "execution_count": 14,
      "outputs": [
        {
          "output_type": "execute_result",
          "data": {
            "text/plain": [
              "score    85.0\n",
              "dtype: float64"
            ]
          },
          "metadata": {},
          "execution_count": 14
        }
      ]
    },
    {
      "cell_type": "markdown",
      "source": [
        "### 최빈값 mode\n",
        "최빈값은 데이터에서 가장 많이 나타나는 값입니다. 최빈값을 사용하면 데이터가 중간값이 많은지, 극단값이 많은지, Null값이나 특이값이 많은지를 파악할 수 있습니다."
      ],
      "metadata": {
        "id": "Tgo2zaycwsKc"
      }
    },
    {
      "cell_type": "code",
      "source": [
        "# 최빈값 산출\n",
        "pd.Series([1,1,1,2,2,3]).mode()"
      ],
      "metadata": {
        "colab": {
          "base_uri": "https://localhost:8080/"
        },
        "id": "pK8gwK22wqpC",
        "outputId": "ad3132a3-b44f-481e-ace4-d90585217ffa"
      },
      "execution_count": 15,
      "outputs": [
        {
          "output_type": "execute_result",
          "data": {
            "text/plain": [
              "0    1\n",
              "dtype: int64"
            ]
          },
          "metadata": {},
          "execution_count": 15
        }
      ]
    },
    {
      "cell_type": "code",
      "source": [
        "pd.Series([1,2,3,4,5]).mode()"
      ],
      "metadata": {
        "colab": {
          "base_uri": "https://localhost:8080/"
        },
        "id": "ZiDnld6gw4_A",
        "outputId": "240f435e-4a96-450f-e5b6-ee04de387469"
      },
      "execution_count": 16,
      "outputs": [
        {
          "output_type": "execute_result",
          "data": {
            "text/plain": [
              "0    1\n",
              "1    2\n",
              "2    3\n",
              "3    4\n",
              "4    5\n",
              "dtype: int64"
            ]
          },
          "metadata": {},
          "execution_count": 16
        }
      ]
    },
    {
      "cell_type": "code",
      "source": [
        "from scipy. stats import mode\n",
        "a=[1,2,2,3,4,5]\n",
        "mode(a)"
      ],
      "metadata": {
        "colab": {
          "base_uri": "https://localhost:8080/"
        },
        "id": "3n8YT6K1w6hY",
        "outputId": "348a2f1e-ad5a-4b3c-cda7-f7f88a4c6925"
      },
      "execution_count": 17,
      "outputs": [
        {
          "output_type": "stream",
          "name": "stderr",
          "text": [
            "<ipython-input-17-aaedaa2ce510>:3: FutureWarning: Unlike other reduction functions (e.g. `skew`, `kurtosis`), the default behavior of `mode` typically preserves the axis it acts along. In SciPy 1.11.0, this behavior will change: the default value of `keepdims` will become False, the `axis` over which the statistic is taken will be eliminated, and the value None will no longer be accepted. Set `keepdims` to True or False to avoid this warning.\n",
            "  mode(a)\n"
          ]
        },
        {
          "output_type": "execute_result",
          "data": {
            "text/plain": [
              "ModeResult(mode=array([2]), count=array([2]))"
            ]
          },
          "metadata": {},
          "execution_count": 17
        }
      ]
    },
    {
      "cell_type": "markdown",
      "source": [
        "## 데이터의 산포도 지표"
      ],
      "metadata": {
        "id": "hhnKK2N6yTEZ"
      }
    },
    {
      "cell_type": "markdown",
      "source": [
        "### 편차 deviation\n",
        "산포도를 구하는 대표적인 방법은 편차(deviation)을 알아보는 것입니다. 편차는 각 데이터가 평균으로 부터 어느 정도 떨어져 있는지를 파악하는 척도입니다. 예를 들어 A학생의 점수가 50점이고 학생의 평균점수가 60점이라면 A학생의 편차는 -10점이 됩니다."
      ],
      "metadata": {
        "id": "kAgqbYGbygEm"
      }
    },
    {
      "cell_type": "code",
      "source": [
        "# 학생들의 성적 평균구하기\n",
        "mean = np.mean(scores)\n",
        "print(mean)\n",
        "\n",
        "# 편차 구하기\n",
        "deviation = scores - mean\n",
        "deviation"
      ],
      "metadata": {
        "colab": {
          "base_uri": "https://localhost:8080/"
        },
        "id": "kB4WDP2Wx6c2",
        "outputId": "72b1ea39-d46c-4c26-8086-c92265f0473d"
      },
      "execution_count": 18,
      "outputs": [
        {
          "output_type": "stream",
          "name": "stdout",
          "text": [
            "81.6\n"
          ]
        },
        {
          "output_type": "execute_result",
          "data": {
            "text/plain": [
              "array([  4.4,  16.4,   6.4,  16.4, -20.6,   2.4, -10.6,   4.4, -16.6,\n",
              "        -2.6])"
            ]
          },
          "metadata": {},
          "execution_count": 18
        }
      ]
    },
    {
      "cell_type": "code",
      "source": [
        "# 편차를 데이터 프레임에 추가하기\n",
        "summary_df = scores_df.copy()\n",
        "summary_df['deviation'] = deviation\n",
        "summary_df"
      ],
      "metadata": {
        "colab": {
          "base_uri": "https://localhost:8080/",
          "height": 394
        },
        "id": "T9eLlec5zLra",
        "outputId": "6770a3b0-d334-4986-fa86-71f31d7833b5"
      },
      "execution_count": 19,
      "outputs": [
        {
          "output_type": "execute_result",
          "data": {
            "text/plain": [
              "              score  deviation\n",
              "stundent_num                  \n",
              "0                86        4.4\n",
              "1                98       16.4\n",
              "2                88        6.4\n",
              "3                98       16.4\n",
              "4                61      -20.6\n",
              "5                84        2.4\n",
              "6                71      -10.6\n",
              "7                86        4.4\n",
              "8                65      -16.6\n",
              "9                79       -2.6"
            ],
            "text/html": [
              "\n",
              "  <div id=\"df-0399ea0e-ee2d-46e6-9cc3-bbda98bdc9ab\">\n",
              "    <div class=\"colab-df-container\">\n",
              "      <div>\n",
              "<style scoped>\n",
              "    .dataframe tbody tr th:only-of-type {\n",
              "        vertical-align: middle;\n",
              "    }\n",
              "\n",
              "    .dataframe tbody tr th {\n",
              "        vertical-align: top;\n",
              "    }\n",
              "\n",
              "    .dataframe thead th {\n",
              "        text-align: right;\n",
              "    }\n",
              "</style>\n",
              "<table border=\"1\" class=\"dataframe\">\n",
              "  <thead>\n",
              "    <tr style=\"text-align: right;\">\n",
              "      <th></th>\n",
              "      <th>score</th>\n",
              "      <th>deviation</th>\n",
              "    </tr>\n",
              "    <tr>\n",
              "      <th>stundent_num</th>\n",
              "      <th></th>\n",
              "      <th></th>\n",
              "    </tr>\n",
              "  </thead>\n",
              "  <tbody>\n",
              "    <tr>\n",
              "      <th>0</th>\n",
              "      <td>86</td>\n",
              "      <td>4.4</td>\n",
              "    </tr>\n",
              "    <tr>\n",
              "      <th>1</th>\n",
              "      <td>98</td>\n",
              "      <td>16.4</td>\n",
              "    </tr>\n",
              "    <tr>\n",
              "      <th>2</th>\n",
              "      <td>88</td>\n",
              "      <td>6.4</td>\n",
              "    </tr>\n",
              "    <tr>\n",
              "      <th>3</th>\n",
              "      <td>98</td>\n",
              "      <td>16.4</td>\n",
              "    </tr>\n",
              "    <tr>\n",
              "      <th>4</th>\n",
              "      <td>61</td>\n",
              "      <td>-20.6</td>\n",
              "    </tr>\n",
              "    <tr>\n",
              "      <th>5</th>\n",
              "      <td>84</td>\n",
              "      <td>2.4</td>\n",
              "    </tr>\n",
              "    <tr>\n",
              "      <th>6</th>\n",
              "      <td>71</td>\n",
              "      <td>-10.6</td>\n",
              "    </tr>\n",
              "    <tr>\n",
              "      <th>7</th>\n",
              "      <td>86</td>\n",
              "      <td>4.4</td>\n",
              "    </tr>\n",
              "    <tr>\n",
              "      <th>8</th>\n",
              "      <td>65</td>\n",
              "      <td>-16.6</td>\n",
              "    </tr>\n",
              "    <tr>\n",
              "      <th>9</th>\n",
              "      <td>79</td>\n",
              "      <td>-2.6</td>\n",
              "    </tr>\n",
              "  </tbody>\n",
              "</table>\n",
              "</div>\n",
              "      <button class=\"colab-df-convert\" onclick=\"convertToInteractive('df-0399ea0e-ee2d-46e6-9cc3-bbda98bdc9ab')\"\n",
              "              title=\"Convert this dataframe to an interactive table.\"\n",
              "              style=\"display:none;\">\n",
              "        \n",
              "  <svg xmlns=\"http://www.w3.org/2000/svg\" height=\"24px\"viewBox=\"0 0 24 24\"\n",
              "       width=\"24px\">\n",
              "    <path d=\"M0 0h24v24H0V0z\" fill=\"none\"/>\n",
              "    <path d=\"M18.56 5.44l.94 2.06.94-2.06 2.06-.94-2.06-.94-.94-2.06-.94 2.06-2.06.94zm-11 1L8.5 8.5l.94-2.06 2.06-.94-2.06-.94L8.5 2.5l-.94 2.06-2.06.94zm10 10l.94 2.06.94-2.06 2.06-.94-2.06-.94-.94-2.06-.94 2.06-2.06.94z\"/><path d=\"M17.41 7.96l-1.37-1.37c-.4-.4-.92-.59-1.43-.59-.52 0-1.04.2-1.43.59L10.3 9.45l-7.72 7.72c-.78.78-.78 2.05 0 2.83L4 21.41c.39.39.9.59 1.41.59.51 0 1.02-.2 1.41-.59l7.78-7.78 2.81-2.81c.8-.78.8-2.07 0-2.86zM5.41 20L4 18.59l7.72-7.72 1.47 1.35L5.41 20z\"/>\n",
              "  </svg>\n",
              "      </button>\n",
              "      \n",
              "  <style>\n",
              "    .colab-df-container {\n",
              "      display:flex;\n",
              "      flex-wrap:wrap;\n",
              "      gap: 12px;\n",
              "    }\n",
              "\n",
              "    .colab-df-convert {\n",
              "      background-color: #E8F0FE;\n",
              "      border: none;\n",
              "      border-radius: 50%;\n",
              "      cursor: pointer;\n",
              "      display: none;\n",
              "      fill: #1967D2;\n",
              "      height: 32px;\n",
              "      padding: 0 0 0 0;\n",
              "      width: 32px;\n",
              "    }\n",
              "\n",
              "    .colab-df-convert:hover {\n",
              "      background-color: #E2EBFA;\n",
              "      box-shadow: 0px 1px 2px rgba(60, 64, 67, 0.3), 0px 1px 3px 1px rgba(60, 64, 67, 0.15);\n",
              "      fill: #174EA6;\n",
              "    }\n",
              "\n",
              "    [theme=dark] .colab-df-convert {\n",
              "      background-color: #3B4455;\n",
              "      fill: #D2E3FC;\n",
              "    }\n",
              "\n",
              "    [theme=dark] .colab-df-convert:hover {\n",
              "      background-color: #434B5C;\n",
              "      box-shadow: 0px 1px 3px 1px rgba(0, 0, 0, 0.15);\n",
              "      filter: drop-shadow(0px 1px 2px rgba(0, 0, 0, 0.3));\n",
              "      fill: #FFFFFF;\n",
              "    }\n",
              "  </style>\n",
              "\n",
              "      <script>\n",
              "        const buttonEl =\n",
              "          document.querySelector('#df-0399ea0e-ee2d-46e6-9cc3-bbda98bdc9ab button.colab-df-convert');\n",
              "        buttonEl.style.display =\n",
              "          google.colab.kernel.accessAllowed ? 'block' : 'none';\n",
              "\n",
              "        async function convertToInteractive(key) {\n",
              "          const element = document.querySelector('#df-0399ea0e-ee2d-46e6-9cc3-bbda98bdc9ab');\n",
              "          const dataTable =\n",
              "            await google.colab.kernel.invokeFunction('convertToInteractive',\n",
              "                                                     [key], {});\n",
              "          if (!dataTable) return;\n",
              "\n",
              "          const docLinkHtml = 'Like what you see? Visit the ' +\n",
              "            '<a target=\"_blank\" href=https://colab.research.google.com/notebooks/data_table.ipynb>data table notebook</a>'\n",
              "            + ' to learn more about interactive tables.';\n",
              "          element.innerHTML = '';\n",
              "          dataTable['output_type'] = 'display_data';\n",
              "          await google.colab.output.renderOutput(dataTable, element);\n",
              "          const docLink = document.createElement('div');\n",
              "          docLink.innerHTML = docLinkHtml;\n",
              "          element.appendChild(docLink);\n",
              "        }\n",
              "      </script>\n",
              "    </div>\n",
              "  </div>\n",
              "  "
            ]
          },
          "metadata": {},
          "execution_count": 19
        }
      ]
    },
    {
      "cell_type": "code",
      "source": [
        "summary_df.mean()"
      ],
      "metadata": {
        "colab": {
          "base_uri": "https://localhost:8080/"
        },
        "id": "tzbP-SWW4lvC",
        "outputId": "6b2cc4f7-139c-4d54-b7db-e005bc2b3c33"
      },
      "execution_count": 20,
      "outputs": [
        {
          "output_type": "execute_result",
          "data": {
            "text/plain": [
              "score        8.160000e+01\n",
              "deviation    5.684342e-15\n",
              "dtype: float64"
            ]
          },
          "metadata": {},
          "execution_count": 20
        }
      ]
    },
    {
      "cell_type": "code",
      "source": [
        "# 소수점을 제한하는 함수\n",
        "%precision 3\n",
        "pd.set_option('float_format', '{:.2f}'.format)"
      ],
      "metadata": {
        "id": "trFa2RzD2mii"
      },
      "execution_count": 21,
      "outputs": []
    },
    {
      "cell_type": "code",
      "source": [
        "summary_df.mean() # 편차의 합은 0"
      ],
      "metadata": {
        "colab": {
          "base_uri": "https://localhost:8080/"
        },
        "id": "kynk22bW3F1D",
        "outputId": "18b77f5b-7d20-44b4-ac7a-8686b79c391a"
      },
      "execution_count": 22,
      "outputs": [
        {
          "output_type": "execute_result",
          "data": {
            "text/plain": [
              "score       81.60\n",
              "deviation    0.00\n",
              "dtype: float64"
            ]
          },
          "metadata": {},
          "execution_count": 22
        }
      ]
    },
    {
      "cell_type": "markdown",
      "source": [
        "### 분산 var\n",
        "다음과 같이 각 데이터와 평균 간 차이를 나타내는 편차를 이용하는 것은 바람직한 방법이긴 하지만 편차의 평균이 0이 되면 추가적인 분석을 하기에는 애매합니다.\n",
        "\n",
        "그래서 편차에 제곱을 하게 된다면 그 척도를 사용할 수 있게 됩니다."
      ],
      "metadata": {
        "id": "G1LLx9Gi3TT_"
      }
    },
    {
      "cell_type": "code",
      "source": [
        "np.mean(deviation ** 2)"
      ],
      "metadata": {
        "colab": {
          "base_uri": "https://localhost:8080/"
        },
        "id": "RYpJTsmu3D43",
        "outputId": "3b365537-8675-46b2-83aa-980d28ae8a84"
      },
      "execution_count": 23,
      "outputs": [
        {
          "output_type": "execute_result",
          "data": {
            "text/plain": [
              "144.24000000000004"
            ]
          },
          "metadata": {},
          "execution_count": 23
        }
      ]
    },
    {
      "cell_type": "code",
      "source": [
        "np.var(scores)"
      ],
      "metadata": {
        "colab": {
          "base_uri": "https://localhost:8080/"
        },
        "id": "cy4_nVOf4Pbf",
        "outputId": "70365637-c614-42aa-c6b1-f76561231dab"
      },
      "execution_count": 24,
      "outputs": [
        {
          "output_type": "execute_result",
          "data": {
            "text/plain": [
              "144.24000000000004"
            ]
          },
          "metadata": {},
          "execution_count": 24
        }
      ]
    },
    {
      "cell_type": "code",
      "source": [
        "# pandas에도 분산을 구하는 방법은 있지만 pandas의 분산은 불편 추정량에 의한 분산입니다.\n",
        "scores_df.var()"
      ],
      "metadata": {
        "colab": {
          "base_uri": "https://localhost:8080/"
        },
        "id": "OQ9wv-wS5QXB",
        "outputId": "bd3db47c-1382-4f9d-fa55-e608e7e3b743"
      },
      "execution_count": 25,
      "outputs": [
        {
          "output_type": "execute_result",
          "data": {
            "text/plain": [
              "score   160.27\n",
              "dtype: float64"
            ]
          },
          "metadata": {},
          "execution_count": 25
        }
      ]
    },
    {
      "cell_type": "code",
      "source": [
        "# summary_df에 편차 제곱을 추가\n",
        "summary_df['square of deviation'] = np.square(deviation)\n",
        "summary_df"
      ],
      "metadata": {
        "colab": {
          "base_uri": "https://localhost:8080/",
          "height": 394
        },
        "id": "OJCHDkuR5Uif",
        "outputId": "1368913d-3f40-45f3-823e-671e77bd047d"
      },
      "execution_count": 26,
      "outputs": [
        {
          "output_type": "execute_result",
          "data": {
            "text/plain": [
              "              score  deviation  square of deviation\n",
              "stundent_num                                       \n",
              "0                86       4.40                19.36\n",
              "1                98      16.40               268.96\n",
              "2                88       6.40                40.96\n",
              "3                98      16.40               268.96\n",
              "4                61     -20.60               424.36\n",
              "5                84       2.40                 5.76\n",
              "6                71     -10.60               112.36\n",
              "7                86       4.40                19.36\n",
              "8                65     -16.60               275.56\n",
              "9                79      -2.60                 6.76"
            ],
            "text/html": [
              "\n",
              "  <div id=\"df-5fabbbf6-09f7-4901-8d4c-21a7cf469765\">\n",
              "    <div class=\"colab-df-container\">\n",
              "      <div>\n",
              "<style scoped>\n",
              "    .dataframe tbody tr th:only-of-type {\n",
              "        vertical-align: middle;\n",
              "    }\n",
              "\n",
              "    .dataframe tbody tr th {\n",
              "        vertical-align: top;\n",
              "    }\n",
              "\n",
              "    .dataframe thead th {\n",
              "        text-align: right;\n",
              "    }\n",
              "</style>\n",
              "<table border=\"1\" class=\"dataframe\">\n",
              "  <thead>\n",
              "    <tr style=\"text-align: right;\">\n",
              "      <th></th>\n",
              "      <th>score</th>\n",
              "      <th>deviation</th>\n",
              "      <th>square of deviation</th>\n",
              "    </tr>\n",
              "    <tr>\n",
              "      <th>stundent_num</th>\n",
              "      <th></th>\n",
              "      <th></th>\n",
              "      <th></th>\n",
              "    </tr>\n",
              "  </thead>\n",
              "  <tbody>\n",
              "    <tr>\n",
              "      <th>0</th>\n",
              "      <td>86</td>\n",
              "      <td>4.40</td>\n",
              "      <td>19.36</td>\n",
              "    </tr>\n",
              "    <tr>\n",
              "      <th>1</th>\n",
              "      <td>98</td>\n",
              "      <td>16.40</td>\n",
              "      <td>268.96</td>\n",
              "    </tr>\n",
              "    <tr>\n",
              "      <th>2</th>\n",
              "      <td>88</td>\n",
              "      <td>6.40</td>\n",
              "      <td>40.96</td>\n",
              "    </tr>\n",
              "    <tr>\n",
              "      <th>3</th>\n",
              "      <td>98</td>\n",
              "      <td>16.40</td>\n",
              "      <td>268.96</td>\n",
              "    </tr>\n",
              "    <tr>\n",
              "      <th>4</th>\n",
              "      <td>61</td>\n",
              "      <td>-20.60</td>\n",
              "      <td>424.36</td>\n",
              "    </tr>\n",
              "    <tr>\n",
              "      <th>5</th>\n",
              "      <td>84</td>\n",
              "      <td>2.40</td>\n",
              "      <td>5.76</td>\n",
              "    </tr>\n",
              "    <tr>\n",
              "      <th>6</th>\n",
              "      <td>71</td>\n",
              "      <td>-10.60</td>\n",
              "      <td>112.36</td>\n",
              "    </tr>\n",
              "    <tr>\n",
              "      <th>7</th>\n",
              "      <td>86</td>\n",
              "      <td>4.40</td>\n",
              "      <td>19.36</td>\n",
              "    </tr>\n",
              "    <tr>\n",
              "      <th>8</th>\n",
              "      <td>65</td>\n",
              "      <td>-16.60</td>\n",
              "      <td>275.56</td>\n",
              "    </tr>\n",
              "    <tr>\n",
              "      <th>9</th>\n",
              "      <td>79</td>\n",
              "      <td>-2.60</td>\n",
              "      <td>6.76</td>\n",
              "    </tr>\n",
              "  </tbody>\n",
              "</table>\n",
              "</div>\n",
              "      <button class=\"colab-df-convert\" onclick=\"convertToInteractive('df-5fabbbf6-09f7-4901-8d4c-21a7cf469765')\"\n",
              "              title=\"Convert this dataframe to an interactive table.\"\n",
              "              style=\"display:none;\">\n",
              "        \n",
              "  <svg xmlns=\"http://www.w3.org/2000/svg\" height=\"24px\"viewBox=\"0 0 24 24\"\n",
              "       width=\"24px\">\n",
              "    <path d=\"M0 0h24v24H0V0z\" fill=\"none\"/>\n",
              "    <path d=\"M18.56 5.44l.94 2.06.94-2.06 2.06-.94-2.06-.94-.94-2.06-.94 2.06-2.06.94zm-11 1L8.5 8.5l.94-2.06 2.06-.94-2.06-.94L8.5 2.5l-.94 2.06-2.06.94zm10 10l.94 2.06.94-2.06 2.06-.94-2.06-.94-.94-2.06-.94 2.06-2.06.94z\"/><path d=\"M17.41 7.96l-1.37-1.37c-.4-.4-.92-.59-1.43-.59-.52 0-1.04.2-1.43.59L10.3 9.45l-7.72 7.72c-.78.78-.78 2.05 0 2.83L4 21.41c.39.39.9.59 1.41.59.51 0 1.02-.2 1.41-.59l7.78-7.78 2.81-2.81c.8-.78.8-2.07 0-2.86zM5.41 20L4 18.59l7.72-7.72 1.47 1.35L5.41 20z\"/>\n",
              "  </svg>\n",
              "      </button>\n",
              "      \n",
              "  <style>\n",
              "    .colab-df-container {\n",
              "      display:flex;\n",
              "      flex-wrap:wrap;\n",
              "      gap: 12px;\n",
              "    }\n",
              "\n",
              "    .colab-df-convert {\n",
              "      background-color: #E8F0FE;\n",
              "      border: none;\n",
              "      border-radius: 50%;\n",
              "      cursor: pointer;\n",
              "      display: none;\n",
              "      fill: #1967D2;\n",
              "      height: 32px;\n",
              "      padding: 0 0 0 0;\n",
              "      width: 32px;\n",
              "    }\n",
              "\n",
              "    .colab-df-convert:hover {\n",
              "      background-color: #E2EBFA;\n",
              "      box-shadow: 0px 1px 2px rgba(60, 64, 67, 0.3), 0px 1px 3px 1px rgba(60, 64, 67, 0.15);\n",
              "      fill: #174EA6;\n",
              "    }\n",
              "\n",
              "    [theme=dark] .colab-df-convert {\n",
              "      background-color: #3B4455;\n",
              "      fill: #D2E3FC;\n",
              "    }\n",
              "\n",
              "    [theme=dark] .colab-df-convert:hover {\n",
              "      background-color: #434B5C;\n",
              "      box-shadow: 0px 1px 3px 1px rgba(0, 0, 0, 0.15);\n",
              "      filter: drop-shadow(0px 1px 2px rgba(0, 0, 0, 0.3));\n",
              "      fill: #FFFFFF;\n",
              "    }\n",
              "  </style>\n",
              "\n",
              "      <script>\n",
              "        const buttonEl =\n",
              "          document.querySelector('#df-5fabbbf6-09f7-4901-8d4c-21a7cf469765 button.colab-df-convert');\n",
              "        buttonEl.style.display =\n",
              "          google.colab.kernel.accessAllowed ? 'block' : 'none';\n",
              "\n",
              "        async function convertToInteractive(key) {\n",
              "          const element = document.querySelector('#df-5fabbbf6-09f7-4901-8d4c-21a7cf469765');\n",
              "          const dataTable =\n",
              "            await google.colab.kernel.invokeFunction('convertToInteractive',\n",
              "                                                     [key], {});\n",
              "          if (!dataTable) return;\n",
              "\n",
              "          const docLinkHtml = 'Like what you see? Visit the ' +\n",
              "            '<a target=\"_blank\" href=https://colab.research.google.com/notebooks/data_table.ipynb>data table notebook</a>'\n",
              "            + ' to learn more about interactive tables.';\n",
              "          element.innerHTML = '';\n",
              "          dataTable['output_type'] = 'display_data';\n",
              "          await google.colab.output.renderOutput(dataTable, element);\n",
              "          const docLink = document.createElement('div');\n",
              "          docLink.innerHTML = docLinkHtml;\n",
              "          element.appendChild(docLink);\n",
              "        }\n",
              "      </script>\n",
              "    </div>\n",
              "  </div>\n",
              "  "
            ]
          },
          "metadata": {},
          "execution_count": 26
        }
      ]
    },
    {
      "cell_type": "code",
      "source": [
        "# 분산 산출\n",
        "summary_df.mean()"
      ],
      "metadata": {
        "colab": {
          "base_uri": "https://localhost:8080/"
        },
        "id": "netuSeGR5k4j",
        "outputId": "06b23b79-1ed4-456a-b642-f982bb19bcba"
      },
      "execution_count": 27,
      "outputs": [
        {
          "output_type": "execute_result",
          "data": {
            "text/plain": [
              "score                  81.60\n",
              "deviation               0.00\n",
              "square of deviation   144.24\n",
              "dtype: float64"
            ]
          },
          "metadata": {},
          "execution_count": 27
        }
      ]
    },
    {
      "cell_type": "markdown",
      "source": [
        "###표준편차 std\n",
        "평균의 단위는 원래 데이터의 단위를 따라가게 됩니다. 위의 자료에서는 80.8점이 평균이다라고 말할수 있지만 분산은 그럴수가 없습니다. 제곱을 했기 때문입니다. 영어점수의 분산이 93.16의 제곱이다 라고 말하는것도 웃기는 상황입니다.\n",
        "\n",
        "그래서 원래의 단위와 통일하기 위해 표준편차라는 개념을 도입하였고, 그것은 분산에 루트를 씌워 제곱을 상쇄시킨 개념입니다."
      ],
      "metadata": {
        "id": "-dafIvy85pi-"
      }
    },
    {
      "cell_type": "code",
      "source": [
        "np.sqrt(np.var(scores, ddof =0))"
      ],
      "metadata": {
        "colab": {
          "base_uri": "https://localhost:8080/"
        },
        "id": "50pkpEmO5mM5",
        "outputId": "48a4330b-0c08-4b52-8fe2-5efb7f0b177e"
      },
      "execution_count": 28,
      "outputs": [
        {
          "output_type": "execute_result",
          "data": {
            "text/plain": [
              "12.009995836801945"
            ]
          },
          "metadata": {},
          "execution_count": 28
        }
      ]
    },
    {
      "cell_type": "code",
      "source": [
        "np.std(scores, ddof = 0 )"
      ],
      "metadata": {
        "colab": {
          "base_uri": "https://localhost:8080/"
        },
        "id": "PAQr0Y5u6GDN",
        "outputId": "8b402ac7-f834-457c-bc5a-391020965bf5"
      },
      "execution_count": 29,
      "outputs": [
        {
          "output_type": "execute_result",
          "data": {
            "text/plain": [
              "12.009995836801945"
            ]
          },
          "metadata": {},
          "execution_count": 29
        }
      ]
    },
    {
      "cell_type": "markdown",
      "source": [
        "###범위 IQR\n",
        "범위는 분산이나 표준편차와 달리, 데이터 전체를 보는 것이 아니라 데이터의 최댓값과 최솟값만으로 산포도를 표현하는 방법입니다. 최댓값과 최솟값의 차이가 크면 산포도가 크고, 그 차이가 작으면 산포도가 작다는 의미로도 해석할 수 있습니다.\n",
        "\n",
        "두가지의 값으로만 계산된 값이므로, 대략적인 자료에 파악에 유용하지만 평균과 동일하게 주의해야합니다."
      ],
      "metadata": {
        "id": "b45Clkxc6gYV"
      }
    },
    {
      "cell_type": "code",
      "source": [
        "# 범위 = max 값에서 min값\n",
        "np.max(scores) - np.min(scores)"
      ],
      "metadata": {
        "colab": {
          "base_uri": "https://localhost:8080/"
        },
        "id": "5SHbn2rQ6HnD",
        "outputId": "fdee6c76-8080-4aef-eb5f-e163a802c16c"
      },
      "execution_count": 30,
      "outputs": [
        {
          "output_type": "execute_result",
          "data": {
            "text/plain": [
              "37"
            ]
          },
          "metadata": {},
          "execution_count": 30
        }
      ]
    },
    {
      "cell_type": "markdown",
      "source": [
        "범위에는 4분위 범위라는것도 있습니다. 큰 이상값이 하나라도 있으면 범위나 평균같은 수치들은 엄청난 변화가 있을 수 있습니다. 그래서 사분위 범위를 참고하면 데이터를 보는데 도움이 됩니다.\n",
        "\n",
        "최근에는 4분위 값 뿐만아니라 99% 95% 90% , 1% 5% 10%에 해당하는 값들을 같이 봐서 데이터의 전체적인 파악을 하고, 하나의 값이 얼마나 있는지 고루 분포되어있는지를 파악하게 됩니다.\n",
        "\n",
        "이러한 특이점이 있는 데이터들은 그래프로도 식별하기 쉽지 않을수 있기 때문에 4분위수를 구하는것은 여러모로 도움이 됩니다.\n",
        "\n",
        "![image.png](data:image/png;base64,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)"
      ],
      "metadata": {
        "id": "acqjKCjU61S_"
      }
    },
    {
      "cell_type": "code",
      "source": [
        "scores_Q1 = np.percentile(scores,25)\n",
        "scores_Q3 = np.percentile(scores,75)\n",
        "scores_IQR = scores_Q3 - scores_Q1\n",
        "scores_IQR"
      ],
      "metadata": {
        "colab": {
          "base_uri": "https://localhost:8080/"
        },
        "id": "lsI-z6Hr6vAP",
        "outputId": "aaaaed61-399c-4cc5-8af6-f1d7b281cb60"
      },
      "execution_count": 31,
      "outputs": [
        {
          "output_type": "execute_result",
          "data": {
            "text/plain": [
              "14.5"
            ]
          },
          "metadata": {},
          "execution_count": 31
        }
      ]
    },
    {
      "cell_type": "markdown",
      "source": [
        "IQR을 사용할때 Q2를 사용하지는 않지만 IQR = Q2라고 생각하시면 됩니다. 분산은 평균에 대해 정의되는 산포도라고 한다면 IQR은 중앙값에 대해 정의되는 산포도 지표라고 해석할 수 있습니다.\n",
        "\n",
        "Q1, Q2, Q3은 상자그림으로도 그려볼수 있습니다."
      ],
      "metadata": {
        "id": "a21BJXC58Lv4"
      }
    },
    {
      "cell_type": "markdown",
      "source": [
        "### 한번에 데이터 보기\n",
        "describe 라는 함수를 사용하면 모든 데이터의 개요를 볼 수 있습니다. 다음과 같이 데이터를 간단히 바라보고 세부적으로 분석하는것도 방법이라고 생각합니다."
      ],
      "metadata": {
        "id": "5RV5JaX481pc"
      }
    },
    {
      "cell_type": "code",
      "source": [
        "pd.Series(scores).describe()"
      ],
      "metadata": {
        "colab": {
          "base_uri": "https://localhost:8080/"
        },
        "id": "RuShsKsm63J8",
        "outputId": "1412a8eb-b79b-4e7c-d63b-e6f7002886dd"
      },
      "execution_count": 32,
      "outputs": [
        {
          "output_type": "execute_result",
          "data": {
            "text/plain": [
              "count   10.00\n",
              "mean    81.60\n",
              "std     12.66\n",
              "min     61.00\n",
              "25%     73.00\n",
              "50%     85.00\n",
              "75%     87.50\n",
              "max     98.00\n",
              "dtype: float64"
            ]
          },
          "metadata": {},
          "execution_count": 32
        }
      ]
    },
    {
      "cell_type": "markdown",
      "source": [
        "##데이터의 정규화\n",
        "평균과 분산에 의존하지 않고 데이터를 파악한다면 데이터의 더 상대적인 위치를 알 수 있을 것입니다.\n",
        "\n",
        "수능같은 예시를 들때 불수능이다. 이러면 1등급 컷이 70~80점대 일때도 있고, 물수능이다. 이러면 99점도 2등급일 수 있는데, 절대적인 수치로만 봤을때는 이해가 안되지만 상대적인 수치에 대한 비교를 했을때 다음과 같은 사례가 이해가 될것입니다."
      ],
      "metadata": {
        "id": "h5ncUhdz9dAR"
      }
    },
    {
      "cell_type": "markdown",
      "source": [
        "###표준화 standardization\n",
        "통계학에서는 데이터에서 평균을 빼고 표준편차로 나누는 작업을 표준화(standardization)라고 합니다."
      ],
      "metadata": {
        "id": "CdNKZx5G9vvB"
      }
    },
    {
      "cell_type": "code",
      "source": [
        "stand_data = (scores - np.mean(scores)) / np.std(scores)\n",
        "stand_data"
      ],
      "metadata": {
        "colab": {
          "base_uri": "https://localhost:8080/"
        },
        "id": "_eecgFC487wn",
        "outputId": "eab3c49f-b29b-4536-e21c-ee5e4a0fdd78"
      },
      "execution_count": 33,
      "outputs": [
        {
          "output_type": "execute_result",
          "data": {
            "text/plain": [
              "array([ 0.366,  1.366,  0.533,  1.366, -1.715,  0.2  , -0.883,  0.366,\n",
              "       -1.382, -0.216])"
            ]
          },
          "metadata": {},
          "execution_count": 33
        }
      ]
    },
    {
      "cell_type": "markdown",
      "source": [
        "표준화된 데이터는 평균이 0 표준편차가 1로 됩니다."
      ],
      "metadata": {
        "id": "y29PWohj-VCZ"
      }
    },
    {
      "cell_type": "code",
      "source": [
        "rounded_mean = np.around(np.mean(stand_data), decimals=2)\n",
        "rounded_mean"
      ],
      "metadata": {
        "colab": {
          "base_uri": "https://localhost:8080/"
        },
        "id": "Of5MMX4T9yKG",
        "outputId": "1e40076c-b22d-4208-9a9c-c94c462d3e32"
      },
      "execution_count": 34,
      "outputs": [
        {
          "output_type": "execute_result",
          "data": {
            "text/plain": [
              "0.0"
            ]
          },
          "metadata": {},
          "execution_count": 34
        }
      ]
    },
    {
      "cell_type": "code",
      "source": [
        "np.std(stand_data, ddof= 0)"
      ],
      "metadata": {
        "colab": {
          "base_uri": "https://localhost:8080/"
        },
        "id": "VptZj-wL-EBV",
        "outputId": "67f889e5-5e7d-48f3-bc8c-7b2806b44eca"
      },
      "execution_count": 35,
      "outputs": [
        {
          "output_type": "execute_result",
          "data": {
            "text/plain": [
              "0.9999999999999998"
            ]
          },
          "metadata": {},
          "execution_count": 35
        }
      ]
    },
    {
      "cell_type": "markdown",
      "source": [
        "데이터와 동일한 표준편차로 나눗셈을 했기 때문에 표준화된 데이터는 원래 데이터의 단위를 사용할 수 없다"
      ],
      "metadata": {
        "id": "tT6hi2-w-cfg"
      }
    },
    {
      "cell_type": "markdown",
      "source": [
        "# 실습\n",
        "[데이터의 유형(실습) - 배포용](https://happydata1510.notion.site/3-11433765d99b4ceeae62e78d67bfc040)\n",
        "\n",
        "서울시 마포구 따릉이 데이터 Train Data를 가지고 배운내용을 토대로 통계적 EDA 해보기\n",
        "\n",
        "- 기초 EDA 후 추가적으로 어떤 분석을 하면 좋을지 생각해보기\n",
        "- 정리하기 - 1차원 데이터 분석으로 얻은 인사이트 정리하기\n",
        "- 생각해보기 - 시간의 따른 따릉이 대여수를 예측한것을 어떻게 활용할 수 있을까?\n",
        "- 생각해보기 - 더 있었으면 좋은 공공 데이터는 어떤것이 있을까?"
      ],
      "metadata": {
        "id": "qdh5tGLF_v7k"
      }
    },
    {
      "cell_type": "code",
      "source": [
        "import matplotlib.pyplot as plt\n",
        "import numpy as np\n",
        "import pandas as pd"
      ],
      "metadata": {
        "id": "ujwHnkMEJCA6"
      },
      "execution_count": 36,
      "outputs": []
    },
    {
      "cell_type": "code",
      "source": [
        "train_df = pd.read_csv('train.csv')\n",
        "train_df"
      ],
      "metadata": {
        "colab": {
          "base_uri": "https://localhost:8080/",
          "height": 487
        },
        "id": "T3Q0s6NN-IEi",
        "outputId": "71a0cbf1-76d9-42e4-df79-5841839d5bc8"
      },
      "execution_count": 37,
      "outputs": [
        {
          "output_type": "execute_result",
          "data": {
            "text/plain": [
              "        id  hour  hour_bef_temperature  hour_bef_precipitation  \\\n",
              "0        3    20                 16.30                    1.00   \n",
              "1        6    13                 20.10                    0.00   \n",
              "2        7     6                 13.90                    0.00   \n",
              "3        8    23                  8.10                    0.00   \n",
              "4        9    18                 29.50                    0.00   \n",
              "...    ...   ...                   ...                     ...   \n",
              "1454  2174     4                 16.80                    0.00   \n",
              "1455  2175     3                 10.80                    0.00   \n",
              "1456  2176     5                 18.30                    0.00   \n",
              "1457  2178    21                 20.70                    0.00   \n",
              "1458  2179    17                 21.10                    0.00   \n",
              "\n",
              "      hour_bef_windspeed  hour_bef_humidity  hour_bef_visibility  \\\n",
              "0                   1.50              89.00               576.00   \n",
              "1                   1.40              48.00               916.00   \n",
              "2                   0.70              79.00              1382.00   \n",
              "3                   2.70              54.00               946.00   \n",
              "4                   4.80               7.00              2000.00   \n",
              "...                  ...                ...                  ...   \n",
              "1454                1.60              53.00              2000.00   \n",
              "1455                3.80              45.00              2000.00   \n",
              "1456                1.90              54.00              2000.00   \n",
              "1457                3.70              37.00              1395.00   \n",
              "1458                3.10              47.00              1973.00   \n",
              "\n",
              "      hour_bef_ozone  hour_bef_pm10  hour_bef_pm2.5  count  \n",
              "0               0.03          76.00           33.00  49.00  \n",
              "1               0.04          73.00           40.00 159.00  \n",
              "2               0.03          32.00           19.00  26.00  \n",
              "3               0.04          75.00           64.00  57.00  \n",
              "4               0.06          27.00           11.00 431.00  \n",
              "...              ...            ...             ...    ...  \n",
              "1454            0.03          37.00           27.00  21.00  \n",
              "1455            0.04          34.00           19.00  20.00  \n",
              "1456            0.01          30.00           21.00  22.00  \n",
              "1457            0.08          71.00           36.00 216.00  \n",
              "1458            0.05          38.00           17.00 170.00  \n",
              "\n",
              "[1459 rows x 11 columns]"
            ],
            "text/html": [
              "\n",
              "  <div id=\"df-ba0526e8-8336-461e-8e8e-51b6ffe1b8b8\">\n",
              "    <div class=\"colab-df-container\">\n",
              "      <div>\n",
              "<style scoped>\n",
              "    .dataframe tbody tr th:only-of-type {\n",
              "        vertical-align: middle;\n",
              "    }\n",
              "\n",
              "    .dataframe tbody tr th {\n",
              "        vertical-align: top;\n",
              "    }\n",
              "\n",
              "    .dataframe thead th {\n",
              "        text-align: right;\n",
              "    }\n",
              "</style>\n",
              "<table border=\"1\" class=\"dataframe\">\n",
              "  <thead>\n",
              "    <tr style=\"text-align: right;\">\n",
              "      <th></th>\n",
              "      <th>id</th>\n",
              "      <th>hour</th>\n",
              "      <th>hour_bef_temperature</th>\n",
              "      <th>hour_bef_precipitation</th>\n",
              "      <th>hour_bef_windspeed</th>\n",
              "      <th>hour_bef_humidity</th>\n",
              "      <th>hour_bef_visibility</th>\n",
              "      <th>hour_bef_ozone</th>\n",
              "      <th>hour_bef_pm10</th>\n",
              "      <th>hour_bef_pm2.5</th>\n",
              "      <th>count</th>\n",
              "    </tr>\n",
              "  </thead>\n",
              "  <tbody>\n",
              "    <tr>\n",
              "      <th>0</th>\n",
              "      <td>3</td>\n",
              "      <td>20</td>\n",
              "      <td>16.30</td>\n",
              "      <td>1.00</td>\n",
              "      <td>1.50</td>\n",
              "      <td>89.00</td>\n",
              "      <td>576.00</td>\n",
              "      <td>0.03</td>\n",
              "      <td>76.00</td>\n",
              "      <td>33.00</td>\n",
              "      <td>49.00</td>\n",
              "    </tr>\n",
              "    <tr>\n",
              "      <th>1</th>\n",
              "      <td>6</td>\n",
              "      <td>13</td>\n",
              "      <td>20.10</td>\n",
              "      <td>0.00</td>\n",
              "      <td>1.40</td>\n",
              "      <td>48.00</td>\n",
              "      <td>916.00</td>\n",
              "      <td>0.04</td>\n",
              "      <td>73.00</td>\n",
              "      <td>40.00</td>\n",
              "      <td>159.00</td>\n",
              "    </tr>\n",
              "    <tr>\n",
              "      <th>2</th>\n",
              "      <td>7</td>\n",
              "      <td>6</td>\n",
              "      <td>13.90</td>\n",
              "      <td>0.00</td>\n",
              "      <td>0.70</td>\n",
              "      <td>79.00</td>\n",
              "      <td>1382.00</td>\n",
              "      <td>0.03</td>\n",
              "      <td>32.00</td>\n",
              "      <td>19.00</td>\n",
              "      <td>26.00</td>\n",
              "    </tr>\n",
              "    <tr>\n",
              "      <th>3</th>\n",
              "      <td>8</td>\n",
              "      <td>23</td>\n",
              "      <td>8.10</td>\n",
              "      <td>0.00</td>\n",
              "      <td>2.70</td>\n",
              "      <td>54.00</td>\n",
              "      <td>946.00</td>\n",
              "      <td>0.04</td>\n",
              "      <td>75.00</td>\n",
              "      <td>64.00</td>\n",
              "      <td>57.00</td>\n",
              "    </tr>\n",
              "    <tr>\n",
              "      <th>4</th>\n",
              "      <td>9</td>\n",
              "      <td>18</td>\n",
              "      <td>29.50</td>\n",
              "      <td>0.00</td>\n",
              "      <td>4.80</td>\n",
              "      <td>7.00</td>\n",
              "      <td>2000.00</td>\n",
              "      <td>0.06</td>\n",
              "      <td>27.00</td>\n",
              "      <td>11.00</td>\n",
              "      <td>431.00</td>\n",
              "    </tr>\n",
              "    <tr>\n",
              "      <th>...</th>\n",
              "      <td>...</td>\n",
              "      <td>...</td>\n",
              "      <td>...</td>\n",
              "      <td>...</td>\n",
              "      <td>...</td>\n",
              "      <td>...</td>\n",
              "      <td>...</td>\n",
              "      <td>...</td>\n",
              "      <td>...</td>\n",
              "      <td>...</td>\n",
              "      <td>...</td>\n",
              "    </tr>\n",
              "    <tr>\n",
              "      <th>1454</th>\n",
              "      <td>2174</td>\n",
              "      <td>4</td>\n",
              "      <td>16.80</td>\n",
              "      <td>0.00</td>\n",
              "      <td>1.60</td>\n",
              "      <td>53.00</td>\n",
              "      <td>2000.00</td>\n",
              "      <td>0.03</td>\n",
              "      <td>37.00</td>\n",
              "      <td>27.00</td>\n",
              "      <td>21.00</td>\n",
              "    </tr>\n",
              "    <tr>\n",
              "      <th>1455</th>\n",
              "      <td>2175</td>\n",
              "      <td>3</td>\n",
              "      <td>10.80</td>\n",
              "      <td>0.00</td>\n",
              "      <td>3.80</td>\n",
              "      <td>45.00</td>\n",
              "      <td>2000.00</td>\n",
              "      <td>0.04</td>\n",
              "      <td>34.00</td>\n",
              "      <td>19.00</td>\n",
              "      <td>20.00</td>\n",
              "    </tr>\n",
              "    <tr>\n",
              "      <th>1456</th>\n",
              "      <td>2176</td>\n",
              "      <td>5</td>\n",
              "      <td>18.30</td>\n",
              "      <td>0.00</td>\n",
              "      <td>1.90</td>\n",
              "      <td>54.00</td>\n",
              "      <td>2000.00</td>\n",
              "      <td>0.01</td>\n",
              "      <td>30.00</td>\n",
              "      <td>21.00</td>\n",
              "      <td>22.00</td>\n",
              "    </tr>\n",
              "    <tr>\n",
              "      <th>1457</th>\n",
              "      <td>2178</td>\n",
              "      <td>21</td>\n",
              "      <td>20.70</td>\n",
              "      <td>0.00</td>\n",
              "      <td>3.70</td>\n",
              "      <td>37.00</td>\n",
              "      <td>1395.00</td>\n",
              "      <td>0.08</td>\n",
              "      <td>71.00</td>\n",
              "      <td>36.00</td>\n",
              "      <td>216.00</td>\n",
              "    </tr>\n",
              "    <tr>\n",
              "      <th>1458</th>\n",
              "      <td>2179</td>\n",
              "      <td>17</td>\n",
              "      <td>21.10</td>\n",
              "      <td>0.00</td>\n",
              "      <td>3.10</td>\n",
              "      <td>47.00</td>\n",
              "      <td>1973.00</td>\n",
              "      <td>0.05</td>\n",
              "      <td>38.00</td>\n",
              "      <td>17.00</td>\n",
              "      <td>170.00</td>\n",
              "    </tr>\n",
              "  </tbody>\n",
              "</table>\n",
              "<p>1459 rows × 11 columns</p>\n",
              "</div>\n",
              "      <button class=\"colab-df-convert\" onclick=\"convertToInteractive('df-ba0526e8-8336-461e-8e8e-51b6ffe1b8b8')\"\n",
              "              title=\"Convert this dataframe to an interactive table.\"\n",
              "              style=\"display:none;\">\n",
              "        \n",
              "  <svg xmlns=\"http://www.w3.org/2000/svg\" height=\"24px\"viewBox=\"0 0 24 24\"\n",
              "       width=\"24px\">\n",
              "    <path d=\"M0 0h24v24H0V0z\" fill=\"none\"/>\n",
              "    <path d=\"M18.56 5.44l.94 2.06.94-2.06 2.06-.94-2.06-.94-.94-2.06-.94 2.06-2.06.94zm-11 1L8.5 8.5l.94-2.06 2.06-.94-2.06-.94L8.5 2.5l-.94 2.06-2.06.94zm10 10l.94 2.06.94-2.06 2.06-.94-2.06-.94-.94-2.06-.94 2.06-2.06.94z\"/><path d=\"M17.41 7.96l-1.37-1.37c-.4-.4-.92-.59-1.43-.59-.52 0-1.04.2-1.43.59L10.3 9.45l-7.72 7.72c-.78.78-.78 2.05 0 2.83L4 21.41c.39.39.9.59 1.41.59.51 0 1.02-.2 1.41-.59l7.78-7.78 2.81-2.81c.8-.78.8-2.07 0-2.86zM5.41 20L4 18.59l7.72-7.72 1.47 1.35L5.41 20z\"/>\n",
              "  </svg>\n",
              "      </button>\n",
              "      \n",
              "  <style>\n",
              "    .colab-df-container {\n",
              "      display:flex;\n",
              "      flex-wrap:wrap;\n",
              "      gap: 12px;\n",
              "    }\n",
              "\n",
              "    .colab-df-convert {\n",
              "      background-color: #E8F0FE;\n",
              "      border: none;\n",
              "      border-radius: 50%;\n",
              "      cursor: pointer;\n",
              "      display: none;\n",
              "      fill: #1967D2;\n",
              "      height: 32px;\n",
              "      padding: 0 0 0 0;\n",
              "      width: 32px;\n",
              "    }\n",
              "\n",
              "    .colab-df-convert:hover {\n",
              "      background-color: #E2EBFA;\n",
              "      box-shadow: 0px 1px 2px rgba(60, 64, 67, 0.3), 0px 1px 3px 1px rgba(60, 64, 67, 0.15);\n",
              "      fill: #174EA6;\n",
              "    }\n",
              "\n",
              "    [theme=dark] .colab-df-convert {\n",
              "      background-color: #3B4455;\n",
              "      fill: #D2E3FC;\n",
              "    }\n",
              "\n",
              "    [theme=dark] .colab-df-convert:hover {\n",
              "      background-color: #434B5C;\n",
              "      box-shadow: 0px 1px 3px 1px rgba(0, 0, 0, 0.15);\n",
              "      filter: drop-shadow(0px 1px 2px rgba(0, 0, 0, 0.3));\n",
              "      fill: #FFFFFF;\n",
              "    }\n",
              "  </style>\n",
              "\n",
              "      <script>\n",
              "        const buttonEl =\n",
              "          document.querySelector('#df-ba0526e8-8336-461e-8e8e-51b6ffe1b8b8 button.colab-df-convert');\n",
              "        buttonEl.style.display =\n",
              "          google.colab.kernel.accessAllowed ? 'block' : 'none';\n",
              "\n",
              "        async function convertToInteractive(key) {\n",
              "          const element = document.querySelector('#df-ba0526e8-8336-461e-8e8e-51b6ffe1b8b8');\n",
              "          const dataTable =\n",
              "            await google.colab.kernel.invokeFunction('convertToInteractive',\n",
              "                                                     [key], {});\n",
              "          if (!dataTable) return;\n",
              "\n",
              "          const docLinkHtml = 'Like what you see? Visit the ' +\n",
              "            '<a target=\"_blank\" href=https://colab.research.google.com/notebooks/data_table.ipynb>data table notebook</a>'\n",
              "            + ' to learn more about interactive tables.';\n",
              "          element.innerHTML = '';\n",
              "          dataTable['output_type'] = 'display_data';\n",
              "          await google.colab.output.renderOutput(dataTable, element);\n",
              "          const docLink = document.createElement('div');\n",
              "          docLink.innerHTML = docLinkHtml;\n",
              "          element.appendChild(docLink);\n",
              "        }\n",
              "      </script>\n",
              "    </div>\n",
              "  </div>\n",
              "  "
            ]
          },
          "metadata": {},
          "execution_count": 37
        }
      ]
    },
    {
      "cell_type": "markdown",
      "source": [
        "- id : 날짜와 시간별 id\n",
        "- hour_bef_temperature : 1시간 전 기온\n",
        "- hour_bef_precipitation : 1시간 전 비 정보, 비가 오지 않았으면 0, 비가 오면 1\n",
        "- hour_bef_windspeed : 1시간 전 풍속(평균)\n",
        "- hour_bef_humidity : 1시간 전 습도\n",
        "- hour_bef_visibility : 1시간 전 시정(視程), 시계(視界)(특정 기상 상태에 따른 가시성을 의미)\n",
        "- hour_bef_ozone : 1시간 전 오존\n",
        "- hour_bef_pm10 : 1시간 전 미세먼지(머리카락 굵기의 1/5에서 1/7 크기의 미세먼지)\n",
        "- hour_bef_pm2.5 : 1시간 전 미세먼지(머리카락 굵기의 1/20에서 1/30 크기의 미세먼지)\n",
        "- count : 시간에 따른 따릉이 대여 수"
      ],
      "metadata": {
        "id": "QAB4DApUQB7D"
      }
    },
    {
      "cell_type": "code",
      "source": [
        "train_df.info()"
      ],
      "metadata": {
        "colab": {
          "base_uri": "https://localhost:8080/"
        },
        "id": "A8zdAVARItu5",
        "outputId": "68bfeeab-8ee5-4ae4-9d08-9677e454d98b"
      },
      "execution_count": 38,
      "outputs": [
        {
          "output_type": "stream",
          "name": "stdout",
          "text": [
            "<class 'pandas.core.frame.DataFrame'>\n",
            "RangeIndex: 1459 entries, 0 to 1458\n",
            "Data columns (total 11 columns):\n",
            " #   Column                  Non-Null Count  Dtype  \n",
            "---  ------                  --------------  -----  \n",
            " 0   id                      1459 non-null   int64  \n",
            " 1   hour                    1459 non-null   int64  \n",
            " 2   hour_bef_temperature    1457 non-null   float64\n",
            " 3   hour_bef_precipitation  1457 non-null   float64\n",
            " 4   hour_bef_windspeed      1450 non-null   float64\n",
            " 5   hour_bef_humidity       1457 non-null   float64\n",
            " 6   hour_bef_visibility     1457 non-null   float64\n",
            " 7   hour_bef_ozone          1383 non-null   float64\n",
            " 8   hour_bef_pm10           1369 non-null   float64\n",
            " 9   hour_bef_pm2.5          1342 non-null   float64\n",
            " 10  count                   1459 non-null   float64\n",
            "dtypes: float64(9), int64(2)\n",
            "memory usage: 125.5 KB\n"
          ]
        }
      ]
    },
    {
      "cell_type": "code",
      "source": [
        "train_df.describe()"
      ],
      "metadata": {
        "colab": {
          "base_uri": "https://localhost:8080/",
          "height": 364
        },
        "id": "C7HxM3nXOpJ3",
        "outputId": "1494cedf-3369-4dad-b55e-c93ad4a8e5b2"
      },
      "execution_count": 39,
      "outputs": [
        {
          "output_type": "execute_result",
          "data": {
            "text/plain": [
              "           id    hour  hour_bef_temperature  hour_bef_precipitation  \\\n",
              "count 1459.00 1459.00               1457.00                 1457.00   \n",
              "mean  1105.91   11.49                 16.72                    0.03   \n",
              "std    631.34    6.92                  5.24                    0.17   \n",
              "min      3.00    0.00                  3.10                    0.00   \n",
              "25%    555.50    5.50                 12.80                    0.00   \n",
              "50%   1115.00   11.00                 16.60                    0.00   \n",
              "75%   1651.00   17.50                 20.10                    0.00   \n",
              "max   2179.00   23.00                 30.00                    1.00   \n",
              "\n",
              "       hour_bef_windspeed  hour_bef_humidity  hour_bef_visibility  \\\n",
              "count             1450.00            1457.00              1457.00   \n",
              "mean                 2.48              52.23              1405.22   \n",
              "std                  1.38              20.37               583.13   \n",
              "min                  0.00               7.00                78.00   \n",
              "25%                  1.40              36.00               879.00   \n",
              "50%                  2.30              51.00              1577.00   \n",
              "75%                  3.40              69.00              1994.00   \n",
              "max                  8.00              99.00              2000.00   \n",
              "\n",
              "       hour_bef_ozone  hour_bef_pm10  hour_bef_pm2.5   count  \n",
              "count         1383.00        1369.00         1342.00 1459.00  \n",
              "mean             0.04          57.17           30.33  108.56  \n",
              "std              0.02          31.77           14.71   82.63  \n",
              "min              0.00           9.00            8.00    1.00  \n",
              "25%              0.03          36.00           20.00   37.00  \n",
              "50%              0.04          51.00           26.00   96.00  \n",
              "75%              0.05          69.00           37.00  150.00  \n",
              "max              0.12         269.00           90.00  431.00  "
            ],
            "text/html": [
              "\n",
              "  <div id=\"df-ac6172be-a864-4b63-a92c-e0746f907ebc\">\n",
              "    <div class=\"colab-df-container\">\n",
              "      <div>\n",
              "<style scoped>\n",
              "    .dataframe tbody tr th:only-of-type {\n",
              "        vertical-align: middle;\n",
              "    }\n",
              "\n",
              "    .dataframe tbody tr th {\n",
              "        vertical-align: top;\n",
              "    }\n",
              "\n",
              "    .dataframe thead th {\n",
              "        text-align: right;\n",
              "    }\n",
              "</style>\n",
              "<table border=\"1\" class=\"dataframe\">\n",
              "  <thead>\n",
              "    <tr style=\"text-align: right;\">\n",
              "      <th></th>\n",
              "      <th>id</th>\n",
              "      <th>hour</th>\n",
              "      <th>hour_bef_temperature</th>\n",
              "      <th>hour_bef_precipitation</th>\n",
              "      <th>hour_bef_windspeed</th>\n",
              "      <th>hour_bef_humidity</th>\n",
              "      <th>hour_bef_visibility</th>\n",
              "      <th>hour_bef_ozone</th>\n",
              "      <th>hour_bef_pm10</th>\n",
              "      <th>hour_bef_pm2.5</th>\n",
              "      <th>count</th>\n",
              "    </tr>\n",
              "  </thead>\n",
              "  <tbody>\n",
              "    <tr>\n",
              "      <th>count</th>\n",
              "      <td>1459.00</td>\n",
              "      <td>1459.00</td>\n",
              "      <td>1457.00</td>\n",
              "      <td>1457.00</td>\n",
              "      <td>1450.00</td>\n",
              "      <td>1457.00</td>\n",
              "      <td>1457.00</td>\n",
              "      <td>1383.00</td>\n",
              "      <td>1369.00</td>\n",
              "      <td>1342.00</td>\n",
              "      <td>1459.00</td>\n",
              "    </tr>\n",
              "    <tr>\n",
              "      <th>mean</th>\n",
              "      <td>1105.91</td>\n",
              "      <td>11.49</td>\n",
              "      <td>16.72</td>\n",
              "      <td>0.03</td>\n",
              "      <td>2.48</td>\n",
              "      <td>52.23</td>\n",
              "      <td>1405.22</td>\n",
              "      <td>0.04</td>\n",
              "      <td>57.17</td>\n",
              "      <td>30.33</td>\n",
              "      <td>108.56</td>\n",
              "    </tr>\n",
              "    <tr>\n",
              "      <th>std</th>\n",
              "      <td>631.34</td>\n",
              "      <td>6.92</td>\n",
              "      <td>5.24</td>\n",
              "      <td>0.17</td>\n",
              "      <td>1.38</td>\n",
              "      <td>20.37</td>\n",
              "      <td>583.13</td>\n",
              "      <td>0.02</td>\n",
              "      <td>31.77</td>\n",
              "      <td>14.71</td>\n",
              "      <td>82.63</td>\n",
              "    </tr>\n",
              "    <tr>\n",
              "      <th>min</th>\n",
              "      <td>3.00</td>\n",
              "      <td>0.00</td>\n",
              "      <td>3.10</td>\n",
              "      <td>0.00</td>\n",
              "      <td>0.00</td>\n",
              "      <td>7.00</td>\n",
              "      <td>78.00</td>\n",
              "      <td>0.00</td>\n",
              "      <td>9.00</td>\n",
              "      <td>8.00</td>\n",
              "      <td>1.00</td>\n",
              "    </tr>\n",
              "    <tr>\n",
              "      <th>25%</th>\n",
              "      <td>555.50</td>\n",
              "      <td>5.50</td>\n",
              "      <td>12.80</td>\n",
              "      <td>0.00</td>\n",
              "      <td>1.40</td>\n",
              "      <td>36.00</td>\n",
              "      <td>879.00</td>\n",
              "      <td>0.03</td>\n",
              "      <td>36.00</td>\n",
              "      <td>20.00</td>\n",
              "      <td>37.00</td>\n",
              "    </tr>\n",
              "    <tr>\n",
              "      <th>50%</th>\n",
              "      <td>1115.00</td>\n",
              "      <td>11.00</td>\n",
              "      <td>16.60</td>\n",
              "      <td>0.00</td>\n",
              "      <td>2.30</td>\n",
              "      <td>51.00</td>\n",
              "      <td>1577.00</td>\n",
              "      <td>0.04</td>\n",
              "      <td>51.00</td>\n",
              "      <td>26.00</td>\n",
              "      <td>96.00</td>\n",
              "    </tr>\n",
              "    <tr>\n",
              "      <th>75%</th>\n",
              "      <td>1651.00</td>\n",
              "      <td>17.50</td>\n",
              "      <td>20.10</td>\n",
              "      <td>0.00</td>\n",
              "      <td>3.40</td>\n",
              "      <td>69.00</td>\n",
              "      <td>1994.00</td>\n",
              "      <td>0.05</td>\n",
              "      <td>69.00</td>\n",
              "      <td>37.00</td>\n",
              "      <td>150.00</td>\n",
              "    </tr>\n",
              "    <tr>\n",
              "      <th>max</th>\n",
              "      <td>2179.00</td>\n",
              "      <td>23.00</td>\n",
              "      <td>30.00</td>\n",
              "      <td>1.00</td>\n",
              "      <td>8.00</td>\n",
              "      <td>99.00</td>\n",
              "      <td>2000.00</td>\n",
              "      <td>0.12</td>\n",
              "      <td>269.00</td>\n",
              "      <td>90.00</td>\n",
              "      <td>431.00</td>\n",
              "    </tr>\n",
              "  </tbody>\n",
              "</table>\n",
              "</div>\n",
              "      <button class=\"colab-df-convert\" onclick=\"convertToInteractive('df-ac6172be-a864-4b63-a92c-e0746f907ebc')\"\n",
              "              title=\"Convert this dataframe to an interactive table.\"\n",
              "              style=\"display:none;\">\n",
              "        \n",
              "  <svg xmlns=\"http://www.w3.org/2000/svg\" height=\"24px\"viewBox=\"0 0 24 24\"\n",
              "       width=\"24px\">\n",
              "    <path d=\"M0 0h24v24H0V0z\" fill=\"none\"/>\n",
              "    <path d=\"M18.56 5.44l.94 2.06.94-2.06 2.06-.94-2.06-.94-.94-2.06-.94 2.06-2.06.94zm-11 1L8.5 8.5l.94-2.06 2.06-.94-2.06-.94L8.5 2.5l-.94 2.06-2.06.94zm10 10l.94 2.06.94-2.06 2.06-.94-2.06-.94-.94-2.06-.94 2.06-2.06.94z\"/><path d=\"M17.41 7.96l-1.37-1.37c-.4-.4-.92-.59-1.43-.59-.52 0-1.04.2-1.43.59L10.3 9.45l-7.72 7.72c-.78.78-.78 2.05 0 2.83L4 21.41c.39.39.9.59 1.41.59.51 0 1.02-.2 1.41-.59l7.78-7.78 2.81-2.81c.8-.78.8-2.07 0-2.86zM5.41 20L4 18.59l7.72-7.72 1.47 1.35L5.41 20z\"/>\n",
              "  </svg>\n",
              "      </button>\n",
              "      \n",
              "  <style>\n",
              "    .colab-df-container {\n",
              "      display:flex;\n",
              "      flex-wrap:wrap;\n",
              "      gap: 12px;\n",
              "    }\n",
              "\n",
              "    .colab-df-convert {\n",
              "      background-color: #E8F0FE;\n",
              "      border: none;\n",
              "      border-radius: 50%;\n",
              "      cursor: pointer;\n",
              "      display: none;\n",
              "      fill: #1967D2;\n",
              "      height: 32px;\n",
              "      padding: 0 0 0 0;\n",
              "      width: 32px;\n",
              "    }\n",
              "\n",
              "    .colab-df-convert:hover {\n",
              "      background-color: #E2EBFA;\n",
              "      box-shadow: 0px 1px 2px rgba(60, 64, 67, 0.3), 0px 1px 3px 1px rgba(60, 64, 67, 0.15);\n",
              "      fill: #174EA6;\n",
              "    }\n",
              "\n",
              "    [theme=dark] .colab-df-convert {\n",
              "      background-color: #3B4455;\n",
              "      fill: #D2E3FC;\n",
              "    }\n",
              "\n",
              "    [theme=dark] .colab-df-convert:hover {\n",
              "      background-color: #434B5C;\n",
              "      box-shadow: 0px 1px 3px 1px rgba(0, 0, 0, 0.15);\n",
              "      filter: drop-shadow(0px 1px 2px rgba(0, 0, 0, 0.3));\n",
              "      fill: #FFFFFF;\n",
              "    }\n",
              "  </style>\n",
              "\n",
              "      <script>\n",
              "        const buttonEl =\n",
              "          document.querySelector('#df-ac6172be-a864-4b63-a92c-e0746f907ebc button.colab-df-convert');\n",
              "        buttonEl.style.display =\n",
              "          google.colab.kernel.accessAllowed ? 'block' : 'none';\n",
              "\n",
              "        async function convertToInteractive(key) {\n",
              "          const element = document.querySelector('#df-ac6172be-a864-4b63-a92c-e0746f907ebc');\n",
              "          const dataTable =\n",
              "            await google.colab.kernel.invokeFunction('convertToInteractive',\n",
              "                                                     [key], {});\n",
              "          if (!dataTable) return;\n",
              "\n",
              "          const docLinkHtml = 'Like what you see? Visit the ' +\n",
              "            '<a target=\"_blank\" href=https://colab.research.google.com/notebooks/data_table.ipynb>data table notebook</a>'\n",
              "            + ' to learn more about interactive tables.';\n",
              "          element.innerHTML = '';\n",
              "          dataTable['output_type'] = 'display_data';\n",
              "          await google.colab.output.renderOutput(dataTable, element);\n",
              "          const docLink = document.createElement('div');\n",
              "          docLink.innerHTML = docLinkHtml;\n",
              "          element.appendChild(docLink);\n",
              "        }\n",
              "      </script>\n",
              "    </div>\n",
              "  </div>\n",
              "  "
            ]
          },
          "metadata": {},
          "execution_count": 39
        }
      ]
    },
    {
      "cell_type": "markdown",
      "source": [
        "- count: 해당 column에서 비어 있지 않은 값의 개수\n",
        "- mean: 평균\n",
        "- std: 표준편차\n",
        "- min: 최솟값 (이상치 포함)\n",
        "- 25% (Q1): 전체 데이터를 순서대로 정렬했을 때, 아래에서 부터 1/4번째 지점에 있는 값\n",
        "- 50% (Q2): 중앙값 (전체 데이터를 순서대로 정렬했을 때, 아래에서 부터 2/4번째 지점에 있는 값)\n",
        "- 75% (Q3): 전체 데이터를 순서대로 정렬했을 때, 아래에서 부터 3/4번째 지점에 있는 값\n",
        "- max: 최댓값 (이상치 포함)"
      ],
      "metadata": {
        "id": "k-Kr8q3hQb8b"
      }
    },
    {
      "cell_type": "code",
      "source": [
        "train_df.isnull().sum()"
      ],
      "metadata": {
        "colab": {
          "base_uri": "https://localhost:8080/"
        },
        "id": "WHNVNppaJSHI",
        "outputId": "5f486e37-23ea-46b7-c6a3-0ce788e6e0d2"
      },
      "execution_count": 40,
      "outputs": [
        {
          "output_type": "execute_result",
          "data": {
            "text/plain": [
              "id                          0\n",
              "hour                        0\n",
              "hour_bef_temperature        2\n",
              "hour_bef_precipitation      2\n",
              "hour_bef_windspeed          9\n",
              "hour_bef_humidity           2\n",
              "hour_bef_visibility         2\n",
              "hour_bef_ozone             76\n",
              "hour_bef_pm10              90\n",
              "hour_bef_pm2.5            117\n",
              "count                       0\n",
              "dtype: int64"
            ]
          },
          "metadata": {},
          "execution_count": 40
        }
      ]
    },
    {
      "cell_type": "markdown",
      "source": [
        "## 결측값 처리"
      ],
      "metadata": {
        "id": "5q0tLZkDMFdB"
      }
    },
    {
      "cell_type": "code",
      "source": [
        "# 모든 컬럼이 결측값인 행 제거\n",
        "df_drop_all = train_df.dropna(how='all')\n",
        "df_drop_all.isnull().sum()"
      ],
      "metadata": {
        "colab": {
          "base_uri": "https://localhost:8080/"
        },
        "id": "L5GPXj-jJX5M",
        "outputId": "356fff26-9f8b-4422-fb41-9792287f3d38"
      },
      "execution_count": 41,
      "outputs": [
        {
          "output_type": "execute_result",
          "data": {
            "text/plain": [
              "id                          0\n",
              "hour                        0\n",
              "hour_bef_temperature        2\n",
              "hour_bef_precipitation      2\n",
              "hour_bef_windspeed          9\n",
              "hour_bef_humidity           2\n",
              "hour_bef_visibility         2\n",
              "hour_bef_ozone             76\n",
              "hour_bef_pm10              90\n",
              "hour_bef_pm2.5            117\n",
              "count                       0\n",
              "dtype: int64"
            ]
          },
          "metadata": {},
          "execution_count": 41
        }
      ]
    },
    {
      "cell_type": "code",
      "source": [
        "# 특정 컬럼(hour_bef_temperature)이 결측값인 행 제거\n",
        "df_drop_slt = train_df.dropna(subset=['hour_bef_temperature'])\n",
        "df_drop_slt.isnull().sum()"
      ],
      "metadata": {
        "colab": {
          "base_uri": "https://localhost:8080/"
        },
        "id": "NsQW2gN-Kr1A",
        "outputId": "2fa93140-a157-48b6-f623-e8844ddd0663"
      },
      "execution_count": 42,
      "outputs": [
        {
          "output_type": "execute_result",
          "data": {
            "text/plain": [
              "id                          0\n",
              "hour                        0\n",
              "hour_bef_temperature        0\n",
              "hour_bef_precipitation      0\n",
              "hour_bef_windspeed          7\n",
              "hour_bef_humidity           0\n",
              "hour_bef_visibility         0\n",
              "hour_bef_ozone             74\n",
              "hour_bef_pm10              88\n",
              "hour_bef_pm2.5            115\n",
              "count                       0\n",
              "dtype: int64"
            ]
          },
          "metadata": {},
          "execution_count": 42
        }
      ]
    },
    {
      "cell_type": "code",
      "source": [
        "# 한 컬럼이라도 결측치가 있는 행 제거\n",
        "df_drop_any = train_df.dropna(how='any')\n",
        "df_drop_any.isnull().sum()"
      ],
      "metadata": {
        "colab": {
          "base_uri": "https://localhost:8080/"
        },
        "id": "HHT47zEjLNuX",
        "outputId": "65603972-504e-4653-e879-801cdf98236b"
      },
      "execution_count": 43,
      "outputs": [
        {
          "output_type": "execute_result",
          "data": {
            "text/plain": [
              "id                        0\n",
              "hour                      0\n",
              "hour_bef_temperature      0\n",
              "hour_bef_precipitation    0\n",
              "hour_bef_windspeed        0\n",
              "hour_bef_humidity         0\n",
              "hour_bef_visibility       0\n",
              "hour_bef_ozone            0\n",
              "hour_bef_pm10             0\n",
              "hour_bef_pm2.5            0\n",
              "count                     0\n",
              "dtype: int64"
            ]
          },
          "metadata": {},
          "execution_count": 43
        }
      ]
    },
    {
      "cell_type": "markdown",
      "source": [
        "## 상관관계"
      ],
      "metadata": {
        "id": "IrhbCKNnac6g"
      }
    },
    {
      "cell_type": "code",
      "source": [
        "import seaborn as sns"
      ],
      "metadata": {
        "id": "xlDxJhMHRaH9"
      },
      "execution_count": 44,
      "outputs": []
    },
    {
      "cell_type": "code",
      "source": [
        "plt.figure(figsize=(10, 10))\n",
        "sns.heatmap(train_df.corr(), fmt='.1f', annot=True)\n",
        "# -1, 1 양 끝 값에 가까울수록 상관관계 높음\n",
        "# 0.3 < a : 상관관계가 있다\n",
        "# 0.7 < a : 상관관계가 높다"
      ],
      "metadata": {
        "colab": {
          "base_uri": "https://localhost:8080/",
          "height": 911
        },
        "id": "DVHNlw4kahBc",
        "outputId": "d0a6bb8b-db32-4928-d878-cf61a38f608a"
      },
      "execution_count": 45,
      "outputs": [
        {
          "output_type": "execute_result",
          "data": {
            "text/plain": [
              "<Axes: >"
            ]
          },
          "metadata": {},
          "execution_count": 45
        },
        {
          "output_type": "display_data",
          "data": {
            "text/plain": [
              "<Figure size 1000x1000 with 2 Axes>"
            ],
            "image/png": "[encoded data removed]"
          },
          "metadata": {}
        }
      ]
    },
    {
      "cell_type": "code",
      "source": [
        "sns.displot(data=train_df, x='hour', y='count',\n",
        "            hue='hour_bef_precipitation', col='hour_bef_precipitation')"
      ],
      "metadata": {
        "colab": {
          "base_uri": "https://localhost:8080/",
          "height": 390
        },
        "id": "rP_Lq0cROfrE",
        "outputId": "2a89a1ce-3f7a-4097-e7a6-e810271dc7fc"
      },
      "execution_count": 46,
      "outputs": [
        {
          "output_type": "execute_result",
          "data": {
            "text/plain": [
              "<seaborn.axisgrid.FacetGrid at 0x7ff83b2f3b20>"
            ]
          },
          "metadata": {},
          "execution_count": 46
        },
        {
          "output_type": "display_data",
          "data": {
            "text/plain": [
              "<Figure size 1167.11x500 with 2 Axes>"
            ],
            "image/png": "[encoded data removed]"
          },
          "metadata": {}
        }
      ]
    },
    {
      "cell_type": "code",
      "source": [
        "sns.boxplot(x = 'hour', y = 'hour_bef_humidity', data = train_df)"
      ],
      "metadata": {
        "colab": {
          "base_uri": "https://localhost:8080/",
          "height": 466
        },
        "id": "EaUTbn-YRJLu",
        "outputId": "fb4604f2-8ef0-43e0-b74a-487e961adf3f"
      },
      "execution_count": 47,
      "outputs": [
        {
          "output_type": "execute_result",
          "data": {
            "text/plain": [
              "<Axes: xlabel='hour', ylabel='hour_bef_humidity'>"
            ]
          },
          "metadata": {},
          "execution_count": 47
        },
        {
          "output_type": "display_data",
          "data": {
            "text/plain": [
              "<Figure size 640x480 with 1 Axes>"
            ],
            "image/png": "[encoded data removed]"
          },
          "metadata": {}
        }
      ]
    },
    {
      "cell_type": "code",
      "source": [
        "# 시간 별 습도와 비 정보의 관계\n",
        "sns.relplot(x='hour', y='hour_bef_humidity',\n",
        "            hue='hour_bef_precipitation', size='count', data=train_df)"
      ],
      "metadata": {
        "colab": {
          "base_uri": "https://localhost:8080/",
          "height": 524
        },
        "id": "5_d4TFh0R8wL",
        "outputId": "ffdb7854-11f7-4734-bb30-23879a3b9b2e"
      },
      "execution_count": 48,
      "outputs": [
        {
          "output_type": "execute_result",
          "data": {
            "text/plain": [
              "<seaborn.axisgrid.FacetGrid at 0x7ff83b64f790>"
            ]
          },
          "metadata": {},
          "execution_count": 48
        },
        {
          "output_type": "display_data",
          "data": {
            "text/plain": [
              "<Figure size 678.222x500 with 1 Axes>"
            ],
            "image/png": "[encoded data removed]"
          },
          "metadata": {}
        }
      ]
    },
    {
      "cell_type": "code",
      "source": [
        "# 시간에 따른 대여수\n",
        "hour = np.array(train_df['hour'])\n",
        "count = np.array(train_df['count'])\n",
        "plt.bar(hour, count)\n",
        "plt.show()"
      ],
      "metadata": {
        "colab": {
          "base_uri": "https://localhost:8080/",
          "height": 430
        },
        "id": "y80zekaAPpI7",
        "outputId": "32399626-0aac-46d4-fbf4-3caf0828c61c"
      },
      "execution_count": 61,
      "outputs": [
        {
          "output_type": "display_data",
          "data": {
            "text/plain": [
              "<Figure size 640x480 with 1 Axes>"
            ],
            "image/png": "[encoded data removed]"
          },
          "metadata": {}
        }
      ]
    },
    {
      "cell_type": "code",
      "source": [
        "# 기온에 따른 대여수\n",
        "temp = np.array(train_df['hour_bef_temperature'])\n",
        "count = np.array(train_df['count'])\n",
        "plt.scatter(temp, count)\n",
        "plt.show()"
      ],
      "metadata": {
        "colab": {
          "base_uri": "https://localhost:8080/",
          "height": 430
        },
        "id": "gc18AS50QJo5",
        "outputId": "2b3c3cdc-7cc1-459e-99f6-d06fef96fc8e"
      },
      "execution_count": 64,
      "outputs": [
        {
          "output_type": "display_data",
          "data": {
            "text/plain": [
              "<Figure size 640x480 with 1 Axes>"
            ],
            "image/png": "[encoded data removed]"
          },
          "metadata": {}
        }
      ]
    },
    {
      "cell_type": "code",
      "source": [
        "train_df['hour'].unique()"
      ],
      "metadata": {
        "colab": {
          "base_uri": "https://localhost:8080/"
        },
        "id": "kbzHLj_xbgxU",
        "outputId": "7ee218ff-2b47-479b-c4b4-46e3f1e1973d"
      },
      "execution_count": 53,
      "outputs": [
        {
          "output_type": "execute_result",
          "data": {
            "text/plain": [
              "array([20, 13,  6, 23, 18,  2,  3, 21,  9, 14,  4, 10,  1, 17,  8, 16,  0,\n",
              "        7, 15, 19, 22, 11,  5, 12])"
            ]
          },
          "metadata": {},
          "execution_count": 53
        }
      ]
    },
    {
      "cell_type": "code",
      "source": [
        "time = train_df.groupby('hour')\n",
        "time.mean()"
      ],
      "metadata": {
        "colab": {
          "base_uri": "https://localhost:8080/",
          "height": 897
        },
        "id": "y_ETOqguTV0l",
        "outputId": "aa91b2b8-254b-437c-b67b-65843665224a"
      },
      "execution_count": 49,
      "outputs": [
        {
          "output_type": "execute_result",
          "data": {
            "text/plain": [
              "          id  hour_bef_temperature  hour_bef_precipitation  \\\n",
              "hour                                                         \n",
              "0    1200.02                 14.79                    0.02   \n",
              "1    1074.92                 14.16                    0.05   \n",
              "2    1077.89                 13.75                    0.05   \n",
              "3    1146.70                 13.36                    0.03   \n",
              "4    1194.79                 13.00                    0.02   \n",
              "5    1091.82                 12.67                    0.02   \n",
              "6    1112.39                 12.38                    0.02   \n",
              "7    1086.26                 12.19                    0.02   \n",
              "8    1086.49                 12.60                    0.03   \n",
              "9    1076.52                 14.32                    0.02   \n",
              "10    965.70                 16.24                    0.02   \n",
              "11   1208.80                 18.02                    0.00   \n",
              "12   1149.64                 19.46                    0.02   \n",
              "13    988.62                 20.65                    0.02   \n",
              "14   1067.33                 21.23                    0.07   \n",
              "15   1181.92                 21.74                    0.07   \n",
              "16   1029.10                 22.02                    0.05   \n",
              "17   1178.95                 21.60                    0.10   \n",
              "18   1127.33                 20.93                    0.02   \n",
              "19   1153.15                 19.70                    0.03   \n",
              "20   1000.93                 18.19                    0.05   \n",
              "21   1109.12                 16.98                    0.02   \n",
              "22   1153.33                 16.06                    0.03   \n",
              "23   1079.84                 15.42                    0.02   \n",
              "\n",
              "      hour_bef_windspeed  hour_bef_humidity  hour_bef_visibility  \\\n",
              "hour                                                               \n",
              "0                   1.97              58.17              1434.22   \n",
              "1                   1.84              60.46              1400.85   \n",
              "2                   1.63              61.72              1374.28   \n",
              "3                   1.62              63.13              1326.31   \n",
              "4                   1.41              64.57              1264.61   \n",
              "5                   1.30              66.00              1203.43   \n",
              "6                   1.33              67.41              1146.23   \n",
              "7                   1.26              67.93              1150.31   \n",
              "8                   1.63              64.05              1152.87   \n",
              "9                   1.83              57.80              1189.10   \n",
              "10                  2.12              51.62              1291.30   \n",
              "11                  2.49              46.26              1358.87   \n",
              "12                  2.77              42.15              1469.61   \n",
              "13                  3.28              38.85              1512.27   \n",
              "14                  3.52              37.57              1519.72   \n",
              "15                  3.77              37.39              1528.07   \n",
              "16                  3.82              36.45              1566.58   \n",
              "17                  3.80              38.88              1561.73   \n",
              "18                  3.84              40.45              1581.85   \n",
              "19                  3.60              43.57              1576.69   \n",
              "20                  3.28              47.57              1565.56   \n",
              "21                  2.76              50.45              1590.02   \n",
              "22                  2.50              53.95              1512.08   \n",
              "23                  2.20              56.39              1462.51   \n",
              "\n",
              "      hour_bef_ozone  hour_bef_pm10  hour_bef_pm2.5  count  \n",
              "hour                                                        \n",
              "0               0.03          55.88           30.98  71.77  \n",
              "1                NaN            NaN             NaN  47.61  \n",
              "2               0.03          58.48           31.37  31.41  \n",
              "3               0.03          59.18           31.47  21.38  \n",
              "4               0.03          58.28           32.12  13.52  \n",
              "5               0.03          56.72           31.53  13.11  \n",
              "6               0.03          56.15           31.60  24.56  \n",
              "7               0.03          56.53           31.78  62.36  \n",
              "8               0.02          57.92           31.80 136.69  \n",
              "9               0.02          59.15           31.62  93.54  \n",
              "10              0.03          61.08           30.95  78.80  \n",
              "11              0.03          60.30           30.83  88.33  \n",
              "12              0.04          59.34           29.28 111.90  \n",
              "13              0.05          59.59           29.95 120.05  \n",
              "14              0.05          58.28           29.84 134.59  \n",
              "15              0.06          57.36           28.74 152.97  \n",
              "16              0.06          57.32           27.91 169.10  \n",
              "17              0.06          57.09           28.55 187.13  \n",
              "18              0.06          56.88           29.13 262.16  \n",
              "19              0.05          53.85           28.34 201.61  \n",
              "20              0.05          53.12           28.85 164.87  \n",
              "21              0.04          53.93           29.69 168.82  \n",
              "22              0.04          54.10           30.22 148.25  \n",
              "23              0.04          54.43           30.59 103.85  "
            ],
            "text/html": [
              "\n",
              "  <div id=\"df-168cb872-d8f6-4d04-9aae-fc7567594bc5\">\n",
              "    <div class=\"colab-df-container\">\n",
              "      <div>\n",
              "<style scoped>\n",
              "    .dataframe tbody tr th:only-of-type {\n",
              "        vertical-align: middle;\n",
              "    }\n",
              "\n",
              "    .dataframe tbody tr th {\n",
              "        vertical-align: top;\n",
              "    }\n",
              "\n",
              "    .dataframe thead th {\n",
              "        text-align: right;\n",
              "    }\n",
              "</style>\n",
              "<table border=\"1\" class=\"dataframe\">\n",
              "  <thead>\n",
              "    <tr style=\"text-align: right;\">\n",
              "      <th></th>\n",
              "      <th>id</th>\n",
              "      <th>hour_bef_temperature</th>\n",
              "      <th>hour_bef_precipitation</th>\n",
              "      <th>hour_bef_windspeed</th>\n",
              "      <th>hour_bef_humidity</th>\n",
              "      <th>hour_bef_visibility</th>\n",
              "      <th>hour_bef_ozone</th>\n",
              "      <th>hour_bef_pm10</th>\n",
              "      <th>hour_bef_pm2.5</th>\n",
              "      <th>count</th>\n",
              "    </tr>\n",
              "    <tr>\n",
              "      <th>hour</th>\n",
              "      <th></th>\n",
              "      <th></th>\n",
              "      <th></th>\n",
              "      <th></th>\n",
              "      <th></th>\n",
              "      <th></th>\n",
              "      <th></th>\n",
              "      <th></th>\n",
              "      <th></th>\n",
              "      <th></th>\n",
              "    </tr>\n",
              "  </thead>\n",
              "  <tbody>\n",
              "    <tr>\n",
              "      <th>0</th>\n",
              "      <td>1200.02</td>\n",
              "      <td>14.79</td>\n",
              "      <td>0.02</td>\n",
              "      <td>1.97</td>\n",
              "      <td>58.17</td>\n",
              "      <td>1434.22</td>\n",
              "      <td>0.03</td>\n",
              "      <td>55.88</td>\n",
              "      <td>30.98</td>\n",
              "      <td>71.77</td>\n",
              "    </tr>\n",
              "    <tr>\n",
              "      <th>1</th>\n",
              "      <td>1074.92</td>\n",
              "      <td>14.16</td>\n",
              "      <td>0.05</td>\n",
              "      <td>1.84</td>\n",
              "      <td>60.46</td>\n",
              "      <td>1400.85</td>\n",
              "      <td>NaN</td>\n",
              "      <td>NaN</td>\n",
              "      <td>NaN</td>\n",
              "      <td>47.61</td>\n",
              "    </tr>\n",
              "    <tr>\n",
              "      <th>2</th>\n",
              "      <td>1077.89</td>\n",
              "      <td>13.75</td>\n",
              "      <td>0.05</td>\n",
              "      <td>1.63</td>\n",
              "      <td>61.72</td>\n",
              "      <td>1374.28</td>\n",
              "      <td>0.03</td>\n",
              "      <td>58.48</td>\n",
              "      <td>31.37</td>\n",
              "      <td>31.41</td>\n",
              "    </tr>\n",
              "    <tr>\n",
              "      <th>3</th>\n",
              "      <td>1146.70</td>\n",
              "      <td>13.36</td>\n",
              "      <td>0.03</td>\n",
              "      <td>1.62</td>\n",
              "      <td>63.13</td>\n",
              "      <td>1326.31</td>\n",
              "      <td>0.03</td>\n",
              "      <td>59.18</td>\n",
              "      <td>31.47</td>\n",
              "      <td>21.38</td>\n",
              "    </tr>\n",
              "    <tr>\n",
              "      <th>4</th>\n",
              "      <td>1194.79</td>\n",
              "      <td>13.00</td>\n",
              "      <td>0.02</td>\n",
              "      <td>1.41</td>\n",
              "      <td>64.57</td>\n",
              "      <td>1264.61</td>\n",
              "      <td>0.03</td>\n",
              "      <td>58.28</td>\n",
              "      <td>32.12</td>\n",
              "      <td>13.52</td>\n",
              "    </tr>\n",
              "    <tr>\n",
              "      <th>5</th>\n",
              "      <td>1091.82</td>\n",
              "      <td>12.67</td>\n",
              "      <td>0.02</td>\n",
              "      <td>1.30</td>\n",
              "      <td>66.00</td>\n",
              "      <td>1203.43</td>\n",
              "      <td>0.03</td>\n",
              "      <td>56.72</td>\n",
              "      <td>31.53</td>\n",
              "      <td>13.11</td>\n",
              "    </tr>\n",
              "    <tr>\n",
              "      <th>6</th>\n",
              "      <td>1112.39</td>\n",
              "      <td>12.38</td>\n",
              "      <td>0.02</td>\n",
              "      <td>1.33</td>\n",
              "      <td>67.41</td>\n",
              "      <td>1146.23</td>\n",
              "      <td>0.03</td>\n",
              "      <td>56.15</td>\n",
              "      <td>31.60</td>\n",
              "      <td>24.56</td>\n",
              "    </tr>\n",
              "    <tr>\n",
              "      <th>7</th>\n",
              "      <td>1086.26</td>\n",
              "      <td>12.19</td>\n",
              "      <td>0.02</td>\n",
              "      <td>1.26</td>\n",
              "      <td>67.93</td>\n",
              "      <td>1150.31</td>\n",
              "      <td>0.03</td>\n",
              "      <td>56.53</td>\n",
              "      <td>31.78</td>\n",
              "      <td>62.36</td>\n",
              "    </tr>\n",
              "    <tr>\n",
              "      <th>8</th>\n",
              "      <td>1086.49</td>\n",
              "      <td>12.60</td>\n",
              "      <td>0.03</td>\n",
              "      <td>1.63</td>\n",
              "      <td>64.05</td>\n",
              "      <td>1152.87</td>\n",
              "      <td>0.02</td>\n",
              "      <td>57.92</td>\n",
              "      <td>31.80</td>\n",
              "      <td>136.69</td>\n",
              "    </tr>\n",
              "    <tr>\n",
              "      <th>9</th>\n",
              "      <td>1076.52</td>\n",
              "      <td>14.32</td>\n",
              "      <td>0.02</td>\n",
              "      <td>1.83</td>\n",
              "      <td>57.80</td>\n",
              "      <td>1189.10</td>\n",
              "      <td>0.02</td>\n",
              "      <td>59.15</td>\n",
              "      <td>31.62</td>\n",
              "      <td>93.54</td>\n",
              "    </tr>\n",
              "    <tr>\n",
              "      <th>10</th>\n",
              "      <td>965.70</td>\n",
              "      <td>16.24</td>\n",
              "      <td>0.02</td>\n",
              "      <td>2.12</td>\n",
              "      <td>51.62</td>\n",
              "      <td>1291.30</td>\n",
              "      <td>0.03</td>\n",
              "      <td>61.08</td>\n",
              "      <td>30.95</td>\n",
              "      <td>78.80</td>\n",
              "    </tr>\n",
              "    <tr>\n",
              "      <th>11</th>\n",
              "      <td>1208.80</td>\n",
              "      <td>18.02</td>\n",
              "      <td>0.00</td>\n",
              "      <td>2.49</td>\n",
              "      <td>46.26</td>\n",
              "      <td>1358.87</td>\n",
              "      <td>0.03</td>\n",
              "      <td>60.30</td>\n",
              "      <td>30.83</td>\n",
              "      <td>88.33</td>\n",
              "    </tr>\n",
              "    <tr>\n",
              "      <th>12</th>\n",
              "      <td>1149.64</td>\n",
              "      <td>19.46</td>\n",
              "      <td>0.02</td>\n",
              "      <td>2.77</td>\n",
              "      <td>42.15</td>\n",
              "      <td>1469.61</td>\n",
              "      <td>0.04</td>\n",
              "      <td>59.34</td>\n",
              "      <td>29.28</td>\n",
              "      <td>111.90</td>\n",
              "    </tr>\n",
              "    <tr>\n",
              "      <th>13</th>\n",
              "      <td>988.62</td>\n",
              "      <td>20.65</td>\n",
              "      <td>0.02</td>\n",
              "      <td>3.28</td>\n",
              "      <td>38.85</td>\n",
              "      <td>1512.27</td>\n",
              "      <td>0.05</td>\n",
              "      <td>59.59</td>\n",
              "      <td>29.95</td>\n",
              "      <td>120.05</td>\n",
              "    </tr>\n",
              "    <tr>\n",
              "      <th>14</th>\n",
              "      <td>1067.33</td>\n",
              "      <td>21.23</td>\n",
              "      <td>0.07</td>\n",
              "      <td>3.52</td>\n",
              "      <td>37.57</td>\n",
              "      <td>1519.72</td>\n",
              "      <td>0.05</td>\n",
              "      <td>58.28</td>\n",
              "      <td>29.84</td>\n",
              "      <td>134.59</td>\n",
              "    </tr>\n",
              "    <tr>\n",
              "      <th>15</th>\n",
              "      <td>1181.92</td>\n",
              "      <td>21.74</td>\n",
              "      <td>0.07</td>\n",
              "      <td>3.77</td>\n",
              "      <td>37.39</td>\n",
              "      <td>1528.07</td>\n",
              "      <td>0.06</td>\n",
              "      <td>57.36</td>\n",
              "      <td>28.74</td>\n",
              "      <td>152.97</td>\n",
              "    </tr>\n",
              "    <tr>\n",
              "      <th>16</th>\n",
              "      <td>1029.10</td>\n",
              "      <td>22.02</td>\n",
              "      <td>0.05</td>\n",
              "      <td>3.82</td>\n",
              "      <td>36.45</td>\n",
              "      <td>1566.58</td>\n",
              "      <td>0.06</td>\n",
              "      <td>57.32</td>\n",
              "      <td>27.91</td>\n",
              "      <td>169.10</td>\n",
              "    </tr>\n",
              "    <tr>\n",
              "      <th>17</th>\n",
              "      <td>1178.95</td>\n",
              "      <td>21.60</td>\n",
              "      <td>0.10</td>\n",
              "      <td>3.80</td>\n",
              "      <td>38.88</td>\n",
              "      <td>1561.73</td>\n",
              "      <td>0.06</td>\n",
              "      <td>57.09</td>\n",
              "      <td>28.55</td>\n",
              "      <td>187.13</td>\n",
              "    </tr>\n",
              "    <tr>\n",
              "      <th>18</th>\n",
              "      <td>1127.33</td>\n",
              "      <td>20.93</td>\n",
              "      <td>0.02</td>\n",
              "      <td>3.84</td>\n",
              "      <td>40.45</td>\n",
              "      <td>1581.85</td>\n",
              "      <td>0.06</td>\n",
              "      <td>56.88</td>\n",
              "      <td>29.13</td>\n",
              "      <td>262.16</td>\n",
              "    </tr>\n",
              "    <tr>\n",
              "      <th>19</th>\n",
              "      <td>1153.15</td>\n",
              "      <td>19.70</td>\n",
              "      <td>0.03</td>\n",
              "      <td>3.60</td>\n",
              "      <td>43.57</td>\n",
              "      <td>1576.69</td>\n",
              "      <td>0.05</td>\n",
              "      <td>53.85</td>\n",
              "      <td>28.34</td>\n",
              "      <td>201.61</td>\n",
              "    </tr>\n",
              "    <tr>\n",
              "      <th>20</th>\n",
              "      <td>1000.93</td>\n",
              "      <td>18.19</td>\n",
              "      <td>0.05</td>\n",
              "      <td>3.28</td>\n",
              "      <td>47.57</td>\n",
              "      <td>1565.56</td>\n",
              "      <td>0.05</td>\n",
              "      <td>53.12</td>\n",
              "      <td>28.85</td>\n",
              "      <td>164.87</td>\n",
              "    </tr>\n",
              "    <tr>\n",
              "      <th>21</th>\n",
              "      <td>1109.12</td>\n",
              "      <td>16.98</td>\n",
              "      <td>0.02</td>\n",
              "      <td>2.76</td>\n",
              "      <td>50.45</td>\n",
              "      <td>1590.02</td>\n",
              "      <td>0.04</td>\n",
              "      <td>53.93</td>\n",
              "      <td>29.69</td>\n",
              "      <td>168.82</td>\n",
              "    </tr>\n",
              "    <tr>\n",
              "      <th>22</th>\n",
              "      <td>1153.33</td>\n",
              "      <td>16.06</td>\n",
              "      <td>0.03</td>\n",
              "      <td>2.50</td>\n",
              "      <td>53.95</td>\n",
              "      <td>1512.08</td>\n",
              "      <td>0.04</td>\n",
              "      <td>54.10</td>\n",
              "      <td>30.22</td>\n",
              "      <td>148.25</td>\n",
              "    </tr>\n",
              "    <tr>\n",
              "      <th>23</th>\n",
              "      <td>1079.84</td>\n",
              "      <td>15.42</td>\n",
              "      <td>0.02</td>\n",
              "      <td>2.20</td>\n",
              "      <td>56.39</td>\n",
              "      <td>1462.51</td>\n",
              "      <td>0.04</td>\n",
              "      <td>54.43</td>\n",
              "      <td>30.59</td>\n",
              "      <td>103.85</td>\n",
              "    </tr>\n",
              "  </tbody>\n",
              "</table>\n",
              "</div>\n",
              "      <button class=\"colab-df-convert\" onclick=\"convertToInteractive('df-168cb872-d8f6-4d04-9aae-fc7567594bc5')\"\n",
              "              title=\"Convert this dataframe to an interactive table.\"\n",
              "              style=\"display:none;\">\n",
              "        \n",
              "  <svg xmlns=\"http://www.w3.org/2000/svg\" height=\"24px\"viewBox=\"0 0 24 24\"\n",
              "       width=\"24px\">\n",
              "    <path d=\"M0 0h24v24H0V0z\" fill=\"none\"/>\n",
              "    <path d=\"M18.56 5.44l.94 2.06.94-2.06 2.06-.94-2.06-.94-.94-2.06-.94 2.06-2.06.94zm-11 1L8.5 8.5l.94-2.06 2.06-.94-2.06-.94L8.5 2.5l-.94 2.06-2.06.94zm10 10l.94 2.06.94-2.06 2.06-.94-2.06-.94-.94-2.06-.94 2.06-2.06.94z\"/><path d=\"M17.41 7.96l-1.37-1.37c-.4-.4-.92-.59-1.43-.59-.52 0-1.04.2-1.43.59L10.3 9.45l-7.72 7.72c-.78.78-.78 2.05 0 2.83L4 21.41c.39.39.9.59 1.41.59.51 0 1.02-.2 1.41-.59l7.78-7.78 2.81-2.81c.8-.78.8-2.07 0-2.86zM5.41 20L4 18.59l7.72-7.72 1.47 1.35L5.41 20z\"/>\n",
              "  </svg>\n",
              "      </button>\n",
              "      \n",
              "  <style>\n",
              "    .colab-df-container {\n",
              "      display:flex;\n",
              "      flex-wrap:wrap;\n",
              "      gap: 12px;\n",
              "    }\n",
              "\n",
              "    .colab-df-convert {\n",
              "      background-color: #E8F0FE;\n",
              "      border: none;\n",
              "      border-radius: 50%;\n",
              "      cursor: pointer;\n",
              "      display: none;\n",
              "      fill: #1967D2;\n",
              "      height: 32px;\n",
              "      padding: 0 0 0 0;\n",
              "      width: 32px;\n",
              "    }\n",
              "\n",
              "    .colab-df-convert:hover {\n",
              "      background-color: #E2EBFA;\n",
              "      box-shadow: 0px 1px 2px rgba(60, 64, 67, 0.3), 0px 1px 3px 1px rgba(60, 64, 67, 0.15);\n",
              "      fill: #174EA6;\n",
              "    }\n",
              "\n",
              "    [theme=dark] .colab-df-convert {\n",
              "      background-color: #3B4455;\n",
              "      fill: #D2E3FC;\n",
              "    }\n",
              "\n",
              "    [theme=dark] .colab-df-convert:hover {\n",
              "      background-color: #434B5C;\n",
              "      box-shadow: 0px 1px 3px 1px rgba(0, 0, 0, 0.15);\n",
              "      filter: drop-shadow(0px 1px 2px rgba(0, 0, 0, 0.3));\n",
              "      fill: #FFFFFF;\n",
              "    }\n",
              "  </style>\n",
              "\n",
              "      <script>\n",
              "        const buttonEl =\n",
              "          document.querySelector('#df-168cb872-d8f6-4d04-9aae-fc7567594bc5 button.colab-df-convert');\n",
              "        buttonEl.style.display =\n",
              "          google.colab.kernel.accessAllowed ? 'block' : 'none';\n",
              "\n",
              "        async function convertToInteractive(key) {\n",
              "          const element = document.querySelector('#df-168cb872-d8f6-4d04-9aae-fc7567594bc5');\n",
              "          const dataTable =\n",
              "            await google.colab.kernel.invokeFunction('convertToInteractive',\n",
              "                                                     [key], {});\n",
              "          if (!dataTable) return;\n",
              "\n",
              "          const docLinkHtml = 'Like what you see? Visit the ' +\n",
              "            '<a target=\"_blank\" href=https://colab.research.google.com/notebooks/data_table.ipynb>data table notebook</a>'\n",
              "            + ' to learn more about interactive tables.';\n",
              "          element.innerHTML = '';\n",
              "          dataTable['output_type'] = 'display_data';\n",
              "          await google.colab.output.renderOutput(dataTable, element);\n",
              "          const docLink = document.createElement('div');\n",
              "          docLink.innerHTML = docLinkHtml;\n",
              "          element.appendChild(docLink);\n",
              "        }\n",
              "      </script>\n",
              "    </div>\n",
              "  </div>\n",
              "  "
            ]
          },
          "metadata": {},
          "execution_count": 49
        }
      ]
    },
    {
      "cell_type": "code",
      "source": [
        "# 시간대별로 평균 몇 개가 대여가 되었을까?\n",
        "train_df.groupby('hour')['count'].mean()"
      ],
      "metadata": {
        "colab": {
          "base_uri": "https://localhost:8080/"
        },
        "id": "2LskIUjTRa3j",
        "outputId": "4c32760d-70b9-4183-bdca-1ad714ea0154"
      },
      "execution_count": 65,
      "outputs": [
        {
          "output_type": "execute_result",
          "data": {
            "text/plain": [
              "hour\n",
              "0     71.77\n",
              "1     47.61\n",
              "2     31.41\n",
              "3     21.38\n",
              "4     13.52\n",
              "5     13.11\n",
              "6     24.56\n",
              "7     62.36\n",
              "8    136.69\n",
              "9     93.54\n",
              "10    78.80\n",
              "11    88.33\n",
              "12   111.90\n",
              "13   120.05\n",
              "14   134.59\n",
              "15   152.97\n",
              "16   169.10\n",
              "17   187.13\n",
              "18   262.16\n",
              "19   201.61\n",
              "20   164.87\n",
              "21   168.82\n",
              "22   148.25\n",
              "23   103.85\n",
              "Name: count, dtype: float64"
            ]
          },
          "metadata": {},
          "execution_count": 65
        }
      ]
    },
    {
      "cell_type": "code",
      "source": [
        "plt.plot(train_df.groupby(['hour'])['count'].mean())\n",
        "plt.axvline(x=8,color='r')\n",
        "plt.axvline(x=18,color='r')\n",
        "plt.text(6, 150, 'go work')\n",
        "plt.text(16, 150, 'leave work')"
      ],
      "metadata": {
        "colab": {
          "base_uri": "https://localhost:8080/",
          "height": 447
        },
        "id": "Y4MqDy5XR41r",
        "outputId": "bf25c42d-d02c-4989-eb50-4c7091d51416"
      },
      "execution_count": 67,
      "outputs": [
        {
          "output_type": "execute_result",
          "data": {
            "text/plain": [
              "Text(16, 150, 'leave work')"
            ]
          },
          "metadata": {},
          "execution_count": 67
        },
        {
          "output_type": "display_data",
          "data": {
            "text/plain": [
              "<Figure size 640x480 with 1 Axes>"
            ],
            "image/png": "[encoded data removed]"
          },
          "metadata": {}
        }
      ]
    }
  ]
}