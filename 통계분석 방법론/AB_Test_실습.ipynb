{
  "nbformat": 4,
  "nbformat_minor": 0,
  "metadata": {
    "colab": {
      "provenance": [],
      "include_colab_link": true
    },
    "kernelspec": {
      "name": "python3",
      "display_name": "Python 3"
    },
    "language_info": {
      "name": "python"
    }
  },
  "cells": [
    {
      "cell_type": "markdown",
      "metadata": {
        "id": "view-in-github",
        "colab_type": "text"
      },
      "source": [
        "<a href=\"https://colab.research.google.com/github/yesyell/DA_School_1/blob/main/%ED%86%B5%EA%B3%84%EB%B6%84%EC%84%9D%20%EB%B0%A9%EB%B2%95%EB%A1%A0/AB_Test_%EC%8B%A4%EC%8A%B5.ipynb\" target=\"_parent\"><img src=\"https://colab.research.google.com/assets/colab-badge.svg\" alt=\"Open In Colab\"/></a>"
      ]
    },
    {
      "cell_type": "markdown",
      "source": [
        "가설 : 기존 웹사이트(A) 대비 신규 웹사이트(B)로 바꾸었을때, 고객 평균 체류시간이 늘어났다."
      ],
      "metadata": {
        "id": "nh1QHuz-8DCA"
      }
    },
    {
      "cell_type": "markdown",
      "source": [
        "# AB 테스트 - 유저의 광고로 인한 방문 여부 테스트하기"
      ],
      "metadata": {
        "id": "oSrnsi92M46U"
      }
    },
    {
      "cell_type": "code",
      "source": [
        "import numpy as np\n",
        "import pandas as pd\n",
        "\n",
        "# 데이터 생성\n",
        "np.random.seed(0)\n",
        "n = 100\n",
        "group = np.random.choice(['A', 'B'], size=n, p=[0.5, 0.5])\n",
        "time_on_site = np.where(group == 'A',\n",
        "                        np.random.normal(loc=5, scale=1, size=n),\n",
        "                        np.random.normal(loc=5.2, scale=1, size=n))\n",
        "df = pd.DataFrame({'Group': group, 'TimeOnSite': time_on_site})\n",
        "\n",
        "print(\"Data:\")\n",
        "df"
      ],
      "metadata": {
        "colab": {
          "base_uri": "https://localhost:8080/",
          "height": 441
        },
        "id": "hpE7jxUaNoul",
        "outputId": "9dc8d4db-0216-47b7-d3fd-fcc9de965e04"
      },
      "execution_count": null,
      "outputs": [
        {
          "output_type": "stream",
          "name": "stdout",
          "text": [
            "Data:\n"
          ]
        },
        {
          "output_type": "execute_result",
          "data": {
            "text/plain": [
              "   Group  TimeOnSite\n",
              "0      B    4.846006\n",
              "1      B    3.825049\n",
              "2      B    4.556382\n",
              "3      B    2.976597\n",
              "4      A    6.488252\n",
              "..   ...         ...\n",
              "95     A    5.681595\n",
              "96     B    5.693742\n",
              "97     A    4.310450\n",
              "98     B    3.169316\n",
              "99     A    5.017479\n",
              "\n",
              "[100 rows x 2 columns]"
            ],
            "text/html": [
              "\n",
              "  <div id=\"df-ed8e3c33-8f92-48d9-8653-ec81c8324810\">\n",
              "    <div class=\"colab-df-container\">\n",
              "      <div>\n",
              "<style scoped>\n",
              "    .dataframe tbody tr th:only-of-type {\n",
              "        vertical-align: middle;\n",
              "    }\n",
              "\n",
              "    .dataframe tbody tr th {\n",
              "        vertical-align: top;\n",
              "    }\n",
              "\n",
              "    .dataframe thead th {\n",
              "        text-align: right;\n",
              "    }\n",
              "</style>\n",
              "<table border=\"1\" class=\"dataframe\">\n",
              "  <thead>\n",
              "    <tr style=\"text-align: right;\">\n",
              "      <th></th>\n",
              "      <th>Group</th>\n",
              "      <th>TimeOnSite</th>\n",
              "    </tr>\n",
              "  </thead>\n",
              "  <tbody>\n",
              "    <tr>\n",
              "      <th>0</th>\n",
              "      <td>B</td>\n",
              "      <td>4.846006</td>\n",
              "    </tr>\n",
              "    <tr>\n",
              "      <th>1</th>\n",
              "      <td>B</td>\n",
              "      <td>3.825049</td>\n",
              "    </tr>\n",
              "    <tr>\n",
              "      <th>2</th>\n",
              "      <td>B</td>\n",
              "      <td>4.556382</td>\n",
              "    </tr>\n",
              "    <tr>\n",
              "      <th>3</th>\n",
              "      <td>B</td>\n",
              "      <td>2.976597</td>\n",
              "    </tr>\n",
              "    <tr>\n",
              "      <th>4</th>\n",
              "      <td>A</td>\n",
              "      <td>6.488252</td>\n",
              "    </tr>\n",
              "    <tr>\n",
              "      <th>...</th>\n",
              "      <td>...</td>\n",
              "      <td>...</td>\n",
              "    </tr>\n",
              "    <tr>\n",
              "      <th>95</th>\n",
              "      <td>A</td>\n",
              "      <td>5.681595</td>\n",
              "    </tr>\n",
              "    <tr>\n",
              "      <th>96</th>\n",
              "      <td>B</td>\n",
              "      <td>5.693742</td>\n",
              "    </tr>\n",
              "    <tr>\n",
              "      <th>97</th>\n",
              "      <td>A</td>\n",
              "      <td>4.310450</td>\n",
              "    </tr>\n",
              "    <tr>\n",
              "      <th>98</th>\n",
              "      <td>B</td>\n",
              "      <td>3.169316</td>\n",
              "    </tr>\n",
              "    <tr>\n",
              "      <th>99</th>\n",
              "      <td>A</td>\n",
              "      <td>5.017479</td>\n",
              "    </tr>\n",
              "  </tbody>\n",
              "</table>\n",
              "<p>100 rows × 2 columns</p>\n",
              "</div>\n",
              "      <button class=\"colab-df-convert\" onclick=\"convertToInteractive('df-ed8e3c33-8f92-48d9-8653-ec81c8324810')\"\n",
              "              title=\"Convert this dataframe to an interactive table.\"\n",
              "              style=\"display:none;\">\n",
              "        \n",
              "  <svg xmlns=\"http://www.w3.org/2000/svg\" height=\"24px\"viewBox=\"0 0 24 24\"\n",
              "       width=\"24px\">\n",
              "    <path d=\"M0 0h24v24H0V0z\" fill=\"none\"/>\n",
              "    <path d=\"M18.56 5.44l.94 2.06.94-2.06 2.06-.94-2.06-.94-.94-2.06-.94 2.06-2.06.94zm-11 1L8.5 8.5l.94-2.06 2.06-.94-2.06-.94L8.5 2.5l-.94 2.06-2.06.94zm10 10l.94 2.06.94-2.06 2.06-.94-2.06-.94-.94-2.06-.94 2.06-2.06.94z\"/><path d=\"M17.41 7.96l-1.37-1.37c-.4-.4-.92-.59-1.43-.59-.52 0-1.04.2-1.43.59L10.3 9.45l-7.72 7.72c-.78.78-.78 2.05 0 2.83L4 21.41c.39.39.9.59 1.41.59.51 0 1.02-.2 1.41-.59l7.78-7.78 2.81-2.81c.8-.78.8-2.07 0-2.86zM5.41 20L4 18.59l7.72-7.72 1.47 1.35L5.41 20z\"/>\n",
              "  </svg>\n",
              "      </button>\n",
              "      \n",
              "  <style>\n",
              "    .colab-df-container {\n",
              "      display:flex;\n",
              "      flex-wrap:wrap;\n",
              "      gap: 12px;\n",
              "    }\n",
              "\n",
              "    .colab-df-convert {\n",
              "      background-color: #E8F0FE;\n",
              "      border: none;\n",
              "      border-radius: 50%;\n",
              "      cursor: pointer;\n",
              "      display: none;\n",
              "      fill: #1967D2;\n",
              "      height: 32px;\n",
              "      padding: 0 0 0 0;\n",
              "      width: 32px;\n",
              "    }\n",
              "\n",
              "    .colab-df-convert:hover {\n",
              "      background-color: #E2EBFA;\n",
              "      box-shadow: 0px 1px 2px rgba(60, 64, 67, 0.3), 0px 1px 3px 1px rgba(60, 64, 67, 0.15);\n",
              "      fill: #174EA6;\n",
              "    }\n",
              "\n",
              "    [theme=dark] .colab-df-convert {\n",
              "      background-color: #3B4455;\n",
              "      fill: #D2E3FC;\n",
              "    }\n",
              "\n",
              "    [theme=dark] .colab-df-convert:hover {\n",
              "      background-color: #434B5C;\n",
              "      box-shadow: 0px 1px 3px 1px rgba(0, 0, 0, 0.15);\n",
              "      filter: drop-shadow(0px 1px 2px rgba(0, 0, 0, 0.3));\n",
              "      fill: #FFFFFF;\n",
              "    }\n",
              "  </style>\n",
              "\n",
              "      <script>\n",
              "        const buttonEl =\n",
              "          document.querySelector('#df-ed8e3c33-8f92-48d9-8653-ec81c8324810 button.colab-df-convert');\n",
              "        buttonEl.style.display =\n",
              "          google.colab.kernel.accessAllowed ? 'block' : 'none';\n",
              "\n",
              "        async function convertToInteractive(key) {\n",
              "          const element = document.querySelector('#df-ed8e3c33-8f92-48d9-8653-ec81c8324810');\n",
              "          const dataTable =\n",
              "            await google.colab.kernel.invokeFunction('convertToInteractive',\n",
              "                                                     [key], {});\n",
              "          if (!dataTable) return;\n",
              "\n",
              "          const docLinkHtml = 'Like what you see? Visit the ' +\n",
              "            '<a target=\"_blank\" href=https://colab.research.google.com/notebooks/data_table.ipynb>data table notebook</a>'\n",
              "            + ' to learn more about interactive tables.';\n",
              "          element.innerHTML = '';\n",
              "          dataTable['output_type'] = 'display_data';\n",
              "          await google.colab.output.renderOutput(dataTable, element);\n",
              "          const docLink = document.createElement('div');\n",
              "          docLink.innerHTML = docLinkHtml;\n",
              "          element.appendChild(docLink);\n",
              "        }\n",
              "      </script>\n",
              "    </div>\n",
              "  </div>\n",
              "  "
            ]
          },
          "metadata": {},
          "execution_count": 2
        }
      ]
    },
    {
      "cell_type": "code",
      "source": [
        "from scipy import stats\n",
        "\n",
        "# 데이터 나누기\n",
        "Group_A = df[df['Group'] == 'A']\n",
        "Group_B = df[df['Group'] == 'B']\n",
        "\n",
        "Group_Test_A = Group_A['TimeOnSite']\n",
        "Group_Test_B = Group_B['TimeOnSite']"
      ],
      "metadata": {
        "id": "h4ILtOAfNpB3"
      },
      "execution_count": null,
      "outputs": []
    },
    {
      "cell_type": "code",
      "source": [
        "Group_A['TimeOnSite'].describe()"
      ],
      "metadata": {
        "colab": {
          "base_uri": "https://localhost:8080/"
        },
        "id": "2weXNsfEPBtb",
        "outputId": "602609d6-d465-4d4b-d400-32f474cdd36c"
      },
      "execution_count": null,
      "outputs": [
        {
          "output_type": "execute_result",
          "data": {
            "text/plain": [
              "count    51.000000\n",
              "mean      5.244532\n",
              "std       1.015571\n",
              "min       3.455229\n",
              "25%       4.433061\n",
              "50%       5.396007\n",
              "75%       5.946950\n",
              "max       7.383145\n",
              "Name: TimeOnSite, dtype: float64"
            ]
          },
          "metadata": {},
          "execution_count": 4
        }
      ]
    },
    {
      "cell_type": "code",
      "source": [
        "Group_B['TimeOnSite'].describe()"
      ],
      "metadata": {
        "colab": {
          "base_uri": "https://localhost:8080/"
        },
        "id": "pSvvNc5bPCWj",
        "outputId": "31a0547b-dfe2-4494-878c-6b2b48655a16"
      },
      "execution_count": null,
      "outputs": [
        {
          "output_type": "execute_result",
          "data": {
            "text/plain": [
              "count    49.000000\n",
              "mean      4.963798\n",
              "std       1.060401\n",
              "min       2.427407\n",
              "25%       4.460437\n",
              "50%       5.067119\n",
              "75%       5.579152\n",
              "max       7.459309\n",
              "Name: TimeOnSite, dtype: float64"
            ]
          },
          "metadata": {},
          "execution_count": 5
        }
      ]
    },
    {
      "cell_type": "code",
      "source": [
        "# 검정실시\n",
        "stats.ttest_ind(Group_Test_A,\n",
        "                Group_Test_B,\n",
        "                equal_var=False) # 등분산성이 같지 않다\n",
        "\n",
        "# 해당 옵션을 사용하면 Welch의 t-test를 사용하게 됩니다.\n",
        "# 아직 여러분들이 통계학에 대한 이론적인 내용을 더 얻기에는 쉽지 않기 때문에 해당 내용을 가정하고 분석을 합니다.\n",
        "\n",
        "# 귀무가설 A와 B가 같다.\n",
        "# 대립가설 A와 B가 차이가 있다.\n",
        "# 0.05 < 0.17 귀무가설을 기각할수 없어! -> 차이가 없다."
      ],
      "metadata": {
        "colab": {
          "base_uri": "https://localhost:8080/"
        },
        "id": "JmlJTd-UN65g",
        "outputId": "4a9dab64-64ec-47f0-862d-a8f1658be7c4"
      },
      "execution_count": null,
      "outputs": [
        {
          "output_type": "execute_result",
          "data": {
            "text/plain": [
              "Ttest_indResult(statistic=1.3511318528865477, pvalue=0.17978594413747812)"
            ]
          },
          "metadata": {},
          "execution_count": 6
        }
      ]
    },
    {
      "cell_type": "code",
      "source": [
        "# 우리가 원하는것은 A(새로운 광고)가 B(기존 광고)보다 고객유입이 잘되는 것을 파악하기 위함\n",
        "# Pvalue가 0.05보다 높으면 귀무가설을 기각할 수 없기 때문에 즉,새로운 광고가 더 낫다고 할 수 없음"
      ],
      "metadata": {
        "id": "n9XB-HvNN-s-"
      },
      "execution_count": null,
      "outputs": []
    },
    {
      "cell_type": "markdown",
      "source": [
        "* 가설검정은 각 그룹의 평균값으로 비교\n",
        "* A가 평균 방문횟수가 더 많지만 유의미한 차이인지에 대한 의문\n",
        "* 평균차이는 없었다. 라는 가설이 있으면 그것을 검정하게 됩니다. t-test(독립 t 검정)이라고 부릅니다.\n",
        "* p-value는 평균의 차이가 있느냐 없느냐를 판단하는 척도 입니다. 전통적인 통계학은 p-value가 0.05보다 낮으면 그 결론을 기각한다 라고 말합니다.\n",
        "* 현재 우리가 한 p-value값은 0.17이므로 통계적으로는 유의미하지 않습니다.\n",
        "* AB테스트의 표면적인 결과는 0.3번만큼더 방문했지만 비즈니스적으로 광고를 추가적으로 해도 별차이가 없음을 보여줍니다."
      ],
      "metadata": {
        "id": "CeY77A4RPaXA"
      }
    },
    {
      "cell_type": "code",
      "source": [
        "# equal_var = False 를 파라미터로 넣으면 사이파이의 패키지는 Welch의 t-test를 사용합니다.\n",
        "# 이렇게 분산이 갖고 다름을 등분산성, 이분산성이라고 부릅니다.\n",
        "\n",
        "# 통계학적으로는 데이터의 크기가 극단적으로 다르거나, 정규성과는 거리가 많이 멀거나,\n",
        "# 분산이 달라짐에 따라 효과크기, 검정력 등의 다양한 요소가 영향을 주고 받기 때문에\n",
        "# 등분산성을 어떻게 가정하고 t-test를 진행해야하는지 오늘날까지도 논란이 많습니다.\n",
        "\n",
        "# 개인적으로, AB 테스트를 진행해야하는 실무자에게는 끊임 없는 학문적 논의보다는\n",
        "# 빠른 의사결정과 자신의 데이터 환경에 맞는 방법론을 적절히 선택하는 게 중요하다고 생각합니다.\n",
        "# 일단은 False로 두고 테스트를 하는 것을 추천드립니다.\n",
        "# 실무에서 수집한 데이터의 분산이 같기는 드물 뿐더러 수집 데이터의 갯수가 같은 경우는 더욱 드물기 때문입니다.\n",
        "\n",
        "# AB 테스트를 통해 수집한 데이터는 그 양이 지나치게 적지 않는 한\n",
        "# 정규성 (극단적으로 크고 작은 값보다는 중간 정도의 값이 많은 성격) 정도는 보장되는 경우가 많은 것도\n",
        "# 웰치의 t-test를 기본으로 사용하게 되는 이유 중 하나입니다."
      ],
      "metadata": {
        "id": "hZPCAhAC6fi-"
      },
      "execution_count": null,
      "outputs": []
    },
    {
      "cell_type": "code",
      "source": [
        "# 분산이 같을 경우"
      ],
      "metadata": {
        "id": "vgJOFYey7F-f"
      },
      "execution_count": null,
      "outputs": []
    },
    {
      "cell_type": "code",
      "source": [
        "group = ['B', 'B', 'B', 'B', 'B', 'B', 'G', 'G','G','G','G','G','G']\n",
        "test = [8.8,8.4,7.9,8.7,9.1,9.6, 9.9, 9.0, 11.1, 9.6, 8.7, 10.4 ,9.5]\n",
        "df = pd.DataFrame({'Group': group, 'test': test})\n",
        "df"
      ],
      "metadata": {
        "id": "mgdpaOrm7F7i",
        "outputId": "5b16c351-006c-4c59-abf7-92bfa87e96ad",
        "colab": {
          "base_uri": "https://localhost:8080/",
          "height": 457
        }
      },
      "execution_count": null,
      "outputs": [
        {
          "output_type": "execute_result",
          "data": {
            "text/plain": [
              "   Group  test\n",
              "0      B   8.8\n",
              "1      B   8.4\n",
              "2      B   7.9\n",
              "3      B   8.7\n",
              "4      B   9.1\n",
              "5      B   9.6\n",
              "6      G   9.9\n",
              "7      G   9.0\n",
              "8      G  11.1\n",
              "9      G   9.6\n",
              "10     G   8.7\n",
              "11     G  10.4\n",
              "12     G   9.5"
            ],
            "text/html": [
              "\n",
              "  <div id=\"df-1de3055b-7d1a-4675-b503-e36b0186995b\">\n",
              "    <div class=\"colab-df-container\">\n",
              "      <div>\n",
              "<style scoped>\n",
              "    .dataframe tbody tr th:only-of-type {\n",
              "        vertical-align: middle;\n",
              "    }\n",
              "\n",
              "    .dataframe tbody tr th {\n",
              "        vertical-align: top;\n",
              "    }\n",
              "\n",
              "    .dataframe thead th {\n",
              "        text-align: right;\n",
              "    }\n",
              "</style>\n",
              "<table border=\"1\" class=\"dataframe\">\n",
              "  <thead>\n",
              "    <tr style=\"text-align: right;\">\n",
              "      <th></th>\n",
              "      <th>Group</th>\n",
              "      <th>test</th>\n",
              "    </tr>\n",
              "  </thead>\n",
              "  <tbody>\n",
              "    <tr>\n",
              "      <th>0</th>\n",
              "      <td>B</td>\n",
              "      <td>8.8</td>\n",
              "    </tr>\n",
              "    <tr>\n",
              "      <th>1</th>\n",
              "      <td>B</td>\n",
              "      <td>8.4</td>\n",
              "    </tr>\n",
              "    <tr>\n",
              "      <th>2</th>\n",
              "      <td>B</td>\n",
              "      <td>7.9</td>\n",
              "    </tr>\n",
              "    <tr>\n",
              "      <th>3</th>\n",
              "      <td>B</td>\n",
              "      <td>8.7</td>\n",
              "    </tr>\n",
              "    <tr>\n",
              "      <th>4</th>\n",
              "      <td>B</td>\n",
              "      <td>9.1</td>\n",
              "    </tr>\n",
              "    <tr>\n",
              "      <th>5</th>\n",
              "      <td>B</td>\n",
              "      <td>9.6</td>\n",
              "    </tr>\n",
              "    <tr>\n",
              "      <th>6</th>\n",
              "      <td>G</td>\n",
              "      <td>9.9</td>\n",
              "    </tr>\n",
              "    <tr>\n",
              "      <th>7</th>\n",
              "      <td>G</td>\n",
              "      <td>9.0</td>\n",
              "    </tr>\n",
              "    <tr>\n",
              "      <th>8</th>\n",
              "      <td>G</td>\n",
              "      <td>11.1</td>\n",
              "    </tr>\n",
              "    <tr>\n",
              "      <th>9</th>\n",
              "      <td>G</td>\n",
              "      <td>9.6</td>\n",
              "    </tr>\n",
              "    <tr>\n",
              "      <th>10</th>\n",
              "      <td>G</td>\n",
              "      <td>8.7</td>\n",
              "    </tr>\n",
              "    <tr>\n",
              "      <th>11</th>\n",
              "      <td>G</td>\n",
              "      <td>10.4</td>\n",
              "    </tr>\n",
              "    <tr>\n",
              "      <th>12</th>\n",
              "      <td>G</td>\n",
              "      <td>9.5</td>\n",
              "    </tr>\n",
              "  </tbody>\n",
              "</table>\n",
              "</div>\n",
              "      <button class=\"colab-df-convert\" onclick=\"convertToInteractive('df-1de3055b-7d1a-4675-b503-e36b0186995b')\"\n",
              "              title=\"Convert this dataframe to an interactive table.\"\n",
              "              style=\"display:none;\">\n",
              "        \n",
              "  <svg xmlns=\"http://www.w3.org/2000/svg\" height=\"24px\"viewBox=\"0 0 24 24\"\n",
              "       width=\"24px\">\n",
              "    <path d=\"M0 0h24v24H0V0z\" fill=\"none\"/>\n",
              "    <path d=\"M18.56 5.44l.94 2.06.94-2.06 2.06-.94-2.06-.94-.94-2.06-.94 2.06-2.06.94zm-11 1L8.5 8.5l.94-2.06 2.06-.94-2.06-.94L8.5 2.5l-.94 2.06-2.06.94zm10 10l.94 2.06.94-2.06 2.06-.94-2.06-.94-.94-2.06-.94 2.06-2.06.94z\"/><path d=\"M17.41 7.96l-1.37-1.37c-.4-.4-.92-.59-1.43-.59-.52 0-1.04.2-1.43.59L10.3 9.45l-7.72 7.72c-.78.78-.78 2.05 0 2.83L4 21.41c.39.39.9.59 1.41.59.51 0 1.02-.2 1.41-.59l7.78-7.78 2.81-2.81c.8-.78.8-2.07 0-2.86zM5.41 20L4 18.59l7.72-7.72 1.47 1.35L5.41 20z\"/>\n",
              "  </svg>\n",
              "      </button>\n",
              "      \n",
              "  <style>\n",
              "    .colab-df-container {\n",
              "      display:flex;\n",
              "      flex-wrap:wrap;\n",
              "      gap: 12px;\n",
              "    }\n",
              "\n",
              "    .colab-df-convert {\n",
              "      background-color: #E8F0FE;\n",
              "      border: none;\n",
              "      border-radius: 50%;\n",
              "      cursor: pointer;\n",
              "      display: none;\n",
              "      fill: #1967D2;\n",
              "      height: 32px;\n",
              "      padding: 0 0 0 0;\n",
              "      width: 32px;\n",
              "    }\n",
              "\n",
              "    .colab-df-convert:hover {\n",
              "      background-color: #E2EBFA;\n",
              "      box-shadow: 0px 1px 2px rgba(60, 64, 67, 0.3), 0px 1px 3px 1px rgba(60, 64, 67, 0.15);\n",
              "      fill: #174EA6;\n",
              "    }\n",
              "\n",
              "    [theme=dark] .colab-df-convert {\n",
              "      background-color: #3B4455;\n",
              "      fill: #D2E3FC;\n",
              "    }\n",
              "\n",
              "    [theme=dark] .colab-df-convert:hover {\n",
              "      background-color: #434B5C;\n",
              "      box-shadow: 0px 1px 3px 1px rgba(0, 0, 0, 0.15);\n",
              "      filter: drop-shadow(0px 1px 2px rgba(0, 0, 0, 0.3));\n",
              "      fill: #FFFFFF;\n",
              "    }\n",
              "  </style>\n",
              "\n",
              "      <script>\n",
              "        const buttonEl =\n",
              "          document.querySelector('#df-1de3055b-7d1a-4675-b503-e36b0186995b button.colab-df-convert');\n",
              "        buttonEl.style.display =\n",
              "          google.colab.kernel.accessAllowed ? 'block' : 'none';\n",
              "\n",
              "        async function convertToInteractive(key) {\n",
              "          const element = document.querySelector('#df-1de3055b-7d1a-4675-b503-e36b0186995b');\n",
              "          const dataTable =\n",
              "            await google.colab.kernel.invokeFunction('convertToInteractive',\n",
              "                                                     [key], {});\n",
              "          if (!dataTable) return;\n",
              "\n",
              "          const docLinkHtml = 'Like what you see? Visit the ' +\n",
              "            '<a target=\"_blank\" href=https://colab.research.google.com/notebooks/data_table.ipynb>data table notebook</a>'\n",
              "            + ' to learn more about interactive tables.';\n",
              "          element.innerHTML = '';\n",
              "          dataTable['output_type'] = 'display_data';\n",
              "          await google.colab.output.renderOutput(dataTable, element);\n",
              "          const docLink = document.createElement('div');\n",
              "          docLink.innerHTML = docLinkHtml;\n",
              "          element.appendChild(docLink);\n",
              "        }\n",
              "      </script>\n",
              "    </div>\n",
              "  </div>\n",
              "  "
            ]
          },
          "metadata": {},
          "execution_count": 10
        }
      ]
    },
    {
      "cell_type": "code",
      "source": [
        "# 분산이 동일한지 보려면 분산 동일성 검정을 수행해야합니다.\n",
        "# stat 모듈의 stats.levene()으로 levene 검정을 수행합니다."
      ],
      "metadata": {
        "id": "S-lajzvX7F03"
      },
      "execution_count": null,
      "outputs": []
    },
    {
      "cell_type": "code",
      "source": [
        "from scipy import stats\n",
        "drugB = df.loc[df.Group =='B', 'test']\n",
        "drugG = df.loc[df.Group =='G', 'test']"
      ],
      "metadata": {
        "id": "qar4DyA57Fya"
      },
      "execution_count": null,
      "outputs": []
    },
    {
      "cell_type": "code",
      "source": [
        "levene = stats.levene(drugB, drugG)\n",
        "print(levene)"
      ],
      "metadata": {
        "colab": {
          "base_uri": "https://localhost:8080/"
        },
        "id": "v-afjWQ77tYC",
        "outputId": "ab6a5928-9974-422a-f475-1055bf99e2bd"
      },
      "execution_count": null,
      "outputs": [
        {
          "output_type": "stream",
          "name": "stdout",
          "text": [
            "LeveneResult(statistic=0.5208519677996435, pvalue=0.485536773334305)\n"
          ]
        }
      ]
    },
    {
      "cell_type": "code",
      "source": [
        "# p값이 통상적인 기준 0.05, 또는 0.1보다도 크므로 두 그룹의 분산이 동일하다는 가정을 받아들입니다.\n",
        "# 그렇지 않으면 분산이 다르다는 말입니다.\n",
        "# 이런 경우에는 equal_var = True로 지정합니다."
      ],
      "metadata": {
        "id": "-UHWkA947tVh"
      },
      "execution_count": null,
      "outputs": []
    },
    {
      "cell_type": "code",
      "source": [
        "# 검정실시\n",
        "stats.ttest_ind(drugB,\n",
        "                drugG,\n",
        "                equal_var=True) # 등분산성이 같음\n",
        "\n",
        "# 두 그룹간에는 유의한 차이가 있다라고 말할 수 있습니다."
      ],
      "metadata": {
        "colab": {
          "base_uri": "https://localhost:8080/"
        },
        "id": "-IPMe3nr8XV2",
        "outputId": "ae3ed742-b58f-4a6d-fcd3-6093de52af09"
      },
      "execution_count": null,
      "outputs": [
        {
          "output_type": "execute_result",
          "data": {
            "text/plain": [
              "Ttest_indResult(statistic=-2.4764898139809586, pvalue=0.030764898866015765)"
            ]
          },
          "metadata": {},
          "execution_count": 15
        }
      ]
    },
    {
      "cell_type": "code",
      "source": [
        "# 이런 경우에는 다시 재수행해봅니다.\n",
        "levene = stats.levene(Group_Test_A, Group_Test_B)\n",
        "print(levene)"
      ],
      "metadata": {
        "colab": {
          "base_uri": "https://localhost:8080/"
        },
        "id": "J3mkW1qX8cWa",
        "outputId": "fb8b50c8-5283-4b26-9752-d83b2698b8fc"
      },
      "execution_count": null,
      "outputs": [
        {
          "output_type": "stream",
          "name": "stdout",
          "text": [
            "LeveneResult(statistic=0.15909024503434524, pvalue=0.6908632702377716)\n"
          ]
        }
      ]
    },
    {
      "cell_type": "code",
      "source": [
        "# 검정실시\n",
        "stats.ttest_ind(Group_Test_A,\n",
        "                Group_Test_B,\n",
        "                equal_var=True) # 등분산성이 같음\n",
        "\n",
        "# 원래 결과와는 큰 차이가 나지는 않습니다만 그럼에도 정확한 분석을 진행했다는 신빙성을 줄수 있습니다."
      ],
      "metadata": {
        "colab": {
          "base_uri": "https://localhost:8080/"
        },
        "id": "TV_6FDOB8qE0",
        "outputId": "c60ffc37-77d5-4350-e158-1cad6844bdcf"
      },
      "execution_count": null,
      "outputs": [
        {
          "output_type": "execute_result",
          "data": {
            "text/plain": [
              "Ttest_indResult(statistic=1.3523108217489752, pvalue=0.1793882647737695)"
            ]
          },
          "metadata": {},
          "execution_count": 17
        }
      ]
    },
    {
      "cell_type": "markdown",
      "source": [
        "# 고객의 클릭내용을 토대로 AB 테스트 하기"
      ],
      "metadata": {
        "id": "s5ylgmiKRgu5"
      }
    },
    {
      "cell_type": "code",
      "source": [
        "# 카이제곱 독립성 검정을 사용할 예정\n",
        "# 카이제곱은 기댓값으로부터 어떤 관찰값까지의 거리를 나타내는 측정치를 의미하는데\n",
        "# 아까와 같이 평균의 수치를 검증하는 것이 아닌 범주별 건수를 비교할때 사용하는 방법입니다."
      ],
      "metadata": {
        "id": "dC_0FkQp9RME"
      },
      "execution_count": null,
      "outputs": []
    },
    {
      "cell_type": "markdown",
      "source": [
        "https://medium.com/@Aaron__Kim/a-b-%ED%85%8C%EC%8A%A4%ED%8A%B8-a-b-test-split-test-8269a1798762"
      ],
      "metadata": {
        "id": "PVfxMDeL9QZk"
      }
    },
    {
      "cell_type": "code",
      "source": [
        "import numpy as np\n",
        "import pandas as pd\n",
        "\n",
        "# 데이터 생성\n",
        "np.random.seed(0)\n",
        "n = 200\n",
        "group = np.random.choice(['A', 'B'], size=n, p=[0.5, 0.5])\n",
        "click = np.where(group == 'A',\n",
        "                 np.random.choice([0, 1], size=n, p=[0.6, 0.4]),\n",
        "                 np.random.choice([0, 1], size=n, p=[0.55, 0.45]))\n",
        "df = pd.DataFrame({'Group': group, 'Click': click})\n",
        "\n",
        "print(\"Data:\")\n",
        "df"
      ],
      "metadata": {
        "colab": {
          "base_uri": "https://localhost:8080/",
          "height": 441
        },
        "id": "B6YgCLlVRgIM",
        "outputId": "290cf156-baa1-4f1c-e36c-d4cdb19a68be"
      },
      "execution_count": null,
      "outputs": [
        {
          "output_type": "stream",
          "name": "stdout",
          "text": [
            "Data:\n"
          ]
        },
        {
          "output_type": "execute_result",
          "data": {
            "text/plain": [
              "    Group  Click\n",
              "0       B      0\n",
              "1       B      1\n",
              "2       B      0\n",
              "3       B      1\n",
              "4       A      0\n",
              "..    ...    ...\n",
              "195     A      1\n",
              "196     A      0\n",
              "197     A      0\n",
              "198     A      0\n",
              "199     A      0\n",
              "\n",
              "[200 rows x 2 columns]"
            ],
            "text/html": [
              "\n",
              "  <div id=\"df-7154ca51-3e38-409b-ab65-0cac818c88bd\">\n",
              "    <div class=\"colab-df-container\">\n",
              "      <div>\n",
              "<style scoped>\n",
              "    .dataframe tbody tr th:only-of-type {\n",
              "        vertical-align: middle;\n",
              "    }\n",
              "\n",
              "    .dataframe tbody tr th {\n",
              "        vertical-align: top;\n",
              "    }\n",
              "\n",
              "    .dataframe thead th {\n",
              "        text-align: right;\n",
              "    }\n",
              "</style>\n",
              "<table border=\"1\" class=\"dataframe\">\n",
              "  <thead>\n",
              "    <tr style=\"text-align: right;\">\n",
              "      <th></th>\n",
              "      <th>Group</th>\n",
              "      <th>Click</th>\n",
              "    </tr>\n",
              "  </thead>\n",
              "  <tbody>\n",
              "    <tr>\n",
              "      <th>0</th>\n",
              "      <td>B</td>\n",
              "      <td>0</td>\n",
              "    </tr>\n",
              "    <tr>\n",
              "      <th>1</th>\n",
              "      <td>B</td>\n",
              "      <td>1</td>\n",
              "    </tr>\n",
              "    <tr>\n",
              "      <th>2</th>\n",
              "      <td>B</td>\n",
              "      <td>0</td>\n",
              "    </tr>\n",
              "    <tr>\n",
              "      <th>3</th>\n",
              "      <td>B</td>\n",
              "      <td>1</td>\n",
              "    </tr>\n",
              "    <tr>\n",
              "      <th>4</th>\n",
              "      <td>A</td>\n",
              "      <td>0</td>\n",
              "    </tr>\n",
              "    <tr>\n",
              "      <th>...</th>\n",
              "      <td>...</td>\n",
              "      <td>...</td>\n",
              "    </tr>\n",
              "    <tr>\n",
              "      <th>195</th>\n",
              "      <td>A</td>\n",
              "      <td>1</td>\n",
              "    </tr>\n",
              "    <tr>\n",
              "      <th>196</th>\n",
              "      <td>A</td>\n",
              "      <td>0</td>\n",
              "    </tr>\n",
              "    <tr>\n",
              "      <th>197</th>\n",
              "      <td>A</td>\n",
              "      <td>0</td>\n",
              "    </tr>\n",
              "    <tr>\n",
              "      <th>198</th>\n",
              "      <td>A</td>\n",
              "      <td>0</td>\n",
              "    </tr>\n",
              "    <tr>\n",
              "      <th>199</th>\n",
              "      <td>A</td>\n",
              "      <td>0</td>\n",
              "    </tr>\n",
              "  </tbody>\n",
              "</table>\n",
              "<p>200 rows × 2 columns</p>\n",
              "</div>\n",
              "      <button class=\"colab-df-convert\" onclick=\"convertToInteractive('df-7154ca51-3e38-409b-ab65-0cac818c88bd')\"\n",
              "              title=\"Convert this dataframe to an interactive table.\"\n",
              "              style=\"display:none;\">\n",
              "        \n",
              "  <svg xmlns=\"http://www.w3.org/2000/svg\" height=\"24px\"viewBox=\"0 0 24 24\"\n",
              "       width=\"24px\">\n",
              "    <path d=\"M0 0h24v24H0V0z\" fill=\"none\"/>\n",
              "    <path d=\"M18.56 5.44l.94 2.06.94-2.06 2.06-.94-2.06-.94-.94-2.06-.94 2.06-2.06.94zm-11 1L8.5 8.5l.94-2.06 2.06-.94-2.06-.94L8.5 2.5l-.94 2.06-2.06.94zm10 10l.94 2.06.94-2.06 2.06-.94-2.06-.94-.94-2.06-.94 2.06-2.06.94z\"/><path d=\"M17.41 7.96l-1.37-1.37c-.4-.4-.92-.59-1.43-.59-.52 0-1.04.2-1.43.59L10.3 9.45l-7.72 7.72c-.78.78-.78 2.05 0 2.83L4 21.41c.39.39.9.59 1.41.59.51 0 1.02-.2 1.41-.59l7.78-7.78 2.81-2.81c.8-.78.8-2.07 0-2.86zM5.41 20L4 18.59l7.72-7.72 1.47 1.35L5.41 20z\"/>\n",
              "  </svg>\n",
              "      </button>\n",
              "      \n",
              "  <style>\n",
              "    .colab-df-container {\n",
              "      display:flex;\n",
              "      flex-wrap:wrap;\n",
              "      gap: 12px;\n",
              "    }\n",
              "\n",
              "    .colab-df-convert {\n",
              "      background-color: #E8F0FE;\n",
              "      border: none;\n",
              "      border-radius: 50%;\n",
              "      cursor: pointer;\n",
              "      display: none;\n",
              "      fill: #1967D2;\n",
              "      height: 32px;\n",
              "      padding: 0 0 0 0;\n",
              "      width: 32px;\n",
              "    }\n",
              "\n",
              "    .colab-df-convert:hover {\n",
              "      background-color: #E2EBFA;\n",
              "      box-shadow: 0px 1px 2px rgba(60, 64, 67, 0.3), 0px 1px 3px 1px rgba(60, 64, 67, 0.15);\n",
              "      fill: #174EA6;\n",
              "    }\n",
              "\n",
              "    [theme=dark] .colab-df-convert {\n",
              "      background-color: #3B4455;\n",
              "      fill: #D2E3FC;\n",
              "    }\n",
              "\n",
              "    [theme=dark] .colab-df-convert:hover {\n",
              "      background-color: #434B5C;\n",
              "      box-shadow: 0px 1px 3px 1px rgba(0, 0, 0, 0.15);\n",
              "      filter: drop-shadow(0px 1px 2px rgba(0, 0, 0, 0.3));\n",
              "      fill: #FFFFFF;\n",
              "    }\n",
              "  </style>\n",
              "\n",
              "      <script>\n",
              "        const buttonEl =\n",
              "          document.querySelector('#df-7154ca51-3e38-409b-ab65-0cac818c88bd button.colab-df-convert');\n",
              "        buttonEl.style.display =\n",
              "          google.colab.kernel.accessAllowed ? 'block' : 'none';\n",
              "\n",
              "        async function convertToInteractive(key) {\n",
              "          const element = document.querySelector('#df-7154ca51-3e38-409b-ab65-0cac818c88bd');\n",
              "          const dataTable =\n",
              "            await google.colab.kernel.invokeFunction('convertToInteractive',\n",
              "                                                     [key], {});\n",
              "          if (!dataTable) return;\n",
              "\n",
              "          const docLinkHtml = 'Like what you see? Visit the ' +\n",
              "            '<a target=\"_blank\" href=https://colab.research.google.com/notebooks/data_table.ipynb>data table notebook</a>'\n",
              "            + ' to learn more about interactive tables.';\n",
              "          element.innerHTML = '';\n",
              "          dataTable['output_type'] = 'display_data';\n",
              "          await google.colab.output.renderOutput(dataTable, element);\n",
              "          const docLink = document.createElement('div');\n",
              "          docLink.innerHTML = docLinkHtml;\n",
              "          element.appendChild(docLink);\n",
              "        }\n",
              "      </script>\n",
              "    </div>\n",
              "  </div>\n",
              "  "
            ]
          },
          "metadata": {},
          "execution_count": 19
        }
      ]
    },
    {
      "cell_type": "code",
      "source": [
        "from scipy.stats import chi2_contingency\n",
        "\n",
        "# 두 그룹의 데이터를 교차표(cross tabulation)로 변환\n",
        "cross_tab = pd.crosstab(df['Group'], df['Click'])\n",
        "\n",
        "# 카이제곱 검정 수행\n",
        "chi2_stat, p_value, dof, expected = chi2_contingency(cross_tab)\n",
        "\n",
        "print(\"Chi-square Test Result:\")\n",
        "print(\"Chi-square statistic:\", chi2_stat)\n",
        "print(\"p-value:\", p_value)"
      ],
      "metadata": {
        "colab": {
          "base_uri": "https://localhost:8080/"
        },
        "id": "2OwluNvZPq11",
        "outputId": "072c04ad-4a6d-45fd-cdc1-e3cdf874c1e2"
      },
      "execution_count": null,
      "outputs": [
        {
          "output_type": "stream",
          "name": "stdout",
          "text": [
            "Chi-square Test Result:\n",
            "Chi-square statistic: 0.08572733762728141\n",
            "p-value: 0.7696809054498869\n"
          ]
        }
      ]
    },
    {
      "cell_type": "code",
      "source": [
        "# 데이터간 비교 카이제곱 검정 결과는 p-value로 결정 -> 0.05보다 높으므로 차이점이 없음"
      ],
      "metadata": {
        "id": "TXcs4jeH33_r"
      },
      "execution_count": null,
      "outputs": []
    },
    {
      "cell_type": "code",
      "source": [
        "import pandas as pd\n",
        "from scipy.stats import chi2_contingency\n",
        "\n",
        "def click_abtest(a_click, total_a, b_click, total_b):\n",
        "\n",
        "    click = [a_click, b_click] # A와 B의 클릭한 유저 수\n",
        "    no_click = [total_a - a_click, total_b - b_click]  # A와 B의 클릭 안 한 유저 수\n",
        "    cont_table = pd.DataFrame([click, no_click], columns=['A', 'B'], index=['click', 'no_click'])\n",
        "    chi2, p_val, d_f, expected = chi2_contingency([click, no_click])\n",
        "\n",
        "    print(\"카이제곱 통계량 :\", format(chi2, '.5f'))\n",
        "    print(\"pvalue :\", format(p_val, '.5f'))\n",
        "\n",
        "# A의 클릭수(13)와 A의 데이터 전체 개수(244), B의 클릭수(40)와 A의 데이터 전체 개수(250)를 정의한 클래스에 넣어줍니다.\n",
        "click_abtest(13, 244, 40, 250)"
      ],
      "metadata": {
        "colab": {
          "base_uri": "https://localhost:8080/"
        },
        "id": "qsIx7YVxR1ho",
        "outputId": "f0b89515-0677-4ad8-d09e-589a750443aa"
      },
      "execution_count": null,
      "outputs": [
        {
          "output_type": "stream",
          "name": "stdout",
          "text": [
            "카이제곱 통계량 : 13.59088\n",
            "pvalue : 0.00023\n"
          ]
        }
      ]
    },
    {
      "cell_type": "code",
      "source": [
        "# p-value가 0.05보다 낮기 때문에 서로간의 차이가 있다고 확인!"
      ],
      "metadata": {
        "id": "aVyiFWnL3m1A"
      },
      "execution_count": null,
      "outputs": []
    },
    {
      "cell_type": "code",
      "source": [
        "# 역시 p-value에 따라 차이를 확인해야합니다.\n",
        "# 클릭을 했느냐 안했느냐 여부는 방문횟수나 시간의 양과는 다르게 특정값으로는 평균을 내는 방법이 다릅니다.\n",
        "# 왜냐하면 0과 1로만 되어있는 데이터이기 때문입니다. 아무런 값이 없을수도 있습니다.\n",
        "# 이러한 데이터를 보통 binary 데이터 또는 nominal 데이터라고도 합니다. (연속형이 아니기 때문에)\n",
        "\n",
        "# 따라서 예제 1과 같은 다른 방법으로 접근해야하며, 카이제곱검정이라는 방법론을 사용합니다."
      ],
      "metadata": {
        "id": "m4F5_fL5SJlV"
      },
      "execution_count": null,
      "outputs": []
    },
    {
      "cell_type": "markdown",
      "source": [
        "https://dewberry9.github.io/ab-test-frequentist-statistical-analysis"
      ],
      "metadata": {
        "id": "GggT8d4y-Ai6"
      }
    }
  ]
}