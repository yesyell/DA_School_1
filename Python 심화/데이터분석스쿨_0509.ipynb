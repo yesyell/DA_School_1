{
  "nbformat": 4,
  "nbformat_minor": 0,
  "metadata": {
    "colab": {
      "private_outputs": true,
      "provenance": [],
      "toc_visible": true,
      "authorship_tag": "ABX9TyOjxm6eAQxcu0xDfATE9BzX",
      "include_colab_link": true
    },
    "kernelspec": {
      "name": "python3",
      "display_name": "Python 3"
    },
    "language_info": {
      "name": "python"
    }
  },
  "cells": [
    {
      "cell_type": "markdown",
      "metadata": {
        "id": "view-in-github",
        "colab_type": "text"
      },
      "source": [
        "<a href=\"https://colab.research.google.com/github/yesyell/DA_School_1/blob/main/Python%20%EC%8B%AC%ED%99%94/%EB%8D%B0%EC%9D%B4%ED%84%B0%EB%B6%84%EC%84%9D%EC%8A%A4%EC%BF%A8_0509.ipynb\" target=\"_parent\"><img src=\"https://colab.research.google.com/assets/colab-badge.svg\" alt=\"Open In Colab\"/></a>"
      ]
    },
    {
      "cell_type": "markdown",
      "source": [
        "# 패킹과 언패킹"
      ],
      "metadata": {
        "id": "B1PomK3A4uGn"
      }
    },
    {
      "cell_type": "markdown",
      "source": [
        "- 패킹: 여러 개의 데이터를 컬렉션(리스트, 튜플, 딕셔너리)으로 묶어 변수에 대입\n",
        "- 언패킹: 컬렉션 속의 요소들을 여러 개의 변수에 나누어 대입"
      ],
      "metadata": {
        "id": "il7adhEr49hu"
      }
    },
    {
      "cell_type": "code",
      "source": [
        "numbers = (1, 2, 3, 4, 5)   # 패킹\n",
        "a, b, c, d, e = numbers     # 언패킹 - 변수의 개수와 요소의 개수가 일치해야 함 "
      ],
      "metadata": {
        "id": "g4wC2sO256ox"
      },
      "execution_count": null,
      "outputs": []
    },
    {
      "cell_type": "code",
      "source": [
        "# 불필요한 값을 언더바를 사용하여 생략할 수 있음\n",
        "a, _, _, d, e = numbers     # 필요 없는 요소를 _ 변수에 대입"
      ],
      "metadata": {
        "id": "2z7mMuE15lfG"
      },
      "execution_count": null,
      "outputs": []
    },
    {
      "cell_type": "code",
      "source": [
        "print(a)\n",
        "print(b)\n",
        "print(c)\n",
        "print(d)\n",
        "print(e)"
      ],
      "metadata": {
        "id": "EOFtjm0J5-aK"
      },
      "execution_count": null,
      "outputs": []
    },
    {
      "cell_type": "code",
      "source": [
        "# * 의 목적\n",
        "# 1) 남은 요소를 모두 대입하기 위함\n",
        "# 2) 오류가 나지 않게 하기 위함\n",
        "def sum_def(*arg):\n",
        "  return sum(arg)\n",
        "\n",
        "sum_def(1,2,3,4)"
      ],
      "metadata": {
        "id": "vrUeRq9T6Sdf"
      },
      "execution_count": null,
      "outputs": []
    },
    {
      "cell_type": "code",
      "source": [
        "# 변수 내에서 설명 - 남은 요소 대입받기\n",
        "# 언패킹 시, 좌변의 변수 중 하나에 별 기호(*)를 붙이면, 남은 요소 전체를 리스트에 담아 대입한다.\n",
        "numbers = (1, 2, 3, 4, 5)\n",
        "\n",
        "a, b, *rest = numbers     # 1, 2를 제외한 나머지를 rest에 대입\n",
        "print(a, b, rest)\n",
        "# 1 2 [3, 4, 5]\n",
        "\n",
        "a, *rest, e = numbers     # 1, 5를 제외한 나머지를 rest에 대입\n",
        "print(rest)\n",
        "# [2, 3, 4]"
      ],
      "metadata": {
        "id": "gsfErTlX7SKh"
      },
      "execution_count": null,
      "outputs": []
    },
    {
      "cell_type": "code",
      "source": [
        "# 위치 인자와 언패킹 사용하기\n",
        "# 위치 인자(positional argument): 함수에 인자를 순서대로 넣는 방식. 변수를 할당 받을때 일반적으로 사용.\n",
        "# 순서가 중요한 함수인 경우에는 위치 인자를 사용할때 주의 해야 함.(머신러닝, 딥러닝)\n",
        "\n",
        "x = [10, 20, 30]\n",
        "print(x)\n",
        "print(*x)   # 변수에 * 을 사용할 때는 리스트, 튜플, 딕셔너리가 언패킹됨"
      ],
      "metadata": {
        "id": "UhlN05sb7Sk9"
      },
      "execution_count": null,
      "outputs": []
    },
    {
      "cell_type": "code",
      "source": [
        "def print_numbers(*args):\n",
        "    print(args)\n",
        "    for arg in args:\n",
        "        print(arg)\n",
        "\n",
        "print_numbers(1,2,3,4)\n",
        "print_numbers(*[1,2,3,4])"
      ],
      "metadata": {
        "id": "csWTajDx85OI"
      },
      "execution_count": null,
      "outputs": []
    },
    {
      "cell_type": "code",
      "source": [
        "# 위치 인자 (non-default)\n",
        "# 위치 인자 (default)\n",
        "# / (위치 인자들 어딘가에 존재한다)\n",
        "# 위치 가변 인자 (*args)\n",
        "# 키워드 전용 인자 (기본값 유무는 상관 없다)\n",
        "# 키워드 전용 가변 인자 (**kwargs)\n",
        "\n",
        "x = [10]\n",
        "print_numbers(x)\n",
        "print_numbers(*x)   # print_numbers(10)"
      ],
      "metadata": {
        "id": "g_dSgXzr99nY"
      },
      "execution_count": null,
      "outputs": []
    },
    {
      "cell_type": "code",
      "source": [
        "# 키워드 인자 사용하기 딕셔너리 패킹\n",
        "\n",
        "# 키워드 인자: 매개변수에 이름으로 일치시키는 인자\n",
        "# 함수를 호출할 때 인자의 값 뿐만 아니라 그 이름까지 명시적으로 지정해서 전달하는 방식\n",
        "# 인자의 순서와 용도를 매번 기억하지 않아도 되서 편리함 -> 키워드를 알아야 하므로 불편함\n",
        "\n",
        "def personal_info(name, age, address):\n",
        "    print('이름:', name)\n",
        "    print('나이:', age)\n",
        "    print('주소:', address)\n",
        "\n",
        "personal_info(name='홍길동', \n",
        "              age=30, \n",
        "              address='경기도 시흥시')"
      ],
      "metadata": {
        "id": "n5KRqxQ7-nnd"
      },
      "execution_count": null,
      "outputs": []
    },
    {
      "cell_type": "code",
      "source": [
        "x = {'name': '홍길동', 'age': 30, 'address': '경기도 시흥시'}\n",
        "personal_info(**x)  # 변수에 **를 붙이면 딕셔너리 형태가 언패킹된다."
      ],
      "metadata": {
        "id": "wtTh5YLwEzYZ"
      },
      "execution_count": null,
      "outputs": []
    },
    {
      "cell_type": "code",
      "source": [
        "# 키워드 가변인자(**kwargs) 만들기\n",
        "# 키워드 인자와 딕셔너리 언패킹의 개념은 키워드 가변인자함수를 만들때 사용한다.\n",
        "\n",
        "# 자료 형이 딕셔너리 일때\n",
        "def personal_info(**kwargs):\n",
        "    print(kwargs)\n",
        "    for kw, arg in kwargs.items():\n",
        "        print(kw, ': ', arg, sep='')\n",
        "        \n",
        "# 값을 한 개 넣어도 되고, 세 개 넣어도 됩니다.\n",
        "personal_info(name='홍길동')\n",
        "personal_info(name='홍길동', age=30, address='경기도 시흥시')"
      ],
      "metadata": {
        "id": "NXgFNeJUDUT6"
      },
      "execution_count": null,
      "outputs": []
    },
    {
      "cell_type": "code",
      "source": [
        "x = {'name': '홍길동'}\n",
        "personal_info(**x)\n",
        "\n",
        "y = {'name': '홍길동', 'age': 30, 'address': '서울시 용산구 이촌동'}\n",
        "personal_info(**y)"
      ],
      "metadata": {
        "id": "qE-knNMRD3sq"
      },
      "execution_count": null,
      "outputs": []
    },
    {
      "cell_type": "code",
      "source": [
        "def personal_info(**kwargs):\n",
        "    if 'name' in kwargs:    # in으로 딕셔너리 안에 특정 키가 있는지 확인\n",
        "        print('이름: ', kwargs['name'])\n",
        "    if 'age' in kwargs:\n",
        "        print('나이: ', kwargs['age'])\n",
        "        \n",
        "personal_info(name='홍길동', \n",
        "              age=30, \n",
        "              address='경기도 시흥시')"
      ],
      "metadata": {
        "id": "a2QN9xhREZW1"
      },
      "execution_count": null,
      "outputs": []
    },
    {
      "cell_type": "code",
      "source": [
        "# 예제 1.\n",
        "\n",
        "# arg_printer(a=4, 2, 4, 5)\n",
        "\n",
        "# python은 위치인수 뒤에 키워드인수가 오게 됩니다. \n",
        "# 함수를 호출할때는 이점을 염두에 두어야합니다.\n",
        "# 다음과 같이 사용하면 에러가 나게 됩니다. \n",
        "# SyntaxError: positional argument follows keyword argument"
      ],
      "metadata": {
        "id": "liNyoq4UE7zd"
      },
      "execution_count": null,
      "outputs": []
    },
    {
      "cell_type": "code",
      "source": [
        "# 예제 2.\n",
        "# 결론적으로 *args 및 *kwargs 를 사용하여 변수를 패킹할 수 있습니다.\n",
        "def arg_printer(*args): # 패킹\n",
        "  print(args)\n",
        "\n",
        "l = [1,4,5]\n",
        "arg_printer(*l) # 언패킹\n",
        "# 영어의 2중 부정과 동일하고 자료형태는 튜플로 변경\n",
        "\n",
        "# 예제 3.\n",
        "lst = [1,4,5]\n",
        "tpl = ('a','b', 4)\n",
        "\n",
        "arg_printer(*lst, *tpl, 5, 6)"
      ],
      "metadata": {
        "id": "w2-ZvNJqE-nZ"
      },
      "execution_count": null,
      "outputs": []
    },
    {
      "cell_type": "code",
      "source": [
        "# 예제 4. 다음과 같이 사용하면 언패킹 되었다가 다시 패킹되는 형태로 변경된다.\n",
        "def arg_printer(**kwargs):\n",
        "   print(kwargs)\n",
        "\n",
        "dct = {'param1':5, 'param2':8}\n",
        "arg_printer(**dct)\n",
        "\n",
        "# 예제 5. \n",
        "# 또한 추가 키워드 인수를 사전과 함께 전달하면 결합되어 kwargs 딕셔너리에 저장됩니다.\n",
        "dct = {'param1':5, 'param2':8} \n",
        "arg_printer(param3=9, **dct)"
      ],
      "metadata": {
        "id": "5_0TF6mdFXki"
      },
      "execution_count": null,
      "outputs": []
    },
    {
      "cell_type": "markdown",
      "source": [
        "함수에는 위치 인수(값으로만 선언됨)와 키워드 인수(이름과 기본값으로 선언됨)인 \n",
        "두 가지 유형의 인수가 있습니다.\n",
        "\n",
        "함수가 호출될 때 위치 인수에 대한 값이 제공되어야 합니다. \n",
        "키워드 인수는 선택 사항입니다(지정하지 않으면 기본값을 사용함).\n",
        "\n",
        "함수 내에서의 *args는 명시적으로 정의되지 않은 위치 인수를 수집하여 튜플에 저장합니다.\n",
        "\n",
        "함수 내에서의 **kwargs는 *args와 동일하지만 키워드 인수에 대해 수행합니다. \n",
        "키워드 인수는 이름-값 쌍으로 저장되기 때문에 딕셔너리에 저장됩니다.\n",
        "\n",
        "Python은 위치 인수가 키워드 인수를 따르는 것을 허용하지 않습니다. \n",
        "따라서 먼저 위치 인수를 선언한 다음 키워드 인수를 선언합니다."
      ],
      "metadata": {
        "id": "gAq0cXgXF6p6"
      }
    },
    {
      "cell_type": "markdown",
      "source": [
        "## 연습"
      ],
      "metadata": {
        "id": "s9U8FfXhHwlF"
      }
    },
    {
      "cell_type": "code",
      "source": [
        "# 연습 문제 1. - 두개 이상의 숫자를 합산하는 함수 - *arg 사용\n",
        "\n",
        "def addition(*arg):\n",
        "    return sum(arg)\n",
        "print(addition(3,4,6))"
      ],
      "metadata": {
        "id": "i1Sq7eQLF4Y8"
      },
      "execution_count": null,
      "outputs": []
    },
    {
      "cell_type": "code",
      "source": [
        "# 연습문제 2. 다음 코드를 실행했을때의 빈칸과 값을 구하시오\n",
        "\n",
        "def arg_printer(a, b, *args):\n",
        "    print(f'a is {a}')\n",
        "    print(f'b is {b}')\n",
        "    print(f'args are {args}')\n",
        "arg_printer(3, 4, 5, 8, 3)\n",
        "\n",
        "# *args / a is 3 / b is 4 / args are (5,8,3) "
      ],
      "metadata": {
        "id": "lEpSTrrqHf9f"
      },
      "execution_count": null,
      "outputs": []
    },
    {
      "cell_type": "code",
      "source": [
        "# 연습문제 3. option이 True일때와 False일때의 값을 구하시오\n",
        "\n",
        "def addition(a, b, *args, option=True):\n",
        "    result = 0\n",
        "    if option:\n",
        "        for i in args:\n",
        "            result += i\n",
        "        return a + b + result\n",
        "    else:\n",
        "        return result\n",
        "\n",
        "print(addition(1,4,5,6,7))\n",
        "# True: 23 / False: 0"
      ],
      "metadata": {
        "id": "aIHd-w4VHuej"
      },
      "execution_count": null,
      "outputs": []
    },
    {
      "cell_type": "code",
      "source": [
        "# 연습문제 4. \n",
        "\n",
        "def arg_printer(a, b, option=True, **kwargs): \n",
        "    print(a, b) \n",
        "    print(option) \n",
        "    print(kwargs)\n",
        "arg_printer(3, 4, param1=5, param2=6)"
      ],
      "metadata": {
        "id": "_Ki1SbrDI6FF"
      },
      "execution_count": null,
      "outputs": []
    },
    {
      "cell_type": "code",
      "source": [
        "# 연습문제 5\n",
        "\n",
        "def arg_printer(a, b, *args, option=True, **kwargs): \n",
        "    print(a, b) \n",
        "    print(args) \n",
        "    print(option) \n",
        "    print(kwargs)\n",
        "arg_printer(1, 4, 6, 5, param1=5, param2=6) "
      ],
      "metadata": {
        "id": "FxIkHeWWKWmR"
      },
      "execution_count": null,
      "outputs": []
    },
    {
      "cell_type": "code",
      "source": [
        "# 에러 해결\n",
        "def func_param_with_var_args(name, age, *args):\n",
        "    print(\"name=\",end=\"\"), print(name)\n",
        "    print(\"age=\",end=\"\"), print(age)\n",
        "    print(\"args=\",end=\"\"), print(args)\n",
        "\n",
        "func_param_with_var_args(\"정우성\", 20, \"01012341234\", \"seoul\")"
      ],
      "metadata": {
        "id": "egkRFRoiKWg_"
      },
      "execution_count": null,
      "outputs": []
    },
    {
      "cell_type": "code",
      "source": [
        "def func_param_with_kwargs(name, age, address, **kwargs):\n",
        "    print(\"name=\",end=\"\"), print(name)\n",
        "    print(\"age=\",end=\"\"), print(age)\n",
        "    print(\"kwargs=\",end=\"\"), print(kwargs)\n",
        "    print(\"address=\",end=\"\"), print(address)\n",
        "\n",
        "func_param_with_kwargs(\"정우성\", \"20\", mobile=\"01012341234\", address=\"seoul\")"
      ],
      "metadata": {
        "id": "WX-F-AM3MxB5"
      },
      "execution_count": null,
      "outputs": []
    },
    {
      "cell_type": "code",
      "source": [
        "def mixed_params(age, name=\"아이유\", *args, address, **kwargs):\n",
        "    print(\"name=\",end=\"\"), print(name)\n",
        "    print(\"args=\",end=\"\"), print(args)\n",
        "    print(\"age=\",end=\"\"), print(age)\n",
        "    print(\"kwargs=\",end=\"\"), print(kwargs)\n",
        "    print(\"address=\",end=\"\"), print(address)\n",
        "\n",
        "mixed_params(20, \"정우성\", \"01012341234\", \"male\", \n",
        "             mobile=\"01012341234\", address=\"seoul\")"
      ],
      "metadata": {
        "id": "p5sDGwb1QRXL"
      },
      "execution_count": null,
      "outputs": []
    },
    {
      "cell_type": "markdown",
      "source": [
        "# csv 파일"
      ],
      "metadata": {
        "id": "4hikUONbS8Cq"
      }
    },
    {
      "cell_type": "code",
      "source": [
        "import csv\n",
        "import os\n",
        "\n",
        "# 함수화 하기\n",
        "def opencsv(filename):\n",
        "    f = open(filename, 'r')\n",
        "    reader = csv.reader(f)\n",
        "    output = []\n",
        "    for i in reader:\n",
        "        output.append(i)\n",
        "    return output\n",
        "    \n",
        "os.chdir('/content/')   # 경로 지정\n",
        "total = opencsv('seoul.csv')"
      ],
      "metadata": {
        "id": "TcsvdQROSVFN"
      },
      "execution_count": null,
      "outputs": []
    },
    {
      "cell_type": "code",
      "source": [
        "# 상위 5개 파일 불러오기 head()\n",
        "for i in total[:5]:\n",
        "    print(i)"
      ],
      "metadata": {
        "id": "ktceN__BX5wA"
      },
      "execution_count": null,
      "outputs": []
    },
    {
      "cell_type": "code",
      "source": [
        "# 문자형을 실수형으로 바꿀때 ,가 있으면 에러가 납니다.\n",
        "# float('123,456')\n",
        "\n",
        "import re\n",
        "j = '123,456'\n",
        "# substring -> 슬라이싱 (sub = 대체) \n",
        "float(re.sub(',', '', j))   # float(j.replace(',', ''))"
      ],
      "metadata": {
        "id": "MODIiqRKYGlI"
      },
      "execution_count": null,
      "outputs": []
    },
    {
      "cell_type": "code",
      "source": [
        "# 정규표현식\n",
        "# 리스트안에 숫자가 1개라도 있으면 ',' -> ''으로 변경\n",
        "\n",
        "i = ['Jongrogu', '151,767', '11,093', '27,394']\n",
        "k = []\n",
        "for j in i:\n",
        "    if re.search('\\d', j):  # j에서 숫자형을 찾았다면\n",
        "        k.append(int(re.sub(',' , '', j))) \n",
        "    else:\n",
        "        k.append(j)    \n",
        "print(k)"
      ],
      "metadata": {
        "id": "qAidtLo1tylC"
      },
      "execution_count": null,
      "outputs": []
    },
    {
      "cell_type": "code",
      "source": [
        "# 만약 문자/숫자/특수문자가 섞여있다면?\n",
        "# 데이터가 밀리는 경우는 부지기수.\n",
        "\n",
        "p = ['123강남구@@', '456종로구!!', '11,093', '27,394',]\n",
        "k = []\n",
        "for j in p:\n",
        "    if re.search('[a-z가-힣!@]', j):    # j에서 소문자 알파멧/한글 문자/특수문자를 찾았다면 \n",
        "        k.append(j)\n",
        "    else:   # elif re.search('\\d', j):\n",
        "        k.append(float(re.sub(',' , '', j))) \n",
        "print(k)"
      ],
      "metadata": {
        "id": "kTL0e0svZ9wt"
      },
      "execution_count": null,
      "outputs": []
    },
    {
      "cell_type": "code",
      "source": [
        "# 예외처리 : try - except \n",
        "# try 실행해보고, 오류가 나면 except를 실행해라\n",
        "# 많은 데이터를 처리할 수 있는 함수 만들기\n",
        "\n",
        "def switch(listname):\n",
        "    for i in listname:  # 이중 리스트 안에 있는 리스트 1개를 가져오고\n",
        "        # print(i)\n",
        "        for j in i:     # 리스트에 있는 요소를 받아와서\n",
        "            # print(j)\n",
        "            try:    # 여기 해당되는건 바꾸고 (, 문자형을 숫자형으로)\n",
        "                i[i.index(j)] = float(re.sub(',','',j))\n",
        "            except: # 해당되지 않으면 바꾸지 말아라(숫자가 없는 문자형은 넘어가라)\n",
        "                pass\n",
        "    return listname"
      ],
      "metadata": {
        "id": "-LBXhd26w5cm"
      },
      "execution_count": null,
      "outputs": []
    },
    {
      "cell_type": "code",
      "source": [
        "import os\n",
        "import re\n",
        "import csv\n",
        "\n",
        "# 경로 불러오기 (재지정)\n",
        "os.chdir('/content/')\n",
        "# csv데이터 불러오기\n",
        "total = opencsv('seoul.csv')\n",
        "\n",
        "sample = switch(total)\n",
        "print(sample[:3])"
      ],
      "metadata": {
        "id": "VSd6AbxrydK5"
      },
      "execution_count": null,
      "outputs": []
    },
    {
      "cell_type": "code",
      "source": [
        "# 첫번째 행(제목 지정하기)\n",
        "\n",
        "title = [['구', '한국인', '외국인', '외국인 비율(%)']]\n",
        "i = total[2]\n",
        "title.append([i[0], i[1], i[2], i[3]])\n",
        "print(title)"
      ],
      "metadata": {
        "id": "r6s_svZazhPi"
      },
      "execution_count": null,
      "outputs": []
    },
    {
      "cell_type": "code",
      "source": [
        "# 반복작업 각 구의 외국인 비율 구하기\n",
        "# 외국인 숫자 / 한국인 숫자 = 외국인 비율\n",
        "# 100/1000 -> 0.1 * -> 10% \n",
        "\n",
        "for i in sample:\n",
        "    foreign = 0\n",
        "    try:\n",
        "        foreign = round(i[2] / (i[1]+i[2]) * 100, 1)\n",
        "        print(i[0], foreign)\n",
        "    except:\n",
        "        pass"
      ],
      "metadata": {
        "id": "L1qK8Fc90Xq1"
      },
      "execution_count": null,
      "outputs": []
    },
    {
      "cell_type": "code",
      "source": [
        "# 외국인 비율 3% 이상인 대상만 추출\n",
        "\n",
        "for i in sample:\n",
        "    foreign = 0\n",
        "    try:\n",
        "        foreign = round(i[2] / (i[1]+i[2]) * 100, 1)\n",
        "        if foreign >= 3:\n",
        "            print(i[0], foreign)\n",
        "    except:\n",
        "        pass"
      ],
      "metadata": {
        "id": "475QhmHR1NfL"
      },
      "execution_count": null,
      "outputs": []
    },
    {
      "cell_type": "code",
      "source": [
        "# 새로운 csv 파일 생성 외국인 비율 3% 이상인 것만\n",
        "new_file = [['행정구역', '한국인', '외국인', '외국인 비율(%)']]\n",
        "\n",
        "for i in sample:\n",
        "    foreign = 0\n",
        "    try:\n",
        "        foreign = round(i[2] / (i[1]+i[2]) * 100, 1)\n",
        "        if foreign >= 3:\n",
        "            new_file.append([i[0], i[1], i[2], foreign])\n",
        "    except:\n",
        "        pass\n",
        "print(new_file)"
      ],
      "metadata": {
        "id": "VNByd1TC5WdH"
      },
      "execution_count": null,
      "outputs": []
    },
    {
      "cell_type": "code",
      "source": [
        "# 함수화 하기\n",
        "# csv를 넣지 않아도 생성은 된다.\n",
        "\n",
        "def writecsv(filename, the_list):\n",
        "    with open(filename, 'w', newline = '') as f:\n",
        "        a = csv.writer(f, delimiter = ',')\n",
        "        a.writerows(the_list)\n",
        "\n",
        "writecsv('seoul_new.csv', new_file)"
      ],
      "metadata": {
        "id": "CtLB09K16FWg"
      },
      "execution_count": null,
      "outputs": []
    },
    {
      "cell_type": "code",
      "source": [
        "# 부동산 \n",
        "import os\n",
        "import re\n",
        "import csv\n",
        "\n",
        "total = opencsv('data_school_utf8.csv')  \n",
        "apt = switch(total)\n",
        "\n",
        "apt[0]"
      ],
      "metadata": {
        "id": "L-C9_Rr57wqc"
      },
      "execution_count": null,
      "outputs": []
    },
    {
      "cell_type": "code",
      "source": [
        "# 강원도에 120M2 이상 3억원 이하 아파트 검색하기\n",
        "for i in apt:\n",
        "    try:\n",
        "        if i[5] > 120 and i[8] <= 30000 and re.match('강원', i[0]):\n",
        "            print(i[0], i[5], i[8])\n",
        "    except:\n",
        "        pass"
      ],
      "metadata": {
        "id": "-7GKCTyg8lPS"
      },
      "execution_count": null,
      "outputs": []
    },
    {
      "cell_type": "code",
      "source": [
        "# 임장가기 위해서 프린트 \n",
        "# CSV파일로 내보내기\n",
        "\n",
        "new_apt_list = [['시군구', '단지명', '면적', '금액']]\n",
        "\n",
        "for i in apt:\n",
        "    try:\n",
        "        if i[5] > 100 and i[8] <= 100000 and re.match('경기도 평택시', i[0]):\n",
        "            new_apt_list.append([i[0], i[4], i[5], i[8]])\n",
        "    except:\n",
        "        pass\n",
        "\n",
        "writecsv('new_apt_list.csv', new_apt_list)"
      ],
      "metadata": {
        "id": "drO3tdgm_s1R"
      },
      "execution_count": null,
      "outputs": []
    },
    {
      "cell_type": "code",
      "source": [
        "# 기온 데이터\n",
        "\n",
        "f = open('CSV_example2_data.csv')\n",
        "data = csv.reader(f, delimiter=',')\n",
        "f.close()\n",
        "\n",
        "# temp = switch(opencsv('CSV_example2_data.csv'))"
      ],
      "metadata": {
        "id": "O3Tpz2o_GYqs"
      },
      "execution_count": null,
      "outputs": []
    },
    {
      "cell_type": "code",
      "source": [
        "# 가장 더웠던 날 구하기!!\n",
        "\n",
        "f = open('CSV_example2_data.csv')\n",
        "data = csv.reader(f)\n",
        "\n",
        "# 헤더의 정보를 빼고 출력하기\n",
        "# next() : 첫번째 데이터 행을 읽어오면서 데이터의 탐색위치를 다음행으로 이동시키는 명령어\n",
        "header = next(data)    \n",
        "# print(header)\n",
        "\n",
        "max_temp = 0\n",
        "\n",
        "for row in data:\n",
        "    row[4] = float(row[4])  # 문자형 데이터를 숫자형으로\n",
        "    if max_temp < row[4]:\n",
        "        max_temp = row[4]   # 최고기온 \n",
        "        max_data = row[0]   # 날짜\n",
        "f.close()\n",
        "\n",
        "print(max_temp, max_data)"
      ],
      "metadata": {
        "id": "pmDG5wexIAvf"
      },
      "execution_count": null,
      "outputs": []
    },
    {
      "cell_type": "code",
      "source": [
        "# 인구 데이터\n",
        "\n",
        "test_dataset = open(\"/content/example_4_each.csv\")\n",
        "\n",
        "years = []  # 년도 리스트\n",
        "populations = []    # 인구수 리스트\n",
        "\n",
        "for line in test_dataset: \n",
        "    (year, population) = line.split(',')\n",
        "    if year != \"구분\":   \n",
        "        years.append(int(year))\n",
        "        populations.append(int(population))\n",
        "\n",
        "test_dataset.close() \n",
        "\n",
        "print(years)\n",
        "print(populations)"
      ],
      "metadata": {
        "id": "5hMAH3xaHMmP"
      },
      "execution_count": null,
      "outputs": []
    },
    {
      "cell_type": "markdown",
      "source": [
        "# Matplotlib"
      ],
      "metadata": {
        "id": "gk5m9usONi1g"
      }
    },
    {
      "cell_type": "code",
      "source": [
        "# 기본 그래프 그리기\n",
        "import matplotlib.pyplot as plt\n",
        "\n",
        "# 그래프를 그릴 도화지 준비하기\n",
        "fig = plt.figure()\n",
        "ax = fig.add_subplot(1, 1, 1)\n",
        "\n",
        "plt.title('plotting')   # 그래프의 타이틀\n",
        "plt.plot([10,20,30,40])\n",
        "plt.show()"
      ],
      "metadata": {
        "id": "y2QyT_AoKLXs"
      },
      "execution_count": null,
      "outputs": []
    },
    {
      "cell_type": "code",
      "source": [
        "# 첫번째 리스트가 x축 두번째 리스트가 y축\n",
        "plt.plot([1,2,3,4], [12,43,25,15]) \n",
        "plt.show()"
      ],
      "metadata": {
        "id": "utYmpBy5LV6k"
      },
      "execution_count": null,
      "outputs": []
    },
    {
      "cell_type": "code",
      "source": [
        "# 범례 지정\n",
        "plt.title('legend')\n",
        "plt.plot([10,20,30,40], label = 'asc') # 상승라인은 asc로 지정\n",
        "plt.plot([40,30,20,10], label = 'desc') # 하강라인은 desc로 지정\n",
        "plt.legend() # 범례표시 호출\n",
        "plt.show()"
      ],
      "metadata": {
        "id": "J2_2u0kDMj5r"
      },
      "execution_count": null,
      "outputs": []
    },
    {
      "cell_type": "code",
      "source": [
        "# 그래프 컬러 지정 \n",
        "plt.title('color')\n",
        "plt.plot([10,20,30,40], color = 'skyblue', label = 'skyblue')\n",
        "plt.plot([40,30,20,10], 'pink', label = 'pink')\n",
        "plt.legend()\n",
        "plt.show()"
      ],
      "metadata": {
        "id": "dLRysvQSLu38"
      },
      "execution_count": null,
      "outputs": []
    },
    {
      "cell_type": "code",
      "source": [
        "# 라인 스타일 변경\n",
        "plt.title('linestyle')\n",
        "plt.plot([10,20,30,40], color = 'r', linestyle = '--', label = 'dashed')\n",
        "plt.plot([40,30,20,10], 'g', ls = ':', label = 'dotted')\n",
        "plt.legend()\n",
        "plt.show()"
      ],
      "metadata": {
        "id": "2GKOTlV2MbV-"
      },
      "execution_count": null,
      "outputs": []
    },
    {
      "cell_type": "code",
      "source": [
        "# 그래프 마커 모양 표시\n",
        "plt.title('marker')\n",
        "plt.plot([10,20,30,40], 'r.--', label = 'circle')   # 색상, 마커모양, 선모양(r.--)\n",
        "plt.plot([40,30,20,10], 'g^', label = 'triangle up')\n",
        "plt.legend()\n",
        "plt.show()"
      ],
      "metadata": {
        "id": "iIihOgaIMd-y"
      },
      "execution_count": null,
      "outputs": []
    },
    {
      "cell_type": "markdown",
      "source": [
        "## 실습"
      ],
      "metadata": {
        "id": "MgyoXnDmNn7V"
      }
    },
    {
      "cell_type": "code",
      "source": [
        "plt.title(\"Seoul Population Change\")\n",
        "# x축에 년도, y축에 인구수가 있는 선 그래프 만들기\n",
        "plt.plot(years, populations, color='green', \n",
        "         marker='o', linestyle='solid')\n",
        "# y축에 레이블 추가하기\n",
        "plt.ylabel(\"10Million\")\n",
        "plt.show()"
      ],
      "metadata": {
        "id": "ilq4KNIGNEEi"
      },
      "execution_count": null,
      "outputs": []
    },
    {
      "cell_type": "code",
      "source": [
        "# x축에 년도, y축에 인구수가 있는 선 그래프 만들기\n",
        "plt.plot(years, populations)\n",
        "plt.show()"
      ],
      "metadata": {
        "id": "HZFY4jjaNObM"
      },
      "execution_count": null,
      "outputs": []
    },
    {
      "cell_type": "code",
      "source": [
        "import csv\n",
        "f = open('CSV_example2_data.csv')\n",
        "data = csv.reader(f)\n",
        "next(data)\n",
        "\n",
        "result = []\n",
        "\n",
        "for row in data:\n",
        "  result.append(float(row[4]))\n",
        "f.close()"
      ],
      "metadata": {
        "id": "BIPRho-HrcCo"
      },
      "execution_count": null,
      "outputs": []
    },
    {
      "cell_type": "code",
      "source": [
        "plt.figure(figsize=(10, 2))  # 가로길이 10 세로길이 2\n",
        "plt.plot(result, 'r')        # red color\n",
        "plt.show()"
      ],
      "metadata": {
        "id": "F0YQxcIEOE00"
      },
      "execution_count": null,
      "outputs": []
    },
    {
      "cell_type": "code",
      "source": [
        "# 최고 4월 5월 데이터를 비교하는 그래프\n",
        "import csv\n",
        "\n",
        "f = open('CSV_example2_data.csv')\n",
        "data = csv.reader(f)\n",
        "next(data)\n",
        "\n",
        "result_04 = []  # 최고 기온 데이터 저장할 리스트 생성\n",
        "result_05 = []\n",
        "# month = ''\n",
        "\n",
        "for row in data:\n",
        "    # 2023-04-19 -> \n",
        "    month = row[0].split('-')[1]\n",
        "    if month == '04':\n",
        "        result_04.append(float(row[4]))\n",
        "    elif month == '05':\n",
        "        result_05.append(float(row[4]))\n",
        "f.close()\n",
        "\n",
        "# print(result_04)\n",
        "# print(result_05)"
      ],
      "metadata": {
        "id": "osB5h151Owql"
      },
      "execution_count": null,
      "outputs": []
    },
    {
      "cell_type": "code",
      "source": [
        "plt.figure(figsize=(10, 5))\n",
        "plt.plot(result_04, 'pink', label = 'month_04')\n",
        "plt.plot(result_05, 'blue', label = 'month_05')\n",
        "plt.show()"
      ],
      "metadata": {
        "id": "0l5SQ188QdUT"
      },
      "execution_count": null,
      "outputs": []
    }
  ]
}