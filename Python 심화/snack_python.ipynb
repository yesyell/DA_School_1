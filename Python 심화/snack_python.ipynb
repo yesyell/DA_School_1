{
  "nbformat": 4,
  "nbformat_minor": 0,
  "metadata": {
    "colab": {
      "private_outputs": true,
      "provenance": [],
      "authorship_tag": "ABX9TyMRjY1YCURg9ywoQ+x7SHR6",
      "include_colab_link": true
    },
    "kernelspec": {
      "name": "python3",
      "display_name": "Python 3"
    },
    "language_info": {
      "name": "python"
    }
  },
  "cells": [
    {
      "cell_type": "markdown",
      "metadata": {
        "id": "view-in-github",
        "colab_type": "text"
      },
      "source": [
        "<a href=\"https://colab.research.google.com/github/yesyell/DA_School_1/blob/main/Python%20%EC%8B%AC%ED%99%94/snack_python.ipynb\" target=\"_parent\"><img src=\"https://colab.research.google.com/assets/colab-badge.svg\" alt=\"Open In Colab\"/></a>"
      ]
    },
    {
      "cell_type": "markdown",
      "source": [
        "## f-string의 이중 중괄호"
      ],
      "metadata": {
        "id": "MHlbkWF-CX9O"
      }
    },
    {
      "cell_type": "code",
      "execution_count": null,
      "metadata": {
        "id": "25Mys4RtCXVV"
      },
      "outputs": [],
      "source": [
        "숫자 = 10\n",
        "자릿수 = 10\n",
        "f'{숫자:>{자릿수}}'"
      ]
    },
    {
      "cell_type": "code",
      "source": [
        "f'{숫자:0{자릿수}d}'"
      ],
      "metadata": {
        "id": "u_Q23OR2DL1H"
      },
      "execution_count": null,
      "outputs": []
    },
    {
      "cell_type": "code",
      "source": [
        "원주율 = 3.141592\n",
        "소수점 = 3\n",
        "f'{원주율:.{소수점}f}'"
      ],
      "metadata": {
        "id": "Rpa3PrucpI38"
      },
      "execution_count": null,
      "outputs": []
    },
    {
      "cell_type": "markdown",
      "source": [
        "## 왈러스 연산자"
      ],
      "metadata": {
        "id": "xA7GUIYdpVBr"
      }
    },
    {
      "cell_type": "code",
      "source": [
        "value = 10\n",
        "(value := value + 1) # 왈러스 "
      ],
      "metadata": {
        "id": "qzf1clpNpXL8"
      },
      "execution_count": null,
      "outputs": []
    },
    {
      "cell_type": "code",
      "source": [
        "(value := value + 1)"
      ],
      "metadata": {
        "id": "DgL-dTqjpjMx"
      },
      "execution_count": null,
      "outputs": []
    },
    {
      "cell_type": "code",
      "source": [
        "count = 0\n",
        "while (count := count + 1) < 10:\n",
        "    print(count)"
      ],
      "metadata": {
        "id": "N0scTxGtpnxu"
      },
      "execution_count": null,
      "outputs": []
    },
    {
      "cell_type": "code",
      "source": [
        "count = 0\n",
        "result = 0\n",
        "while (count := count + 1) < 101:\n",
        "    result += count\n",
        "result"
      ],
      "metadata": {
        "id": "XWwLgCW0qDDY"
      },
      "execution_count": null,
      "outputs": []
    },
    {
      "cell_type": "code",
      "source": [
        "def 시그마(n):\n",
        "    count = 0\n",
        "    result = 0\n",
        "    while (count := count + 1) < n + 1:\n",
        "        result += count\n",
        "    return result\n",
        "\n",
        "if 합 := 시그마(100):\n",
        "    print(합)\n",
        "else:\n",
        "    print('1부터 정수형태로 입력이 가능합니다.')"
      ],
      "metadata": {
        "id": "Iu58DxKqr3Br"
      },
      "execution_count": null,
      "outputs": []
    },
    {
      "cell_type": "markdown",
      "source": [
        "## 딕셔너리 KeyError 처리"
      ],
      "metadata": {
        "id": "dIGYZH5ZtKyq"
      }
    },
    {
      "cell_type": "code",
      "source": [
        "def 요일구하기(요일):\n",
        "    return {\n",
        "        0: '일요일',\n",
        "        1: '월요일',\n",
        "        2: '화요일',\n",
        "        3: '수요일',\n",
        "        4: '목요일',\n",
        "        5: '금요일',\n",
        "        6: '토요일',\n",
        "    }.get(요일, '요일없음')\n",
        "\n",
        "요일구하기(3)"
      ],
      "metadata": {
        "id": "5WbpXy99tJyX"
      },
      "execution_count": null,
      "outputs": []
    },
    {
      "cell_type": "markdown",
      "source": [
        "## 리스트 append와 리스트컴프리헨션 성능 비교"
      ],
      "metadata": {
        "id": "gXAKh_yHuFB6"
      }
    },
    {
      "cell_type": "code",
      "source": [
        "import dis\n",
        "\n",
        "def 테스트():\n",
        "    x = [i for i in range(10)]\n",
        "    return x\n",
        "    \n",
        "dis.dis(테스트) "
      ],
      "metadata": {
        "id": "vzfB9li3uEgi"
      },
      "execution_count": null,
      "outputs": []
    },
    {
      "cell_type": "code",
      "source": [
        "import dis\n",
        "\n",
        "def 테스트():\n",
        "    x = []\n",
        "    for i in range(10):\n",
        "        x.append(i)\n",
        "    return x\n",
        "    \n",
        "dis.dis(테스트) "
      ],
      "metadata": {
        "id": "ikv4J9Xfuec0"
      },
      "execution_count": null,
      "outputs": []
    },
    {
      "cell_type": "code",
      "source": [
        "%%timeit\n",
        "\n",
        "def 테스트(n):\n",
        "    s = []\n",
        "    for i in range(n+1):\n",
        "        i = i**2\n",
        "        s.append(i)\n",
        "    return sum(s)\n",
        "\n",
        "테스트(1000000)"
      ],
      "metadata": {
        "id": "SopP1hZauvpH"
      },
      "execution_count": null,
      "outputs": []
    },
    {
      "cell_type": "code",
      "source": [
        "%%timeit\n",
        "\n",
        "def 테스트(n):\n",
        "    s = [i**2 for i in range(n+1)]\n",
        "    return sum(s)\n",
        "\n",
        "테스트(1000000)"
      ],
      "metadata": {
        "id": "E62BxPjcvdPg"
      },
      "execution_count": null,
      "outputs": []
    },
    {
      "cell_type": "markdown",
      "source": [
        "## sorted의 key 응용"
      ],
      "metadata": {
        "id": "7KXiFW0lwwaz"
      }
    },
    {
      "cell_type": "code",
      "source": [
        "sorted({1: 'D', 2: 'B', 3: 'B', 4: 'E', 5: 'A'})"
      ],
      "metadata": {
        "id": "0pKz1ld9wExO"
      },
      "execution_count": null,
      "outputs": []
    },
    {
      "cell_type": "code",
      "source": [
        "sorted(\"This is a test string from Andrew\".split(), key = str.lower)"
      ],
      "metadata": {
        "id": "WtquG1MuxAdF"
      },
      "execution_count": null,
      "outputs": []
    },
    {
      "cell_type": "code",
      "source": [
        "student_tuples = [\n",
        "    ('john', 'A', 15),\n",
        "    ('jane', 'B', 12),\n",
        "    ('dave', 'B', 10)\n",
        "]\n",
        "\n",
        "sorted(student_tuples, key = lambda student: student[2])"
      ],
      "metadata": {
        "id": "PXAylGIDxI1K"
      },
      "execution_count": null,
      "outputs": []
    },
    {
      "cell_type": "code",
      "source": [
        "class Student:\n",
        "    def __init__(self, name, grade, age):\n",
        "        self.name = name\n",
        "        self.grade = grade\n",
        "        self.age = age\n",
        "    def __repr__(self):\n",
        "        return repr((self.name, self.grade, self.age))"
      ],
      "metadata": {
        "id": "6sRoWQ6lxzVJ"
      },
      "execution_count": null,
      "outputs": []
    },
    {
      "cell_type": "code",
      "source": [
        "student_objects = [\n",
        "    Student('john', 'A', 15),\n",
        "    Student('jane', 'B', 12),\n",
        "    Student('dave', 'B', 10)\n",
        "]\n",
        "\n",
        "sorted(student_objects, key = lambda student: student.age)"
      ],
      "metadata": {
        "id": "jcAhB245yKGZ"
      },
      "execution_count": null,
      "outputs": []
    },
    {
      "cell_type": "code",
      "source": [
        "from operator import itemgetter, attrgetter\n",
        "\n",
        "sorted(student_tuples, key = itemgetter(2))"
      ],
      "metadata": {
        "id": "b4zLfc6GypU6"
      },
      "execution_count": null,
      "outputs": []
    },
    {
      "cell_type": "code",
      "source": [
        "sorted(student_objects, key = attrgetter('age'))\n",
        "sorted(student_tuples, key = itemgetter(1, 2)) # 다중순회 허용 \n",
        "sorted(student_objects, key = attrgetter('grade', 'age'))"
      ],
      "metadata": {
        "id": "W1DqgMy601eX"
      },
      "execution_count": null,
      "outputs": []
    },
    {
      "cell_type": "code",
      "source": [
        "sorted(student_tuples, key = itemgetter(2), reverse = True)"
      ],
      "metadata": {
        "id": "TX55ewQW1SIj"
      },
      "execution_count": null,
      "outputs": []
    },
    {
      "cell_type": "code",
      "source": [
        "test = ['a', 'aaa', 'bb', 'cccc']\n",
        "\n",
        "sorted(test, key = len)"
      ],
      "metadata": {
        "id": "mHWHFk-Y1bOR"
      },
      "execution_count": null,
      "outputs": []
    },
    {
      "cell_type": "code",
      "source": [
        "test = [(30, 20, 10), (10, 100, 90), (90, 90, 90), (50, 20, 30), (10, 20, 10)]\n",
        "\n",
        "sorted(test)\n",
        "sorted(test, key = lambda x: x[0])\n",
        "sorted(test, key = lambda x: sum(x))"
      ],
      "metadata": {
        "id": "Adml19sJ1m-P"
      },
      "execution_count": null,
      "outputs": []
    },
    {
      "cell_type": "code",
      "source": [
        "test = [10, 2, 1, 2, 9, 3, 0, 5, 5, 5, 6, 9, 3, 11, 22]\n",
        "우선순위그룹 = [0, 1, 11, 111]\n",
        "\n",
        "def 우선순위판별(값):\n",
        "    if 값 in 우선순위그룹:\n",
        "        return (False, 값)\n",
        "    return (True, 값)\n",
        "\n",
        "# sorted(test, key = 우선순위판별)\n",
        "# sorted(test, key = lambda x: False if x in 우선순위그룹 else True)\n",
        "sorted(test, key = lambda x: (False, x) if x in 우선순위그룹 else (True, x))"
      ],
      "metadata": {
        "id": "K9qZxsVe1-KV"
      },
      "execution_count": null,
      "outputs": []
    },
    {
      "cell_type": "markdown",
      "source": [
        "## 타입 힌트(type annotation)\n",
        "- python은 변수의 타입이 실행 시점에 결정되는 언어(동적 프로그래밍 언어)\n",
        "- C와 JAVA는 변수를 선언할 때 반드시 타입을 명시, 컴파일 시점에 변수의 타입이 결정(정적 프로그래밍 언어)\n",
        "- mypy 모듈을 사용하면 타입힌트에 오류가 있는지 확인할 수 있음"
      ],
      "metadata": {
        "id": "x3vNHwZ4ZlXE"
      }
    },
    {
      "cell_type": "code",
      "source": [
        "number = 1\n",
        "\n",
        "def greeting(name):\n",
        "    return 'Hello, ' + name"
      ],
      "metadata": {
        "id": "vYUiWfYMZtlh"
      },
      "execution_count": null,
      "outputs": []
    },
    {
      "cell_type": "code",
      "source": [
        "number: int = 1\n",
        "name: str = '홍길동'\n",
        "arr: list = ['a', 'b', 'c']\n",
        "\n",
        "def greeting(name: str) -> str:\n",
        "    return 'Hello, ' + name"
      ],
      "metadata": {
        "id": "vCXdxQkWaYya"
      },
      "execution_count": null,
      "outputs": []
    },
    {
      "cell_type": "code",
      "source": [
        "import typing\n",
        "\n",
        "arr: typing.List[int] = [1, 2, 3]\n",
        "alpha: typing.Tuple[str, str, str] = ('a', 'b', 'c')\n",
        "student: typing.Dict[str, int] = {'홍길동': 1, '춘향': 2}"
      ],
      "metadata": {
        "id": "-DAOJczYajtA"
      },
      "execution_count": null,
      "outputs": []
    },
    {
      "cell_type": "code",
      "source": [
        "number: int = '123'     # 힌트로 명시하는 것일 뿐, 에러를 발생시키지 않음"
      ],
      "metadata": {
        "id": "8x1hhXQDdf26"
      },
      "execution_count": null,
      "outputs": []
    },
    {
      "cell_type": "markdown",
      "source": [
        "## sum을 활용한 개별 요소 합치기"
      ],
      "metadata": {
        "id": "EwMgUxOxdeaO"
      }
    },
    {
      "cell_type": "code",
      "source": [
        "li = [['a', 'b', 'c'], [1, 2, 3], ['x', 'y', 'z']]\n",
        "sum(li, [])"
      ],
      "metadata": {
        "id": "XWDjgvogdroF"
      },
      "execution_count": null,
      "outputs": []
    },
    {
      "cell_type": "code",
      "source": [
        "tu = (('a', 'b', 'c'), (1, 2, 3), ('x', 'y', 'z'))\n",
        "sum(tu, ())"
      ],
      "metadata": {
        "id": "AwHDg06wfgZ7"
      },
      "execution_count": null,
      "outputs": []
    },
    {
      "cell_type": "code",
      "source": [
        "dic = {1:'one', 2:'two'}\n",
        "sum(dic, 5)"
      ],
      "metadata": {
        "id": "4xXjPVhbfs_-"
      },
      "execution_count": null,
      "outputs": []
    },
    {
      "cell_type": "code",
      "source": [
        "import numpy as np\n",
        "\n",
        "data = [[0,1,2],\n",
        "        [3,4,5],\n",
        "        [6,7,8]]\n",
        "\n",
        "print(np.sum(data))    # sum(sum(data, []))\n",
        "print(np.sum(data, axis = 0))\n",
        "print(np.sum(data, axis = 1))"
      ],
      "metadata": {
        "id": "K25H8Tnkf1qm"
      },
      "execution_count": null,
      "outputs": []
    },
    {
      "cell_type": "markdown",
      "source": [
        "## 제너레이터를 활용한 특정 값 무한 반복자 만들기"
      ],
      "metadata": {
        "id": "O9onGRDwg7Cq"
      }
    },
    {
      "cell_type": "code",
      "source": [
        "def range_1_to_4():\n",
        "    yield 1\n",
        "    yield 2\n",
        "    yield 3\n",
        "\n",
        "for i in range_1_to_4():\n",
        "    print(i)"
      ],
      "metadata": {
        "id": "Kg8pz8zuhARA"
      },
      "execution_count": null,
      "outputs": []
    },
    {
      "cell_type": "code",
      "source": [
        "range_1_to_4()"
      ],
      "metadata": {
        "id": "mk_b5GwehYF0"
      },
      "execution_count": null,
      "outputs": []
    },
    {
      "cell_type": "code",
      "source": [
        "g = range_1_to_4()\n",
        "next(g)"
      ],
      "metadata": {
        "id": "WEvCtadshZLs"
      },
      "execution_count": null,
      "outputs": []
    },
    {
      "cell_type": "code",
      "source": [
        "g = (i for i in range(1, 4))\n",
        "g"
      ],
      "metadata": {
        "id": "sBy-3j2e0XoN"
      },
      "execution_count": null,
      "outputs": []
    },
    {
      "cell_type": "code",
      "source": [
        "for i in g:\n",
        "    print(i)"
      ],
      "metadata": {
        "id": "J_-mP5_H0eOO"
      },
      "execution_count": null,
      "outputs": []
    },
    {
      "cell_type": "code",
      "source": [
        "def repeat(i):\n",
        "    if i:\n",
        "        while True:\n",
        "            for i1 in i:\n",
        "                yield i1\n",
        "list(zip('111222333', repeat([1,2])))                "
      ],
      "metadata": {
        "id": "M7aDmL8u0n2X"
      },
      "execution_count": null,
      "outputs": []
    },
    {
      "cell_type": "code",
      "source": [
        "list(zip(range(10), repeat('abc')))            "
      ],
      "metadata": {
        "id": "qVn203dv1aES"
      },
      "execution_count": null,
      "outputs": []
    },
    {
      "cell_type": "markdown",
      "source": [
        "## 딕셔너리 언패킹"
      ],
      "metadata": {
        "id": "GPqQvsRS1sKx"
      }
    },
    {
      "cell_type": "code",
      "source": [
        "test = {'one': 100, 'two': 200}\n",
        "\n",
        "a, b = test\n",
        "print(a, b)"
      ],
      "metadata": {
        "id": "Ta2ks24y6dNn"
      },
      "execution_count": null,
      "outputs": []
    },
    {
      "cell_type": "code",
      "source": [
        "test = [{'one': 100, 'two': 200}, {'three': 300, 'four': 400}]\n",
        "\n",
        "for i, j in test:\n",
        "    print(i, j)"
      ],
      "metadata": {
        "id": "WBWNCbpR6oGu"
      },
      "execution_count": null,
      "outputs": []
    },
    {
      "cell_type": "code",
      "source": [
        "a, b = b, a\n",
        "print(a, b)"
      ],
      "metadata": {
        "id": "OVKnfi637J3w"
      },
      "execution_count": null,
      "outputs": []
    },
    {
      "cell_type": "code",
      "source": [
        "def unpacking(a, b):\n",
        "    return a, b\n",
        "\n",
        "test = {'a': 100, 'b': 200}\n",
        "\n",
        "print(unpacking(*test))\n",
        "print(unpacking(**test))"
      ],
      "metadata": {
        "id": "8kamqZX87Ut8"
      },
      "execution_count": null,
      "outputs": []
    },
    {
      "cell_type": "code",
      "source": [
        "def unpacking(a, b=None):\n",
        "    return a, b\n",
        "\n",
        "test = {'a': 100, 'b': 200}\n",
        "\n",
        "print(unpacking(test))"
      ],
      "metadata": {
        "id": "oF3IGYbH9jw_"
      },
      "execution_count": null,
      "outputs": []
    },
    {
      "cell_type": "markdown",
      "source": [
        "## 파이썬의 선과 PEP8"
      ],
      "metadata": {
        "id": "I4Alud2PBrCy"
      }
    },
    {
      "cell_type": "code",
      "source": [
        "import this\n",
        "\n",
        "# Explicit is better than implicit.\n",
        "# Special cases aren't special enough to break the rules.\n",
        "# Errors should never pass silently."
      ],
      "metadata": {
        "id": "TuomPvRfBqa8"
      },
      "execution_count": null,
      "outputs": []
    },
    {
      "cell_type": "markdown",
      "source": [
        "PEP8 요약\n",
        "- 스페이스 4번(탭X)\n",
        "- 라인 길이는 79자 이하(한글일 때에는 32자 정도)\n",
        "- 파일: 함수와 클래스 사이에는 2줄의 빈줄\n",
        "- 클래스: 메서드 사이에는 1줄의 빈줄\n",
        "- 변수 대입에서 등호 양 옆에 스페이스 1개\n",
        "- 딕셔너리에 키와 콜론 사이에는 공백X, 값과 클론은 스페이스 1개\n",
        "- 변수명은 스네이크 표기법 권장\n",
        "- 클래스명은 카멜 표기법 권장\n",
        "- 보호해야 하는 인스턴스의 애트리뷰트는 언더바 두개로 시작\n",
        "- 조건문 안에 'len(컨테이너)==0'식으로 사용X 'if 컨테이너' 권장\n",
        "- 소스검사기: 파이린트, 파이플레이크\n",
        "- 한 줄의 import문에서는 하나의 모듈만 가져오기"
      ],
      "metadata": {
        "id": "gKDFx9H2CPAI"
      }
    }
  ]
}