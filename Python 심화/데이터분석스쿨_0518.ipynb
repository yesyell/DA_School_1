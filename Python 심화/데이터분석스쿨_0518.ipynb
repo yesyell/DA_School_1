{
  "nbformat": 4,
  "nbformat_minor": 0,
  "metadata": {
    "colab": {
      "private_outputs": true,
      "provenance": [],
      "authorship_tag": "ABX9TyO+i0YXTli0jIWYakVn1dY+",
      "include_colab_link": true
    },
    "kernelspec": {
      "name": "python3",
      "display_name": "Python 3"
    },
    "language_info": {
      "name": "python"
    }
  },
  "cells": [
    {
      "cell_type": "markdown",
      "metadata": {
        "id": "view-in-github",
        "colab_type": "text"
      },
      "source": [
        "<a href=\"https://colab.research.google.com/github/yesyell/DA_School_1/blob/main/Python%20%EC%8B%AC%ED%99%94/%EB%8D%B0%EC%9D%B4%ED%84%B0%EB%B6%84%EC%84%9D%EC%8A%A4%EC%BF%A8_0518.ipynb\" target=\"_parent\"><img src=\"https://colab.research.google.com/assets/colab-badge.svg\" alt=\"Open In Colab\"/></a>"
      ]
    },
    {
      "cell_type": "markdown",
      "source": [
        "#[함수](https://happydata1510.notion.site/happydata1510/b3e8450f7897472c8a9e8ee0fa4b8bb6)"
      ],
      "metadata": {
        "id": "g8beLTb2M6FN"
      }
    },
    {
      "cell_type": "code",
      "source": [
        "# 함수 바깥에서의 *의 사용\n",
        "def func(x,y,z,a,b):\n",
        "  print(x,y,z,a,b)\n",
        "  return x+y+z+a+b\n",
        "\n",
        "params1 = [1,2,3]\n",
        "params2 = {\"a\" : 4, \"b\" : 5}\n",
        "w = func(*params1, **params2) # 언패킹 결합 \n",
        "print(w)"
      ],
      "metadata": {
        "id": "SBe4xaZ9TQn9"
      },
      "execution_count": null,
      "outputs": []
    },
    {
      "cell_type": "code",
      "source": [
        "# 데코레이터\n",
        "# 데코레이터는 기존 함수의 코드 변경없이 추가로 처리 할 수 있다는 장점이 있음\n",
        "def add_message(f):\n",
        "    \"\"\"함수 앞뒤로 시작하고 종료하는 메세지 추가\"\"\"\n",
        "    def new_func():\n",
        "        print(\"처리를 시작합니다.\")\n",
        "        f()\n",
        "        print(\"처리를 종료합니다.\")\n",
        "    return new_func\n",
        "\n",
        "@add_message # 데코레이터 추가\n",
        "def sample_func():\n",
        "    \"\"\"실행을 표시하는 함수\"\"\"\n",
        "    print(\"sample_func의 처리를 실행합니다.\")\n",
        "\n",
        "sample_func()\n",
        "\n",
        "# sample_func 함수에 대해 add_message에서의 함수 처리를 수행하고자 할 때에 \n",
        "# 함수 정의 위에 @처리를_추가할_고차함수명 을 지정하면 됩니다."
      ],
      "metadata": {
        "id": "Bh1Cc3HfTb3h"
      },
      "execution_count": null,
      "outputs": []
    },
    {
      "cell_type": "code",
      "source": [
        "def uppercase_decorator(func):\n",
        "    def wrapper():\n",
        "        result = func().upper()\n",
        "        return result\n",
        "    return wrapper\n",
        "\n",
        "@uppercase_decorator\n",
        "def say_hello():\n",
        "    return \"hello\"\n",
        "\n",
        "print(say_hello())\n",
        "# HELLO"
      ],
      "metadata": {
        "id": "stFVqoS4UkfW"
      },
      "execution_count": null,
      "outputs": []
    },
    {
      "cell_type": "code",
      "source": [
        "# 제너레이터\n",
        "# 제너레이터를 사용하면 함수를 처리하는 도중에 잠시 중단하고, 값을 반환할 수 있으며, 이를 yield라고도 부릅니다. \n",
        "def sample_generator():\n",
        "    \"\"\"제너레이터 함수\"\"\"\n",
        "    print(\"처리 시작\")\n",
        "    yield \"아침 먹자\"\n",
        "    print(\"처리 재개\")\n",
        "    yield \"점심 먹자\"\n",
        "    print(\"처리 재개\")\n",
        "    yield \"저녁 먹자\"\n",
        "\n",
        "gen_obj = sample_generator() # 제너레이터 객체 생성\n",
        "print(next(gen_obj))\n",
        "print(next(gen_obj))\n",
        "print(next(gen_obj))\n",
        "\n",
        "# next로 호출될 때까지 실행이 중단되는 것을 볼 수 있습니다. \n",
        "# 그리고 다시 next로 실행하면 yield가 실행되는 것까지 재개되는 것을 볼 수 있습니다."
      ],
      "metadata": {
        "id": "SSkOI2JRVVc2"
      },
      "execution_count": null,
      "outputs": []
    },
    {
      "cell_type": "markdown",
      "source": [
        "#[클래스](https://happydata1510.notion.site/happydata1510/4d65ca8e94714f9a96e989f9476f2c0a)"
      ],
      "metadata": {
        "id": "ECAWRyvwaxnH"
      }
    },
    {
      "cell_type": "code",
      "source": [
        "# 클래스 상속 \n",
        "class User:\n",
        "    def __init__(self, name, mail):\n",
        "        \"\"\" 초기화 처리\"\"\"\n",
        "        self.name = name\n",
        "        self.mail = mail\n",
        "\n",
        "    def print_user_info(self):\n",
        "        \"\"\" 사용자 정보를 Print로 출력\"\"\"\n",
        "        print(self.name)\n",
        "        print(self.mail)\n",
        "\n",
        "class StudentUser(User):\n",
        "    def __init__(self, name, mail, grade):\n",
        "        super().__init__(name, mail)\n",
        "        self.grade = grade\n",
        "\n",
        "    def answer_question(self):\n",
        "        print(\"문제에 대답합니다.\")\n",
        "\n",
        "    def print_grade(self):\n",
        "        print(self.grade, self.name, self.mail)\n",
        "\n",
        "# StudentUser 클래스를 실행시켜 객체 생성\n",
        "student = StudentUser(\"Student1\", \"Student1@1.1\", 3)\n",
        "\n",
        "# 상속받은 User메서드 실행\n",
        "student.print_user_info()\n",
        "\n",
        "# StudentUser메서드 실행\n",
        "student.answer_question()\n",
        "student.print_grade()"
      ],
      "metadata": {
        "id": "e8vKOu0wZh_u"
      },
      "execution_count": null,
      "outputs": []
    },
    {
      "cell_type": "markdown",
      "source": [
        "1. 인스턴스 메서드 \n",
        "- `self`로 설정한 클래스 기본 메서드 인스턴스 변수와 클래스 변수에 접근가능\n",
        "\n",
        "2. 클래스 메서드 \n",
        "- 인스턴스를 생성하지 않고 접근할 수 있는 메서드로 *클래스 변수에 접근할 수 있지만 인스턴스 변수에는 접근할 수 없다.*\n",
        "- 클래스 메서드를 정의할 때는 `@classmethod` 데커레이터를 추가합니다. \n",
        "그리고 첫번째 인수에 클래스 객체가 자동으로 설정됩니다.\n",
        "\n",
        "3. 정적 메서드 \n",
        "- 클래스 메서드와 동일하게 인스턴스를 생성하지 않고 접근할 수 있지만 *인스턴스 변수와 클래스변수 모두에 접근할 수 없습니다.*\n",
        "- `@staticmethod` 데커레이터를 추가하며, 실질적으로 함수와 같은 것이라고 보면 되는데, \n",
        "함수를 적절한 클래스에 포함시키는 편이 설계상으로 바람직할 때 사용합니다."
      ],
      "metadata": {
        "id": "407fySbIiS58"
      }
    },
    {
      "cell_type": "code",
      "source": [
        "class Sample():\n",
        "    class_val1 = 1 \n",
        "\n",
        "    def __init__(self, val1):\n",
        "        self.instance_val1 = val1\n",
        "\n",
        "    def instance_method(self):\n",
        "        print(self.class_val1, self.instance_val1)\n",
        "\n",
        "    @classmethod\n",
        "    def class_method(cls):\n",
        "        print(cls.class_val1)\n",
        "\n",
        "    @staticmethod\n",
        "    def static_method():\n",
        "        local_val = 100\n",
        "        print(local_val)\n",
        "\n",
        "#인스턴스 메서드 호출\n",
        "s = Sample(10)\n",
        "s.instance_method()\n",
        "\n",
        "#클래스 메서드 호출\n",
        "Sample.class_method()\n",
        "\n",
        "#정적 메서드 호출\n",
        "Sample.static_method()"
      ],
      "metadata": {
        "id": "3MibSy4tfCTY"
      },
      "execution_count": null,
      "outputs": []
    },
    {
      "cell_type": "code",
      "source": [
        "# 비공개 메서드\n",
        "# 팀 단위의 개발에서 객체 지향 방식으로 구현할 때는 \n",
        "# 변수 및 메서드를 외부에서 조작하지 못하도록 해야할 때가 있다. \n",
        "# 변수나 메서드 앞에 __를 2개 사용해서 접근을 막을 수 있다.\n",
        "class Sample():\n",
        "    def __init__(self, val1):\n",
        "        self.__instance_val1 = val1\n",
        "\n",
        "    def __private_method(self):\n",
        "        print(self.__instance_val1)\n",
        "\n",
        "s = Sample(10)\n",
        "# print(s.__instance_val1)\n",
        "# s.__private_method()"
      ],
      "metadata": {
        "id": "BmHwnmsxhFrC"
      },
      "execution_count": null,
      "outputs": []
    },
    {
      "cell_type": "code",
      "source": [
        "# 특수 메서드\n",
        "# str 메서드 - 객체 표시용 문자열\n",
        "# repr 메서드 - 객체 정보를 나타내는 문자열\n",
        "class User:\n",
        "    def __init__(self, name, mail):\n",
        "        self.name = name\n",
        "        self.mail = mail\n",
        "\n",
        "    def __str__(self):\n",
        "        return self.name + self.mail\n",
        "\n",
        "    def __repr__(self):\n",
        "        return str({'name' : self.name, 'mail' : self.mail})\n",
        "\n",
        "user = User(\"홍길동\", \"happy@naver.com\")\n",
        "print(user)\n",
        "print(repr(user))"
      ],
      "metadata": {
        "id": "hVcb3O2YidEa"
      },
      "execution_count": null,
      "outputs": []
    },
    {
      "cell_type": "markdown",
      "source": [
        "#[정규표현식](https://happydata1510.notion.site/happydata1510/206669e1593d4f33ad40376d10065179)"
      ],
      "metadata": {
        "id": "YmpGoW-Xo4s3"
      }
    },
    {
      "cell_type": "code",
      "source": [
        "# 모듈 불러오기\n",
        "import re"
      ],
      "metadata": {
        "id": "tocLArC6itXI"
      },
      "execution_count": null,
      "outputs": []
    },
    {
      "cell_type": "markdown",
      "source": [
        "[raw 문자열 사용]\n",
        "\n",
        "파이썬에서는 정규표현식 문자열을 사용할때 이스케이프가 필요한 메타문자가 있다. 그래서 raw문자 사용을 권한다.\n",
        "\n",
        "만약 \\my-host\\라는 문자가 있는 경우 raw문자열이 없으면 \\\\\\\\my-host\\\\\\\\가 되지만\n",
        "\n",
        "raw문자열을 사용하면 \\\\my-host\\\\가 된다. 앞에 r을 붙이면 된다."
      ],
      "metadata": {
        "id": "kzo0f8S5vlIb"
      }
    },
    {
      "cell_type": "code",
      "source": [
        "text1 = \"In the face of ambiguity, refuse the temptation to guess\"\n",
        "match_list = re.findall(r\"t.\", text1)\n",
        "print(match_list)"
      ],
      "metadata": {
        "id": "gfUCp3Y3puWo"
      },
      "execution_count": null,
      "outputs": []
    },
    {
      "cell_type": "code",
      "source": [
        "# 정규표현식으로 치환하기\n",
        "# sub함수를 사용하면 정규표현식으로 치환할 수 있습니다.\n",
        "\n",
        "text = \"Beautiful is better than ugly\"\n",
        "# sub(대체 해야할 문자 / 대체 할 문자 / 데이터)\n",
        "replaced = re.sub(r\" a-zA-Z\", \"_\", text) # 공백문자는 \\s로도 쓰입니다.\n",
        "print(replaced)"
      ],
      "metadata": {
        "id": "d3mX2jKwpwsT"
      },
      "execution_count": null,
      "outputs": []
    },
    {
      "cell_type": "code",
      "source": [
        "# 정규표현식으로 텍스트 분할하기\n",
        "# split함수를 사용하면 정규 표현식에 일치한 위치에서 분할한 문자열 리스트를 얻을 수 있습니다.\n",
        "\n",
        "text = 'Simple is Best'\n",
        "# ^ -> 문자의 시작 \n",
        "# + 직전 정규표현식을 1회이상 반복\n",
        "replaced = re.split((r\"[^a-zA-Z]+\"), text)\n",
        "print(replaced)\n",
        "\n",
        "# [^a-zA-Z0-9]+는 정규 표현식(regular expression)에서 사용되는 특수한 패턴으로, \n",
        "# 알파벳 대소문자와 숫자가 아닌 문자들이 하나 이상 연속해서 나타나는 경우를 의미합니다.\n",
        "# 결국 공백을 구분자로 해서 분리"
      ],
      "metadata": {
        "id": "jc0mIC3Qpytp"
      },
      "execution_count": null,
      "outputs": []
    },
    {
      "cell_type": "code",
      "source": [
        "# 정규표현식의 그룹은 데이터 분석 할때 자주 사용하는 기능으로 \n",
        "# 원하는 객체를 그루핑할 수 있다라는 장점이 있습니다.\n",
        "\n",
        "# 제품 -> [0-9]+\n",
        "# 카탈로그 코드 [0-9A-Z]+\n",
        "# 제품명 .*\n",
        "# 구분 문자 공백\n",
        "\n",
        "# ([0-9]+) +([ 0-9 A-Z]+) +(.*)\n",
        "\n",
        "text = \"\"\"\n",
        "101 CF001 커피 \n",
        "102 CF002 커피(대용량)\n",
        "201 TE01 홍차\n",
        "202 TE02 홍차(대용량)\n",
        "\"\"\"\n",
        "#group 1 \n",
        "#group 2\n",
        "#group 3\n",
        "items = re.findall(r'([0-9]+) +([ 0-9 A-Z]+) +(.*)', text)\n",
        "print(items)"
      ],
      "metadata": {
        "id": "BikIsg-mqYJu"
      },
      "execution_count": null,
      "outputs": []
    },
    {
      "cell_type": "code",
      "source": [
        "# 정규표현식과 일치하는 부분 확인\n",
        "\n",
        "# re 모듈의 serach함수는 정규표현식과 일치하는 첫 번째 위치 정보가 저장된 Match 객체를 반환\n",
        "# Match 객체를 사용하면 일치하는 위치의 문자열과 함께 시작 및 종료 위치 정보 확보 가능\n",
        "\n",
        "# match 객체\n",
        "# start, end, group, groups 튜플 그룹\n",
        "text = 'Errors should never pass silently'\n",
        "# 1번 그룹 - n.... n다음에 4글자가 아무거나\n",
        "# 2번 그룹 - P... n다음에 3글자가 아무거나\n",
        "\n",
        "m_obj = re.search(r\"(n....) (p...)\", text)\n",
        "print(m_obj.group())\n",
        "print(m_obj.groups())\n",
        "print(m_obj.start()) # 시작 인덱스\n",
        "print(m_obj.end()) # 끝 인덱스"
      ],
      "metadata": {
        "id": "OZPq9E8Aq4Z7"
      },
      "execution_count": null,
      "outputs": []
    },
    {
      "cell_type": "markdown",
      "source": [
        "[Greedy 상태] \n",
        "- 가장 먼 공백까지 - 파이썬의 문자 패턴을 찾는 것으로 인한 것 스캔을 앞에서 1번 뒤에서 1번\n",
        "\n",
        "[Lazy상태]\n",
        "- 가까운 공백까지"
      ],
      "metadata": {
        "id": "Nwq4D8UHuTA-"
      }
    },
    {
      "cell_type": "code",
      "source": [
        "# Greedy, Lazy 사용하기\n",
        "# 정규표현식이 패턴에 일치하는 문자열을 추출할 때\n",
        "# 일치하는 최대한의 범위를 추출하는 상태를 greedy(탐욕)이라고 한다.\n",
        "# 최소한은 Lazy라고 하는데 파이썬은 기본적으로 greedy하지만 ?를 붙이는 순간 Lazy해진다.\n",
        "text = 'In the face of ambiguity, refuse the temptation to guess'\n",
        "\n",
        "# t에서 아무문자나 해서 직전까지 0번 반복되어 공백까지\n",
        "match_list = re.findall(r\"t.*\\s\", text) \n",
        "print(match_list)\n",
        "\n",
        "# ?를 붙이면 t에서 가장 가까운 공백까지만 일치하는 것을 찾음\n",
        "match_list = re.findall(r\"t.*?\\s\", text) \n",
        "print(match_list)"
      ],
      "metadata": {
        "id": "85P4q1y8tZCm"
      },
      "execution_count": null,
      "outputs": []
    },
    {
      "cell_type": "markdown",
      "source": [
        "# [모듈](https://happydata1510.notion.site/happydata1510/b368a6f28e244c689e43849498aca306)"
      ],
      "metadata": {
        "id": "zzbIj2LgDOmZ"
      }
    },
    {
      "cell_type": "markdown",
      "source": [
        "[모듈이란?]\n",
        "\n",
        "파이썬에서 이미 작성된 프로그램을 모듈이라고 생각하면 쉬움\n",
        "\n",
        "그 프로그램의 묶음은 패키지이다.\n",
        "\n",
        "쉬운 예로 레고블럭 하나하나가 모듈이라고 생각하면 되고 그것이 모여 하나의 큰 모듈 및 패키지 완성품을 만들 수 있고, \n",
        "이러한 개념은 스마트폰이나 자동차등 생활 곳곳에서 볼 수 있음\n",
        "\n",
        "그러면 프로그래밍에서의 모듈은 무엇일까? -> 작은 프로그램의 조각을 뜻한다. 각 모듈은 저마다의 역할이 있다.\n",
        "\n",
        "우리는 이미 많은 모듈을 사용했었다. random 모듈 time 모듈 등 `import`를 해서 사용이 가능하고 기본적으로 파이썬에 내장되어있는 모듈을 위주로 사용했었다.\n",
        "\n",
        "[패키지란?]\n",
        "\n",
        "패키지는 쉽게 모듈의 묶음이다. `from`을 통해 모듈을 호출하는 경우가 있었는데\n",
        "이는 패키지는 출력하기 위한 수단이다.\n",
        "\n",
        "하나의 패키지 안에는 보통 여러 모듈이 있다.\n",
        "\n",
        "여러분들도 좋은 패키지가 많이 구현이 되어있기 때문에 앞으로 그런 패키지를 공부할것이고 데이터 분석에 활용할 것임\n",
        "\n",
        "여러분들도 그러한 패키지를 만들어서 사회에 공헌했으면 하는 바램도 있음\n",
        "\n",
        "그러면 일단 우리가 사용했던 모듈과 더 살펴봐야할 모듈을 배워보고, 모듈을 직접 만들어 보자!!\n",
        "\n",
        "---\n",
        "지금까지 파이썬 코드를 작성하면서 input, print 등의 내장 함수(built-in function)를 주로 사용했는데, 내장 함수만으로는 할 수 있는게 별로 없습니다. 그래서 좀 더 복잡한 프로그램을 만들려면 파이썬의 모듈과 패키지를 사용해야 합니다. 우리가 책 중간 중간에 사용했던 random, turtle, pickle 등이 바로 모듈과 패키지입니다.\n",
        "\n",
        "모듈(module)은 각종 변수, 함수, 클래스를 담고 있는 파일이고, 패키지(package)는 여러 모듈을 묶은 것입니다. 파이썬을 설치할 때 다양한 모듈과 패키지가 기본으로 설치됩니다. 만약 기본 모듈과 패키지로 부족하다면 다른 사람이 만든 유명 모듈과 패키지를 설치해서 쓸 수도 있습니다."
      ],
      "metadata": {
        "id": "mihlfpDRE_Th"
      }
    },
    {
      "cell_type": "code",
      "source": [
        "import math\n",
        "math.pi\n",
        "math.sqrt(4)"
      ],
      "metadata": {
        "id": "wuowezNkDQk1"
      },
      "execution_count": null,
      "outputs": []
    },
    {
      "cell_type": "code",
      "source": [
        "# [모듈의 에러]\n",
        "# ModuleNotFoundError: No module named ...: \n",
        "# 모듈의 이름이 잘못되었을 때 발생하는 에러입니다. 모듈 이름이 맞는지 확인해주세요.\n",
        "# AttributeError: module ... has no attribute ...: \n",
        "# 모듈의 변수나 함수의 이름을 잘못되었을 때 발생하는 에러입니다. 변수, 함수의 이름이 맞는지 확인해주세요."
      ],
      "metadata": {
        "id": "p2da55mMFPTI"
      },
      "execution_count": null,
      "outputs": []
    },
    {
      "cell_type": "code",
      "source": [
        "# import as로 모듈 이름 지정하기\n",
        "import math as ma\n",
        "ma.pi"
      ],
      "metadata": {
        "id": "yp0RjZ4YFURf"
      },
      "execution_count": null,
      "outputs": []
    },
    {
      "cell_type": "code",
      "source": [
        "# from import로 모듈의 일부만 가져오기\n",
        "from math import sqrt\n",
        "math.sqrt(4)"
      ],
      "metadata": {
        "id": "oc1I8R7HFbTh"
      },
      "execution_count": null,
      "outputs": []
    },
    {
      "cell_type": "code",
      "source": [
        "# import로 패키지 가져오기\n",
        "import urllib.request\n",
        "response = urllib.request.urlopen('http://www.google.co.kr')\n",
        "response.status"
      ],
      "metadata": {
        "id": "4Iwhb_scJRUK"
      },
      "execution_count": null,
      "outputs": []
    },
    {
      "cell_type": "code",
      "source": [
        "# from import로 패키지의 모듈의 일부를 가져온 뒤 이름 지정하기\n",
        "from urllib.request import Request as r, urlopen as u\n",
        "req = r('http://www.google.co.kr')  # r로 Request 클래스 사용\n",
        "response = u(req)  # u로 urlopen 함수 사용\n",
        "response.status"
      ],
      "metadata": {
        "id": "qsT-_cRYJb2p"
      },
      "execution_count": null,
      "outputs": []
    },
    {
      "cell_type": "code",
      "source": [
        "!pip install Faker\n",
        "# faker는 테스트용 가짜 데이터를 생성할 때 사용하는 라이브러리이다."
      ],
      "metadata": {
        "id": "dBDlRQONJvaR"
      },
      "execution_count": null,
      "outputs": []
    },
    {
      "cell_type": "code",
      "source": [
        "from faker import Faker\n",
        "fake = Faker()\n",
        "fake.name()"
      ],
      "metadata": {
        "id": "bGCxQZ9BKDyP"
      },
      "execution_count": null,
      "outputs": []
    },
    {
      "cell_type": "code",
      "source": [
        "fake = Faker('ko-KR')\n",
        "fake.address()"
      ],
      "metadata": {
        "id": "QzVnEjOkKUe9"
      },
      "execution_count": null,
      "outputs": []
    },
    {
      "cell_type": "code",
      "source": [
        "test_data = [(fake.name(), fake.address(), fake.job()) for i in range(10)]\n",
        "test_data"
      ],
      "metadata": {
        "id": "CWWFpApkKXXO"
      },
      "execution_count": null,
      "outputs": []
    },
    {
      "cell_type": "markdown",
      "source": [
        "| 항목 | 설명 |\n",
        "| --- | --- |\n",
        "| fake.name() | 이름 |\n",
        "| fake.address() | 주소 |\n",
        "| fake.postcode() | 우편 번호 |\n",
        "| fake.country() | 국가명 |\n",
        "| fake.company() | 회사명 |\n",
        "| fake.job() | 직업명 |\n",
        "| fake.phone_number() | 휴대 전화 번호 |\n",
        "| fake.email() | 이메일 주소 |\n",
        "| fake.user_name() | 사용자명 |\n",
        "| fake.pyint(min_value=0, max_value=100) | 0부터 100 사이의 임의의 숫자 |\n",
        "| fake.ipv4_private() | IP 주소 |\n",
        "| fake.text() | 임의의 문장 (한글 임의의 문장은 fake.catch_phrase() 사용) |\n",
        "| fake.color_name() | 색상명 |"
      ],
      "metadata": {
        "id": "ZrWJs87NLx_8"
      }
    },
    {
      "cell_type": "markdown",
      "source": [
        "## 모듈 만들기\n",
        "- theater_module_test.py 파일 생성"
      ],
      "metadata": {
        "id": "C6O1w-LFR33x"
      }
    },
    {
      "cell_type": "code",
      "source": [
        "# 경로 설정 \n",
        "import os\n",
        "os.chdir(\"/content/\")"
      ],
      "metadata": {
        "id": "aiTeLx_0RjPD"
      },
      "execution_count": null,
      "outputs": []
    },
    {
      "cell_type": "code",
      "source": [
        "import theater_module_test as tmt\n",
        "\n",
        "tmt.price(1)"
      ],
      "metadata": {
        "id": "Nb_WUo5pSAuU"
      },
      "execution_count": null,
      "outputs": []
    },
    {
      "cell_type": "code",
      "source": [
        "from theater_module_test import *\n",
        "\n",
        "price(2)"
      ],
      "metadata": {
        "id": "I_nm-PxUSX3b"
      },
      "execution_count": null,
      "outputs": []
    },
    {
      "cell_type": "markdown",
      "source": [
        "## 패키지 만들기 \n",
        "- pkg_ex 폴더 생성\n",
        "    - seoul.py, japan.py, __init__.py 파일 생성"
      ],
      "metadata": {
        "id": "Fv6MbgSEVmsR"
      }
    },
    {
      "cell_type": "code",
      "source": [
        "import pkg_ex.seoul\n",
        "\n",
        "trip = pkg_ex.seoul.SeoulPkg()\n",
        "trip.detail()"
      ],
      "metadata": {
        "id": "vo2ei-u5TncD"
      },
      "execution_count": null,
      "outputs": []
    },
    {
      "cell_type": "code",
      "source": [
        "# 주의 import문을 사용할때는 대상이 모듈이나 패키지여야하고, 클래스나 함수는 가져올수 없음\n",
        "# import pkg_ex.seoul.SeoulPkg  # error"
      ],
      "metadata": {
        "id": "4Pz-zRP2WY4w"
      },
      "execution_count": null,
      "outputs": []
    },
    {
      "cell_type": "code",
      "source": [
        "# 만약 from import 문을 사용하면 함수, 클래스, 모듈, 패키지 모두 가져올수 있음\n",
        "from pkg_ex.seoul import SeoulPkg\n",
        "\n",
        "trip_n = SeoulPkg()\n",
        "trip_n.detail()"
      ],
      "metadata": {
        "id": "fuWPBDzaVSGC"
      },
      "execution_count": null,
      "outputs": []
    },
    {
      "cell_type": "code",
      "source": [
        "from pkg_ex import japan\n",
        "\n",
        "trip_n2 = japan.OsakaPkg()\n",
        "trip_n2.detail()"
      ],
      "metadata": {
        "id": "mlncfqYcVuI1"
      },
      "execution_count": null,
      "outputs": []
    },
    {
      "cell_type": "markdown",
      "source": [
        "## 모듈 공개 설정"
      ],
      "metadata": {
        "id": "9xDYySGPV-qt"
      }
    },
    {
      "cell_type": "code",
      "source": [
        "# 우리는 보통 모든 패키지를 불러올때 다음과 같이 사용하죠\n",
        "from pandas import *"
      ],
      "metadata": {
        "id": "MD79f-CzVuca"
      },
      "execution_count": null,
      "outputs": []
    },
    {
      "cell_type": "code",
      "source": [
        "# 그러면 위에서 썼던 것을 다음과 같이 가져와볼까요? - errror\n",
        "# __all__ = ['seoul']을 입력하고 런타임을 다시 실행해봅시다!\n",
        "\n",
        "from pkg_ex import *\n",
        "\n",
        "trip_ex = seoul.SeoulPkg() # 서울의 서울 패키지\n",
        "trip_ex.detail()\n",
        "\n",
        "# 패키지내에 __init__.py파일이 없거나 __all__ 리스트 안에 아무런 모듈을 넣지 않아도\n",
        "# from pkg_ex import seoul, japan과 같이 작성하면 모듈을 사용할 수 있음"
      ],
      "metadata": {
        "id": "-sTQ7HnyWJBz"
      },
      "execution_count": null,
      "outputs": []
    },
    {
      "cell_type": "code",
      "source": [
        "# pkg_ex 패키지의 seoul.py에서 OsakaPkg() 클래스 정의 아래에 다음과 같이 코드를 쓰면\n",
        "# __name__변수가 __main__일 때 \n",
        "# 모듈을 직접 실행하는 경우에는 if문에서 출력문과 함께 detail() 메서드를 호출하고\n",
        "# 그렇지 않으면 else문으로 호출 안내 문구를 넣어봅시다.\n",
        "\n",
        "class SeoulPkg:\n",
        "    def detail(self):\n",
        "        print(\"[서울 도심 패키지] 호캉스 100만원\")\n",
        "\n",
        "if __name__ == \"__main__\":\n",
        "    print(\"seoul 모듈 직접 실행되었습니다.\")\n",
        "    trip_seoul = SeoulPkg()\n",
        "    trip_seoul.detail()\n",
        "else:\n",
        "    print(\"외부에서 seoul 모듈 실행되었습니다.\")"
      ],
      "metadata": {
        "id": "sMbqynIZXmg7"
      },
      "execution_count": null,
      "outputs": []
    },
    {
      "cell_type": "code",
      "source": [
        "# 다음과 같이 실행하면 else문이 출력될 것입니다.\n",
        "# 런타임 초기화\n",
        "import pkg_ex.seoul_new"
      ],
      "metadata": {
        "id": "q1Vcr3xOYzsc"
      },
      "execution_count": null,
      "outputs": []
    }
  ]
}