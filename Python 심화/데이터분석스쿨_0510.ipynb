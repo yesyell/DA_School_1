{
  "nbformat": 4,
  "nbformat_minor": 0,
  "metadata": {
    "colab": {
      "private_outputs": true,
      "provenance": [],
      "authorship_tag": "ABX9TyPlfn9lFKkMx6o9XHDtc14M",
      "include_colab_link": true
    },
    "kernelspec": {
      "name": "python3",
      "display_name": "Python 3"
    },
    "language_info": {
      "name": "python"
    }
  },
  "cells": [
    {
      "cell_type": "markdown",
      "metadata": {
        "id": "view-in-github",
        "colab_type": "text"
      },
      "source": [
        "<a href=\"https://colab.research.google.com/github/yesyell/DA_School_1/blob/main/Python%20%EC%8B%AC%ED%99%94/%EB%8D%B0%EC%9D%B4%ED%84%B0%EB%B6%84%EC%84%9D%EC%8A%A4%EC%BF%A8_0510.ipynb\" target=\"_parent\"><img src=\"https://colab.research.google.com/assets/colab-badge.svg\" alt=\"Open In Colab\"/></a>"
      ]
    },
    {
      "cell_type": "markdown",
      "source": [
        "# Matplotlib"
      ],
      "metadata": {
        "id": "HBLVQehNBRng"
      }
    },
    {
      "cell_type": "markdown",
      "source": [
        "matplotlib.pyplot 모듈은 MATLAB과 비슷하게 명령어 스타일로 동작하는 함수의 모음입니다.\n",
        "\n",
        "matplotlib.pyplot 모듈의 각각의 함수를 사용해서 간편하게 그래프를 만들고 변화를 줄 수 있습니다.\n",
        "\n",
        "예를 들어, 그래프 영역을 만들고, 몇 개의 선을 표현하고, 레이블로 꾸미는 등의 일을 할 수 있습니다."
      ],
      "metadata": {
        "id": "5XbD-ZRBBYPk"
      }
    },
    {
      "cell_type": "code",
      "execution_count": null,
      "metadata": {
        "id": "2_OcBg-l9rfw"
      },
      "outputs": [],
      "source": [
        "import matplotlib.pyplot as plt     # as : 새로운 이름 지정\n",
        "\n",
        "# y축 지정하기\n",
        "plt.plot([1, 2, 3, 4])\n",
        "plt.show()\n",
        "\n",
        "# pyplot.plot() 함수에 하나의 숫자 리스트를 입력함으로써 아래와 같은 그래프가 그려집니다.\n",
        "# plot() 함수는 리스트의 값들이 y 값들이라고 가정하고, x 값 [0, 1, 2, 3]을 자동으로 만들어냅니다.\n",
        "# matplotlib.pyplot 모듈의 show() 함수는 그래프를 화면에 나타나도록 합니다."
      ]
    },
    {
      "cell_type": "code",
      "source": [
        "# x, y축 지정하기\n",
        "plt.plot([1, 2, 3, 4], [1, 4, 9, 16])\n",
        "plt.show()"
      ],
      "metadata": {
        "id": "2upELzA8BzY-"
      },
      "execution_count": null,
      "outputs": []
    },
    {
      "cell_type": "code",
      "source": [
        "plt.plot([1, 2, 3, 4], [1, 4, 9, 16], 'ro-')\n",
        "plt.axis([1, 5, 1, 15])\n",
        "plt.show()\n",
        "\n",
        "# x, y 값 인자에 대해 선의 색상과 형태를 지정하는 포맷 문자열 (Format string)을 세번째 인자에 입력할 수 있습니다.\n",
        "# 포맷 문자열 ‘ro’는 빨간색 (‘red’)의 원형 (‘o’) 마커를 의미합니다.\n",
        "# 또한, 예를 들어 ‘b-‘는 파란색 (‘blue’)의 실선 (‘-‘)을 의미합니다.\n",
        "# matplotlib.pyplot 모듈의 axis() 함수를 이용해서 축의 범위 [xmin, xmax, ymin, ymax]를 지정했습니다."
      ],
      "metadata": {
        "id": "9inBDUQ-CZnd"
      },
      "execution_count": null,
      "outputs": []
    },
    {
      "cell_type": "code",
      "source": [
        "# 여러개의 그래프를 그리는 방법\n",
        "import matplotlib.pyplot as plt\n",
        "import numpy as np\n",
        "\n",
        "# 200ms 간격으로 균일하게 샘플된 시간\n",
        "t = np.arange(0., 5., 0.2)\n",
        "\n",
        "# 빨간 대쉬, 파란 사각형, 녹색 삼각형\n",
        "plt.plot(t, t, 'r--', t, t**2, 'bs', t, t**3, 'g^')\n",
        "plt.show()"
      ],
      "metadata": {
        "id": "YYD6OAOQC6Mv"
      },
      "execution_count": null,
      "outputs": []
    },
    {
      "cell_type": "code",
      "source": [
        "# 숫자 입력하기\n",
        "plt.plot([2, 3, 5, 10])\n",
        "plt.show()\n",
        "\n",
        "# plot([2, 3, 5, 10])와 같이 하나의 리스트 형태로 값들을 입력하면 y 값으로 인식합니다.\n",
        "# plot((2, 3, 5, 10)) 또는 plot(np.array([2, 3, 5, 10])와 같이 \n",
        "# 파이썬 튜플 또는 Numpy 어레이의 형태로도 데이터를 입력할 수 있습니다.\n",
        "# x 값은 기본적으로 [0, 1, 2, 3]이 되어서, \n",
        "# 점 (0, 2), (1, 3), (2, 5), (3, 10)를 잇는 아래와 같은 꺾은선 그래프가 나타납니다."
      ],
      "metadata": {
        "id": "3aegJpvQDzhQ"
      },
      "execution_count": null,
      "outputs": []
    },
    {
      "cell_type": "code",
      "source": [
        "# 레이블이 있는 데이터 사용하기\n",
        "data_dict = {'data_x': [1, 2, 3, 4, 5], 'data_y': [2, 3, 5, 10, 8]}\n",
        "plt.plot('data_x', 'data_y', data=data_dict)\n",
        "plt.show()"
      ],
      "metadata": {
        "id": "xnl0bUKDEmtN"
      },
      "execution_count": null,
      "outputs": []
    },
    {
      "cell_type": "code",
      "source": [
        "font1 = {'family': 'serif',\n",
        "         'color': 'b',\n",
        "         'weight': 'bold',\n",
        "         'size': 14\n",
        "         }\n",
        "\n",
        "font2 = {'family': 'fantasy',\n",
        "         'color': 'deeppink',\n",
        "         'weight': 'normal',\n",
        "         'size': 'xx-large'\n",
        "         }\n",
        "\n",
        "plt.plot([1, 2, 3, 4], [2, 3, 5, 10])\n",
        "\n",
        "# 레이블 설정하기, 여백 지정하기, 폰트 설정하기, 위치 지정하기\n",
        "plt.xlabel('X-Axis', labelpad=15, fontdict=font1, loc='right')\n",
        "plt.ylabel('Y-Axis', labelpad=10, fontdict=font2, loc='top')\n",
        "plt.show()\n",
        "\n",
        "# xlabel(), ylabel() 함수의 fontdict 파라미터를 사용하면 축 레이블의 폰트 스타일을 설정할 수 있습니다.\n",
        "# 예제에서는 ‘family’, ‘color’, ‘weight’, ‘size’와 같은 속성을 사용해서 축 레이블 텍스트를 설정했습니다.\n",
        "# 아래와 같이 작성하면 폰트 스타일을 편리하게 재사용할 수 있습니다."
      ],
      "metadata": {
        "id": "yQkCwhkuF32K"
      },
      "execution_count": null,
      "outputs": []
    },
    {
      "cell_type": "code",
      "source": [
        "# 범례 다루기\n",
        "plt.plot([1, 2, 3, 4], [2, 3, 5, 10], label='Price ($)')\n",
        "plt.xlabel('X-Axis')\n",
        "plt.ylabel('Y-Axis')\n",
        "plt.legend(loc=(0.1,0.8))   # 위치 지정하기\n",
        "plt.show()"
      ],
      "metadata": {
        "id": "L6v2XB28HXxW"
      },
      "execution_count": null,
      "outputs": []
    },
    {
      "cell_type": "code",
      "source": [
        "# 범례 2개 그리기\n",
        "plt.title('legend')\n",
        "plt.plot([1, 2, 3, 4], [2, 3, 5, 10], label='Price ($)')\n",
        "plt.plot([1, 2, 3, 4], [3, 5, 9, 7], label='Demand (#)')\n",
        "# plt.legend(loc='best')    # ncol = 1\n",
        "plt.legend(loc='best', ncol=2, fontsize=10)     \n",
        "plt.show()"
      ],
      "metadata": {
        "id": "CN8nK96_H9f7"
      },
      "execution_count": null,
      "outputs": []
    },
    {
      "cell_type": "code",
      "source": [
        "# 축 범위 지정하기\n",
        "plt.plot([1, 2, 3, 4], [2, 3, 5, 10])\n",
        "plt.xlabel('X-Axis')\n",
        "plt.ylabel('Y-Axis')\n",
        "plt.xlim([0, 5])      # X축의 범위: [xmin, xmax]\n",
        "plt.ylim([0, 20])     # Y축의 범위: [ymin, ymax]\n",
        "# plt.axis([0, 5, 0, 20])\n",
        "plt.show()"
      ],
      "metadata": {
        "id": "5g_39TAkO-Vd"
      },
      "execution_count": null,
      "outputs": []
    },
    {
      "cell_type": "code",
      "source": [
        "# 축범위 얻기 \n",
        "plt.plot([1, 2, 3, 4], [2, 3, 5, 10])\n",
        "plt.xlabel('X-Axis')\n",
        "plt.ylabel('Y-Axis')\n",
        "\n",
        "x_range, y_range = plt.xlim(), plt.ylim()\n",
        "print(x_range, y_range)\n",
        "\n",
        "axis_range = plt.axis('scaled')\n",
        "print(axis_range)\n",
        "\n",
        "plt.show()\n",
        "# xlim(), ylim() 함수는 그래프 영역에 표시되는 X축, Y축의 범위를 각각 반환합니다.\n",
        "# axis() 함수는 그래프 영역에 표시되는 X, Y축의 범위를 반환합니다."
      ],
      "metadata": {
        "id": "di1Q3pnYPZGk"
      },
      "execution_count": null,
      "outputs": []
    },
    {
      "cell_type": "code",
      "source": [
        "# 선 종류 지정하기\n",
        "plt.title('linestyle')\n",
        "plt.plot([1, 2, 3], [4, 4, 4], '-', color='C0', label='Solid')\n",
        "plt.plot([1, 2, 3], [3, 3, 3], '--', color='C0', label='Dashed')\n",
        "plt.plot([1, 2, 3], [2, 2, 2], ':', color='C0', label='Dotted')\n",
        "plt.plot([1, 2, 3], [1, 1, 1], '-.', color='C0', label='Dash-dot')\n",
        "# plt.plot([1, 2, 3], [4, 4, 4], linestyle='solid', color='C0', label=\"'solid'\")\n",
        "# plt.plot([1, 2, 3], [3, 3, 3], linestyle='dashed', color='C0', label=\"'dashed'\")\n",
        "# plt.plot([1, 2, 3], [2, 2, 2], linestyle='dotted', color='C0', label=\"'dotted'\")\n",
        "# plt.plot([1, 2, 3], [1, 1, 1], linestyle='dashdot', color='C0', label=\"'dashdot'\")\n",
        "\n",
        "plt.axis([0.8, 3.2, 0.5, 5.0])\n",
        "plt.legend(loc='upper right', ncol=4, fontsize=6)\n",
        "plt.tight_layout()\n",
        "plt.show()"
      ],
      "metadata": {
        "id": "wwvxA8IrPlr5"
      },
      "execution_count": null,
      "outputs": []
    },
    {
      "cell_type": "code",
      "source": [
        "plt.plot([1, 2, 3], [4, 4, 4], linestyle=(0, (1, 1)), color='C0', label='(0, (1, 1))')\n",
        "plt.plot([1, 2, 3], [3, 3, 3], linestyle=(0, (1, 5)), color='C0', label='(0, (1, 5))')\n",
        "plt.plot([1, 2, 3], [2, 2, 2], linestyle=(0, (5, 1)), color='C0', label='(0, (5, 1))')\n",
        "plt.plot([1, 2, 3], [1, 1, 1], linestyle=(0, (3, 5, 1, 5)), color='C0', label='(0, (3, 5, 1, 5))')\n",
        "plt.xlabel('X-Axis')\n",
        "plt.ylabel('Y-Axis')\n",
        "plt.axis([0.8, 3.2, 0.5, 5.0])\n",
        "plt.legend(loc='upper right', ncol=2)\n",
        "plt.tight_layout()\n",
        "plt.show()\n",
        "\n",
        "# 튜플을 사용해서 선의 종류를 커스터마이즈할 수 있습니다.\n",
        "# 예를 들어, (0, (1, 1))은 ‘dotted’와 같고, (0, (5, 5))는 ‘dashed’와 같습니다.\n",
        "# 또한 (0, (3, 5, 1, 5))는 ‘dashdotted’와 같습니다.\n",
        "# 숫자를 바꿔가면서 다양한 선의 종류를 만들어보세요."
      ],
      "metadata": {
        "id": "8TPOqKnVQ3eK"
      },
      "execution_count": null,
      "outputs": []
    },
    {
      "cell_type": "code",
      "source": [
        "# 선 끝 모양 지정하기\n",
        "plt.plot([1, 2, 3], [4, 4, 4], linestyle='solid', linewidth=8,\n",
        "      solid_capstyle='butt', color='C1', label='solid+butt')\n",
        "plt.plot([1, 2, 3], [3, 3, 3], linestyle='solid', linewidth=4,\n",
        "      solid_capstyle='round', color='limegreen', label='solid+round')\n",
        "\n",
        "plt.plot([1, 2, 3], [2, 2, 2], linestyle='dashed', linewidth=8,\n",
        "      dash_capstyle='butt', color='dodgerblue', label='dashed+butt')\n",
        "plt.plot([1, 2, 3], [1, 1, 1], linestyle='dashed', linewidth=4,\n",
        "      dash_capstyle='round', color='violet', label='dashed+round')\n",
        "\n",
        "plt.xlabel('X-Axis')\n",
        "plt.ylabel('Y-Axis')\n",
        "plt.axis([0.8, 3.2, 0.5, 5.0])\n",
        "plt.legend(loc='upper right', ncol=2)\n",
        "plt.tight_layout()\n",
        "plt.show()"
      ],
      "metadata": {
        "id": "Uswq1x5wQQgb"
      },
      "execution_count": null,
      "outputs": []
    },
    {
      "cell_type": "code",
      "source": [
        "# 선/마커 동시에 나타내기\n",
        "plt.plot([5, 6, 7], 'bo-')    # 파란색 + 마커 + 실선\n",
        "plt.plot([4, 5, 6], \"d--\")    # 파란색 + 점선\n",
        "plt.plot([3, 4, 5], \"x\")\n",
        "\n",
        "# marker 파라미터 사용하기\n",
        "plt.plot([2, 3, 4], marker=\"H\")\n",
        "plt.plot([1, 2, 3], marker=11)\n",
        "plt.plot([0, 1, 2], marker='$Z$')\n",
        "plt.show()"
      ],
      "metadata": {
        "id": "UIG-CsX70agz"
      },
      "execution_count": null,
      "outputs": []
    },
    {
      "cell_type": "code",
      "source": [
        "# 그래프의 영역을 나타내기 - 특정 부분 강조 시 사용\n",
        "x = [1, 2, 3, 4]\n",
        "y = [2, 3, 5, 10]\n",
        "\n",
        "plt.plot(x, y)\n",
        "plt.xlabel('X-Axis')\n",
        "plt.ylabel('Y-Axis')\n",
        "plt.fill_between(x[1:3], y[1:3], alpha=0.5)\n",
        "\n",
        "plt.show()\n",
        "# fill_between() 함수에 x[1:3], y[1:3]를 순서대로 입력하면,\n",
        "# 네 점 (x[1], y[1]), (x[2], y[2]), (x[1], 0), (x[2], 0)을 잇는 영역이 채워집니다."
      ],
      "metadata": {
        "id": "ps5LHZLBTR_X"
      },
      "execution_count": null,
      "outputs": []
    },
    {
      "cell_type": "code",
      "source": [
        "x = [1, 2, 3, 4]\n",
        "y1 = [2, 3, 5, 10]\n",
        "y2 = [1, 2, 4, 8]\n",
        "\n",
        "plt.plot(x, y1)\n",
        "plt.plot(x, y2)\n",
        "plt.fill_between(x[1:3], y1[1:3], y2[1:3], color='lightgray', alpha=0.5)\n",
        "\n",
        "plt.show()"
      ],
      "metadata": {
        "id": "XGa4EPm7wRGW"
      },
      "execution_count": null,
      "outputs": []
    },
    {
      "cell_type": "code",
      "source": [
        "# 여러 곡선 그리기\n",
        "import numpy as np\n",
        "x = np.arange(0, 2, 0.2)\n",
        "\n",
        "plt.plot(x, x, 'r--', x, x**2, 'bo', x, x**3, 'g-.')\n",
        "plt.show()"
      ],
      "metadata": {
        "id": "1TCbUTybVHzM"
      },
      "execution_count": null,
      "outputs": []
    },
    {
      "cell_type": "code",
      "source": [
        "x = np.arange(0, 2, 0.2)\n",
        "\n",
        "plt.plot(x, x, 'bo')\n",
        "plt.plot(x, x**2, color='#e35f62', marker='*', linewidth=2)\n",
        "plt.plot(x, x**3, color='springgreen', marker='^', markersize=9)\n",
        "\n",
        "# 눈금 표시하기\n",
        "plt.xticks(np.arange(0, 2, 0.2), \n",
        "           labels=['Jan', '', 'Feb', '', 'Mar', '', 'May', '', 'June', ''])\n",
        "plt.yticks(np.arange(0, 7),     # range(1,7) [1-6]\n",
        "            ('0', '1GB', '2GB', '3GB', '4GB', '5GB', '6GB')) \n",
        "\n",
        "# 그리드 설정하기 \n",
        "plt.grid(True)\n",
        "\n",
        "# 분석 내용 타이틀 그리기\n",
        "plt.tick_params(axis='both', direction='in', length=3, pad=6, labelsize=14)\n",
        "plt.title('Graph Title')\n",
        "\n",
        "plt.show()"
      ],
      "metadata": {
        "id": "vJm9zEZ6Vc27"
      },
      "execution_count": null,
      "outputs": []
    },
    {
      "cell_type": "markdown",
      "source": [
        "## 막대 그래프"
      ],
      "metadata": {
        "id": "QOxM2yEBejif"
      }
    },
    {
      "cell_type": "code",
      "source": [
        "# 세로 막대그래프 그리기 - 연도별로 변화하는 값을 갖는 데이터\n",
        "x = [0, 1, 2]\n",
        "years = ['2018', '2019', '2020']\n",
        "values = [100, 400, 900]\n",
        "\n",
        "plt.bar(x, values, color='#e35f62')\n",
        "plt.xticks(x, years)\n",
        "\n",
        "plt.show()\n",
        "\n",
        "# [0,1,2] 주어진 범위와 간격에 따라 균일한 값을 갖는 리스트를 만들었습니다.\n",
        "# years는 X축에 표시될 연도이고, values는 막대 그래프의 y 값 입니다.\n",
        "# 먼저 plt.bar() 함수에 x 값 [0, 1, 2]와 y 값 [100, 400, 900]를 입력해주고,\n",
        "# xticks()에 x와 years를 입력해주면, \n",
        "# X축의 눈금 레이블에 ‘2018’, ‘2019’, ‘2020’이 순서대로 표시됩니다."
      ],
      "metadata": {
        "id": "8FoPKeOBaq30"
      },
      "execution_count": null,
      "outputs": []
    },
    {
      "cell_type": "code",
      "source": [
        "# 값별로 색상, 굵기 다르게 하기\n",
        "x = np.arange(3)\n",
        "years = ['name1', 'name2', 'name3']\n",
        "values = [100, 400, 900]\n",
        "colors = ['y', 'dodgerblue', 'C2']\n",
        "widths = [0.6, 0.8, 1.0]\n",
        "\n",
        "plt.bar(x, values, color=colors, width=widths, \n",
        "        tick_label=years)\n",
        "# plt.xticks(x, years)\n",
        "\n",
        "plt.show()"
      ],
      "metadata": {
        "id": "yYBxXT-vbSnl"
      },
      "execution_count": null,
      "outputs": []
    },
    {
      "cell_type": "code",
      "source": [
        "# 엣지 표시하기 \n",
        "x = np.arange(3)\n",
        "years = ['2018', '2019', '2020']\n",
        "values = [100, 400, 900]\n",
        "\n",
        "plt.bar(x, values, align='edge', edgecolor='lightgray',\n",
        "        linewidth=5, tick_label=years)\n",
        "\n",
        "plt.show()"
      ],
      "metadata": {
        "id": "vQXT_P9_c1fk"
      },
      "execution_count": null,
      "outputs": []
    },
    {
      "cell_type": "code",
      "source": [
        "# 가로로 막대그래프 그리기\n",
        "y = [0,1,2]\n",
        "years = ['2018', '2019', '2020']\n",
        "values = [100, 400, 900]\n",
        "\n",
        "plt.barh(y, values)\n",
        "plt.yticks(y, years)\n",
        "\n",
        "plt.show()"
      ],
      "metadata": {
        "id": "daWFI2kBdjJg"
      },
      "execution_count": null,
      "outputs": []
    },
    {
      "cell_type": "markdown",
      "source": [
        "## 산점도"
      ],
      "metadata": {
        "id": "v24Y16J_gc4S"
      }
    },
    {
      "cell_type": "code",
      "source": [
        "np.random.seed(0)\n",
        "\n",
        "n = 5\n",
        "x = [1,2,3,4,5]\n",
        "y = [1,2,3,4,5]\n",
        "colors = np.random.rand(n)\n",
        "\n",
        "# 산점도 그리는 함수 scatter\n",
        "plt.scatter(x, y, c = colors)\n",
        "plt.show()"
      ],
      "metadata": {
        "id": "cHpyBLXLd2MN"
      },
      "execution_count": null,
      "outputs": []
    },
    {
      "cell_type": "markdown",
      "source": [
        "## 히스토그램"
      ],
      "metadata": {
        "id": "CyetR0swiNOm"
      }
    },
    {
      "cell_type": "code",
      "source": [
        "weight = [10,20,30,20,10,40,30,20]\n",
        "\n",
        "# 히스토그램 그리는 함수\n",
        "plt.hist(weight)\n",
        "\n",
        "plt.show()"
      ],
      "metadata": {
        "id": "eY2bIZYNh_4w"
      },
      "execution_count": null,
      "outputs": []
    },
    {
      "cell_type": "code",
      "source": [
        "weight = [68, 81, 64, 56, 78, 74, 61, 77, 66, 68, 59, 71,\n",
        "          80, 59, 67, 81, 69, 73, 69, 74, 70, 65]\n",
        "\n",
        "plt.hist(weight, label='bins=10')   # bin default 10\n",
        "plt.hist(weight, bins=30, label='bins=30')\n",
        "# hist() 함수의 bins 파라미터는 히스토그램의 가로축 구간의 개수를 지정합니다.\n",
        "\n",
        "plt.legend()\n",
        "plt.show()"
      ],
      "metadata": {
        "id": "_bHA_kB0ielP"
      },
      "execution_count": null,
      "outputs": []
    },
    {
      "cell_type": "markdown",
      "source": [
        "https://www.edrawsoft.com/kr/for-beginners/what-is-histogram.html"
      ],
      "metadata": {
        "id": "n9nAt2FC_WKC"
      }
    },
    {
      "cell_type": "markdown",
      "source": [
        "## 파이 차트"
      ],
      "metadata": {
        "id": "r_VIw24aipeH"
      }
    },
    {
      "cell_type": "code",
      "source": [
        "ratio = [34, 32, 16, 18]    # 퍼센트\n",
        "labels = ['Apple', 'Banana', 'Melon', 'Grapes']     # 항목\n",
        "\n",
        "plt.pie(ratio, labels=labels, autopct='%.1f%%')   \n",
        "# autopct는 부채꼴 안에 표시될 숫자의 형식을 지정합니다. 소수점 한자리까지 표시하도록 설정했습니다.\n",
        "plt.show()"
      ],
      "metadata": {
        "id": "VIFh4Wa9inr3"
      },
      "execution_count": null,
      "outputs": []
    },
    {
      "cell_type": "markdown",
      "source": [
        "## 박스 플롯"
      ],
      "metadata": {
        "id": "2E89zPVS2thr"
      }
    },
    {
      "cell_type": "code",
      "source": [
        "import random\n",
        "x1 = []\n",
        "for i in range(10):\n",
        "    x1.append(random.random())\n",
        "# print(x1)\n",
        "\n",
        "import matplotlib.pyplot as plt\n",
        "import numpy as np\n",
        "\n",
        "# 1. 기본 스타일 설정\n",
        "plt.style.use('default')\n",
        "plt.rcParams['figure.figsize'] = (4, 3)\n",
        "plt.rcParams['font.size'] = 12\n",
        "\n",
        "# 2. 데이터 준비\n",
        "np.random.seed(5)\n",
        "\n",
        "# 3. 그래프 그리기\n",
        "fig, ax = plt.subplots()\n",
        "\n",
        "ax.boxplot(x1)\n",
        "ax.set_ylim(0, 1.0)\n",
        "ax.set_xlabel('Data Type')\n",
        "ax.set_ylabel('Value')\n",
        "\n",
        "plt.show()"
      ],
      "metadata": {
        "id": "rEvvFUIM1WEB"
      },
      "execution_count": null,
      "outputs": []
    },
    {
      "cell_type": "markdown",
      "source": [
        "https://matplotlib.org/stable/gallery/index.html"
      ],
      "metadata": {
        "id": "5a7EbEu34Wjw"
      }
    },
    {
      "cell_type": "markdown",
      "source": [
        "## 연습문제"
      ],
      "metadata": {
        "id": "ecG3wzjE5PGd"
      }
    },
    {
      "cell_type": "code",
      "source": [
        "# 주사위를 100번 굴려서 히스토그램으로 그래프를 그려보세요\n",
        "\n",
        "random.seed(0)\n",
        "\n",
        "dice = []\n",
        "for i in range(1000):\n",
        "    dice.append(random.randint(1, 6))\n",
        "\n",
        "plt.hist(dice, histtype='stepfilled', label='dice', bins=6)\n",
        "\n",
        "plt.legend()\n",
        "plt.show()"
      ],
      "metadata": {
        "id": "OBH1M0ta4hq9"
      },
      "execution_count": null,
      "outputs": []
    },
    {
      "cell_type": "code",
      "source": [
        "# 수집된 서울의 기온 데이터를 히스토그램으로 표시하시오.\n",
        "\n",
        "import os\n",
        "os.chdir('/content/')\n",
        "\n",
        "import csv\n",
        "f = open('/content/CSV_example2_data.csv', 'r')  \n",
        "data = csv.reader(f)\n",
        "next(data)\n",
        "\n",
        "result = [] \n",
        "for row in data: \n",
        "    result.append(float(row[-1]))      \n",
        "f.close()\n",
        "\n",
        "import matplotlib.pyplot as plt\n",
        "\n",
        "plt.figure(figsize = (8, 2)) \n",
        "plt.hist(result, color = 'y', bins = 20)    # 데이터의 분포 - 구간을 20으로 나눔\n",
        "\n",
        "plt.show()"
      ],
      "metadata": {
        "id": "ZD3rzgdT82Nn"
      },
      "execution_count": null,
      "outputs": []
    },
    {
      "cell_type": "code",
      "source": [
        "# 4월 5월 데이터를 중첩해서 그려보기 - split 활용\n",
        "\n",
        "import os\n",
        "os.chdir('/content/')\n",
        "\n",
        "import csv\n",
        "f = open('/content/CSV_example2_data.csv', 'r') \n",
        "data = csv.reader(f)\n",
        "next(data)\n",
        "\n",
        "result_04 = [] \n",
        "result_05 = [] \n",
        "\n",
        "for row in data: \n",
        "    if row[0].split('-')[1]=='04':\n",
        "         result_04.append(float(row[-1]))\n",
        "    elif row[0].split('-')[1]=='05':\n",
        "         result_05.append(float(row[-1]))\n",
        "f.close()\n",
        "\n",
        "import matplotlib.pyplot as plt\n",
        "\n",
        "plt.figure(figsize = (6, 2)) \n",
        "plt.hist(result_04, color = 'pink', bins = 10, label='April')\n",
        "plt.hist(result_05, color = 'lightgreen', bins = 10, label='May') \n",
        "plt.legend()\n",
        "plt.show()"
      ],
      "metadata": {
        "id": "ypYnfwqyC3id"
      },
      "execution_count": null,
      "outputs": []
    },
    {
      "cell_type": "code",
      "source": [
        "plt.boxplot([result_04, result_05])\n",
        "plt.show()"
      ],
      "metadata": {
        "id": "YkJ4NggAGNEh"
      },
      "execution_count": null,
      "outputs": []
    },
    {
      "cell_type": "code",
      "source": [
        "# 서울특별시 0세부터 100세까지의 연령에 따른 선 그래프 그리기\n",
        "\n",
        "import csv\n",
        "f = open('/content/dataset_example3_new.csv')\n",
        "data = csv.reader(f)\n",
        "\n",
        "seoul = []\n",
        "for row in data:\n",
        "    if '서울특별시' == row[0]:\n",
        "        for i in row[3:14]:\n",
        "            i = i.replace(\",\",\"\")\n",
        "            seoul.append(int(i))\n",
        "f.close()\n",
        "\n",
        "import matplotlib.pyplot as plt\n",
        "\n",
        "plt.figure(figsize = (10, 2))\n",
        "plt.plot(seoul, 'y^-')\n",
        "# plt.hist(seoul)\n",
        "# plt.bar(range(11), seoul)\n",
        "\n",
        "# 눈금 표시하기\n",
        "plt.xticks(np.arange(0, 11), \n",
        "           labels=['0-9', '10-19', '20-29', '30-39', '40-49', '50-59', \n",
        "                   '60-69', '70-79', '80-89', '90-99', '100-'])\n",
        "plt.yticks(np.arange(0, 2000001, 500000), \n",
        "           labels=['0', '0.5M', '1M', '1.5M', '2M'])\n",
        "\n",
        "# 그리드 설정하기 \n",
        "plt.grid(True)\n",
        "\n",
        "plt.show()"
      ],
      "metadata": {
        "id": "eiQ10rAKKK0a"
      },
      "execution_count": null,
      "outputs": []
    },
    {
      "cell_type": "code",
      "source": [
        "import csv\n",
        "f = open('/content/dataset_example3_new.csv')\n",
        "data = csv.reader(f)\n",
        "\n",
        "female = [] #여성 인구정보를 담을 리스트\n",
        "male = [] #남성 인구정보를 담을 리스트\n",
        "\n",
        "for row in data:\n",
        "    if '제주특별자치도' in row[0]:\n",
        "        for i in row[16:27]:        # 1에서 100까지\n",
        "            i = i.replace(\",\", \"\")\n",
        "            male.append(-int(i))     # 남성데이터는 15~27\n",
        "        for i in row[29:]:\n",
        "            i = i.replace(\",\", \"\")\n",
        "            female.append(int(i))   # 여성데이터는 30~번까지\n",
        "f.close()\n",
        "\n",
        "import matplotlib.pyplot as plt\n",
        "plt.barh(range(11), male, label='male')\n",
        "plt.barh(range(11), female, label='female')\n",
        "plt.legend()\n",
        "\n",
        "plt.show()"
      ],
      "metadata": {
        "id": "uHMnRBaLLTNH"
      },
      "execution_count": null,
      "outputs": []
    },
    {
      "cell_type": "code",
      "source": [
        "# 리스트 3개를 만드셔서 -> 연도 / 서울 / 수도권\n",
        "# 리스트로 값을 저장하는 쿼리 작성\n",
        "years = []\n",
        "s = []\n",
        "g = []\n",
        "\n",
        "with open('/content/example_4_all.csv') as f:\n",
        "    data = csv.reader(f)\n",
        "    next(data)\n",
        "\n",
        "    for row in data:\n",
        "        years.append(row[0])\n",
        "        s.append(float(row[1]))\n",
        "        g.append(float(row[2]))\n",
        "\n",
        "# year가 x축의 이름\n",
        "# s g를 2개의 그래프를 그리는 연습문제\n",
        "\n",
        "plt.figure(figsize = (10, 3))\n",
        "\n",
        "# plt.plot(years, s, 'go-', years, g, 'b-.')\n",
        "plt.plot(years, s, 'co-', label='seoul')\n",
        "plt.plot(years, g, 'm^-.', label='gyeonggi')\n",
        "\n",
        "plt.xlabel('year')\n",
        "plt.xticks(rotation=45)\n",
        "\n",
        "plt.legend()\n",
        "plt.show()"
      ],
      "metadata": {
        "id": "aPrwXE94SGrB"
      },
      "execution_count": null,
      "outputs": []
    },
    {
      "cell_type": "code",
      "source": [
        "# 강사님 답안\n",
        "# x축에 년도, y축에 인구수가 있는 선 그래프 만들기\n",
        "plt.figure(figsize=(10,2))\n",
        "plt.plot(range(14), s, color='green', marker='o', linestyle='solid', label='s')\n",
        "plt.plot(range(14), g, color='red', marker='o', linestyle='solid', label='g')\n",
        "\n",
        "plt.xticks(range(14), years, rotation=45)\n",
        "\n",
        "plt.title(\"Population Change\")\n",
        "plt.ylabel(\"Percentage\")\n",
        "\n",
        "plt.legend()\n",
        "plt.show()"
      ],
      "metadata": {
        "id": "zARUR_AIX8C_"
      },
      "execution_count": null,
      "outputs": []
    }
  ]
}