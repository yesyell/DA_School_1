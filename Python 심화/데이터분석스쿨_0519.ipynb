{
  "nbformat": 4,
  "nbformat_minor": 0,
  "metadata": {
    "colab": {
      "private_outputs": true,
      "provenance": [],
      "authorship_tag": "ABX9TyPa/nwYa5wC04tODDqGxDSJ",
      "include_colab_link": true
    },
    "kernelspec": {
      "name": "python3",
      "display_name": "Python 3"
    },
    "language_info": {
      "name": "python"
    }
  },
  "cells": [
    {
      "cell_type": "markdown",
      "metadata": {
        "id": "view-in-github",
        "colab_type": "text"
      },
      "source": [
        "<a href=\"https://colab.research.google.com/github/yesyell/DA_School_1/blob/main/Python%20%EC%8B%AC%ED%99%94/%EB%8D%B0%EC%9D%B4%ED%84%B0%EB%B6%84%EC%84%9D%EC%8A%A4%EC%BF%A8_0519.ipynb\" target=\"_parent\"><img src=\"https://colab.research.google.com/assets/colab-badge.svg\" alt=\"Open In Colab\"/></a>"
      ]
    },
    {
      "cell_type": "markdown",
      "source": [
        "# 일단 만드는 Python"
      ],
      "metadata": {
        "id": "rX7XrTW6XGF6"
      }
    },
    {
      "cell_type": "markdown",
      "source": [
        "## 메뉴 자판기"
      ],
      "metadata": {
        "id": "cjZu53iBbQC6"
      }
    },
    {
      "cell_type": "code",
      "execution_count": null,
      "metadata": {
        "id": "-LpgmRRoWHil"
      },
      "outputs": [],
      "source": [
        "import random\n",
        "\n",
        "print(random.choice([\"된장찌개\", \"피자\", \"제육볶음\", \"치킨\", \"떡볶이\"]))"
      ]
    },
    {
      "cell_type": "code",
      "source": [
        "for i in range(30):\n",
        "    print(random.choice([\"된장찌개\", \"피자\", \"제육볶음\", \"치킨\", \"떡볶이\"]))"
      ],
      "metadata": {
        "id": "vpniddTgW_sL"
      },
      "execution_count": null,
      "outputs": []
    },
    {
      "cell_type": "code",
      "source": [
        "import time\n",
        "\n",
        "while True:\n",
        "    print(random.choice([\"된장찌개\", \"피자\", \"제육볶음\", \"치킨\", \"떡볶이\"]))\n",
        "    break\n",
        "    time.sleep(1)"
      ],
      "metadata": {
        "id": "kI1BU8v0ZVTJ"
      },
      "execution_count": null,
      "outputs": []
    },
    {
      "cell_type": "code",
      "source": [
        "lunch = random.choice([\"된장찌개\",\"피자\",\"제육볶음\"])\n",
        "# lunch = \"냉장고\"\n",
        "dinner = random.choice([\"김밥\",\"쫄면\",\"돈까스\"])\n",
        "print(lunch)"
      ],
      "metadata": {
        "id": "RnEK_TMkaB32"
      },
      "execution_count": null,
      "outputs": []
    },
    {
      "cell_type": "code",
      "source": [
        "information = {\"고향\":\"수원\", \"취미\":\"영화관람\", \"좋아하는 음식\":\"국수\"}         \n",
        "print(information)\n",
        "print(information.get(\"취미\"))"
      ],
      "metadata": {
        "id": "rbo5BagdbEFo"
      },
      "execution_count": null,
      "outputs": []
    },
    {
      "cell_type": "code",
      "source": [
        "information = {\"고향\":\"수원\", \"취미\":\"영화관람\", \"좋아하는 음식\":\"국수\"}\n",
        "foods = [\"된장찌개\",\"피자\",\"제육볶음\"]\n",
        "\n",
        "print(information.get(\"취미\"))\n",
        "\n",
        "information[\"특기\"] = \"피아노\"\n",
        "information[\"사는 곳\"] = \"서울\"\n",
        "del information[\"좋아하는 음식\"]\n",
        "print(information)\n",
        "print(len(information))\n",
        "\n",
        "information.clear()\n",
        "print(information)\n",
        "\n",
        "print(foods[-1])\n",
        "\n",
        "foods.append(\"김밥\")\n",
        "print(foods)\n",
        "\n",
        "del foods[2]\n",
        "print(foods)"
      ],
      "metadata": {
        "id": "xjJxqa2Tb1UY"
      },
      "execution_count": null,
      "outputs": []
    },
    {
      "cell_type": "code",
      "source": [
        "foods = [\"된장찌개\",\"피자\",\"제육볶음\"]\n",
        "for food in foods:\n",
        "    print(food)"
      ],
      "metadata": {
        "id": "1ZFVcEjec4l6"
      },
      "execution_count": null,
      "outputs": []
    },
    {
      "cell_type": "code",
      "source": [
        "information = {\"고향\":\"수원\", \"취미\":\"영화관람\", \"좋아하는 음식\":\"국수\"}\n",
        "for x, y in information.items():\n",
        "    print(x)\n",
        "    print(y)"
      ],
      "metadata": {
        "id": "I9AK2OQRewUO"
      },
      "execution_count": null,
      "outputs": []
    },
    {
      "cell_type": "code",
      "source": [
        "# 집합 set - 순서가 없음\n",
        "foods = [\"된장찌개\",\"피자\",\"제육볶음\",\"된장찌개\"]\n",
        "foods_set = set(foods)\n",
        "print(foods)\n",
        "print(foods_set)"
      ],
      "metadata": {
        "id": "Ki6fh9Jphofn"
      },
      "execution_count": null,
      "outputs": []
    },
    {
      "cell_type": "code",
      "source": [
        "menu1 = set([\"된장찌개\",\"피자\",\"제육볶음\"])\n",
        "menu2 = set([\"된장찌개\",\"떡국\",\"김밥\"])\n",
        "menu3 = menu1 | menu2\n",
        "menu4 = menu1 & menu2\n",
        "menu5 = menu1 - menu2\n",
        "print(menu3)\n",
        "print(menu4)\n",
        "print(menu5)"
      ],
      "metadata": {
        "id": "l4UOpRzdi37V"
      },
      "execution_count": null,
      "outputs": []
    },
    {
      "cell_type": "code",
      "source": [
        "import random\n",
        "\n",
        "food = random.choice([\"된장찌개\",\"피자\",\"제육볶음\"])\n",
        "# print(food)\n",
        "if food == \"제육볶음\":\n",
        "    print(\"곱빼기 주세요\")\n",
        "else:\n",
        "    print(\"그냥 주세요\")\n",
        "print(\"종료\")"
      ],
      "metadata": {
        "id": "PJ4q_csRjV0N"
      },
      "execution_count": null,
      "outputs": []
    },
    {
      "cell_type": "code",
      "source": [
        "set_lunch = set([\"된장찌개\",\"피자\",\"제육볶음\",\"짜장면\"])\n",
        "item = \"짜장면\"\n",
        "set_lunch = set_lunch - set([item])\n",
        "print(set_lunch)"
      ],
      "metadata": {
        "id": "U83f4w9_mhhm"
      },
      "execution_count": null,
      "outputs": []
    },
    {
      "cell_type": "code",
      "source": [
        "import random\n",
        "import time\n",
        "\n",
        "lunch = [\"된장찌개\",\"피자\",\"제육볶음\",\"짜장면\"]\n",
        "while True:\n",
        "    print(lunch)\n",
        "    item = input(\"음식을 추가 해주세요 : \")\n",
        "    if item == \"q\":\n",
        "        break\n",
        "    else: # 추가하기 \n",
        "        lunch.append(item) \n",
        "\n",
        "set_lunch = set(lunch)\n",
        "while True:\n",
        "    print(set_lunch)\n",
        "    item = input(\"음식을 삭제해주세요 : \") \n",
        "    if item == \"q\":\n",
        "        break\n",
        "    else: # 삭제하기\n",
        "        set_lunch = set_lunch - set([item]) # str -> list -> set\n",
        "\n",
        "print(f\"{set_lunch} 중에서 선택합니다.\")\n",
        "\n",
        "for i in range(5, 0, -1):\n",
        "    print(i)\n",
        "    time.sleep(1)\n",
        "\n",
        "print(random.choice(list(set_lunch))) # 최종 메뉴 "
      ],
      "metadata": {
        "id": "tc6K5eOWkxrx"
      },
      "execution_count": null,
      "outputs": []
    },
    {
      "cell_type": "markdown",
      "source": [
        "## 익명 질문 게시판"
      ],
      "metadata": {
        "id": "F_x8p2h4bSJ_"
      }
    },
    {
      "cell_type": "code",
      "source": [
        "def make_dolcelatte():\n",
        "    print(\"1. 얼음을 넣는다.\")\n",
        "    print(\"2. 연유를 30ml 넣는다.\")\n",
        "    print(\"3. 찬 우유를 넣는다.\")\n",
        "    print(\"4. 에스프레소샷을 넣는다.\")\n",
        "\n",
        "def make_blueberry_smoothie():\n",
        "    print(\"1. 블루베리 20g을 넣는다.\")\n",
        "    print(\"2. 우유 300ml를 넣는다.\")\n",
        "    print(\"3. 얼음을 넣는다.\")\n",
        "    print(\"4. 믹서기에 간다.\")\n",
        "\n",
        "def make_simple_latte():\n",
        "    print(\"1. 커피를 넣는다.\")\n",
        "    print(\"2. 우유를 넣는다.\")\n",
        "    print(\"3. 신나게 섞는다.\")"
      ],
      "metadata": {
        "id": "3-XM_dz2b4Qy"
      },
      "execution_count": null,
      "outputs": []
    },
    {
      "cell_type": "code",
      "source": [
        "total_dictionary = {}\n",
        "# 질문(key) : 답변(value)\n",
        "while True:\n",
        "    question = input(\"질문을 입력해주세요 : \")\n",
        "    if question == \"q\":\n",
        "        break\n",
        "    else:\n",
        "        total_dictionary[question] = \"\"\n",
        "\n",
        "for i in total_dictionary:\n",
        "    print(i)\n",
        "    answer = input(\"답변을 입력해주세요 : \")\n",
        "    total_dictionary[i] = answer\n",
        "\n",
        "print(total_dictionary)"
      ],
      "metadata": {
        "id": "HwcR35sSxFZ4"
      },
      "execution_count": null,
      "outputs": []
    },
    {
      "cell_type": "code",
      "source": [
        "total_list = []\n",
        "\n",
        "while True:\n",
        "    question = input(\"질문을 입력해주세요 : \")\n",
        "    if question == \"q\":\n",
        "        break\n",
        "    else:\n",
        "        total_list.append({\"질문\" : question, \"답변\" : \"\"})\n",
        "\n",
        "for i in total_list:\n",
        "    print(i[\"질문\"])\n",
        "    answer = input(\"답변을 입력해주세요 : \")\n",
        "    i[\"답변\"] = answer\n",
        "\n",
        "print(total_list)"
      ],
      "metadata": {
        "id": "zftUgrhAy0zq"
      },
      "execution_count": null,
      "outputs": []
    }
  ]
}