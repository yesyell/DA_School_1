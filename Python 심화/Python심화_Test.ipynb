{
  "nbformat": 4,
  "nbformat_minor": 0,
  "metadata": {
    "colab": {
      "private_outputs": true,
      "provenance": [],
      "authorship_tag": "ABX9TyMvXHlu7SAYC65WCN62+YKs",
      "include_colab_link": true
    },
    "kernelspec": {
      "name": "python3",
      "display_name": "Python 3"
    },
    "language_info": {
      "name": "python"
    }
  },
  "cells": [
    {
      "cell_type": "markdown",
      "metadata": {
        "id": "view-in-github",
        "colab_type": "text"
      },
      "source": [
        "<a href=\"https://colab.research.google.com/github/yesyell/DA_School_1/blob/main/Python%20%EC%8B%AC%ED%99%94/Python%EC%8B%AC%ED%99%94_Test.ipynb\" target=\"_parent\"><img src=\"https://colab.research.google.com/assets/colab-badge.svg\" alt=\"Open In Colab\"/></a>"
      ]
    },
    {
      "cell_type": "markdown",
      "source": [
        "[Python 심화 Test](https://paullabworkspace.notion.site/Python-Test-6f0e1bc554654691aed5bdef2118b7cb#f1163cc3d149420198dcc5617f3d5add)"
      ],
      "metadata": {
        "id": "VNM1IyuGhd3a"
      }
    },
    {
      "cell_type": "markdown",
      "source": [
        "# def func() 함수 "
      ],
      "metadata": {
        "id": "Qq6iOSyMVXK2"
      }
    },
    {
      "cell_type": "code",
      "source": [
        "import math\n",
        "\n",
        "def xdis(x2, x1):\n",
        "    return (x2 - x1)^2\n",
        "\n",
        "def ydis(y2, y1):\n",
        "    return (y2 - y1)^2\n",
        "\n",
        "def distance (a, b):\n",
        "    return math.sqrt(a + b)  # math.sqrt(x) 함수는 x의 제곱근을 반환합니다.\n",
        "\n",
        "def distance_between_point(x1, y1, x2, y2):\n",
        "    \"\"\" 두 점 사이의 거리를 구하는 함수\"\"\"\n",
        "    dx = x1 - x2\n",
        "    dy = y1 - y2\n",
        "    distance = math.sqrt(dx**2 + dy**2) \n",
        "    # math.sqrt(math.pow(dx, 2) + math.pow(dy, 2))\n",
        "    return distance\n",
        "\n",
        "distance_between_point(1,1,2,2)"
      ],
      "metadata": {
        "id": "sVigu0WlYvGa"
      },
      "execution_count": null,
      "outputs": []
    },
    {
      "cell_type": "code",
      "source": [
        "# 거꾸로 뒤집힌 트리를 만드는 프로그램\n",
        "def print_tree(height):\n",
        "    for i in range(height):\n",
        "        print(' '*i, end='')\n",
        "        for j in range(height-i):\n",
        "            print('*', end=' ')\n",
        "        print()\n",
        "\n",
        "# 답안 \n",
        "def print_tree(height):\n",
        "\tfor i in range(height, 0, -1):\n",
        "\t   print(\" \"*(height-i) + \"* \"*(i))\n",
        "\n",
        "print_tree(5)"
      ],
      "metadata": {
        "id": "d9knpRV6ZKNX"
      },
      "execution_count": null,
      "outputs": []
    },
    {
      "cell_type": "code",
      "source": [
        "# 입력받은 문자열에서 모음과 자음의 개수를 count 해서 갯수만 반환하는 사용자 정의함수\n",
        "def count_vowels_and_consonants(word):\n",
        "    count_v = 0\n",
        "    count_c = 0\n",
        "    for letter in word:\n",
        "        if letter in \"aeiouAEIOU\":\n",
        "            count_v += 1\n",
        "        else: \n",
        "            count_c += 1\n",
        "\n",
        "    return count_v, count_c\n",
        "\n",
        "# 답안 \n",
        "def count_vowels_and_consonants(word):\n",
        "    vowels = ['a', 'e', 'i', 'o', 'u']\n",
        "    vowel_count = 0\n",
        "    consonant_count = 0\n",
        "    for letter in word:\n",
        "        if letter.lower() in vowels:\n",
        "            vowel_count += 1\n",
        "        elif letter.isalpha():\n",
        "            consonant_count += 1\n",
        "    return vowel_count, consonant_count\n",
        "\n",
        "count_vowels_and_consonants('Hello, World!')"
      ],
      "metadata": {
        "id": "t6NeP8ivZjWw"
      },
      "execution_count": null,
      "outputs": []
    },
    {
      "cell_type": "code",
      "source": [
        "# 입력된 가격(price)에 대해 세금(tax_rate)과 배송비(shipping)를 고려하여 총 가격을 계산하는 함수\n",
        "def calculate_sales_tax(price, tax_rate=0.05, shipping=5):\n",
        "    tax_amount = price * tax_rate\n",
        "    total_price = price + tax_amount + shipping\n",
        "    return total_price\n",
        "\n",
        "# 입력된 가격(price)에 대해 할인율(discount_rate)을 적용하여 할인된 가격을 계산하는 함수\n",
        "def apply_discount(price, discount_rate):\n",
        "    discount_amount = price * discount_rate\n",
        "    discounted_price = price - discount_amount\n",
        "    return discounted_price\n",
        "\n",
        "# 입력된 가격(price)에 대해 세금, 배송비, 할인율을 고려하여 최종 가격을 계산하는 함수\n",
        "def final_price(price, tax_rate=0.05, shipping=5, discount_rate=0):\n",
        "    total_price = calculate_sales_tax(price, tax_rate, shipping)\n",
        "    discounted_price = apply_discount(total_price, discount_rate)\n",
        "    return discounted_price"
      ],
      "metadata": {
        "id": "b1k8aPZ4cj2A"
      },
      "execution_count": null,
      "outputs": []
    },
    {
      "cell_type": "markdown",
      "source": [
        "# 클래스"
      ],
      "metadata": {
        "id": "A4SpPH-Wd92m"
      }
    },
    {
      "cell_type": "code",
      "source": [
        "import math\n",
        "\n",
        "class Point2D:\n",
        "    def __init__(self, x, y):\n",
        "        self.x = x\n",
        "        self.y = y\n",
        "\n",
        "    def distance_between_point(x1, y1, x2, y2):\n",
        "        dx = x1 - x2\n",
        "        dy = y1 - y2\n",
        "        distance = math.sqrt(dx**2 + dy**2) \n",
        "        return distance\n",
        "\n",
        "p1 = Point2D(30, 20)\n",
        "p2 = Point2D(60, 50)\n",
        "\n",
        "# 2차원 평면에서 위치를 표현하기\n",
        "print(f'p1: {p1.x, p1.y}')  \n",
        "print(f'p2: {p2.x, p2.y}')\n",
        "\n",
        "distance = Point2D.distance_between_point(p1.x, p1.y, p2.x, p2.y)\n",
        "print(distance)"
      ],
      "metadata": {
        "id": "yv2SqGQ4e3Wt"
      },
      "execution_count": null,
      "outputs": []
    },
    {
      "cell_type": "code",
      "source": [
        "class Musician:\n",
        "    def __init__(self, name):\n",
        "        self.name = name\n",
        "\n",
        "    def explanation(self):\n",
        "        print(f\"I am a {self.name}!\")\n",
        "\n",
        "drummer = Musician('Rockstar')\n",
        "drummer.explanation()"
      ],
      "metadata": {
        "id": "Hu8wmbIcfsM1"
      },
      "execution_count": null,
      "outputs": []
    },
    {
      "cell_type": "code",
      "source": [
        "class Member:\n",
        "    def __init__(self, name, address, email, student_number, major):\n",
        "        self.name = name\n",
        "        self.address = address\n",
        "        self.email = email\n",
        "        self.student_number = student_number\n",
        "        self.major = major\n",
        "        self.info_list = [self.name, self.address, self.email, \n",
        "                          self.student_number, self.major]\n",
        "        \n",
        "    def print_info(self):\n",
        "        print(self.info_list)\n",
        "\n",
        "student_list = Member(\"Jiyoung Song\", \"Seoul\", \"-\", \"-\", \"Bioinformatics\")\n",
        "student_list.print_info()"
      ],
      "metadata": {
        "id": "hHMUK-YlfsuV"
      },
      "execution_count": null,
      "outputs": []
    },
    {
      "cell_type": "markdown",
      "source": [
        "# 정규 표현식"
      ],
      "metadata": {
        "id": "BfAYmeibgLFC"
      }
    },
    {
      "cell_type": "code",
      "source": [
        "import re\n",
        "\n",
        "text = '미팅 일정: 2022년 5월 10일 오전 10:30-11:30'\n",
        "\n",
        "date_pattern = r'\\d+년\\s*\\d+월\\s*\\d+일'\n",
        "time_pattern = r'\\d+:\\d+'\n",
        "\n",
        "date = re.findall(date_pattern, text)\n",
        "time = re.findall(time_pattern, text)\n",
        "\n",
        "print(date)\n",
        "print(time[0]) # 10:30, 11:30 2개의 시간이 time패턴에서 찾게됩니다.\n",
        "# first_time = time[0] 으로 선택해서 사용해도 됩니다."
      ],
      "metadata": {
        "id": "7aXgPuo8gNYC"
      },
      "execution_count": null,
      "outputs": []
    },
    {
      "cell_type": "code",
      "source": [
        "import re\n",
        "\n",
        "text = 'Hello, Our Da website is https://likelion-aischool.notion.site/TECHIT-1-5861aa36c9844295a5fd1d5ba8c6ca02. Please visit here for more information!'\n",
        "\n",
        "url_pattern = r'https?://(?:[-\\w.]|(?:%[\\da-fA-F]{2}))+\\S*'\n",
        "\n",
        "find_result = re.findall(url_pattern, text)\n",
        "print(find_result)"
      ],
      "metadata": {
        "id": "VCmDVGpsguNZ"
      },
      "execution_count": null,
      "outputs": []
    },
    {
      "cell_type": "markdown",
      "source": [
        "- `https?://`: \"http://\" 또는 \"https://\"로 시작하는 URL을 나타냅니다. \"?\"는 \"s\"가 0 또는 1회 등장할 수 있음을 의미합니다.\n",
        "- `(?:[-\\w.]|(?:%[\\da-fA-F]{2}))+`: 이 부분은 도메인 이름을 나타냅니다. `[-\\w.]`는 알파벳, 숫자, 하이픈(-), 밑줄(_) 그리고 마침표(.)를 포함한 문자들을 나타냅니다. `(?:%[\\da-fA-F]{2})`는 \"%xx\" 형태의 URL 인코딩 문자를 의미합니다. 즉, 퍼센트 기호(%) 뒤에 16진수로 표현된 두 개의 문자가 올 수 있습니다. 이 부분은 일부 특수 문자가 URL에 인코딩된 경우를 처리하기 위해 사용됩니다.\n",
        "- `\\S*`: URL 끝을 나타냅니다. `\\S`는 공백이 아닌 모든 문자를 의미하며, *는 해당 패턴이 0회 이상 반복될 수 있음을 의미합니다.\n",
        "\n",
        "[퍼센트 인코딩](https://ko.wikipedia.org/wiki/%ED%8D%BC%EC%84%BC%ED%8A%B8_%EC%9D%B8%EC%BD%94%EB%94%A9)"
      ],
      "metadata": {
        "id": "89UKqtRdhFUy"
      }
    }
  ]
}