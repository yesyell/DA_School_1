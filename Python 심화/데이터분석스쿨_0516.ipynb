{
  "nbformat": 4,
  "nbformat_minor": 0,
  "metadata": {
    "colab": {
      "private_outputs": true,
      "provenance": [],
      "authorship_tag": "ABX9TyMi8IbTdyEMlh4rV6fZUALQ",
      "include_colab_link": true
    },
    "kernelspec": {
      "name": "python3",
      "display_name": "Python 3"
    },
    "language_info": {
      "name": "python"
    }
  },
  "cells": [
    {
      "cell_type": "markdown",
      "metadata": {
        "id": "view-in-github",
        "colab_type": "text"
      },
      "source": [
        "<a href=\"https://colab.research.google.com/github/yesyell/DA_School_1/blob/main/Python%20%EC%8B%AC%ED%99%94/%EB%8D%B0%EC%9D%B4%ED%84%B0%EB%B6%84%EC%84%9D%EC%8A%A4%EC%BF%A8_0516.ipynb\" target=\"_parent\"><img src=\"https://colab.research.google.com/assets/colab-badge.svg\" alt=\"Open In Colab\"/></a>"
      ]
    },
    {
      "cell_type": "markdown",
      "source": [
        "# 클래스\n",
        "\n",
        "- 우리의 모든 것을 객체화 시킬수 있음\n",
        "- 코드 재사용(개선, 사용, 유지보수가 용이) - 경제적이고, 역량 최소화"
      ],
      "metadata": {
        "id": "QYO-3-FuK-5i"
      }
    },
    {
      "cell_type": "code",
      "source": [
        "# 예제 1 - 틀을 만들자!\n",
        "class Dog:\n",
        "    # 클래스 변수\n",
        "    species = 'firstdog'\n",
        "    # 초기화/인스턴스 속성\n",
        "    def __init__(self, name, age):\n",
        "        self.name = name\n",
        "        self.age = age\n",
        "# 클래스 정보\n",
        "print(Dog) \n",
        "\n",
        "# 인스턴스화 - 설계화가 된것 생성\n",
        "a = Dog(\"mikky\", 2)\n",
        "b = Dog(\"baby\", 3)\n",
        "\n",
        "# 클래스 변수 - 직접 접근 가능\n",
        "# 인스턴스 변수 - 객체마다 별도 존재\n",
        "# 인스턴스 속성 확인\n",
        "print(f'{a.name} is {a.age} and {b.name} is {b.age}')\n",
        "\n",
        "# 클래스 변수 - 직접 접근 가능\n",
        "if a.species == \"firstdog\":\n",
        "    print(f'{a.name} is a {a.species}')\n",
        "\n",
        "# 이런 형태로도 접근 가능하다. 클래스로도 접근 / 인스턴스화로도 접근가능\n",
        "print(Dog.species)\n",
        "print(a.species)\n",
        "print(b.species)\n",
        "\n",
        "# 나만의 공간, 나만의 속성, 공유하는 공간, 공유하는 속성에 대해 이해가 되었기를.."
      ],
      "metadata": {
        "id": "b9EZFGm5LFpJ"
      },
      "execution_count": null,
      "outputs": []
    },
    {
      "cell_type": "code",
      "source": [
        "# 예제 2 - 클래스 변수, 인스턴스 변수\n",
        "class Warehouse:\n",
        "    # 클래스 변수\n",
        "    stock_num = 0 # 재고\n",
        "    # 클래스가 실행되면 자동으로 실행\n",
        "    def __init__(self, name): # 추가\n",
        "        # 인스턴스 변수 \n",
        "        self.name = name\n",
        "        Warehouse.stock_num += 1\n",
        "\n",
        "    def __del__(self): # 소멸\n",
        "        Warehouse.stock_num -= 1\n",
        "\n",
        "user1 = Warehouse('Lee')\n",
        "user2 = Warehouse('Kim')\n",
        "print(Warehouse.stock_num)\n",
        "\n",
        "del user1\n",
        "print(Warehouse.stock_num)"
      ],
      "metadata": {
        "id": "XRVgUN1FMh4r"
      },
      "execution_count": null,
      "outputs": []
    },
    {
      "cell_type": "code",
      "source": [
        "# 예제 3 - return의 사용과 self가 아닌 변수\n",
        "class Dog:\n",
        "    species = 'firstdog'\n",
        "    \n",
        "    def __init__(self, name, age):\n",
        "        self.name = name\n",
        "        self.age = age\n",
        "\n",
        "    def info(self):\n",
        "        return f'{self.name}은 {self.age}살 이에요'\n",
        "\n",
        "    def speak(self, sound):\n",
        "        return f\"{self.name}은 {sound} 소리를 내요\" # self 없이 입력값으로 받아옴 \n",
        "\n",
        "# 인스턴스 생성\n",
        "c = Dog('July', 4)\n",
        "d = Dog('Dorri', 10)\n",
        "\n",
        "# 메서드 호출\n",
        "print(c.info())\n",
        "print(d.info())\n",
        "print(c.speak('왈왈'))\n",
        "print(d.speak('멍멍'))"
      ],
      "metadata": {
        "id": "o9iu7Z28OGK1"
      },
      "execution_count": null,
      "outputs": []
    },
    {
      "cell_type": "code",
      "source": [
        "# 예제 4 - 추가적인 정보\n",
        "class FishCakeMaker:\n",
        "    def __init__(self, param): # 클래스가 최초 생성될때 호출됨\n",
        "        pass # self는 FishCakeMaker에 속한 것\n",
        "\n",
        "    def show_name(self): # 만약 self가 없으면 파이썬은 구별할 수 없음\n",
        "        print('A')\n",
        "\n",
        "# 이러한 구문이 있을 경우\n",
        "def show_name():\n",
        "    print('A')\n",
        "# 바깥의 함수와 안에 있는 클래스 안에 메서드를 구별하기 힘들기 때문에 \n",
        "# 꼭 self를 붙여야 FishCakeMaker안에 있는 \n",
        "# show_name()이라는 것을 인식한다.\n",
        "\n",
        "fish = FishCakeMaker(\"붕어빵\") # 이렇게 선언한 순간에 생성자 __init__이 실행\n",
        "\n",
        "fish.show_name()\n",
        "show_name()"
      ],
      "metadata": {
        "id": "Doo-veeaUDN6"
      },
      "execution_count": null,
      "outputs": []
    },
    {
      "cell_type": "code",
      "source": [
        "class FishCakeMaker:\n",
        "    def __init__(self, **kwargs):\n",
        "        self.size = 10\n",
        "        self.flavor = \"팥\"\n",
        "        self.price = 1000\n",
        "        if \"size\" in kwargs:\n",
        "            self.size = kwargs.get(\"size\")\n",
        "        if \"flavor\" in kwargs:\n",
        "            self.flavor = kwargs.get(\"flavor\")\n",
        "        if \"price\" in kwargs:\n",
        "            self.price = kwargs.get(\"price\")\n",
        "\n",
        "    def show(self):\n",
        "        print(f\"붕어빵 종류 {self.flavor}\")\n",
        "        print(f\"붕어빵 크기 {self.size}\")\n",
        "        print(f\"붕어빵 가격 {self.price}\")\n",
        "\n",
        "fish1 = FishCakeMaker()\n",
        "fish2 = FishCakeMaker(size = 20, price = 2000)\n",
        "fish3 = FishCakeMaker(size = 20, price = 3000, flavor = \"피자\")\n",
        "\n",
        "fish1.show()\n",
        "fish2.show()\n",
        "fish3.show() "
      ],
      "metadata": {
        "id": "8Gy9aLlHUFqn"
      },
      "execution_count": null,
      "outputs": []
    },
    {
      "cell_type": "code",
      "source": [
        "# 함수와 클래스의 차이점\n",
        "def add(num1, num2):\n",
        "    return num1 + num2\n",
        "\n",
        "def subtract(num1, num2):\n",
        "    return num1 - num2\n",
        "\n",
        "def multiply(num1, num2):\n",
        "    return num1 * num2\n",
        "\n",
        "def divide(num1, num2):\n",
        "    if num2 != 0:\n",
        "        return num1 / num2\n",
        "    else:\n",
        "        print(\"0으로 나눌 수 없습니다.\")\n",
        "\n",
        "# 사용자로부터 두 개의 숫자 입력 받기\n",
        "number1 = float(input(\"첫 번째 숫자를 입력하세요: \"))\n",
        "number2 = float(input(\"두 번째 숫자를 입력하세요: \"))\n",
        "\n",
        "# 덧셈\n",
        "result = add(number1, number2)\n",
        "print(\"덧셈 결과:\", result)\n",
        "\n",
        "# 뺄셈\n",
        "result = subtract(number1, number2)\n",
        "print(\"뺄셈 결과:\", result)\n",
        "\n",
        "# 곱셈\n",
        "result = multiply(number1, number2)\n",
        "print(\"곱셈 결과:\", result)\n",
        "\n",
        "# 나눗셈\n",
        "divide(number1, number2)"
      ],
      "metadata": {
        "id": "RftrZxiLUGLq"
      },
      "execution_count": null,
      "outputs": []
    },
    {
      "cell_type": "code",
      "source": [
        "class Operation:\n",
        "    def __init__(self, num1, num2):\n",
        "        self.num1 = num1\n",
        "        self.num2 = num2\n",
        "\n",
        "    def add(self):\n",
        "        return self.num1 + self.num2\n",
        "\n",
        "    def subtract(self):\n",
        "        return self.num1 - self.num2\n",
        "\n",
        "    def multiply(self):\n",
        "        return self.num1 * self.num2\n",
        "\n",
        "    def divide(self):\n",
        "        if self.num2 != 0:\n",
        "            return self.num1 / self.num2\n",
        "        else:\n",
        "            print(\"0으로 나눌 수 없습니다.\")\n",
        "\n",
        "# 사용자로부터 두 개의 숫자 입력 받기\n",
        "number1 = float(input(\"첫 번째 숫자를 입력하세요: \"))\n",
        "number2 = float(input(\"두 번째 숫자를 입력하세요: \"))\n",
        "\n",
        "# Operation 클래스의 인스턴스 생성\n",
        "operation = Operation(number1, number2)\n",
        "\n",
        "# 덧셈 결과 출력\n",
        "add_result = operation.add()\n",
        "print(\"덧셈 결과:\", add_result)\n",
        "\n",
        "# 뺄셈 결과 출력\n",
        "subtract_result = operation.subtract()\n",
        "print(\"뺄셈 결과:\", subtract_result)\n",
        "\n",
        "# 곱셈 결과 출력\n",
        "multiply_result = operation.multiply()\n",
        "print(\"곱셈 결과:\", multiply_result)\n",
        "\n",
        "# 나눗셈 결과 출력\n",
        "operation.divide()"
      ],
      "metadata": {
        "id": "cmhjmm6vUu34"
      },
      "execution_count": null,
      "outputs": []
    },
    {
      "cell_type": "markdown",
      "source": [
        "## 메서드\n",
        "메서드는 클래스 내부에 정의한 함수로, 클래스 안에 여러개를 만들수 있음\n",
        "* 메서드가 일반 함수와 다른점은 전달값 부분에 첫번째로 `self`를 넣는다는 점\n",
        "* 메서드 안에서 `self.`로 인스턴스 변수에 접근할 수 있음"
      ],
      "metadata": {
        "id": "JMKtOdY8WqvK"
      }
    },
    {
      "cell_type": "code",
      "source": [
        "class pokamon_select_update:\n",
        "    def __init__(self, name, hp, damage):\n",
        "        self.name = name\n",
        "        self.hp = hp\n",
        "        self.damage = damage\n",
        "\n",
        "    def attack(self, who):\n",
        "        print(who, \"를 공격합니다.\", self.damage, \"만큼 데미지를 입혔습니다.\") \n",
        "        # self에 영향을 받는게 있으면 self를 사용하고, 변수명에도 self를 적용시킨다.\n",
        "\n",
        "pokamon_1 = pokamon_select_update(\"피카츄\", 40, 5) # 피카츄만의 인스턴스 변수 정의\n",
        "pokamon_1.attack(\"파이리\")\n",
        "# 파이리 를 공격합니다. 5 만큼 데미지를 입혔습니다."
      ],
      "metadata": {
        "id": "yLfslQGXW2eO"
      },
      "execution_count": null,
      "outputs": []
    },
    {
      "cell_type": "markdown",
      "source": [
        "### 정적 메서드\n",
        "- 메서드 위에 `@staticmethod` 을 붙이고, 매개변수에 `self`를 지정하지 않는다.\n",
        "- @는 데코레이터 -> 설명 필요"
      ],
      "metadata": {
        "id": "p5d8mqoOXx6_"
      }
    },
    {
      "cell_type": "code",
      "source": [
        "class Calc:\n",
        "    @staticmethod\n",
        "    def add(a, b):\n",
        "        print(a + b)\n",
        " \n",
        "    @staticmethod\n",
        "    def mul(a, b):\n",
        "        print(a * b)\n",
        "\n",
        "# 클래스에서 바로 메서드 호출\n",
        "Calc.add(10, 20) \n",
        "Calc.mul(10, 20)  \n",
        "\n",
        "# 정적 메서드는 self를 받지 않으므로 인스턴스 속성에는 접근할 수 없음"
      ],
      "metadata": {
        "id": "GLANol1OU5Tk"
      },
      "execution_count": null,
      "outputs": []
    },
    {
      "cell_type": "markdown",
      "source": [
        "### 클래스 메서드\n",
        "- 메서드 위에 `@classmethod`를 붙이고, 매개변수에 `self`를 지정하지 않는다.\n",
        "- `cls` 지정 -> cls는 class에서 따옴"
      ],
      "metadata": {
        "id": "2pyMDQKgXzgj"
      }
    },
    {
      "cell_type": "code",
      "source": [
        "class Person:\n",
        "    count = 0  # 클래스 속성\n",
        "\n",
        "    def __init__(self): # 인스턴스가 만들어질 때\n",
        "        Person.count += 1  # 클래스 속성 count에 1을 더함\n",
        "\n",
        "    @classmethod\n",
        "    def print_count(cls):\n",
        "        print(f'{cls.count}명 생성되었습니다.')  # cls로 클래스 속성에 접근\n",
        "\n",
        "    @classmethod\n",
        "    def create(cls):\n",
        "        p = cls()    # cls()로 인스턴스 생성\n",
        "        return p\n",
        "\n",
        "james = Person()\n",
        "maria = Person()\n",
        "Person.print_count()  \n",
        "# 2명 생성되었습니다.\n",
        "\n",
        "Person.create()  # cls()로 p라는 인스턴스 생성 -> 현재 Person 클래스를 불러옴\n",
        "Person.print_count()    \n",
        "# 3명 생성되었습니다."
      ],
      "metadata": {
        "id": "8SuWmOZaXxRU"
      },
      "execution_count": null,
      "outputs": []
    },
    {
      "cell_type": "markdown",
      "source": [
        "`cls`가 사용되는 순간 현재 class의 클래스 속성에 count에 접근할 수 있음\n",
        "\n",
        "클래스 메서드는 메서드 안에서 **클래스 속성이나 클래스 메서드에 접근할때** 사용됨\n",
        "\n",
        "`cls`는 가장 중요한 부분인데 메서드 안에서 현재 클래스의 인스턴스를 만들 수도 있음\n",
        "\n",
        "[정적(static) 메서드와 클래스(class) 메서드](https://www.daleseo.com/python-class-methods-vs-static-methods/#%EC%9D%B8%EC%8A%A4%ED%84%B4%EC%8A%A4instance-%EB%A9%94%EC%84%9C%EB%93%9C)"
      ],
      "metadata": {
        "id": "vbg_HfePY8eG"
      }
    },
    {
      "cell_type": "markdown",
      "source": [
        "\n",
        "\n",
        "---\n",
        "\n",
        "\n",
        "**[비공개 속성 - private attribute]**\n",
        "\n",
        "클래스 바깥에서는 접근할 수 없고 **클래스 내에서만 사용**하는 속성으로\n",
        "고객이 중요하게 생각하는 정보\n",
        "\n",
        "- 속성이름 앞에 `__속성명` 으로 사용"
      ],
      "metadata": {
        "id": "AAMV3yOTZ_wn"
      }
    },
    {
      "cell_type": "code",
      "source": [
        "class Person:\n",
        "    def __init__(self, name, age, address, wallet):\n",
        "        self.name = name\n",
        "        self.age = age\n",
        "        self.address = address\n",
        "        self.__wallet = wallet    # 변수 앞에 __를 붙여서 비공개 속성으로 만듦\n",
        " \n",
        "    def pay(self, amount):\n",
        "        self.__wallet -= amount   # 비공개 속성은 클래스 안의 메서드에서만 접근할 수 있음\n",
        "        print(amount, '원을 출금하여', self.__wallet, '원 남았네요.')\n",
        " \n",
        "maria = Person('마리아', 20, '서울시 서초구 반포동', 10000)\n",
        "maria.pay(3000)"
      ],
      "metadata": {
        "id": "hYqb-lRkah_j"
      },
      "execution_count": null,
      "outputs": []
    },
    {
      "cell_type": "code",
      "source": [
        "# 일반 속성은 제대로 불러와짐\n",
        "maria.name\n",
        "\n",
        "# 비공개 속성은 불러올수가 없음\n",
        "# maria.__wallet\n",
        "# maria.wallet"
      ],
      "metadata": {
        "id": "2COGA6nQa8bW"
      },
      "execution_count": null,
      "outputs": []
    },
    {
      "cell_type": "code",
      "source": [
        "#(참고) 속성뿐만 아니라 메서드도 이름이 __로 시작되면 바깥에서 호출이 불가\n",
        "class Person:\n",
        "    def __greeting(self):\n",
        "        print('Hello')\n",
        " \n",
        "    def hello(self):\n",
        "        self.__greeting()    # 클래스 안에서는 비공개 메서드를 호출할 수 있음\n",
        " \n",
        "james = Person()\n",
        "# james.__greeting()    # 에러: 클래스 바깥에서는 비공개 메서드를 호출할 수 없음"
      ],
      "metadata": {
        "id": "j1pZGDoKbjZZ"
      },
      "execution_count": null,
      "outputs": []
    },
    {
      "cell_type": "code",
      "source": [
        "# private attribute 출력하기 \n",
        "class MyClass:\n",
        "    def __init__(self):\n",
        "        self.public_attr = \"public attribute\"\n",
        "        self.__private_attr = \"private attribute\"\n",
        "        \n",
        "obj = MyClass()\n",
        "print(obj.__dict__)"
      ],
      "metadata": {
        "id": "_qxyJoyY1fln"
      },
      "execution_count": null,
      "outputs": []
    },
    {
      "cell_type": "markdown",
      "source": [
        "[어떤 클래스의 인스턴스 인가?]\n",
        "\n",
        "일단 객체(인스턴스)가 어떤 클래스로 부터 만들어졌는지 확인할 수 있게 `isinstance(인스턴스, 클래스)`함수를 제공합니다. \n",
        "\n",
        "인스턴스가 해당 클래스를 기반으로 만들어졌으면 True / 전혀 상관이 없으면 False를 리턴"
      ],
      "metadata": {
        "id": "jOlzl4gKbng1"
      }
    },
    {
      "cell_type": "code",
      "source": [
        "# Student 클래스 선언\n",
        "class Student:\n",
        "    def __init__(self):\n",
        "        pass\n",
        "\n",
        "# Student 선언\n",
        "student = Student()\n",
        "\n",
        "# 인스턴스 확인하기\n",
        "# isinstance(인스턴스, 클래스)\n",
        "print(f\"{isinstance(student, Student)} 입니다.\")"
      ],
      "metadata": {
        "id": "6HEHDZO7cCVn"
      },
      "execution_count": null,
      "outputs": []
    },
    {
      "cell_type": "code",
      "source": [
        "# 연습문제 01\n",
        "\n",
        "class SoccerPlayer:\n",
        "    def __init__(self, name, position, back_number):\n",
        "        self.name = name\n",
        "        self.position = position\n",
        "        self.back_number = back_number\n",
        "\n",
        "    def change_back_number(self, back_number):\n",
        "        self.back_number = back_number\n",
        "    \n",
        "    def __str__(self):\n",
        "        return f\"현재 선수의 등번호는 {self.back_number} 입니다.\"\n",
        "\n",
        "player1 = SoccerPlayer(\"KangInLee\", \"MF\", \"7\")\n",
        "print(player1)\n",
        "\n",
        "player1.change_back_number(5)\n",
        "print(player1)"
      ],
      "metadata": {
        "id": "lH_g6sHrw1Ha"
      },
      "execution_count": null,
      "outputs": []
    },
    {
      "cell_type": "code",
      "source": [
        "# 연습문제 02\n",
        "\n",
        "class house_password():\n",
        "    def __init__(self):\n",
        "        self.password = 9999\n",
        "\n",
        "    def set_password(self, new_password):\n",
        "        self.password = new_password\n",
        "        print(\"패스워드가 변경되었습니다.\")\n",
        "\n",
        "    def get_password(self):\n",
        "        print(f\"현재 패스워드는 {self.password}입니다.\")\n",
        "        # password, self.__password 이면 에러\n",
        "\n",
        "my_house = house_password()\n",
        "my_house.get_password() \n",
        "my_house.set_password(1234)\n",
        "print(my_house.password)"
      ],
      "metadata": {
        "id": "Uhb1HzDYyO_Y"
      },
      "execution_count": null,
      "outputs": []
    },
    {
      "cell_type": "code",
      "source": [
        "# 연습문제 03\n",
        "\n",
        "class Terran(object):\n",
        "    def __init__(self, mineral):\n",
        "        self.scv = 4\n",
        "        self.marine = 0\n",
        "        self.medic = 0\n",
        "        self.mineral = mineral\n",
        "\n",
        "    def command(self, SCV=False):\n",
        "        self.mineral += 8*self.scv\n",
        "        if SCV:\n",
        "            self.scv += 1\n",
        "            self.mineral -= 10\n",
        "\n",
        "    def barrack(self, Marine=False, Medic =False):\n",
        "        self.mineral += 8 * self.scv\n",
        "\n",
        "        if Medic:\n",
        "            self.medic += 1\n",
        "            self.mineral -= 25\n",
        "        \n",
        "        if Marine:\n",
        "            self.marine += 1\n",
        "            self.mineral -= 15\n",
        "\n",
        "    def check_source(self):\n",
        "        print(f\"Mineral이 {self.mineral}만큼 있습니다.\")\n",
        "\n",
        "SlayerS_BoxeR = Terran(50)\n",
        "SlayerS_BoxeR.command(True)         # 72\n",
        "SlayerS_BoxeR.barrack(True, True)   # 72\n",
        "SlayerS_BoxeR.check_source()\n",
        "# (50 + 4*8 - 10) + 5*8 - 25 - 15 = 72"
      ],
      "metadata": {
        "id": "isxoEtTX12ov"
      },
      "execution_count": null,
      "outputs": []
    },
    {
      "cell_type": "markdown",
      "source": [
        "[클래스 실습](https://happydata1510.notion.site/happydata1510/1-919ee0a819c9435db129598e6c72c746)"
      ],
      "metadata": {
        "id": "qpP1Ykw28yXo"
      }
    },
    {
      "cell_type": "code",
      "source": [
        "class pokemon_select:\n",
        "    def __init__(self, name, hp, attack, defense, s_attack, s_defense, speed):\n",
        "        # 메서드에 정의한 변수는 인스턴스 변수\n",
        "        self.name = name \n",
        "        self.hp = hp\n",
        "        self.defense = defense\n",
        "        self.s_attack = s_attack\n",
        "        self.s_defense = s_defense\n",
        "        self.speed = speed\n",
        "        print(f\"{self.name}을 생성했습니다.\")\n",
        "        print(f\"체력은 {self.hp}, 공격력은 {self.defense}, 방어력은 {self.defense}, \\\n",
        "특수공격은 {self.s_attack}, 특수방어는 {self.s_defense}, 민첩성은 {self.speed}입니다.\\n\")\n",
        "        \n",
        "    def attacked(self, name, attack_basic, attack):\n",
        "        print(f'{self.name}이(가) {attack_basic}을 했습니다. \\\n",
        "데미지는 {self.s_attack} 만큼 피해를 주었습니다.\\n' )\n",
        "\n",
        "    def damaged(self, damage):\n",
        "        print(f\"{self.name}가 {damage}만큼 피해를 입었습니다.\\n\")\n",
        "        self.hp -= damage\n",
        "        # 남은 체력 출력\n",
        "        print(f\"현재 {self.name}의 체력은 {self.hp}이(가) 남았습니다.\\n\")\n",
        "        if self.hp <= 0:\n",
        "            print(f\"{self.name}의 체력이 0이 되었습니다. 게임을 다시 시작해주세요.\")\n",
        "\n",
        "# 기본 생성 \n",
        "pikachu_025 = pokemon_select(\"피카츄\", 35, 55, 40, 50, 50, 90)\n",
        "# charmander_004 = pokemon_select(\"파이리\", 35, 52, 43, 60, 50, 65)\n",
        "# squirtle_007 = pokemon_select(\"꼬부기\", 44, 48, 65, 50, 64, 43)\n",
        "\n",
        "# 상대방의 방어력은 아직 반영 안함\n",
        "pikachu_025.attacked(pikachu_025.name, \"기본공격\", pikachu_025.s_attack)\n",
        "\n",
        "# 상대방의 공격력은 아직 반영 안함\n",
        "pikachu_025.damaged(30)\n",
        "\n",
        "# 다시 상대편 차례라 공격\n",
        "pikachu_025.damaged(5)"
      ],
      "metadata": {
        "id": "5JU6a4F28Ycj"
      },
      "execution_count": null,
      "outputs": []
    },
    {
      "cell_type": "code",
      "source": [
        "# 생성된 피카츄의 능력치 데이터에 접근 및 레벨업 추가!!\n",
        "pikachu_025.level_up = True\n",
        "\n",
        "# 위의 문장을 좀 더 게임처럼 만들면 어떻게 할까요?\n",
        "if pikachu_025.level_up == True:\n",
        "    level_up_check = input(\"피카츄는 라이츄로 진화할수 있습니다. 레벨업을 하시겠습니까?\")\n",
        "    if level_up_check == \"예\":\n",
        "        print(\"라이츄로 진화했습니다.\")\n",
        "    else:\n",
        "        print(\"아직 피카츄가 좋아! 다음 기회에 진화해주세요\") \n",
        "\n",
        "# 하지만 이 기능은 피카츄에게만 단독으로 부여된거라 다른 포켓몬은 활용할 수 없어요"
      ],
      "metadata": {
        "id": "H3vzfK7N9dC5"
      },
      "execution_count": null,
      "outputs": []
    },
    {
      "cell_type": "code",
      "source": [
        "'''\n",
        "[차량 등록기 클래스 생성]\n",
        "1. 총 주차 가능 대수인 capacity는 객체를 생성할때 전달받아 인스턴스 변수로 정의\n",
        "2. 현재 등록된 차량을 관리하는 count는 객체를 생성하여 0으로 정의\n",
        "3. 객체를 생성할때 등록 가능한 대수 출력\n",
        "4. 차를 신규 등록하는 register()메서드 생성\n",
        "5. 신규 등록시 등록 현황을 출력\n",
        "6. 총 주차가능대수가 초과할 경우 “등록할 수 없습니다.” 메세지 출력\n",
        "'''\n",
        "class ParkingManager:\n",
        "    # 주차정보 초기화\n",
        "    count = 0\n",
        "    def __init__(self, capacity):\n",
        "        self.capacity = capacity\n",
        "        # self.count = 0\n",
        "        print(f\"등록 가능한 차량 수: {self.capacity}\")\n",
        "\n",
        "    def register(self):\n",
        "        if self.count < self.capacity:\n",
        "            self.count += 1\n",
        "            print(f\"차량 등록 완료, 현재 {self.count} 대 주차 중입니다.\")\n",
        "        else:\n",
        "            print(\"등록할 수 없습니다.\")\n",
        "\n",
        "manager = ParkingManager(5)\n",
        "for i in range(6):\n",
        "    manager.register()"
      ],
      "metadata": {
        "id": "AkZxteq0A4Eh"
      },
      "execution_count": null,
      "outputs": []
    },
    {
      "cell_type": "code",
      "source": [
        "'''\n",
        "[부동산 프로그램 클래스로 만들기 - 공인중계사용]\n",
        "1. self 생성자로 인스턴스 변수를 정의합니다.\n",
        "2. 매물정보를 표시하는 show_detail에서는 인스턴스 변수를 출력하여 부동산 정보를 표시하게 합니다.\n",
        "3. 네이버 부동산/생각해서 자신이 관심있는 매물 3가지의 정보를 받아 몇가지 매물이 있는지 확인하고, 각 부동산 정보를 출력합니다.\n",
        "'''\n",
        "class House:\n",
        "    # 매출 초기화 : 위치, 건물종류 , 매물종류, 가격, 준공연도\n",
        "    def __init__(self, location, house_type, deal_type, price, completion_year):\n",
        "        self.location = location\n",
        "        self.house_type = house_type\n",
        "        self.deal_type = deal_type\n",
        "        self.price = price\n",
        "        self.completion_year = completion_year\n",
        "\n",
        "    # 매출 정보 표시\n",
        "    def show_detail(self):\n",
        "        print(self.location, self.house_type, self.deal_type, \\\n",
        "              self.price, self.completion_year)\n",
        "\n",
        "houses = []\n",
        "house1 = House(\"강남\", \"아파트\", \"매매\", \"10.5억\", \"2010년\")\n",
        "house2 = House(\"강남\", \"빌라\", \"전세\", \"12.5억\", \"2015년\")\n",
        "house3 = House(\"강남\", \"빌라\", \"전세\", \"12.5억\", \"2015년\")\n",
        "\n",
        "houses.append(house1)\n",
        "houses.append(house2)\n",
        "houses.append(house3)\n",
        "\n",
        "print(f\"총 {len(houses)} 개의 매물이 있습니다.\")\n",
        "for house in houses:\n",
        "    house.show_detail()"
      ],
      "metadata": {
        "id": "iPyqhx5TKGIC"
      },
      "execution_count": null,
      "outputs": []
    },
    {
      "cell_type": "markdown",
      "source": [
        "## 상속"
      ],
      "metadata": {
        "id": "bSM_bEUNKlJA"
      }
    },
    {
      "cell_type": "markdown",
      "source": [
        "상속은 어떤 클래스가 다른 클래스의 성질을 물려받는것.\n",
        "유산을 상속 받는것과 동일하다고 생각하면 됨\n",
        "\n",
        "어떤 클래스를 만들때 처음부터 다른 클래스로 부터 상속받게 만들면 더 쓸만한 클래스를 만들 수 있음\n",
        "\n",
        "* 기능을 물려줌 - **base class(기반 클래스)** - 부모 클래스, 슈퍼클래스\n",
        "* 상속을 받아 새롭게 만듦 - **derived class(파생 클래스)** - 자식 클래스, 서브 클래스\n",
        "\n",
        "[상속을 사용하는 이유]\n",
        "\n",
        "* 결국 기존 기능을 재사용하고, 중복되는 기능을 만들지 않아도 되기 때문"
      ],
      "metadata": {
        "id": "-O53o3ihLoYU"
      }
    },
    {
      "cell_type": "code",
      "source": [
        "# inheritance 상속\n",
        "class Person(object):\n",
        "    pass\n",
        "\n",
        "# class라는 예약어 다음에 클래스명으로 Person을 쓰고, ()안에 object를 입력하였다.\n",
        "# 여기서 object가 바로 부모 클래스이다.\n",
        "# 사실 object는 파이썬에서 사용하는 가장 기본 객체(base object - 기반 객체라고도 함)\n",
        "# 파이썬 언어는 객체지향 프로그래밍을 모든 변수는 객체이다.\n",
        "# 예를 들어 파이썬의 문자열 형 변수에 대해 다음과 같이 객체 이름을 확인할 수 있다.\n",
        "a = 'abc' \n",
        "type(a) # class 'str'\n",
        "\n",
        "# 지금까지 'abc'를 우리는 문자열형 문자열 자료라고 불렀는데, 내부적으로는 객체로 처리된 것이다.\n",
        "# 파이썬의 모든 객체는 object객체를 상속한다."
      ],
      "metadata": {
        "id": "k13V4haPKVth"
      },
      "execution_count": null,
      "outputs": []
    },
    {
      "cell_type": "code",
      "source": [
        "class Person(object): # 기반클래스이름\n",
        "    def __init__(self, name, age):\n",
        "        self.name = name\n",
        "        self.age = age\n",
        "\n",
        "class Korean(Person): # 파생클래스이름(기반클래스이름)\n",
        "    pass\n",
        "\n",
        "first_korean = Korean(\"Dawon\",4)\n",
        "print(first_korean.name)\n",
        "\n",
        "# Korean은 아무런 내용이 없는 클래스인데, Korean(Person)을 사용하게 되면서\n",
        "# Korean은 Person이 가지고 있는 생성자를 그래도 사용할수 있게 된 것"
      ],
      "metadata": {
        "id": "JrxV5QFAMUBW"
      },
      "execution_count": null,
      "outputs": []
    },
    {
      "cell_type": "code",
      "source": [
        "class Person(object): # 부모 클래스 선언\n",
        "    # 초기 메서드\n",
        "    def __init__(self, name, age, gender):\n",
        "        self.name = name\n",
        "        self.age = age\n",
        "        self.gender = gender\n",
        "    # 출력 메서드\n",
        "    def about_me(self): # 메서드 선언\n",
        "        print(f\"안녕하세요 제 이름은 {self.name}이고, 나이는 {self.age}이고, 성별은 {self.gender}입니다.\")\n",
        "\n",
        "class Empolyee(Person):\n",
        "    def __init__(self, name, age, gender, salary, hire_date):\n",
        "        super().__init__(name, age, gender) # 기존 함수를 사용하면서 새로운 내용을 추가\n",
        "        self.salary = salary\n",
        "        self.hire_date = hire_date\n",
        "\n",
        "    def do_work(self):\n",
        "        print(\"근무시간 이에요\")\n",
        "\n",
        "    def about_me(self): # 오버라이딩 \n",
        "        super().about_me()\n",
        "        print(f\"저의 월급은 {self.salary}이고, 제 입사날짜는 {self.hire_date}입니다.\")"
      ],
      "metadata": {
        "id": "FxPjrqJ2NDNa"
      },
      "execution_count": null,
      "outputs": []
    },
    {
      "cell_type": "markdown",
      "source": [
        "`Person` 클래스가 단순히 사람에 대한 정보를 정의했다면 \n",
        "\n",
        "`Employee` 클래스는 사람에 대한 정의를 부모 클래스도 부터 받아서, 입사날짜와 월급에 대한 변수를 추가하였습니다.\n",
        "\n",
        "즉, 부모클래스의 __init__함수를 재정의 했습니다.\n",
        "이때 부모 클래스의 `__init__()` 함수를 그대로 사용하려면 별도의 __init__함수를 만들지 않아도 됩니다.\n",
        "하지만 기존 함수를 사용하면서 새로운 내용을 추가하려면 자식 클래스에 __init__함수를 생성할때 `super().__init__(매개변수)`라고 입력합니다.\n",
        "여기서 super는 부모클래스를 가르키고, 즉, 부모 클래스의 `__init__()` 함수를 그대로 사용한다는 뜻이다.\n",
        "\n",
        "\n",
        "---\n",
        "\n",
        "\n",
        "그리고 그 아래에는 자식 클래스에 필요한 새로운 변수를 추가합니다.\n",
        "이러한 함수의 재정의를 **오버라이딩**이라고 합니다.\n",
        "\n",
        "오버라이딩이란 상속 시 함수 이름과 필요한 매개변수는 그대로 유지되면서 함수의 수행 코드는 변경하는 것이다.\n",
        "\n",
        "같은 방식으로 `about_me()` 함수가 오버라이딩 된 것을 확인할 수 있다.\n",
        "Person과 Employee에 대한 설명을 추가한 것이다.\n",
        "\n",
        "위 코드들은 설명의 용이성을 위해 텍스트 형태의 설명만 추가하였지만 실제로는 프로그램에 사용하기 위한 다양한 기능이 추가될 수 있다.\n",
        "\n",
        "`do_work()`처럼 자식 클래스에만 필요한 새로운 함수를 생성할 수도 있습니다.\n",
        "앞서 설명했듯 자식 클래스는 부모 클래스보다 더 많은 일들을 합니다.\n",
        "따라서 자식 클래스를 설정할때는 부모클래스보다 더 많은 일을 수행할수 있게 코드를 작성해야합니다.\n",
        "\n",
        "이외에도 다양한 상속기능을 지원합니다.\n",
        "1개이상의 클래스 특징을 상속하는, 다중상속의 개념도 있는데 이는 데이터 분석단계에서는 필요하지 않기 때문에 밑에서 예시만 배우고 넘어가기로 합니다."
      ],
      "metadata": {
        "id": "ocQ8Gyg_NytB"
      }
    },
    {
      "cell_type": "code",
      "source": [
        "# 피카츄에서 라이츄로 진화하기\n",
        "class Pikachu:\n",
        "    def skill(self):\n",
        "        print('전기충격')\n",
        " \n",
        "class Lichu(Pikachu):\n",
        "    def new_skill(self):\n",
        "        print('몸통 박치기')\n",
        " \n",
        "Jiwoo = Lichu()\n",
        "Jiwoo.skill()      # 안녕하세요.: 기반 클래스 Person의 메서드 호출\n",
        "Jiwoo.new_skill()  # 공부하기: 파생 클래스 Student에 추가한 study 메서드\n",
        "\n",
        "# 원래 Lichu에는 전기충격이 없지만 Pikachu의 속성을 그대로 가져왔으므로 호출할 수 있었음"
      ],
      "metadata": {
        "id": "dTdZ7TbANze0"
      },
      "execution_count": null,
      "outputs": []
    },
    {
      "cell_type": "code",
      "source": [
        "# 상속 관계 확인\n",
        "issubclass(Lichu, Pikachu) # 순서를 지켜야함 거꾸로 하면 False가 나옴"
      ],
      "metadata": {
        "id": "cvVNs3EVOvXB"
      },
      "execution_count": null,
      "outputs": []
    },
    {
      "cell_type": "markdown",
      "source": [
        "[기반 클래스에 들어있는 인스턴스 속성]\n",
        "\n",
        "다음과 같이 Person 클래스에 hello 속성이 있고, Person 클래스를 상속받아 Student 클래스를 만듭니다. 그다음에 Student로 인스턴스를 만들고 hello 속성에 접근해봅니다."
      ],
      "metadata": {
        "id": "yExqTjjKPThw"
      }
    },
    {
      "cell_type": "code",
      "source": [
        "class Person:\n",
        "    def __init__(self):\n",
        "        print('Person __init__')\n",
        "        self.hello = '안녕하세요.'\n",
        " \n",
        "class Student(Person):\n",
        "    def __init__(self):\n",
        "        # super().__init__()\n",
        "        print('Student __init__')\n",
        "        self.school = '데이터 분석 스쿨 입니다.'\n",
        " \n",
        "james = Student()\n",
        "print(james.school)\n",
        "print(james.hello)  # 기반 클래스의 속성을 출력하려고 하면 에러가 발생함\n",
        "\n",
        "# Person의 __init__메서드가 호출되지 않았기 때문에 \n",
        "# Student의 안녕하세요도 출력되지 않아 속성도 많들어지지 않음"
      ],
      "metadata": {
        "id": "xUkHwlVyPTSl"
      },
      "execution_count": null,
      "outputs": []
    },
    {
      "cell_type": "code",
      "source": [
        "# super()를 활용하여 __init__ 메서드 호출\n",
        "class Person:\n",
        "    def __init__(self):\n",
        "        print('Person __init__')\n",
        "        self.hello = '안녕하세요.'\n",
        " \n",
        "class Student(Person):\n",
        "    def __init__(self):\n",
        "        print('Student __init__')\n",
        "        super().__init__()    # super()로 기반 클래스의 __init__ 메서드 호출\n",
        "        self.school = '파이썬 코딩 도장'\n",
        " \n",
        "james = Student()\n",
        "print(james.school)\n",
        "print(james.hello)"
      ],
      "metadata": {
        "id": "621dxRxAQLa4"
      },
      "execution_count": null,
      "outputs": []
    },
    {
      "cell_type": "code",
      "source": [
        "# super()를 사용하지 않으려면?\n",
        "# 파생되는 클래스에서 __init__메서드를 생략하면 자동 호출됨\n",
        "# 그래서 맨처음 클래스에서 봤던 예제에서 Pikachu의 속성이 가져오게 됨\n",
        "class Person:\n",
        "    def __init__(self):\n",
        "        print('Person __init__')\n",
        "        self.hello = '안녕하세요.'\n",
        " \n",
        "class Student(Person):\n",
        "    pass\n",
        " \n",
        "james = Student()\n",
        "print(james.hello)"
      ],
      "metadata": {
        "id": "pqfREO_8QAiT"
      },
      "execution_count": null,
      "outputs": []
    },
    {
      "cell_type": "markdown",
      "source": [
        "**[`__test` 비공개 속성 - 가시성/은닉성]**\n",
        "\n",
        "객체의 정보를 볼 수 있는 레벨을 조절해서 객체의 정보접근을 숨기는 것을 말합니다. 이 특징은 캡슐화, 정보은닉과 연결되어있습니다.\n",
        "\n",
        "객체의 재사용을 하려면 결국 각 객체가 무슨 역할을 하는지 알아야합니다. 이러한 개념을 캡슐화라고하며, 객체의 세부내용은 모른체 객체의 사용법만 알고 사용한다는 뜻입니다.\n",
        "\n",
        "동시에 핵심적인 정보는 숨겨야할 때가 있습니다. 이를 정보 은닉이라고 합니다. 외부에서 코드 내부를 볼 수 없게 하기 위한 개념인거죠\n",
        "뭐.. 어쨋든 캡슐화와 정보은닉은 결국 코드의 내부 구현을 잘해서 외부에서도 쉽게 사용되지만 세부적인 내용은 모르게 하는 측면해서 비슷한 의미로 사용됩니다."
      ],
      "metadata": {
        "id": "4ZUezvmJQqoo"
      }
    },
    {
      "cell_type": "code",
      "source": [
        "# 연습문제 1\n",
        "class Marvel(object):\n",
        "    def __init__(self, name, characteristic):\n",
        "        self.name = name\n",
        "        self.characteristic = characteristic\n",
        "\n",
        "    def __str__(self):\n",
        "        return f\"나의 마블 캐릭터 이름은 {self.name}입니다. 저의 특수 능력치는 {self.characteristic} 입니다.\"\n",
        "\n",
        "class Villain(Marvel):\n",
        "    pass\n",
        "\n",
        "first_villain = Villain(\"타노스\",\"인피티니 건틀랫\")\n",
        "print(first_villain)"
      ],
      "metadata": {
        "id": "-gLkF9s5Q3Yt"
      },
      "execution_count": null,
      "outputs": []
    },
    {
      "cell_type": "code",
      "source": [
        "class TV(object):\n",
        "    def __init__(self, size, year, company):\n",
        "        self.size = size\n",
        "        self.year = year\n",
        "        self.company = company\n",
        "\n",
        "    def describe(self):\n",
        "        print(self.company + \"에서 만든 \" + self.year + \"년형 \" + self.size + \"인치 TV\")\n",
        "\n",
        "class Laptop(TV):\n",
        "    def describe(self):\n",
        "        print(self.company + \"에서 만든 \" + self.year + \"년형 \" + self.size + \"인치 노트북\")\n",
        "\n",
        "LG_TV = TV(\"32\", \"2022\", \"LG\")\n",
        "LG_TV.describe()\n",
        "\n",
        "samsung_microwave = Laptop(\"15\", \"2023\", \"Samsung\")\n",
        "samsung_microwave.describe()"
      ],
      "metadata": {
        "id": "ZYqZvfdYSOYC"
      },
      "execution_count": null,
      "outputs": []
    },
    {
      "cell_type": "code",
      "source": [
        "class Company:\n",
        "    def __init__(self):\n",
        "        self.work = True\n",
        "        self.name = 'Jane'\n",
        "        self.company_name = 'woman'\n",
        "\n",
        "    def retire(self):\n",
        "        self.work = False\n",
        "\n",
        "class Employee(Company):\n",
        "    def __init__(self, name, company_name):\n",
        "        super().__init__()\n",
        "        self.name = name\n",
        "        self.company_name = company_name\n",
        "\n",
        "    def introduce(self):\n",
        "        if self.work == True:\n",
        "            print('취업 성공')\n",
        "            print(f'이름은 {self.name} 입니다.') \n",
        "            print(f'회사는 {self.company_name} 입니다.') \n",
        "\n",
        "        if self.work == False:\n",
        "            print(f'직업을 구하는 중..')\n",
        "\n",
        "em = Employee('김진환', '위니브')\n",
        "em.retire()\n",
        "em.introduce()\n",
        "\n",
        "Employee('김진환', '위니브').introduce()"
      ],
      "metadata": {
        "id": "xa6mE7epS3fQ"
      },
      "execution_count": null,
      "outputs": []
    }
  ]
}