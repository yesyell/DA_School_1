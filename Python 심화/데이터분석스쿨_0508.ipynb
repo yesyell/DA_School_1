{
  "nbformat": 4,
  "nbformat_minor": 0,
  "metadata": {
    "colab": {
      "private_outputs": true,
      "provenance": [],
      "collapsed_sections": [
        "r-wTQ3U_x0vY"
      ],
      "authorship_tag": "ABX9TyP6rhfodTEXGpHchLeqI8Jl",
      "include_colab_link": true
    },
    "kernelspec": {
      "name": "python3",
      "display_name": "Python 3"
    },
    "language_info": {
      "name": "python"
    }
  },
  "cells": [
    {
      "cell_type": "markdown",
      "metadata": {
        "id": "view-in-github",
        "colab_type": "text"
      },
      "source": [
        "<a href=\"https://colab.research.google.com/github/yesyell/DA_School_1/blob/main/Python%20%EC%8B%AC%ED%99%94/%EB%8D%B0%EC%9D%B4%ED%84%B0%EB%B6%84%EC%84%9D%EC%8A%A4%EC%BF%A8_0508.ipynb\" target=\"_parent\"><img src=\"https://colab.research.google.com/assets/colab-badge.svg\" alt=\"Open In Colab\"/></a>"
      ]
    },
    {
      "cell_type": "markdown",
      "source": [
        "# args, kwargs 사용하는 이유"
      ],
      "metadata": {
        "id": "024VxY1Dvaav"
      }
    },
    {
      "cell_type": "markdown",
      "source": [
        "어떤 입력/값이든 에러가 없이 받도록 도와주기 위함"
      ],
      "metadata": {
        "id": "YS1z2QAbwFYr"
      }
    },
    {
      "cell_type": "code",
      "source": [
        "def add(x, y):\n",
        "    print(x + y)\n",
        "    \n",
        "add(3, 4)\n",
        "# add(3, 4, 7)  # error"
      ],
      "metadata": {
        "id": "fKkrHWhfwPo8"
      },
      "execution_count": null,
      "outputs": []
    },
    {
      "cell_type": "code",
      "source": [
        "# * 의 사용법\n",
        "def add(*x):\n",
        "    print(sum(x))\n",
        "\n",
        "add(3, 4)\n",
        "add(3, 4, 7)"
      ],
      "metadata": {
        "id": "nPAMvgPOwVh8"
      },
      "execution_count": null,
      "outputs": []
    },
    {
      "cell_type": "code",
      "source": [
        "def add_2(*x, y):\n",
        "    print(sum(x) + int(y))  # '3' -> 3\n",
        "\n",
        "add_2(1, 2, y = '3')\n",
        "# add_2(1, 2, y = '3', z = '4')  # error"
      ],
      "metadata": {
        "id": "fcsCG6tsxRdp"
      },
      "execution_count": null,
      "outputs": []
    },
    {
      "cell_type": "code",
      "source": [
        "# ** 의 사용법\n",
        "def param(**kwargs):\n",
        "    print(kwargs)\n",
        "\n",
        "param(max_depth = 0.6)\n",
        "param(max_depth = 0.6, gamma = 3)"
      ],
      "metadata": {
        "id": "GO0xoPvMya5f"
      },
      "execution_count": null,
      "outputs": []
    },
    {
      "cell_type": "code",
      "source": [
        "# *, ** 동시 사용법\n",
        "def function(*a, **b):\n",
        "    print(a)\n",
        "    print(b)\n",
        "    print()\n",
        "\n",
        "# 1. 어떤 값이 나올까?\n",
        "# 2. 이 값은 어떤 자료형태인가? - 리스트, 튜플, 셋, 딕셔너리\n",
        "\n",
        "function(41)\n",
        "function(1, 2, 3, 4, 5)\n",
        "function(x=3)\n",
        "function(x=3, y=4)\n",
        "function(1, 2, 3, 4, 5, x=3, y=4)\n",
        "# function(x=3, y=4, 1, 2, 3, 4, 5)  # error"
      ],
      "metadata": {
        "id": "NUxDPC4Azq_a"
      },
      "execution_count": null,
      "outputs": []
    },
    {
      "cell_type": "markdown",
      "source": [
        "https://engineer-mole.tistory.com/279\n",
        "\n",
        "파이썬 함수에서는 인수 개수를 변경할 수 있다.\n",
        "위치 인수에 대해 첫번째, 두번째는 필수, 세번째 이후는 선택으로 정할 수 있는데, 임의로 개수가 변하는 인수를 가변 길이 인수라 부르고, *를 붙이면 가변 길이 인수가 된다. 지정한 인수가 튜플로 지정이 되고, args라는 변수명을 많이 사용한다.\n",
        "\n",
        "* 결국 동시에 여러 입력값을 주고 싶을때 사용한다.\n",
        "* 아무 이름이나 사용해도 되긴한다. *만 붙이면\n",
        "* Tuple처럼 사용이 가능하다. 굳이 리스트나 튜플로 변경하지 않아도 된다.\n",
        "* 가변인자는 들어오는 인자의 갯수가 언제나 변할 수 있다."
      ],
      "metadata": {
        "id": "TfbNiR3M50--"
      }
    },
    {
      "cell_type": "code",
      "source": [
        "# 인자 앞 *는 패킹\n",
        "def a_test(a, *args):\n",
        "    print(a, args)\n",
        "\n",
        "a_test(1, 2, 3, 4, 5, 6)  # a = 1, *args = 2 ~ 6"
      ],
      "metadata": {
        "id": "vB3w-7ZvyJTw"
      },
      "execution_count": null,
      "outputs": []
    },
    {
      "cell_type": "code",
      "source": [
        "def b_test(a, **kwargs):\n",
        "    print(a, kwargs)\n",
        "\n",
        "b_test(1, b=2, c=3, d=4, e=5, f=6)  "
      ],
      "metadata": {
        "id": "umrT5zlp6nSF"
      },
      "execution_count": null,
      "outputs": []
    },
    {
      "cell_type": "code",
      "source": [
        "# 변수 앞 *는 언패킹\n",
        "def c_test(a, args):\n",
        "    print(a, args)  # 그대로\n",
        "    print(a, *args) # 언패킹\n",
        "\n",
        "c_test(1, (2, 3, 4, 5, 6))"
      ],
      "metadata": {
        "id": "EKWN1KFx7g22"
      },
      "execution_count": null,
      "outputs": []
    },
    {
      "cell_type": "code",
      "source": [
        "a, b, c = ([1, 2], [3, 4], [5, 6])\n",
        "print(a)\n",
        "print(b)\n",
        "print(c)\n",
        "\n",
        "data = ([1, 2], [3, 4], [5, 6])\n",
        "print(data)\n",
        "print(*data)"
      ],
      "metadata": {
        "id": "-jR34arb8evf"
      },
      "execution_count": null,
      "outputs": []
    },
    {
      "cell_type": "markdown",
      "source": [
        "## args\n",
        "\n",
        "가변 아규먼트(args, arguments)는 내가 원하는 여러가지 인자들을 가변인수로 받을 수 있습니다. 값들은 모두 tuple로 저장됩니다."
      ],
      "metadata": {
        "id": "JzDOdqup-_qt"
      }
    },
    {
      "cell_type": "code",
      "source": [
        "def print_args(*args):\n",
        "    print(args)\n",
        "    for x in args:\n",
        "        print(x)\n",
        "\n",
        "print_args(100, True, 'yelin')"
      ],
      "metadata": {
        "id": "M_fk8zYw8-Rt"
      },
      "execution_count": null,
      "outputs": []
    },
    {
      "cell_type": "code",
      "source": [
        "def func(x, y, *args):\n",
        "    print(f\"첫번째 값은 {x}\")\n",
        "    print(f\"두번째 값은 {y}\")\n",
        "    if args:\n",
        "        print(f\"세번째 이후의 값은 {args}\")\n",
        "\n",
        "# func(1, 2)\n",
        "func(1, 2, 3, 4, 5)"
      ],
      "metadata": {
        "id": "aoRIBGn09Fvu"
      },
      "execution_count": null,
      "outputs": []
    },
    {
      "cell_type": "markdown",
      "source": [
        "## kwargs\n",
        "**kwargs는 딕셔너리로 가변인수를 받을 수 있는 방법입니다. *args와 마찬가지로 고정인수와 가변인수 함께 쓸 수 있습니다.\n",
        "\n",
        "args(arguments)는 튜플 형식으로 파라미터를 받는 반면 \n",
        "kwargs(keyworded arguments)는 딕셔너리 형태로 파라미터를 받습니다."
      ],
      "metadata": {
        "id": "wcvM0iSu9deA"
      }
    },
    {
      "cell_type": "code",
      "source": [
        "def print_kwargs(a, **kwargs):\n",
        "    print(a)\n",
        "    print(kwargs)\n",
        "    for i in kwargs:  # key 값만\n",
        "        print(i)\n",
        "\n",
        "print_kwargs(100, name='yelin', age='10')"
      ],
      "metadata": {
        "id": "XXulMTdy9bNr"
      },
      "execution_count": null,
      "outputs": []
    },
    {
      "cell_type": "code",
      "source": [
        "def func(x, y, **kwargs):\n",
        "    print(f\"첫번째 값은 {x}\")\n",
        "    print(f\"두번째 값은 {y}\")\n",
        "    if kwargs:\n",
        "        print(f\"세번째 이후의 값은 {kwargs}\")\n",
        "        \n",
        "func(1, 2, z=3, w=4)\n",
        "func(x=1, y=2, z=3, w=4)"
      ],
      "metadata": {
        "id": "Z_noCp4b97dJ"
      },
      "execution_count": null,
      "outputs": []
    },
    {
      "cell_type": "markdown",
      "source": [
        "## args와 kwargs의 응용\n",
        "\n",
        "앞에는 args형식으로 뒤에는 kwargs형식으로 받게되면 정상적으로 작동합니다. 파라미터를 넣을때 순서를 바꾸거나 혼합하면 에러가 발생됩니다."
      ],
      "metadata": {
        "id": "E8mg0s5e-h6i"
      }
    },
    {
      "cell_type": "code",
      "source": [
        "def print_args_kwargs(*args, **kwargs):\n",
        "    print('args:', args)\n",
        "    for x in args:\n",
        "        print(x)\n",
        "    print('kwargs:', kwargs)\n",
        "    for x in kwargs:\n",
        "        print(x)\n",
        "        print(kwargs[x])\n",
        "\n",
        "print_args_kwargs(100, True, 'yelin')\n",
        "print('--------')\n",
        "print_args_kwargs(score=100, name='yelin', age='10')\n",
        "print('--------')\n",
        "print_args_kwargs(100, True, 'yelin', score=100, name='yelin', age='10')\n",
        "#print('--------')\n",
        "# print_args_kwargs(100, score=100, True, name='yelin', 'yelin', age='10')"
      ],
      "metadata": {
        "id": "8q0GP0Ys-f9C"
      },
      "execution_count": null,
      "outputs": []
    },
    {
      "cell_type": "code",
      "source": [
        "# 가변 길이 위치 인수와 키워드 인수 조합\n",
        "def func(x, *args, **kwargs):\n",
        "    print(x)\n",
        "    print(args)\n",
        "    print(kwargs)\n",
        "\n",
        "print(\"---첫 번째 인수만 지정한 결과---\")\n",
        "func(1)\n",
        "\n",
        "print(\"---길이가 변하는 인수를 지정한 결과---\")\n",
        "func(1, 100, 200, 300, a=\"X\", b=\"Y\", c=\"Z\") "
      ],
      "metadata": {
        "id": "f88Fa_xO-pP1"
      },
      "execution_count": null,
      "outputs": []
    },
    {
      "cell_type": "code",
      "source": [
        "def 가격계산(할인율, *구매가_목록):\n",
        "    \"\"\"구매가 목록을 합산하고, 할인율을 반영해서 가격을 계산한다.\"\"\"\n",
        "    print((1 - 할인율) * sum(구매가_목록)) \n",
        "\n",
        "가격계산(0.25, 10000)\n",
        "가격계산(0.25, 10000, 15000, 25000)"
      ],
      "metadata": {
        "id": "41QTWRpc_Q3m"
      },
      "execution_count": null,
      "outputs": []
    },
    {
      "cell_type": "code",
      "source": [
        "# 기타 *의 활용법\n",
        "one, two, *three = 1,2,3,4,5\n",
        "print(one, two, three)  # three = 리스트"
      ],
      "metadata": {
        "id": "voP0xjqq_iov"
      },
      "execution_count": null,
      "outputs": []
    },
    {
      "cell_type": "code",
      "source": [
        "a_1 = [1, 2, 3]\n",
        "print(*a_1)\n",
        "\n",
        "a_2 = (1, 2, 3)\n",
        "print(*a_2)"
      ],
      "metadata": {
        "id": "Z_7pZbbeAjSM"
      },
      "execution_count": null,
      "outputs": []
    },
    {
      "cell_type": "code",
      "source": [
        "# 함수 호출시 위치인수 지정하기 - 함수 사용시 적용할 수 있음\n",
        "def func(x, y, z):\n",
        "    print(x, y ,z)\n",
        "    print(x + y + z)\n",
        "\n",
        "# 언패킹 되는 함수 x, y, z\n",
        "param = [1, 2, 3]  \n",
        "func(*param)  # 리스트 풀림\n",
        "\n",
        "# 키워드 인수 데이터를 받아올 때\n",
        "params = {'x': 1, 'y': 2, 'z': 3}  \n",
        "func(*params)\n",
        "\n",
        "func(**params)"
      ],
      "metadata": {
        "id": "eRdpuewr_qp-"
      },
      "execution_count": null,
      "outputs": []
    },
    {
      "cell_type": "code",
      "source": [
        "# 함수 호출시 인자가 더 많은 경우\n",
        "def func(x, y, z, a, b, c):\n",
        "    print(x, y, z, a, b, c)\n",
        "    print(x + y + z + a + b + c)\n",
        "\n",
        "param1 = [1, 2, 3]\n",
        "param2 = {\"a\": 1, \"b\": 2, \"c\": 3}\n",
        "func(*param1, **param2)"
      ],
      "metadata": {
        "id": "HSRthsW_CAkk"
      },
      "execution_count": null,
      "outputs": []
    },
    {
      "cell_type": "code",
      "source": [
        "def counter(*args):  # 패킹\n",
        "    print(args)\n",
        "    count = len(args)\n",
        "    return count\n",
        "\n",
        "print(counter([\"test\",\"hello\",\"python\"]))   # 1"
      ],
      "metadata": {
        "id": "5aMU1OpCDQDQ"
      },
      "execution_count": null,
      "outputs": []
    },
    {
      "cell_type": "code",
      "source": [
        "def counter(args):\n",
        "    print(args)\n",
        "    count = len(args)\n",
        "    return count\n",
        "\n",
        "print(counter([\"test\",\"hello\",\"python\"]))   # 3"
      ],
      "metadata": {
        "id": "-qNSK7HCHQak"
      },
      "execution_count": null,
      "outputs": []
    },
    {
      "cell_type": "code",
      "source": [
        "# 날짜 변수 다루기 예제\n",
        "def data_to_string(y, m, d):\n",
        "    print(str(y) + \"년 \" + str(m) + \"월 \" + str(d) + \"일\") "
      ],
      "metadata": {
        "id": "1yTttiHAHv6p"
      },
      "execution_count": null,
      "outputs": []
    },
    {
      "cell_type": "code",
      "source": [
        "# * 사용 언패킹\n",
        "date = (2023, 5, 8)\n",
        "data_to_string(date[0], date[1], date[2])\n",
        "data_to_string(*date)\n",
        "data_to_string(*[2023, 5, 8])\n",
        "data_to_string(2023, *(5, 8))\n",
        "# data_to_string(date)  # error"
      ],
      "metadata": {
        "id": "6w10edTlIQXX"
      },
      "execution_count": null,
      "outputs": []
    },
    {
      "cell_type": "code",
      "source": [
        "# ** 사용 언패킹\n",
        "date = {'y': 1917, 'm': 9, 'd': 4}\n",
        "data_to_string(date['y'], date['m'], date['d'])\n",
        "data_to_string(**date)"
      ],
      "metadata": {
        "id": "dV4XUwoyIvB_"
      },
      "execution_count": null,
      "outputs": []
    },
    {
      "cell_type": "code",
      "source": [
        "# 함수를 변수로 다루기\n",
        "def add_num(x, y):\n",
        "    return x + y\n",
        "\n",
        "# 변수에 대입할 수 있음\n",
        "x = add_num\n",
        "\n",
        "# 함수를 실행\n",
        "z = x(100, 200)\n",
        "print(z)"
      ],
      "metadata": {
        "id": "n6LiImoJJ3Dy"
      },
      "execution_count": null,
      "outputs": []
    },
    {
      "cell_type": "code",
      "source": [
        "# 어떤 함수가 몇번 호출되었는지 확인 실행할때\n",
        "def outer_function():\n",
        "    \"\"\" 외부 함수 \"\"\"\n",
        "    count = 0\n",
        "    def inner_function():\n",
        "        \"\"\"내부 함수\"\"\"\n",
        "        nonlocal count  # nonlocal 함수는 저장이 가능한 함수 - count 값을 저장\n",
        "        count += 1   \n",
        "        print(f'실행횟수가 {count}회 실행되었습니다.')\n",
        "    return inner_function\n",
        "\n",
        "func1 = outer_function()\n",
        "\n",
        "# 함수 실행\n",
        "func1()\n",
        "func1()\n",
        "func1()"
      ],
      "metadata": {
        "id": "2htDxHWaJ_rw"
      },
      "execution_count": null,
      "outputs": []
    },
    {
      "cell_type": "code",
      "source": [
        "# 데코레이터\n",
        "# 고유 기능 - 기본 함수를 변경하지 않고 기능을 추가할 수 있다.\n",
        "\n",
        "def add_message(f):\n",
        "    \"\"\"함수 앞뒤로 시작/종료 메세지를 추가하는 함수\"\"\"\n",
        "    def new_func():\n",
        "        print(\"처리를 시작합니다.\")\n",
        "        f()\n",
        "        print(\"처리를 종료합니다.\")\n",
        "    return new_func\n",
        "\n",
        "def sample_func():\n",
        "    \"\"\"실행 메세지를 표시하는 함수\"\"\"\n",
        "    print(\"sample_func 함수 처리를 실행합니다.\")\n",
        "\n",
        "# sample_func에 대해 추가한 함수를 실행\n",
        "deco_func = add_message(sample_func)\n",
        "deco_func()"
      ],
      "metadata": {
        "id": "PBlU8QJAL1n6"
      },
      "execution_count": null,
      "outputs": []
    },
    {
      "cell_type": "markdown",
      "source": [
        "# lambda"
      ],
      "metadata": {
        "id": "6nbZplSiNGCd"
      }
    },
    {
      "cell_type": "markdown",
      "source": [
        "lambda()는 익명함수, 이름이 없는 함수"
      ],
      "metadata": {
        "id": "TrcPuxqtNiG9"
      }
    },
    {
      "cell_type": "code",
      "source": [
        "yelin = print\n",
        "yelin('hello world')\n",
        "# print를 yelin으로 받고, print함수를 호출할 수 있다.\n",
        "# 즉, 이름이 있는 것은 변수로 지정할 수 있다."
      ],
      "metadata": {
        "id": "c7JId7ctMWjG"
      },
      "execution_count": null,
      "outputs": []
    },
    {
      "cell_type": "code",
      "source": [
        "def add(x,y):\n",
        "    return x + y\n",
        "def sub():\n",
        "    pass\n",
        "def div():\n",
        "    pass\n",
        "def mul():\n",
        "    pass\n",
        "\n",
        "calculator = [add, sub, div, mul]\n",
        "print(calculator[0](10, 20))"
      ],
      "metadata": {
        "id": "t9j5K416NwCL"
      },
      "execution_count": null,
      "outputs": []
    },
    {
      "cell_type": "markdown",
      "source": [
        "우선 add, sub, div, mul이라는 사칙연산을 수행하는 함수를 선언해주었습니다. 그 다음 각 함수들의 이름을 calculator라는 배열에 넣어주었고, print로 0번째 배열을 호출하였더니 함수 add의 결과값인 30이 나오게 되었습니다.\n",
        "\n",
        "우리가 일반적으로 사용할 수 있는 변수의 위치에 ( )(괄호)만 사용하지 않는다면 변수처럼 사용할 수 있으며, 호출할 때는 '( )'(괄호)를 사용해줍니다.\n",
        "\n",
        "그럼 lambda함수는 왜 익명함수 일까요? 이름이 있는 함수들과는 다르게 매우 간결하게 작성할 수 있기 때문입니다."
      ],
      "metadata": {
        "id": "0rwj6LZqN7Al"
      }
    },
    {
      "cell_type": "code",
      "source": [
        "# lambda 매개변수 : 결과\n",
        "\n",
        "제곱 = lambda x : x ** 2\n",
        "제곱(3)\n",
        "\n",
        "(lambda x : x ** 2)(3)"
      ],
      "metadata": {
        "id": "kX-4cFWnN7W-"
      },
      "execution_count": null,
      "outputs": []
    },
    {
      "cell_type": "code",
      "source": [
        "def f(x, y):\n",
        "    return x + y\n",
        "f(1, 4)\n",
        "\n",
        "f = lambda x, y: x + y\n",
        "f(1, 4)"
      ],
      "metadata": {
        "id": "UiEDMB5lORnD"
      },
      "execution_count": null,
      "outputs": []
    },
    {
      "cell_type": "code",
      "source": [
        "func = lambda x : \"*\" + str(x) + \"*\"\n",
        "func(\"바나나\")"
      ],
      "metadata": {
        "id": "ntBWGkQZPFxz"
      },
      "execution_count": null,
      "outputs": []
    },
    {
      "cell_type": "markdown",
      "source": [
        "## map"
      ],
      "metadata": {
        "id": "vzgNp_lQPYD2"
      }
    },
    {
      "cell_type": "markdown",
      "source": [
        "lambda 함수와 가장 많이 조합되어 이용하는 함수입니다. 간단히 설명드리도록 할게요.\n",
        "\n",
        "방금 위에서 만들었던 매개변수를 제곱하여 return하는 함수를 만들어 볼겁니다. 그런데 아까 위에서 작성했던 예제는 하나의 값만 받고 하나의 값만 리턴할 수 있었죠?\n",
        "\n",
        "여러값이 들어오게 된다면 어떻게 해야할까요?"
      ],
      "metadata": {
        "id": "YOR5v6UjPlL4"
      }
    },
    {
      "cell_type": "code",
      "source": [
        "# map(함수, 리스트 혹은 튜플)\n",
        "\n",
        "# 첫번째 방법\n",
        "def 제곱(x):\n",
        "    return x ** 2\n",
        "list(map(제곱, [1, 2, 3, 4]))\n",
        "\n",
        "# 두번째 방법\n",
        "list(map(lambda x : x ** 2, [1, 2, 3, 4]))"
      ],
      "metadata": {
        "id": "GQx9zWWHPR4r"
      },
      "execution_count": null,
      "outputs": []
    },
    {
      "cell_type": "code",
      "source": [
        "ex = [1, 2, 3, 4, 5]    # 먼저 ex라는 리스트를 만들고,\n",
        "f = lambda x : x ** 2   # 입력된 값을 제곱하는 람다함수 f를 생성\n",
        "\n",
        "list(map(f, ex))"
      ],
      "metadata": {
        "id": "LPd8Ham7QNzO"
      },
      "execution_count": null,
      "outputs": []
    },
    {
      "cell_type": "markdown",
      "source": [
        "결국 Map은 mapping을 생각해보면 편한데, map(함수 이름, 리스트 데이터)라는 형태에 맞춰 함수 F에 ex의 요소를 매핑하라라는 뜻"
      ],
      "metadata": {
        "id": "3C48YQsvQ-00"
      }
    },
    {
      "cell_type": "markdown",
      "source": [
        "제너레이터 사용\n",
        "\n",
        "- 파이썬 3.x 버전부터는 반드시 list(map(f, ex)) 리스트를 꼭 붙여야 리스트 형태로 자료 붙여지게 됨\n",
        "- map(f, ex) -> list(map(f, ex))\n",
        "- 제너레이터 장점은 시퀀스 자료형의 데이터를 처리할때 실행 시점의 값을 생성해서 효율적으로 메모리를 관리할 수 있게 함\n"
      ],
      "metadata": {
        "id": "rRQqOW1ZkTtL"
      }
    },
    {
      "cell_type": "code",
      "source": [
        "a = [1, 2, 3, 4, 5]\n",
        "for value in a:\n",
        "    print(value)\n",
        "for value in a:\n",
        "    print(value)"
      ],
      "metadata": {
        "id": "6XB9xF48ZUWs"
      },
      "execution_count": null,
      "outputs": []
    },
    {
      "cell_type": "code",
      "source": [
        "gen = (x for x in range(3))\n",
        "for value in gen:\n",
        "    print(value)\n",
        "for value in gen:\n",
        "    print(value)"
      ],
      "metadata": {
        "id": "sPDYSQsQY-f9"
      },
      "execution_count": null,
      "outputs": []
    },
    {
      "cell_type": "markdown",
      "source": [
        "https://wikidocs.net/22802\n",
        "\n",
        "제너레이터 페이지에서 예시로 든 코드를 보면 iterable한 객체(a 라는 list)는 선언되어 중복 호출이 가능하지만,\n",
        "\n",
        "gen = (x for x in range(3) ) 으로 생성된 iterable 한 데이터는 객체가 아닙니다.\n",
        "gen 을 호출하면 <generator object> 라고 확인할 수 있습니다.\n",
        "generator는 값을 넘겨주고 나면 값을 소비하고 더 이상 기억하지 않습니다. 이전값에 대한 정보는 없습니다. 그렇기 때문에 iterable객체처럼 여러번 값을 가져올수가 없습니다."
      ],
      "metadata": {
        "id": "RFLa_rb-w8SI"
      }
    },
    {
      "cell_type": "code",
      "source": [
        "# 리스트가 없으면?\n",
        "ex = [1,2,3,4,5]\n",
        "f = lambda x : x**2\n",
        "for value in map(f, ex):\n",
        "    print(value)"
      ],
      "metadata": {
        "id": "QUxvhEd4ROUB"
      },
      "execution_count": null,
      "outputs": []
    },
    {
      "cell_type": "code",
      "source": [
        "# 무언가의 값을 추가하기 \n",
        "new_list = []\n",
        "for value in map(f, ex):\n",
        "    new_list.append(value)\n",
        "print(new_list)\n",
        "\n",
        "# 리스트 컴프리 핸션\n",
        "print([x ** 2 for x in ex])"
      ],
      "metadata": {
        "id": "TPFqpViok1nl"
      },
      "execution_count": null,
      "outputs": []
    },
    {
      "cell_type": "code",
      "source": [
        "# lambda함수의 filter 기능 - 조건문\n",
        "list(filter(lambda x : x > 90, range(100)))"
      ],
      "metadata": {
        "id": "6X8Tw7GolZOE"
      },
      "execution_count": null,
      "outputs": []
    },
    {
      "cell_type": "markdown",
      "source": [
        "map함수와 비슷하지만 자주 언급되는 reduce함수\n",
        "\n",
        "reduce함수는 map함수와 용법은 다른고, 형제같은 함수가\n",
        "reduce 함수를 모두 적용한 다음에, 모든 값을 통합하는 함수입니다."
      ],
      "metadata": {
        "id": "a_ihLfTgmCCJ"
      }
    },
    {
      "cell_type": "code",
      "source": [
        "from functools import reduce\n",
        "\n",
        "print(reduce(lambda x, y : x + y, [1,2,3,4,5]))\n",
        "\n",
        "# 1번째 계산\n",
        "# x = 1 y = 2 결과 3\n",
        " \n",
        "# 2번째 계산\n",
        "# x = 3 y = 3 결과 6\n",
        " \n",
        "# 3번째 계산\n",
        "# x = 6 y = 4 결과 10\n",
        " \n",
        "# 4번째 계산\n",
        "# x = 10 y = 5 결과 15\n",
        "\n",
        "x = 0\n",
        "for y in [1,2,3,4,5]:\n",
        "    x += y\n",
        "print(x)"
      ],
      "metadata": {
        "id": "9dhsy9xnlhUt"
      },
      "execution_count": null,
      "outputs": []
    },
    {
      "cell_type": "markdown",
      "source": [
        "# 연습문제"
      ],
      "metadata": {
        "id": "r-wTQ3U_x0vY"
      }
    },
    {
      "cell_type": "code",
      "source": [
        "# 은행에서 적금통장을 개설하고, 입금/출금/잔액 확인\n",
        "\n",
        "# 전산개발 요구서\n",
        "# 데이터를 어디서 받아와야 하는지!!\n",
        "# 1) 현재 우리가 가지고 있는 데이터는 무엇인지\n",
        "# 2) 만들 수 있는 데이터나 가공할 수 있는 데이터가 추가로 있는지\n",
        "# 3) 아예 가져올 수 있는지 -> 새롭게 개발할 것인지, 아예 안쓸 것인지\n",
        "\n",
        "# 1. 은행계좌 만들기\n",
        "def open_account():\n",
        "    print('새로운 계좌를 개설합니다.')\n",
        "\n",
        "open_account()\n",
        "\n",
        "# 2. 입금하기\n",
        "def deposit(money, balance):\n",
        "    print(f'{money}원이 입금되었습니다. 잔액은 {balance}원입니다.')\n",
        "    return money + balance\n",
        "\n",
        "balance = 0\n",
        "balance = deposit(5000, balance)\n",
        "\n",
        "# 3. 출금하기\n",
        "def withdraw(balance, money):\n",
        "    if balance >= money:\n",
        "        print(f'{money}원을 출금했습니다. 잔액은 {balance - money}원입니다.')\n",
        "        return balance - money\n",
        "    else:\n",
        "        print(f'잔액이 부족합니다. 뽑을 수 있는 잔액은 {balance}원입니다.')\n",
        "\n",
        "balance = withdraw(balance, 2000)\n",
        "\n",
        "# 4. 수수료 부과하기\n",
        "def withdraw_other(balance, money):\n",
        "    commission = 500\n",
        "    print(f'업무시간 외에는 수수료가 필요합니다. {money}원을 출금하고 \\\n",
        "수수료가 {commission}원만큼 발생하여 잔액은 {balance - money - commission}원입니다.')\n",
        "    return balance - money - commission\n",
        "\n",
        "balance = withdraw_other(balance, 1000)"
      ],
      "metadata": {
        "id": "8Ku3sjZEnW34"
      },
      "execution_count": null,
      "outputs": []
    },
    {
      "cell_type": "code",
      "source": [
        "# 철수가 은행에 취업을 해서 처음 업무지시를 받은건 \n",
        "# 새로운 적금상품에 추가로 돈을 입금할 경우 자동으로 원금과 이자가 더해지도록 로직을 구현해야하는 상황\n",
        "# 이때 함수를 사용하여서 기능을 구현하고, 모두 구현이 된 경우 '입금이 완료되었습니다' 메세지를 뜨게 하기 \n",
        "\n",
        "# 조건: 적금 금리는 3.0%이고, 이자 산식은 원금 * 금리(간단하게 계산)\n",
        "\n",
        "# x - 원래 있었던 금액\n",
        "# y - 새로 불입한 금액\n",
        "# z - 이자 3% 4% -> 10000 * 3%(-> 0.03) = 300 \n",
        "\n",
        "def service_sum_amount(x,y,z):\n",
        "    if y > 0:\n",
        "        return int(x + y + (y * z/100))  \n",
        "\n",
        "print(service_sum_amount(0, 5000, 3.0))"
      ],
      "metadata": {
        "id": "_3Lz00b4q6jD"
      },
      "execution_count": null,
      "outputs": []
    },
    {
      "cell_type": "code",
      "source": [
        "def service_price():\n",
        "    service = input('서비스의 종류를 입력하세요 기본/프리미엄/올인원')\n",
        "    valueprice = input('부가세 포함여부? y/n')\n",
        "    if valueprice == 'y':\n",
        "        if service == '기본':\n",
        "            result = 300000 * 1.1\n",
        "        elif service == '프리미엄':\n",
        "            result = 600000 * 1.1\n",
        "        elif service == '올인원':\n",
        "            result = 1000000 * 1.1\n",
        "    else:\n",
        "        print(\"비용이 발생되지 않았습니다.\")\n",
        "    print(f\"{result}만원 입니다.\")   # print(f\"{round(result,1)}만원입니다.)\n",
        "\n",
        "service_price()"
      ],
      "metadata": {
        "id": "Zzkh_ZZZv9N-"
      },
      "execution_count": null,
      "outputs": []
    },
    {
      "cell_type": "code",
      "source": [
        "##########################################\n",
        "# 스페이스 어드벤처 게임\n",
        "# 벤 & 쉬무엘 만듦\n",
        "##########################################\n",
        " \n",
        "# 플레이어 환영 메시지\n",
        "def doWelcome():\n",
        "    # 텍스트 출력하기\n",
        "    print(\"탐험가 여러분을 환영합니다!\")\n",
        "    print(\"혼란스러운 상태에서 잠을 깬 여러분은 아무것도 떠오르지 않습니다.\")\n",
        "    print(\"방문까지 겨우 기어가 손잡이를 돌렸더니 문이 열립니다.\")\n",
        "    print(\"밖으로 나가 봐도 모든 것이 낯설기만 합니다.\")\n",
        "    print(\"바깥 풍경은 척박하고 황량한 붉은 흙만이 흩날릴 뿐입니다.\")\n",
        "    print(\"우주복을 입은 자신을 발견하곤 모든 것이 궁금해집니다.\")\n",
        " \n",
        "# 장소: 출발점\n",
        "def doStart():\n",
        "    # 텍스트 출력하기\n",
        "    print(\"주위를 둘러봐도 붉은 사막과 바위 더미와 먼지뿐입니다.\")\n",
        "    print(\"여러분 앞에는 이상하게 생긴 팔각형 구조물이 있습니다.\")\n",
        "    print(\"가까이 가니 삐 소리가 들립니다. 그리곤 멈춥니다. 아니, 계속됩니다.\")\n",
        "    # 플레이어 행동 선택 프롬프트\n",
        "    choice = \" \"\n",
        "    while not choice in \"PSBR\":\n",
        "        print(\"여러분이 할 수 있는 일:\")\n",
        "        print(\"P = 바위 더미를 조사한다\")\n",
        "        print(\"S = 구조물에 접근한다\")\n",
        "        print(\"B = 삐 소리가 나는 곳으로 간다\")\n",
        "        print(\"R = 도망간다!\")\n",
        "        choice = input(\"무엇을 하고 싶으세요? [P/S/B/R]\").strip().upper()\n",
        "    # 행동 실행하기\n",
        "    if choice == 'P':\n",
        "        doBoulders()\n",
        "    elif choice == 'S':\n",
        "        doStructure()\n",
        "    elif choice == 'B':\n",
        "        doBeeping()\n",
        "    elif choice == 'R':\n",
        "        doRun()\n",
        "\n",
        "# 장소: 바위 더미\n",
        "# 인벤토리 시스템 구현용 개발자 메모 \n",
        "# 이곳이 열쇠가 숨겨진 장소가 됩니다.\n",
        "def doBoulders():\n",
        "    # 텍스트 출력하기\n",
        "    print(\"정말인가요? 그건 바위 더미입니다.\")\n",
        "    print(\"크고 무겁고 단순한 바위입니다.\")\n",
        "    # 시작 위치로 돌아가기\n",
        "    doStart()\n",
        "\n",
        "# 장소: 구조물\n",
        "def doStructure():\n",
        "    # 텍스트 출력하기\n",
        "    print(\"여러분은 이상한 구조물을 조사합니다.\")\n",
        "    print(\"안에서는 오싹하면서도 기이한 소리가 들립니다.\")\n",
        "    print(\"문도 없고 창문도 없습니다.\")\n",
        "    print(\"아니, 문처럼 보여서 한번 열어 보려고 합니다.\")\n",
        "    print(\"그리고 삐 소리가 들립니다. 어디서 나는 소리일까요?\")\n",
        "    # 플레이어 행동 선택 프롬프트\n",
        "    choice = \" \"\n",
        "    while not choice in \"SDBR\":\n",
        "        print(\"여러분이 할 수 있는 일:\")\n",
        "        print(\"S = 시작 지점으로 돌아간다\")\n",
        "        print(\"D = 문을 연다\")\n",
        "        print(\"B = 삐 소리가 나는 곳으로 간다\")\n",
        "        print(\"R = 도망간다!\")\n",
        "        choice = input(\"무엇을 하고 싶으세요? [S/D/B/R]\").strip().upper()\n",
        "    # 행동 실행하기\n",
        "    if choice == 'S':\n",
        "        doStart()\n",
        "    elif choice == 'D':\n",
        "        doStructureDoor()\n",
        "    elif choice == 'B':\n",
        "        doBeeping()\n",
        "    elif choice == 'R':\n",
        "        doRun()\n",
        " \n",
        "# 장소: 구조물 입구\n",
        "# 인벤토리 시스템 구현용 개발자 메모 \n",
        "# 열쇠가 있을 때만 열 수 있습니다.\n",
        "def doStructureDoor():\n",
        "    # 텍스트 출력하기\n",
        "    print(\"문은 잠긴 듯합니다.\")\n",
        "    print(\"둥근 구멍이 보입니다. 열쇠 구멍일까요?\")\n",
        "    print(\"그쪽으로 손을 내밀지만 파란빛이 번쩍이며 닫혀 버립니다!\")\n",
        "    print(\"계획한 대로는 잘 안 되는군요.\")\n",
        "    # 플레이어 행동 선택 프롬프트\n",
        "    choice = \" \"\n",
        "    while not choice in \"SR\":\n",
        "        print(\"여러분이 할 수 있는 일:\")\n",
        "        print(\"S = 구조물로 돌아간다\")\n",
        "        print(\"R = 도망간다!\")\n",
        "        choice = input(\"무엇을 하고 싶으세요? [S/R]\").strip().upper()\n",
        "    # 행동 실행하기\n",
        "    if choice == 'S':\n",
        "        doStructure()\n",
        "    elif choice == 'R':\n",
        "        doRun()\n",
        " \n",
        "# 장소: 삐 소리 탐색하기\n",
        "def doBeeping():\n",
        "    pass\n",
        " \n",
        "# 플레이어가 도망가기를 선택하기\n",
        "def doRun():\n",
        "    # 텍스트 출력하기\n",
        "    print(\"한동안 달립니다.\")\n",
        "    print(\"그리곤 허공에 뜬 자신을 발견합니다. 아래로, 아래로, 아래로.\")\n",
        "    print(\"아주 깊은 골짜기로 떨어지며 다시는 빛을 보지 못하리라는 생각이 듭니다.\")\n",
        "    print(\"그리 용감한 행동은 아니었네요. 그렇죠?\")\n",
        "    # 사망, 게임 끝내기\n",
        "    gameOver()\n",
        "\n",
        "# 게임 끝내기\n",
        "def gameOver():\n",
        "    print(\"게임 오버!\")\n",
        " \n",
        "# 실제 게임 시작은 이곳에서\n",
        "# 환영 메시지 출력하기\n",
        "doWelcome()\n",
        "# 게임 시작하기\n",
        "doStart()"
      ],
      "metadata": {
        "id": "vUJCe8E7wOQ6"
      },
      "execution_count": null,
      "outputs": []
    },
    {
      "cell_type": "markdown",
      "source": [
        "# csv 파일 다루기"
      ],
      "metadata": {
        "id": "IIRb-HWexduF"
      }
    },
    {
      "cell_type": "markdown",
      "source": [
        "- 파일은 컴퓨터를 실행할 때 가장 기본이 되는 단위\n",
        "- 보통 프로그램 실행할 때 파일 실행한다.\n",
        "- 그 중의 우리는 CSV, Excel, Txt, .py 파일"
      ],
      "metadata": {
        "id": "0KgDgybnxi-L"
      }
    },
    {
      "cell_type": "code",
      "source": [
        "# 1. 파일 읽기 예제\n",
        "\n",
        "# f = open(\"파일명\" , \"파일 열기 모드\")\n",
        "# f.close()\n",
        "\n",
        "# 파일 여는 모드는 읽기, 쓰기, 추가 등등이 있음\n",
        "# 읽기 r / 쓰기 w / 추가 a"
      ],
      "metadata": {
        "id": "jjaTLvvYxoQz"
      },
      "execution_count": null,
      "outputs": []
    },
    {
      "cell_type": "code",
      "source": [
        "f = open('song.txt', 'w')  # content 폴더에 추가\n",
        "f.write('''I watch you as you drive\n",
        "Do you know I'm looking?\n",
        "And I can help but smile\n",
        "Do you know how much I love you?\n",
        "You put my favourite song on\n",
        "I put my feet up and we just sing-along\n",
        "And I can help but feeling\n",
        "Just loving this moment, can we stay here forever?\n",
        "I'm loving this moment, can we stay here together?\n",
        "If I could stop the time, don't you know that I would?\n",
        "'Cause I'm just loving this moment, can we stay here forever?\n",
        "Forever, forever, forever\n",
        "I watch you as you sleep\n",
        "You don't know I'm looking\n",
        "With you everything is complete\n",
        "Do you know how much I love you?''')\n",
        "f.close()"
      ],
      "metadata": {
        "id": "iCEK9uzDy-JN"
      },
      "execution_count": null,
      "outputs": []
    },
    {
      "cell_type": "code",
      "source": [
        "f = open('song.txt', 'r')\n",
        "contents = f.read()\n",
        "print(contents)\n",
        "f.close()\n",
        "# 1행에서 open()함수 다음에 파일명 다음에 읽기 모드 r을 입력해서 파일에 대한 값을 f에 저장\n",
        "# 2행에서 f를 이용해서 Read()함수를 실행하면 해당 파일의 텍스트들이 contents에 할당이 되고"
      ],
      "metadata": {
        "id": "y2s-fWRdze30"
      },
      "execution_count": null,
      "outputs": []
    },
    {
      "cell_type": "code",
      "source": [
        "# with문\n",
        "# with을 활용해서 Open()함수를 대체할 수 있다.\n",
        "# with문은 들여쓰기를 잘해야한다. (함수 if)\n",
        "# 결론적으로 close()문을 안쓰는 편리함이 있음\n",
        "\n",
        "with open('song.txt', 'r') as my_song_list:\n",
        "    content = my_song_list.read()\n",
        "    print(content)"
      ],
      "metadata": {
        "id": "A-mz8jxkz0_P"
      },
      "execution_count": null,
      "outputs": []
    },
    {
      "cell_type": "code",
      "source": [
        "# 한 줄로 읽어오는 방법\n",
        "# 파일 전체의 텍스트를 문자열로 반환하는 read() 대신에 readlines() 함수를 사용하면\n",
        "# 한 줄의 기준은 \\n\n",
        "\n",
        "with open('song.txt', 'r') as my_song_list:\n",
        "    content_list = my_song_list.readlines()\n",
        "    print(content_list)"
      ],
      "metadata": {
        "id": "Xo9bB-pM0aef"
      },
      "execution_count": null,
      "outputs": []
    },
    {
      "cell_type": "code",
      "source": [
        "content_list[2]"
      ],
      "metadata": {
        "id": "xoGTe6kA05i9"
      },
      "execution_count": null,
      "outputs": []
    },
    {
      "cell_type": "code",
      "source": [
        "with open('song.txt', 'r') as my_song_list:\n",
        "    # i = 0\n",
        "    while True:\n",
        "        line = my_song_list.readline()\n",
        "        if not line:\n",
        "            break\n",
        "        print(line.replace('\\n', ''))\n",
        "        # i += 1"
      ],
      "metadata": {
        "id": "t-SWx6Vf07Gb"
      },
      "execution_count": null,
      "outputs": []
    },
    {
      "cell_type": "code",
      "source": [
        "song_list_new = []\n",
        "\n",
        "with open('song.txt', 'r') as my_song_list:\n",
        "    while True:\n",
        "        line = my_song_list.readline()\n",
        "        if not line:\n",
        "            break\n",
        "        song_list_new.append(line.replace(\"\\n\", \"\"))\n",
        "\n",
        "print(song_list_new)"
      ],
      "metadata": {
        "id": "FexTcceM0_6n"
      },
      "execution_count": null,
      "outputs": []
    },
    {
      "cell_type": "code",
      "source": [
        "with open('song.txt', 'r') as my_song_list:\n",
        "    contents = my_song_list.read()\n",
        "    word_list = contents.split(\" \")\n",
        "    line_list = contents.split(\"\\n\")\n",
        "\n",
        "print(f\"총 글자수는 {len(contents)}입니다.\")\n",
        "print(f\"총 단어수는 {len(word_list)}입니다.\")\n",
        "print(f\"총 줄수는 {len(line_list)}입니다.\")"
      ],
      "metadata": {
        "id": "wM9f14Hj127n"
      },
      "execution_count": null,
      "outputs": []
    },
    {
      "cell_type": "code",
      "source": [
        "# 파일 쓰기\n",
        "# 인코딩 utf-8 / cp949 / euc-kr \n",
        "\n",
        "f = open(\"count_list.txt\", 'w', encoding = 'utf8')\n",
        "for i in range(1, 11):\n",
        "    data = f'{i}번째입니다.\\n'\n",
        "    f.write(data)\n",
        "f.close()"
      ],
      "metadata": {
        "id": "8pLZgLaW27DR"
      },
      "execution_count": null,
      "outputs": []
    },
    {
      "cell_type": "code",
      "source": [
        "with open('count_list.txt', 'w', encoding = 'utf8') as f:\n",
        "    for i in range(1,11):\n",
        "        data = f'{i}번째입니다.\\n'\n",
        "        f.write(data)"
      ],
      "metadata": {
        "id": "YyGviM3y3gF6"
      },
      "execution_count": null,
      "outputs": []
    },
    {
      "cell_type": "code",
      "source": [
        "# Pickle 모듈\n",
        "\n",
        "# 파이썬 프로그램을 실행할때마다 변수 객체를 메모리에 저장하고, 컴퓨터를 껐다가 켜면 모두 날라감\n",
        "# 메모리에 로딩된 객체들을 연속적으로 사용할 수 있도록 Pickle 모듈 제공\n",
        "\n",
        "# 데이터, 클래스, 함수, 프로그램 + 향후 대기업, 관련 빅데이터 플랫폼 활용 "
      ],
      "metadata": {
        "id": "Kq0vwZx035bQ"
      },
      "execution_count": null,
      "outputs": []
    },
    {
      "cell_type": "code",
      "source": [
        "# pickle 모듈을 사용하려면 import 저장하고자하는 객체를 넘기면 됨\n",
        "\n",
        "# 파일 열때 r 파일쓸때 w\n",
        "# pickle에서는 파일을 열때 rb 파일을 쓸때 wb \n",
        "\n",
        "import pickle\n",
        "\n",
        "f = open('list.pickle', 'wb')\n",
        "test = [1,2,3,4,5]\n",
        "pickle.dump(test, f)\n",
        "f.close()"
      ],
      "metadata": {
        "id": "H6bFeZrQ5DyE"
      },
      "execution_count": null,
      "outputs": []
    },
    {
      "cell_type": "code",
      "source": [
        "f = open('list.pickle', 'rb')\n",
        "test_pickle = pickle.load(f)\n",
        "print(test_pickle)"
      ],
      "metadata": {
        "id": "OP2WrXao5XIK"
      },
      "execution_count": null,
      "outputs": []
    },
    {
      "cell_type": "code",
      "source": [
        "# pickle은 클래스도 저장가능하다.\n",
        "class Multiply(object):\n",
        "    def __init__(self, multi):\n",
        "        self.multi = multi\n",
        "    def multiply(self, number):\n",
        "        return number * self.multi\n",
        "\n",
        "multi_test = Multiply(5)\n",
        "multi_test.multiply(10)"
      ],
      "metadata": {
        "id": "CV-nEmC85p2A"
      },
      "execution_count": null,
      "outputs": []
    },
    {
      "cell_type": "code",
      "source": [
        "f = open('multiply_object.pickle', 'wb')\n",
        "pickle.dump(multi_test, f)\n",
        "f.close()"
      ],
      "metadata": {
        "id": "ohCYVYZs72ki"
      },
      "execution_count": null,
      "outputs": []
    },
    {
      "cell_type": "code",
      "source": [
        "f = open('multiply_object.pickle', 'rb')\n",
        "multi_test = pickle.load(f)\n",
        "multi_test.multiply(10)"
      ],
      "metadata": {
        "id": "4Ja8Vxjf_HlA"
      },
      "execution_count": null,
      "outputs": []
    },
    {
      "cell_type": "markdown",
      "source": [
        "## csv 데이터\n",
        "- 데이터 분석의 대부분은 통계 프로그램이 아니라 엑셀 작업을 주로 함\n",
        "- 그만큼 스프레드시트 데이터를 많이 보게 됨\n",
        "\n",
        "\n",
        "- csv : 쉼표로 나눠진 데이터\n",
        "- 1, 2, 3, 4, 5 -> test.csv / txt\n",
        "- .xlsx -> .csv\n",
        "- 읽기에도 좋고, 용량도 excel 파일보다 작고, 콤마로 구분되어서 사용하기 편하거나 전처리하기 좋다\n",
        "- python -> excel -> python"
      ],
      "metadata": {
        "id": "ZIBPaUGN_gHV"
      }
    },
    {
      "cell_type": "code",
      "source": [
        "import csv\n",
        "import os   \n",
        "\n",
        "# 경로 지정\n",
        "os.chdir('/content/sample_data')\n",
        "\n",
        "f = open('test.csv', 'r', encoding = 'utf-8')\n",
        "new = csv.reader(f)\n",
        "# print(new)  # 준비 끝\n",
        "\n",
        "# csv 파일 출력하기\n",
        "a_list = []\n",
        "for i in new:\n",
        "    a_list.append(i)\n",
        "print(a_list)"
      ],
      "metadata": {
        "id": "OMdphAAo_oUV"
      },
      "execution_count": null,
      "outputs": []
    },
    {
      "cell_type": "code",
      "source": [
        "# 함수화 하기\n",
        "def opencsv(filename):\n",
        "    f = open(filename, 'r')\n",
        "    reader = csv.reader(f)\n",
        "    output = []\n",
        "    for i in reader:\n",
        "        output.append(i)\n",
        "    return output\n",
        "    \n",
        "opencsv('test.csv')"
      ],
      "metadata": {
        "id": "w-kMvLHOB06B"
      },
      "execution_count": null,
      "outputs": []
    },
    {
      "cell_type": "code",
      "source": [
        "a = [['구', '전체', '내국인', '외국인'], \n",
        "     ['관악구','519864','502089','17775'], \n",
        "     ['강남구','547602','542498','5104'], \n",
        "     ['송파구','686181', '679247', '6934'], \n",
        "     ['강동구','428547','424235','4312']]\n",
        "\n",
        "# 새로운 데이터 읽기\n",
        "f = open('abc.csv', 'w', newline = '')\n",
        "new_csv = csv.writer(f, delimiter = ',')\n",
        "new_csv.writerows(a)    # a 자료를 csv파일에 넣기\n",
        "f.close()"
      ],
      "metadata": {
        "id": "8nyDgrQYFItw"
      },
      "execution_count": null,
      "outputs": []
    },
    {
      "cell_type": "code",
      "source": [
        "# 함수화 하기\n",
        "def writecsv(filename, list):\n",
        "    with open(filename, 'w', newline = '') as f:\n",
        "        a = csv.writer(f, delimiter = ',')\n",
        "        a.writerows(list)\n",
        "\n",
        "writecsv('new_abc.csv', a)"
      ],
      "metadata": {
        "id": "_2Bh32-IF_KL"
      },
      "execution_count": null,
      "outputs": []
    }
  ]
}