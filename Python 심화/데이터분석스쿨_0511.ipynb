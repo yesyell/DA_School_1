{
  "nbformat": 4,
  "nbformat_minor": 0,
  "metadata": {
    "colab": {
      "private_outputs": true,
      "provenance": [],
      "collapsed_sections": [
        "u3_FEqYqq9Ue"
      ],
      "authorship_tag": "ABX9TyMbjzbNpngC6tltbFzgSZsg",
      "include_colab_link": true
    },
    "kernelspec": {
      "name": "python3",
      "display_name": "Python 3"
    },
    "language_info": {
      "name": "python"
    }
  },
  "cells": [
    {
      "cell_type": "markdown",
      "metadata": {
        "id": "view-in-github",
        "colab_type": "text"
      },
      "source": [
        "<a href=\"https://colab.research.google.com/github/yesyell/DA_School_1/blob/main/Python%20%EC%8B%AC%ED%99%94/%EB%8D%B0%EC%9D%B4%ED%84%B0%EB%B6%84%EC%84%9D%EC%8A%A4%EC%BF%A8_0511.ipynb\" target=\"_parent\"><img src=\"https://colab.research.google.com/assets/colab-badge.svg\" alt=\"Open In Colab\"/></a>"
      ]
    },
    {
      "cell_type": "markdown",
      "source": [
        "## 텍스트 파일 가공하기"
      ],
      "metadata": {
        "id": "5F5WST_WLqh7"
      }
    },
    {
      "cell_type": "markdown",
      "source": [
        "파일 입출력\n",
        "\n",
        "우리는 파일을 읽고 쓰는 것 없이 데이터 분석을 할 수 없습니다.\n",
        "당연히 코딩을 하기 위해서는 데이터를 불러와야하고, 데이터를 분석한 후에는 결과물을 저장 해야합니다.\n",
        "예를 들어 문서가 어디에 있는지, 텍스트 파일이냐 CSV파일이냐에 따라 읽어드리는 방식이 다르고,\n",
        "저장하는 방식에 따라 향후 데이터를 또 어떻게 불어와야할지가 다릅니다.\n",
        "다른 사람이 저장해놓은 것을 그대로 읽을수도 있습니다."
      ],
      "metadata": {
        "id": "q--Nts9HR0bV"
      }
    },
    {
      "cell_type": "code",
      "source": [
        "# 파일의 현재 위치 확인\n",
        "\n",
        "import os\n",
        "os.getcwd()"
      ],
      "metadata": {
        "id": "ib5X1UtkLyst"
      },
      "execution_count": null,
      "outputs": []
    },
    {
      "cell_type": "code",
      "source": [
        "# 폴더(경로) 이동하기\n",
        "\n",
        "os.chdir('/content/sample_data')\n",
        "os.getcwd()"
      ],
      "metadata": {
        "id": "5ev6XHOsMeI7"
      },
      "execution_count": null,
      "outputs": []
    },
    {
      "cell_type": "code",
      "source": [
        "# 폴더 안에 어떤 파일이 있는지 확인하기\n",
        "\n",
        "os.listdir()"
      ],
      "metadata": {
        "id": "2bBFpwV1NJ-6"
      },
      "execution_count": null,
      "outputs": []
    },
    {
      "cell_type": "code",
      "source": [
        "list_dir = os.listdir()\n",
        "print(list_dir)"
      ],
      "metadata": {
        "id": "iw9DdVZ4Nb5b"
      },
      "execution_count": null,
      "outputs": []
    },
    {
      "cell_type": "code",
      "source": [
        "# 파일 열고 쓰기\n",
        "\n",
        "f = open('a.txt', 'w')\n",
        "f.write('안녕하세요')\n",
        "f.close()"
      ],
      "metadata": {
        "id": "nP1AE7uCNhbJ"
      },
      "execution_count": null,
      "outputs": []
    },
    {
      "cell_type": "code",
      "source": [
        "# 파일 읽기\n",
        "\n",
        "f = open('a.txt', 'r')\n",
        "f.read()"
      ],
      "metadata": {
        "id": "we-XMppcNsTg"
      },
      "execution_count": null,
      "outputs": []
    },
    {
      "cell_type": "code",
      "source": [
        "f.read()    # 커서가 다음으로 가있어서 아무것도 나오지 않음 "
      ],
      "metadata": {
        "id": "AA25nmr2N_nv"
      },
      "execution_count": null,
      "outputs": []
    },
    {
      "cell_type": "code",
      "source": [
        "f.seek(0)   # 커서를 초기화해서 0번쨰 가져옴\n",
        "f.read()\n",
        "f.close()"
      ],
      "metadata": {
        "id": "q-5PW1QYOMI5"
      },
      "execution_count": null,
      "outputs": []
    },
    {
      "cell_type": "code",
      "source": [
        "# 만약에 읽기모드로 없는 파일을 생성하려고 한다면?\n",
        "\n",
        "# f = open('b.txt', 'r')  # 읽기는 이미 있다는 것을 전제로 한다."
      ],
      "metadata": {
        "id": "DAVJAaFtOV7t"
      },
      "execution_count": null,
      "outputs": []
    },
    {
      "cell_type": "code",
      "source": [
        "f = open('a.txt', 'a') # 텍스트 추가 모드\n",
        "f.write('추가되는 문장이에요')\n",
        "f.close()"
      ],
      "metadata": {
        "id": "EJQpjfX-O3Jx"
      },
      "execution_count": null,
      "outputs": []
    },
    {
      "cell_type": "code",
      "source": [
        "f = open('a.txt', 'r')\n",
        "f.read()\n",
        "f.close()"
      ],
      "metadata": {
        "id": "hpcfjjZTO82h"
      },
      "execution_count": null,
      "outputs": []
    },
    {
      "cell_type": "code",
      "source": [
        "# with문으로 객체를 만들지 않고 파일 출력하기\n",
        "# 파일을 지우려고 하면 파일이 열려있어 꼭 close로 닫은 후에 지워야함\n",
        "# 계속 열고닫고 하면 번거로울수 있음\n",
        "\n",
        "with open('test.txt', 'w') as f:\n",
        "    f.write('테스트 중입니다.')"
      ],
      "metadata": {
        "id": "NlT7TpNoPMBg"
      },
      "execution_count": null,
      "outputs": []
    },
    {
      "cell_type": "code",
      "source": [
        "# 한글파일의 사용은 약간 자제하기는 하지만 사용할때가 종종 있습니다.\n",
        "# 만약 한글 파일로 된 오류가 떳을때나 인코딩오류가 났을때\n",
        "import codecs \n",
        "\n",
        "f = codecs.open('한글파일.txt', 'w', 'utf-8')\n",
        "f.write('한글 파일입니다.')\n",
        "f.close()"
      ],
      "metadata": {
        "id": "jqc_pt5VPbRK"
      },
      "execution_count": null,
      "outputs": []
    },
    {
      "cell_type": "markdown",
      "source": [
        "## 문자열"
      ],
      "metadata": {
        "id": "8vmnPlIZQwTD"
      }
    },
    {
      "cell_type": "code",
      "source": [
        "## 문자열 연결 - Join\n",
        "\n",
        "# \"구분 문자\".join([문자열1, 문자열2, 문자열3])\n",
        "# 문자열에서는 문자열 리스트를 특정한 문자로 연결하는 join 메서드를 제공합니다.\n",
        "# 공백으로 연결하거나, 쉼표로 연결할 수 있어요\n",
        "\n",
        "text_list = ['Hello', 'World', 'Python']\n",
        "text = ' '.join(text_list)\n",
        "print(text)"
      ],
      "metadata": {
        "id": "GQTMIgacQy4E"
      },
      "execution_count": null,
      "outputs": []
    },
    {
      "cell_type": "code",
      "source": [
        "## 문자열 치환 - Replace\n",
        "\n",
        "text1 = 'Simple is Best Plan'\n",
        "text2 = text1.replace(' ','__',2) \n",
        "print(text1)\n",
        "print(text2)"
      ],
      "metadata": {
        "id": "b4mk8H-lRGFZ"
      },
      "execution_count": null,
      "outputs": []
    },
    {
      "cell_type": "code",
      "source": [
        "## 문자열 포함 여부 확인\n",
        "## 대소문자 구분 변환\n",
        "\n",
        "# in은 리스트나 set에 특정요소가 포함되었는지를 판정합니다. \n",
        "# 문자열에서 사용하면 특정 문자열의 포함여부를 판정할 수 있고 bool로 반환합니다.\n",
        "# 이때 영문인 경우 대소문자를 꼭 점검해야합니다.\n",
        "\n",
        "text = \"Simple is Best\"\n",
        "\n",
        "\"simple\" in text.lower()\n",
        "\"SIMPLE\" in text.upper()"
      ],
      "metadata": {
        "id": "OqLB0xbVXBQc"
      },
      "execution_count": null,
      "outputs": []
    },
    {
      "cell_type": "code",
      "source": [
        "## 문자열 일부 추출\n",
        "\n",
        "# 문자열은 시퀀스 이므로 인덱스를 지정해 문자를 추출할 수 있습니다.\n",
        "# 이때 가장 마지막 문자는 -1로 불러올 수 있습니다."
      ],
      "metadata": {
        "id": "SmFHAuwCYzQt"
      },
      "execution_count": null,
      "outputs": []
    },
    {
      "cell_type": "code",
      "source": [
        "## 문자열 공백 처리\n",
        "\n",
        "# strip 함수를 사용하여 공백을 제거할 수 있습니다.\n",
        "# 앞뒤의 공백을 제거할 수 있습니다.\n",
        "\n",
        "text = ' abcdefg '\n",
        "\n",
        "stripped = text.strip()\n",
        "print('*'+ stripped +'*')\n",
        "\n",
        "#오른쪽 공백 제거 \n",
        "r_stripped = text.rstrip()\n",
        "print(r_stripped)\n",
        "\n",
        "#왼쪽 공백 제거 \n",
        "l_stripped = text.lstrip()\n",
        "print(l_stripped)"
      ],
      "metadata": {
        "id": "-0zcKJCuY4XN"
      },
      "execution_count": null,
      "outputs": []
    },
    {
      "cell_type": "code",
      "source": [
        "## 문자열을 구분자로 분리하기\n",
        "\n",
        "# split 을 사용하면 지정한 구분 문자로 문자열을 분할한 리스트를 얻을 수 있습니다.\n",
        "# 문장에 있는 모든 단어를 가져오고 싶을때\n",
        "\n",
        "text = \"Time is Zero. Simple is Best\"\n",
        "l = text.split(\" \")\n",
        "print(l)"
      ],
      "metadata": {
        "id": "E0azo6STZClt"
      },
      "execution_count": null,
      "outputs": []
    },
    {
      "cell_type": "code",
      "source": [
        "## 문자열을 0으로 채우기\n",
        "\n",
        "# zfill 메서드를 사용하면 인수로 지정한 길이가 되도록 0으로 채웁니다.\n",
        "\n",
        "# CSV 데이터를 읽어들일때; 문자 -> 숫자 -> 문자로 받을때의 문제점\n",
        "# 고객식별자 / 고객정보 / Key\n",
        "# '00000002' -> 92 김진환 - '00000092' 데이터 분석가\n",
        "# SQL / Python -> CSV\n",
        "\n",
        "num = 92\n",
        "num_str = \"92\"\n",
        "zfilled = num_str.zfill(6)\n",
        "print(zfilled, type(zfilled))"
      ],
      "metadata": {
        "id": "mnSk1upeZwZO"
      },
      "execution_count": null,
      "outputs": []
    },
    {
      "cell_type": "code",
      "source": [
        "## 특정 문자열 포함 행만 추출하기\n",
        "\n",
        "# 문자열의 split과 리스트 컴프리핸션을 사용하면 특정 문자열을 포함하는 행만 추출 가능\n",
        "\n",
        "text = \"\"\"저는 김철수 입니다.\n",
        "        반갑습니다. 저는 데이터 분석가 입니다.\n",
        "        데이터로 일하는 것은 즐거운 일인데\n",
        "        더 열심히 배우겟습니다. 감사합니다. \"\"\"\n",
        "\n",
        "# 1. split을 사용하여 텍스트를 줄바꿈, 1행씩 리스트로 얻을 수 있음\n",
        "lines = text.split(\"\\n\")\n",
        "# 2. 리스트 컴프리핸션을 사용하여 특정 문자열을 포함하는 행 추출\n",
        "line_list = [line.strip() for line in lines if \"데이터\" in line]\n",
        "# 3. 원래 텍스트로부터 특정한 문자열을 포함하는 행만 추출한 텍스트를 만들 수 있다.\n",
        "new_text = \"\\n\".join(line_list)\n",
        "print(new_text)"
      ],
      "metadata": {
        "id": "ZkCU-tTzc5Js"
      },
      "execution_count": null,
      "outputs": []
    },
    {
      "cell_type": "code",
      "source": [
        "## 텍스트의 빈 행 삭제하기\n",
        "\n",
        "text = \"\"\"저는 김철수 입니다.\n",
        "\n",
        "        반갑습니다. 저는 데이터 분석가 입니다.\n",
        "\n",
        "        데이터로 일하는 것은 즐거운 일인데\n",
        "        \n",
        "        더 열심히 배우겟습니다. 감사합니다. \"\"\"\n",
        "\n",
        "lines = text.split(\"\\n\")\n",
        "line_list = [line.strip() for line in lines if line.strip()]\n",
        "new_text = \"\\n\".join(line_list)\n",
        "print(new_text)"
      ],
      "metadata": {
        "id": "5cF-g57JeJIb"
      },
      "execution_count": null,
      "outputs": []
    },
    {
      "cell_type": "code",
      "source": [
        "## 무작위로 문자열 생성하기\n",
        "import random \n",
        "\n",
        "letters = 'abcdefg'\n",
        "rl = random.choices(letters, k = 4)\n",
        "print(rl)"
      ],
      "metadata": {
        "id": "smJv3etRgBl5"
      },
      "execution_count": null,
      "outputs": []
    },
    {
      "cell_type": "markdown",
      "source": [
        "# 정규표현식"
      ],
      "metadata": {
        "id": "hRkp7-Pilv-_"
      }
    },
    {
      "cell_type": "markdown",
      "source": [
        "[우리가 자주 사용할 함수]\n",
        "\n",
        "* findall - 일치하는 문자열을 리스트로 반환\n",
        "* split - 일치하는 문자열로 원래 문자열을 분할한 리스트로 반환\n",
        "* sub - 일치하는 문자열을 치환한 문자열을 반환\n",
        "* search - 일치하는 문자열이 있으면 match 객체를 반환\n",
        "\n",
        "[대표적인 정규표현식]\n",
        "\n",
        "- . 줄바꿈 이외의 임의의 모든 문자\n",
        "- ... 줄바꿈 이외의 임의의 3문자 \n",
        "- ^ 문자열의 시작\n",
        "- ^... 문자열 시작에서 3문자 \n",
        "- \\$ 문자열의 끝 또는 줄바꿈 직전\n",
        "- \\...$ 문자열 끝에서 3문자 \n",
        "- \\* 직전 정규표현식을 0회 이상 반복\n",
        "- ab*c abc또는 ac에 일치\n",
        "- \\+ 직전 정규표현식을 1회 이상 반복\n",
        "- ab+c abc에 일치\n",
        "- ? 직전 정규표현식이 0~1회 존재\n",
        "- abcd? abc또는 abcd에 일치\n",
        "- | 둘중 하나\n",
        "- ab|cd ab또는 cd에 일치\n",
        "\n",
        "- (...) 소괄호 안을 그루핑\n",
        "- [...] 대괄호 안의 문자 중 하나\n",
        "- [^...] 대괄호 안의 문자 중 하나도 없음\n",
        "- x(ab|cd) x로 시작해 ab또는 cd에 일치 (ab|cd 그룹)\n",
        "- \\ 직후 정규표션식 기호 무시\n",
        "- \\\\\\ \\에 일치\n",
        "- {n} 직전 정규표현식의 반복 횟수\n",
        "- {n,} 직전 정규표현식의 최소 반복 횟수\n",
        "- {n,m} 직전 정규표현식의 반복 횟수 범위\n",
        "- A{3} A가 3회 반복되면 일치\n",
        "- A{3, }A가 3회 이상 반복되면 일치\n",
        "- A{3, 6}A가 3~6회 이상 반복되면 일치\n",
        "\n",
        "[자주 사용하는 문자 클래스]\n",
        "\n",
        "**# 꼭 기억해야할 정규표현식**\n",
        "* \\d 숫자와 매치 [0-9]와 같다.\n",
        "* \\D 숫자가 아닌것과 매치 [^0-9]와 같다.\n",
        "\n",
        "* \\s whitespace문자와 매치 [ \\t\\n\\r\\f\\v]와 같음. 맨앞의 빈칸은 공백을 의미\n",
        "* \\S whitespace문자가 아닌것과 매치 [^ \\t\\n\\r\\f\\v]와 같음.\n",
        "\n",
        "* \\w 문자+숫자와 매치 [a-zA-Z0-9]와 같습니다.\n",
        "* \\W 문자+숫자가 아닌 문자와 매치 [^a-zA-Z0-9]와 같습니다.\n",
        "\n",
        "* \\ 메타 문자가 아닌 일반 문자 역슬래시와 매치. 매타 문자 앞에 W를 붙이면 일반문자를 의미\n"
      ],
      "metadata": {
        "id": "jRs0rMwUGWi_"
      }
    },
    {
      "cell_type": "code",
      "source": [
        "# 정규표현식 사용하기\n",
        "import re"
      ],
      "metadata": {
        "id": "5MYhl_GQlkjV"
      },
      "execution_count": null,
      "outputs": []
    },
    {
      "cell_type": "code",
      "source": [
        "# findall 함수\n",
        "# 지정한 조건에 일치하는 문자열을 리스트로 얻을 수 있다.\n",
        "\n",
        "# re.함수(r) -> raw문자열이라고 \n",
        "# 이스케이프가 필요한 메타 문자를 무시하는 효과가 있음\n",
        "# 사용할 때는 앞에 r을 붙이는것이 좋음\n",
        "\n",
        "text = \"In the face of ambiguity, refuse the temptation to guess\"\n",
        "match_list = re.findall(r\"t..\", text)\n",
        "print(match_list)"
      ],
      "metadata": {
        "id": "7x-Es5-CodC3"
      },
      "execution_count": null,
      "outputs": []
    },
    {
      "cell_type": "code",
      "source": [
        "text2 = \"tx ti t1 t2 t# t- t~\"\n",
        "re.findall(r\"t.\", text2)"
      ],
      "metadata": {
        "id": "cA7j0VProu3x"
      },
      "execution_count": null,
      "outputs": []
    },
    {
      "cell_type": "code",
      "source": [
        "# sub 함수\n",
        "# 정규표현식으로 치환할 수 있다.\n",
        "\n",
        "text = \"Beautiful is better than ugly\"\n",
        "# sub(대체해야 할 문자/대체할 문자/데이터)\n",
        "replaced = re.sub(r\"\\s\", \"_\", text, 2)     # 공백문자는 \\s로도 쓰입니다.\n",
        "print(replaced)"
      ],
      "metadata": {
        "id": "r90kOqykpJlY"
      },
      "execution_count": null,
      "outputs": []
    },
    {
      "cell_type": "code",
      "source": [
        "# split 함수\n",
        "# 정규 표현식에 일치한 위치에서 분할한 문자열 리스트를 얻을 수 있다.\n",
        "\n",
        "text = 'Simple is Best'\n",
        "# ^ : 문자의 시작 \n",
        "# + : 직전 정규표현식을 1회이상 반복\n",
        "replaced = re.split(r\"[^a-zA-Z0-9]+\", text)  # replaced = re.split(r\" \", text)\n",
        "print(replaced)\n",
        "\n",
        "# [^a-zA-Z0-9]+는 정규 표현식(regular expression)에서 사용되는 특수한 패턴으로, \n",
        "# 알파벳 대소문자와 숫자가 아닌 문자들이 하나 이상 연속해서 나타나는 경우를 의미합니다.\n",
        "# 결국 공백을 구분자로 해서 분리"
      ],
      "metadata": {
        "id": "pHpKgh1DqCmA"
      },
      "execution_count": null,
      "outputs": []
    },
    {
      "cell_type": "code",
      "source": [
        "# 정규표현식의 그룹\n",
        "# 데이터 분석이나 ETL 도구 구현 등에서 자주 사용하는 기능으로 원하는 객체를 그루핑할 수 있다는 장점이 있다.\n",
        "\n",
        "# 제품 [0-9]+\n",
        "# 카탈로그 코드 [0-9A-Z]+\n",
        "# 제품명 .*\n",
        "# 구분 문자 공백\n",
        "# ([0-9]+) +([ 0-9 A-Z]+) +(.*)\n",
        "\n",
        "text = \"\"\"\n",
        "101 CF001 커피 \n",
        "102 CF002 커피(대용량)\n",
        "201 TE01 홍차\n",
        "202 TE02 홍차(대용량)\n",
        "\"\"\"\n",
        "# group 1 \n",
        "# group 2\n",
        "# group 3\n",
        "items = re.findall(r'([0-9]+) +([ 0-9 A-Z]+) +(.*)', text)\n",
        "print(items)"
      ],
      "metadata": {
        "id": "HQmvUzGyrVlw"
      },
      "execution_count": null,
      "outputs": []
    },
    {
      "cell_type": "code",
      "source": [
        "# search 함수\n",
        "# 정규표현식과 일치하는 부분 확인\n",
        "\n",
        "# re 모듈의 serach 함수는 정규표현식과 일치하는 첫 번째 위치 정보가 저장된 Match 객체를 반환\n",
        "# match 객체를 사용하면 일치하는 위치의 문자열과 함께 시작 및 종료 위치 정보 확보 가능\n",
        "\n",
        "# match 객체\n",
        "# start, end, group, groups 튜플 그룹\n",
        "\n",
        "text = 'Error should never pass silently'\n",
        "m_obj = re.search(r\"p...\", text)\n",
        "print(m_obj.group()) # 일치 문자열 ()로 묶인 것인 없음\n",
        "# print(m_obj.start()) # 시작 인덱스\n",
        "# print(m_obj.end())   # 끝 인덱스 \n",
        "\n",
        "# 1번 그룹 - n.... n다음에 4글자가 아무거나\n",
        "# 2번 그룹 - P... n다음에 3글자가 아무거나\n",
        "m_obj = re.search(r\"(n....) (p...)\", text)\n",
        "print(m_obj.group())\n",
        "print(m_obj.groups())\n",
        "# print(m_obj.start()) \n",
        "# print(m_obj.end())   "
      ],
      "metadata": {
        "id": "CbpfU-2bCOvt"
      },
      "execution_count": null,
      "outputs": []
    },
    {
      "cell_type": "code",
      "source": [
        "# Greedy, Lazy 사용하기\n",
        "# greedy(탐욕): 정규표현식이 패턴에 일치하는 문자열을 추출할때 일치하는 최대한의 범위를 추출하는 상태\n",
        "# 최소한은 Lazy라고 하는데 파이썬은 기본적으로 greedy하지만 ?를 붙이는 순간 Lazy해진다. \n",
        "\n",
        "text = 'In the face of ambiguity, refuse the temptation to guess'\n",
        "match_list = re.findall(r\"t.*\\s\", text) # t에서 아무문자나 해서 직전까지 0번 반복되어 공백까지\n",
        "print(match_list)\n",
        "\n",
        "# ?를 붙이면 t에서 가장 가까운 공백까지만 일치하는 것을 찾는 것을 볼 수 있음\n",
        "match_list = re.findall(r\"t.*?\\s\", text) \n",
        "print(match_list)"
      ],
      "metadata": {
        "id": "hVKqeBwmDe3a"
      },
      "execution_count": null,
      "outputs": []
    },
    {
      "cell_type": "markdown",
      "source": [
        "## 실습"
      ],
      "metadata": {
        "id": "nGLmc5PSGlOz"
      }
    },
    {
      "cell_type": "markdown",
      "source": [
        "### 주소록"
      ],
      "metadata": {
        "id": "u3_FEqYqq9Ue"
      }
    },
    {
      "cell_type": "code",
      "source": [
        "# 주소록입니다. 이후 강의에서 모두 이 search_target을 사용합니다.\n",
        "\n",
        "search_target = '''\n",
        "hello world\n",
        "hello  world\n",
        "hello, world\n",
        "Hello World\n",
        "\n",
        "hello world hello\n",
        "\n",
        "hello\n",
        "hallo\n",
        "hollo\n",
        "heallo\n",
        "yellow\n",
        "\n",
        "Monday Tuesday Wednesday Thursday Friday Saturday Sunday\n",
        "\n",
        "abcdefghijklmnopqrstuvwxyzABCDEFGHIJKLMNOPQRSTUVWXYZ01234567891011121314151617181920\n",
        "aaabbcaaabbcabcabc\n",
        "aaa bb c aaa bb c a b c a b c\n",
        "aaa1bb2c3aaa4bb5c6\n",
        "\n",
        "[123456]\n",
        "123[456]789\n",
        "abc[def]ghij\n",
        "\n",
        "010-9091-5491\n",
        "010-5043-2901\n",
        "010-5050-40409\n",
        "010-49492-3131\n",
        "010 2913 3132\n",
        "01019133829\n",
        "064-721-3213\n",
        "010.1913.3829\n",
        "\n",
        "\n",
        "paul-korea@naver.com\n",
        "paul@naver.com\n",
        "leehojun@gmail.com\n",
        "hojun.lee@gmail.com\n",
        "test.test@go.go.go\n",
        "\n",
        "\n",
        "https://github.com/LiveCoronaDetector/livecod\n",
        "github.com/LiveCoronaDetector/livecod\n",
        "https://github.com/LiveCoronaDetector\n",
        "\n",
        "I never dreamed about success, I worked for it.\n",
        "Do not be afraid to give up the good to go for the great.\n",
        "\n",
        "hello (hello world) hello\n",
        "hello \\\\hello world// hello\n",
        "^^\n",
        ":)\n",
        "\n",
        "[(name, leehojun), (age, 10), (height, 180), (email, paul-lab@naver.com)]\n",
        "{name : leehojun, age : 10, height : 180, email : paul-lab@naver.com}\n",
        "\n",
        "가나다라마바사아자차카타파하\n",
        "ㄱㄴㄷㄹㅁㅂㅅㅇㅈㅊㅋㅌㅍㅎ\n",
        "안녕_하세요\n",
        "안녕-하세요\n",
        "수사\n",
        "수박\n",
        "수상\n",
        "동해 물과 백두산이 마르고 닳도록 하느님이 보호하사 우리나라 만세\n",
        "'''"
      ],
      "metadata": {
        "id": "Z7ay2PyAHeZ7"
      },
      "execution_count": null,
      "outputs": []
    },
    {
      "cell_type": "markdown",
      "source": [
        "### 문제"
      ],
      "metadata": {
        "id": "aABMhVtBrEFJ"
      }
    },
    {
      "cell_type": "code",
      "source": [
        "def result(regex):\n",
        "    result = re.findall(regex, search_target)\n",
        "    print(\"\\n\".join(result))"
      ],
      "metadata": {
        "id": "d8BHm7uROGJb"
      },
      "execution_count": null,
      "outputs": []
    },
    {
      "cell_type": "code",
      "source": [
        "# 캐릭터 클래스\n",
        "regex = r'\\d'   # 숫자\n",
        "regex2 = r'\\D'   # 숫자가 아닌것\n",
        "\n",
        "regex3 = r'\\w'   # 문자+숫자 \n",
        "regex4 = r='\\W'  # 문자+숫자가 아닌것 \n",
        "\n",
        "regex5 = r'\\s'   # 공백\n",
        "regex6 = r='\\S'  # 공백이 아닌것 \n",
        "\n",
        "result = re.findall(regex, search_target)\n",
        "print(\" \".join(result))"
      ],
      "metadata": {
        "id": "rzZ1vwztIVS0"
      },
      "execution_count": null,
      "outputs": []
    },
    {
      "cell_type": "code",
      "source": [
        "# 맨 처음에 와야하는 것 ^\n",
        "m1 = re.findall(r\"^Life\", \"Life is too short\")\n",
        "m2 = re.findall(\"^is\", \"Life is too short\")\n",
        "\n",
        "print(\"m1 결과 : \", m1)\n",
        "print(\"m2 결과 : \", m2)"
      ],
      "metadata": {
        "id": "9Uwo0UiSMp7e"
      },
      "execution_count": null,
      "outputs": []
    },
    {
      "cell_type": "code",
      "source": [
        "# 맨 마지막에 와야하는 것 $\n",
        "m1 = re.findall(\"short$\", \"Life is too short\")\n",
        "m2 = re.findall(\"short$\", \"Life is too short. So what?\")\n",
        " \n",
        "print(\"m1 결과 : \", m1)\n",
        "print(\"m2 결과 : \", m2)"
      ],
      "metadata": {
        "id": "RboyE2RYNCVw"
      },
      "execution_count": null,
      "outputs": []
    },
    {
      "cell_type": "code",
      "source": [
        "regex = re.compile('ema.l')   # 특정문자 1개 . \n",
        "# regex = re.compile('......')  # 특정문자 6개 .(공백포함) \n",
        "result(regex)"
      ],
      "metadata": {
        "id": "lOizfpX4NMLN"
      },
      "execution_count": null,
      "outputs": []
    },
    {
      "cell_type": "code",
      "source": [
        "# 여러가지 중에 택1 해서 찾기\n",
        "regex = re.compile(r'h[aeyo]llo')\n",
        "regex = re.compile(r'h[a-f]l..', re.I)  # a-f 사이 중 1개, I 대소문자 구분 X\n",
        "# regex = re.compile(r'[^a-zA-Z0-9가-힣ㄱ-ㅎ]')   # 대괄호 안에 ^ 있다면 not 의미 \n",
        "result(regex)"
      ],
      "metadata": {
        "id": "uOvyIUJPOrSk"
      },
      "execution_count": null,
      "outputs": []
    },
    {
      "cell_type": "code",
      "source": [
        "# 서브패턴\n",
        "\n",
        "# 소괄호를 사용하면 정규식 일부 패턴을 그룹화 할 수 있습니다.\n",
        "# 이 정규식 그룹은 그룹 캡처기능이라고 불리는데\n",
        "# 정규식 그룹은 번호가 매겨진 캡처그룹을 생성하고, 괄호안에 정규식 부분과 일치하는 문자열을 저장합니다.\n",
        "# 그 캡처 번호를 사용하여 문자열 부분을 불러와 사용할 수 있습니다. \n",
        "\n",
        "regex = re.compile('(on|ues|rida)') # 그룹 1로 3개 중 매칭되는 패턴\n",
        "result(regex)   # 그룹 안에 매칭이 된 것만 출력이 되는 형태"
      ],
      "metadata": {
        "id": "tb_omR2nQsXY"
      },
      "execution_count": null,
      "outputs": []
    },
    {
      "cell_type": "code",
      "source": [
        "# 주의할점은 캡처에 정규식 패턴이 저장된다고 착각할 수 있지만 \n",
        "# 캡처는 패턴으로 찾은 문자열을 저장한다. \n",
        "regex1 = re.compile('(Mon|Tues|Fri)day')\n",
        "regex2 = re.compile('(?:Mon|Tues|Fri)day')  # ?:는 그룹이지만 캡처를 저장하지 않음 \n",
        "result(regex1)\n",
        "result(regex2)"
      ],
      "metadata": {
        "id": "SxoMNpVKSBNo"
      },
      "execution_count": null,
      "outputs": []
    },
    {
      "cell_type": "code",
      "source": [
        "text = \"tomato potato\"\n",
        "p1 = \"(tom|pot)ato\"    # 그룹으로 묶인건 그 단어 (tom|pot)을 출력\n",
        "p2 = \"(?:tom|pot)ato\"  # 그룹으로 묶이지 않은것은 캡처하지 않겠다고 매칭 tomato와 potato가 출력\n",
        "\n",
        "m1 = re.findall(p1, text)\n",
        "m2 = re.findall(p2, text)\n",
        "print(\"m1 결과: \", m1)\n",
        "print(\"m2 결과: \", m2)"
      ],
      "metadata": {
        "id": "mvNmNK2fV_Md"
      },
      "execution_count": null,
      "outputs": []
    },
    {
      "cell_type": "code",
      "source": [
        "# 수량자 휴대폰 번호 입력하기\n",
        "\n",
        "regex1 = re.compile('[0-9]{3}[-.* ][0-9]{3,5}[-.* ][0-9]{4}') \n",
        "# 대괄호 안에 있는 .은 모든 문자를 통칭하는 기능이 아닌 . 인 문자로 인식\n",
        "# 1. [0에서 9까지]{3개}[- 나 . 앞에 있는 문자 0~N개]\n",
        "# 2. [0에서 9까지]{4개}[- 나 . 앞에 있는 문자 0~N개]\n",
        "# 3. [0에서 9까지]{4개}[- 나 .]\n",
        "\n",
        "regex2 = re.compile('[0-9a-zA-Z]+@[0-9a-zA-Z]+.[a-zA-Z]+') \n",
        "# 1. [0에서 9까지 + 영문자]{+@}\n",
        "# 2. [0에서 9까지 + 영문자].\n",
        "# 3. [영문자_ 1개 이상]\n",
        "\n",
        "result(regex1)\n",
        "result(regex2)"
      ],
      "metadata": {
        "id": "TnovbvNwV9A4"
      },
      "execution_count": null,
      "outputs": []
    },
    {
      "cell_type": "code",
      "source": [
        "# 이스케이프 문자\n",
        "regex1 = re.compile('\\[.*]') # 대괄호([]) 안에 감싸여진 문자열 0~N개\n",
        "# re.findall(r'\\[.*\\]', search_target)\n",
        "\n",
        "# 이스케이프 문자를 사용할 필요가 없는 경우\n",
        "regex2 = re.compile('-.*-')  \n",
        "\n",
        "# 이스케이프 문자가 필요한 경우\n",
        "regex3 = re.compile('\\^\\^') \n",
        "regex4 = re.compile(':\\)') \n",
        "\n",
        "result(regex1)\n",
        "result(regex2)\n",
        "result(regex3)\n",
        "result(regex4)"
      ],
      "metadata": {
        "id": "WI8q0iOSbyYC"
      },
      "execution_count": null,
      "outputs": []
    },
    {
      "cell_type": "code",
      "source": [
        "example = '''앞서 논문은 이러한 연구를 진행하였습니다(홍길동, 2019).\n",
        "하지만 그런 것들을 개량하여 다음 논문이 나오게 되었고(임꺽정, 2020), \n",
        "마지막으로 두가지를 모두 결합한 새로운 연구가 개발되었습니다.(심청이, 2021)'''\n",
        "\n",
        "re.findall(r'\\([A-Za-z가-힣]+, \\d+\\)', example)"
      ],
      "metadata": {
        "id": "m8cYvVHfevcY"
      },
      "execution_count": null,
      "outputs": []
    },
    {
      "cell_type": "markdown",
      "source": [
        "[문자열 규칙에 r을 붙이는 이유]\n",
        "\n",
        "정규표현식에서 문자열을 사용할 때는 앞에 r을 붙이는 것을 추천 \n",
        "\n",
        "만약 문자열이 \\문자가 있다면 파이썬은 그 다음 문자를 그대로 인식하지 않고, 컴퓨터에 명령하기 위한 명령어로 인식합니다.\n",
        "\n",
        "그렇기 때문에 \\와 함께 사용하는 문자를 이스케이프문자라고 합니다.\n",
        "\n",
        "이스케이프 문자를 사용하고 싶지 않다면 \\앞에 \\를 하나 더 붙여서 \\를 일반문자로 인식시키면되고\n",
        "\n",
        "만약에 그렇게 하기 어렵다면 r을 붙이는 방법이 있다. r을 붙이면 그 뒤에 나오는 문자열에 들어 있는 문자를 모두 일반 문자로 인식합니다."
      ],
      "metadata": {
        "id": "li7t4WowhjT_"
      }
    },
    {
      "cell_type": "code",
      "source": [
        "# 정규표현식에서 .는 모든 문자를 의미하죠? \n",
        "# 그래서 필요한 문자 외에 다른 문자들도 집어삼켜버립니다.\n",
        "\n",
        "example = '저희 첫째아들은 2020년에 태어났구요. 저희 둘째 아들은 23년에 태어났는데 셋째는 26년에 가질 예정이에요'\n",
        "r1 = re.findall(r'\\d.+년', example)\n",
        "r2 = re.findall(r'\\d.+?년', example)\n",
        "r3 = re.findall(r'\\d+.년', example)\n",
        "print(r1)\n",
        "print(r2)\n",
        "print(r3)"
      ],
      "metadata": {
        "id": "ty_1UQFwgtm5"
      },
      "execution_count": null,
      "outputs": []
    },
    {
      "cell_type": "code",
      "source": [
        "sentence = '나는 집에 갔습니다. 그리고 밥은 먹었어요. 또 청소를 했어요. 그리고 잠을 잤어요.'\n",
        "re.split(r'[.]', sentence)"
      ],
      "metadata": {
        "id": "7i9jU4rsi5NE"
      },
      "execution_count": null,
      "outputs": []
    },
    {
      "cell_type": "code",
      "source": [
        "data = 'a:3;b:4;c:5'\n",
        "for i in re.split(r';', data):  # data.split(';')\n",
        "    print(i)\n",
        "    print(re.split(r':', i))"
      ],
      "metadata": {
        "id": "5HUG2h52jGwF"
      },
      "execution_count": null,
      "outputs": []
    },
    {
      "cell_type": "code",
      "source": [
        "sentence = '''나는 동물 키우는것을 좋아합니다. 그 중 강아지를 키우는데 이름은 꽃님이에요. 날씨가 화창한 날이면 꽃님이와 산책가고 싶어져요'''\n",
        "re.sub(r'꽃님이', '또리', sentence)"
      ],
      "metadata": {
        "id": "4XXPNdJ-jXKt"
      },
      "execution_count": null,
      "outputs": []
    },
    {
      "cell_type": "code",
      "source": [
        "# 만약에 다음과 같이 공백이 있으면 어떻게 처리하면 좋을까요 공백만 다 제거해도 좋을거같아요\n",
        "sentence = '\\n\\n 나는 동물 키우는것을 좋아합니다. \\n\\n 그 중 강아지를 키우는데 이름은 꽃님이에요. \\n\\n날씨가 화창한 날이면 꽃님이와 산책가고 싶어져요 \\n\\n'\n",
        "# 실제로 내가 띄워놓았던 공백을 제외하고는 모든 공백이 처리된것을 볼 수 있어요\n",
        "re.sub('\\n', '', sentence)"
      ],
      "metadata": {
        "id": "JE1-AM7NjenZ"
      },
      "execution_count": null,
      "outputs": []
    }
  ]
}