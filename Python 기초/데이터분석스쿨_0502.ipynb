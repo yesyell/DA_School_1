{
  "nbformat": 4,
  "nbformat_minor": 0,
  "metadata": {
    "colab": {
      "private_outputs": true,
      "provenance": [],
      "authorship_tag": "ABX9TyNpJ34mU/m4N6PQcyTkEWXB",
      "include_colab_link": true
    },
    "kernelspec": {
      "name": "python3",
      "display_name": "Python 3"
    },
    "language_info": {
      "name": "python"
    }
  },
  "cells": [
    {
      "cell_type": "markdown",
      "metadata": {
        "id": "view-in-github",
        "colab_type": "text"
      },
      "source": [
        "<a href=\"https://colab.research.google.com/github/yesyell/DA_School_1/blob/main/Python%20%EA%B8%B0%EC%B4%88/%EB%8D%B0%EC%9D%B4%ED%84%B0%EB%B6%84%EC%84%9D%EC%8A%A4%EC%BF%A8_0502.ipynb\" target=\"_parent\"><img src=\"https://colab.research.google.com/assets/colab-badge.svg\" alt=\"Open In Colab\"/></a>"
      ]
    },
    {
      "cell_type": "markdown",
      "source": [
        "#조건문"
      ],
      "metadata": {
        "id": "PB6vz9jZ0sME"
      }
    },
    {
      "cell_type": "markdown",
      "source": [
        "##단일 조건문"
      ],
      "metadata": {
        "id": "laDywhNV0t-h"
      }
    },
    {
      "cell_type": "markdown",
      "source": [
        "- 조건이 하나일 때 사용하는 조건문"
      ],
      "metadata": {
        "id": "lDfqI2te0rkF"
      }
    },
    {
      "cell_type": "code",
      "execution_count": null,
      "metadata": {
        "id": "YaLWzSnC0rJ8"
      },
      "outputs": [],
      "source": [
        "total = 5\n",
        "\n",
        "if total > 0:\n",
        "    print(f'{total}인이 입장하였습니다.')"
      ]
    },
    {
      "cell_type": "code",
      "source": [
        "# 숫자열 입력\n",
        "total = int(input('몇명이 들어왔나요?'))\n",
        "\n",
        "if total > 0:\n",
        "    print(f'{total}인이 입장하였습니다.')"
      ],
      "metadata": {
        "id": "GpDHGDh-1FuO"
      },
      "execution_count": null,
      "outputs": []
    },
    {
      "cell_type": "code",
      "source": [
        "# 문자열 입력\n",
        "weather = input('오늘 날씨는 어떤가요?')\n",
        "\n",
        "if weather != \"\":\n",
        "    print(f'오늘 날씨는 {weather}입니다.')"
      ],
      "metadata": {
        "id": "IP4Lbu5v1Vu1"
      },
      "execution_count": null,
      "outputs": []
    },
    {
      "cell_type": "code",
      "source": [
        "# 2개 이상 조건\n",
        "weather = input('오늘 날씨는 어떤가요?')\n",
        "temp = int(input('오늘 기온은 어떤가요?'))\n",
        "\n",
        "if weather != \"\" and temp >= 0:\n",
        "    print(f'오늘 날씨는 {weather}입니다. 오늘 기온은 {temp}입니다.')"
      ],
      "metadata": {
        "id": "FTzHgx8u13Ge"
      },
      "execution_count": null,
      "outputs": []
    },
    {
      "cell_type": "code",
      "source": [
        "job = input('직업이 있나요?')\n",
        "\n",
        "if job == '예':\n",
        "    print('직업이 있습니다.')"
      ],
      "metadata": {
        "id": "e6acGqKa2RaQ"
      },
      "execution_count": null,
      "outputs": []
    },
    {
      "cell_type": "markdown",
      "source": [
        "##다중 조건문"
      ],
      "metadata": {
        "id": "tBK3tJP04P4C"
      }
    },
    {
      "cell_type": "markdown",
      "source": [
        "**if-else : 조건이 2개인 경우**\n",
        "\n",
        "[주의] - else 사용 시 누락되는 조건이 없는지 확인해야함"
      ],
      "metadata": {
        "id": "2Xur0fCf4S60"
      }
    },
    {
      "cell_type": "code",
      "source": [
        "total = int(input('몇명이 들어왔나요?'))\n",
        "\n",
        "if total > 0:\n",
        "    print(f'{total}인이 입장하였습니다.')\n",
        "else:\n",
        "    print('잘못된 정보를 입력하였습니다.')"
      ],
      "metadata": {
        "id": "RfPJ5CMX3j2T"
      },
      "execution_count": null,
      "outputs": []
    },
    {
      "cell_type": "code",
      "source": [
        "weather = input('오늘 날씨는 어떤가요?')\n",
        "\n",
        "if weather != \"\":\n",
        "    print(f'오늘 날씨는 {weather}입니다.')\n",
        "else:\n",
        "    print('날씨가 입력되지 않았습니다.')"
      ],
      "metadata": {
        "id": "gXDPwiQd5Skr"
      },
      "execution_count": null,
      "outputs": []
    },
    {
      "cell_type": "markdown",
      "source": [
        "**if-elif-else : 조건이 3개 이상인 경우**"
      ],
      "metadata": {
        "id": "TKBWsFP65bPe"
      }
    },
    {
      "cell_type": "code",
      "source": [
        "total = int(input(\"몇명이 들어왔나요?\"))\n",
        "\n",
        "if total > 5:\n",
        "    print(f'{total} 명이 들어왔습니다. 많이 들어왔어요')\n",
        "elif total > 0 and total <= 5:\n",
        "    print(f'{total} 명이 들어왔습니다. 적게 들어왔어요')\n",
        "else:\n",
        "    print(\"잘못된 정보를 입력하였습니다.\")"
      ],
      "metadata": {
        "id": "lGm8Bgo85k48"
      },
      "execution_count": null,
      "outputs": []
    },
    {
      "cell_type": "code",
      "source": [
        "whether = input(\"오늘 날씨는 어떤가요?\")\n",
        "\n",
        "if whether == \"맑음\":\n",
        "    print(f'오늘 날씨는 {whether} 입니다. 옷을 얇게 입고 가세요.')\n",
        "elif whether == \"미세먼지\":\n",
        "    print(f'오늘 날씨는 {whether} 입니다. 마스크를 착용하세요.')\n",
        "else:\n",
        "    print(\"날씨가 입력되지 않았습니다.\")"
      ],
      "metadata": {
        "id": "iRnjB6XmYPpB"
      },
      "execution_count": null,
      "outputs": []
    },
    {
      "cell_type": "markdown",
      "source": [
        "## 삼항 연산자"
      ],
      "metadata": {
        "id": "mKJOfsbaApdv"
      }
    },
    {
      "cell_type": "markdown",
      "source": [
        "[사용방법]\n",
        "- 참일 때의 값 / if / 조건식 / else / 거짓일 때의 값\n",
        "- 변수로 바로 할당할 수 있음"
      ],
      "metadata": {
        "id": "qmqkIqAsAs2p"
      }
    },
    {
      "cell_type": "code",
      "source": [
        "age = 19\n",
        "\n",
        "# 참일 때의 값 / i / 조건식 / else / 거짓일 때의 값\n",
        "is_adult = '성인입니다.' if age > 20 else '미성년자입니다.'\n",
        "print(is_adult)"
      ],
      "metadata": {
        "id": "1WBkdw2v6Ssc"
      },
      "execution_count": null,
      "outputs": []
    },
    {
      "cell_type": "markdown",
      "source": [
        "## 중첩 조건문"
      ],
      "metadata": {
        "id": "Ml7XiIrxBSqE"
      }
    },
    {
      "cell_type": "markdown",
      "source": [
        "- if 안에 또 다른 if를 넣어서 다양한 case를 만족시키는 방법"
      ],
      "metadata": {
        "id": "yyH9QibZBXT9"
      }
    },
    {
      "cell_type": "code",
      "source": [
        "apple = input('사과의 상태를 입력하세요. (좋음, 나쁨)')\n",
        "\n",
        "if apple == '좋음':\n",
        "    appleprice = int(input('사과 한 개당 가격 입력'))\n",
        "    if appleprice < 1000:\n",
        "        print('10개를 산다.')\n",
        "        print(f'사과 가격은 {appleprice * 10} 원 입니다.')\n",
        "    else:\n",
        "        print('5개를 산다.')\n",
        "        print(f'사과 가격은 {appleprice * 5} 원 입니다.')\n",
        "else:\n",
        "    print('사과를 안산다.')"
      ],
      "metadata": {
        "id": "sOSr9sq3B8pI"
      },
      "execution_count": null,
      "outputs": []
    },
    {
      "cell_type": "code",
      "source": [
        "# True = 1 False 0\n",
        "if 0: # \"\"\n",
        "    print('0은 True로 변환합니다.')\n",
        "else:\n",
        "    print('0은 False로 변환합니다.')"
      ],
      "metadata": {
        "id": "RbZC3zaqCpo_"
      },
      "execution_count": null,
      "outputs": []
    },
    {
      "cell_type": "markdown",
      "source": [
        "##연습문제"
      ],
      "metadata": {
        "id": "KIguPn_tEBYE"
      }
    },
    {
      "cell_type": "code",
      "source": [
        "# 문제 1.\n",
        "\n",
        "# 1. 하나의 조건문에서 if는 한번만 사용할 수 있다.  # 거짓\n",
        "# 2. 하나의 조건문에서 elif는 여러번 사용할 수 있다.  # 참\n",
        "# 3. else문은 모든 조건을 만족하지 않을때 사용된다.  # 참\n",
        "# 4. else문은 생략할 수 없다.  # 거짓"
      ],
      "metadata": {
        "id": "tw9CpqO6D8ny"
      },
      "execution_count": null,
      "outputs": []
    },
    {
      "cell_type": "code",
      "source": [
        "# 문제 2.\n",
        "\n",
        "if 4 == '4':\n",
        "  print(True)\n",
        "else:\n",
        "  print(False)\n",
        "\n",
        "# 1. True\n",
        "# 2. False\n",
        "# 3. SyntaxError\n",
        "# 4. ValueError\n",
        "# 5. None"
      ],
      "metadata": {
        "id": "nv8z7NXwD4ri"
      },
      "execution_count": null,
      "outputs": []
    },
    {
      "cell_type": "code",
      "source": [
        "# 문제 3. 테킷 숙소에는 객실당 4인에 10만원을 내야하고,\n",
        "# 1인이 추가 될때마다 추가비용이 발생되는데 실행결과로 올바른것은?\n",
        "\n",
        "total = 2 # 총인원\n",
        "if total <= 4:\n",
        "  print(\"숙소비용 10만원\")\n",
        "else:\n",
        "  print(\"추가 비용 발생\")\n",
        "print(\"이용해 주셔서 감사합니다.\")\n",
        "\n",
        "# 1. 숙소비용 10만원\n",
        "#    추가비용 발생\n",
        "#    이용해 주셔서 감사합니다.\n",
        "\n",
        "# 2. 추가 비용 발생\n",
        "#    이용해주셔서 감사합니다. \n",
        "\n",
        "# 3. 추가 비용 발생\n",
        "#     \n",
        "\n",
        "# 4. 숙소비용 10만원\n",
        "#    이용해주셔서 감사합니다.   "
      ],
      "metadata": {
        "id": "3L_HV-pDEqAU"
      },
      "execution_count": null,
      "outputs": []
    },
    {
      "cell_type": "code",
      "source": [
        "# 문제 4. 다음 코드의 실행결과로 맞는 것은?\n",
        "# 입력된 나이에 따라 학교를 구분하는 조건문\n",
        "# 나이로 7을 입력했을때의 결과는?\n",
        "\n",
        "# year = input('나이를 입력하세요')  # error\n",
        "year = int(input('나이를 입력하세요'))\n",
        "\n",
        "if 1 <= year <= 7:\n",
        "  print(\"미취학 아동입니다.\")\n",
        "elif 8 <= year <= 13:\n",
        "  print(\"초등학생입니다.\")\n",
        "elif 14 <= year <= 16:\n",
        "  print(\"중학생입니다.\")\n",
        "elif 17 <= year <= 19:\n",
        "  print(\"고등학생입니다.\")\n",
        "elif 20 <= year <= 26:\n",
        "  print(\"대학생입니다.\")\n",
        "else:\n",
        "  print(\"정수를 입력해주세요\")\n",
        "\n",
        "# 1. 정수를 입력해주세요\n",
        "# 2. 대학생입니다.\n",
        "# 3. 중학생입니다.\n",
        "# 4. 미취학 아동입니다.\n",
        "# 5. error 발생"
      ],
      "metadata": {
        "id": "cNIJuPW_FbSB"
      },
      "execution_count": null,
      "outputs": []
    },
    {
      "cell_type": "code",
      "source": [
        "# 문제 6. 입력값과 결과값이 동일하게 나오려면 어떤 값을 입력해야 할까요?\n",
        "\n",
        "x = int(input())\n",
        "if 15 < x < 20:\n",
        "  print(x + 3)\n",
        "elif 21 < x < 30:\n",
        "  print(x - 5)\n",
        "else:\n",
        "  print(f'{x}입니다.')\n",
        "\n",
        "# 1. 26\n",
        "# 2. 17\n",
        "# 3. 10\n",
        "# 4. 20\n",
        "# 5. 30"
      ],
      "metadata": {
        "id": "Xc1TDt2_FIhU"
      },
      "execution_count": null,
      "outputs": []
    },
    {
      "cell_type": "code",
      "source": [
        "# 문제 7. 다음과 같이 코드를 작성했을때, 실행결과로 알맞은 것은?\n",
        "\n",
        "my_list = ['i','like','to','study','python']\n",
        "new_list = []\n",
        "\n",
        "i = len(my_list)\n",
        "if i == 5:\n",
        "  new_list.append(my_list[::2])   # 1. [['i','to','python']]\n",
        "#   new_list.append(my_list[0:2])   # 6. [['i', 'like']]\n",
        "#   new_list.extend(my_list[::2])   # 3. ['i','to','python']\n",
        "print(new_list)\n",
        "\n",
        "# 1. [['i','to','python']]\n",
        "# 2. [['like','study']]\n",
        "# 3. ['i','to','python']\n",
        "# 4. ['like','study']\n",
        "# 5. ['i','like']\n",
        "# 6. [['i', 'like']]\n",
        "# 7. None"
      ],
      "metadata": {
        "id": "OerhXtfMG1Mw"
      },
      "execution_count": null,
      "outputs": []
    },
    {
      "cell_type": "markdown",
      "source": [
        "##실습문제"
      ],
      "metadata": {
        "id": "-FXhvUsIOqyc"
      }
    },
    {
      "cell_type": "code",
      "source": [
        "# 문제 1. \n",
        "\n",
        "# 대학교 학점은 다음과 같이 구성됨\n",
        "# A - 90점 이상 \n",
        "# B - 80점 이상\n",
        "# C - 60점 이상\n",
        "# D - 40졈 이상\n",
        "# F - 40점 이하 \n",
        "# 결석이 3번인 경우 무조건 F\n",
        "\n",
        "# 중첩 조건문 또는 연산자를 활용하여 if문을 작성하세요\n",
        "# 1) 학점을 조건으로 어떻게 나눌까?\n",
        "# 2) else에는 어떤것을 할당할까?\n",
        "# 3) 값을 어떻게 받을까? \n",
        "\n",
        "score = int(input('점수를 입력하세요: '))\n",
        "absent = int(input('결석 횟수를 입력하세요: '))\n",
        "\n",
        "if absent < 3: # 결석이 2회 이하인 학생들만 점수 부여\n",
        "    if 90 <= score:\n",
        "        print('학점은 A입니다.')\n",
        "    elif 80 <= score:\n",
        "        print('학점은 B입니다.')\n",
        "    elif 60 <= score:\n",
        "        print('학점은 C입니다.')\n",
        "    elif 40 <= score:\n",
        "        print('학점은 D입니다.')\n",
        "    else:\n",
        "        print('학점은 F입니다.')\n",
        "else:\n",
        "    print('학점은 F입니다.')"
      ],
      "metadata": {
        "id": "kT2R9QWiM09J"
      },
      "execution_count": null,
      "outputs": []
    },
    {
      "cell_type": "code",
      "source": [
        "# 문제 2. 숫자를 입력했을때 짝수와 홀수를 구분하는 if문을 작성하세요\n",
        "\n",
        "# 1) 짝수와 홀수를 어떻게 구분할것인가?\n",
        "# 2) 숫자로 input을 받아야한다.\n",
        "# 3) 출력은 어떻게 할것인가?\n",
        "\n",
        "num = int(input('숫자를 입력하세요: '))\n",
        "\n",
        "if num % 2 == 0: \n",
        "    print(f'{num}은 짝수입니다.')\n",
        "else:\n",
        "    print(f'{num}은 홀수입니다.')"
      ],
      "metadata": {
        "id": "Az16VRZsOZyI"
      },
      "execution_count": null,
      "outputs": []
    },
    {
      "cell_type": "code",
      "source": [
        "# 문자열에서 뒤에서 1개를 가져와서 정수화 시킨다.\n",
        "number = input('정수 입력 > ')\n",
        "last_number = int(number[-1])\n",
        "\n",
        "# 0 ~ 9 숫자만이 last_number\n",
        "if last_number == 0 or last_number == 2 or last_number == 4 \\\n",
        "    or last_number == 6 or last_number == 8:\n",
        "  print(\"짝수입니다.\")\n",
        "if last_number == 1 or last_number == 3 or last_number == 5 \\\n",
        "    or last_number == 7 or last_number == 9:\n",
        "  print(\"홀수입니다.\")"
      ],
      "metadata": {
        "id": "izAz9FadQzmP"
      },
      "execution_count": null,
      "outputs": []
    },
    {
      "cell_type": "code",
      "source": [
        "number = input(\"정수 입력 > \")\n",
        "last_character = number[-1]\n",
        "\n",
        "if last_character in \"02468\":\n",
        "    print(\"짝수입니다\")\n",
        "if last_character in \"13579\":\n",
        "    print(\"홀수입니다.\")"
      ],
      "metadata": {
        "id": "e6z_iopQSjbk"
      },
      "execution_count": null,
      "outputs": []
    },
    {
      "cell_type": "code",
      "source": [
        "# 문제 3.\n",
        "# money에는 현재 돈이 얼마 있는지 input으로 받고\n",
        "# 커피는 600원 1000원 1500원 세가지가 있습니다.\n",
        "# 돈이 있어서 거스름돈을 계산하고 만약에 돈이 부족하면 메세지를 띄워주세요\n",
        "\n",
        "print(\"My coffee에 오신것을 환영합니다.\")\n",
        "money = int(input(\"현재 얼마가 있나요?\"))\n",
        "choice = int(input('커피를 고르세요. [1]에스프레스 600원, [2]아메리카노 1000원, [3]라떼 1500원'))\n",
        "\n",
        "if choice == 1:\n",
        "    price = 600   \n",
        "elif choice == 2:\n",
        "    price = 1000  \n",
        "elif choice == 3:\n",
        "    price = 1500  \n",
        "else:\n",
        "    price = 0 \n",
        "\n",
        "if money > price:\n",
        "    print(f\"거스름돈은 {money - price}원 입니다.\")    \n",
        "else:\n",
        "    print('돈이 부족합니다.') \n",
        "\n",
        "# if money // 1500 > 0:\n",
        "#     left = money % 1500\n",
        "#     print(f'거스름돈은 {left}원입니다.')\n",
        "# elif money // 1000 > 0:\n",
        "#     left = money % 1000\n",
        "#     print(f'거스름돈은 {left}원입니다.')\n",
        "# elif money // 600 > 0:\n",
        "#     left = money % 600\n",
        "#     print(f'거스름돈은 {left}원입니다.')\n",
        "# else: \n",
        "#     print('돈이 부족합니다.')"
      ],
      "metadata": {
        "id": "ZAegxW5tVoQ-"
      },
      "execution_count": null,
      "outputs": []
    },
    {
      "cell_type": "code",
      "source": [
        "#교통카드 시스템 만들기\n",
        "age = int(input(\"나이: \"))\n",
        "balance = int(input('잔액: '))\n",
        "\n",
        "if 7 <= age <= 12:\n",
        "    print('학생입니다.')\n",
        "    balance -= 650\n",
        "    if balance < 0:\n",
        "        balance += 650\n",
        "        print('잔액이 부족합니다.')\n",
        "else:\n",
        "    print(\"미성년자는 무료탑승입니다.\")"
      ],
      "metadata": {
        "id": "6UyqC2LOWI9d"
      },
      "execution_count": null,
      "outputs": []
    },
    {
      "cell_type": "code",
      "source": [
        "# 문제 5. 태어난 연도를 입력받아 생애주기 받기 2023년 6월 28일 부터 만나이로 변경이 되면서 \n",
        "# 나이에 혼선이 생기고 있는 가운데 정부 연령기준에 맞춰 자신이 어떤 나이대 인지 찾아보자\n",
        "# https://www.gosims.go.kr/hh/hh001/retrieveLfcySearch.do\n",
        "\n",
        "# 정부기준으로 영유아는 0-5 / 아동은 6-12 / 청소년 13-18 / 청년 19-29 / \n",
        "# 중년 30-49 / 장년 50-64 / 노년 65세 이상 / 연령대 무관으로 나눈다.\n",
        "# 태어난 연도를 입력 받아서 만나이 적용 날짜를 산출한다.\n",
        "# if문을 통해 어떤 종류의 생애주기 인지를 출력한다.\n",
        "# 현재 나이와 만나이를 계산하고, 만나이 기준 생애주기를 출력하세요"
      ],
      "metadata": {
        "id": "8h3RiEEbWVSD"
      },
      "execution_count": null,
      "outputs": []
    },
    {
      "cell_type": "code",
      "source": [
        "# 강사님 답안\n",
        "\n",
        "import datetime\n",
        "from datetime import timedelta, timezone\n",
        "\n",
        "year = int(input(\"태어난 연도를 입력하세요\"))\n",
        "month = int(input(\"태어난 월을 입력하세요\"))\n",
        "day = int(input(\"태어난 일을 입력하세요\"))\n",
        "birthday = datetime.date(year, month, day)\n",
        "\n",
        "# 만나이 적용일자\n",
        "d_day = datetime.date(2023, 6, 28)\n",
        "\n",
        "# 만나이 계산\n",
        "age = d_day.year - birthday.year - \\\n",
        "    ((d_day.month, d_day.day) < (birthday.month, birthday.day))\n",
        "\n",
        "# 결과 출력\n",
        "print('2023년 6월 28일 기준 만 나이는')\n",
        "if age >= 0 and age <= 5:\n",
        "    print(f\"{age}살 이므로 영유아 입니다.\")\n",
        "elif age >= 6 and age <= 12:\n",
        "    print(f\"{age}살 이므로 아동 입니다.\")\n",
        "elif age >= 13 and age <= 18:\n",
        "    print(f\"{age}살 이므로 청소년 입니다.\")\n",
        "elif age >= 19 and age <= 29:\n",
        "    print(f\"{age}살 이므로 청년 입니다.\")\n",
        "elif age >= 30 and age <= 49:\n",
        "     print(f\"{age}살 이므로 중년 입니다.\")\n",
        "elif age >= 50 and age <= 64:\n",
        "    print(f\"{age}살 이므로 장년 입니다.\")\n",
        "elif age >= 65:\n",
        "    print(f\"{age}살 이므로 노년 입니다.\")  \n",
        "else:\n",
        "    print(f\"연령대가 제대로 입력이 되지 않아 연령대 무관으로 분류됩니다.\")  "
      ],
      "metadata": {
        "id": "F7r8uNe4qDZg"
      },
      "execution_count": null,
      "outputs": []
    },
    {
      "cell_type": "code",
      "source": [
        "import datetime\n",
        "now = datetime.datetime.now()\n",
        "print(now)\n",
        "\n",
        "today = datetime.datetime.today()\n",
        "print(today)\n"
      ],
      "metadata": {
        "id": "U3XSOKw_ryqI"
      },
      "execution_count": null,
      "outputs": []
    },
    {
      "cell_type": "code",
      "source": [
        "from datetime import datetime # datetime. 을 생략하고 싶으면 추가\n",
        "now = datetime.now()\n",
        "print(now)"
      ],
      "metadata": {
        "id": "eD_b0L0dsSGr"
      },
      "execution_count": null,
      "outputs": []
    },
    {
      "cell_type": "code",
      "source": [
        "# GPT 답안\n",
        "\n",
        "from datetime import datetime\n",
        "\n",
        "# 태어난 연도 입력 받기\n",
        "birth_year = int(input(\"태어난 연도를 입력하세요: \"))\n",
        "\n",
        "# 만나이 적용 날짜 계산하기 (2023년 6월 28일 기준)\n",
        "now = datetime.now()\n",
        "target_date = datetime(2023, 6, 28)\n",
        "if (now.month, now.day) < (target_date.month, target_date.day):\n",
        "    age_date = datetime(now.year - 1, now.month, now.day)\n",
        "else:\n",
        "    age_date = datetime(now.year, now.month, now.day)\n",
        "    \n",
        "# 만 나이 계산하기\n",
        "age = age_date.year - birth_year + 1\n",
        "\n",
        "# 생애주기 출력하기\n",
        "if age < 6:\n",
        "    life_cycle = \"영유아\"\n",
        "elif age < 13:\n",
        "    life_cycle = \"아동\"\n",
        "elif age < 19:\n",
        "    life_cycle = \"청소년\"\n",
        "elif age < 30:\n",
        "    life_cycle = \"청년\"\n",
        "elif age < 50:\n",
        "    life_cycle = \"중년\"\n",
        "elif age < 65:\n",
        "    life_cycle = \"장년\"\n",
        "else:\n",
        "    life_cycle = \"노년\"\n",
        "\n",
        "print(f\"{age}세, {life_cycle}입니다.\")"
      ],
      "metadata": {
        "id": "3c2OeepKny95"
      },
      "execution_count": null,
      "outputs": []
    },
    {
      "cell_type": "markdown",
      "source": [
        "# 반복문"
      ],
      "metadata": {
        "id": "2BAVT9UKr6G_"
      }
    },
    {
      "cell_type": "markdown",
      "source": [
        "[사용 상황]\n",
        "- 월별/분기별/연도별 산출할 게 있을 경우\n",
        "- 컬럼별 데이터 검사 및 특이값 이상치 발견\n",
        "- Rule Base 최적 상품 추천\n",
        "- ML/DL모델을 파라미터를 바꿔서 반복 시행할때\n",
        "- 기타 3번 이상 반복 작업 해야하는 반복되는 일들\n",
        "\n",
        "-> 업무의 최소화, 빠른 퇴근, 나의 체력 안배"
      ],
      "metadata": {
        "id": "SO_XLdNMsmqI"
      }
    },
    {
      "cell_type": "markdown",
      "source": [
        "## for"
      ],
      "metadata": {
        "id": "NurPRJ7guKlr"
      }
    },
    {
      "cell_type": "code",
      "source": [
        "for x in (1,2,3,4,5):\n",
        "    print(f'{x}번째 입니다.')"
      ],
      "metadata": {
        "id": "-ORKHkMHs_b5"
      },
      "execution_count": null,
      "outputs": []
    },
    {
      "cell_type": "code",
      "source": [
        "str_a = 'hello world'\n",
        "for i in str_a:\n",
        "    print(i)"
      ],
      "metadata": {
        "id": "K0S6ynp2uP4e"
      },
      "execution_count": null,
      "outputs": []
    },
    {
      "cell_type": "code",
      "source": [
        "list_a = ['하나', '둘', '셋']\n",
        "for a in list_a:\n",
        "    print(a)"
      ],
      "metadata": {
        "id": "bREuwTlouZfW"
      },
      "execution_count": null,
      "outputs": []
    },
    {
      "cell_type": "code",
      "source": [
        "d = {\"key1\" : 1000 , \"key2\" : 2000, \"key3\" : 3000}\n",
        "\n",
        "for i in d.keys(): # d\n",
        "    print(i)\n",
        "\n",
        "for i in d.values():\n",
        "    print(i)\n",
        "\n",
        "for i in d.items():\n",
        "    print(i)"
      ],
      "metadata": {
        "id": "IyT_zlGbxjKE"
      },
      "execution_count": null,
      "outputs": []
    },
    {
      "cell_type": "code",
      "source": [
        "for a in range(10,0,-2):\n",
        "    print(a)"
      ],
      "metadata": {
        "id": "_ImlY_S6vLGl"
      },
      "execution_count": null,
      "outputs": []
    },
    {
      "cell_type": "code",
      "source": [
        "for i in [1,3,5,7,9]:\n",
        "    print(i)"
      ],
      "metadata": {
        "id": "2-5zfUCFv2KS"
      },
      "execution_count": null,
      "outputs": []
    },
    {
      "cell_type": "code",
      "source": [
        "from time import process_time\n",
        "\n",
        "start = process_time()\n",
        "\n",
        "for i in range(1,1000):\n",
        "    print(f'숫자를 출력합니다. {i}')\n",
        "end = process_time()\n",
        "\n",
        "print(f'프로그램을 수행하는 데 {end - start}초가 걸렸습니다.')"
      ],
      "metadata": {
        "id": "fDngRJMzwRga"
      },
      "execution_count": null,
      "outputs": []
    },
    {
      "cell_type": "code",
      "source": [
        "# 예제 - 5마리를 잡으면 배가 꽉 차는 상황\n",
        "\n",
        "for i in range(100):\n",
        "    print(f'{i} 물고기를 잡았습니다.')\n",
        "    if i == 5:\n",
        "        print('만선입니다. 물고기를 다 잡았습니다.')\n",
        "        break # 더이상 반복문을 실행하지 않고 종료\n",
        "else:\n",
        "    print('아직 여유가 좀 있지만, 물고기가 더 없는 것 같으니 이정도로 만족하고 돌아갑시다.')\n",
        "print('수고하셨습니다.\\n')\n",
        "\n",
        "# for~else 문은 for문 안에 조건이 충족되면 else문을 실행하지 않습니다. \n",
        "# 5 물고기 잡았을때는 프린트만 하고 마무리 (else 문 실행안함)"
      ],
      "metadata": {
        "id": "6b_oi8SXxySB"
      },
      "execution_count": null,
      "outputs": []
    },
    {
      "cell_type": "code",
      "source": [
        "for i in range(5):\n",
        "    print(f'{i} 물고기를 잡았습니다.')\n",
        "    if i == 5:\n",
        "        print('만선입니다. 물고기를 다 잡았습니다.')\n",
        "        break \n",
        "else:\n",
        "    print('아직 여유가 좀 있지만, 물고기가 더 없는 것 같으니 이정도로 만족하고 돌아갑시다.')\n",
        "print('수고하셨습니다.')\n",
        "\n",
        "# 반면에 4마리로 i < 5 였기 때문에 if 문 조건을 만족하지 않은 경우에 \n",
        "# 일부 작업을 수행(print('아직 여유가... 만족하고 돌아갑시다.'))하기 위해서 else 문을 수행하였습니다."
      ],
      "metadata": {
        "id": "zHbDLqe3imNv"
      },
      "execution_count": null,
      "outputs": []
    },
    {
      "cell_type": "code",
      "source": [
        "l = [0, 3, -1, 10]\n",
        "for x in l:\n",
        "  if x < 0 :\n",
        "    print('음수가 발견되었습니다. 프로그램을 종료합니다.')\n",
        "    break # 음수 발견하면 10까지 가지 않고 바로 break되어 종료 해줌. 프로그램 종료,\n",
        "else:\n",
        "  print('음수를 발견하지 못했습니다.')"
      ],
      "metadata": {
        "id": "TBt4WhAqyQRT"
      },
      "execution_count": null,
      "outputs": []
    },
    {
      "cell_type": "code",
      "source": [
        "# break / continue\n",
        "\n",
        "for i in range(10):\n",
        "    if i == 3:\n",
        "        break\n",
        "    if i == 1:\n",
        "        continue\n",
        "print(i)"
      ],
      "metadata": {
        "id": "6Bvyu_5k3qUK"
      },
      "execution_count": null,
      "outputs": []
    },
    {
      "cell_type": "code",
      "source": [
        "for i in range(10):\n",
        "    if i == 3:\n",
        "        break\n",
        "    if i == 1:\n",
        "        continue\n",
        "    print(i)"
      ],
      "metadata": {
        "id": "h5VQ3fxu4o_f"
      },
      "execution_count": null,
      "outputs": []
    },
    {
      "cell_type": "code",
      "source": [
        "# 이중 반복문 - 구구단 만들기\n",
        "for i in range(2, 10):\n",
        "    for j in range(1,10):\n",
        "        print(f'{i} x {j} = {i*j}')"
      ],
      "metadata": {
        "id": "s-F-YDDz5brF"
      },
      "execution_count": null,
      "outputs": []
    },
    {
      "cell_type": "code",
      "source": [
        "# 리스트 컴프리헨션\n",
        "\n",
        "list_i = []\n",
        "for i in range(1,10):\n",
        "  list_i.append(i)\n",
        "print(list_i)\n",
        "\n",
        "x = [i for i in range(1,10)]\n",
        "print(x)"
      ],
      "metadata": {
        "id": "4i6cNjXY61xL"
      },
      "execution_count": null,
      "outputs": []
    },
    {
      "cell_type": "code",
      "source": [
        "# 이중 반복문\n",
        "y = [f'{i} x {j} = {i*j}' for i in range(2,10) for j in range(1,10)]\n",
        "print(y)"
      ],
      "metadata": {
        "id": "otBm_RNb7gvj"
      },
      "execution_count": null,
      "outputs": []
    },
    {
      "cell_type": "code",
      "source": [
        "def example(i):\n",
        "    if i % 100 == 0:\n",
        "        return i\n",
        "    else:\n",
        "        return 0\n",
        "\n",
        "old_list = [100,200,300,101,202,303]\n",
        "new_list = [example(i) for i in old_list]\n",
        "# new_list = [i if i % 100 == 0 else 0 for i in old_list] # 삼항 연산자\n",
        "\n",
        "print(new_list)\n",
        "print(sum(new_list))"
      ],
      "metadata": {
        "id": "69Kldjps8FeD"
      },
      "execution_count": null,
      "outputs": []
    },
    {
      "cell_type": "code",
      "source": [
        "# 다중인자 리스트 순회\n",
        "skill = [\n",
        "        ('고기잡이', 100, 300),\n",
        "        ('고기팔기', 120, 400),\n",
        "        ('낚시', 5, 500),\n",
        "        ('통발', 5, 600),\n",
        "        ('큰그물', 5, 700)\n",
        "]\n",
        "\n",
        "for i,j,z in skill:\n",
        "    print(i,j,z)"
      ],
      "metadata": {
        "id": "0e6DXru_9Wc9"
      },
      "execution_count": null,
      "outputs": []
    },
    {
      "cell_type": "code",
      "source": [
        "# enumerate\n",
        "skill = [\n",
        "        ('고기잡이', 100, 'SS'),\n",
        "        ('고기팔기', 120, 'SSS'),\n",
        "        ('낚시', 5, 'C'),\n",
        "        ('통발', 5, 'C'),\n",
        "        ('큰그물', 5, 'C')\n",
        "]\n",
        "\n",
        "for i, (skillName, skillLevel, skillGrade) in enumerate(skill):\n",
        "    print(i, skillName, skillLevel, skillGrade)"
      ],
      "metadata": {
        "id": "O5jVD_597gUY"
      },
      "execution_count": null,
      "outputs": []
    },
    {
      "cell_type": "code",
      "source": [
        "for i, j in enumerate(skill, 100):\n",
        "    print(i, j)"
      ],
      "metadata": {
        "id": "Db2XpBO4-uzl"
      },
      "execution_count": null,
      "outputs": []
    },
    {
      "cell_type": "code",
      "source": [
        "# 연습문제\n",
        "\n",
        "for a in range(8):\n",
        "  a += 1\n",
        "print(a)\n",
        "\n",
        "# 8"
      ],
      "metadata": {
        "id": "SEhibEG5-cMa"
      },
      "execution_count": null,
      "outputs": []
    },
    {
      "cell_type": "code",
      "source": [
        "for a in range(8):\n",
        "  a *= (a-1) # a = a * (a-1)\n",
        "#   print(a)\n",
        "print(a)\n",
        "\n",
        "# 42"
      ],
      "metadata": {
        "id": "MJQySCQA--dQ"
      },
      "execution_count": null,
      "outputs": []
    },
    {
      "cell_type": "code",
      "source": [
        "for a in range(8):\n",
        "  a += a # a = a + a\n",
        "print(a)\n",
        "\n",
        "# 14"
      ],
      "metadata": {
        "id": "ajYnkvCo_4s4"
      },
      "execution_count": null,
      "outputs": []
    },
    {
      "cell_type": "code",
      "source": [
        "for a in range(8):\n",
        "  a *= 1\n",
        "print(a)\n",
        "\n",
        "# 7"
      ],
      "metadata": {
        "id": "vPcroWizALzz"
      },
      "execution_count": null,
      "outputs": []
    },
    {
      "cell_type": "code",
      "source": [
        "# 변수 age의 자료형이 정수형일때 숫자 문자형일때 문자가 출력되는 코드\n",
        "\n",
        "ages = ['one', 8, 'twenty', 40]\n",
        "\n",
        "for age in ages:\n",
        "  if type(age) == int:  # int O / 'int' X\n",
        "    print(age, '숫자')\n",
        "  else:\n",
        "    print(age, '문자')"
      ],
      "metadata": {
        "id": "oBS71G8PASbw"
      },
      "execution_count": null,
      "outputs": []
    },
    {
      "cell_type": "markdown",
      "source": [
        "## while"
      ],
      "metadata": {
        "id": "K1OYyofhDjfy"
      }
    },
    {
      "cell_type": "code",
      "source": [
        "i = 0  # 초기식\n",
        "\n",
        "while i < 10:  # 조건식\n",
        "    print(i,'번째 출력')  # 반복할 코드\n",
        "    i += 1  # i를 1씩 증가"
      ],
      "metadata": {
        "id": "XeVYPmPzMA5f"
      },
      "execution_count": null,
      "outputs": []
    },
    {
      "cell_type": "code",
      "source": [
        "num = 0\n",
        "while True:\n",
        "\tprint(\"현재 숫자는\", num, \"입니다.\")\n",
        "\tnum += 1\n",
        "\tif num > 5:\n",
        "\t\tprint(\"반복문을 종료합니다.\")\n",
        "\t\tbreak"
      ],
      "metadata": {
        "id": "QSwOaVRBEqWh"
      },
      "execution_count": null,
      "outputs": []
    },
    {
      "cell_type": "code",
      "source": [
        "# while - else\n",
        "num = 0\n",
        "while num < 5:\n",
        "    print(\"현재 숫자는\", num, \"입니다.\")\n",
        "    num += 1\n",
        "else:\n",
        "    print(\"반복문을 종료합니다.\")"
      ],
      "metadata": {
        "id": "phFfOQ8bFwOu"
      },
      "execution_count": null,
      "outputs": []
    },
    {
      "cell_type": "code",
      "source": [
        "countdown = 5\n",
        "while countdown > 0:\n",
        "    print(countdown)\n",
        "    countdown -= 1\n",
        "    if input() == '중단':\n",
        "        break\n",
        "else:\n",
        "    print('발사!')"
      ],
      "metadata": {
        "id": "oPthbnWplw-H"
      },
      "execution_count": null,
      "outputs": []
    },
    {
      "cell_type": "code",
      "source": [
        "시간 = 0\n",
        "현재시간 = int(input(\"시를 입력해주세요\"))\n",
        "종료시간 = 18\n",
        "\n",
        "if 현재시간 > 종료시간:\n",
        "    print('수업이 끝났기 때문에 Q&A시간을 가지겠습니다.')\n",
        "else:\n",
        "    while True:\n",
        "        시간 += 1\n",
        "        현재시간 += 1\n",
        "        print(f'{시간}시간이 지나 {현재시간}시가 되었습니다.')\n",
        "        if 현재시간 == 종료시간:\n",
        "            print('수업 종료시간이 되었기 때문에 Q&A시간을 가지겠습니다.')\n",
        "            break"
      ],
      "metadata": {
        "id": "sOE_SyoZGm5x"
      },
      "execution_count": null,
      "outputs": []
    },
    {
      "cell_type": "code",
      "source": [
        "# 구구단 5단까지 출력하기\n",
        "for i in range(2, 10):\n",
        "  for j in range(1, 10):\n",
        "    if j > 5:\n",
        "      break\n",
        "    print(f'{i} x {j} = {i*j}')"
      ],
      "metadata": {
        "id": "2qyRCmwYHc-3"
      },
      "execution_count": null,
      "outputs": []
    },
    {
      "cell_type": "code",
      "source": [
        "# continue vs. pass\n",
        "count_amount= [\n",
        "    (3, 15000),\n",
        "    (5, 25000),\n",
        "    (1, 5000),\n",
        "    (8, 40000),\n",
        "    (0, 0),\n",
        "    (2, 10000)\n",
        "]\n",
        "\n",
        "# continue\n",
        "for count, amount in count_amount:\n",
        "    if count < 1:\n",
        "        continue\n",
        "    print(f'구매개수는 {count}, 구매가격은 {amount}')\n",
        "print()\n",
        "\n",
        "# pass\n",
        "for count, amount in count_amount:\n",
        "    if count < 1:\n",
        "        pass\n",
        "    print(f'구매개수는 {count}, 구매가격은 {amount}')"
      ],
      "metadata": {
        "id": "MUYnbjq9IFai"
      },
      "execution_count": null,
      "outputs": []
    },
    {
      "cell_type": "code",
      "source": [
        "# while문으로 구구단 만들기\n",
        "i = 2\n",
        "while i < 10 :\n",
        "    k = 1\n",
        "    while k < 10:\n",
        "        print(i, \"*\", k, \"=\", i*k)\n",
        "        k += 1\n",
        "    i += 1"
      ],
      "metadata": {
        "id": "zb1dlR0bJA2t"
      },
      "execution_count": null,
      "outputs": []
    },
    {
      "cell_type": "code",
      "source": [
        "#1부터 10까지 짝수를 뽑으려면 어떤 코드를 작성해야 하는가?\n",
        "a = 1\n",
        "while a < 11: #()\n",
        "    if a % 2 == 0:\n",
        "        print(a)\n",
        "        a += 1\n",
        "    else:\n",
        "        a += 1"
      ],
      "metadata": {
        "id": "q2hsJSTuC2ar"
      },
      "execution_count": null,
      "outputs": []
    },
    {
      "cell_type": "code",
      "source": [
        "a = 1\n",
        "while a < 11:\n",
        "    if a % 2 == 0:\n",
        "        print(a)\n",
        "    a += 1"
      ],
      "metadata": {
        "id": "5cuuvWWfLdZ8"
      },
      "execution_count": null,
      "outputs": []
    },
    {
      "cell_type": "code",
      "source": [
        "# 실행결과가 0인 코드를 작성하고 싶을때 어떻게 작성해야 하는가?\n",
        "money = 2000\n",
        "snack = 500\n",
        "water = 1000\n",
        "while money != 0:\n",
        "    if money > 1000:\n",
        "        money -= water\n",
        "    elif 0 < money <= 1000:\n",
        "        money -= snack * 2\n",
        "    else:\n",
        "        pass #()\n",
        "        \n",
        "print(money)"
      ],
      "metadata": {
        "id": "6q0BOvuDKZlb"
      },
      "execution_count": null,
      "outputs": []
    },
    {
      "cell_type": "code",
      "source": [
        "# 입력하는 값 만큼 반복\n",
        "count = int(input('반복할 횟수를 입력하세요: '))\n",
        " \n",
        "i = 0\n",
        "while i < count:     # i가 count보다 작을 때 반복\n",
        "    print(i+1, '번째 출력')\n",
        "    i += 1\n",
        "    # 감소는 i -= 1"
      ],
      "metadata": {
        "id": "unnRRsAfMuMJ"
      },
      "execution_count": null,
      "outputs": []
    },
    {
      "cell_type": "code",
      "source": [
        "# 맞을 때까지 반복\n",
        "import random    # random 모듈을 가져옴\n",
        "i = 0\n",
        "while i != 3:    # 주사위 숫자가 3이 아닐 때 계속 반복\n",
        "    i = random.randint(1, 6)    # randint를 사용하여 가상 주사위를 만듬\n",
        "    print(i)"
      ],
      "metadata": {
        "id": "kkt9PP2gMVh2"
      },
      "execution_count": null,
      "outputs": []
    },
    {
      "cell_type": "code",
      "source": [
        "# 특정 데이터 제거\n",
        "cust_all = [1,2,1,2,3] \n",
        "print(cust_all)\n",
        "\n",
        "value = 1\n",
        "while value in cust_all:\n",
        "    cust_all.remove(value)\n",
        "print(cust_all)"
      ],
      "metadata": {
        "id": "JkhBd6r4NB7s"
      },
      "execution_count": null,
      "outputs": []
    },
    {
      "cell_type": "code",
      "source": [
        "# 1~100사이의 숫자를 맞출때까지 반복하는 while문 작성\n",
        "\n",
        "# 내가 입력한 숫자가 컴퓨터 숫자보다 작으면 \"값이 작다\"\n",
        "# 내가 입력한 숫자가 컴퓨터 숫자보다 크면 \"값이 크다\"\n",
        "# 답이 맞으면 맞았습니다. \n",
        "\n",
        "import random\n",
        "guess_num = random.randint(1,100)\n",
        "\n",
        "while 1:\n",
        "    user_input = int(input('숫자를 입력해서 값을 맞춰보세요. '))\n",
        "\n",
        "    if user_input < guess_num:\n",
        "        print('값이 작다')\n",
        "    elif user_input > guess_num:\n",
        "        print('값이 크다')\n",
        "    else:\n",
        "        print('맞았습니다.')\n",
        "        break"
      ],
      "metadata": {
        "id": "uBUPOravNJcL"
      },
      "execution_count": null,
      "outputs": []
    },
    {
      "cell_type": "code",
      "source": [
        "# 강사님 답안\n",
        "\n",
        "import random\n",
        "guess_number = random.randint(1,100)\n",
        "user_input = int(input(\"숫자를 입력해서 값을 맞춰보세요\"))\n",
        "\n",
        "while (user_input != guess_number):\n",
        "    if user_input > guess_number:\n",
        "        print(\"숫자가 큽니다.\")\n",
        "    else:\n",
        "        print(\"숫자가 작습니다.\")\n",
        "    user_input = int(input(\"숫자를 입력해서 값을 다시 맞춰보세요\"))\n",
        "else:\n",
        "    print(\"정답입니다.\")"
      ],
      "metadata": {
        "id": "hwv-c7bwob0u"
      },
      "execution_count": null,
      "outputs": []
    }
  ]
}