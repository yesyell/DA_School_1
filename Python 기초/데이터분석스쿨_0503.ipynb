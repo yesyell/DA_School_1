{
  "nbformat": 4,
  "nbformat_minor": 0,
  "metadata": {
    "colab": {
      "private_outputs": true,
      "provenance": [],
      "authorship_tag": "ABX9TyMFhLptZKcBzLRVDaWuQ2y3",
      "include_colab_link": true
    },
    "kernelspec": {
      "name": "python3",
      "display_name": "Python 3"
    },
    "language_info": {
      "name": "python"
    }
  },
  "cells": [
    {
      "cell_type": "markdown",
      "metadata": {
        "id": "view-in-github",
        "colab_type": "text"
      },
      "source": [
        "<a href=\"https://colab.research.google.com/github/yesyell/DA_School_1/blob/main/Python%20%EA%B8%B0%EC%B4%88/%EB%8D%B0%EC%9D%B4%ED%84%B0%EB%B6%84%EC%84%9D%EC%8A%A4%EC%BF%A8_0503.ipynb\" target=\"_parent\"><img src=\"https://colab.research.google.com/assets/colab-badge.svg\" alt=\"Open In Colab\"/></a>"
      ]
    },
    {
      "cell_type": "markdown",
      "source": [
        "## 연습문제"
      ],
      "metadata": {
        "id": "ZKpjJgJjWW2F"
      }
    },
    {
      "cell_type": "code",
      "execution_count": null,
      "metadata": {
        "id": "vMN9g26E-K4c"
      },
      "outputs": [],
      "source": [
        "# 문제 1.\n",
        "a = 10\n",
        "b = 2\n",
        "for i in range(1, 5, 2):\n",
        "    a += i\n",
        "\n",
        "print(a+b)"
      ]
    },
    {
      "cell_type": "code",
      "source": [
        "# 문제 2. \n",
        "# 2-gram이란 문자열에서 2개의 연속된 요소를 출력하는 방법입니다. \n",
        "\n",
        "data = input('문자열을 입력하세요. ')\n",
        "\n",
        "for i in range(len(data)-1):\n",
        "    print(data[i:i+2])\n",
        "    # print(data[i], data[i+1], sep='')\n",
        "\n",
        "# Py\n",
        "# yt\n",
        "# th\n",
        "# ho\n",
        "# on"
      ],
      "metadata": {
        "id": "eBbuOaip-uo3"
      },
      "execution_count": null,
      "outputs": []
    },
    {
      "cell_type": "code",
      "source": [
        "# 문제 3.\n",
        "#1) 투표결과를 받아와서\n",
        "#2) 해당 결과를 알맞는 자료구조로 변환해서\n",
        "#3) 가장 많이 받은 표를 계산 후 출력\n",
        "\n",
        "# 1. 데이터 입력받기\n",
        "data = input(\"투표 결과를 입력하세요. \").split() # 원범 원범 혜원 혜원 혜원 혜원 유진 유진\n",
        "\n",
        "# 2. 적절한 데이터셋으로 변환\n",
        "data_set = set(data) # 중복을 포함하지 않는 자료구조\n",
        "\n",
        "# 3. dict 형태로 가져오기\n",
        "data_dict = {}\n",
        "for key in data_set:\n",
        "    data_dict[key] = data.count(key)\n",
        "print(data_dict)\n",
        "\n",
        "# 4. 최대값을 출력 max()\n",
        "print(f'{max(data_dict.keys())}이가 {max(data_dict.values())} 표를 받아 반장이 되었습니다.')"
      ],
      "metadata": {
        "id": "5P-3D__RAp7L"
      },
      "execution_count": null,
      "outputs": []
    },
    {
      "cell_type": "code",
      "source": [
        "string = \"원범 원범 혜원 혜원 혜원 혜원 유진 유진\"\n",
        "lst = list(set(string.split()))\n",
        "lst2 = []\n",
        "for i in range(len(lst)):\n",
        "    lst2.append(string.count(lst[i]))\n",
        "print(lst)\n",
        "print(lst2)\n",
        "print(f\"{lst[lst2.index(max(lst2))]}이 {max(lst2)}표를 받아서 반장이 되었습니다. \")"
      ],
      "metadata": {
        "id": "H438bU4zFSx0"
      },
      "execution_count": null,
      "outputs": []
    },
    {
      "cell_type": "code",
      "source": [
        "# GPT 답안\n",
        "\n",
        "# 투표결과 받아오기\n",
        "vote_results = [\"A\", \"B\", \"A\", \"C\", \"A\", \"B\", \"A\", \"B\", \"C\", \"B\", \"C\", \"C\", \"C\"]\n",
        "\n",
        "# 표 계산을 위해 딕셔너리 자료구조로 변환\n",
        "vote_count = {}\n",
        "for result in vote_results:\n",
        "    if result in vote_count:\n",
        "        vote_count[result] += 1\n",
        "    else:\n",
        "        vote_count[result] = 1\n",
        "\n",
        "# 가장 많이 받은 표 계산\n",
        "max_vote_count = 0\n",
        "max_vote_result = \"\"\n",
        "for result, count in vote_count.items():\n",
        "    if count > max_vote_count:\n",
        "        max_vote_count = count\n",
        "        max_vote_result = result\n",
        "\n",
        "# 결과 출력\n",
        "print(f\"{max_vote_result} 후보가 {max_vote_count}표로 가장 많은 득표를 받았습니다.\")"
      ],
      "metadata": {
        "id": "VNGW5xeDBwMn"
      },
      "execution_count": null,
      "outputs": []
    },
    {
      "cell_type": "code",
      "source": [
        "# 2+1 상품 집계\n",
        "price = 1000\n",
        "goods = 5\n",
        "total = 0\n",
        "\n",
        "for i in range(goods):\n",
        "    print(\"2+1 상품입니다.\")\n",
        "    if (i+1) % 3 == 0:\n",
        "        continue\n",
        "    total += price\n",
        "\n",
        "print(f\"총 가격은 {total}원 입니다\")"
      ],
      "metadata": {
        "id": "atYiNP4EEnYp"
      },
      "execution_count": null,
      "outputs": []
    },
    {
      "cell_type": "code",
      "source": [
        "# 문제 4. 놀이동산에 가자\n",
        "# 테마파크에 온 원범이와 친구들은 놀이기구를 타려고 합니다. \n",
        "# 모든 놀이기구는 한번에 타는 인원수에는 제한이 없지만 제한 무게를 넘으면 무조건 다음 기구를 타야 합니다.\n",
        "# 원범이와 친구들이 총 몇 명 탈 수 있는지 알 수 있는 프로그램을 작성해 주세요.\n",
        "\n",
        "# 첫번째 줄에서 제한 무게가 주어지고 두번째 줄에서는 함께한 친구들의 수 n이 주어집니다. \n",
        "# 그 다음 차례대로 탑승할 친구들의 몸무게가 주어집니다. 몸무게는 무작위로 주어집니다.\n",
        "# 단, 놀이기구는 선착순으로만 탈 수 있습니다. 두 명 이상의 인원이 항상 탑승합니다.\n",
        "\n",
        "limit_weight = int(input('제한 무게를 입력하세요. '))\n",
        "n = int(input('친구 수를 입력하세요. '))\n",
        "weight = 0\n",
        "total_weight = 0\n",
        "\n",
        "for i in range(n):\n",
        "    weight = int(input(f'{i+1}번째 친구 몸무게를 입력하세요. '))\n",
        "    total_weight += weight\n",
        "    if total_weight > limit_weight:\n",
        "        print(f'{i+1}번째 친구부터는 다음 기구에 탑승해주세요. ')\n",
        "        break\n",
        "else:4\n",
        "    print(f'총 {n}명 탑승하였습니다.')"
      ],
      "metadata": {
        "id": "PiajnA1XEs1O"
      },
      "execution_count": null,
      "outputs": []
    },
    {
      "cell_type": "code",
      "source": [
        "# 문제 5. 택시 기사의 하루 일당 구하기\n",
        "# 법인에 소속된 택시기사들의 평균 사납금(영업을 하게 하는 댓가로 지불하는 비용(기름값, 차량렌트비 등)은 \n",
        "# 기본 13만 5천원입니다. 하루 매출이 13만 5천원을 벌지 못하면 그날은 수입이 마이너스가 되는겁니다.\n",
        "\n",
        "# 오늘도 바쁘게 손님을 맞이하는 A기사님은 매출이 30만원이 되길 바라고 있습니다.\n",
        "# A기사님은 오늘 매출 30만원을 채우기를 원합니다. (30만원 이상일 경우 운행 종료)\n",
        "# 손님별 운행시간은 5 ~ 20분으로 정합니다. 그 중 5 ~ 15분인 고객의 콜을 받습니다.\n",
        "# 기본요금은 기본 5분일 경우 5,000원으로 1분이 추가될때마다 1,000원을 더 추가합니다.\n",
        "# 1) 오늘 콜을 받은 횟수 \n",
        "# 2) 탑승횟수 \n",
        "# 3) 30만원을 채우기까지 총 소요시간\n",
        "# 4) 승객에게 받은 요금 5) 사납금을 납부하고 남은 금액 을 최종 산출하세요\n",
        "\n",
        "# 내 답안\n",
        "import random\n",
        "\n",
        "num = 0 \n",
        "total_num = 0\n",
        "fee = 0\n",
        "total_fee = 0\n",
        "total_time = 0\n",
        "\n",
        "while total_fee < 300000:\n",
        "    time = random.randint(5, 20)\n",
        "    total_num += 1\n",
        "    if 5 <= time <= 15:\n",
        "        fee = 5000 + (time-5) * 1000\n",
        "        total_fee += fee\n",
        "        total_time += time\n",
        "        num += 1\n",
        "        print(f'{num}이 탑승했습니다. 소요시간은 {time}이 걸립니다. 금액은 {fee}입니다.')\n",
        "    else:\n",
        "        print('매칭에 실패했습니다.')\n",
        "\n",
        "print(f'오늘 매칭 횟수는 {total_num}번 이고, 탑승손님은 {num}명 이고, 소요시간은 {total_time}분 이고, \\\n",
        "총 수익은 {total_fee}원 입니다.')"
      ],
      "metadata": {
        "id": "hV1z-GbMMAyr"
      },
      "execution_count": null,
      "outputs": []
    },
    {
      "cell_type": "code",
      "source": [
        "# 강사님 답안\n",
        "\n",
        "from random import randrange\n",
        "\n",
        "# 매칭횟수(콜 받은 횟수)\n",
        "matching = 0\n",
        "# 실제로 탄 고객(탑승횟수)\n",
        "people = 0\n",
        "# 택시 이용요금(승객에게 받은 요금)\n",
        "money = 0\n",
        "# 총 운행 시간(총 소요시간)\n",
        "all_time = 0\n",
        "\n",
        "# 운행은 30만원 이상일때 종료\n",
        "while money < 300000:\n",
        "    matching += 1\n",
        "    time = randrange(5, 20)\n",
        "\n",
        "    if 5 <= time <= 15:\n",
        "        people += 1\n",
        "        each_money = time * 1000\n",
        "        print(f'손님 {people}이(가) 탑승했습니다. 소요시간은 {time}이 걸립니다. 택시요금은 {each_money}입니다')\n",
        "        money += each_money\n",
        "        all_time += time\n",
        "    else:\n",
        "        print(\"매칭에 실패했습니다.\")\n",
        "  \n",
        "print(f\"오늘 매칭 횟수는 {matching}번 이고, 탑승손님 {people}명 이고, 소요시간은 {all_time}분 이고, 총 매출은 {money}입니다.\")"
      ],
      "metadata": {
        "id": "n8DeCdMfP2qw"
      },
      "execution_count": null,
      "outputs": []
    },
    {
      "cell_type": "markdown",
      "source": [
        "# 예외처리"
      ],
      "metadata": {
        "id": "aLJogT_CWnHe"
      }
    },
    {
      "cell_type": "markdown",
      "source": [
        "오류가 나면 파이썬은 에러가 나서 수행이 중지됨\n",
        "1. 중지되지 않고 수행\n",
        "2. 예외적인 부분이나 에러를 좀 더 효과적으로\n",
        "3. 기타\n",
        "\n",
        "[오류의 종류]\n",
        "- 프로그램 실행 전에 발생\n",
        "- 프로그램 실행 중에 발생\n",
        "\n",
        "[예시]\n",
        "- ML 모델 돌리는데 데이터에 NULL값이 있을 때\n",
        "- 크롤링 시에 URL 주소를 잘못 입력했을 때\n",
        "- 숫자형 대신에 누군가 문자형을 입력했을 때\n"
      ],
      "metadata": {
        "id": "x-E70HLYWr8s"
      }
    },
    {
      "cell_type": "markdown",
      "source": [
        "## Try - except 문"
      ],
      "metadata": {
        "id": "S-QxDG2sXLDx"
      }
    },
    {
      "cell_type": "code",
      "source": [
        "try: # 꼭 실행되어야 할 구문\n",
        "    num = int(input('숫자를 입력해주세요'))\n",
        "    \n",
        "except ValueError: # try가 실행되지 않았을때 except 실행 (ValueError 생략 가능)\n",
        "    print(\"숫자 외에 자료형이 입력되었어요\")"
      ],
      "metadata": {
        "id": "LSGLj_A8XPGv"
      },
      "execution_count": null,
      "outputs": []
    },
    {
      "cell_type": "code",
      "source": [
        "def div_num(a,b):\n",
        "    val = a / b\n",
        "    print(val)"
      ],
      "metadata": {
        "id": "MjOOHtfGY-P9"
      },
      "execution_count": null,
      "outputs": []
    },
    {
      "cell_type": "code",
      "source": [
        "def div_num(a,b):\n",
        "    try:\n",
        "        val = a / b\n",
        "        print(val)\n",
        "    except ZeroDivisionError:\n",
        "        print(\"나눗셈의 분모가 0일때는 처리할 수 없습니다.\")\n",
        "\n",
        "div_num(3, 0)"
      ],
      "metadata": {
        "id": "7XbXHVdoYQYB"
      },
      "execution_count": null,
      "outputs": []
    },
    {
      "cell_type": "markdown",
      "source": [
        "[예외 종류]\n",
        "- AttributeError - 존재하지 않는 속성 지정\n",
        "- IndexError - 존재하지 않는 범위의 인덱스 지정\n",
        "- KeyError - 존재하지 않는 키를 지정\n",
        "- TypeError - 올바르지 않는 타입 지정\n",
        "- ValueError - 올바르지 않는 값 지정\n",
        "- ZeroDivisionError - 0으로 나눔"
      ],
      "metadata": {
        "id": "q-C2n8CsZCUc"
      }
    },
    {
      "cell_type": "code",
      "source": [
        "def div_num(a,b):\n",
        "    try:\n",
        "        val = a / b\n",
        "        print(val)\n",
        "    except ZeroDivisionError:\n",
        "        print(\"나눗셈의 분모가 0일때는 처리할 수 없습니다.\")\n",
        "    except TypeError:\n",
        "        print(\"연산할수 없는 인수를 지정했습니다. 그래서 처리할 수 없습니다.\")\n",
        "    except Exception:\n",
        "        print(\"알수 없는 예외가 발생했습니다.\")\n",
        "\n",
        "div_num('abcd', 3)"
      ],
      "metadata": {
        "id": "5E8S_4JUYwlP"
      },
      "execution_count": null,
      "outputs": []
    },
    {
      "cell_type": "code",
      "source": [
        "def div_num(a,b):\n",
        "    try:\n",
        "        val = a / b\n",
        "        print(val)\n",
        "    except ZeroDivisionError as zero:\n",
        "        print(f\"{zero}가 발생했습니다.\")\n",
        "div_num(7, 0)"
      ],
      "metadata": {
        "id": "YPZLuf9DZp4j"
      },
      "execution_count": null,
      "outputs": []
    },
    {
      "cell_type": "code",
      "source": [
        "# Try - Except - Pass 문\n",
        "\n",
        "list_1 = [100, \"이백\", 300]\n",
        "\n",
        "list_num = []\n",
        "\n",
        "for i in list_1:\n",
        "    try:\n",
        "        float(i)\n",
        "        list_num.append(i)\n",
        "    except:\n",
        "        pass\n",
        "\n",
        "print(list_1)\n",
        "print(list_num)"
      ],
      "metadata": {
        "id": "SKLOnDVSaF3Z"
      },
      "execution_count": null,
      "outputs": []
    },
    {
      "cell_type": "code",
      "source": [
        "# Try - Except - Else 문\n",
        "\n",
        "try:    # 예외가 발생할것 같은 구문\n",
        "    num = int(input(\"숫자를 입력해주세요\"))\n",
        "\n",
        "except:     # 예외가 발생했을때 출력하는 구문\n",
        "    print(\"숫자가 입력되지 않았습니다.\")\n",
        "\n",
        "else:   # 예외가 발생하지 않았을때 문장 실행\n",
        "    print(f\"입력된 숫자는 {num} 입니다.\")"
      ],
      "metadata": {
        "id": "QUTgUdhtaaWr"
      },
      "execution_count": null,
      "outputs": []
    },
    {
      "cell_type": "code",
      "source": [
        "# Try - Except - Else - Finally 문\n",
        "\n",
        "try:    # 예외가 발생할것 같은 구문\n",
        "    num = int(input(\"숫자를 입력해주세요\"))\n",
        "\n",
        "except:     # 예외가 발생했을때 출력하는 구문\n",
        "    print(\"숫자가 입력되지 않았습니다.\")\n",
        "\n",
        "else:   # 예외가 발생하지 않았을때 문장 실행\n",
        "    print(f\"입력된 숫자는 {num} 입니다.\")\n",
        "\n",
        "finally:    # 무조건 실행\n",
        "    print(\"이 구문은 무조건 실행됩니다.\")"
      ],
      "metadata": {
        "id": "l6-08jxxa9GN"
      },
      "execution_count": null,
      "outputs": []
    },
    {
      "cell_type": "code",
      "source": [
        "def div_num(a, b):\n",
        "    try:\n",
        "        val = a / b\n",
        "        print(f\"나눗셈 결과: {val}\")\n",
        "    except:\n",
        "        print(\"예외가 발생했습니다.\")\n",
        "    else:\n",
        "        print(\"처리를 정상 종료했습니다.\")\n",
        "    finally:\n",
        "        print(\"처리를 종료했습니다.\")\n",
        "\n",
        "print('----- 정상 처리 시 -----')\n",
        "div_num(4, 2)\n",
        "print('----- 예외 발생 시 -----')\n",
        "div_num(10, 0)"
      ],
      "metadata": {
        "id": "FMugGX61bfG5"
      },
      "execution_count": null,
      "outputs": []
    },
    {
      "cell_type": "code",
      "source": [
        "# 사용자 정의 예외처리하기\n",
        "class MyError(Exception): # 새로운 오류를 정의하려면 Exception을 상속해야함\n",
        "    pass \n",
        "\n",
        "try: # 예외가 발생할거같은 구문\n",
        "    num = int(input(\"숫자를 입력해주세요\"))\n",
        "except: # 예외가 발생했을때\n",
        "    print(\"숫자가 입력되지 않았습니다.\")\n",
        "    raise MyError\n",
        "except MyError:\n",
        "    print(\"숫자가 입력되지 않아 MyError 호출 하였습니다.\")\n",
        "else: # 예외가 발생되지 않았을때 문장 실행 \n",
        "    print(\"입력된 숫자는\", num, \"입니다\")\n",
        "finally:\n",
        "    print(\"이 구문은 무조건 실행됩니다.\")"
      ],
      "metadata": {
        "id": "sk7Poj6wb_rC"
      },
      "execution_count": null,
      "outputs": []
    },
    {
      "cell_type": "code",
      "source": [
        "# raise 구문\n",
        "import numbers\n",
        "\n",
        "def caltime(num):\n",
        "    # if not isinstance(num, numbers.numbers):\n",
        "    #     raise TypeError(\"파라미터가 올바르지 않습니다.\")\n",
        "    return num * 10\n",
        "\n",
        "val = caltime(10)\n",
        "print(val)"
      ],
      "metadata": {
        "id": "d_2bkxwmfW1U"
      },
      "execution_count": null,
      "outputs": []
    },
    {
      "cell_type": "code",
      "source": [
        "# 맛집 관리 연습문제\n",
        "cake = 20\n",
        "waiting = 1\n",
        "i = 0\n",
        "\n",
        "while i < 20:\n",
        "    print(\"남은 케이크는\", cake, \"입니다\")\n",
        "    order = int(input(\"손님 케이크 몇개 주문하시나요?\"))\n",
        "    if order > cake:\n",
        "        print(\"손님 남은 케익이\", cake,\"라서 주문이 불가하세요\")\n",
        "    else:\n",
        "        print(\"케익\", order,\"개 포장해주세요\")\n",
        "        waiting += 1\n",
        "        cake -= order #주문 수 만큼 케이스 감소\n",
        "        i += order"
      ],
      "metadata": {
        "id": "vMBQPARpcUv7"
      },
      "execution_count": null,
      "outputs": []
    },
    {
      "cell_type": "code",
      "source": [
        "# 예외처리1 - 손님이 주문할 수 있는 최대 주문량은 2개 2개를 넘으면 최대 주문 에러 출력\n",
        "# 예외처리2 - 1보다 작거나 숫자가 아닌값이 들어오면 정수가 들어오지 않았습니다 값 에러 출력\n",
        "# 예외처리3 - 케이크가 다 떨어지면 Sold Out 에러 출력\n",
        "class OrderError(Exception):\n",
        "    pass\n",
        "class SoldOutError(Exception):\n",
        "    pass\n",
        "\n",
        "cake = 4\n",
        "waiting = 1\n",
        "i = 0\n",
        "\n",
        "while cake != 0:\n",
        "    print(\"남은 케이크는\", cake, \"입니다\")\n",
        "\n",
        "    try:\n",
        "        order = int(input(\"손님 케이크 몇개 주문하시나요?\"))\n",
        "        if order < 1:\n",
        "            raise OrderError(\"1 이상의 정수를 입력해주세요\")\n",
        "        if order > 2:\n",
        "            raise OrderError(\"한 번에 최대 2개까지만 주문 가능합니다\")\n",
        "        if order > cake:\n",
        "            raise SoldOutError(\"케이크가 다 떨어졌습니다\")\n",
        "        print(\"케익\", order, \"개 포장해주세요\")\n",
        "        waiting += 1\n",
        "        cake -= order #주문 수 만큼 케이크 감소\n",
        "        i += order\n",
        "\n",
        "    except OrderError as e:\n",
        "        print(f\"정상적인 주문이 아닙니다: {e}\")\n",
        "    except SoldOutError as e:\n",
        "        print(f\"주문이 불가합니다: {e}\")\n",
        "    except Exception as e:\n",
        "        print(f\"알 수 없는 오류가 발생했습니다: {e}\")\n",
        "        \n",
        "print(\"케이크가 모두 판매되었습니다\")"
      ],
      "metadata": {
        "id": "tSuIebvaAq0B"
      },
      "execution_count": null,
      "outputs": []
    },
    {
      "cell_type": "code",
      "source": [
        "# 연습문제 1. 실행결과로 가장 마지막에 출력되는 값은?\n",
        "sentence = list(\"hello world\")\n",
        "\n",
        "while (len(sentence) + 1):\n",
        "    try:\n",
        "        print(sentence.pop(0))\n",
        "    except Exception as e:\n",
        "        print(e)\n",
        "        break\n",
        "\n",
        "# error"
      ],
      "metadata": {
        "id": "bQAs6WW0zWMR"
      },
      "execution_count": null,
      "outputs": []
    },
    {
      "cell_type": "markdown",
      "source": [
        "- pop from empty list는 IndexError 예외 메시지의 일부분으로, pop() 메서드가 빈 리스트에서 값을 꺼낼 때 발생하는 예외를 의미합니다.\n",
        "\n",
        "- 따라서 위 코드에서 sentence.pop(0)를 호출할 때, sentence 리스트가 빈 리스트가 되면 pop() 메서드는 IndexError 예외를 발생시키고, 이 예외 메시지가 except 블록에서 출력됩니다.\n",
        "\n",
        "- 즉, pop from empty list는 IndexError 예외 메시지의 일부로, sentence 리스트가 빈 리스트가 되면 마지막으로 출력되는 메시지입니다."
      ],
      "metadata": {
        "id": "Fg5WIPXLz7W7"
      }
    },
    {
      "cell_type": "code",
      "source": [
        "# 연습문제 2. 다음실행결과는?\n",
        "try:\n",
        "    for i in range(1,7):\n",
        "        result = 7 // i # 나눗셈 결과 int\n",
        "        print(result)\n",
        "except ZeroDivisionError:\n",
        "    print(\"Not divided by 0\")\n",
        "finally:\n",
        "    print(\"종료되었습니다.\")\n",
        "\n",
        "# 7 3 2 1 1 1 종료되었습니다."
      ],
      "metadata": {
        "id": "QHzALPDcz92Z"
      },
      "execution_count": null,
      "outputs": []
    },
    {
      "cell_type": "code",
      "source": [
        "# 연습문제 3\n",
        "import random\n",
        "answer = random.randint(1, 10)\n",
        "\n",
        "def guess_number(answer):\n",
        "  try:\n",
        "    guess = int(input(\"숫자를 넣어주세요 : \"))\n",
        "    if answer == guess:\n",
        "      print(\"정답 !\")\n",
        "    else:\n",
        "      print(\"오답 !\")\n",
        "  except ValueError:\n",
        "    print(\"숫자가 아닙니다.\")\n",
        "\n",
        "guess_number(answer) # hello를 입력한다면?\n",
        "\n",
        "# 숫자가 아닙니다"
      ],
      "metadata": {
        "id": "NkdRuLbJ1DQa"
      },
      "execution_count": null,
      "outputs": []
    },
    {
      "cell_type": "code",
      "source": [
        "# 연습문제 4 실행결과로 알맞은 것은?\n",
        "for i in range(3):\n",
        "    try:\n",
        "        print(i, 3//i)\n",
        "    except ZeroDivisionError:\n",
        "        print(\"Not divided by 0\")\n",
        "\n",
        "# Not divided by 0\n",
        "# 1 3\n",
        "# 2 1"
      ],
      "metadata": {
        "id": "HKG3TNQp2AsY"
      },
      "execution_count": null,
      "outputs": []
    },
    {
      "cell_type": "markdown",
      "source": [
        "# 함수"
      ],
      "metadata": {
        "id": "_sQr8POz2bLw"
      }
    },
    {
      "cell_type": "markdown",
      "source": [
        "- 코드의 재사용\n",
        "- 코드의 용도 구분\n",
        "- 실수 최소화"
      ],
      "metadata": {
        "id": "EbzpITCo2_9o"
      }
    },
    {
      "cell_type": "code",
      "source": [
        "print('A')\n",
        "\n",
        "def message1():\n",
        "    print('B')\n",
        "\n",
        "print('C')\n",
        "\n",
        "def message2():\n",
        "    print(\"D\")\n",
        "\n",
        "message1()\n",
        "print('E')\n",
        "message2()"
      ],
      "metadata": {
        "id": "nMP5FHI76B0g"
      },
      "execution_count": null,
      "outputs": []
    },
    {
      "cell_type": "code",
      "source": [
        "def message1():\n",
        "    print('A')\n",
        "\n",
        "def message2():\n",
        "    print('B')\n",
        "    message1()\n",
        "\n",
        "message2()"
      ],
      "metadata": {
        "id": "iY_Q0Yl468AU"
      },
      "execution_count": null,
      "outputs": []
    },
    {
      "cell_type": "code",
      "source": [
        "def message1():\n",
        "    print('A')\n",
        "\n",
        "def message2():\n",
        "    print('B')\n",
        "\n",
        "def message3():\n",
        "    for i in range(3):\n",
        "        message2()\n",
        "        print('C')\n",
        "    message1()\n",
        "\n",
        "message3()"
      ],
      "metadata": {
        "id": "qAb-VaYk7Ekp"
      },
      "execution_count": null,
      "outputs": []
    },
    {
      "cell_type": "code",
      "source": [
        "# 두 수의 합/차이/곱셈/나눗셈 을 출력하는 함수\n",
        "def cal(a, b):\n",
        "    print(a + b)\n",
        "    print(a - b)\n",
        "    print(a * b)\n",
        "    print(a / b)\n",
        "cal(9,3)"
      ],
      "metadata": {
        "id": "Ye7jj4sW7fmv"
      },
      "execution_count": null,
      "outputs": []
    },
    {
      "cell_type": "code",
      "source": [
        "# 세 개의 숫자를 입력받아 가장 큰수를 출력하는 print_max 함수를 정의하라. \n",
        "# 단, if문을 사용해서 수를 비교하시오.\n",
        "\n",
        "def print_max(a,b,c):\n",
        "    max_val = 0\n",
        "    if a > max_val:     # 0보다 큰 값을 받기를 원함\n",
        "        max_val = a\n",
        "    if b > max_val:     # max_val = a\n",
        "        max_val = b\n",
        "    if c > max_val:\n",
        "        max_val = c\n",
        "    print(max_val)\n",
        "\n",
        "print_max(5,6,1)"
      ],
      "metadata": {
        "id": "kvjB2zjLB4Nc"
      },
      "execution_count": null,
      "outputs": []
    },
    {
      "cell_type": "code",
      "source": [
        "# 입력된 문자열을 역순으로 출력하는 reverse 함수\n",
        "def print_reverse(string_a):\n",
        "    print(string_a[::-1])\n",
        "\n",
        "print_reverse('python')"
      ],
      "metadata": {
        "id": "QiXh5JjsEp0u"
      },
      "execution_count": null,
      "outputs": []
    },
    {
      "cell_type": "code",
      "source": [
        "# 평균을 출력하는 함수\n",
        "def average_list(score_list):\n",
        "    print(sum(score_list) / len(score_list))\n",
        "average_list([1,2,3])"
      ],
      "metadata": {
        "id": "8IzACC0IFNf6"
      },
      "execution_count": null,
      "outputs": []
    },
    {
      "cell_type": "code",
      "source": [
        "# 하나의 리스트를 입력받아서 짝수만 출력하는 함수\n",
        "def print_even(list_num):\n",
        "     for num in list_num:\n",
        "         if num % 2 == 0:\n",
        "             print(num)\n",
        "\n",
        "print_even([1, 3, 2, 10, 12, 11, 15])"
      ],
      "metadata": {
        "id": "uTG-VobYFaWj"
      },
      "execution_count": null,
      "outputs": []
    },
    {
      "cell_type": "code",
      "source": [
        "def print_dic(my_dict):\n",
        "    print(list(my_dict.values()))\n",
        "    \n",
        "print_dic({\"이름\" : \"홍길동\", \"나이\" : 30, \"직업\" : \"의적\"})"
      ],
      "metadata": {
        "id": "S2yGfcXDHXVJ"
      },
      "execution_count": null,
      "outputs": []
    },
    {
      "cell_type": "code",
      "source": [
        "# 함수 내부의 결과는 접근이 불가합니다.\n",
        "\n",
        "def n_plus(n):\n",
        "    m = n + 1\n",
        "    # return m\n",
        "\n",
        "print(n_plus(3))\n",
        "# print(m) # error"
      ],
      "metadata": {
        "id": "B0-NjM8EH_hk"
      },
      "execution_count": null,
      "outputs": []
    },
    {
      "cell_type": "code",
      "source": [
        "# 문자열 하나를 입력받아서 인터넷 주소를 반환하는 함수\n",
        "def make_url(string):\n",
        "    url = \"www.\" + string + \".com\"\n",
        "    return url\n",
        "\n",
        "make_url(\"naver\")"
      ],
      "metadata": {
        "id": "ZFVbm58FI4aw"
      },
      "execution_count": null,
      "outputs": []
    },
    {
      "cell_type": "code",
      "source": [
        "# 문자열 하나씩 입력받아서 리스트화\n",
        "def make_list(string):\n",
        "    my_list = []\n",
        "    for i in string:\n",
        "        my_list.append(i)\n",
        "    return my_list\n",
        "    # return [i for i in string]\n",
        "\n",
        "make_list(\"abcd\")"
      ],
      "metadata": {
        "id": "j89a5oIiJVl8"
      },
      "execution_count": null,
      "outputs": []
    },
    {
      "cell_type": "code",
      "source": [
        "# 문자열 대체\n",
        "\n",
        "def convert_int(string):\n",
        "    return int(string.replace(',','')) # replace ',' -> '' 으로 변경\n",
        "\n",
        "convert_int('123,456')"
      ],
      "metadata": {
        "id": "ax36tkfGKNWU"
      },
      "execution_count": null,
      "outputs": []
    },
    {
      "cell_type": "code",
      "source": [
        "def number_1(num):\n",
        "    return num + 4\n",
        "\n",
        "a = number_1(10)\n",
        "b = number_1(a)\n",
        "c = number_1(b) # number_1(number_1(number_1(10)))\n",
        "\n",
        "print(c)"
      ],
      "metadata": {
        "id": "fbV5ub2ANhlP"
      },
      "execution_count": null,
      "outputs": []
    },
    {
      "cell_type": "code",
      "source": [
        "def def_1(num):\n",
        "    return num + 4\n",
        "\n",
        "def def_2(num):\n",
        "    num = num + 2\n",
        "    return def_1(num)\n",
        "\n",
        "c = def_2(10)\n",
        "print(c)"
      ],
      "metadata": {
        "id": "Ko-F_dVeN87E"
      },
      "execution_count": null,
      "outputs": []
    },
    {
      "cell_type": "code",
      "source": [
        "def def_1(num):\n",
        "    return num * 2\n",
        "\n",
        "def def_2(num):\n",
        "    return def_1(num + 2)\n",
        "\n",
        "def def_3(num):\n",
        "    num = num + 10\n",
        "    return def_2(num)\n",
        "\n",
        "c = def_3(2)  # 2 -> 12 -> 14 -> 28\n",
        "print(c)"
      ],
      "metadata": {
        "id": "HhI1LygmOKLJ"
      },
      "execution_count": null,
      "outputs": []
    },
    {
      "cell_type": "code",
      "source": [
        "def double(x):\n",
        "    y = x\n",
        "    x = 10  # 의미 없음\n",
        "    return y * y\n",
        "\n",
        "x = 3\n",
        "print(double(x))\n",
        "print(x)"
      ],
      "metadata": {
        "id": "yoLHmE6ZPQjW"
      },
      "execution_count": null,
      "outputs": []
    },
    {
      "cell_type": "code",
      "source": [
        "# return 에 매개변수 없이 출력이 되면 함수 내 문장과 상관없이 그 값을 빠져나옵니다.\n",
        "def test_01(a):\n",
        "    if a == 10:\n",
        "        return  # pass\n",
        "    else:\n",
        "        print(\"10이 아닙니다.\")\n",
        "    \n",
        "test_01(10)\n",
        "test_01(1)"
      ],
      "metadata": {
        "id": "sjl2I7_MPxAt"
      },
      "execution_count": null,
      "outputs": []
    },
    {
      "cell_type": "code",
      "source": [
        "# 함수의 호출 과정(키워드 인수)\n",
        "# 위치인수는 호출할때 함수의 정의와 인수 순서가 같은 순서로 지정\n",
        "# 위치가 틀어지면 값이 완전히 바뀔수 있다.\n",
        "\n",
        "def billing(unit_prices, units, fees, tax_rate):\n",
        "  return (unit_prices * units + fees) * tax_rate\n",
        "  \n",
        "x = billing(1000, 10, 500, 1.1)\n",
        "print(x)\n",
        "\n",
        "y = billing(10, 1000, 1.1, 500)\n",
        "print(y)\n",
        "\n",
        "x = billing(unit_prices = 1000, units = 10, fees = 500, tax_rate = 1.1)\n",
        "print(x)\n",
        "\n",
        "x = billing(units = 10, unit_prices = 1000, tax_rate = 1.1, fees = 500)\n",
        "print(x)\n",
        "\n",
        "# 키워드 + 위치인수\n",
        "x = billing(1000, 10, tax_rate = 1.1, fees = 500)\n",
        "print(x)"
      ],
      "metadata": {
        "id": "xU8qB-0fQnN3"
      },
      "execution_count": null,
      "outputs": []
    },
    {
      "cell_type": "code",
      "source": [
        "def f(x):\n",
        "  y = x\n",
        "  x = 7\n",
        "  return y * x\n",
        "\n",
        "x = 4\n",
        "print(f(3))\n",
        "print(x)\n",
        "\n",
        "# 21\n",
        "# 4"
      ],
      "metadata": {
        "id": "tUmiwBHiSzA3"
      },
      "execution_count": null,
      "outputs": []
    },
    {
      "cell_type": "code",
      "source": [
        "name = 'jinho'\n",
        "\n",
        "def call_my_name():\n",
        "    print(name)  \n",
        "    # name = 'sehoon'    # error\n",
        "\n",
        "call_my_name()"
      ],
      "metadata": {
        "id": "fxbWL2iPTpnZ"
      },
      "execution_count": null,
      "outputs": []
    },
    {
      "cell_type": "code",
      "source": [
        "def say_myself(name, old, woman = True):\n",
        "    print(f\"나의 이름은 {name}입니다.\")\n",
        "    print(f\"나의 나이는 {old}입니다.\")\n",
        "    if woman:\n",
        "        print(\"여성입니다.\")\n",
        "    else:\n",
        "        print(\"남성입니다.\")\n",
        "\n",
        "say_myself(\"최주영\", 35)  # default True\n",
        "\n",
        "# 나의 이름은 최주영입니다.\n",
        "# 나의 나이는 35입니다.\n",
        "# 여성입니다."
      ],
      "metadata": {
        "id": "xaSGDVwDUTmG"
      },
      "execution_count": null,
      "outputs": []
    },
    {
      "cell_type": "code",
      "source": [
        "def exam_func():\n",
        "    x = 10\n",
        "    print(f\"Value: {x}\")\n",
        "\n",
        "x = 20\n",
        "exam_func()\n",
        "print(f\"Value: {x}\")"
      ],
      "metadata": {
        "id": "yJad3ziCUxJK"
      },
      "execution_count": null,
      "outputs": []
    },
    {
      "cell_type": "code",
      "source": [
        "def get_abbr(data_list):\n",
        "    result = []\n",
        "\n",
        "    for x in data_list:\n",
        "        result.append(x[:3])    # ['Seo', 'Any', 'Inc', 'Jej']\n",
        "\n",
        "    # for x in data_list[:3]:     # ['Seoul', 'Anyang', 'Incheon']\n",
        "        # result.append(x)\n",
        "\n",
        "    return result\n",
        "\n",
        "get_abbr(['Seoul', 'Anyang', 'Incheon', 'Jeju'])"
      ],
      "metadata": {
        "id": "CCnAd5KvVdFT"
      },
      "execution_count": null,
      "outputs": []
    },
    {
      "cell_type": "code",
      "source": [
        "test_data = 3\n",
        "def hi(a):\n",
        "    b = a*3\n",
        "    return b\n",
        "\n",
        "print(hi(test_data))"
      ],
      "metadata": {
        "id": "EX_dR7wDWt68"
      },
      "execution_count": null,
      "outputs": []
    },
    {
      "cell_type": "code",
      "source": [
        "a = 111\n",
        "b = 222\n",
        "\n",
        "def function_1():\n",
        "    print(a)\n",
        "    print(b)\n",
        "\n",
        "def function_2():\n",
        "    a = 333\n",
        "    print(b)\n",
        "    print(a)\n",
        "\n",
        "function_1()\n",
        "function_2()"
      ],
      "metadata": {
        "id": "_1Hp_aBYWwPZ"
      },
      "execution_count": null,
      "outputs": []
    }
  ]
}