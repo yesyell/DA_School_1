{
  "nbformat": 4,
  "nbformat_minor": 0,
  "metadata": {
    "colab": {
      "provenance": [],
      "authorship_tag": "ABX9TyOfH/0f19MTSeJ6QqQMMPTb",
      "include_colab_link": true
    },
    "kernelspec": {
      "name": "python3",
      "display_name": "Python 3"
    },
    "language_info": {
      "name": "python"
    }
  },
  "cells": [
    {
      "cell_type": "markdown",
      "metadata": {
        "id": "view-in-github",
        "colab_type": "text"
      },
      "source": [
        "<a href=\"https://colab.research.google.com/github/yesyell/DA_School_1/blob/main/Python%20%EA%B8%B0%EC%B4%88/formatting.ipynb\" target=\"_parent\"><img src=\"https://colab.research.google.com/assets/colab-badge.svg\" alt=\"Open In Colab\"/></a>"
      ]
    },
    {
      "cell_type": "markdown",
      "source": [
        "# formatting\n",
        "## 문자열의 형식을 지정하는 방법\n",
        "\n",
        "- 이전 방식 : \"문자열 + 형식문자로 구성된 출력형식\"%(변수)\n",
        "  - 출력형식에 형식화된 문자열을 넣어 출력의 모양을 변경하는 것\n",
        "  - \"%형식문자\"로 지정하면 % 뒤의 출력 대상들이 1:1로 대응되어 출력됨\n",
        "    - %s : 문자열, %d : 정수, %f : 실수 등이 있음\n",
        "    - %03d : 정수를 3칸에 맞추어 출력하는데 앞의 빈칸은 0으로 채워라\n",
        "    - %6.2f : 실수를 전체 6칸 소수이하 2칸에 맞추어 출력하라\n",
        "\n",
        "- Python 3 포맷팅 방식 : \"문자열 + {}로 구성된 출력형식\".format(변수)\n",
        "  - 출력형식에 형식화된 문자열을 넣어 출력의 모양을 변경하는 것\n",
        "  - \"{}\" 지정하면 format에 기술한 출력 대상들이 대응되어 출력됨\n",
        "    - \"name: {}\".format('김예린')\n",
        "  - \"{n}\" 안에 숫자를 지정하여 출력 대상의 위치를 지정할 수 있음\n",
        "  - 함수의 인자처럼 키워드를 사용해서 나타낼 수 있음\n",
        "  - 동일한 데이터를 여러번 출력할 수 있음\n",
        "\n",
        "- Python 3.6 이상부터 지원 : f-string **f'문자열 {변수} 문자열**\n",
        "  - f-문자열, 문자열에 `f` 또는 `F` 접두어를 붙이고 변수를 {}로 작성하여 문자열에 파이썬 표현식의 값을 삽입할 수 있게 함\n",
        "  - 선택적인 포맷 지정자가 변수 뒤에 올 수 있음\n",
        "    - f' 문자열 {math.pi:3f}' : 원주율을 소수점 이하 세 자리로 반올림함"
      ],
      "metadata": {
        "id": "HqXcO7oBPH-G"
      }
    },
    {
      "cell_type": "code",
      "execution_count": null,
      "metadata": {
        "colab": {
          "base_uri": "https://localhost:8080/"
        },
        "id": "tlO6h4t2PDpP",
        "outputId": "94b58397-e6ea-4357-a0e6-233032a433e6"
      },
      "outputs": [
        {
          "output_type": "stream",
          "name": "stdout",
          "text": [
            "나의 이름은 한사람입니다\n",
            "나의 이름은 \"한사람\"입니다. 나이는 33세이고 성별은 남성입니다.\n",
            "나이는 33세이고 성별은 남성입니다. 나의 이름은 한사람입니다. \n",
            "나이는 033세이고 신장은  56.79입니다. 나의 이름은 한사람입니다. \n"
          ]
        }
      ],
      "source": [
        "# 이전 방식\n",
        "print('나의 이름은 %s입니다'%('한사람'))\n",
        "print('나의 이름은 \"%s\"입니다. 나이는 %d세이고 성별은 %s입니다.'%('한사람',33,'남성'))\n",
        "print('나이는 %d세이고 성별은 %s입니다. 나의 이름은 %s입니다. '%(33,'남성','한사람'))\n",
        "print('나이는 %03d세이고 신장은 %6.2f입니다. 나의 이름은 %s입니다. '%(33,56.789,'한사람'))"
      ]
    },
    {
      "cell_type": "code",
      "source": [
        "# 파이썬(Python) 3 포맷팅 방식\n",
        "print('나의 이름은 {}입니다'.format('한사람'))\n",
        "print('나의 이름은 {0}입니다. 나이는 {1}세이고 성별은 {2}입니다.'.format('한사람',33,'남성'))\n",
        "\n",
        "print('나이는 {1}세이고 성별은 {2}입니다. 나의 이름은 {0}입니다. '.format('한사람',33,'남성'))\n",
        "print('나이는 {age}세이고 성별은 {gender}입니다. 나의 이름은 {name}입니다. '\n",
        "         .format(name='한사람',age=33,gender='남성'))\n",
        "\n",
        "print('만세삼창 :  {0}!!! {0}!!! {0}!!! '.format('만세'))\n",
        "print('삼삼칠 박수 :  {0}!!! {0}!!! {1}!!! '.format('짝'*3,'짝'*7))"
      ],
      "metadata": {
        "colab": {
          "base_uri": "https://localhost:8080/"
        },
        "id": "0ArDGRQ_TSYm",
        "outputId": "e00492b3-97dc-44f8-85a2-cd4294d9a3d8"
      },
      "execution_count": null,
      "outputs": [
        {
          "output_type": "stream",
          "name": "stdout",
          "text": [
            "나의 이름은 한사람입니다\n",
            "나의 이름은 한사람입니다. 나이는 33세이고 성별은 남성입니다.\n",
            "나이는 33세이고 성별은 남성입니다. 나의 이름은 한사람입니다. \n",
            "나이는 33세이고 성별은 남성입니다. 나의 이름은 한사람입니다. \n",
            "만세삼창 :  만세!!! 만세!!! 만세!!! \n",
            "삼삼칠 박수 :  짝짝짝!!! 짝짝짝!!! 짝짝짝짝짝짝짝!!! \n"
          ]
        }
      ]
    },
    {
      "cell_type": "code",
      "source": [
        "# 파이썬(Python) 3.6 f-string 방식\n",
        "something = '볼펜'\n",
        "EA = 2\n",
        "one_length = 5.343\n",
        "scale = 'cm'\n",
        "\n",
        "print(f'{something} {EA}개의 길이는 {one_length*EA}{scale} 입니다.')\n",
        "print(f'{something} {EA}개의 길이는 {one_length*EA:.1f}{scale} 입니다.')"
      ],
      "metadata": {
        "colab": {
          "base_uri": "https://localhost:8080/"
        },
        "id": "uvOVCL1mTYg8",
        "outputId": "c90b0caa-1286-4626-d5d2-fc996a52c6ff"
      },
      "execution_count": null,
      "outputs": [
        {
          "output_type": "stream",
          "name": "stdout",
          "text": [
            "볼펜 2개의 길이는 10.686cm 입니다.\n",
            "볼펜 2개의 길이는 10.7cm 입니다.\n"
          ]
        }
      ]
    },
    {
      "cell_type": "markdown",
      "source": [
        "## format 길이와 정렬\n",
        "- {:길이} : 출력할 데이터의 길이를 지정함. 문자열(왼쪽 정렬), 숫자(오른쪽 정렬)\n",
        "- {:<길이} : 왼쪽 정렬\n",
        "- {:>길이} : 오른쪽 정렬\n",
        "- {:^길이} : 가운데 정렬"
      ],
      "metadata": {
        "id": "mxyMBnggTqSy"
      }
    },
    {
      "cell_type": "code",
      "source": [
        "print('Python is [{:15}]'.format('good'))\n",
        "print('Python is [{:<15}]'.format('good'))\n",
        "print('Python is [{:>15}]'.format('good'))\n",
        "print('Python is [{:^15}]'.format('good'))\n",
        "\n",
        "print('당신의 나이는 [{:15}]세'.format(22))\n",
        "print('당신의 나이는 [{:<15}]세'.format(22))\n",
        "print('당신의 나이는 [{:>15}]세'.format(22))\n",
        "print('당신의 나이는 [{:^15}]세'.format(22))"
      ],
      "metadata": {
        "colab": {
          "base_uri": "https://localhost:8080/"
        },
        "id": "ltqr2RSjUR7V",
        "outputId": "afdfe2c4-6011-4bf8-9e96-a817fcfee3b0"
      },
      "execution_count": null,
      "outputs": [
        {
          "output_type": "stream",
          "name": "stdout",
          "text": [
            "Python is [good           ]\n",
            "Python is [good           ]\n",
            "Python is [           good]\n",
            "Python is [     good      ]\n",
            "당신의 나이는 [             22]세\n",
            "당신의 나이는 [22             ]세\n",
            "당신의 나이는 [             22]세\n",
            "당신의 나이는 [      22       ]세\n"
          ]
        }
      ]
    },
    {
      "cell_type": "markdown",
      "source": [
        "## f-string 길이와 정렬"
      ],
      "metadata": {
        "id": "UfkGfw8XUVhH"
      }
    },
    {
      "cell_type": "code",
      "source": [
        "char_a = '5'\n",
        "int_a = 5\n",
        "\n",
        "'''기본적으로 {} 포맷팅의 특성을 그대로 가짐'''\n",
        "print(1234567890)\n",
        "print(f'{char_a:5}') \n",
        "print(f'{char_a:>5}') # >는 오른쪽정렬\n",
        "print(f'{char_a:<5}') # <는 왼쪽정렬\n",
        "print(f'{char_a:^5}') # ^는 가운데정렬\n",
        "\n",
        "print(f'{int_a:0<5}')# <는 왼쪽정렬, 빈자리를 0으로 채울수도 있음\n",
        "print(f'{int_a:^10.2f}') # ^ 가운데 정렬하면서 float 타입지정"
      ],
      "metadata": {
        "colab": {
          "base_uri": "https://localhost:8080/"
        },
        "id": "TQTRjH7RU04X",
        "outputId": "700d067f-b5ec-45a0-cd52-81b5829e5ac0"
      },
      "execution_count": null,
      "outputs": [
        {
          "output_type": "stream",
          "name": "stdout",
          "text": [
            "1234567890\n",
            "5    \n",
            "    5\n",
            "5    \n",
            "  5  \n",
            "50000\n",
            "   5.00   \n"
          ]
        }
      ]
    }
  ]
}