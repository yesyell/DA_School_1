{
  "nbformat": 4,
  "nbformat_minor": 0,
  "metadata": {
    "colab": {
      "private_outputs": true,
      "provenance": [],
      "authorship_tag": "ABX9TyP5DfEJ4jJsRRtL9Pg97p08",
      "include_colab_link": true
    },
    "kernelspec": {
      "name": "python3",
      "display_name": "Python 3"
    },
    "language_info": {
      "name": "python"
    }
  },
  "cells": [
    {
      "cell_type": "markdown",
      "metadata": {
        "id": "view-in-github",
        "colab_type": "text"
      },
      "source": [
        "<a href=\"https://colab.research.google.com/github/yesyell/DA_School_1/blob/main/Python%20%EA%B8%B0%EC%B4%88/Python%EA%B8%B0%EC%B4%88_Test.ipynb\" target=\"_parent\"><img src=\"https://colab.research.google.com/assets/colab-badge.svg\" alt=\"Open In Colab\"/></a>"
      ]
    },
    {
      "cell_type": "markdown",
      "source": [
        "1. 시간 출력하기"
      ],
      "metadata": {
        "id": "evbPO12scj2m"
      }
    },
    {
      "cell_type": "code",
      "execution_count": null,
      "metadata": {
        "id": "u575WH0ecgkt"
      },
      "outputs": [],
      "source": [
        "# 코딩을 하는데 시간이 얼마나 걸리는 지 측정하는 코드\n",
        "import time\n",
        "start = time.time()\n",
        "\n",
        "# 프로그램 소스코드\n",
        "\n",
        "end = time.time()\n",
        "\n",
        "print(f'프로그램은 {end - start}초 소요됩니다.')"
      ]
    },
    {
      "cell_type": "markdown",
      "source": [
        "2. for  / while  / if "
      ],
      "metadata": {
        "id": "3HSqFtaSdf5n"
      }
    },
    {
      "cell_type": "code",
      "source": [
        "# 1 ~ 9 까지 더하는 프로그램을 만드시오.\n",
        "summary = 0\n",
        "for i in range(10):\n",
        "    summary += i\n",
        "print(summary)"
      ],
      "metadata": {
        "id": "s0VG_QQAdfPg"
      },
      "execution_count": null,
      "outputs": []
    },
    {
      "cell_type": "code",
      "source": [
        "# 1 ~ 9 까지 홀수의 합을 구하는 프로그램을 만드시오.\n",
        "i = 1\n",
        "summary = 0\n",
        "while i < 10:\n",
        "    summary += i\n",
        "    i += 2\n",
        "print(summary)"
      ],
      "metadata": {
        "id": "0mvAsNTGd4HW"
      },
      "execution_count": null,
      "outputs": []
    },
    {
      "cell_type": "code",
      "source": [
        "# 1000 미만의 자연수에서 3의 배수와 5의 배수의 총합을 구하는 프로그램을 작성하시오\n",
        "result = 0\n",
        "for i in range(1000):\n",
        "    if i % 3 == 0 or i % 5 == 0:\n",
        "        result += i\n",
        "print(result)"
      ],
      "metadata": {
        "id": "3U3RYu7-es7p"
      },
      "execution_count": null,
      "outputs": []
    },
    {
      "cell_type": "markdown",
      "source": [
        "3. List Comprehension\n",
        "\n",
        "- 파이썬 기초 -  chapter 4.2 응용문제\n",
        "- 직관적인 코드 짜기 - **리스트 컴프리헨션을 사용하는 큰 이유는 직관적이고, 여러줄 쓸걸 한줄에 만들어 주기 때문입니다.** 심지어 속도도 더 빠릅니다."
      ],
      "metadata": {
        "id": "iGXPcw0wfAlN"
      }
    },
    {
      "cell_type": "code",
      "source": [
        "# for 문을 이용해서 1 ~ 9 까지 숫자를 포함하는 리스트\n",
        "array = [i for i in range(10)]\n",
        "print(array)"
      ],
      "metadata": {
        "id": "cVY4RuWefCRH"
      },
      "execution_count": null,
      "outputs": []
    },
    {
      "cell_type": "code",
      "source": [
        "# 위의 코드를 응용 - 연산 추가 : 1부터 9까지의 수들의 제곱값을 포함하는 리스트\n",
        "array = [i**2 for i in range(10)]\n",
        "print(array)"
      ],
      "metadata": {
        "id": "W3EGPRaKfUDp"
      },
      "execution_count": null,
      "outputs": []
    },
    {
      "cell_type": "code",
      "source": [
        "# for 문 / 조건문을 이용해서 0부터 19까지의 수 중에서 홀수만 포함하는 리스트\n",
        "array = [i for i in range(20) if i % 2 != 0]\n",
        "print(array)"
      ],
      "metadata": {
        "id": "Uocy1zf0fUWG"
      },
      "execution_count": null,
      "outputs": []
    },
    {
      "cell_type": "code",
      "source": [
        "# 2차원 리스트 내 모든값의 합을 더하는 프로그램\n",
        "total_sum = 0\n",
        "matrix = [[1, 2, 3], [4, 5, 6], [7, 8, 9]]\n",
        "\n",
        "for row in matrix:\n",
        "    total_sum += sum(row)\n",
        "\n",
        "# total_sum = sum([sum(row) for row in matrix])\n",
        "\n",
        "print(total_sum)"
      ],
      "metadata": {
        "id": "9FBcki4ygSVz"
      },
      "execution_count": null,
      "outputs": []
    },
    {
      "cell_type": "code",
      "source": [
        "# 주어진 문자열에서 가장 많이 등장한 알파벳을 출력하는 파이썬 코드를 작성해보세요\n",
        "string = 'Hello, World! This is a sample string for testing purposes.'\n",
        "\n",
        "# 문자열에서 알파벳만 추출하여 소문자로 변환\n",
        "alphabet_list = [char.lower() for char in string if char.isalpha()]\n",
        "# print(alphabet_list)\n",
        "\n",
        "# 알파벳의 등장 횟수를 계산하여 딕셔너리에 저장\n",
        "alphabet_dict = {}\n",
        "for alphabet in alphabet_list:\n",
        "    alphabet_dict[alphabet] = alphabet_list.count(alphabet)\n",
        "# print(alphabet_dict)\n",
        "\n",
        "# 가장 많이 등장한 알파벳 찾기\n",
        "max_count = 0\n",
        "max_alphabet = \"\"\n",
        "for alphabet, count in alphabet_dict.items():\n",
        "    if count > max_count:\n",
        "        max_count = count\n",
        "        max_alphabet = alphabet\n",
        "\n",
        "print(f\"가장 많이 등장한 알파벳은 '{max_alphabet}'입니다.\")"
      ],
      "metadata": {
        "id": "BbhPOCvzhs-L"
      },
      "execution_count": null,
      "outputs": []
    },
    {
      "cell_type": "markdown",
      "source": [
        "4. 중첩 for 반복문"
      ],
      "metadata": {
        "id": "zKvl_vh7gRyY"
      }
    },
    {
      "cell_type": "code",
      "source": [
        "# 아래와 같은 패턴의 별(*)삼각형을 출력하는 프로그램을 작성해보세요\n",
        "for i in range(5):\n",
        "    print('*'*(i+1))\n",
        "\n",
        "for i in range(5):        # 0부터 4까지 5번 반복. 세로 방향\n",
        "    for j in range(5):    # 0부터 4까지 5번 반복. 가로 방향\n",
        "        if j <= i:                # 세로 방향 변수 i만큼\n",
        "            print('*', end='')    # 별 출력. 줄바꿈을 하지 않음\n",
        "    print()               # 가로 방향으로 별을 다 그린 뒤 다음 줄로 넘어감 \n",
        "                          # (print는 출력 후 기본적으로 다음 줄로 넘어감)\n",
        "# *\n",
        "# **\n",
        "# ***\n",
        "# ****\n",
        "# *****"
      ],
      "metadata": {
        "id": "6ymQB3wch0fn"
      },
      "execution_count": null,
      "outputs": []
    },
    {
      "cell_type": "code",
      "source": [
        "# 대각선으로 별 출력하는 프로그램 만들기 (* 5줄)\n",
        "# for i in range(5):\n",
        "#     print(' '*i+'*')\n",
        " \n",
        "for i in range(5):        \n",
        "    for j in range(5):    \n",
        "        if j == i:                # 세로 방향 변수와 같을 때\n",
        "            print('*', end='')    # 별 출력. end에 ''를 지정하여 줄바꿈을 하지 않음\n",
        "        else:                     # 세로 방향 변수와 다를 때\n",
        "            print(' ', end='')    # 공백 출력. end에 ''를 지정하여 줄바꿈을 하지 않음\n",
        "    print()\n",
        "\n",
        "# *\n",
        "#   *\n",
        "#     *\n",
        "#       *\n",
        "#         *"
      ],
      "metadata": {
        "id": "sq1aXNkXh-cX"
      },
      "execution_count": null,
      "outputs": []
    },
    {
      "cell_type": "code",
      "source": [
        "# n 개의 별 트리를 만드는 프로그램을 작성해보세요.\n",
        "n = int(input('숫자를 입력하시요 : '))\n",
        "for i in range(n):\n",
        "    for j in range(i+1):\n",
        "        print('*', end='')\n",
        "    print()"
      ],
      "metadata": {
        "id": "SaDQPsyZwtAZ"
      },
      "execution_count": null,
      "outputs": []
    },
    {
      "cell_type": "code",
      "source": [
        "# 거꾸로 뒤집힌 트리를 만드는 프로그램\n",
        "n = int(input('숫자를 입력하시요 : '))\n",
        "for i in range(n):\n",
        "    for j in range(n-i):\n",
        "        print('*', end='')\n",
        "    print()"
      ],
      "metadata": {
        "id": "MBcYNNhcxrYk"
      },
      "execution_count": null,
      "outputs": []
    },
    {
      "cell_type": "code",
      "source": [
        "# 사각형의 별 모양을 출력하는 프로그램\n",
        "n = int(input('숫자를 입력하시요 : '))\n",
        "for i in range(n):\n",
        "    for j in range(n):\n",
        "        print('*', end='')\n",
        "    print()"
      ],
      "metadata": {
        "id": "BvhacVSsy_wD"
      },
      "execution_count": null,
      "outputs": []
    },
    {
      "cell_type": "code",
      "source": [
        "# 공백을 넣어 삼각형 *트리를 출력하는 프로그램\n",
        "n = int(input('숫자를 입력하시요 : '))\n",
        "for i in range(n):\n",
        "    for j in range(n-i):\n",
        "        print(' ', end='')\n",
        "    for k in range(i+1):\n",
        "        print('*', end='')\n",
        "    print()"
      ],
      "metadata": {
        "id": "Dt62t2gtzPQA"
      },
      "execution_count": null,
      "outputs": []
    },
    {
      "cell_type": "code",
      "source": [
        "# 서로 다른 각 수의 합이 target_sum = 10 과 같은 원소의 조합을 출력해보세요.\n",
        "num_list = [1, 2, 3, 4, 5, 6, 7, 8, 9]\n",
        "target_sum = 10\n",
        "result_list = []\n",
        "\n",
        "for i in range(len(num_list)):\n",
        "    for j in range(i+1, len(num_list)):\n",
        "        if num_list[i] + num_list[j] == target_sum:\n",
        "           result_list.append((num_list[i], num_list[j]))\n",
        "print(f'합이 {target_sum}인 조합을 찾았습니다.')\n",
        "\n",
        "for result in result_list:\n",
        "    print(result) "
      ],
      "metadata": {
        "id": "Q0O-WJWuQe6v"
      },
      "execution_count": null,
      "outputs": []
    },
    {
      "cell_type": "markdown",
      "source": [
        "5. format() , f-string"
      ],
      "metadata": {
        "id": "XmsTftqDiZ_D"
      }
    },
    {
      "cell_type": "code",
      "source": [
        "for i in range(2, 10):\n",
        "    print(f\"---{i}단---\")\n",
        "    for k in range(1, 10):\n",
        "        print(i,\"x\",k,\"=\",i*k)"
      ],
      "metadata": {
        "id": "L_LTsPfSiZuY"
      },
      "execution_count": null,
      "outputs": []
    },
    {
      "cell_type": "code",
      "source": [
        "# 구구단 결과 값’만’ 출력하시오.\n",
        "for i in range(2, 10):\n",
        "    for j in range(1, 10):\n",
        "        print(f'{i*j:2}', end=\" \") # print('{:4d}'.format(i*j), end=\"\")\n",
        "    print()"
      ],
      "metadata": {
        "id": "tny5q7D6TERF"
      },
      "execution_count": null,
      "outputs": []
    },
    {
      "cell_type": "markdown",
      "source": [
        "6. 자료구조 "
      ],
      "metadata": {
        "id": "rX2bB4EUiXz0"
      }
    },
    {
      "cell_type": "code",
      "source": [
        "# 데이터를 입력받아 year, month, day 변수에 넣고 출력해보세요.\n",
        "age = input(\"생년월일(19951031) 형태로 본인의 생년월일을 입력하시오\")\n",
        "\n",
        "# 날짜의 입력은 문자열 -> int 바꿔줘야 함\n",
        "year = int(age[:4])\n",
        "month = int(age[4:6])\n",
        "day = int(age[6:])\n",
        "\n",
        "print(year,'년생 ', month, '월', day, '일')"
      ],
      "metadata": {
        "id": "P6eaP8rwiYJJ"
      },
      "execution_count": null,
      "outputs": []
    },
    {
      "cell_type": "code",
      "source": [
        "# 현재 나의 나이를 출력하고, 미성년자 인지 아닌 지 조건문을 만들어보시오.\n",
        "from datetime import datetime\n",
        "dt = datetime.now()     # datetime() 응용 날짜 계산 - 시계열 처리할 때 많이 사용하는 함수\n",
        "print(dt)\n",
        "\n",
        "year_diff = dt.year - year\n",
        "month_diff = dt.month - month\n",
        "day_diff = dt.day - day\n",
        "\n",
        "if day_diff < 0 :       # 일 내림 처리\n",
        "    month_diff -= 1\n",
        "if month_diff < 0 :     # 월 내림 처리\n",
        "    year_diff -= 1\n",
        "print(\"당신의 나이는\", year_diff + 1)\n",
        "\n",
        "if year_diff < 18 :\n",
        "    print(\"당신은 미성년자입니다.\")\n",
        "else :\n",
        "    print(\"당신은 미성년자가 아닙니다.\")"
      ],
      "metadata": {
        "id": "qwhusoVkXrPi"
      },
      "execution_count": null,
      "outputs": []
    },
    {
      "cell_type": "code",
      "source": [
        "# 리스트의 모든 순열, 조합을 구해보시오.\n",
        "array = [1, 2, 3, 4, 5]\n",
        "\n",
        "from itertools import permutations\n",
        "list(permutations(array, 2))\n",
        "\n",
        "from itertools import combinations\n",
        "list(combinations(array, 2))\n",
        "\n",
        "p = permutations(array, 2)  # 순열\n",
        "c = combinations(array, 2)  # 조합\n",
        "\n",
        "print(list(p))\n",
        "print(list(c))"
      ],
      "metadata": {
        "id": "nW_pbbDdhJQ5"
      },
      "execution_count": null,
      "outputs": []
    },
    {
      "cell_type": "markdown",
      "source": [
        "7. lambda( a, b:)"
      ],
      "metadata": {
        "id": "MYXVt30mh-NC"
      }
    },
    {
      "cell_type": "code",
      "source": [
        "# lambda 표현식을 이용해서 리스트의 합을 새로운 리스트로 도출해보시오.\n",
        "list1= [1, 2, 3, 4, 5]\n",
        "list2= [6, 7, 8, 9, 10]\n",
        "\n",
        "result = list(map(lambda a, b: a+b, list1, list2))  \n",
        "# map은 리스트의 요소를 지정된 함수로 처리해주는 함수입니다.\n",
        "# map에는 모든 반복 가능한 객체(range)를 넣을 수 있습니다.\n",
        "print(result) "
      ],
      "metadata": {
        "id": "mB0aGFhkiShL"
      },
      "execution_count": null,
      "outputs": []
    },
    {
      "cell_type": "code",
      "source": [
        "# 실수가 저장된 리스트가 있을 때 이 리스트의 모든 요소를 정수로 변환해 보세요.\n",
        "a = [1.2, 2.5, 3.7, 4.6]\n",
        "\n",
        "int_a = [int(i) for i in a] # list(map(int, a))\n",
        "print(int_a)\n",
        "\n"
      ],
      "metadata": {
        "id": "tbojegjoi13-"
      },
      "execution_count": null,
      "outputs": []
    },
    {
      "cell_type": "code",
      "source": [
        "import time\n",
        "\n",
        "# for 문 실행 코드\n",
        "start_time = time.time() # 측정 시작\n",
        "\n",
        "a = [1.2, 2.5, 3.7, 4.6, 5.6, 5.5, 4, 3.5, 3.3, 2.2]\n",
        "for i in range(len(a)):\n",
        "     a[i] = int(a[i])\n",
        "print(a)\n",
        "\n",
        "end_time = time.time() \n",
        "print(\"for - time:\", end_time - start_time) \n",
        "\n",
        "# map 실행코드 \n",
        "start_time2 = time.time()\n",
        "\n",
        "a = [1.2, 2.5, 3.7, 4.6, 5.6, 5.5, 4, 3.5, 3.3, 2.2]\n",
        "a = list(map(int, a))\n",
        "print(a)\n",
        "\n",
        "end_time2 = time.time() # 측정 종료\n",
        "print(\"map - time:\", end_time2 - start_time2)"
      ],
      "metadata": {
        "id": "wN1jIsPUj1ll"
      },
      "execution_count": null,
      "outputs": []
    },
    {
      "cell_type": "code",
      "source": [
        "# 입력받은 문자열을 변수에 저장하는 함수를 작성합니다.\n",
        "a,b,c = map(str, input('글자 입력 구분시 , 를 사용하세요').split(','))\n",
        "\n",
        "print(a,b,c)"
      ],
      "metadata": {
        "id": "8gS-9Zrhi4EI"
      },
      "execution_count": null,
      "outputs": []
    },
    {
      "cell_type": "code",
      "source": [
        "# 0부터 9까지 문자로 된 리스트를 작성해보세요.\n",
        "a = list(map(str, range(10)))\n",
        "a"
      ],
      "metadata": {
        "id": "GS3kH0yDlc1B"
      },
      "execution_count": null,
      "outputs": []
    },
    {
      "cell_type": "markdown",
      "source": [
        "8. if ~ else 조건문 연습하기"
      ],
      "metadata": {
        "id": "xVMUmRKyiFDh"
      }
    },
    {
      "cell_type": "code",
      "source": [
        "# 학생 3명의 점수를 임의로 입력해서 학점을 출력하는 프로그램\n",
        "# 90점 이상이면 A, 80점 이상이면 B, 70점 이상이면 C, 60점 이상이면 D, 그 이하는 F\n",
        "score = list(map(int, input().split(',')))\n",
        "for i in score:\n",
        "    if i >= 90: print('A')\n",
        "    elif i >= 80: print('B')\n",
        "    elif i >= 70: print('C')\n",
        "    elif i >= 60: print('D')\n",
        "    else : print('F')"
      ],
      "metadata": {
        "id": "fRx5zQoKiPaX"
      },
      "execution_count": null,
      "outputs": []
    },
    {
      "cell_type": "markdown",
      "source": [
        "9.  프로그래밍 문제 풀기"
      ],
      "metadata": {
        "id": "2HaLLPyOiFTA"
      }
    },
    {
      "cell_type": "code",
      "source": [
        "# 작은 수와 큰 수를 먼저 입력받습니다. 다음 마지막 수를 입력받는데요, \n",
        "# 이 마지막 수가 두 수의 범위 밖에 있다면 `범위를 벗어났습니다`라고 출력하고, \n",
        "# 두 수의 범위 내에 있다면, 가까이 있는 수를 출력하면서 `그 수와 가깝습니다`라고 출력하고, \n",
        "# 두 수간의 차이가 같다면 `중간값입니다`라고 출력합니다.\n",
        "\n",
        "# 예 : `20`과 `50`이라고 입력한 후, 마지막 숫자에 따른 출력은 다음과 같습니다.\n",
        "# `10` → `범위를 벗어났습니다`\n",
        "# `30` → `20과 가깝습니다`\n",
        "# `45` → `50과 가깝습니다`\n",
        "# `35` → `중간값입니다`\n",
        "\n",
        "small = int(input(\"작은 수를 입력하세요 >> \"))\n",
        "big = int(input(\"큰 수를 입력하세요 >> \"))\n",
        "last = int(input(\"마지막 수를 입력하세요 >> \"))\n",
        "\n",
        "if small > last or big < last:\n",
        "\tprint(\"범위를 벗어났습니다\")\n",
        "else:\n",
        "\tsmall_dif = last - small\n",
        "\tbig_diff = big - last\n",
        "\tif small_dif < big_diff:\n",
        "\t    print(small, \"과 가깝습니다\")\n",
        "\telif big_diff < small_dif:\n",
        "\t    print(big, \"과 가깝습니다\")\n",
        "\telse:\n",
        "\t    print(\"중간값입니다\")"
      ],
      "metadata": {
        "id": "HcmRTYoQiHHb"
      },
      "execution_count": null,
      "outputs": []
    }
  ]
}