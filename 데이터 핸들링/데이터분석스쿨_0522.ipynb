{
  "nbformat": 4,
  "nbformat_minor": 0,
  "metadata": {
    "colab": {
      "private_outputs": true,
      "provenance": [],
      "authorship_tag": "ABX9TyPb4BCizzGIlncA6fXE5RaH",
      "include_colab_link": true
    },
    "kernelspec": {
      "name": "python3",
      "display_name": "Python 3"
    },
    "language_info": {
      "name": "python"
    }
  },
  "cells": [
    {
      "cell_type": "markdown",
      "metadata": {
        "id": "view-in-github",
        "colab_type": "text"
      },
      "source": [
        "<a href=\"https://colab.research.google.com/github/yesyell/DA_School_1/blob/main/%EB%8D%B0%EC%9D%B4%ED%84%B0%20%ED%95%B8%EB%93%A4%EB%A7%81/%EB%8D%B0%EC%9D%B4%ED%84%B0%EB%B6%84%EC%84%9D%EC%8A%A4%EC%BF%A8_0522.ipynb\" target=\"_parent\"><img src=\"https://colab.research.google.com/assets/colab-badge.svg\" alt=\"Open In Colab\"/></a>"
      ]
    },
    {
      "cell_type": "markdown",
      "source": [
        "**데이터 핸들링**\n",
        "= 데이터 가공 or 데이터 전처리\n",
        "\n",
        "수집된 데이터 -> 분석하기 쉬운 형태의 데이터(csv, json)"
      ],
      "metadata": {
        "id": "y3lsUKz0zOKb"
      }
    },
    {
      "cell_type": "markdown",
      "source": [
        "# Numpy\n",
        "\n",
        "- 파이썬 라이브러리 중 하나 -> 과학 연산\n",
        "- 배열 -> 행렬 (선형대수)\n",
        "- 선형대수, 푸리에 변환 -> 수학 함수"
      ],
      "metadata": {
        "id": "YX67hUOE0JRK"
      }
    },
    {
      "cell_type": "code",
      "execution_count": null,
      "metadata": {
        "id": "GuDIraxqxect"
      },
      "outputs": [],
      "source": [
        "import numpy as np"
      ]
    },
    {
      "cell_type": "code",
      "source": [
        "a = np.array([1, 2, 3, 4])  # 1차원 배열 생성\n",
        "print(a)"
      ],
      "metadata": {
        "id": "lNauTT97124K"
      },
      "execution_count": null,
      "outputs": []
    },
    {
      "cell_type": "code",
      "source": [
        "l = [1, 2, 3, 4]  # list 자료형 \n",
        "print(l)"
      ],
      "metadata": {
        "id": "0MZAktEL2bbR"
      },
      "execution_count": null,
      "outputs": []
    },
    {
      "cell_type": "code",
      "source": [
        "print(a.shape)  # 배열 축의 크기 -> 행 개수 (4행, 0열)\n",
        "print(a.ndim)  # 배열의 차원\n",
        "print(a.dtype)  # 배열의 데이터 타입\n",
        "print(a.itemsize)  # 각 요소의 바이트 단위 크기"
      ],
      "metadata": {
        "id": "A9olyAn82lNP"
      },
      "execution_count": null,
      "outputs": []
    },
    {
      "cell_type": "code",
      "source": [
        "b = np.array([[1, 2], [3, 4]])  # 2차원 배열 생성 \n",
        "print(b)"
      ],
      "metadata": {
        "id": "eUoueiFQ3ax_"
      },
      "execution_count": null,
      "outputs": []
    },
    {
      "cell_type": "code",
      "source": [
        "print(b.shape) # (행, 열) \n",
        "print(b.ndim)\n",
        "print(b.dtype)\n",
        "print(b.itemsize)\n",
        "print(b.nbytes)"
      ],
      "metadata": {
        "id": "-ErOeRgN3qVJ"
      },
      "execution_count": null,
      "outputs": []
    },
    {
      "cell_type": "code",
      "source": [
        "c = np.array([[[1, 2], [3, 4]], [[5, 6], [7, 8]]])  # 3차원 배열 생성 \n",
        "print(c)"
      ],
      "metadata": {
        "id": "HGCwzCJN4aPt"
      },
      "execution_count": null,
      "outputs": []
    },
    {
      "cell_type": "code",
      "source": [
        "print(c.shape)\n",
        "print(c.ndim)\n",
        "print(c.dtype)\n",
        "print(c.itemsize)\n",
        "print(c.nbytes)"
      ],
      "metadata": {
        "id": "7ax_A78D4qp8"
      },
      "execution_count": null,
      "outputs": []
    },
    {
      "cell_type": "code",
      "source": [
        "print(np.array(range(10)))\n",
        "print(np.array(range(1, 11)))\n",
        "print(np.array(range(2, 11, 2)))\n",
        "print(np.array(range(10, 2, -1)))"
      ],
      "metadata": {
        "id": "Q7_2SLwuXG7s"
      },
      "execution_count": null,
      "outputs": []
    },
    {
      "cell_type": "code",
      "source": [
        "print(np.arange(10))\n",
        "print(np.arange(1, 11))\n",
        "print(np.arange(2, 11, 2))\n",
        "print(np.arange(2, 11, .5))\n",
        "print(np.arange(10, 2, -1))\n",
        "print(np.arange(10, 2, -.5))"
      ],
      "metadata": {
        "id": "wRd9cG4rYmh1"
      },
      "execution_count": null,
      "outputs": []
    },
    {
      "cell_type": "markdown",
      "source": [
        "## 용어 정리"
      ],
      "metadata": {
        "id": "7Xu13W2c6Etw"
      }
    },
    {
      "cell_type": "code",
      "source": [
        "# 하나의 숫자값: 스칼라\n",
        "s = np.array(1)\n",
        "print(s)"
      ],
      "metadata": {
        "id": "0dztFh8R5ARD"
      },
      "execution_count": null,
      "outputs": []
    },
    {
      "cell_type": "code",
      "source": [
        "# 1차원: 벡터(Vector)\n",
        "v = np.array([1, 2, 3])\n",
        "print(v)"
      ],
      "metadata": {
        "id": "QsPUGHlN5YPj"
      },
      "execution_count": null,
      "outputs": []
    },
    {
      "cell_type": "code",
      "source": [
        "# 2차원: 행렬(Matrix)\n",
        "m = np.array([[1, 2, 3], [1, 2, 3]])\n",
        "print(m)"
      ],
      "metadata": {
        "id": "j-tSlxTA5haa"
      },
      "execution_count": null,
      "outputs": []
    },
    {
      "cell_type": "code",
      "source": [
        "# 3차원: 텐서(Tensor)\n",
        "t = np.array([[[1, 2], [1, 2]], [[1, 2], [1, 2]]])\n",
        "print(t)"
      ],
      "metadata": {
        "id": "SXlhtzmU5ql9"
      },
      "execution_count": null,
      "outputs": []
    },
    {
      "cell_type": "code",
      "source": [
        "# for 문을 이용해서 배열 생성\n",
        "f = np.array([i for i in range(0, 10, 2)]) # (start, end, step)\n",
        "print(f)"
      ],
      "metadata": {
        "id": "DrIspcQA58DT"
      },
      "execution_count": null,
      "outputs": []
    },
    {
      "cell_type": "code",
      "source": [
        "print(f.shape)\n",
        "print(f.ndim)\n",
        "print(f.dtype)\n",
        "print(f.itemsize)\n",
        "print(f.nbytes)"
      ],
      "metadata": {
        "id": "gJ9ebscM6dGH"
      },
      "execution_count": null,
      "outputs": []
    },
    {
      "cell_type": "markdown",
      "source": [
        "## 데이터 타입"
      ],
      "metadata": {
        "id": "jB_PQhGb7oXY"
      }
    },
    {
      "cell_type": "markdown",
      "source": [
        "### 숫자형\n",
        "\n",
        "- 부호가 있는 정수(Signed integer)\n",
        "- 부호가 없는 정수(Unsigned integer)\n",
        "- 실수(floating point)\n",
        "- 복소수(complex)"
      ],
      "metadata": {
        "id": "T8u_rgeh-mlj"
      }
    },
    {
      "cell_type": "code",
      "source": [
        "# int (8, 16, 32, 64 bit)\n",
        "data = [1.1, 2, 3]\n",
        "i = np.array(data, dtype=np.int32)\n",
        "print(i)\n",
        "print(i.dtype)"
      ],
      "metadata": {
        "id": "IUTXDxOW7T5J"
      },
      "execution_count": null,
      "outputs": []
    },
    {
      "cell_type": "code",
      "source": [
        "# uint (8, 16, 32, 64 bit)\n",
        "data2 = [-1, 2, 3]\n",
        "ui = np.array(data2, dtype=np.uint32)  # [0 ~ 4,294,967,295]\n",
        "print(ui)"
      ],
      "metadata": {
        "id": "i6bVyE0Z_2ST"
      },
      "execution_count": null,
      "outputs": []
    },
    {
      "cell_type": "code",
      "source": [
        "# float\n",
        "f = np.array(data, dtype=np.float64)  # dtype='f'\n",
        "print(f)  # 소수점 0 생략 "
      ],
      "metadata": {
        "id": "i62qpngEADc5"
      },
      "execution_count": null,
      "outputs": []
    },
    {
      "cell_type": "code",
      "source": [
        "# complex\n",
        "c = np.array([1 + 2j, 3 + 4j, 5 + 6j], dtype=np.complex64)\n",
        "print(c)\n",
        "print(c.real)  # 실수 \n",
        "print(c.imag)  # 허수 "
      ],
      "metadata": {
        "id": "pboqgWieBcf7"
      },
      "execution_count": null,
      "outputs": []
    },
    {
      "cell_type": "markdown",
      "source": [
        "### 문자형\n",
        "\n",
        "- string_\n",
        "- unicode_"
      ],
      "metadata": {
        "id": "A1eIMMh-BCYg"
      }
    },
    {
      "cell_type": "code",
      "source": [
        "# string \n",
        "data = [1, 2, 3]\n",
        "s = np.string_(data)\n",
        "print(s)  # byte 단위 표시 \n",
        "print(s.dtype)  # S3 : string 3"
      ],
      "metadata": {
        "id": "D6qYHpx8B1KY"
      },
      "execution_count": null,
      "outputs": []
    },
    {
      "cell_type": "code",
      "source": [
        "data3 = [1, 2, 3, 4, 5]\n",
        "s2 = np.string_(data3) \n",
        "print(s2)\n",
        "print(s2.dtype)"
      ],
      "metadata": {
        "id": "NLewL9CqCrt5"
      },
      "execution_count": null,
      "outputs": []
    },
    {
      "cell_type": "code",
      "source": [
        "s2_ = np.array(data3, dtype='S')\n",
        "print(s2_)\n",
        "print(s2_.dtype)"
      ],
      "metadata": {
        "id": "uyqdKnFqDb7W"
      },
      "execution_count": null,
      "outputs": []
    },
    {
      "cell_type": "code",
      "source": [
        "# unicode : 가독성이 좋지만 데이터 크기가 더 큼\n",
        "u = np.unicode_(data3)\n",
        "print(u)\n",
        "print(u.dtype)"
      ],
      "metadata": {
        "id": "eEd1HERWHSas"
      },
      "execution_count": null,
      "outputs": []
    },
    {
      "cell_type": "code",
      "source": [
        "u = np.array(data3, dtype='U')\n",
        "print(u)\n",
        "print(u.dtype)"
      ],
      "metadata": {
        "id": "UGIGuchoDFTp"
      },
      "execution_count": null,
      "outputs": []
    },
    {
      "cell_type": "code",
      "source": [
        "data4 = [11, 22, 33, 44, 55]\n",
        "u2 = np.array(data4, dtype='U')\n",
        "print(u2)\n",
        "print(u2.dtype)"
      ],
      "metadata": {
        "id": "h-yvB3snD6-n"
      },
      "execution_count": null,
      "outputs": []
    },
    {
      "cell_type": "markdown",
      "source": [
        "### 논리형 (boolean)\n",
        "\n",
        "- True(1), False(0)\n",
        "- 비트 연산 사용 : & and, | or, ^ xor, ~ not"
      ],
      "metadata": {
        "id": "cuH3uKwuBC1T"
      }
    },
    {
      "cell_type": "code",
      "source": [
        "l1 = np.array([True, False, True])\n",
        "l2 = np.array([False, True, False])\n",
        "\n",
        "print(l1.dtype)\n",
        "print(l2.dtype)"
      ],
      "metadata": {
        "id": "XNkVEF6kCm5x"
      },
      "execution_count": null,
      "outputs": []
    },
    {
      "cell_type": "code",
      "source": [
        "and_ = np.logical_and(l1, l2)\n",
        "print(and_)"
      ],
      "metadata": {
        "id": "kNn8I4OyEqRg"
      },
      "execution_count": null,
      "outputs": []
    },
    {
      "cell_type": "markdown",
      "source": [
        "## 데이터 형 변환 (Cast, Casting 형 변환)\n",
        "\n",
        "- 데이터들끼리 형태를 맞춰줌\n",
        "- ex) 이미지 데이터 -> `uint`형으로 불러옴 -> `float`"
      ],
      "metadata": {
        "id": "Ws8ZlKjcH7E9"
      }
    },
    {
      "cell_type": "code",
      "source": [
        "data = [1.1, 2, 3]\n",
        "a = np.float64(data)  # np.데이터타입\n",
        "print(a)\n",
        "print(a.dtype)"
      ],
      "metadata": {
        "id": "iXaE0ddMI8BH"
      },
      "execution_count": null,
      "outputs": []
    },
    {
      "cell_type": "code",
      "source": [
        "a = a.astype(np.int64)\n",
        "print(a)\n",
        "print(a.dtype)"
      ],
      "metadata": {
        "id": "Vm4ijuh-OJiA"
      },
      "execution_count": null,
      "outputs": []
    },
    {
      "cell_type": "code",
      "source": [
        "b = np.uint16(0)\n",
        "print(b)\n",
        "print(b.dtype)\n",
        "\n",
        "b = b - 1  # 알아서 형 변환됨\n",
        "print(b)\n",
        "print(b.dtype)"
      ],
      "metadata": {
        "id": "0QyfCsjjOaB7"
      },
      "execution_count": null,
      "outputs": []
    },
    {
      "cell_type": "code",
      "source": [
        "c = np.uint16(-1)  # uint16 [0 ~ 65,535]\n",
        "print(c)\n",
        "print(c.dtype)"
      ],
      "metadata": {
        "id": "X0-3EhkyO4Dq"
      },
      "execution_count": null,
      "outputs": []
    },
    {
      "cell_type": "markdown",
      "source": [
        "## 산술연산"
      ],
      "metadata": {
        "id": "EMJpMKAxQfrx"
      }
    },
    {
      "cell_type": "code",
      "source": [
        "import time\n",
        "\n",
        "sum = 0\n",
        "data = [[1, 2, 3], [4, 5, 6]]\n",
        "data2 = [[1, 1, 1], [2, 2, 2]]\n",
        "\n",
        "start_time = time.time()\n",
        "\n",
        "for i in range(len(data)):\n",
        "    for j in range(len(data[i])):\n",
        "        sum += data[i][j]\n",
        "print(sum)\n",
        "\n",
        "end_time = time.time()\n",
        "\n",
        "print(end_time - start_time)"
      ],
      "metadata": {
        "id": "cBdWK7mKPs8N"
      },
      "execution_count": null,
      "outputs": []
    },
    {
      "cell_type": "code",
      "source": [
        "# 행렬의 연산 -> 효율적\n",
        "a = np.array([1, 2, 3])\n",
        "b = np.array([4, 5, 6])\n",
        "\n",
        "sum = a + b\n",
        "min = a - b\n",
        "mul = a * b\n",
        "div = a / b\n",
        "\n",
        "print(sum)\n",
        "print(min)\n",
        "print(mul)\n",
        "print(div)"
      ],
      "metadata": {
        "id": "u_0lPe70S7Kl"
      },
      "execution_count": null,
      "outputs": []
    },
    {
      "cell_type": "code",
      "source": [
        "# 지수 계산 \n",
        "a = np.array([1, 2, 3])\n",
        "b = np.array([4, 5, 6])\n",
        "\n",
        "aa = np.exp(a) # 지수함수 - exponent\n",
        "print(aa)"
      ],
      "metadata": {
        "id": "x7bcB1lUU_Ib"
      },
      "execution_count": null,
      "outputs": []
    },
    {
      "cell_type": "code",
      "source": [
        "bb = np.log(b) # 자연로그 \n",
        "print(bb)"
      ],
      "metadata": {
        "id": "E1HIDFyQVmkY"
      },
      "execution_count": null,
      "outputs": []
    },
    {
      "cell_type": "code",
      "source": [
        "cc = np.log2(b) # 밑이 2인 로그 \n",
        "print(cc)"
      ],
      "metadata": {
        "id": "c8jVleLpVvqz"
      },
      "execution_count": null,
      "outputs": []
    },
    {
      "cell_type": "code",
      "source": [
        "# 삼각함수 - 외우지 않아도 있다는 것을 인지하고 있어야 함 \n",
        "d = np.array([0, np.pi/2, np.pi])\n",
        "sin_ = np.sin(d)\n",
        "cos_ = np.cos(d)\n",
        "tan_ = np.tan(d)\n",
        "\n",
        "print(d)\n",
        "print(sin_)\n",
        "print(cos_)\n",
        "print(tan_)"
      ],
      "metadata": {
        "id": "2RQjbMWDWEHH"
      },
      "execution_count": null,
      "outputs": []
    },
    {
      "cell_type": "markdown",
      "source": [
        "## 배열의 연결과 분할"
      ],
      "metadata": {
        "id": "48DC93O8qNOb"
      }
    },
    {
      "cell_type": "markdown",
      "source": [
        "배열 연결\n",
        "- 열이 늘어남 → hstack, axis = 1\n",
        "- 행이 늘어남 → vstack, axis = 0\n",
        "\n",
        "배열 분할\n",
        "- 열 방향으로 자름 → hsplit\n",
        "- 행 방향으로 자름 → vsplit\n",
        "\n",
        "axis를 배열 분할에 적용할 때는\n",
        "- 열 방향으로 자름 → axis = 0\n",
        "- 행 방향으로 자름 → axis = 1"
      ],
      "metadata": {
        "id": "CSwc-F_vnwNu"
      }
    },
    {
      "cell_type": "code",
      "source": [
        "print('a'+'b')"
      ],
      "metadata": {
        "id": "8PeMfF0XWgh3"
      },
      "execution_count": null,
      "outputs": []
    },
    {
      "cell_type": "code",
      "source": [
        "x = [1, 2, 3]\n",
        "y = [4, 5, 6]\n",
        "\n",
        "concat = np.concatenate([x, y])\n",
        "print(concat)"
      ],
      "metadata": {
        "id": "wEIP5rAKqdpT"
      },
      "execution_count": null,
      "outputs": []
    },
    {
      "cell_type": "code",
      "source": [
        "# concatenate - axis\n",
        "x2 = [[1, 2], \n",
        "      [3, 4]] # 2x2\n",
        "y2 = [[4, 5], \n",
        "      [6, 7]]\n",
        "\n",
        "concat2 = np.concatenate([x2, y2], axis=0)  # 행 병합\n",
        "print(concat2) \n",
        "concat3 = np.concatenate([x2, y2], axis=1)  # 열 병합\n",
        "print(concat3)"
      ],
      "metadata": {
        "id": "nKajiB4yqyQo"
      },
      "execution_count": null,
      "outputs": []
    },
    {
      "cell_type": "code",
      "source": [
        "# vstack - vertical 수직 \n",
        "v = np.vstack([x2, y2])\n",
        "print(v)\n",
        "\n",
        "# hstack - horizontal 수평\n",
        "h = np.hstack([x2, y2])\n",
        "print(h)"
      ],
      "metadata": {
        "id": "QmIskAHttyyi"
      },
      "execution_count": null,
      "outputs": []
    },
    {
      "cell_type": "code",
      "source": [
        "arr = np.arange(10)  # 0 ~ (n-1)\n",
        "\n",
        "print(arr)\n",
        "print(arr.reshape(2, 5))\n",
        "print(arr.reshape(5, 2))\n",
        "\n",
        "# print(arr.reshape(5, 3))\n",
        "# Error : 요소의 개수가 reshape의 행렬 개수에 맞게 설정해야 합니다."
      ],
      "metadata": {
        "id": "a5kqqLQVq_zF"
      },
      "execution_count": null,
      "outputs": []
    },
    {
      "cell_type": "code",
      "source": [
        "x2 = np.array([[1, 2], \n",
        "               [3, 4], \n",
        "               [5, 6]])\n",
        "print(x2.shape)\n",
        "\n",
        "# vsplit\n",
        "v2 = np.vsplit(x2, 3)\n",
        "print(v2)\n",
        "\n",
        "# hsplit\n",
        "h2 = np.hsplit(x2, 2)\n",
        "print(h2)"
      ],
      "metadata": {
        "id": "QZqz3cwWvKfw"
      },
      "execution_count": null,
      "outputs": []
    },
    {
      "cell_type": "code",
      "source": [
        "x = np.array([[1],[2],[3],[4],[5]])\n",
        "print(x.shape)\n",
        "\n",
        "# h = np.hsplit(x, 5)\n",
        "# print(h)"
      ],
      "metadata": {
        "id": "Ka-cs2LRxFHp"
      },
      "execution_count": null,
      "outputs": []
    },
    {
      "cell_type": "markdown",
      "source": [
        "## 다양한 배열 만들기"
      ],
      "metadata": {
        "id": "rPVs9NpT2XvV"
      }
    },
    {
      "cell_type": "code",
      "source": [
        "# 0으로 채워진 배열 생성 \n",
        "zero = np.zeros([3, 2, 4])\n",
        "print(zero)"
      ],
      "metadata": {
        "id": "QW9eT9Jn2Rp4"
      },
      "execution_count": null,
      "outputs": []
    },
    {
      "cell_type": "code",
      "source": [
        "# 1로 채워진 배열 생성 \n",
        "one = np.ones([3, 4])\n",
        "print(one)"
      ],
      "metadata": {
        "id": "dr2970Jb2_VX"
      },
      "execution_count": null,
      "outputs": []
    },
    {
      "cell_type": "code",
      "source": [
        "# 원하는 값으로 채워진 배열 생성 \n",
        "f = np.full([2, 3], 10)\n",
        "print(f)"
      ],
      "metadata": {
        "id": "StawFMqFZZGc"
      },
      "execution_count": null,
      "outputs": []
    },
    {
      "cell_type": "code",
      "source": [
        "# 대각 행렬 - nxn(정방형) 행렬만 가능\n",
        "eye = np.eye(3)\n",
        "print(eye)"
      ],
      "metadata": {
        "id": "uRPIwjer3PPj"
      },
      "execution_count": null,
      "outputs": []
    },
    {
      "cell_type": "code",
      "source": [
        "arr_3d = np.array([[[1, 2], [3, 4]], [[5, 6], [7, 8]]])\n",
        "print(arr_3d)\n",
        "\n",
        "print(arr_3d.ravel()) # 일차원으로 변경 "
      ],
      "metadata": {
        "id": "fbp6tAAxY3MY"
      },
      "execution_count": null,
      "outputs": []
    },
    {
      "cell_type": "markdown",
      "source": [
        "## 제공 함수"
      ],
      "metadata": {
        "id": "fUtGBP6c4Txx"
      }
    },
    {
      "cell_type": "markdown",
      "source": [
        "### 범용함수"
      ],
      "metadata": {
        "id": "_IJ5REUE5qO6"
      }
    },
    {
      "cell_type": "code",
      "source": [
        "arr1 = np.array([-1, -2, -3, -4])\n",
        "abs_arr = np.abs(arr1) # 절댓값 \n",
        "print(abs_arr)"
      ],
      "metadata": {
        "id": "CS-9Ah6a3TQw"
      },
      "execution_count": null,
      "outputs": []
    },
    {
      "cell_type": "code",
      "source": [
        "arr2 = np.array([1, 4, 9, 16])\n",
        "sqrt_arr = np.sqrt(arr2)\n",
        "print(sqrt_arr)"
      ],
      "metadata": {
        "id": "t5L66L2G5Ed4"
      },
      "execution_count": null,
      "outputs": []
    },
    {
      "cell_type": "markdown",
      "source": [
        "### 집계함수"
      ],
      "metadata": {
        "id": "aZq6zCQ25shj"
      }
    },
    {
      "cell_type": "code",
      "source": [
        "a = np.array([1, 2, 3, 4, 5])\n",
        "a_mean = np.mean(a) # 평균값 \n",
        "print(a_mean) "
      ],
      "metadata": {
        "id": "zIdWQKTP5iCH"
      },
      "execution_count": null,
      "outputs": []
    },
    {
      "cell_type": "code",
      "source": [
        "b = np.array([1, 3, 5, 7, 9])\n",
        "b_median = np.median(b) # 중간값 \n",
        "print(b_median)"
      ],
      "metadata": {
        "id": "P93H-B1U59Un"
      },
      "execution_count": null,
      "outputs": []
    },
    {
      "cell_type": "code",
      "source": [
        "c = np.array([1, 2, 3, 4, 5])\n",
        "c_std = np.std(c) # 표준편차 \n",
        "print(c_std)"
      ],
      "metadata": {
        "id": "G5jVBq_e6Eo0"
      },
      "execution_count": null,
      "outputs": []
    },
    {
      "cell_type": "code",
      "source": [
        "d = np.array([1, 2, 3, 4, 5])\n",
        "d_var = np.var(d) # 분산 \n",
        "print(d_var)"
      ],
      "metadata": {
        "id": "nkgMTdXG6hAG"
      },
      "execution_count": null,
      "outputs": []
    },
    {
      "cell_type": "code",
      "source": [
        "# sum, cumsum\n",
        "d_sum = np.sum(d) # 단순 합계 \n",
        "print(d_sum)\n",
        "\n",
        "d_cumsum = np.cumsum(d) # 누적 합계 \n",
        "print(d_cumsum)"
      ],
      "metadata": {
        "id": "3wdTmMWK653v"
      },
      "execution_count": null,
      "outputs": []
    },
    {
      "cell_type": "code",
      "source": [
        "# argmin, argmax -> index 값 반환 \n",
        "min = np.argmin(d) \n",
        "print(min)\n",
        "\n",
        "max = np.argmax(d)\n",
        "print(max)"
      ],
      "metadata": {
        "id": "q-BYc3Bl7O2M"
      },
      "execution_count": null,
      "outputs": []
    },
    {
      "cell_type": "code",
      "source": [
        "# any, all -> boolean\n",
        "a = np.array([0, 0, 0, 1])\n",
        "\n",
        "a_true = np.any(a) # 배열 안에 하나라도 True인지 \n",
        "print(a_true)\n",
        "\n",
        "a_all = np.all(a) \n",
        "print(a_all)"
      ],
      "metadata": {
        "id": "ZaVzly308svM"
      },
      "execution_count": null,
      "outputs": []
    },
    {
      "cell_type": "code",
      "source": [
        "# NaN (Not a Number)\n",
        "a = np.array([1, 2, np.nan, 4])\n",
        "\n",
        "a_nsum = np.nansum(a)\n",
        "print(a_nsum)\n",
        "\n",
        "a_sum = np.sum(a) # nan 있으면 nan \n",
        "print(a_sum)"
      ],
      "metadata": {
        "id": "Is7smwEA9dn0"
      },
      "execution_count": null,
      "outputs": []
    },
    {
      "cell_type": "code",
      "source": [
        "# 조건 \n",
        "d = np.array([1, 2, 3, 4, 5])\n",
        "\n",
        "condition = np.where(d < 3) # index 값 반환 -> tuple 형 \n",
        "print(condition)\n",
        "\n",
        "condition1 = np.where(d < 3, d, 0)\n",
        "print(condition1)"
      ],
      "metadata": {
        "id": "X2oZOI2U_kuf"
      },
      "execution_count": null,
      "outputs": []
    },
    {
      "cell_type": "markdown",
      "source": [
        "## Boolean Indexing\n",
        "\n",
        "- 조건에 따른 요소들을 판별해서 새로운 배열을 만든다."
      ],
      "metadata": {
        "id": "NRwEyEAOFSi0"
      }
    },
    {
      "cell_type": "code",
      "source": [
        "a = np.array([1, 2, 3, 4, 5, 6, 7, 8, 9, 10]) # 원본 데이터는 건들지 않는다. \n",
        "# a = np.arange(1, 11)\n",
        "\n",
        "even_a = a[a % 2 == 0]\n",
        "print(even_a)\n",
        "print(a) # 원본 데이터가 그대로인지 확인"
      ],
      "metadata": {
        "id": "PcVuZyZMAZR_"
      },
      "execution_count": null,
      "outputs": []
    },
    {
      "cell_type": "markdown",
      "source": [
        "## Broadcast(브로드 캐스트)\n",
        "\n",
        "- 크기가 다른 배열 간의 연산도 가능하게 해줌\n",
        "- ex) 1차원, 2차원"
      ],
      "metadata": {
        "id": "CJBXJ5XVICP8"
      }
    },
    {
      "cell_type": "code",
      "source": [
        "a = np.array([1, 2, 3])\n",
        "b = np.array([4, 5, 6])\n",
        "\n",
        "c = a + b\n",
        "print(c)"
      ],
      "metadata": {
        "id": "Gwi9SvmMHBgs"
      },
      "execution_count": null,
      "outputs": []
    },
    {
      "cell_type": "code",
      "source": [
        "d = np.array([[1], [2], [3]])  # 행렬 3x1\n",
        "e = np.array([4, 5, 6])        # 벡터 \n",
        "\n",
        "e = np.array([[4, 5, 6]])      # 행렬 1x3\n",
        "\n",
        "f = d + e  # 행렬 3x3\n",
        "print(f)"
      ],
      "metadata": {
        "id": "KvDhMVC2In24"
      },
      "execution_count": null,
      "outputs": []
    },
    {
      "cell_type": "markdown",
      "source": [
        "- 두 배열의 차원 수가 다를 경우, 더 작은 차원의 배열에 큰 차원의 배열이 맞을 때까지 1을 추가한다.\n",
        "- 두 배열의 차원 수가 같을 경우에도, 크기가 1인 차원이 있다면 다른 배열의 크기와 일치하도록 복제된다.\n",
        "- 두 배열의 차원 수가 같을 경우에도, 모든 차원의 크기가 같거나 크기가 1이라면 모양이 같은 두 배열의 요소 간 연산을 한다. "
      ],
      "metadata": {
        "id": "sWbr064EJ9-5"
      }
    },
    {
      "cell_type": "code",
      "source": [
        "d = np.array([[1], [2], [3]])  # 행렬 3x1\n",
        "e = np.array([[4], [5], [6]])  # 행렬 3x1\n",
        "f = d + e\n",
        "print(f)"
      ],
      "metadata": {
        "id": "q7GJ-2nhMktG"
      },
      "execution_count": null,
      "outputs": []
    },
    {
      "cell_type": "markdown",
      "source": [
        "![image.png](data:image/png;base64,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)\n",
        "\n",
        "https://jovian.com/aakashns/python-numerical-computing-with-numpy"
      ],
      "metadata": {
        "id": "cmO2IVrNTbes"
      }
    },
    {
      "cell_type": "markdown",
      "source": [
        "# 연습 문제"
      ],
      "metadata": {
        "id": "xK1rIclxWS-I"
      }
    },
    {
      "cell_type": "code",
      "source": [
        "# 1. 주어진 여러 개의 1차원 배열을 연결하여 하나의 큰 1차원 배열로 반환하세요.\n",
        "\n",
        "arr1 = np.array([1, 2, 3])\n",
        "arr2 = np.array([4, 5, 6])\n",
        "arr3 = np.array([7, 8, 9, 10])\n",
        "\n",
        "arr_a = np.concatenate([arr1, arr2, arr3])\n",
        "print(arr_a)"
      ],
      "metadata": {
        "id": "cp4K9-KOWUKs"
      },
      "execution_count": null,
      "outputs": []
    },
    {
      "cell_type": "code",
      "source": [
        "# 2. 주어진 2차원 배열에서 각 열의 평균값을 계산하여 새로운 1차원 배열로 나타내세요.\n",
        "\n",
        "arr = np.array([[1, 2, 3],\n",
        "                [4, 5, 6],\n",
        "                [7, 8, 9]])\n",
        "m = np.mean(arr, axis=0)\n",
        "print(m)"
      ],
      "metadata": {
        "id": "xhXeQKG2aQbV"
      },
      "execution_count": null,
      "outputs": []
    },
    {
      "cell_type": "code",
      "source": [
        "# 3. 주어진 2차원 배열에서 각 행의 최대값을 구하여 1차원 배열로 반환하세요.\n",
        "\n",
        "max = np.max(arr, axis=1)\n",
        "print(max)"
      ],
      "metadata": {
        "id": "eB7JlJ7GbJgU"
      },
      "execution_count": null,
      "outputs": []
    },
    {
      "cell_type": "code",
      "source": [
        "# 4. 0에서 1사이의 값으로 크기 10개의 1차원 배열을 만들어주세요.\n",
        "\n",
        "l = np.linspace(0, 1, 10)\n",
        "print(l)"
      ],
      "metadata": {
        "id": "LWQ4vjasbXph"
      },
      "execution_count": null,
      "outputs": []
    },
    {
      "cell_type": "code",
      "source": [
        "# 5. 주어진 1차원 배열에서 짝수인 요소들의 합을 계산하는 함수 sum_of_evens를 작성하세요.\n",
        "\n",
        "def sum_of_evens(arr: np.ndarray) -> int:\n",
        "    arr_e = arr[arr % 2 == 0]  # 짝수인 요소 선택\n",
        "    return np.sum(arr_e)  # 짝수인 요소들의 합 반환\n",
        "\n",
        "arr = np.array([1, 2, 3, 4, 5, 6, 7, 8, 9, 10])\n",
        "print(sum_of_evens(arr))"
      ],
      "metadata": {
        "id": "LAZOLo5tb1ZW"
      },
      "execution_count": null,
      "outputs": []
    },
    {
      "cell_type": "code",
      "source": [
        "# 6. 수평분할, 수직분할, 수평 스택, 수직 스택 문제를 풀어봅시다.\n",
        "\n",
        "# 분할할 배열 생성\n",
        "arr = np.arange(1, 13).reshape((3, 4))\n",
        "print(\"원본 배열:\")\n",
        "print(arr)\n",
        "print('-'*10)\n",
        "\n",
        "# 1. 수평분할하기 -> 다시 원본으로 스택쌓기\n",
        "arr_split = np.hsplit(arr, 2)\n",
        "print(\"수평 분할 결과:\")\n",
        "print(arr_split)\n",
        "arr_1 = arr_split[0]\n",
        "arr_2 = arr_split[1]\n",
        "arr_stack = np.hstack((arr_1, arr_2))\n",
        "print()\n",
        "print(arr_stack)\n",
        "print('-'*10)\n",
        "\n",
        "# 2. 수직분할하기 -> 다시 원본으로 스택쌓기\n",
        "arr_split = np.vsplit(arr, 3)\n",
        "print(\"수직 분할 결과:\")\n",
        "print(arr_split)\n",
        "arr_1 = arr_split[0]\n",
        "arr_2 = arr_split[1]\n",
        "arr_3 = arr_split[2]\n",
        "arr_stack = np.vstack((arr_1, arr_2, arr_3))\n",
        "print()\n",
        "print(arr_stack)"
      ],
      "metadata": {
        "id": "10VsfXcMb1vH"
      },
      "execution_count": null,
      "outputs": []
    },
    {
      "cell_type": "code",
      "source": [
        "# 7. 배열에서 조건에 맞는 값 반환하는 문제를 풀어봅시다.\n",
        "\n",
        "# 조건 : 값을 10으로 나누었을 때 나머지가 0이면 원래 값 출력, 아니면 0으로 출력하세요.\n",
        "arr = np.arange(0, 100, 5).reshape((5,4))\n",
        "print(arr)\n",
        "\n",
        "arr1 = np.where(arr % 10 == 0, arr, 0)\n",
        "print(arr1)"
      ],
      "metadata": {
        "id": "aeDgp6xKgt90"
      },
      "execution_count": null,
      "outputs": []
    },
    {
      "cell_type": "code",
      "source": [
        "# 8. [3x3]배열 lst 중 짝수만 뽑아내는 부울린 인덱싱 배열(numpy 배열)을 사용하여 짝수 배열 n 을 만드시오.\n",
        "\n",
        "lst = [\n",
        "    [1, 2, 3],\n",
        "    [4, 5, 6],\n",
        "    [7, 8, 9]\n",
        "]\n",
        "a = np.array(lst)\n",
        "\n",
        "n = a[a%2 == 0]\n",
        "print(n)"
      ],
      "metadata": {
        "id": "LOgMgQQPhIX8"
      },
      "execution_count": null,
      "outputs": []
    },
    {
      "cell_type": "code",
      "source": [
        "# 인덱싱 배열을 이용하기\n",
        "bool_indexing_array = np.array([\n",
        "    [False,  True, False],\n",
        "    [True, False,  True],\n",
        "    [False,  True, False]\n",
        "])\n",
        "n = a[bool_indexing_array]\n",
        "print(n)    \n",
        "\n",
        "# 배열 a 에 대해 짝수면 True, 홀수면 False \n",
        "bool_indexing = (a % 2 == 0)\n",
        "print(bool_indexing)\n",
        "print(a[bool_indexing])"
      ],
      "metadata": {
        "id": "2xN9ufPgke-l"
      },
      "execution_count": null,
      "outputs": []
    },
    {
      "cell_type": "code",
      "source": [
        "# 9. 각도를 이용해서 삼각함수를 만들어봅시다.\n",
        "\n",
        "angle = np.pi / 3 # 라디안 표기 = 60도 \n",
        "# 360도는 2라디안 으로, 180도는 1라디안으로 표현합니다.\n",
        "\n",
        "sin_ = np.sin(angle)\n",
        "cos_ = np.cos(angle)\n",
        "tan_ = np.tan(angle)\n",
        "print(sin_)\n",
        "print(cos_)\n",
        "print(tan_)"
      ],
      "metadata": {
        "id": "wWZyNtLbhdUP"
      },
      "execution_count": null,
      "outputs": []
    },
    {
      "cell_type": "code",
      "source": [
        "# 10. 조건함수를 사용해서 짝수조건을 만족하는 요소의 값이 2배로 만드는 배열을 만드시오.\n",
        "\n",
        "arr = np.array([1, 2, 3, 4, 5])\n",
        "arr1 = np.where(arr % 2 == 0, arr * 2, arr)\n",
        "print(arr1)"
      ],
      "metadata": {
        "id": "Cgj-YyGohjjG"
      },
      "execution_count": null,
      "outputs": []
    }
  ]
}