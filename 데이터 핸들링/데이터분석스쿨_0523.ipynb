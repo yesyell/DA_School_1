{
  "nbformat": 4,
  "nbformat_minor": 0,
  "metadata": {
    "colab": {
      "provenance": [],
      "authorship_tag": "ABX9TyMS5BrUUr0KVHPT/zlRwz0p",
      "include_colab_link": true
    },
    "kernelspec": {
      "name": "python3",
      "display_name": "Python 3"
    },
    "language_info": {
      "name": "python"
    },
    "gpuClass": "standard"
  },
  "cells": [
    {
      "cell_type": "markdown",
      "metadata": {
        "id": "view-in-github",
        "colab_type": "text"
      },
      "source": [
        "<a href=\"https://colab.research.google.com/github/yesyell/DA_School_1/blob/main/%EB%8D%B0%EC%9D%B4%ED%84%B0%20%ED%95%B8%EB%93%A4%EB%A7%81/%EB%8D%B0%EC%9D%B4%ED%84%B0%EB%B6%84%EC%84%9D%EC%8A%A4%EC%BF%A8_0523.ipynb\" target=\"_parent\"><img src=\"https://colab.research.google.com/assets/colab-badge.svg\" alt=\"Open In Colab\"/></a>"
      ]
    },
    {
      "cell_type": "markdown",
      "source": [
        "# Numpy"
      ],
      "metadata": {
        "id": "6RuuWJxf8RTB"
      }
    },
    {
      "cell_type": "markdown",
      "source": [
        "**브로드 캐스팅**\n",
        "- 두 배열의 차원의 크기가 같다 -> 그냥 계산\n",
        "- 두 배열의 차원의 크기가 다르고 한 배열의 차원이 1차원(벡터)\n",
        "- 차원을 늘렸을 때 계산이 가능한 경우!"
      ],
      "metadata": {
        "id": "tCA3SCpQAdK8"
      }
    },
    {
      "cell_type": "markdown",
      "source": [
        "## 난수 생성 함수 - Random"
      ],
      "metadata": {
        "id": "dsZ6rCUXBxvR"
      }
    },
    {
      "cell_type": "code",
      "execution_count": null,
      "metadata": {
        "id": "0IkcMx_38JVQ"
      },
      "outputs": [],
      "source": [
        "import numpy as np"
      ]
    },
    {
      "cell_type": "code",
      "source": [
        "a = np.random.rand(2, 2)  # rand : 0 ~ 1 사이 값 랜덤 \n",
        "print(a)"
      ],
      "metadata": {
        "id": "PE9wZpI0CHNl",
        "colab": {
          "base_uri": "https://localhost:8080/"
        },
        "outputId": "129ad889-e6fe-46ab-fe00-54552a738056"
      },
      "execution_count": null,
      "outputs": [
        {
          "output_type": "stream",
          "name": "stdout",
          "text": [
            "[[0.07409715 0.99721913]\n",
            " [0.02332944 0.31765626]]\n"
          ]
        }
      ]
    },
    {
      "cell_type": "code",
      "source": [
        "b = np.random.randn(2, 2)  # randn : 평균=0, 분산=1 : 표준 정규 분포 \n",
        "print(b)"
      ],
      "metadata": {
        "id": "DD65I0YNCd5Y",
        "colab": {
          "base_uri": "https://localhost:8080/"
        },
        "outputId": "be61d470-0498-4231-dfd1-7f3f3dd1edfd"
      },
      "execution_count": null,
      "outputs": [
        {
          "output_type": "stream",
          "name": "stdout",
          "text": [
            "[[-0.08187103  1.51894291]\n",
            " [ 0.74487199 -2.26301044]]\n"
          ]
        }
      ]
    },
    {
      "cell_type": "code",
      "source": [
        "c = np.random.randint(0, 10, size=5)  # 랜덤한 정수값 생성 : 0 ~ 9의 5개의 값 \n",
        "print(c)"
      ],
      "metadata": {
        "id": "VqENUyY4C_ik",
        "colab": {
          "base_uri": "https://localhost:8080/"
        },
        "outputId": "12b3778e-7253-445f-f72a-f57bbcdc5ada"
      },
      "execution_count": null,
      "outputs": [
        {
          "output_type": "stream",
          "name": "stdout",
          "text": [
            "[7 5 8 4 7]\n"
          ]
        }
      ]
    },
    {
      "cell_type": "code",
      "source": [
        "c2 = np.random.randint(0, 10, size=(2, 2))\n",
        "print(c2)"
      ],
      "metadata": {
        "id": "9ct61QofDfTb",
        "colab": {
          "base_uri": "https://localhost:8080/"
        },
        "outputId": "aede065b-febe-4c18-fec0-5aea64eaad79"
      },
      "execution_count": null,
      "outputs": [
        {
          "output_type": "stream",
          "name": "stdout",
          "text": [
            "[[8 6]\n",
            " [4 6]]\n"
          ]
        }
      ]
    },
    {
      "cell_type": "code",
      "source": [
        "d = np.arange(10) # 0 ~ 9 까지 값 생성 \n",
        "print(d)\n",
        "np.random.shuffle(d) # shuffle : 복사본 생성 x -> 원본 값이 변경됨 \n",
        "print(d)"
      ],
      "metadata": {
        "id": "eHLuef93Dtna",
        "colab": {
          "base_uri": "https://localhost:8080/"
        },
        "outputId": "0fe132f9-5f2c-4be8-8473-fa1d7487b6a7"
      },
      "execution_count": null,
      "outputs": [
        {
          "output_type": "stream",
          "name": "stdout",
          "text": [
            "[0 1 2 3 4 5 6 7 8 9]\n",
            "[7 2 3 6 4 0 5 9 1 8]\n"
          ]
        }
      ]
    },
    {
      "cell_type": "code",
      "source": [
        "# choice = np.random.choice(d, 5) # 중복 허용 \n",
        "choice = np.random.choice(d, 5, replace=False) # 중복 허용 x\n",
        "print(choice)"
      ],
      "metadata": {
        "id": "tUjDbEcmIe_7",
        "colab": {
          "base_uri": "https://localhost:8080/"
        },
        "outputId": "d44b90a5-b935-489f-91e7-ceae248905be"
      },
      "execution_count": null,
      "outputs": [
        {
          "output_type": "stream",
          "name": "stdout",
          "text": [
            "[1 0 2 4 3]\n"
          ]
        }
      ]
    },
    {
      "cell_type": "code",
      "source": [
        "d = np.arange(5)\n",
        "choice = np.random.choice(d, 5, \n",
        "                          p=[0.1, 0.3, 0.2, 0.3, 0.1]) # p값을 100%(1)로 설정 \n",
        "print(choice)"
      ],
      "metadata": {
        "id": "VfBpqEQHI4DT",
        "colab": {
          "base_uri": "https://localhost:8080/"
        },
        "outputId": "84363277-2fb6-49ff-88ba-8bd88809cd69"
      },
      "execution_count": null,
      "outputs": [
        {
          "output_type": "stream",
          "name": "stdout",
          "text": [
            "[4 4 3 1 1]\n"
          ]
        }
      ]
    },
    {
      "cell_type": "code",
      "source": [
        "# permutation 순열 : 서로 다른 n개의 원소에서 r개를 중복없이 순서에 상관있게 선택 혹은 나열하는 것\n",
        "a = np.arange(10)\n",
        "a_p = np.random.permutation(a)\n",
        "print(a_p)\n",
        "print(a)  # 원본 값이 유지됨 "
      ],
      "metadata": {
        "id": "Dhhuzu0LLEyG",
        "colab": {
          "base_uri": "https://localhost:8080/"
        },
        "outputId": "76cc4fbc-7f89-435a-8dc5-1e89213896ce"
      },
      "execution_count": null,
      "outputs": [
        {
          "output_type": "stream",
          "name": "stdout",
          "text": [
            "[4 2 3 7 5 8 6 9 0 1]\n",
            "[0 1 2 3 4 5 6 7 8 9]\n"
          ]
        }
      ]
    },
    {
      "cell_type": "code",
      "source": [
        "# 정규분포를 따르는 난수 생성\n",
        "# a = np.random.normal('평균', '표준편차', '갯수')\n",
        "a = np.random.normal(0, 1, 3)  # == np.random.randn(3)\n",
        "print(a)"
      ],
      "metadata": {
        "id": "ccoBTv3ALVyX",
        "colab": {
          "base_uri": "https://localhost:8080/"
        },
        "outputId": "7d088b05-d138-48fb-bc93-2eef1b4c44dd"
      },
      "execution_count": null,
      "outputs": [
        {
          "output_type": "stream",
          "name": "stdout",
          "text": [
            "[ 0.66192764  0.57044938 -1.11499736]\n"
          ]
        }
      ]
    },
    {
      "cell_type": "markdown",
      "source": [
        "# Pandas\n",
        "\n",
        "- 데이터 자체를 분석, 파악\n",
        "- 표, 테이블\n",
        "- 데이터 다루는 데 초점\n",
        "- 정렬, 필터링, 그룹화, 집계\n"
      ],
      "metadata": {
        "id": "cnK6V1BAQwPA"
      }
    },
    {
      "cell_type": "markdown",
      "source": [
        "---\n",
        "기능 \n",
        "1. 데이터 로딩 및 저장\n",
        "2. 데이터 인덱싱 및 슬라이싱\n",
        "3. 결측치 처리\n",
        "4. 데이터 변환\n",
        "5. 데이터 집계 및 그룹화\n",
        "6. 시계열 데이터\n",
        "7. 데이터 시각화\n",
        "---\n",
        "구조\n",
        "1. Series (시리즈)\n",
        "2. DataFrame (데이터프레임)\n"
      ],
      "metadata": {
        "id": "eysPmY1PZ3PU"
      }
    },
    {
      "cell_type": "markdown",
      "source": [
        "## Series (시리즈)\n",
        "\n",
        "- 인덱스를 지정할 수 있음\n"
      ],
      "metadata": {
        "id": "qr42Q70vbka7"
      }
    },
    {
      "cell_type": "code",
      "source": [
        "import pandas as pd"
      ],
      "metadata": {
        "id": "aeLzAgxLNHgF"
      },
      "execution_count": null,
      "outputs": []
    },
    {
      "cell_type": "code",
      "source": [
        "# List로 생성하기 \n",
        "s = pd.Series([1, 2, 3, 4])\n",
        "print(s)"
      ],
      "metadata": {
        "colab": {
          "base_uri": "https://localhost:8080/"
        },
        "id": "sjY9dbu8b5W_",
        "outputId": "7032e90c-d35e-4b07-b102-0c2419af7959"
      },
      "execution_count": null,
      "outputs": [
        {
          "output_type": "stream",
          "name": "stdout",
          "text": [
            "0    1\n",
            "1    2\n",
            "2    3\n",
            "3    4\n",
            "dtype: int64\n"
          ]
        }
      ]
    },
    {
      "cell_type": "code",
      "source": [
        "# Dictionary로 생성하기 \n",
        "s2 = pd.Series({'a': 1, 'b': 2, 'c': 3, 'd': 4})\n",
        "print(s2)"
      ],
      "metadata": {
        "colab": {
          "base_uri": "https://localhost:8080/"
        },
        "id": "U4QnNe5Hb_JF",
        "outputId": "c2025438-c759-4263-b637-e8d77664eba4"
      },
      "execution_count": null,
      "outputs": [
        {
          "output_type": "stream",
          "name": "stdout",
          "text": [
            "a    1\n",
            "b    2\n",
            "c    3\n",
            "d    4\n",
            "dtype: int64\n"
          ]
        }
      ]
    },
    {
      "cell_type": "code",
      "source": [
        "# Scalar 값으로 생성하기 \n",
        "s3 = pd.Series(5, index=[0, 1, 2])\n",
        "print(s3)"
      ],
      "metadata": {
        "colab": {
          "base_uri": "https://localhost:8080/"
        },
        "id": "Lbxly8BWcxab",
        "outputId": "eab4b6d2-0cb3-4131-9d34-472800052cf7"
      },
      "execution_count": null,
      "outputs": [
        {
          "output_type": "stream",
          "name": "stdout",
          "text": [
            "0    5\n",
            "1    5\n",
            "2    5\n",
            "dtype: int64\n"
          ]
        }
      ]
    },
    {
      "cell_type": "markdown",
      "source": [
        "### 인덱싱/슬라이싱 \n",
        "\n",
        "**명시적 인덱스(Explicit Index)** : 사용자가 직접 지정한 인덱스\n",
        "\n",
        "- 인덱스를 임의로 설정할 수 있으며, 이를 통해 데이터를 쉽게 조회할 수 있습니다.\n",
        "\n",
        "**묵시적 인덱스(Implicit Index)** : 판다스가 자동으로 생성하는 인덱스\n",
        "\n",
        "- 0부터 시작하는 정수형 인덱스로, 데이터프레임과 시리즈를 생성할 때 index 속성을 설정하지 않으면 자동으로 생성됩니다."
      ],
      "metadata": {
        "id": "FfUBL_5pfBu1"
      }
    },
    {
      "cell_type": "code",
      "source": [
        "data = [1, 2, 3, 4, 5]\n",
        "index = ['a', 'b', 'c', 'd', 'e']\n",
        "series = pd.Series(data, index=index) # 명시적 인덱스 \n",
        "print(series)"
      ],
      "metadata": {
        "colab": {
          "base_uri": "https://localhost:8080/"
        },
        "id": "twdpAJxpc4Ad",
        "outputId": "a5de132e-9066-4e7b-de9c-813b24441650"
      },
      "execution_count": null,
      "outputs": [
        {
          "output_type": "stream",
          "name": "stdout",
          "text": [
            "a    1\n",
            "b    2\n",
            "c    3\n",
            "d    4\n",
            "e    5\n",
            "dtype: int64\n"
          ]
        }
      ]
    },
    {
      "cell_type": "code",
      "source": [
        "series = pd.Series(data) # 묵시적 인덱스 \n",
        "print(series)"
      ],
      "metadata": {
        "colab": {
          "base_uri": "https://localhost:8080/"
        },
        "id": "GCV61ID6df7S",
        "outputId": "95e4a21c-3207-4db3-928c-ffea115d288a"
      },
      "execution_count": null,
      "outputs": [
        {
          "output_type": "stream",
          "name": "stdout",
          "text": [
            "0    1\n",
            "1    2\n",
            "2    3\n",
            "3    4\n",
            "4    5\n",
            "dtype: int64\n"
          ]
        }
      ]
    },
    {
      "cell_type": "code",
      "source": [
        "# 슬라이싱 \n",
        "print(series[0])\n",
        "print(series[0:3])\n",
        "print(series[::-1]) # 역순 \n",
        "print(series) # 원본 유지 "
      ],
      "metadata": {
        "colab": {
          "base_uri": "https://localhost:8080/"
        },
        "id": "0vWGXuUEeDUR",
        "outputId": "385cfeff-8fef-4564-c5ae-802cb79811f4"
      },
      "execution_count": null,
      "outputs": [
        {
          "output_type": "stream",
          "name": "stdout",
          "text": [
            "1\n",
            "0    1\n",
            "1    2\n",
            "2    3\n",
            "dtype: int64\n",
            "4    5\n",
            "3    4\n",
            "2    3\n",
            "1    2\n",
            "0    1\n",
            "dtype: int64\n",
            "0    1\n",
            "1    2\n",
            "2    3\n",
            "3    4\n",
            "4    5\n",
            "dtype: int64\n"
          ]
        }
      ]
    },
    {
      "cell_type": "markdown",
      "source": [
        "### Boolean Indexing"
      ],
      "metadata": {
        "id": "WnDD_mke1frR"
      }
    },
    {
      "cell_type": "code",
      "source": [
        "print(series > 2) # -> Bool \n",
        "\n",
        "print(series[series > 2]) # a[a 조건]"
      ],
      "metadata": {
        "colab": {
          "base_uri": "https://localhost:8080/"
        },
        "id": "NscBkwvtzy9i",
        "outputId": "8c37eb43-c245-4aff-e94e-549500f9fcbb"
      },
      "execution_count": null,
      "outputs": [
        {
          "output_type": "stream",
          "name": "stdout",
          "text": [
            "0    False\n",
            "1    False\n",
            "2     True\n",
            "3     True\n",
            "4     True\n",
            "dtype: bool\n",
            "2    3\n",
            "3    4\n",
            "4    5\n",
            "dtype: int64\n"
          ]
        }
      ]
    },
    {
      "cell_type": "code",
      "source": [
        "# 5보다 작은 시리즈 만들기\n",
        "print(series[series < 5])"
      ],
      "metadata": {
        "colab": {
          "base_uri": "https://localhost:8080/"
        },
        "id": "mGAsUB761qEB",
        "outputId": "bc692b0b-1971-4790-e497-03ed578082b5"
      },
      "execution_count": null,
      "outputs": [
        {
          "output_type": "stream",
          "name": "stdout",
          "text": [
            "0    1\n",
            "1    2\n",
            "2    3\n",
            "3    4\n",
            "dtype: int64\n"
          ]
        }
      ]
    },
    {
      "cell_type": "markdown",
      "source": [
        "### 산술 연산 "
      ],
      "metadata": {
        "id": "8fD90XvJ3Tiw"
      }
    },
    {
      "cell_type": "code",
      "source": [
        "print(series + 100)\n",
        "print(series - 100)\n",
        "print(series * 100) # 곱 \n",
        "print(series ** 100) # 제곱 \n",
        "print(series / 100) # 몫 (float)\n",
        "print(series % 100) # 나머지 \n",
        "print(series // 100) # 몫 (int)\n",
        "# 원본 유지. 그저 계산 결과 "
      ],
      "metadata": {
        "colab": {
          "base_uri": "https://localhost:8080/"
        },
        "id": "Fr5M5xXf24Oj",
        "outputId": "2c298a4b-0dab-4780-af4e-f3f0cfb01ec7"
      },
      "execution_count": null,
      "outputs": [
        {
          "output_type": "stream",
          "name": "stdout",
          "text": [
            "0    101\n",
            "1    102\n",
            "2    103\n",
            "3    104\n",
            "4    105\n",
            "dtype: int64\n",
            "0   -99\n",
            "1   -98\n",
            "2   -97\n",
            "3   -96\n",
            "4   -95\n",
            "dtype: int64\n",
            "0    100\n",
            "1    200\n",
            "2    300\n",
            "3    400\n",
            "4    500\n",
            "dtype: int64\n",
            "0                      1\n",
            "1                      0\n",
            "2   -2984622845537545263\n",
            "3                      0\n",
            "4   -3842938066129721103\n",
            "dtype: int64\n",
            "0    0.01\n",
            "1    0.02\n",
            "2    0.03\n",
            "3    0.04\n",
            "4    0.05\n",
            "dtype: float64\n",
            "0    1\n",
            "1    2\n",
            "2    3\n",
            "3    4\n",
            "4    5\n",
            "dtype: int64\n",
            "0    0\n",
            "1    0\n",
            "2    0\n",
            "3    0\n",
            "4    0\n",
            "dtype: int64\n"
          ]
        }
      ]
    },
    {
      "cell_type": "markdown",
      "source": [
        "### 객체 접근\n",
        "\n",
        "- keys -> index\n",
        "- values\n",
        "- items\n"
      ],
      "metadata": {
        "id": "P4fRlUmP53RQ"
      }
    },
    {
      "cell_type": "code",
      "source": [
        "series = pd.Series([1, 2, 3, 4, 5])\n",
        "print(series.keys)\n",
        "\n",
        "print(series.keys())\n",
        "print(series.index)\n",
        "# RangeIndex - Pandas에서 자동으로 인덱스를 생성해준 것 \n",
        "\n",
        "print(series.values)\n",
        "\n",
        "print(series[0])\n",
        "print(series.values[0])"
      ],
      "metadata": {
        "colab": {
          "base_uri": "https://localhost:8080/"
        },
        "id": "KUo3aA863fJn",
        "outputId": "4e7ba9b2-ae99-4548-dfa4-013b80a0e816"
      },
      "execution_count": null,
      "outputs": [
        {
          "output_type": "stream",
          "name": "stdout",
          "text": [
            "<bound method Series.keys of 0    1\n",
            "1    2\n",
            "2    3\n",
            "3    4\n",
            "4    5\n",
            "dtype: int64>\n",
            "RangeIndex(start=0, stop=5, step=1)\n",
            "RangeIndex(start=0, stop=5, step=1)\n",
            "[1 2 3 4 5]\n",
            "1\n",
            "1\n"
          ]
        }
      ]
    },
    {
      "cell_type": "code",
      "source": [
        "s2 = pd.Series({'a': 1, 'b': 2, 'c': 3, 'd': 4})\n",
        "print(s2.keys)\n",
        "\n",
        "print(s2.keys()) # 메서드 호출 \n",
        "print(s2.index)"
      ],
      "metadata": {
        "colab": {
          "base_uri": "https://localhost:8080/"
        },
        "id": "ByQOk-xN6W0_",
        "outputId": "9319bbdf-7193-44f6-dde2-8ee0a7a87827"
      },
      "execution_count": null,
      "outputs": [
        {
          "output_type": "stream",
          "name": "stdout",
          "text": [
            "<bound method Series.keys of a    1\n",
            "b    2\n",
            "c    3\n",
            "d    4\n",
            "dtype: int64>\n",
            "Index(['a', 'b', 'c', 'd'], dtype='object')\n",
            "Index(['a', 'b', 'c', 'd'], dtype='object')\n"
          ]
        }
      ]
    },
    {
      "cell_type": "code",
      "source": [
        "print(s2.items()) # zip : 순회 가능한 쌍 \n",
        "\n",
        "for index, value in s2.items():\n",
        "    print(f'인덱스: {index}, 데이터: {value}')"
      ],
      "metadata": {
        "colab": {
          "base_uri": "https://localhost:8080/"
        },
        "id": "Obvo6Jt_7Vz_",
        "outputId": "5aa682bf-0187-44d8-d65e-e42055bf505d"
      },
      "execution_count": null,
      "outputs": [
        {
          "output_type": "stream",
          "name": "stdout",
          "text": [
            "<zip object at 0x7fb0b43adb40>\n",
            "인덱스: a, 데이터: 1\n",
            "인덱스: b, 데이터: 2\n",
            "인덱스: c, 데이터: 3\n",
            "인덱스: d, 데이터: 4\n"
          ]
        }
      ]
    },
    {
      "cell_type": "code",
      "source": [
        "s = pd.Series([10, 20, 30, 40], index=['a', 'b', 'c', 'd'])\n",
        "print(s)"
      ],
      "metadata": {
        "colab": {
          "base_uri": "https://localhost:8080/"
        },
        "id": "J6DuJfKjAWS8",
        "outputId": "bda5085b-9efa-44c4-afc2-800e58297efd"
      },
      "execution_count": null,
      "outputs": [
        {
          "output_type": "stream",
          "name": "stdout",
          "text": [
            "a    10\n",
            "b    20\n",
            "c    30\n",
            "d    40\n",
            "dtype: int64\n"
          ]
        }
      ]
    },
    {
      "cell_type": "code",
      "source": [
        "# loc : 행에 접근 \n",
        "print(s.loc['a']) \n",
        "print(s.loc['b':'d']) # 레이블 지정 -> 'd' 포함 \n",
        "# print(s['a']) \n",
        "# print(s['b':'d'])\n",
        "\n",
        "# iloc :(행에 기반한) 열에 접근\n",
        "print(s.iloc[1])\n",
        "print(s.iloc[1:3]) # 일반 슬라이싱과 동일 -> 3 미포함 "
      ],
      "metadata": {
        "colab": {
          "base_uri": "https://localhost:8080/"
        },
        "id": "GijTpOsFCsyD",
        "outputId": "fdbd1d7e-fd16-48ed-e1ee-997181d7acee"
      },
      "execution_count": null,
      "outputs": [
        {
          "output_type": "stream",
          "name": "stdout",
          "text": [
            "10\n",
            "b    20\n",
            "c    30\n",
            "d    40\n",
            "dtype: int64\n",
            "20\n",
            "b    20\n",
            "c    30\n",
            "dtype: int64\n"
          ]
        }
      ]
    },
    {
      "cell_type": "markdown",
      "source": [
        "위의 코드에서 `s['b':'d']`와 `s.loc['b':'d']` 모두 'b'부터 'd'까지의 값을 선택하여 동일한 결과를 반환합니다.\n",
        "\n",
        "이러한 이유는 pandas가 일반적인 경우에는 인덱스 레이블을 기반으로 슬라이싱을 수행하기 때문입니다. 따라서, 일반적인 정수 인덱스가 아닌 인덱스 레이블을 가진 경우에도 `s['b':'d']`를 사용하여 슬라이싱을 수행할 수 있습니다.\n",
        "\n",
        "하지만 차이점은 존재합니다. loc을 사용하면 인덱스 레이블을 명시적으로 사용하여 데이터에 접근하는 것이므로, 인덱스 레이블의 타입에 따라 조금 다른 동작을 할 수 있습니다. 또한, loc을 사용하여 단일 인덱스 레이블을 선택하는 것과 슬라이싱을 통해 데이터에 접근하는 것은 일관성을 유지하기 위해 구문적으로 구분될 수 있습니다.\n",
        "\n",
        "따라서, `s['b':'d']`와 `s.loc['b':'d']`는 대부분의 경우 동일한 결과를 제공하지만, loc은 더 많은 유연성을 제공하고 명시적인 인덱스 레이블 기반의 데이터 접근 방법을 제공합니다."
      ],
      "metadata": {
        "id": "YrXkgKPyJJ3L"
      }
    },
    {
      "cell_type": "code",
      "source": [
        "# at : loc 과 비슷, 하나의 값만 가져올 때\n",
        "print(s.at['a'])\n",
        "\n",
        "# iat : iloc 과 비슷 \n",
        "print(s.iat[1])"
      ],
      "metadata": {
        "colab": {
          "base_uri": "https://localhost:8080/"
        },
        "id": "8n3uBiqyC3YY",
        "outputId": "dd1fa8e4-560f-47ff-e9b9-0818075c7de6"
      },
      "execution_count": null,
      "outputs": [
        {
          "output_type": "stream",
          "name": "stdout",
          "text": [
            "10\n",
            "20\n"
          ]
        }
      ]
    },
    {
      "cell_type": "code",
      "source": [
        "# get : 없는 값에 대한 처리 방식 다름 -> error 대신 default\n",
        "print(s.get('e', default=-1))"
      ],
      "metadata": {
        "colab": {
          "base_uri": "https://localhost:8080/"
        },
        "id": "CsDdrhd_D6iE",
        "outputId": "174003f2-9ce9-4d38-db46-590aff9fe20c"
      },
      "execution_count": null,
      "outputs": [
        {
          "output_type": "stream",
          "name": "stdout",
          "text": [
            "-1\n"
          ]
        }
      ]
    },
    {
      "cell_type": "markdown",
      "source": [
        "### 결측값 (Nan, None)\n",
        "\n",
        "- Nan(Not a Number) -> float\n",
        "- None -> none\n",
        "    - isna() = isnull()\n",
        "    - notna() = notnull()\n",
        "        - sum() 으로 카운팅 \n",
        "    - dropna()\n",
        "    - fillna(num)"
      ],
      "metadata": {
        "id": "szwEecwYPw56"
      }
    },
    {
      "cell_type": "code",
      "source": [
        "import numpy as np\n",
        "import pandas as pd\n",
        "\n",
        "data = [1, 2, 3, None] # list\n",
        "\n",
        "print(np.array(data)) # None - 수치연산 시 error\n",
        "print()\n",
        "print(pd.Series(data)) # NaN - 수치연산 처리가 용이"
      ],
      "metadata": {
        "colab": {
          "base_uri": "https://localhost:8080/"
        },
        "id": "iAG-TugaMoE7",
        "outputId": "1edac1b3-6b1e-4f6e-a67b-68f397a557c5"
      },
      "execution_count": null,
      "outputs": [
        {
          "output_type": "stream",
          "name": "stdout",
          "text": [
            "[1 2 3 None]\n",
            "\n",
            "0    1.0\n",
            "1    2.0\n",
            "2    3.0\n",
            "3    NaN\n",
            "dtype: float64\n"
          ]
        }
      ]
    },
    {
      "cell_type": "code",
      "source": [
        "s = pd.Series([1, 2, 3, None])\n",
        "\n",
        "print(s.isna())\n",
        "# print(s.isnull())\n",
        "\n",
        "print(s.isna().sum()) # True 값 카운팅 \n",
        "# print(s.isnull().sum())\n",
        "\n",
        "print(s.notnull())"
      ],
      "metadata": {
        "colab": {
          "base_uri": "https://localhost:8080/"
        },
        "id": "_FPAeLTeQ67K",
        "outputId": "ff14d5c5-66bb-4f92-88d8-40ea4cf4f12a"
      },
      "execution_count": null,
      "outputs": [
        {
          "output_type": "stream",
          "name": "stdout",
          "text": [
            "0    False\n",
            "1    False\n",
            "2    False\n",
            "3     True\n",
            "dtype: bool\n",
            "1\n",
            "0     True\n",
            "1     True\n",
            "2     True\n",
            "3    False\n",
            "dtype: bool\n"
          ]
        }
      ]
    },
    {
      "cell_type": "code",
      "source": [
        "# 결측치 제거\n",
        "print(s.dropna())\n",
        "\n",
        "# 결측치를 0으로 치환 \n",
        "print(s.fillna(0))"
      ],
      "metadata": {
        "colab": {
          "base_uri": "https://localhost:8080/"
        },
        "id": "Pav93QGXUQYa",
        "outputId": "a5e0cd5d-4f55-4373-9c3b-0925dceff0ec"
      },
      "execution_count": null,
      "outputs": [
        {
          "output_type": "stream",
          "name": "stdout",
          "text": [
            "0    1.0\n",
            "1    2.0\n",
            "2    3.0\n",
            "dtype: float64\n",
            "0    1.0\n",
            "1    2.0\n",
            "2    3.0\n",
            "3    0.0\n",
            "dtype: float64\n"
          ]
        }
      ]
    },
    {
      "cell_type": "markdown",
      "source": [
        "### 집계함수"
      ],
      "metadata": {
        "id": "7DEmTRetVwp-"
      }
    },
    {
      "cell_type": "code",
      "source": [
        "s = pd.Series([1, 3, 5, 7, 9])\n",
        "\n",
        "print(s.count()) # 카운트 함수 \n",
        "print(s.min()) # 최소값\n",
        "print(s.max()) # 최대값 \n",
        "\n",
        "print(s.mean()) # 평균 \n",
        "print(s.median()) # 중앙값  \n",
        "print(s.std()) # 표준편차 \n",
        "print(s.var()) # 분산 "
      ],
      "metadata": {
        "colab": {
          "base_uri": "https://localhost:8080/"
        },
        "id": "bk-SqYEvUr-7",
        "outputId": "dbca81b1-0e22-423e-995f-64d40b8943a1"
      },
      "execution_count": null,
      "outputs": [
        {
          "output_type": "stream",
          "name": "stdout",
          "text": [
            "5\n",
            "1\n",
            "9\n",
            "5.0\n",
            "5.0\n",
            "3.1622776601683795\n",
            "10.0\n"
          ]
        }
      ]
    },
    {
      "cell_type": "code",
      "source": [
        "print(s.describe()) # 기초 통계를 한 번에 볼 수 있는 함수"
      ],
      "metadata": {
        "colab": {
          "base_uri": "https://localhost:8080/"
        },
        "id": "aRvi2oHHV5X0",
        "outputId": "5d67c52a-48f6-4840-e4af-3eabb8f40aae"
      },
      "execution_count": null,
      "outputs": [
        {
          "output_type": "stream",
          "name": "stdout",
          "text": [
            "count    5.000000\n",
            "mean     5.000000\n",
            "std      3.162278\n",
            "min      1.000000\n",
            "25%      3.000000\n",
            "50%      5.000000\n",
            "75%      7.000000\n",
            "max      9.000000\n",
            "dtype: float64\n"
          ]
        }
      ]
    }
  ]
}