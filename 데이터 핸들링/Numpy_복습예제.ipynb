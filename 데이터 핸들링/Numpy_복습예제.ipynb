{
  "nbformat": 4,
  "nbformat_minor": 0,
  "metadata": {
    "colab": {
      "provenance": [],
      "include_colab_link": true
    },
    "kernelspec": {
      "name": "python3",
      "display_name": "Python 3"
    },
    "language_info": {
      "name": "python"
    }
  },
  "cells": [
    {
      "cell_type": "markdown",
      "metadata": {
        "id": "view-in-github",
        "colab_type": "text"
      },
      "source": [
        "<a href=\"https://colab.research.google.com/github/yesyell/DA_School_1/blob/main/%EB%8D%B0%EC%9D%B4%ED%84%B0%20%ED%95%B8%EB%93%A4%EB%A7%81/Numpy_%EB%B3%B5%EC%8A%B5%EC%98%88%EC%A0%9C.ipynb\" target=\"_parent\"><img src=\"https://colab.research.google.com/assets/colab-badge.svg\" alt=\"Open In Colab\"/></a>"
      ]
    },
    {
      "cell_type": "markdown",
      "source": [
        "# 연습 문제"
      ],
      "metadata": {
        "id": "xK1rIclxWS-I"
      }
    },
    {
      "cell_type": "code",
      "source": [
        "import numpy as np"
      ],
      "metadata": {
        "id": "TB1Ebqpmdowm"
      },
      "execution_count": 3,
      "outputs": []
    },
    {
      "cell_type": "code",
      "source": [
        "# 1. 주어진 여러 개의 1차원 배열을 연결하여 하나의 큰 1차원 배열로 반환하세요.\n",
        "\n",
        "arr1 = np.array([1, 2, 3])\n",
        "arr2 = np.array([4, 5, 6])\n",
        "arr3 = np.array([7, 8, 9, 10])\n",
        "\n",
        "arr_a = np.concatenate([arr1, arr2, arr3], axis=0)\n",
        "print(arr_a)"
      ],
      "metadata": {
        "id": "cp4K9-KOWUKs",
        "colab": {
          "base_uri": "https://localhost:8080/"
        },
        "outputId": "588a2ac8-1fde-4383-b42f-6bca708d0471"
      },
      "execution_count": null,
      "outputs": [
        {
          "output_type": "stream",
          "name": "stdout",
          "text": [
            "[ 1  2  3  4  5  6  7  8  9 10]\n"
          ]
        }
      ]
    },
    {
      "cell_type": "code",
      "source": [
        "# 2. 주어진 2차원 배열에서 각 열의 평균값을 계산하여 새로운 1차원 배열로 나타내세요.\n",
        "\n",
        "arr = np.array([[1, 2, 3],\n",
        "                [4, 5, 6],\n",
        "                [7, 8, 9]])\n",
        "m = np.mean(arr, axis=0)\n",
        "print(m)"
      ],
      "metadata": {
        "id": "xhXeQKG2aQbV",
        "colab": {
          "base_uri": "https://localhost:8080/"
        },
        "outputId": "6d0ad63a-a4dc-422f-ff00-1b01d7a88dff"
      },
      "execution_count": null,
      "outputs": [
        {
          "output_type": "stream",
          "name": "stdout",
          "text": [
            "[4. 5. 6.]\n"
          ]
        }
      ]
    },
    {
      "cell_type": "code",
      "source": [
        "# 3. 주어진 2차원 배열에서 각 행의 최대값을 구하여 1차원 배열로 반환하세요.\n",
        "\n",
        "max = np.max(arr, axis=1)\n",
        "print(max)"
      ],
      "metadata": {
        "id": "eB7JlJ7GbJgU",
        "colab": {
          "base_uri": "https://localhost:8080/"
        },
        "outputId": "fbaccb20-ad70-4912-ecf6-c80d28017df2"
      },
      "execution_count": null,
      "outputs": [
        {
          "output_type": "stream",
          "name": "stdout",
          "text": [
            "[3 6 9]\n"
          ]
        }
      ]
    },
    {
      "cell_type": "code",
      "source": [
        "# 4. 0에서 1사이의 값으로 크기 10개의 1차원 배열을 만들어주세요.\n",
        "\n",
        "l = np.linspace(0, 1, 10)\n",
        "print(l)"
      ],
      "metadata": {
        "id": "LWQ4vjasbXph",
        "colab": {
          "base_uri": "https://localhost:8080/"
        },
        "outputId": "2754242f-3ba4-40e7-9fb5-959ed5e97ce7"
      },
      "execution_count": null,
      "outputs": [
        {
          "output_type": "stream",
          "name": "stdout",
          "text": [
            "[0.         0.11111111 0.22222222 0.33333333 0.44444444 0.55555556\n",
            " 0.66666667 0.77777778 0.88888889 1.        ]\n"
          ]
        }
      ]
    },
    {
      "cell_type": "code",
      "source": [
        "# 5. 주어진 1차원 배열에서 짝수인 요소들의 합을 계산하는 함수 sum_of_evens를 작성하세요.\n",
        "\n",
        "def sum_of_evens(arr: np.ndarray) -> int:\n",
        "    arr_e = arr[arr % 2 == 0]  # 짝수인 요소 선택\n",
        "    return np.sum(arr_e)  # 짝수인 요소들의 합 반환\n",
        "\n",
        "arr = np.array([1, 2, 3, 4, 5, 6, 7, 8, 9, 10])\n",
        "print(sum_of_evens(arr))"
      ],
      "metadata": {
        "id": "LAZOLo5tb1ZW",
        "colab": {
          "base_uri": "https://localhost:8080/"
        },
        "outputId": "a0405fcb-ff80-4526-b2cd-349ac2b6cbc4"
      },
      "execution_count": null,
      "outputs": [
        {
          "output_type": "stream",
          "name": "stdout",
          "text": [
            "30\n"
          ]
        }
      ]
    },
    {
      "cell_type": "code",
      "source": [
        "# 6. 수평분할, 수직분할, 수평 스택, 수직 스택 문제를 풀어봅시다.\n",
        "\n",
        "# 분할할 배열 생성\n",
        "arr = np.arange(1, 13).reshape((3, 4))\n",
        "print(\"원본 배열:\")\n",
        "print(arr)\n",
        "print('-'*10)\n",
        "\n",
        "# 1. 수평분할하기 -> 다시 원본으로 스택쌓기\n",
        "arr_split = np.hsplit(arr, 2)\n",
        "print(\"수평 분할 결과:\")\n",
        "print(arr_split)\n",
        "arr_1 = arr_split[0]\n",
        "arr_2 = arr_split[1]\n",
        "arr_stack = np.hstack((arr_1, arr_2))\n",
        "print()\n",
        "print(arr_stack)\n",
        "print('-'*10)\n",
        "\n",
        "# 2. 수직분할하기 -> 다시 원본으로 스택쌓기\n",
        "arr_split = np.vsplit(arr, 3)\n",
        "print(\"수직 분할 결과:\")\n",
        "print(arr_split)\n",
        "arr_1 = arr_split[0]\n",
        "arr_2 = arr_split[1]\n",
        "arr_3 = arr_split[2]\n",
        "arr_stack = np.vstack((arr_1, arr_2, arr_3))\n",
        "print()\n",
        "print(arr_stack)"
      ],
      "metadata": {
        "id": "10VsfXcMb1vH",
        "colab": {
          "base_uri": "https://localhost:8080/"
        },
        "outputId": "944eb6a1-6dcc-4bdf-f2e0-13aaf94062cc"
      },
      "execution_count": null,
      "outputs": [
        {
          "output_type": "stream",
          "name": "stdout",
          "text": [
            "원본 배열:\n",
            "[[ 1  2  3  4]\n",
            " [ 5  6  7  8]\n",
            " [ 9 10 11 12]]\n",
            "----------\n",
            "수평 분할 결과:\n",
            "[array([[ 1,  2],\n",
            "       [ 5,  6],\n",
            "       [ 9, 10]]), array([[ 3,  4],\n",
            "       [ 7,  8],\n",
            "       [11, 12]])]\n",
            "\n",
            "[[ 1  2  3  4]\n",
            " [ 5  6  7  8]\n",
            " [ 9 10 11 12]]\n",
            "----------\n",
            "수직 분할 결과:\n",
            "[array([[1, 2, 3, 4]]), array([[5, 6, 7, 8]]), array([[ 9, 10, 11, 12]])]\n",
            "\n",
            "[[ 1  2  3  4]\n",
            " [ 5  6  7  8]\n",
            " [ 9 10 11 12]]\n"
          ]
        }
      ]
    },
    {
      "cell_type": "code",
      "source": [
        "# 7. 배열에서 조건에 맞는 값 반환하는 문제를 풀어봅시다.\n",
        "\n",
        "# 조건 : 값을 10으로 나누었을 때 나머지가 0이면 원래 값 출력, 아니면 0으로 출력하세요.\n",
        "arr = np.arange(0, 100, 5).reshape((5,4))\n",
        "print(arr)\n",
        "\n",
        "arr1 = np.where(arr % 10 == 0, arr, 0)\n",
        "print(arr1)"
      ],
      "metadata": {
        "id": "aeDgp6xKgt90",
        "colab": {
          "base_uri": "https://localhost:8080/"
        },
        "outputId": "c58f4e8f-9959-4803-9b7a-739f1d31d093"
      },
      "execution_count": null,
      "outputs": [
        {
          "output_type": "stream",
          "name": "stdout",
          "text": [
            "[[ 0  5 10 15]\n",
            " [20 25 30 35]\n",
            " [40 45 50 55]\n",
            " [60 65 70 75]\n",
            " [80 85 90 95]]\n",
            "[[ 0  0 10  0]\n",
            " [20  0 30  0]\n",
            " [40  0 50  0]\n",
            " [60  0 70  0]\n",
            " [80  0 90  0]]\n"
          ]
        }
      ]
    },
    {
      "cell_type": "code",
      "source": [
        "# 8. [3x3]배열 lst 중 짝수만 뽑아내는 부울린 인덱싱 배열(numpy 배열)을 사용하여 짝수 배열 n 을 만드시오.\n",
        "\n",
        "lst = [\n",
        "    [1, 2, 3],\n",
        "    [4, 5, 6],\n",
        "    [7, 8, 9]\n",
        "]\n",
        "a = np.array(lst)\n",
        "\n",
        "n = a[a%2 == 0]\n",
        "print(n)"
      ],
      "metadata": {
        "id": "LOgMgQQPhIX8",
        "colab": {
          "base_uri": "https://localhost:8080/"
        },
        "outputId": "2dd00e39-6832-4754-d2ea-01beac9cff18"
      },
      "execution_count": null,
      "outputs": [
        {
          "output_type": "stream",
          "name": "stdout",
          "text": [
            "[2 4 6 8]\n"
          ]
        }
      ]
    },
    {
      "cell_type": "code",
      "source": [
        "# 인덱싱 배열을 이용하기\n",
        "bool_indexing_array = np.array([\n",
        "    [False,  True, False],\n",
        "    [True, False,  True],\n",
        "    [False,  True, False]\n",
        "])\n",
        "n = a[bool_indexing_array]\n",
        "print(n)    \n",
        "\n",
        "# 배열 a 에 대해 짝수면 True, 홀수면 False \n",
        "bool_indexing = (a % 2 == 0)\n",
        "print(bool_indexing)\n",
        "print(a[bool_indexing])"
      ],
      "metadata": {
        "id": "2xN9ufPgke-l",
        "colab": {
          "base_uri": "https://localhost:8080/"
        },
        "outputId": "c1146a25-9049-4dcf-95b5-ee3d9cb8802d"
      },
      "execution_count": null,
      "outputs": [
        {
          "output_type": "stream",
          "name": "stdout",
          "text": [
            "[2 4 6 8]\n",
            "[[False  True False]\n",
            " [ True False  True]\n",
            " [False  True False]]\n",
            "[2 4 6 8]\n"
          ]
        }
      ]
    },
    {
      "cell_type": "code",
      "source": [
        "# 9. 각도를 이용해서 삼각함수를 만들어봅시다.\n",
        "\n",
        "angle = np.pi / 3 # 라디안 표기 = 60도 \n",
        "# 360도는 2라디안 으로, 180도는 1라디안으로 표현합니다.\n",
        "\n",
        "sin_ = np.sin(angle)\n",
        "cos_ = np.cos(angle)\n",
        "tan_ = np.tan(angle)\n",
        "print(sin_)\n",
        "print(cos_)\n",
        "print(tan_)"
      ],
      "metadata": {
        "id": "wWZyNtLbhdUP",
        "colab": {
          "base_uri": "https://localhost:8080/"
        },
        "outputId": "aae3ba72-0fcc-4bb9-8fe9-2b4b17e34d6e"
      },
      "execution_count": null,
      "outputs": [
        {
          "output_type": "stream",
          "name": "stdout",
          "text": [
            "0.8660254037844386\n",
            "0.5000000000000001\n",
            "1.7320508075688767\n"
          ]
        }
      ]
    },
    {
      "cell_type": "code",
      "source": [
        "# 10. 조건함수를 사용해서 짝수조건을 만족하는 요소의 값이 2배로 만드는 배열을 만드시오.\n",
        "\n",
        "arr = np.array([1, 2, 3, 4, 5])\n",
        "arr1 = np.where(arr % 2 == 0, arr * 2, arr)\n",
        "print(arr1)"
      ],
      "metadata": {
        "id": "Cgj-YyGohjjG",
        "colab": {
          "base_uri": "https://localhost:8080/"
        },
        "outputId": "8ab42be4-4b13-415a-8418-2104f6cabd6f"
      },
      "execution_count": null,
      "outputs": [
        {
          "output_type": "stream",
          "name": "stdout",
          "text": [
            "[1 4 3 8 5]\n"
          ]
        }
      ]
    },
    {
      "cell_type": "markdown",
      "source": [
        "---\n",
        "### 배열"
      ],
      "metadata": {
        "id": "xXeY0ZOGrY3z"
      }
    },
    {
      "cell_type": "markdown",
      "source": [
        "- 사이즈 10의 Null(0) 1차원 배열을 만들어보세요."
      ],
      "metadata": {
        "id": "xVosLFitYK7-"
      }
    },
    {
      "cell_type": "code",
      "source": [
        "import numpy as np\n",
        "\n",
        "z = np.zeros(10)\n",
        "print(z)"
      ],
      "metadata": {
        "id": "NnfXMCigdKS8",
        "outputId": "92de77a5-fcce-45e1-a40a-a20fa9bb5647",
        "colab": {
          "base_uri": "https://localhost:8080/"
        }
      },
      "execution_count": null,
      "outputs": [
        {
          "output_type": "stream",
          "name": "stdout",
          "text": [
            "[0. 0. 0. 0. 0. 0. 0. 0. 0. 0.]\n"
          ]
        }
      ]
    },
    {
      "cell_type": "markdown",
      "source": [
        "차원 만드는 넘파이 함수를 사용해보겠습니다.\n",
        "- 값이 10 ~ 49 인 1차원 배열을 만들어주세요."
      ],
      "metadata": {
        "id": "qzmR8WWZJRQL"
      }
    },
    {
      "cell_type": "code",
      "source": [
        "z = np.arange(10, 50)\n",
        "print(z)"
      ],
      "metadata": {
        "id": "d2ZeW7EFdo3R",
        "outputId": "49b6c954-717f-49d0-fac5-496beb929b40",
        "colab": {
          "base_uri": "https://localhost:8080/"
        }
      },
      "execution_count": null,
      "outputs": [
        {
          "output_type": "stream",
          "name": "stdout",
          "text": [
            "[10 11 12 13 14 15 16 17 18 19 20 21 22 23 24 25 26 27 28 29 30 31 32 33\n",
            " 34 35 36 37 38 39 40 41 42 43 44 45 46 47 48 49]\n"
          ]
        }
      ]
    },
    {
      "cell_type": "markdown",
      "source": [
        "0~8 까지의 값을 사용하여 `3x3` 배열을 만드시오"
      ],
      "metadata": {
        "id": "h2SY25RfJQ6C"
      }
    },
    {
      "cell_type": "code",
      "source": [
        "z = np.arange(9).reshape(3, 3)\n",
        "print(z)"
      ],
      "metadata": {
        "colab": {
          "base_uri": "https://localhost:8080/"
        },
        "id": "GyW23W5UJQzu",
        "outputId": "6c142ff3-77f8-40a1-bb48-f863bc05803a"
      },
      "execution_count": null,
      "outputs": [
        {
          "output_type": "stream",
          "name": "stdout",
          "text": [
            "[[0 1 2]\n",
            " [3 4 5]\n",
            " [6 7 8]]\n"
          ]
        }
      ]
    },
    {
      "cell_type": "markdown",
      "source": [
        "(응용) 5x5 배열을 만들어서 경계값만 1이고, 내부에 있는 값은 0 인 2차원 배열을 만들어 보세요\n"
      ],
      "metadata": {
        "id": "W9XgbD4ZJQq7"
      }
    },
    {
      "cell_type": "code",
      "source": [
        "z = np.ones((5, 5))\n",
        "z[1:-1, 1:-1] = 0\n",
        "print(z)"
      ],
      "metadata": {
        "id": "kAlDZ8s9eTji",
        "outputId": "c8c0d3e9-1829-42d1-c072-ec837e89655f",
        "colab": {
          "base_uri": "https://localhost:8080/"
        }
      },
      "execution_count": null,
      "outputs": [
        {
          "output_type": "stream",
          "name": "stdout",
          "text": [
            "[[1. 1. 1. 1. 1.]\n",
            " [1. 0. 0. 0. 1.]\n",
            " [1. 0. 0. 0. 1.]\n",
            " [1. 0. 0. 0. 1.]\n",
            " [1. 1. 1. 1. 1.]]\n"
          ]
        }
      ]
    },
    {
      "cell_type": "markdown",
      "source": [
        "### 랜덤"
      ],
      "metadata": {
        "id": "MEbb5kR0rarR"
      }
    },
    {
      "cell_type": "markdown",
      "source": [
        "오늘 배운 랜덤함수를 사용해서 문제를 풀어보겠습니다.\n",
        "\n",
        "- 랜덤 값이 있는 `3x3x3` array 만들기"
      ],
      "metadata": {
        "id": "Y5eyQnOdJQNw"
      }
    },
    {
      "cell_type": "code",
      "source": [
        "z = np.random.random((3, 3, 3))\n",
        "print(z)"
      ],
      "metadata": {
        "colab": {
          "base_uri": "https://localhost:8080/"
        },
        "id": "k0hsyCLcLcbv",
        "outputId": "c9e2d9f9-933f-4edb-8aaf-8441946ecfc2"
      },
      "execution_count": null,
      "outputs": [
        {
          "output_type": "stream",
          "name": "stdout",
          "text": [
            "[[[0.46494354 0.58852373 0.21824137]\n",
            "  [0.86725324 0.40587558 0.49542955]\n",
            "  [0.78811284 0.3771192  0.18354424]]\n",
            "\n",
            " [[0.78326835 0.66662515 0.75724472]\n",
            "  [0.69798059 0.69236159 0.73827868]\n",
            "  [0.21917873 0.68375842 0.80602026]]\n",
            "\n",
            " [[0.58825094 0.38180993 0.33330427]\n",
            "  [0.0154524  0.57367666 0.65817057]\n",
            "  [0.55316377 0.32820305 0.11910533]]]\n"
          ]
        }
      ]
    },
    {
      "cell_type": "markdown",
      "source": [
        "랜덤 값이 있는 `10x10` 배열을 만들고 최소값과 최대값을 찾아주세요"
      ],
      "metadata": {
        "id": "3txDglzwLyEn"
      }
    },
    {
      "cell_type": "code",
      "source": [
        "z = np.random.random((10, 10))\n",
        "print(z.min(), z.max())"
      ],
      "metadata": {
        "colab": {
          "base_uri": "https://localhost:8080/"
        },
        "id": "rMd_S66PLoIy",
        "outputId": "b0174508-46d8-4eca-c71a-49484ffe1f0e"
      },
      "execution_count": null,
      "outputs": [
        {
          "output_type": "stream",
          "name": "stdout",
          "text": [
            "0.007472542908793844 0.974699747379136\n"
          ]
        }
      ]
    },
    {
      "cell_type": "markdown",
      "source": [
        "30 크기의 랜덤 값을 가지는 1차원 배열을 만들어서 평균값을 도출해주세요."
      ],
      "metadata": {
        "id": "-ZvLLb9nMn6l"
      }
    },
    {
      "cell_type": "code",
      "source": [
        "z = np.random.random(30)\n",
        "print(z)\n",
        "print(z.mean())"
      ],
      "metadata": {
        "colab": {
          "base_uri": "https://localhost:8080/"
        },
        "id": "wXzseRLjL9tj",
        "outputId": "3a24ff19-7fde-41bc-9940-2576ca6cd852"
      },
      "execution_count": null,
      "outputs": [
        {
          "output_type": "stream",
          "name": "stdout",
          "text": [
            "[0.43618332 0.98066981 0.51078018 0.54342433 0.07415463 0.98032963\n",
            " 0.88306142 0.08241015 0.09660413 0.81599901 0.46697666 0.06102785\n",
            " 0.18853163 0.70399153 0.88655465 0.36728862 0.01302452 0.00602524\n",
            " 0.06429726 0.08432796 0.41726318 0.26608685 0.61460982 0.34124367\n",
            " 0.30748227 0.48787387 0.16714526 0.308764   0.39677689 0.43477112]\n",
            "0.399589315286593\n"
          ]
        }
      ]
    },
    {
      "cell_type": "markdown",
      "source": [
        "### 행렬"
      ],
      "metadata": {
        "id": "HTHp5G1brcT9"
      }
    },
    {
      "cell_type": "markdown",
      "source": [
        "행렬 연산을 해보겠습니다.\n",
        "- 1로 채워진 `5x3` 행렬과 `3x2` 행렬의 곱을 구해봅니다.\n",
        "\n",
        "[행렬 곱](https://blog.naver.com/cni1577/221754216275)"
      ],
      "metadata": {
        "id": "tpTWO6tuQNn1"
      }
    },
    {
      "cell_type": "code",
      "source": [
        "x = np.ones((5, 3))\n",
        "print(x)\n",
        "y = np.ones((3, 2))\n",
        "print(y)\n",
        "print()\n",
        "z = np.dot(x, y)\n",
        "# z = x @ y\n",
        "print(z)"
      ],
      "metadata": {
        "id": "JwpUFs8MfeuS",
        "outputId": "a7cb7d2b-6c14-4fbf-c9ac-144e54179497",
        "colab": {
          "base_uri": "https://localhost:8080/"
        }
      },
      "execution_count": null,
      "outputs": [
        {
          "output_type": "stream",
          "name": "stdout",
          "text": [
            "[[1. 1. 1.]\n",
            " [1. 1. 1.]\n",
            " [1. 1. 1.]\n",
            " [1. 1. 1.]\n",
            " [1. 1. 1.]]\n",
            "[[1. 1.]\n",
            " [1. 1.]\n",
            " [1. 1.]]\n",
            "\n",
            "[[3. 3.]\n",
            " [3. 3.]\n",
            " [3. 3.]\n",
            " [3. 3.]\n",
            " [3. 3.]]\n"
          ]
        }
      ]
    },
    {
      "cell_type": "markdown",
      "source": [
        "(응용) 행렬의 연산을 하고 제로행렬 C에 값을 덮어씌워주세요.\n",
        "- np.add() 함수의 매개변수를 응용합니다. "
      ],
      "metadata": {
        "id": "3LVG6Mk9R7SO"
      }
    },
    {
      "cell_type": "code",
      "source": [
        "A = np.array([1, 2, 3])\n",
        "B = np.array([4, 5, 6])\n",
        "C = np.zeros(3)\n",
        "\n",
        "np.add(A, B, out=C)\n",
        "# C = np.add(A, B)\n",
        "print(C)"
      ],
      "metadata": {
        "id": "kKHHA09zgfmf",
        "outputId": "9b5b0095-7ef6-44ab-e3f4-bf43c0e3fd90",
        "colab": {
          "base_uri": "https://localhost:8080/"
        }
      },
      "execution_count": null,
      "outputs": [
        {
          "output_type": "stream",
          "name": "stdout",
          "text": [
            "[5. 7. 9.]\n"
          ]
        }
      ]
    },
    {
      "cell_type": "markdown",
      "source": [
        "(응용) A 배열의 모든 요소의 부호를 반전시켜서 C에 값을 덮어씌워주세요.\n",
        "- np.negative()"
      ],
      "metadata": {
        "id": "wEoQDZU9SfLr"
      }
    },
    {
      "cell_type": "code",
      "source": [
        "np.negative(A, out=C)\n",
        "print(C)"
      ],
      "metadata": {
        "colab": {
          "base_uri": "https://localhost:8080/"
        },
        "id": "qNiKxi3vQkFO",
        "outputId": "606982b4-9acb-4fac-fa67-154c126d4d59"
      },
      "execution_count": null,
      "outputs": [
        {
          "output_type": "stream",
          "name": "stdout",
          "text": [
            "[-1. -2. -3.]\n"
          ]
        }
      ]
    },
    {
      "cell_type": "markdown",
      "source": [
        "크기 10개의 1차원 랜덤 행렬을 만들고 최대값을 0 으로 바꾸어 주세요\n",
        "1. 최대값이 어디에 있는 지 인덱스를 확인하면\n",
        "2. 인덱싱을 통해서 최대값을 0으로 바꿔줄 수 있습니다.\n",
        "3. argmax() 함수는 배열의 요소들 중에서 가장 큰 값이 있는 위치의 인덱스를 반환합니다."
      ],
      "metadata": {
        "id": "Ek-iEThdTG7w"
      }
    },
    {
      "cell_type": "code",
      "source": [
        "z = np.random.random(10)\n",
        "\n",
        "max_i = z.argmax()\n",
        "z[max_i] = 0\n",
        "\n",
        "print(f'최대값이 있는 인덱스: {max_i}')\n",
        "print(z)"
      ],
      "metadata": {
        "id": "zP5ACBGBg4QX",
        "outputId": "3a81489d-12f8-4b22-b68c-e7ddd3d8d468",
        "colab": {
          "base_uri": "https://localhost:8080/"
        }
      },
      "execution_count": null,
      "outputs": [
        {
          "output_type": "stream",
          "name": "stdout",
          "text": [
            "최대값이 있는 인덱스: 1\n",
            "[0.53496713 0.         0.00530629 0.59139005 0.57133258 0.50269353\n",
            " 0.54223343 0.60677806 0.723845   0.25560574]\n"
          ]
        }
      ]
    },
    {
      "cell_type": "markdown",
      "source": [
        "np.max 와 np.argmax 의 값을 확인해봅시다.\n",
        "\n",
        "- 각 열과 행별로 최댓값을 반환하고 인덱스를 호출해주세요\n",
        "\n"
      ],
      "metadata": {
        "id": "wJrMfetWYhju"
      }
    },
    {
      "cell_type": "code",
      "source": [
        "arr = np.array([[1, 2, 3], [4, 5, 6]])\n",
        "print('arr에서 최댓값:', np.max(arr))\n",
        "print('arr에서 최댓값인 6이 위치한 인덱스:',np.argmax(arr))\n",
        "print('arr에서 각 열(axis=0)별로 최댓값을 반환:', np.max(arr, axis=0))\n",
        "print('arr에서 각 행(axis=1)별로 최댓값을 반환:', np.max(arr, axis=1))\n",
        "print('arr에서 각 열(axis=0)별로 최댓값의 인덱스를 반환:',np.argmax(arr, axis=0))\n",
        "print('arr에서 각 행(axis=1)별로 최댓값의 인덱스를 반환:',np.argmax(arr, axis=1))"
      ],
      "metadata": {
        "id": "CsEP9SLhh-J2",
        "outputId": "c3f50c2a-bf25-4525-acd7-ffe5c28102ba",
        "colab": {
          "base_uri": "https://localhost:8080/"
        }
      },
      "execution_count": null,
      "outputs": [
        {
          "output_type": "stream",
          "name": "stdout",
          "text": [
            "arr에서 최댓값: 6\n",
            "arr에서 최댓값인 6이 위치한 인덱스: 5\n",
            "arr에서 각 열(axis=0)별로 최댓값을 반환: [4 5 6]\n",
            "arr에서 각 열(axis=1)별로 최댓값을 반환: [3 6]\n",
            "arr에서 각 행(axis=0)별로 최댓값의 인덱스를 반환: [1 1 1]\n",
            "arr에서 각 행(axis=1)별로 최댓값의 인덱스를 반환: [2 2]\n"
          ]
        }
      ]
    },
    {
      "cell_type": "markdown",
      "source": [
        "## 형변환\n",
        "- 균일분포의 랜덤함수를 이용해서 0 ~ 100 까지 값을 가지는 1차원 **실수 (32비트)** 행렬을 만듭니다.\n",
        "- **정수 (32비트)** 이면서 배열의 모양을 `10x1` 로 변환해주세요 "
      ],
      "metadata": {
        "id": "JIMxeFbsTA1d"
      }
    },
    {
      "cell_type": "markdown",
      "source": [
        "`view()` 함수와 `astype()` 함수는 NumPy 배열에서 각각 다른 목적을 가지고 사용되는 함수입니다."
      ],
      "metadata": {
        "id": "nEhLtmH5VwzK"
      }
    },
    {
      "cell_type": "code",
      "source": [
        "f = (np.random.rand(10)*100).astype(np.float32)\n",
        "# f = np.random.uniform(0, 100, 10).astype(np.float32)\n",
        "\n",
        "print(f)\n",
        "print(f.dtype)"
      ],
      "metadata": {
        "id": "UiMcMLqfi0Pn",
        "outputId": "d0cd1bc6-9ce4-42c1-f7a5-cf4243b3996f",
        "colab": {
          "base_uri": "https://localhost:8080/"
        }
      },
      "execution_count": 11,
      "outputs": [
        {
          "output_type": "stream",
          "name": "stdout",
          "text": [
            "[52.081974 87.52822  14.526984 86.220505 40.175564 63.680122  7.139843\n",
            " 63.191708 85.983116 21.77151 ]\n",
            "float32\n"
          ]
        }
      ]
    },
    {
      "cell_type": "code",
      "source": [
        "i = f.view(np.int32)\n",
        "i.shape = (10, 1)\n",
        "# i = np.int32(f).reshape((10, 1))\n",
        "print(i)\n",
        "print(i.dtype)"
      ],
      "metadata": {
        "id": "JKiGC-Uho38B",
        "outputId": "18e20b8c-fbfc-4c39-e192-fe79d678fd70",
        "colab": {
          "base_uri": "https://localhost:8080/"
        }
      },
      "execution_count": 12,
      "outputs": [
        {
          "output_type": "stream",
          "name": "stdout",
          "text": [
            "[[1112560625]\n",
            " [1118768755]\n",
            " [1097363079]\n",
            " [1118597350]\n",
            " [1109439431]\n",
            " [1115601010]\n",
            " [1088715160]\n",
            " [1115472975]\n",
            " [1118566235]\n",
            " [1101933581]]\n",
            "int32\n"
          ]
        }
      ]
    },
    {
      "cell_type": "markdown",
      "source": [
        "집계 함수로 배열에 Null 값이 있는지 확인해보세요.\n",
        "- 정수형 난수로 `3x10` 행렬을 생성합니다.\n",
        "- 0 ~ 5 까지의 값으로 만들어주세요."
      ],
      "metadata": {
        "id": "E3vUP48LWacZ"
      }
    },
    {
      "cell_type": "code",
      "source": [
        "z = np.random.randint(0, 6, size=(3, 10))\n",
        "print(z)\n",
        "print(z.any()) # == np.any(z)"
      ],
      "metadata": {
        "id": "kPMFGNM2pzmK",
        "outputId": "90581089-5557-4a15-f5f8-c6f42afe1f0b",
        "colab": {
          "base_uri": "https://localhost:8080/"
        }
      },
      "execution_count": null,
      "outputs": [
        {
          "output_type": "stream",
          "name": "stdout",
          "text": [
            "[[0 5 4 5 0 1 1 1 4 4]\n",
            " [1 1 3 1 5 1 2 4 3 4]\n",
            " [5 1 0 5 5 1 4 1 2 1]]\n",
            "True\n"
          ]
        }
      ]
    },
    {
      "cell_type": "markdown",
      "source": [
        "## 정규분포, 균일분포\n"
      ],
      "metadata": {
        "id": "HCAdlqsDukYy"
      }
    },
    {
      "cell_type": "markdown",
      "source": [
        "정규분포 normal()을 따르는 난수 생성의 방법을 배웠습니다.\n",
        "이번에는 주어진 범위에서 균일분포를 따르는 난수 생성을 해보겠습니다.\n",
        "\n",
        "- Normal Distribution\n",
        "- Uniform Distribution\n",
        "\n",
        "\n",
        "\n",
        "\n",
        "\n",
        "> [low, high] 범위에서 균일 분포를 따르는 난수 생성\n",
        "\n",
        "\n",
        "> `random_number = np.random.uniform(low, high, size)`\n",
        "\n",
        "(응용) 0부터 1사이의 10개의 값을 가지는 균일분포 배열을 만들어주세요\n",
        "- 배열에서 지정된 값에서 가장 가까운 값을 찾겠습니다. => 정답 인덱스 호출 => 가장 가까운 값 호출\n",
        "- num = 0.5 \n",
        "\n",
        "\n",
        "\n",
        "\n",
        "\n",
        "\n"
      ],
      "metadata": {
        "id": "TfSj5brdXU18"
      }
    },
    {
      "cell_type": "code",
      "source": [
        "z = np.random.uniform(0, 1, 10)\n",
        "# z = np.random.rand(10)\n",
        "print(z)\n",
        "\n",
        "num = 0.5\n",
        "i = np.abs(z-num).argmin()\n",
        "print(i)\n",
        "print(z[i])"
      ],
      "metadata": {
        "id": "F7G__PfZqzKO",
        "outputId": "27fd4e96-a64c-46b7-b247-6db64d0ba0c1",
        "colab": {
          "base_uri": "https://localhost:8080/"
        }
      },
      "execution_count": 14,
      "outputs": [
        {
          "output_type": "stream",
          "name": "stdout",
          "text": [
            "[0.36384666 0.13707865 0.34322051 0.42880475 0.80653295 0.94599219\n",
            " 0.18612309 0.04740545 0.03858992 0.33325161]\n",
            "3\n",
            "0.4288047484494474\n"
          ]
        }
      ]
    },
    {
      "cell_type": "markdown",
      "source": [
        "(응용) 다차원의 배열을 1차원으로 평면화 하는 flatten 함수로 응용해보겠습니다.\n",
        "\n",
        "- `np.flatten()`\n",
        "- 3차원의 배열을 -> 1차원으로 평면화 하고 -> 최대값을 10으로 변경해주세요"
      ],
      "metadata": {
        "id": "qf0iAJGwcPg9"
      }
    },
    {
      "cell_type": "markdown",
      "source": [
        "`flat()` 함수는 다차원 배열을 1차원으로 평면화하는 간편한 방법을 제공합니다. 이를 통해 다차원 배열의 요소에 순차적으로 접근하거나, 1차원 배열로 변환하여 다양한 연산에 활용할 수 있습니다."
      ],
      "metadata": {
        "id": "N4iN59ADfZK-"
      }
    },
    {
      "cell_type": "code",
      "source": [
        "arr = np.array([[1, 2, 3], [4, 5, 6], [3, 4, 5]])\n",
        "\n",
        "arr_f = arr.flat # 다차원 배열을 1차원으로 평면화\n",
        "\n",
        "arr_f[arr.argmax()] = 10 # 최대값을 갖는 인덱스의 값을 10으로 변경\n",
        "\n",
        "# 평면화된 1차원 배열의 요소에 접근 가능하므로, 최대값을 갖는 인덱스에 접근하여 값 변경도 가능\n",
        "\n",
        "print(arr) # 원본 다차원 배열 arr에도 해당 변경이 반영됨 "
      ],
      "metadata": {
        "colab": {
          "base_uri": "https://localhost:8080/"
        },
        "id": "NxFGVPwbbAxc",
        "outputId": "be23c6e3-4591-45a6-f3cf-2366ebe04799"
      },
      "execution_count": 15,
      "outputs": [
        {
          "output_type": "stream",
          "name": "stdout",
          "text": [
            "[[ 1  2  3]\n",
            " [ 4  5 10]\n",
            " [ 3  4  5]]\n"
          ]
        }
      ]
    },
    {
      "cell_type": "code",
      "source": [
        "arr = np.array([[1, 2, 3], [4, 5, 6], [3, 4, 5]])\n",
        "\n",
        "arr_f = arr.flatten() \n",
        "arr_f[arr.argmax()] = 10 \n",
        "\n",
        "print(arr_f)\n",
        "print(arr)"
      ],
      "metadata": {
        "id": "oWb7B1mpscRQ",
        "outputId": "41f9ec77-4f4b-455c-b77a-c5c9fd6bbc48",
        "colab": {
          "base_uri": "https://localhost:8080/"
        }
      },
      "execution_count": null,
      "outputs": [
        {
          "output_type": "stream",
          "name": "stdout",
          "text": [
            "[ 1  2  3  4  5 10  3  4  5]\n",
            "[[1 2 3]\n",
            " [4 5 6]\n",
            " [3 4 5]]\n"
          ]
        }
      ]
    },
    {
      "cell_type": "markdown",
      "source": [
        "(응용) 4차원(3,4,3,4)으로 주어진 범위(0,10) 안에서 정수형 변수를 생성해주세요\n",
        "- 마지막 2축(axis)에서 합계를 출력해보세요"
      ],
      "metadata": {
        "id": "7AVKovtzdVWi"
      }
    },
    {
      "cell_type": "code",
      "source": [
        "z = np.random.randint(0, 10, size=(3, 4, 3, 4))\n",
        "s = z.sum(axis = (-2,-1))\n",
        "# print(z)\n",
        "print(s)"
      ],
      "metadata": {
        "id": "pYsTpoN-s3cQ",
        "outputId": "c2c0ac7b-6a7f-4361-8d8a-167d0b553cc6",
        "colab": {
          "base_uri": "https://localhost:8080/"
        }
      },
      "execution_count": null,
      "outputs": [
        {
          "output_type": "stream",
          "name": "stdout",
          "text": [
            "[[45 66 56 58]\n",
            " [65 38 47 57]\n",
            " [49 42 62 54]]\n"
          ]
        }
      ]
    },
    {
      "cell_type": "markdown",
      "source": [
        "배열의 첫번째 행과 두번째행을 바꾸어 봅시다"
      ],
      "metadata": {
        "id": "GBzyBBXKe_yb"
      }
    },
    {
      "cell_type": "code",
      "source": [
        "A = np.arange(25).reshape(5,5)\n",
        "A[[0,1]] = A[[1,0]]\n",
        "print(A)"
      ],
      "metadata": {
        "id": "v6mp9LwkwpBN",
        "outputId": "7747f576-cd4e-4660-d2d7-fe046873d2cf",
        "colab": {
          "base_uri": "https://localhost:8080/"
        }
      },
      "execution_count": null,
      "outputs": [
        {
          "output_type": "stream",
          "name": "stdout",
          "text": [
            "[[ 5  6  7  8  9]\n",
            " [ 0  1  2  3  4]\n",
            " [10 11 12 13 14]\n",
            " [15 16 17 18 19]\n",
            " [20 21 22 23 24]]\n"
          ]
        }
      ]
    },
    {
      "cell_type": "markdown",
      "source": [
        "## arg 인덱스 접근 함수 추가"
      ],
      "metadata": {
        "id": "phbKCyLruxfI"
      }
    },
    {
      "cell_type": "markdown",
      "source": [
        "(응용) 표준정규분포를 사용해서 100개의 난수를 생성해주세요.\n",
        "\n",
        "그 후 `shuffle()` 함수를 사용해서 순서를 섞어줍니다.\n",
        "\n",
        "`sort()` 함수와 마찬가지로 `argsort()` 를 이용해 인덱스를 사용합니다\n",
        "\n",
        "- `argsort()` 를 사용해서 가장 큰 값을 5개만 뽑아봅시다."
      ],
      "metadata": {
        "id": "-7xP3b4pfntN"
      }
    },
    {
      "cell_type": "code",
      "source": [
        "z = np.random.randn(100) # np.random.normal(0, 1, 100)\n",
        "\n",
        "np.random.shuffle(z)\n",
        "\n",
        "m5 = z[np.argsort(z)[-5:]]\n",
        "print(m5)"
      ],
      "metadata": {
        "id": "6EYgmUm3x4D1",
        "outputId": "9656b801-7d8c-41e5-bf64-817e761015b1",
        "colab": {
          "base_uri": "https://localhost:8080/"
        }
      },
      "execution_count": null,
      "outputs": [
        {
          "output_type": "stream",
          "name": "stdout",
          "text": [
            "[1.69326298 1.77644571 1.89470911 2.32229711 2.35836663]\n"
          ]
        }
      ]
    },
    {
      "cell_type": "markdown",
      "source": [
        "배열의 인덱스에 접근하기 위해 사용할 수 있는 함수\n",
        "\n",
        "> `np.argmax()`: 배열에서 최댓값의 인덱스를 반환합니다.\n",
        "\n",
        "> `np.argmin()`: 배열에서 최솟값의 인덱스를 반환합니다.\n",
        "\n",
        "> `np.argwhere()`: 조건을 충족하는 요소의 인덱스를 반환합니다. 반환되는 값은 2차원 배열이며, 각 행은 해당 요소의 인덱스를 나타냅니다.\n",
        "\n",
        "> `np.where()`: 조건에 따라 요소를 선택하고, 선택된 요소의 인덱스를 반환합니다.\n",
        "\n",
        "> `np.nonzero()`: 0이 아닌 요소의 인덱스를 반환합니다. 반환되는 값은 각 차원별로 분리된 인덱스 배열입니다."
      ],
      "metadata": {
        "id": "HuV2FYY0g57O"
      }
    },
    {
      "cell_type": "code",
      "source": [
        "arr = np.array([1, 3, 2, 5, 4])\n",
        "\n",
        "# 최댓값의 인덱스\n",
        "max_index = np.argmax(arr)\n",
        "print(\"Max index:\", max_index)  \n",
        "\n",
        "# 최솟값의 인덱스\n",
        "min_index = np.argmin(arr)\n",
        "print(\"Min index:\", min_index)  \n",
        "\n",
        "# 조건을 충족하는 요소의 인덱스\n",
        "index = np.argwhere(arr > 2)\n",
        "print(\"Indices greater than 2:\", index)  # 반환값 2차원 [[1] [3] [4]]\n",
        "\n",
        "# 조건에 따라 요소 선택 및 인덱스 반환\n",
        "selected_index = np.where(arr > 2)\n",
        "print(\"Selected indices:\", selected_index)  \n",
        "\n",
        "# 0이 아닌 요소의 인덱스\n",
        "nonzero_index = np.nonzero(arr)\n",
        "print(\"Nonzero indices:\", nonzero_index)  "
      ],
      "metadata": {
        "id": "UiEdtYcEzGtz",
        "outputId": "cc87651f-a8b9-4a4a-fd75-b1e417f6db36",
        "colab": {
          "base_uri": "https://localhost:8080/"
        }
      },
      "execution_count": 19,
      "outputs": [
        {
          "output_type": "stream",
          "name": "stdout",
          "text": [
            "Max index: 3\n",
            "Min index: 0\n",
            "Indices greater than 2: [[1]\n",
            " [3]\n",
            " [4]]\n",
            "Selected indices: (array([1, 3, 4]),)\n",
            "Nonzero indices: (array([0, 1, 2, 3, 4]),)\n"
          ]
        }
      ]
    }
  ]
}