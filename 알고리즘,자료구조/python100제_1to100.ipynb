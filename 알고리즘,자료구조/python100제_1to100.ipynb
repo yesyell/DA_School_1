{
  "nbformat": 4,
  "nbformat_minor": 0,
  "metadata": {
    "colab": {
      "provenance": [],
      "authorship_tag": "ABX9TyOPrcBsDMM/BnltgOD2YaJx",
      "include_colab_link": true
    },
    "kernelspec": {
      "name": "python3",
      "display_name": "Python 3"
    },
    "language_info": {
      "name": "python"
    }
  },
  "cells": [
    {
      "cell_type": "markdown",
      "metadata": {
        "id": "view-in-github",
        "colab_type": "text"
      },
      "source": [
        "<a href=\"https://colab.research.google.com/github/yesyell/DA_School_1/blob/main/%EC%95%8C%EA%B3%A0%EB%A6%AC%EC%A6%98%2C%EC%9E%90%EB%A3%8C%EA%B5%AC%EC%A1%B0/python100%EC%A0%9C_1to100.ipynb\" target=\"_parent\"><img src=\"https://colab.research.google.com/assets/colab-badge.svg\" alt=\"Open In Colab\"/></a>"
      ]
    },
    {
      "cell_type": "markdown",
      "source": [
        "[Python 100제 - 1권](https://pythonworkbook.notion.site/Python-100-1-abeccbfd8175483da1ed96642640c687)"
      ],
      "metadata": {
        "id": "8WsXhmNlg04_"
      }
    },
    {
      "cell_type": "markdown",
      "source": [
        "# 1번"
      ],
      "metadata": {
        "id": "Y8t0XUmJgmf-"
      }
    },
    {
      "cell_type": "code",
      "source": [
        "nums = [100, 200, 300, 400, 500]\n",
        "nums.pop()\n",
        "nums.pop()\n",
        "nums"
      ],
      "metadata": {
        "colab": {
          "base_uri": "https://localhost:8080/"
        },
        "id": "oMhSG6Q6g4oI",
        "outputId": "5225c73b-fae0-4046-c424-fe0b262ee56a"
      },
      "execution_count": 163,
      "outputs": [
        {
          "output_type": "execute_result",
          "data": {
            "text/plain": [
              "[100, 200, 300]"
            ]
          },
          "metadata": {},
          "execution_count": 163
        }
      ]
    },
    {
      "cell_type": "code",
      "source": [
        "nums = [100, 200, 300, 400, 500]\n",
        "nums[:3]"
      ],
      "metadata": {
        "colab": {
          "base_uri": "https://localhost:8080/"
        },
        "id": "Cuqr5HIihAMf",
        "outputId": "96160c99-242b-4654-a076-5c58c4e3a28a"
      },
      "execution_count": 164,
      "outputs": [
        {
          "output_type": "execute_result",
          "data": {
            "text/plain": [
              "[100, 200, 300]"
            ]
          },
          "metadata": {},
          "execution_count": 164
        }
      ]
    },
    {
      "cell_type": "code",
      "source": [
        "nums = [100, 200, 300, 400, 500]\n",
        "nums[-5:-2]"
      ],
      "metadata": {
        "colab": {
          "base_uri": "https://localhost:8080/"
        },
        "id": "uH6hU8GZhCLP",
        "outputId": "8ab18447-82db-4192-b701-9ba68244b9c4"
      },
      "execution_count": 165,
      "outputs": [
        {
          "output_type": "execute_result",
          "data": {
            "text/plain": [
              "[100, 200, 300]"
            ]
          },
          "metadata": {},
          "execution_count": 165
        }
      ]
    },
    {
      "cell_type": "markdown",
      "source": [
        "# 2번"
      ],
      "metadata": {
        "id": "77MtkrQdhRl8"
      }
    },
    {
      "cell_type": "code",
      "source": [
        "l = [200, 100, 300]\n",
        "l.insert(2, 10000)\n",
        "l"
      ],
      "metadata": {
        "colab": {
          "base_uri": "https://localhost:8080/"
        },
        "id": "oIV6-hKthKwg",
        "outputId": "a3f09922-b8ae-4c6e-ad8c-5b5fe8d49fc6"
      },
      "execution_count": 166,
      "outputs": [
        {
          "output_type": "execute_result",
          "data": {
            "text/plain": [
              "[200, 100, 10000, 300]"
            ]
          },
          "metadata": {},
          "execution_count": 166
        }
      ]
    },
    {
      "cell_type": "code",
      "source": [
        "l = [200, 100, 300]\n",
        "l[:2] + [10000] + [l[-1]]\n",
        "# l[:2] + [10000] + l[-1] # error"
      ],
      "metadata": {
        "colab": {
          "base_uri": "https://localhost:8080/"
        },
        "id": "ENwt3TgghbzB",
        "outputId": "0876caf9-6b0f-4ee8-c9db-c2fe5f9485d3"
      },
      "execution_count": 9,
      "outputs": [
        {
          "output_type": "execute_result",
          "data": {
            "text/plain": [
              "[200, 100, 10000, 300]"
            ]
          },
          "metadata": {},
          "execution_count": 9
        }
      ]
    },
    {
      "cell_type": "markdown",
      "source": [
        "# 3번"
      ],
      "metadata": {
        "id": "MSnuCsdkicCJ"
      }
    },
    {
      "cell_type": "code",
      "source": [
        "l = [100, 200, 300]\n",
        "print(type(l))"
      ],
      "metadata": {
        "colab": {
          "base_uri": "https://localhost:8080/"
        },
        "id": "i_OOunZkhkTS",
        "outputId": "dfa26205-ee73-4b35-916b-c7eb64dc4a79"
      },
      "execution_count": 10,
      "outputs": [
        {
          "output_type": "stream",
          "name": "stdout",
          "text": [
            "<class 'list'>\n"
          ]
        }
      ]
    },
    {
      "cell_type": "markdown",
      "source": [
        "# 4번"
      ],
      "metadata": {
        "id": "pzJWGsMnidYu"
      }
    },
    {
      "cell_type": "code",
      "source": [
        "# 1)  입력 : a 4= 1,   출력 : class 'int'\n",
        "# 2)  입력 : a = 2.22,   출력 : class 'float'\n",
        "## 3)  입력 : a = 'p',   출력 : class 'char' -> 'str'\n",
        "# 4)  입력 : a = [1, 2, 3],   출력 : class 'list'"
      ],
      "metadata": {
        "id": "5JjWOeR1hyxp"
      },
      "execution_count": 11,
      "outputs": []
    },
    {
      "cell_type": "markdown",
      "source": [
        "#5번"
      ],
      "metadata": {
        "id": "UVKbLSP-h6OY"
      }
    },
    {
      "cell_type": "code",
      "source": [
        "a = 10\n",
        "b = 2\n",
        "for i in range(1, 5, 2):\n",
        "    a += i\n",
        "print(a+b)"
      ],
      "metadata": {
        "colab": {
          "base_uri": "https://localhost:8080/"
        },
        "id": "X3XFtAqWh3XF",
        "outputId": "752b9a8b-80b6-4930-a655-e187a569932b"
      },
      "execution_count": 12,
      "outputs": [
        {
          "output_type": "stream",
          "name": "stdout",
          "text": [
            "16\n"
          ]
        }
      ]
    },
    {
      "cell_type": "markdown",
      "source": [
        "# 6번"
      ],
      "metadata": {
        "id": "SeUcQTo1iUhh"
      }
    },
    {
      "cell_type": "code",
      "source": [
        "# 다음은 파이썬 문법 중에서 False로 취급하는 것들 입니다.\n",
        "# False로 취급하지 않는 것이 하나 있네요! **True를 찾아주세요.**\n",
        "\n",
        "# 1)  None\n",
        "## 2)  1\n",
        "# 3)  \"\"\n",
        "# 4)  0\n",
        "# 5)  bool(0)"
      ],
      "metadata": {
        "id": "FUsIaiLyh8Ev"
      },
      "execution_count": 13,
      "outputs": []
    },
    {
      "cell_type": "code",
      "source": [
        "print(bool([]))\n",
        "print(bool([1, 2, 3]))"
      ],
      "metadata": {
        "colab": {
          "base_uri": "https://localhost:8080/"
        },
        "id": "Mz2su7WuiTXP",
        "outputId": "5947f609-d4c6-4494-b1a8-93e731abb00b"
      },
      "execution_count": 22,
      "outputs": [
        {
          "output_type": "stream",
          "name": "stdout",
          "text": [
            "False\n",
            "True\n"
          ]
        }
      ]
    },
    {
      "cell_type": "code",
      "source": [
        "l = []\n",
        "print(id(l))\n",
        "print(bool(l))"
      ],
      "metadata": {
        "colab": {
          "base_uri": "https://localhost:8080/"
        },
        "id": "CrGv8oPxis4x",
        "outputId": "4cee60bf-349b-41e8-afe6-8e5e8808c647"
      },
      "execution_count": 20,
      "outputs": [
        {
          "output_type": "stream",
          "name": "stdout",
          "text": [
            "135131996370496\n",
            "False\n"
          ]
        }
      ]
    },
    {
      "cell_type": "code",
      "source": [
        "l.append(10)\n",
        "print(id(l))\n",
        "print(bool(l))"
      ],
      "metadata": {
        "colab": {
          "base_uri": "https://localhost:8080/"
        },
        "id": "VfFnGmUgiu2i",
        "outputId": "ac2f369f-f129-407d-b1d3-47fa81f9177d"
      },
      "execution_count": 21,
      "outputs": [
        {
          "output_type": "stream",
          "name": "stdout",
          "text": [
            "135131996370496\n",
            "True\n"
          ]
        }
      ]
    },
    {
      "cell_type": "code",
      "source": [
        "# l 값은 변하지 않지만 bool 값은 변함\n",
        "# python은 지극히 인간의 입장에서 출력을 고려한 것임"
      ],
      "metadata": {
        "id": "SbFJdQgrizLW"
      },
      "execution_count": 19,
      "outputs": []
    },
    {
      "cell_type": "markdown",
      "source": [
        "# 7번"
      ],
      "metadata": {
        "id": "nSYGNurJjvXL"
      }
    },
    {
      "cell_type": "code",
      "source": [
        "# 다음 중 변수명으로 사용할 수 없는 것 2개를 고르시오.\n",
        "# 1)  age\n",
        "# 2)  a\n",
        "## 3)  as\n",
        "# 4)  _age\n",
        "## 5)  1age"
      ],
      "metadata": {
        "id": "03cYCneCjb67"
      },
      "execution_count": 23,
      "outputs": []
    },
    {
      "cell_type": "code",
      "source": [
        "# 반복문 등에서 사용하지 않는 변수에 _를 넣습니다.\n",
        "for _ in range(5):\n",
        "    print('hello')"
      ],
      "metadata": {
        "colab": {
          "base_uri": "https://localhost:8080/"
        },
        "id": "Q_Jn9XtWJ_oL",
        "outputId": "1004100f-c76b-43c8-fafd-1df179681523"
      },
      "execution_count": 167,
      "outputs": [
        {
          "output_type": "stream",
          "name": "stdout",
          "text": [
            "hello\n",
            "hello\n",
            "hello\n",
            "hello\n",
            "hello\n"
          ]
        }
      ]
    },
    {
      "cell_type": "code",
      "source": [
        "# 프라이빗한 변수에 _를 사용합니다.\n",
        "class Human():\n",
        "    _age = 0"
      ],
      "metadata": {
        "id": "zoNVrrYikcuX"
      },
      "execution_count": 28,
      "outputs": []
    },
    {
      "cell_type": "markdown",
      "source": [
        "# 8번"
      ],
      "metadata": {
        "id": "B97koZO1kBEF"
      }
    },
    {
      "cell_type": "code",
      "source": [
        "d = {'height':180,\n",
        "     'weight':78,\n",
        "     'weight':84,\n",
        "     'temparture':36,\n",
        "     'eyesight':1}\n",
        "print(d['weight'])"
      ],
      "metadata": {
        "colab": {
          "base_uri": "https://localhost:8080/"
        },
        "id": "l_QV51-dj71X",
        "outputId": "56b555cb-9b4b-44e6-9523-837d55c23289"
      },
      "execution_count": 24,
      "outputs": [
        {
          "output_type": "stream",
          "name": "stdout",
          "text": [
            "84\n"
          ]
        }
      ]
    },
    {
      "cell_type": "markdown",
      "source": [
        "# 9번"
      ],
      "metadata": {
        "id": "0zqL7WEXkv0g"
      }
    },
    {
      "cell_type": "code",
      "source": [
        "year = '2019'\n",
        "month = '04'\n",
        "day = '26'\n",
        "hour = '11'\n",
        "minute = '34'\n",
        "second = '27'\n",
        "\n",
        "print(year, month, day, sep='/', end=' ')\n",
        "print(hour, minute, second, sep=':')\n",
        "# 2019/04/26 11:34:27"
      ],
      "metadata": {
        "colab": {
          "base_uri": "https://localhost:8080/"
        },
        "id": "XzadVTMOkC4H",
        "outputId": "05f20c09-94fa-49ff-843f-7c9d3e4304be"
      },
      "execution_count": 31,
      "outputs": [
        {
          "output_type": "stream",
          "name": "stdout",
          "text": [
            "2019/04/26 11:34:27\n"
          ]
        }
      ]
    },
    {
      "cell_type": "markdown",
      "source": [
        "# 10번"
      ],
      "metadata": {
        "id": "4WXHMqwCkyDV"
      }
    },
    {
      "cell_type": "code",
      "source": [
        "n = int(input())\n",
        "for i in range(1, n+1):\n",
        "    print(' ' * (n-i) + '*' * (i*2-1))\n",
        "\n",
        "#     *\n",
        "#    ***\n",
        "#   *****\n",
        "#  *******\n",
        "# *********"
      ],
      "metadata": {
        "colab": {
          "base_uri": "https://localhost:8080/"
        },
        "id": "5-3_V4UykzT3",
        "outputId": "e560bd06-17f5-4cd5-b366-1d54eb042eee"
      },
      "execution_count": 42,
      "outputs": [
        {
          "output_type": "stream",
          "name": "stdout",
          "text": [
            "5\n",
            "    *\n",
            "   ***\n",
            "  *****\n",
            " *******\n",
            "*********\n"
          ]
        }
      ]
    },
    {
      "cell_type": "markdown",
      "source": [
        "# 11번"
      ],
      "metadata": {
        "id": "ANoZfHdGkzxJ"
      }
    },
    {
      "cell_type": "code",
      "source": [
        "s = 0\n",
        "for i in range(1, 101):\n",
        "    s += i\n",
        "print(s)"
      ],
      "metadata": {
        "colab": {
          "base_uri": "https://localhost:8080/"
        },
        "id": "13IpFNOOk0T4",
        "outputId": "f99a6c61-0e0c-441a-80bd-f8455f3097a5"
      },
      "execution_count": 43,
      "outputs": [
        {
          "output_type": "stream",
          "name": "stdout",
          "text": [
            "5050\n"
          ]
        }
      ]
    },
    {
      "cell_type": "markdown",
      "source": [
        "# 12번"
      ],
      "metadata": {
        "id": "7WaY569Uk0rK"
      }
    },
    {
      "cell_type": "code",
      "source": [
        "class Wizard():\n",
        "    def __init__(self, health, mana, armor):\n",
        "        # self는 인스턴스, 인스턴스 메모리 영역\n",
        "        self.health = health\n",
        "        self.mana = mana\n",
        "        self.armor = armor\n",
        "    def attack(self):\n",
        "        print('파이어볼')\n",
        "\n",
        "jik = Wizard(health = 545, mana = 210, armor = 10)\n",
        "print(jik.health, jik.mana, jik.armor)\n",
        "jik.attack()\n",
        "# 545 210 10\n",
        "# 파이어볼"
      ],
      "metadata": {
        "colab": {
          "base_uri": "https://localhost:8080/"
        },
        "id": "o-Sacitck1a3",
        "outputId": "eb9a4133-4fe5-4ae5-9f6c-8870971bc5ec"
      },
      "execution_count": 46,
      "outputs": [
        {
          "output_type": "stream",
          "name": "stdout",
          "text": [
            "545 210 10\n",
            "파이어볼\n"
          ]
        }
      ]
    },
    {
      "cell_type": "markdown",
      "source": [
        "# 13번"
      ],
      "metadata": {
        "id": "XXY5KHHqk2HJ"
      }
    },
    {
      "cell_type": "code",
      "source": [
        "# 태양계의 n번째 행성\n",
        "planets = ['수성', '금성', '지구', '화성', '목성', '토성', '천왕성', '해왕성']\n",
        "\n",
        "n = int(input())\n",
        "print(planets[n-1])"
      ],
      "metadata": {
        "colab": {
          "base_uri": "https://localhost:8080/"
        },
        "id": "5lxKkkXNk22I",
        "outputId": "5dfe8bf4-af9b-40f8-ac82-e6844f5dee3f"
      },
      "execution_count": 168,
      "outputs": [
        {
          "output_type": "stream",
          "name": "stdout",
          "text": [
            "3\n",
            "지구\n"
          ]
        }
      ]
    },
    {
      "cell_type": "markdown",
      "source": [
        "# 14번"
      ],
      "metadata": {
        "id": "sbEtPWjbk3U5"
      }
    },
    {
      "cell_type": "code",
      "source": [
        "# 만약 그 수가 3의 배수라면 '짝'이라는 글자를, 3의 배수가 아니라면 n을 그대로 출력해 주세요.\n",
        "n = int(input())\n",
        "\n",
        "if n % 3 == 0:\n",
        "    print('짝')\n",
        "else:\n",
        "    print('홀')"
      ],
      "metadata": {
        "colab": {
          "base_uri": "https://localhost:8080/"
        },
        "id": "hmWSXCBik4Hj",
        "outputId": "6a1c4768-41f5-4ad2-e2a0-7422fe20b561"
      },
      "execution_count": 49,
      "outputs": [
        {
          "output_type": "stream",
          "name": "stdout",
          "text": [
            "6\n",
            "짝\n"
          ]
        }
      ]
    },
    {
      "cell_type": "markdown",
      "source": [
        "[저주의 숫자3](https://school.programmers.co.kr/learn/courses/30/lessons/120871)"
      ],
      "metadata": {
        "id": "6fFLOK4OuHCz"
      }
    },
    {
      "cell_type": "code",
      "source": [
        "# 소거법\n",
        "[i for i in range(100) if i%3 != 0] # 3의 배수 제거\n",
        "[i for i in range(100) if '3' not in str(i)] # 3이 들어가 있는 숫자 제거\n",
        "\n",
        "n = 10\n",
        "[i for i in range(100) if i%3 != 0 and '3' not in str(i)][n-1]"
      ],
      "metadata": {
        "colab": {
          "base_uri": "https://localhost:8080/"
        },
        "id": "f3K0ek-Tuigg",
        "outputId": "6acddc54-98e8-4042-f0db-c9a22736ab33"
      },
      "execution_count": 172,
      "outputs": [
        {
          "output_type": "execute_result",
          "data": {
            "text/plain": [
              "16"
            ]
          },
          "metadata": {},
          "execution_count": 172
        }
      ]
    },
    {
      "cell_type": "code",
      "source": [
        "solution = lambda n:[i for i in range(10000) if i % 3 != 0 and '3' not in str(i)][n-1]\n",
        "solution(10)"
      ],
      "metadata": {
        "colab": {
          "base_uri": "https://localhost:8080/"
        },
        "id": "pybv0QMevzyq",
        "outputId": "e8f7780a-b41e-4c96-e653-b52abb7a1546"
      },
      "execution_count": 171,
      "outputs": [
        {
          "output_type": "execute_result",
          "data": {
            "text/plain": [
              "16"
            ]
          },
          "metadata": {},
          "execution_count": 171
        }
      ]
    },
    {
      "cell_type": "code",
      "source": [
        "def solution(n):\n",
        "    return list(filter(lambda x: '3' not in str(x),\n",
        "                filter(lambda x: x%3 != 0, range(1000))))[n-1]\n",
        "\n",
        "solution(15)"
      ],
      "metadata": {
        "colab": {
          "base_uri": "https://localhost:8080/"
        },
        "id": "OkpKxxMnuFOd",
        "outputId": "2906cc10-0c8f-4aa1-ad26-0ac8c5d08e2d"
      },
      "execution_count": 169,
      "outputs": [
        {
          "output_type": "execute_result",
          "data": {
            "text/plain": [
              "25"
            ]
          },
          "metadata": {},
          "execution_count": 169
        }
      ]
    },
    {
      "cell_type": "markdown",
      "source": [
        "# 15번"
      ],
      "metadata": {
        "id": "Iy1Y73vXk4b-"
      }
    },
    {
      "cell_type": "code",
      "source": [
        "# 안녕하세요. 저는 김다정입니다."
      ],
      "metadata": {
        "id": "Fd4l_1Tyk5Bd"
      },
      "execution_count": 64,
      "outputs": []
    },
    {
      "cell_type": "markdown",
      "source": [
        "# 16번"
      ],
      "metadata": {
        "id": "Opws8MLBwE79"
      }
    },
    {
      "cell_type": "code",
      "source": [
        "# 거꾸로 출력\n",
        "'안녕하세요'[::-1]"
      ],
      "metadata": {
        "colab": {
          "base_uri": "https://localhost:8080/",
          "height": 35
        },
        "id": "MzuGEx7vwEAD",
        "outputId": "bb69f669-fa22-40a6-da5c-c0f8cd052b68"
      },
      "execution_count": 69,
      "outputs": [
        {
          "output_type": "execute_result",
          "data": {
            "text/plain": [
              "'요세하녕안'"
            ],
            "application/vnd.google.colaboratory.intrinsic+json": {
              "type": "string"
            }
          },
          "metadata": {},
          "execution_count": 69
        }
      ]
    },
    {
      "cell_type": "code",
      "source": [
        "''.join(list(reversed(list('안녕하세요'))))"
      ],
      "metadata": {
        "colab": {
          "base_uri": "https://localhost:8080/",
          "height": 35
        },
        "id": "An5MO---wyTj",
        "outputId": "1aa431dd-2b37-433e-e2f0-7ae53fede41a"
      },
      "execution_count": 70,
      "outputs": [
        {
          "output_type": "execute_result",
          "data": {
            "text/plain": [
              "'요세하녕안'"
            ],
            "application/vnd.google.colaboratory.intrinsic+json": {
              "type": "string"
            }
          },
          "metadata": {},
          "execution_count": 70
        }
      ]
    },
    {
      "cell_type": "code",
      "source": [
        "s = '안녕하세요'\n",
        "ss = list(s)\n",
        "ss.reverse()\n",
        "''.join(ss)"
      ],
      "metadata": {
        "colab": {
          "base_uri": "https://localhost:8080/",
          "height": 35
        },
        "id": "5JB1VUptw3JK",
        "outputId": "526eb01d-e68a-4265-d00b-720660889415"
      },
      "execution_count": 71,
      "outputs": [
        {
          "output_type": "execute_result",
          "data": {
            "text/plain": [
              "'요세하녕안'"
            ],
            "application/vnd.google.colaboratory.intrinsic+json": {
              "type": "string"
            }
          },
          "metadata": {},
          "execution_count": 71
        }
      ]
    },
    {
      "cell_type": "code",
      "source": [
        "s = '안녕하세요'\n",
        "result = ''\n",
        "for i in s:\n",
        "    result = i + result\n",
        "result"
      ],
      "metadata": {
        "colab": {
          "base_uri": "https://localhost:8080/",
          "height": 35
        },
        "id": "0AnOc28hw94k",
        "outputId": "d933a5f8-6717-4476-9084-a86e8e153a37"
      },
      "execution_count": 72,
      "outputs": [
        {
          "output_type": "execute_result",
          "data": {
            "text/plain": [
              "'요세하녕안'"
            ],
            "application/vnd.google.colaboratory.intrinsic+json": {
              "type": "string"
            }
          },
          "metadata": {},
          "execution_count": 72
        }
      ]
    },
    {
      "cell_type": "code",
      "source": [
        "# 재귀\n",
        "def reverse(s):\n",
        "    if len(s) == 1:\n",
        "        return s\n",
        "    else:\n",
        "        return reverse(s[1:]) + s[0]\n",
        "reverse('안녕하세요')"
      ],
      "metadata": {
        "colab": {
          "base_uri": "https://localhost:8080/",
          "height": 35
        },
        "id": "6QikHoU5xF-_",
        "outputId": "b3947eb0-557b-4ae1-a585-a6f56c53c68b"
      },
      "execution_count": 75,
      "outputs": [
        {
          "output_type": "execute_result",
          "data": {
            "text/plain": [
              "'요세하녕안'"
            ],
            "application/vnd.google.colaboratory.intrinsic+json": {
              "type": "string"
            }
          },
          "metadata": {},
          "execution_count": 75
        }
      ]
    },
    {
      "cell_type": "markdown",
      "source": [
        "# 17번"
      ],
      "metadata": {
        "id": "ur0ZZcpXxPrw"
      }
    },
    {
      "cell_type": "code",
      "source": [
        "# 입력으로 키가 주어지면 키가 150이 이상이면 YES를 틀리면 NO를 출력하는 프로그램\n",
        "height = int(input())\n",
        "\n",
        "# print('NO') if height >= 150: print('YES') # Error\n",
        "print('YES') if height >= 150 else print('NO')"
      ],
      "metadata": {
        "colab": {
          "base_uri": "https://localhost:8080/"
        },
        "id": "xYWJFJ3AxPBs",
        "outputId": "8605c0c2-5abe-42c5-ec21-bb942e8e88a1"
      },
      "execution_count": 79,
      "outputs": [
        {
          "output_type": "stream",
          "name": "stdout",
          "text": [
            "149\n",
            "NO\n"
          ]
        }
      ]
    },
    {
      "cell_type": "code",
      "source": [
        "def solution(height):\n",
        "    return 'YES' if height >= 150 else 'NO'\n",
        "solution(150)"
      ],
      "metadata": {
        "colab": {
          "base_uri": "https://localhost:8080/",
          "height": 35
        },
        "id": "jp3KSj42yYvs",
        "outputId": "3a51b3cc-a511-4fc7-bb1f-0c70ffd2bc72"
      },
      "execution_count": 81,
      "outputs": [
        {
          "output_type": "execute_result",
          "data": {
            "text/plain": [
              "'YES'"
            ],
            "application/vnd.google.colaboratory.intrinsic+json": {
              "type": "string"
            }
          },
          "metadata": {},
          "execution_count": 81
        }
      ]
    },
    {
      "cell_type": "markdown",
      "source": [
        "# 18번"
      ],
      "metadata": {
        "id": "6XwvoGKPyW_E"
      }
    },
    {
      "cell_type": "code",
      "source": [
        "# 공백으로 구분하여 세 과목의 점수가 주어지면, 전체 평균 점수를 구하는 프로그램\n",
        "# 단, 소숫점 자리는 모두 버립니다.\n",
        "\n",
        "list(map(int, '20 30 40'.split(' ')))"
      ],
      "metadata": {
        "colab": {
          "base_uri": "https://localhost:8080/"
        },
        "id": "-eOB8o66xxXU",
        "outputId": "daee6f60-bd87-4355-c2c3-0114f4f531d1"
      },
      "execution_count": 83,
      "outputs": [
        {
          "output_type": "execute_result",
          "data": {
            "text/plain": [
              "[20, 30, 40]"
            ]
          },
          "metadata": {},
          "execution_count": 83
        }
      ]
    },
    {
      "cell_type": "code",
      "source": [
        "score = input()\n",
        "sum(map(int, score.split(' '))) // 3"
      ],
      "metadata": {
        "colab": {
          "base_uri": "https://localhost:8080/"
        },
        "id": "A2uqRZz-zZfA",
        "outputId": "47056c66-9f62-40b0-89cc-badc71f14f25"
      },
      "execution_count": 177,
      "outputs": [
        {
          "name": "stdout",
          "output_type": "stream",
          "text": [
            "20 30 40\n"
          ]
        },
        {
          "output_type": "execute_result",
          "data": {
            "text/plain": [
              "30"
            ]
          },
          "metadata": {},
          "execution_count": 177
        }
      ]
    },
    {
      "cell_type": "markdown",
      "source": [
        "# 19번"
      ],
      "metadata": {
        "id": "7HX9P8SDyykU"
      }
    },
    {
      "cell_type": "code",
      "source": [
        "# 공백으로 구분하여 두 숫자 a와 b가 주어지면, a의 b승을 구하는 프로그램\n",
        "n = input()\n",
        "l = list(map(int, n.split(' ')))\n",
        "l[0] ** l[1]"
      ],
      "metadata": {
        "colab": {
          "base_uri": "https://localhost:8080/"
        },
        "id": "fvdrfrf-yWP7",
        "outputId": "5286d1dc-3e23-4aea-8aef-74b827f7cdb1"
      },
      "execution_count": 182,
      "outputs": [
        {
          "name": "stdout",
          "output_type": "stream",
          "text": [
            "2 4\n"
          ]
        },
        {
          "output_type": "execute_result",
          "data": {
            "text/plain": [
              "16"
            ]
          },
          "metadata": {},
          "execution_count": 182
        }
      ]
    },
    {
      "cell_type": "markdown",
      "source": [
        "# 20번"
      ],
      "metadata": {
        "id": "0Yh0i8eAzuEi"
      }
    },
    {
      "cell_type": "code",
      "source": [
        "# 공백으로 구분하여 두 숫자가 주어집니다.\n",
        "# 첫번째 숫자로 두번째 숫자를 나누었을 때 그 몫과 나머지를 공백으로 구분하여 출력하세요.\n",
        "n = input()\n",
        "l = list(map(int, n.split(' ')))\n",
        "print(l[0]//l[1], l[0]%l[1], sep=' ')"
      ],
      "metadata": {
        "colab": {
          "base_uri": "https://localhost:8080/"
        },
        "id": "u3kzXWirztvF",
        "outputId": "f8e9e7c2-414d-4bf0-94f3-c7a3b816a47e"
      },
      "execution_count": 184,
      "outputs": [
        {
          "output_type": "stream",
          "name": "stdout",
          "text": [
            "17 3\n",
            "5 2\n"
          ]
        }
      ]
    },
    {
      "cell_type": "markdown",
      "source": [
        "# 21번"
      ],
      "metadata": {
        "id": "CKtNUiiZzzrv"
      }
    },
    {
      "cell_type": "code",
      "source": [
        "# 다음 중 set을 만드는 방법이 아닌 것?\n",
        "# 1)  x = {1, 2, 3, 5, 6, 7}\n",
        "## 2)  x = {} -> dict\n",
        "# 3)  x = set('python')\n",
        "# 4)  x = set(range(5))\n",
        "# 5)  x = set()"
      ],
      "metadata": {
        "id": "NyN72qrYzzIt"
      },
      "execution_count": null,
      "outputs": []
    },
    {
      "cell_type": "code",
      "source": [
        "t = 1\n",
        "t = (1) # tuple 아님\n",
        "t = (1,)\n",
        "t"
      ],
      "metadata": {
        "colab": {
          "base_uri": "https://localhost:8080/"
        },
        "id": "AMEYgP440O1O",
        "outputId": "32d6a7d5-2700-4526-a4f2-b66e4acea89a"
      },
      "execution_count": 92,
      "outputs": [
        {
          "output_type": "execute_result",
          "data": {
            "text/plain": [
              "(1,)"
            ]
          },
          "metadata": {},
          "execution_count": 92
        }
      ]
    },
    {
      "cell_type": "code",
      "source": [
        "# 어떤 라이브러리나 프레임워크 마지막 콤마가 꼭 있는 이유 :\n",
        "# 버전 관리하는 곳에서 콤마를 버전의 업이라고 인식하는 경우가 있음\n",
        "# 튜플의 경우 상수, 문자가 들어갔을 때 튜플이 아닌 int, str로 변환되는 것을 막기 위해"
      ],
      "metadata": {
        "id": "O_DmC7UH0fbH"
      },
      "execution_count": null,
      "outputs": []
    },
    {
      "cell_type": "markdown",
      "source": [
        "# 22번"
      ],
      "metadata": {
        "id": "arzSDqIwz9mF"
      }
    },
    {
      "cell_type": "code",
      "source": [
        "# 다음 중 변수 i가 6의 배수인지 확인하는 방법으로 올바른 것은?\n",
        "# 1)  i / 6 == 0\n",
        "## 2)  i % 6 == 0\n",
        "# 3)  i & 6 == 0\n",
        "# 4)  i | 6 == 0\n",
        "# 5)  i // 6 == 0"
      ],
      "metadata": {
        "id": "5fXyG1L1z_Ev"
      },
      "execution_count": 93,
      "outputs": []
    },
    {
      "cell_type": "markdown",
      "source": [
        "# 23번"
      ],
      "metadata": {
        "id": "Df9l8bYC04BC"
      }
    },
    {
      "cell_type": "code",
      "source": [
        "# print(10/2)의 출력 결과는 5이다. (X)\n",
        "(10/2)"
      ],
      "metadata": {
        "colab": {
          "base_uri": "https://localhost:8080/"
        },
        "id": "w1cvDym603de",
        "outputId": "c463f290-8b5e-4774-d6b0-93ea7342a954"
      },
      "execution_count": 96,
      "outputs": [
        {
          "output_type": "execute_result",
          "data": {
            "text/plain": [
              "5.0"
            ]
          },
          "metadata": {},
          "execution_count": 96
        }
      ]
    },
    {
      "cell_type": "markdown",
      "source": [
        "# 24번"
      ],
      "metadata": {
        "id": "WhdwmGi11MP1"
      }
    },
    {
      "cell_type": "code",
      "source": [
        "'mary'.upper()"
      ],
      "metadata": {
        "colab": {
          "base_uri": "https://localhost:8080/",
          "height": 35
        },
        "id": "xcH3NSP11GYY",
        "outputId": "00003deb-f6a3-4d5b-dcd3-8ba8d7c37007"
      },
      "execution_count": 97,
      "outputs": [
        {
          "output_type": "execute_result",
          "data": {
            "text/plain": [
              "'MARY'"
            ],
            "application/vnd.google.colaboratory.intrinsic+json": {
              "type": "string"
            }
          },
          "metadata": {},
          "execution_count": 97
        }
      ]
    },
    {
      "cell_type": "code",
      "source": [
        "ord('a')"
      ],
      "metadata": {
        "colab": {
          "base_uri": "https://localhost:8080/"
        },
        "id": "f1vf1sZy1SpH",
        "outputId": "2082a37f-1d73-4be2-c3a9-99a53d87835a"
      },
      "execution_count": 99,
      "outputs": [
        {
          "output_type": "execute_result",
          "data": {
            "text/plain": [
              "97"
            ]
          },
          "metadata": {},
          "execution_count": 99
        }
      ]
    },
    {
      "cell_type": "code",
      "source": [
        "ord('A')"
      ],
      "metadata": {
        "colab": {
          "base_uri": "https://localhost:8080/"
        },
        "id": "LkWNynVp1T4M",
        "outputId": "46d9ee58-575b-47a4-e30b-4747779f9290"
      },
      "execution_count": 100,
      "outputs": [
        {
          "output_type": "execute_result",
          "data": {
            "text/plain": [
              "65"
            ]
          },
          "metadata": {},
          "execution_count": 100
        }
      ]
    },
    {
      "cell_type": "code",
      "source": [
        "ord('a') - ord('A') # 대소문자 차이 32로 일정"
      ],
      "metadata": {
        "colab": {
          "base_uri": "https://localhost:8080/"
        },
        "id": "Ykd_MdtU1WSX",
        "outputId": "a26e53f7-4189-42f1-ab4c-f5928fc36d6b"
      },
      "execution_count": 102,
      "outputs": [
        {
          "output_type": "execute_result",
          "data": {
            "text/plain": [
              "32"
            ]
          },
          "metadata": {},
          "execution_count": 102
        }
      ]
    },
    {
      "cell_type": "code",
      "source": [
        "chr(ord('a') - 32)"
      ],
      "metadata": {
        "colab": {
          "base_uri": "https://localhost:8080/",
          "height": 35
        },
        "id": "QxGmg8M01Y2r",
        "outputId": "07a45d81-cb75-495d-eb76-a8ff6db8cf83"
      },
      "execution_count": 104,
      "outputs": [
        {
          "output_type": "execute_result",
          "data": {
            "text/plain": [
              "'A'"
            ],
            "application/vnd.google.colaboratory.intrinsic+json": {
              "type": "string"
            }
          },
          "metadata": {},
          "execution_count": 104
        }
      ]
    },
    {
      "cell_type": "code",
      "source": [
        "for i in 'mary':\n",
        "    print(chr(ord(i)-32), end='')\n",
        "# 완벽한 코드는 아니고, 소문자인 것을 판단하는 if가 위에 있어야 합니다."
      ],
      "metadata": {
        "colab": {
          "base_uri": "https://localhost:8080/"
        },
        "id": "AdN3LlSV1dWr",
        "outputId": "887d7000-2a0f-4e41-888c-ed88a9b66278"
      },
      "execution_count": 105,
      "outputs": [
        {
          "output_type": "stream",
          "name": "stdout",
          "text": [
            "MARY"
          ]
        }
      ]
    },
    {
      "cell_type": "markdown",
      "source": [
        "# 25번"
      ],
      "metadata": {
        "id": "YYH5_wKj1whp"
      }
    },
    {
      "cell_type": "code",
      "source": [
        "# 입력을 반지름의 길이로 정수 n이 주어지면 원의 넓이를 반환하는 함수를 만들어 주세요.\n",
        "n = 3\n",
        "print(n**2*3.14)"
      ],
      "metadata": {
        "colab": {
          "base_uri": "https://localhost:8080/"
        },
        "id": "j-PDgi0W1uhN",
        "outputId": "a002ca84-cfab-4742-846d-0d5d63d8357c"
      },
      "execution_count": 107,
      "outputs": [
        {
          "output_type": "stream",
          "name": "stdout",
          "text": [
            "28.26\n"
          ]
        }
      ]
    },
    {
      "cell_type": "markdown",
      "source": [
        "# 26번"
      ],
      "metadata": {
        "id": "ZQnTwPTc4_HB"
      }
    },
    {
      "cell_type": "code",
      "source": [
        "key = '수성, 금성, 지구, 화성, 목성, 토성, 천왕성, 해왕성'.split(', ')\n",
        "value = 'Mercury, Venus, Earth, Mars, Jupiter, Saturn, Uranus, Neptune'.split(', ')"
      ],
      "metadata": {
        "id": "AuidYhki1-t2"
      },
      "execution_count": 108,
      "outputs": []
    },
    {
      "cell_type": "code",
      "source": [
        "dict(zip(key, value))"
      ],
      "metadata": {
        "colab": {
          "base_uri": "https://localhost:8080/"
        },
        "id": "OAFrIIfs5m6-",
        "outputId": "902d5d55-163b-474c-e624-295c372b3029"
      },
      "execution_count": 109,
      "outputs": [
        {
          "output_type": "execute_result",
          "data": {
            "text/plain": [
              "{'수성': 'Mercury',\n",
              " '금성': 'Venus',\n",
              " '지구': 'Earth',\n",
              " '화성': 'Mars',\n",
              " '목성': 'Jupiter',\n",
              " '토성': 'Saturn',\n",
              " '천왕성': 'Uranus',\n",
              " '해왕성': 'Neptune'}"
            ]
          },
          "metadata": {},
          "execution_count": 109
        }
      ]
    },
    {
      "cell_type": "markdown",
      "source": [
        "# 27번"
      ],
      "metadata": {
        "id": "bElXYwIs5CQV"
      }
    },
    {
      "cell_type": "code",
      "source": [
        "# 두 개를 합쳐 학생의 이름이 key이고 value가 수학 점수인 딕셔너리를 출력해주세요."
      ],
      "metadata": {
        "id": "8Yq_2ygV5Dku"
      },
      "execution_count": null,
      "outputs": []
    },
    {
      "cell_type": "markdown",
      "source": [
        "# 28번"
      ],
      "metadata": {
        "id": "7x1jPpmp5ERS"
      }
    },
    {
      "cell_type": "code",
      "source": [
        "# 2-gram\n",
        "s = 'Python'\n",
        "for i in range(len(s)-1):\n",
        "    print(s[i:i+2])"
      ],
      "metadata": {
        "colab": {
          "base_uri": "https://localhost:8080/"
        },
        "id": "ZifFfLS35FMX",
        "outputId": "132fbe5b-b856-4895-bb4d-e828637cccf2"
      },
      "execution_count": 118,
      "outputs": [
        {
          "output_type": "stream",
          "name": "stdout",
          "text": [
            "Py\n",
            "yt\n",
            "th\n",
            "ho\n",
            "on\n"
          ]
        }
      ]
    },
    {
      "cell_type": "code",
      "source": [
        "list(zip(s, s[1:])) # 짝이 안맞으면 어차피 생성하지 않음"
      ],
      "metadata": {
        "colab": {
          "base_uri": "https://localhost:8080/"
        },
        "id": "3Rw41XtT6mYO",
        "outputId": "aaec7743-3ae5-4a08-f1ff-66d567ca1196"
      },
      "execution_count": 119,
      "outputs": [
        {
          "output_type": "execute_result",
          "data": {
            "text/plain": [
              "[('P', 'y'), ('y', 't'), ('t', 'h'), ('h', 'o'), ('o', 'n')]"
            ]
          },
          "metadata": {},
          "execution_count": 119
        }
      ]
    },
    {
      "cell_type": "code",
      "source": [
        "for i in zip(s, s[1:]):\n",
        "    print(''.join(i))"
      ],
      "metadata": {
        "colab": {
          "base_uri": "https://localhost:8080/"
        },
        "id": "Nxt4NT5064Ow",
        "outputId": "93740f11-7d10-451c-e063-ec19a8a141c0"
      },
      "execution_count": 120,
      "outputs": [
        {
          "output_type": "stream",
          "name": "stdout",
          "text": [
            "Py\n",
            "yt\n",
            "th\n",
            "ho\n",
            "on\n"
          ]
        }
      ]
    },
    {
      "cell_type": "code",
      "source": [
        "p = [1, 3, 5, 7, 11, 14, 19, 21, 22]\n",
        "list(zip(p, p[1:]))"
      ],
      "metadata": {
        "colab": {
          "base_uri": "https://localhost:8080/"
        },
        "id": "mP_be70r7JkX",
        "outputId": "18909b5a-f684-4c78-aa7c-8e3a99e0b5b7"
      },
      "execution_count": 123,
      "outputs": [
        {
          "output_type": "execute_result",
          "data": {
            "text/plain": [
              "[(1, 3), (3, 5), (5, 7), (7, 11), (11, 14), (14, 19), (19, 21), (21, 22)]"
            ]
          },
          "metadata": {},
          "execution_count": 123
        }
      ]
    },
    {
      "cell_type": "code",
      "source": [
        "list(map(lambda x: x[1]-x[0], zip(p, p[1:])))"
      ],
      "metadata": {
        "colab": {
          "base_uri": "https://localhost:8080/"
        },
        "id": "c2qmfXEo7uY0",
        "outputId": "59b813e1-600c-439f-b424-dae1a8170536"
      },
      "execution_count": 125,
      "outputs": [
        {
          "output_type": "execute_result",
          "data": {
            "text/plain": [
              "[2, 2, 2, 4, 3, 5, 2, 1]"
            ]
          },
          "metadata": {},
          "execution_count": 125
        }
      ]
    },
    {
      "cell_type": "markdown",
      "source": [
        "# 29번"
      ],
      "metadata": {
        "id": "AjV9Sv6B5Foa"
      }
    },
    {
      "cell_type": "code",
      "source": [
        "# 알파벳 하나만을 입력하고 그 알파벳이 대문자이면 YES를 아니면 NO를 출력하는 프로그램\n"
      ],
      "metadata": {
        "id": "Lq0hTf4O5Glz"
      },
      "execution_count": 126,
      "outputs": []
    },
    {
      "cell_type": "code",
      "source": [
        "# 알파벳 여러개를 입력하고 여러개 입력한 것 중 대문자만 출력해주는 프로그램\n",
        "# 'HellO WoRld' -> HOWR\n",
        "\n",
        "for s in 'HellO WoRld':\n",
        "    if s.isupper(): # 코드의 의도가 가장 명확함\n",
        "        print(s)"
      ],
      "metadata": {
        "colab": {
          "base_uri": "https://localhost:8080/"
        },
        "id": "7GNgbx748gns",
        "outputId": "f239a96b-7016-432f-cf8a-f349a7ec278e"
      },
      "execution_count": 132,
      "outputs": [
        {
          "output_type": "stream",
          "name": "stdout",
          "text": [
            "H\n",
            "O\n",
            "W\n",
            "R\n"
          ]
        }
      ]
    },
    {
      "cell_type": "code",
      "source": [
        "for s in 'HellO WoRld':\n",
        "    if s != s.lower():\n",
        "        print(s)"
      ],
      "metadata": {
        "colab": {
          "base_uri": "https://localhost:8080/"
        },
        "id": "hnIDS7PD8CP8",
        "outputId": "bf18121d-59c2-44f1-db8d-1fcff9d8895c"
      },
      "execution_count": 130,
      "outputs": [
        {
          "output_type": "stream",
          "name": "stdout",
          "text": [
            "H\n",
            "O\n",
            "W\n",
            "R\n"
          ]
        }
      ]
    },
    {
      "cell_type": "code",
      "source": [
        "for s in 'HellO WoRld':\n",
        "    if 'A' <= s <= 'Z':\n",
        "        print(s)"
      ],
      "metadata": {
        "colab": {
          "base_uri": "https://localhost:8080/"
        },
        "id": "Uz10js8R8aw-",
        "outputId": "d400d0c2-dced-4c7e-ab0e-16877bcf7296"
      },
      "execution_count": 131,
      "outputs": [
        {
          "output_type": "stream",
          "name": "stdout",
          "text": [
            "H\n",
            "O\n",
            "W\n",
            "R\n"
          ]
        }
      ]
    },
    {
      "cell_type": "markdown",
      "source": [
        "# 30번"
      ],
      "metadata": {
        "id": "bX5OlTHT5HDj"
      }
    },
    {
      "cell_type": "code",
      "source": [
        "# 입력으로 첫 줄에 문자열이 주어지고 둘째 줄에 찾을 문자가 주어지면 그 문자가 시작하는 index를 반환하는 프로그램\n",
        "\n",
        "'pineapple is yummy'.find('apple') # 없으면 -1\n",
        "'pineapple is yummy'.index('apple') # 없으면 error\n",
        "\n",
        "# 예를 들어 주기적으로 크롤링하는 코드가 있다면\n",
        "# find를 쓰셔서 error가 안나고 다음 코드로 넘어가게 코딩하실 수 있습니다.\n",
        "# 예외처리를 하는 것이 가장 좋습니다.\n",
        "# 정답: 목적에 맞게 사용하셔야 합니다."
      ],
      "metadata": {
        "colab": {
          "base_uri": "https://localhost:8080/"
        },
        "id": "mRuLJTtE5ITL",
        "outputId": "57bb5987-03bf-4a22-bdbd-f4df9153e65c"
      },
      "execution_count": 139,
      "outputs": [
        {
          "output_type": "execute_result",
          "data": {
            "text/plain": [
              "4"
            ]
          },
          "metadata": {},
          "execution_count": 139
        }
      ]
    },
    {
      "cell_type": "code",
      "source": [
        "'pineapple is yummy apple'.find('apple')\n",
        "'pineapple is yummy apple'.index('apple')"
      ],
      "metadata": {
        "colab": {
          "base_uri": "https://localhost:8080/"
        },
        "id": "MsLg0jLy-q9-",
        "outputId": "5bea2c7b-8368-494e-fcc9-7a244ad618c4"
      },
      "execution_count": 144,
      "outputs": [
        {
          "output_type": "execute_result",
          "data": {
            "text/plain": [
              "4"
            ]
          },
          "metadata": {},
          "execution_count": 144
        }
      ]
    },
    {
      "cell_type": "code",
      "source": [
        "'pineapple is yummy apple'.rfind('apple')\n",
        "'pineapple is yummy apple'.rindex('apple')"
      ],
      "metadata": {
        "colab": {
          "base_uri": "https://localhost:8080/"
        },
        "id": "Jd4csP4p9bK4",
        "outputId": "8973d4b1-b8f5-4361-9329-b6e14e9d93af"
      },
      "execution_count": 141,
      "outputs": [
        {
          "output_type": "execute_result",
          "data": {
            "text/plain": [
              "19"
            ]
          },
          "metadata": {},
          "execution_count": 141
        }
      ]
    },
    {
      "cell_type": "code",
      "source": [
        "'pineapple is yummy apple'.find('apple', 10)\n",
        "'pineapple is yummy apple'.index('apple', 10)"
      ],
      "metadata": {
        "colab": {
          "base_uri": "https://localhost:8080/"
        },
        "id": "jzQWhSqM-gpc",
        "outputId": "f09fe765-fdc1-446f-9231-8f062b0e17a2"
      },
      "execution_count": 143,
      "outputs": [
        {
          "output_type": "execute_result",
          "data": {
            "text/plain": [
              "19"
            ]
          },
          "metadata": {},
          "execution_count": 143
        }
      ]
    },
    {
      "cell_type": "markdown",
      "source": [
        "# 31번\n",
        "\n",
        "[파이썬 자료형의 복잡도](https://wayhome25.github.io/python/2017/06/14/time-complexity/)"
      ],
      "metadata": {
        "id": "Cydmoutq-64P"
      }
    },
    {
      "cell_type": "code",
      "source": [
        "# 다음 리스트의 내장함수의 시간 복잡도가 O(1)이 아닌것은?\n",
        "# 1)  l[i]\n",
        "# 2)  l.append(5)\n",
        "## 3)  l[a:b] -> O(b-a)\n",
        "# 4)  l.pop()\n",
        "# 5)  l.clear()"
      ],
      "metadata": {
        "id": "LnhS1NZu-nWb"
      },
      "execution_count": 146,
      "outputs": []
    },
    {
      "cell_type": "code",
      "source": [
        "# slice 사용 경우 -> error 발생시키지 않기 위해\n",
        "l = [1, 2, 3, 4, 5]\n",
        "\n",
        "# l[10]  # out of range error\n",
        "l[10:11] # out of range error가 안나지만 기능은 같음"
      ],
      "metadata": {
        "colab": {
          "base_uri": "https://localhost:8080/"
        },
        "id": "QNNfi9AS-8Ps",
        "outputId": "9dd96f32-a6f7-4804-aed5-a3680c6b2c6b"
      },
      "execution_count": 149,
      "outputs": [
        {
          "output_type": "execute_result",
          "data": {
            "text/plain": [
              "[]"
            ]
          },
          "metadata": {},
          "execution_count": 149
        }
      ]
    },
    {
      "cell_type": "markdown",
      "source": [
        "# 32번"
      ],
      "metadata": {
        "id": "ZS0Bz3Rq_-Ov"
      }
    },
    {
      "cell_type": "code",
      "source": [
        "# 문자열을 입력받으면 단어의 갯수를 출력하는 프로그램\n",
        "s = input()\n",
        "len(s.split(' '))"
      ],
      "metadata": {
        "colab": {
          "base_uri": "https://localhost:8080/"
        },
        "id": "3KLnTcg-_u1Q",
        "outputId": "1f990321-927e-40f2-ebe1-6d840319b761"
      },
      "execution_count": 187,
      "outputs": [
        {
          "name": "stdout",
          "output_type": "stream",
          "text": [
            "My name is yelin.\n"
          ]
        },
        {
          "output_type": "execute_result",
          "data": {
            "text/plain": [
              "4"
            ]
          },
          "metadata": {},
          "execution_count": 187
        }
      ]
    },
    {
      "cell_type": "markdown",
      "source": [
        "# 33번"
      ],
      "metadata": {
        "id": "PaY4V3ItAD_9"
      }
    },
    {
      "cell_type": "code",
      "source": [
        "# 한 줄에 여러개의 숫자가 입력되면, 역순으로 그 숫자들을 하나씩 출력하는 프로그램\n",
        "n = input()\n",
        "list(map(int, n.split()))[::-1]"
      ],
      "metadata": {
        "colab": {
          "base_uri": "https://localhost:8080/"
        },
        "id": "_5-R35-hADkG",
        "outputId": "1e3ddc43-5aac-4a75-bf89-12356dd032f1"
      },
      "execution_count": 190,
      "outputs": [
        {
          "name": "stdout",
          "output_type": "stream",
          "text": [
            "3 6 2 8 1 7\n"
          ]
        },
        {
          "output_type": "execute_result",
          "data": {
            "text/plain": [
              "[7, 1, 8, 2, 6, 3]"
            ]
          },
          "metadata": {},
          "execution_count": 190
        }
      ]
    },
    {
      "cell_type": "markdown",
      "source": [
        "# 34번"
      ],
      "metadata": {
        "id": "lE_Wj_jJAMYw"
      }
    },
    {
      "cell_type": "code",
      "source": [
        "# sort 확인\n",
        "# 키가 주어지면 순서대로 제대로 섰는지 확인하는 프로그램"
      ],
      "metadata": {
        "id": "i6AX68U8ALep"
      },
      "execution_count": 152,
      "outputs": []
    },
    {
      "cell_type": "markdown",
      "source": [
        "# 35번 ** 중요 **"
      ],
      "metadata": {
        "id": "xmuslMFMAXRF"
      }
    },
    {
      "cell_type": "code",
      "source": [
        "# 2제곱, 3제곱, 4제곱을 할 수 있는 Factory 함수\n",
        "def one(n):\n",
        "    def two(value):\n",
        "        return value**n\n",
        "    return two\n",
        "\n",
        "a = one(2)\n",
        "b = one(3)\n",
        "c = one(4)\n",
        "print(a(10))\n",
        "print(b(10))\n",
        "print(c(10))"
      ],
      "metadata": {
        "colab": {
          "base_uri": "https://localhost:8080/"
        },
        "id": "KYPok3HtAWgk",
        "outputId": "5a1c8b59-43a7-495d-84f6-854d4e27786e"
      },
      "execution_count": 154,
      "outputs": [
        {
          "output_type": "stream",
          "name": "stdout",
          "text": [
            "100\n",
            "1000\n",
            "10000\n"
          ]
        }
      ]
    },
    {
      "cell_type": "code",
      "source": [
        "# id, name, email이 각각 3번씩 반복\n",
        "# 이러한 현상을 보일러 플레이트(boiler-plate)라 함\n",
        "# print를 해도 필드값이 보이지 않아 불편\n",
        "class User:\n",
        "    def __init__(self, id, name, email):\n",
        "        self.id = id\n",
        "        self.name = name\n",
        "        self.email = email\n",
        "\n",
        "    def __repr__(self):\n",
        "        return (f'{self.__class__.__qualname__}{self.id, self.name, self.email}')\n",
        "\n",
        "user = User(123, 'hojun', 'hojun@gmail')\n",
        "user"
      ],
      "metadata": {
        "colab": {
          "base_uri": "https://localhost:8080/"
        },
        "id": "uJkooZIKDgy-",
        "outputId": "73c43c33-a17d-4930-86fc-1233b321f273"
      },
      "execution_count": 160,
      "outputs": [
        {
          "output_type": "execute_result",
          "data": {
            "text/plain": [
              "User(123, 'hojun', 'hojun@gmail')"
            ]
          },
          "metadata": {},
          "execution_count": 160
        }
      ]
    },
    {
      "cell_type": "code",
      "source": [
        "from dataclasses import dataclass\n",
        "\n",
        "@dataclass\n",
        "class User:\n",
        "    id: int\n",
        "    name: str\n",
        "    email : str\n",
        "\n",
        "user = User(123, 'hojun', 'hojun@gmail')\n",
        "user"
      ],
      "metadata": {
        "colab": {
          "base_uri": "https://localhost:8080/"
        },
        "id": "ZZ1TLnqIDjjf",
        "outputId": "361c5248-eb8c-4b0f-b87b-5114cb3dd9ff"
      },
      "execution_count": 162,
      "outputs": [
        {
          "output_type": "execute_result",
          "data": {
            "text/plain": [
              "User(id=123, name='hojun', email='hojun@gmail')"
            ]
          },
          "metadata": {},
          "execution_count": 162
        }
      ]
    },
    {
      "cell_type": "code",
      "source": [
        "# 객체지향 프로그래밍 예제\n",
        "class Book:\n",
        "    def __init__(self, title, content, author, pub_date):\n",
        "        self.title = title\n",
        "        self.content = content\n",
        "        self.author = author\n",
        "        self.pub_date = pub_date\n",
        "\n",
        "    def calculate_date(self):\n",
        "         self.pub_date - self.current_date"
      ],
      "metadata": {
        "id": "NdeyLDbMCFdG"
      },
      "execution_count": 191,
      "outputs": []
    },
    {
      "cell_type": "code",
      "source": [
        "# 1. 함수를 변수에 할당할 수 있습니다.\n",
        "# 2. 함수를 데이터 구조에 저장할 수 있습니다.\n",
        "# 3. 함수를 인자로 다른 함수에 전달할 수 있습니다.\n",
        "# 4. 함수를 결과로서 반환할 수 있습니다."
      ],
      "metadata": {
        "id": "8zGoYVCdD03o"
      },
      "execution_count": null,
      "outputs": []
    },
    {
      "cell_type": "markdown",
      "source": [
        "# 36번"
      ],
      "metadata": {
        "id": "5WfxVHnYBHoZ"
      }
    },
    {
      "cell_type": "code",
      "source": [
        "n = 2\n",
        "for i in range(1, 10):\n",
        "    print(n*i, end=' ')"
      ],
      "metadata": {
        "colab": {
          "base_uri": "https://localhost:8080/"
        },
        "id": "fRGpJvTfAvOh",
        "outputId": "1dd81ab6-dd15-45bb-b03a-3b6981c5ad4d"
      },
      "execution_count": 157,
      "outputs": [
        {
          "output_type": "stream",
          "name": "stdout",
          "text": [
            "2 4 6 8 10 12 14 16 18 "
          ]
        }
      ]
    },
    {
      "cell_type": "markdown",
      "source": [
        "# 37번"
      ],
      "metadata": {
        "id": "WBqwdsA0Bm-S"
      }
    },
    {
      "cell_type": "code",
      "source": [
        "# 입력 : 원범 원범 혜원 혜원 혜원 혜원 유진 유진\n",
        "# 출력 : 혜원(이)가 총 4표로 반장이 되었습니다."
      ],
      "metadata": {
        "id": "1gULckzLBZzT"
      },
      "execution_count": 158,
      "outputs": []
    }
  ]
}