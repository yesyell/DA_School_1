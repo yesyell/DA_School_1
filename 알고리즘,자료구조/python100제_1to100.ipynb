{
  "nbformat": 4,
  "nbformat_minor": 0,
  "metadata": {
    "colab": {
      "provenance": [],
      "collapsed_sections": [
        "WSqjTQYJ5Qbv"
      ],
      "authorship_tag": "ABX9TyNg5J7uJlA0+WYuCY7Exq5q",
      "include_colab_link": true
    },
    "kernelspec": {
      "name": "python3",
      "display_name": "Python 3"
    },
    "language_info": {
      "name": "python"
    }
  },
  "cells": [
    {
      "cell_type": "markdown",
      "metadata": {
        "id": "view-in-github",
        "colab_type": "text"
      },
      "source": [
        "<a href=\"https://colab.research.google.com/github/yesyell/DA_School_1/blob/main/%EC%95%8C%EA%B3%A0%EB%A6%AC%EC%A6%98%2C%EC%9E%90%EB%A3%8C%EA%B5%AC%EC%A1%B0/python100%EC%A0%9C_1to100.ipynb\" target=\"_parent\"><img src=\"https://colab.research.google.com/assets/colab-badge.svg\" alt=\"Open In Colab\"/></a>"
      ]
    },
    {
      "cell_type": "markdown",
      "source": [
        "[Python 100제 - 1권](https://pythonworkbook.notion.site/Python-100-1-abeccbfd8175483da1ed96642640c687)"
      ],
      "metadata": {
        "id": "8WsXhmNlg04_"
      }
    },
    {
      "cell_type": "markdown",
      "source": [
        "# 1번"
      ],
      "metadata": {
        "id": "Y8t0XUmJgmf-"
      }
    },
    {
      "cell_type": "code",
      "source": [
        "nums = [100, 200, 300, 400, 500]\n",
        "nums.pop()\n",
        "nums.pop()\n",
        "nums"
      ],
      "metadata": {
        "colab": {
          "base_uri": "https://localhost:8080/"
        },
        "id": "oMhSG6Q6g4oI",
        "outputId": "5225c73b-fae0-4046-c424-fe0b262ee56a"
      },
      "execution_count": null,
      "outputs": [
        {
          "output_type": "execute_result",
          "data": {
            "text/plain": [
              "[100, 200, 300]"
            ]
          },
          "metadata": {},
          "execution_count": 163
        }
      ]
    },
    {
      "cell_type": "code",
      "source": [
        "nums = [100, 200, 300, 400, 500]\n",
        "nums[:3]"
      ],
      "metadata": {
        "colab": {
          "base_uri": "https://localhost:8080/"
        },
        "id": "Cuqr5HIihAMf",
        "outputId": "96160c99-242b-4654-a076-5c58c4e3a28a"
      },
      "execution_count": null,
      "outputs": [
        {
          "output_type": "execute_result",
          "data": {
            "text/plain": [
              "[100, 200, 300]"
            ]
          },
          "metadata": {},
          "execution_count": 164
        }
      ]
    },
    {
      "cell_type": "code",
      "source": [
        "nums = [100, 200, 300, 400, 500]\n",
        "nums[-5:-2]"
      ],
      "metadata": {
        "colab": {
          "base_uri": "https://localhost:8080/"
        },
        "id": "uH6hU8GZhCLP",
        "outputId": "8ab18447-82db-4192-b701-9ba68244b9c4"
      },
      "execution_count": null,
      "outputs": [
        {
          "output_type": "execute_result",
          "data": {
            "text/plain": [
              "[100, 200, 300]"
            ]
          },
          "metadata": {},
          "execution_count": 165
        }
      ]
    },
    {
      "cell_type": "markdown",
      "source": [
        "# 2번"
      ],
      "metadata": {
        "id": "77MtkrQdhRl8"
      }
    },
    {
      "cell_type": "code",
      "source": [
        "l = [200, 100, 300]\n",
        "l.insert(2, 10000)\n",
        "l"
      ],
      "metadata": {
        "colab": {
          "base_uri": "https://localhost:8080/"
        },
        "id": "oIV6-hKthKwg",
        "outputId": "a3f09922-b8ae-4c6e-ad8c-5b5fe8d49fc6"
      },
      "execution_count": null,
      "outputs": [
        {
          "output_type": "execute_result",
          "data": {
            "text/plain": [
              "[200, 100, 10000, 300]"
            ]
          },
          "metadata": {},
          "execution_count": 166
        }
      ]
    },
    {
      "cell_type": "code",
      "source": [
        "l = [200, 100, 300]\n",
        "l[:2] + [10000] + [l[-1]]\n",
        "# l[:2] + [10000] + l[-1] # error"
      ],
      "metadata": {
        "colab": {
          "base_uri": "https://localhost:8080/"
        },
        "id": "ENwt3TgghbzB",
        "outputId": "0876caf9-6b0f-4ee8-c9db-c2fe5f9485d3"
      },
      "execution_count": null,
      "outputs": [
        {
          "output_type": "execute_result",
          "data": {
            "text/plain": [
              "[200, 100, 10000, 300]"
            ]
          },
          "metadata": {},
          "execution_count": 9
        }
      ]
    },
    {
      "cell_type": "markdown",
      "source": [
        "# 3번"
      ],
      "metadata": {
        "id": "MSnuCsdkicCJ"
      }
    },
    {
      "cell_type": "code",
      "source": [
        "l = [100, 200, 300]\n",
        "print(type(l))"
      ],
      "metadata": {
        "colab": {
          "base_uri": "https://localhost:8080/"
        },
        "id": "i_OOunZkhkTS",
        "outputId": "dfa26205-ee73-4b35-916b-c7eb64dc4a79"
      },
      "execution_count": null,
      "outputs": [
        {
          "output_type": "stream",
          "name": "stdout",
          "text": [
            "<class 'list'>\n"
          ]
        }
      ]
    },
    {
      "cell_type": "markdown",
      "source": [
        "# 4번"
      ],
      "metadata": {
        "id": "pzJWGsMnidYu"
      }
    },
    {
      "cell_type": "code",
      "source": [
        "# 1)  입력 : a 4= 1,   출력 : class 'int'\n",
        "# 2)  입력 : a = 2.22,   출력 : class 'float'\n",
        "## 3)  입력 : a = 'p',   출력 : class 'char' -> 'str'\n",
        "# 4)  입력 : a = [1, 2, 3],   출력 : class 'list'"
      ],
      "metadata": {
        "id": "5JjWOeR1hyxp"
      },
      "execution_count": null,
      "outputs": []
    },
    {
      "cell_type": "markdown",
      "source": [
        "#5번"
      ],
      "metadata": {
        "id": "UVKbLSP-h6OY"
      }
    },
    {
      "cell_type": "code",
      "source": [
        "a = 10\n",
        "b = 2\n",
        "for i in range(1, 5, 2):\n",
        "    a += i\n",
        "print(a+b)"
      ],
      "metadata": {
        "colab": {
          "base_uri": "https://localhost:8080/"
        },
        "id": "X3XFtAqWh3XF",
        "outputId": "752b9a8b-80b6-4930-a655-e187a569932b"
      },
      "execution_count": null,
      "outputs": [
        {
          "output_type": "stream",
          "name": "stdout",
          "text": [
            "16\n"
          ]
        }
      ]
    },
    {
      "cell_type": "markdown",
      "source": [
        "# 6번"
      ],
      "metadata": {
        "id": "SeUcQTo1iUhh"
      }
    },
    {
      "cell_type": "code",
      "source": [
        "# 다음은 파이썬 문법 중에서 False로 취급하는 것들 입니다.\n",
        "# False로 취급하지 않는 것이 하나 있네요! **True를 찾아주세요.**\n",
        "\n",
        "# 1)  None\n",
        "## 2)  1\n",
        "# 3)  \"\"\n",
        "# 4)  0\n",
        "# 5)  bool(0)"
      ],
      "metadata": {
        "id": "FUsIaiLyh8Ev"
      },
      "execution_count": null,
      "outputs": []
    },
    {
      "cell_type": "code",
      "source": [
        "print(bool([]))\n",
        "print(bool([1, 2, 3]))"
      ],
      "metadata": {
        "colab": {
          "base_uri": "https://localhost:8080/"
        },
        "id": "Mz2su7WuiTXP",
        "outputId": "5947f609-d4c6-4494-b1a8-93e731abb00b"
      },
      "execution_count": null,
      "outputs": [
        {
          "output_type": "stream",
          "name": "stdout",
          "text": [
            "False\n",
            "True\n"
          ]
        }
      ]
    },
    {
      "cell_type": "code",
      "source": [
        "l = []\n",
        "print(id(l))\n",
        "print(bool(l))"
      ],
      "metadata": {
        "colab": {
          "base_uri": "https://localhost:8080/"
        },
        "id": "CrGv8oPxis4x",
        "outputId": "4cee60bf-349b-41e8-afe6-8e5e8808c647"
      },
      "execution_count": null,
      "outputs": [
        {
          "output_type": "stream",
          "name": "stdout",
          "text": [
            "135131996370496\n",
            "False\n"
          ]
        }
      ]
    },
    {
      "cell_type": "code",
      "source": [
        "l.append(10)\n",
        "print(id(l))\n",
        "print(bool(l))"
      ],
      "metadata": {
        "colab": {
          "base_uri": "https://localhost:8080/"
        },
        "id": "VfFnGmUgiu2i",
        "outputId": "ac2f369f-f129-407d-b1d3-47fa81f9177d"
      },
      "execution_count": null,
      "outputs": [
        {
          "output_type": "stream",
          "name": "stdout",
          "text": [
            "135131996370496\n",
            "True\n"
          ]
        }
      ]
    },
    {
      "cell_type": "code",
      "source": [
        "# l 값은 변하지 않지만 bool 값은 변함\n",
        "# python은 지극히 인간의 입장에서 출력을 고려한 것임"
      ],
      "metadata": {
        "id": "SbFJdQgrizLW"
      },
      "execution_count": null,
      "outputs": []
    },
    {
      "cell_type": "markdown",
      "source": [
        "# 7번"
      ],
      "metadata": {
        "id": "nSYGNurJjvXL"
      }
    },
    {
      "cell_type": "code",
      "source": [
        "# 다음 중 변수명으로 사용할 수 없는 것 2개를 고르시오.\n",
        "# 1)  age\n",
        "# 2)  a\n",
        "## 3)  as\n",
        "# 4)  _age\n",
        "## 5)  1age"
      ],
      "metadata": {
        "id": "03cYCneCjb67"
      },
      "execution_count": null,
      "outputs": []
    },
    {
      "cell_type": "code",
      "source": [
        "# 반복문 등에서 사용하지 않는 변수에 _를 넣습니다.\n",
        "for _ in range(5):\n",
        "    print('hello')"
      ],
      "metadata": {
        "colab": {
          "base_uri": "https://localhost:8080/"
        },
        "id": "Q_Jn9XtWJ_oL",
        "outputId": "1004100f-c76b-43c8-fafd-1df179681523"
      },
      "execution_count": null,
      "outputs": [
        {
          "output_type": "stream",
          "name": "stdout",
          "text": [
            "hello\n",
            "hello\n",
            "hello\n",
            "hello\n",
            "hello\n"
          ]
        }
      ]
    },
    {
      "cell_type": "code",
      "source": [
        "# 프라이빗한 변수에 _를 사용합니다.\n",
        "class Human():\n",
        "    _age = 0"
      ],
      "metadata": {
        "id": "zoNVrrYikcuX"
      },
      "execution_count": null,
      "outputs": []
    },
    {
      "cell_type": "markdown",
      "source": [
        "# 8번"
      ],
      "metadata": {
        "id": "B97koZO1kBEF"
      }
    },
    {
      "cell_type": "code",
      "source": [
        "d = {'height':180,\n",
        "     'weight':78,\n",
        "     'weight':84,\n",
        "     'temparture':36,\n",
        "     'eyesight':1}\n",
        "print(d['weight'])"
      ],
      "metadata": {
        "colab": {
          "base_uri": "https://localhost:8080/"
        },
        "id": "l_QV51-dj71X",
        "outputId": "56b555cb-9b4b-44e6-9523-837d55c23289"
      },
      "execution_count": null,
      "outputs": [
        {
          "output_type": "stream",
          "name": "stdout",
          "text": [
            "84\n"
          ]
        }
      ]
    },
    {
      "cell_type": "markdown",
      "source": [
        "# 9번"
      ],
      "metadata": {
        "id": "0zqL7WEXkv0g"
      }
    },
    {
      "cell_type": "code",
      "source": [
        "year = '2019'\n",
        "month = '04'\n",
        "day = '26'\n",
        "hour = '11'\n",
        "minute = '34'\n",
        "second = '27'\n",
        "\n",
        "print(year, month, day, sep='/', end=' ')\n",
        "print(hour, minute, second, sep=':')\n",
        "# 2019/04/26 11:34:27"
      ],
      "metadata": {
        "colab": {
          "base_uri": "https://localhost:8080/"
        },
        "id": "XzadVTMOkC4H",
        "outputId": "05f20c09-94fa-49ff-843f-7c9d3e4304be"
      },
      "execution_count": null,
      "outputs": [
        {
          "output_type": "stream",
          "name": "stdout",
          "text": [
            "2019/04/26 11:34:27\n"
          ]
        }
      ]
    },
    {
      "cell_type": "markdown",
      "source": [
        "# 10번"
      ],
      "metadata": {
        "id": "4WXHMqwCkyDV"
      }
    },
    {
      "cell_type": "code",
      "source": [
        "n = int(input())\n",
        "for i in range(1, n+1):\n",
        "    print(' ' * (n-i) + '*' * (i*2-1))\n",
        "\n",
        "#     *\n",
        "#    ***\n",
        "#   *****\n",
        "#  *******\n",
        "# *********"
      ],
      "metadata": {
        "colab": {
          "base_uri": "https://localhost:8080/"
        },
        "id": "5-3_V4UykzT3",
        "outputId": "e560bd06-17f5-4cd5-b366-1d54eb042eee"
      },
      "execution_count": null,
      "outputs": [
        {
          "output_type": "stream",
          "name": "stdout",
          "text": [
            "5\n",
            "    *\n",
            "   ***\n",
            "  *****\n",
            " *******\n",
            "*********\n"
          ]
        }
      ]
    },
    {
      "cell_type": "markdown",
      "source": [
        "# 11번"
      ],
      "metadata": {
        "id": "ANoZfHdGkzxJ"
      }
    },
    {
      "cell_type": "code",
      "source": [
        "s = 0\n",
        "for i in range(1, 101):\n",
        "    s += i\n",
        "print(s)"
      ],
      "metadata": {
        "colab": {
          "base_uri": "https://localhost:8080/"
        },
        "id": "13IpFNOOk0T4",
        "outputId": "f99a6c61-0e0c-441a-80bd-f8455f3097a5"
      },
      "execution_count": null,
      "outputs": [
        {
          "output_type": "stream",
          "name": "stdout",
          "text": [
            "5050\n"
          ]
        }
      ]
    },
    {
      "cell_type": "markdown",
      "source": [
        "# 12번"
      ],
      "metadata": {
        "id": "7WaY569Uk0rK"
      }
    },
    {
      "cell_type": "code",
      "source": [
        "class Wizard():\n",
        "    def __init__(self, health, mana, armor):\n",
        "        # self는 인스턴스, 인스턴스 메모리 영역\n",
        "        self.health = health\n",
        "        self.mana = mana\n",
        "        self.armor = armor\n",
        "    def attack(self):\n",
        "        print('파이어볼')\n",
        "\n",
        "jik = Wizard(health = 545, mana = 210, armor = 10)\n",
        "print(jik.health, jik.mana, jik.armor)\n",
        "jik.attack()\n",
        "# 545 210 10\n",
        "# 파이어볼"
      ],
      "metadata": {
        "colab": {
          "base_uri": "https://localhost:8080/"
        },
        "id": "o-Sacitck1a3",
        "outputId": "eb9a4133-4fe5-4ae5-9f6c-8870971bc5ec"
      },
      "execution_count": null,
      "outputs": [
        {
          "output_type": "stream",
          "name": "stdout",
          "text": [
            "545 210 10\n",
            "파이어볼\n"
          ]
        }
      ]
    },
    {
      "cell_type": "markdown",
      "source": [
        "# 13번"
      ],
      "metadata": {
        "id": "XXY5KHHqk2HJ"
      }
    },
    {
      "cell_type": "code",
      "source": [
        "# 태양계의 n번째 행성\n",
        "planets = ['수성', '금성', '지구', '화성', '목성', '토성', '천왕성', '해왕성']\n",
        "\n",
        "n = int(input())\n",
        "print(planets[n-1])"
      ],
      "metadata": {
        "colab": {
          "base_uri": "https://localhost:8080/"
        },
        "id": "5lxKkkXNk22I",
        "outputId": "5dfe8bf4-af9b-40f8-ac82-e6844f5dee3f"
      },
      "execution_count": null,
      "outputs": [
        {
          "output_type": "stream",
          "name": "stdout",
          "text": [
            "3\n",
            "지구\n"
          ]
        }
      ]
    },
    {
      "cell_type": "markdown",
      "source": [
        "# 14번"
      ],
      "metadata": {
        "id": "sbEtPWjbk3U5"
      }
    },
    {
      "cell_type": "code",
      "source": [
        "# 만약 그 수가 3의 배수라면 '짝'이라는 글자를, 3의 배수가 아니라면 n을 그대로 출력해 주세요.\n",
        "n = int(input())\n",
        "\n",
        "if n % 3 == 0:\n",
        "    print('짝')\n",
        "else:\n",
        "    print('홀')"
      ],
      "metadata": {
        "colab": {
          "base_uri": "https://localhost:8080/"
        },
        "id": "hmWSXCBik4Hj",
        "outputId": "6a1c4768-41f5-4ad2-e2a0-7422fe20b561"
      },
      "execution_count": null,
      "outputs": [
        {
          "output_type": "stream",
          "name": "stdout",
          "text": [
            "6\n",
            "짝\n"
          ]
        }
      ]
    },
    {
      "cell_type": "markdown",
      "source": [
        "[저주의 숫자3](https://school.programmers.co.kr/learn/courses/30/lessons/120871)"
      ],
      "metadata": {
        "id": "6fFLOK4OuHCz"
      }
    },
    {
      "cell_type": "code",
      "source": [
        "# 소거법\n",
        "[i for i in range(100) if i%3 != 0] # 3의 배수 제거\n",
        "[i for i in range(100) if '3' not in str(i)] # 3이 들어가 있는 숫자 제거\n",
        "\n",
        "n = 10\n",
        "[i for i in range(100) if i%3 != 0 and '3' not in str(i)][n-1]"
      ],
      "metadata": {
        "colab": {
          "base_uri": "https://localhost:8080/"
        },
        "id": "f3K0ek-Tuigg",
        "outputId": "6acddc54-98e8-4042-f0db-c9a22736ab33"
      },
      "execution_count": null,
      "outputs": [
        {
          "output_type": "execute_result",
          "data": {
            "text/plain": [
              "16"
            ]
          },
          "metadata": {},
          "execution_count": 172
        }
      ]
    },
    {
      "cell_type": "code",
      "source": [
        "solution = lambda n:[i for i in range(10000) if i % 3 != 0 and '3' not in str(i)][n-1]\n",
        "solution(10)"
      ],
      "metadata": {
        "colab": {
          "base_uri": "https://localhost:8080/"
        },
        "id": "pybv0QMevzyq",
        "outputId": "e8f7780a-b41e-4c96-e653-b52abb7a1546"
      },
      "execution_count": null,
      "outputs": [
        {
          "output_type": "execute_result",
          "data": {
            "text/plain": [
              "16"
            ]
          },
          "metadata": {},
          "execution_count": 171
        }
      ]
    },
    {
      "cell_type": "code",
      "source": [
        "def solution(n):\n",
        "    return list(filter(lambda x: '3' not in str(x),\n",
        "                filter(lambda x: x%3 != 0, range(1000))))[n-1]\n",
        "\n",
        "solution(15)"
      ],
      "metadata": {
        "colab": {
          "base_uri": "https://localhost:8080/"
        },
        "id": "OkpKxxMnuFOd",
        "outputId": "2906cc10-0c8f-4aa1-ad26-0ac8c5d08e2d"
      },
      "execution_count": null,
      "outputs": [
        {
          "output_type": "execute_result",
          "data": {
            "text/plain": [
              "25"
            ]
          },
          "metadata": {},
          "execution_count": 169
        }
      ]
    },
    {
      "cell_type": "markdown",
      "source": [
        "# 15번"
      ],
      "metadata": {
        "id": "Iy1Y73vXk4b-"
      }
    },
    {
      "cell_type": "code",
      "source": [
        "# 안녕하세요. 저는 김다정입니다."
      ],
      "metadata": {
        "id": "Fd4l_1Tyk5Bd"
      },
      "execution_count": null,
      "outputs": []
    },
    {
      "cell_type": "markdown",
      "source": [
        "# 16번"
      ],
      "metadata": {
        "id": "Opws8MLBwE79"
      }
    },
    {
      "cell_type": "code",
      "source": [
        "# 거꾸로 출력\n",
        "'안녕하세요'[::-1]"
      ],
      "metadata": {
        "colab": {
          "base_uri": "https://localhost:8080/",
          "height": 35
        },
        "id": "MzuGEx7vwEAD",
        "outputId": "bb69f669-fa22-40a6-da5c-c0f8cd052b68"
      },
      "execution_count": null,
      "outputs": [
        {
          "output_type": "execute_result",
          "data": {
            "text/plain": [
              "'요세하녕안'"
            ],
            "application/vnd.google.colaboratory.intrinsic+json": {
              "type": "string"
            }
          },
          "metadata": {},
          "execution_count": 69
        }
      ]
    },
    {
      "cell_type": "code",
      "source": [
        "''.join(list(reversed(list('안녕하세요'))))"
      ],
      "metadata": {
        "colab": {
          "base_uri": "https://localhost:8080/",
          "height": 35
        },
        "id": "An5MO---wyTj",
        "outputId": "1aa431dd-2b37-433e-e2f0-7ae53fede41a"
      },
      "execution_count": null,
      "outputs": [
        {
          "output_type": "execute_result",
          "data": {
            "text/plain": [
              "'요세하녕안'"
            ],
            "application/vnd.google.colaboratory.intrinsic+json": {
              "type": "string"
            }
          },
          "metadata": {},
          "execution_count": 70
        }
      ]
    },
    {
      "cell_type": "code",
      "source": [
        "s = '안녕하세요'\n",
        "ss = list(s)\n",
        "ss.reverse()\n",
        "''.join(ss)"
      ],
      "metadata": {
        "colab": {
          "base_uri": "https://localhost:8080/",
          "height": 35
        },
        "id": "5JB1VUptw3JK",
        "outputId": "526eb01d-e68a-4265-d00b-720660889415"
      },
      "execution_count": null,
      "outputs": [
        {
          "output_type": "execute_result",
          "data": {
            "text/plain": [
              "'요세하녕안'"
            ],
            "application/vnd.google.colaboratory.intrinsic+json": {
              "type": "string"
            }
          },
          "metadata": {},
          "execution_count": 71
        }
      ]
    },
    {
      "cell_type": "code",
      "source": [
        "s = '안녕하세요'\n",
        "result = ''\n",
        "for i in s:\n",
        "    result = i + result\n",
        "result"
      ],
      "metadata": {
        "colab": {
          "base_uri": "https://localhost:8080/",
          "height": 35
        },
        "id": "0AnOc28hw94k",
        "outputId": "d933a5f8-6717-4476-9084-a86e8e153a37"
      },
      "execution_count": null,
      "outputs": [
        {
          "output_type": "execute_result",
          "data": {
            "text/plain": [
              "'요세하녕안'"
            ],
            "application/vnd.google.colaboratory.intrinsic+json": {
              "type": "string"
            }
          },
          "metadata": {},
          "execution_count": 72
        }
      ]
    },
    {
      "cell_type": "code",
      "source": [
        "# 재귀\n",
        "def reverse(s):\n",
        "    if len(s) == 1:\n",
        "        return s\n",
        "    else:\n",
        "        return reverse(s[1:]) + s[0]\n",
        "reverse('안녕하세요')"
      ],
      "metadata": {
        "colab": {
          "base_uri": "https://localhost:8080/",
          "height": 35
        },
        "id": "6QikHoU5xF-_",
        "outputId": "b3947eb0-557b-4ae1-a585-a6f56c53c68b"
      },
      "execution_count": null,
      "outputs": [
        {
          "output_type": "execute_result",
          "data": {
            "text/plain": [
              "'요세하녕안'"
            ],
            "application/vnd.google.colaboratory.intrinsic+json": {
              "type": "string"
            }
          },
          "metadata": {},
          "execution_count": 75
        }
      ]
    },
    {
      "cell_type": "markdown",
      "source": [
        "# 17번"
      ],
      "metadata": {
        "id": "ur0ZZcpXxPrw"
      }
    },
    {
      "cell_type": "code",
      "source": [
        "# 입력으로 키가 주어지면 키가 150이 이상이면 YES를 틀리면 NO를 출력하는 프로그램\n",
        "height = int(input())\n",
        "\n",
        "# print('NO') if height >= 150: print('YES') # Error\n",
        "print('YES') if height >= 150 else print('NO')"
      ],
      "metadata": {
        "colab": {
          "base_uri": "https://localhost:8080/"
        },
        "id": "xYWJFJ3AxPBs",
        "outputId": "8605c0c2-5abe-42c5-ec21-bb942e8e88a1"
      },
      "execution_count": null,
      "outputs": [
        {
          "output_type": "stream",
          "name": "stdout",
          "text": [
            "149\n",
            "NO\n"
          ]
        }
      ]
    },
    {
      "cell_type": "code",
      "source": [
        "def solution(height):\n",
        "    return 'YES' if height >= 150 else 'NO'\n",
        "solution(150)"
      ],
      "metadata": {
        "colab": {
          "base_uri": "https://localhost:8080/",
          "height": 35
        },
        "id": "jp3KSj42yYvs",
        "outputId": "3a51b3cc-a511-4fc7-bb1f-0c70ffd2bc72"
      },
      "execution_count": null,
      "outputs": [
        {
          "output_type": "execute_result",
          "data": {
            "text/plain": [
              "'YES'"
            ],
            "application/vnd.google.colaboratory.intrinsic+json": {
              "type": "string"
            }
          },
          "metadata": {},
          "execution_count": 81
        }
      ]
    },
    {
      "cell_type": "markdown",
      "source": [
        "# 18번"
      ],
      "metadata": {
        "id": "6XwvoGKPyW_E"
      }
    },
    {
      "cell_type": "code",
      "source": [
        "# 공백으로 구분하여 세 과목의 점수가 주어지면, 전체 평균 점수를 구하는 프로그램\n",
        "# 단, 소숫점 자리는 모두 버립니다.\n",
        "\n",
        "list(map(int, '20 30 40'.split(' ')))"
      ],
      "metadata": {
        "colab": {
          "base_uri": "https://localhost:8080/"
        },
        "id": "-eOB8o66xxXU",
        "outputId": "daee6f60-bd87-4355-c2c3-0114f4f531d1"
      },
      "execution_count": null,
      "outputs": [
        {
          "output_type": "execute_result",
          "data": {
            "text/plain": [
              "[20, 30, 40]"
            ]
          },
          "metadata": {},
          "execution_count": 83
        }
      ]
    },
    {
      "cell_type": "code",
      "source": [
        "score = input()\n",
        "sum(map(int, score.split(' '))) // 3"
      ],
      "metadata": {
        "colab": {
          "base_uri": "https://localhost:8080/"
        },
        "id": "A2uqRZz-zZfA",
        "outputId": "47056c66-9f62-40b0-89cc-badc71f14f25"
      },
      "execution_count": null,
      "outputs": [
        {
          "name": "stdout",
          "output_type": "stream",
          "text": [
            "20 30 40\n"
          ]
        },
        {
          "output_type": "execute_result",
          "data": {
            "text/plain": [
              "30"
            ]
          },
          "metadata": {},
          "execution_count": 177
        }
      ]
    },
    {
      "cell_type": "markdown",
      "source": [
        "# 19번"
      ],
      "metadata": {
        "id": "7HX9P8SDyykU"
      }
    },
    {
      "cell_type": "code",
      "source": [
        "# 공백으로 구분하여 두 숫자 a와 b가 주어지면, a의 b승을 구하는 프로그램\n",
        "n = input()\n",
        "l = list(map(int, n.split(' ')))\n",
        "l[0] ** l[1]"
      ],
      "metadata": {
        "colab": {
          "base_uri": "https://localhost:8080/"
        },
        "id": "fvdrfrf-yWP7",
        "outputId": "5286d1dc-3e23-4aea-8aef-74b827f7cdb1"
      },
      "execution_count": null,
      "outputs": [
        {
          "name": "stdout",
          "output_type": "stream",
          "text": [
            "2 4\n"
          ]
        },
        {
          "output_type": "execute_result",
          "data": {
            "text/plain": [
              "16"
            ]
          },
          "metadata": {},
          "execution_count": 182
        }
      ]
    },
    {
      "cell_type": "markdown",
      "source": [
        "# 20번"
      ],
      "metadata": {
        "id": "0Yh0i8eAzuEi"
      }
    },
    {
      "cell_type": "code",
      "source": [
        "# 공백으로 구분하여 두 숫자가 주어집니다.\n",
        "# 첫번째 숫자로 두번째 숫자를 나누었을 때 그 몫과 나머지를 공백으로 구분하여 출력하세요.\n",
        "n = input()\n",
        "l = list(map(int, n.split(' ')))\n",
        "print(l[0]//l[1], l[0]%l[1], sep=' ')"
      ],
      "metadata": {
        "colab": {
          "base_uri": "https://localhost:8080/"
        },
        "id": "u3kzXWirztvF",
        "outputId": "f8e9e7c2-414d-4bf0-94f3-c7a3b816a47e"
      },
      "execution_count": null,
      "outputs": [
        {
          "output_type": "stream",
          "name": "stdout",
          "text": [
            "17 3\n",
            "5 2\n"
          ]
        }
      ]
    },
    {
      "cell_type": "markdown",
      "source": [
        "# 21번"
      ],
      "metadata": {
        "id": "CKtNUiiZzzrv"
      }
    },
    {
      "cell_type": "code",
      "source": [
        "# 다음 중 set을 만드는 방법이 아닌 것?\n",
        "# 1)  x = {1, 2, 3, 5, 6, 7}\n",
        "## 2)  x = {} -> dict\n",
        "# 3)  x = set('python')\n",
        "# 4)  x = set(range(5))\n",
        "# 5)  x = set()"
      ],
      "metadata": {
        "id": "NyN72qrYzzIt"
      },
      "execution_count": null,
      "outputs": []
    },
    {
      "cell_type": "code",
      "source": [
        "t = 1\n",
        "t = (1) # tuple 아님\n",
        "t = (1,)\n",
        "t"
      ],
      "metadata": {
        "colab": {
          "base_uri": "https://localhost:8080/"
        },
        "id": "AMEYgP440O1O",
        "outputId": "32d6a7d5-2700-4526-a4f2-b66e4acea89a"
      },
      "execution_count": null,
      "outputs": [
        {
          "output_type": "execute_result",
          "data": {
            "text/plain": [
              "(1,)"
            ]
          },
          "metadata": {},
          "execution_count": 92
        }
      ]
    },
    {
      "cell_type": "code",
      "source": [
        "# 어떤 라이브러리나 프레임워크 마지막 콤마가 꼭 있는 이유 :\n",
        "# 버전 관리하는 곳에서 콤마를 버전의 업이라고 인식하는 경우가 있음\n",
        "# 튜플의 경우 상수, 문자가 들어갔을 때 튜플이 아닌 int, str로 변환되는 것을 막기 위해"
      ],
      "metadata": {
        "id": "O_DmC7UH0fbH"
      },
      "execution_count": null,
      "outputs": []
    },
    {
      "cell_type": "markdown",
      "source": [
        "# 22번"
      ],
      "metadata": {
        "id": "arzSDqIwz9mF"
      }
    },
    {
      "cell_type": "code",
      "source": [
        "# 다음 중 변수 i가 6의 배수인지 확인하는 방법으로 올바른 것은?\n",
        "# 1)  i / 6 == 0\n",
        "## 2)  i % 6 == 0\n",
        "# 3)  i & 6 == 0\n",
        "# 4)  i | 6 == 0\n",
        "# 5)  i // 6 == 0"
      ],
      "metadata": {
        "id": "5fXyG1L1z_Ev"
      },
      "execution_count": null,
      "outputs": []
    },
    {
      "cell_type": "markdown",
      "source": [
        "# 23번"
      ],
      "metadata": {
        "id": "Df9l8bYC04BC"
      }
    },
    {
      "cell_type": "code",
      "source": [
        "# print(10/2)의 출력 결과는 5이다. (X)\n",
        "(10/2)"
      ],
      "metadata": {
        "colab": {
          "base_uri": "https://localhost:8080/"
        },
        "id": "w1cvDym603de",
        "outputId": "c463f290-8b5e-4774-d6b0-93ea7342a954"
      },
      "execution_count": null,
      "outputs": [
        {
          "output_type": "execute_result",
          "data": {
            "text/plain": [
              "5.0"
            ]
          },
          "metadata": {},
          "execution_count": 96
        }
      ]
    },
    {
      "cell_type": "markdown",
      "source": [
        "# 24번"
      ],
      "metadata": {
        "id": "WhdwmGi11MP1"
      }
    },
    {
      "cell_type": "code",
      "source": [
        "'mary'.upper()"
      ],
      "metadata": {
        "colab": {
          "base_uri": "https://localhost:8080/",
          "height": 35
        },
        "id": "xcH3NSP11GYY",
        "outputId": "00003deb-f6a3-4d5b-dcd3-8ba8d7c37007"
      },
      "execution_count": null,
      "outputs": [
        {
          "output_type": "execute_result",
          "data": {
            "text/plain": [
              "'MARY'"
            ],
            "application/vnd.google.colaboratory.intrinsic+json": {
              "type": "string"
            }
          },
          "metadata": {},
          "execution_count": 97
        }
      ]
    },
    {
      "cell_type": "code",
      "source": [
        "ord('a')"
      ],
      "metadata": {
        "colab": {
          "base_uri": "https://localhost:8080/"
        },
        "id": "f1vf1sZy1SpH",
        "outputId": "2082a37f-1d73-4be2-c3a9-99a53d87835a"
      },
      "execution_count": null,
      "outputs": [
        {
          "output_type": "execute_result",
          "data": {
            "text/plain": [
              "97"
            ]
          },
          "metadata": {},
          "execution_count": 99
        }
      ]
    },
    {
      "cell_type": "code",
      "source": [
        "ord('A')"
      ],
      "metadata": {
        "colab": {
          "base_uri": "https://localhost:8080/"
        },
        "id": "LkWNynVp1T4M",
        "outputId": "46d9ee58-575b-47a4-e30b-4747779f9290"
      },
      "execution_count": null,
      "outputs": [
        {
          "output_type": "execute_result",
          "data": {
            "text/plain": [
              "65"
            ]
          },
          "metadata": {},
          "execution_count": 100
        }
      ]
    },
    {
      "cell_type": "code",
      "source": [
        "ord('a') - ord('A') # 대소문자 차이 32로 일정"
      ],
      "metadata": {
        "colab": {
          "base_uri": "https://localhost:8080/"
        },
        "id": "Ykd_MdtU1WSX",
        "outputId": "a26e53f7-4189-42f1-ab4c-f5928fc36d6b"
      },
      "execution_count": null,
      "outputs": [
        {
          "output_type": "execute_result",
          "data": {
            "text/plain": [
              "32"
            ]
          },
          "metadata": {},
          "execution_count": 102
        }
      ]
    },
    {
      "cell_type": "code",
      "source": [
        "chr(ord('a') - 32)"
      ],
      "metadata": {
        "colab": {
          "base_uri": "https://localhost:8080/",
          "height": 35
        },
        "id": "QxGmg8M01Y2r",
        "outputId": "07a45d81-cb75-495d-eb76-a8ff6db8cf83"
      },
      "execution_count": null,
      "outputs": [
        {
          "output_type": "execute_result",
          "data": {
            "text/plain": [
              "'A'"
            ],
            "application/vnd.google.colaboratory.intrinsic+json": {
              "type": "string"
            }
          },
          "metadata": {},
          "execution_count": 104
        }
      ]
    },
    {
      "cell_type": "code",
      "source": [
        "for i in 'mary':\n",
        "    print(chr(ord(i)-32), end='')\n",
        "# 완벽한 코드는 아니고, 소문자인 것을 판단하는 if가 위에 있어야 합니다."
      ],
      "metadata": {
        "colab": {
          "base_uri": "https://localhost:8080/"
        },
        "id": "AdN3LlSV1dWr",
        "outputId": "887d7000-2a0f-4e41-888c-ed88a9b66278"
      },
      "execution_count": null,
      "outputs": [
        {
          "output_type": "stream",
          "name": "stdout",
          "text": [
            "MARY"
          ]
        }
      ]
    },
    {
      "cell_type": "markdown",
      "source": [
        "# 25번"
      ],
      "metadata": {
        "id": "YYH5_wKj1whp"
      }
    },
    {
      "cell_type": "code",
      "source": [
        "# 입력을 반지름의 길이로 정수 n이 주어지면 원의 넓이를 반환하는 함수를 만들어 주세요.\n",
        "n = 3\n",
        "print(n**2*3.14)"
      ],
      "metadata": {
        "colab": {
          "base_uri": "https://localhost:8080/"
        },
        "id": "j-PDgi0W1uhN",
        "outputId": "a002ca84-cfab-4742-846d-0d5d63d8357c"
      },
      "execution_count": null,
      "outputs": [
        {
          "output_type": "stream",
          "name": "stdout",
          "text": [
            "28.26\n"
          ]
        }
      ]
    },
    {
      "cell_type": "markdown",
      "source": [
        "# 26번"
      ],
      "metadata": {
        "id": "ZQnTwPTc4_HB"
      }
    },
    {
      "cell_type": "code",
      "source": [
        "key = '수성, 금성, 지구, 화성, 목성, 토성, 천왕성, 해왕성'.split(', ')\n",
        "value = 'Mercury, Venus, Earth, Mars, Jupiter, Saturn, Uranus, Neptune'.split(', ')"
      ],
      "metadata": {
        "id": "AuidYhki1-t2"
      },
      "execution_count": null,
      "outputs": []
    },
    {
      "cell_type": "code",
      "source": [
        "dict(zip(key, value))"
      ],
      "metadata": {
        "colab": {
          "base_uri": "https://localhost:8080/"
        },
        "id": "OAFrIIfs5m6-",
        "outputId": "902d5d55-163b-474c-e624-295c372b3029"
      },
      "execution_count": null,
      "outputs": [
        {
          "output_type": "execute_result",
          "data": {
            "text/plain": [
              "{'수성': 'Mercury',\n",
              " '금성': 'Venus',\n",
              " '지구': 'Earth',\n",
              " '화성': 'Mars',\n",
              " '목성': 'Jupiter',\n",
              " '토성': 'Saturn',\n",
              " '천왕성': 'Uranus',\n",
              " '해왕성': 'Neptune'}"
            ]
          },
          "metadata": {},
          "execution_count": 109
        }
      ]
    },
    {
      "cell_type": "markdown",
      "source": [
        "# 27번"
      ],
      "metadata": {
        "id": "bElXYwIs5CQV"
      }
    },
    {
      "cell_type": "code",
      "source": [
        "# 두 개를 합쳐 학생의 이름이 key이고 value가 수학 점수인 딕셔너리를 출력해주세요."
      ],
      "metadata": {
        "id": "8Yq_2ygV5Dku"
      },
      "execution_count": null,
      "outputs": []
    },
    {
      "cell_type": "markdown",
      "source": [
        "# 28번"
      ],
      "metadata": {
        "id": "7x1jPpmp5ERS"
      }
    },
    {
      "cell_type": "code",
      "source": [
        "# 2-gram\n",
        "s = 'Python'\n",
        "for i in range(len(s)-1):\n",
        "    print(s[i:i+2])"
      ],
      "metadata": {
        "colab": {
          "base_uri": "https://localhost:8080/"
        },
        "id": "ZifFfLS35FMX",
        "outputId": "132fbe5b-b856-4895-bb4d-e828637cccf2"
      },
      "execution_count": null,
      "outputs": [
        {
          "output_type": "stream",
          "name": "stdout",
          "text": [
            "Py\n",
            "yt\n",
            "th\n",
            "ho\n",
            "on\n"
          ]
        }
      ]
    },
    {
      "cell_type": "code",
      "source": [
        "list(zip(s, s[1:])) # 짝이 안맞으면 어차피 생성하지 않음"
      ],
      "metadata": {
        "colab": {
          "base_uri": "https://localhost:8080/"
        },
        "id": "3Rw41XtT6mYO",
        "outputId": "aaec7743-3ae5-4a08-f1ff-66d567ca1196"
      },
      "execution_count": null,
      "outputs": [
        {
          "output_type": "execute_result",
          "data": {
            "text/plain": [
              "[('P', 'y'), ('y', 't'), ('t', 'h'), ('h', 'o'), ('o', 'n')]"
            ]
          },
          "metadata": {},
          "execution_count": 119
        }
      ]
    },
    {
      "cell_type": "code",
      "source": [
        "for i in zip(s, s[1:]):\n",
        "    print(''.join(i))"
      ],
      "metadata": {
        "colab": {
          "base_uri": "https://localhost:8080/"
        },
        "id": "Nxt4NT5064Ow",
        "outputId": "93740f11-7d10-451c-e063-ec19a8a141c0"
      },
      "execution_count": null,
      "outputs": [
        {
          "output_type": "stream",
          "name": "stdout",
          "text": [
            "Py\n",
            "yt\n",
            "th\n",
            "ho\n",
            "on\n"
          ]
        }
      ]
    },
    {
      "cell_type": "code",
      "source": [
        "p = [1, 3, 5, 7, 11, 14, 19, 21, 22]\n",
        "list(zip(p, p[1:]))"
      ],
      "metadata": {
        "colab": {
          "base_uri": "https://localhost:8080/"
        },
        "id": "mP_be70r7JkX",
        "outputId": "18909b5a-f684-4c78-aa7c-8e3a99e0b5b7"
      },
      "execution_count": null,
      "outputs": [
        {
          "output_type": "execute_result",
          "data": {
            "text/plain": [
              "[(1, 3), (3, 5), (5, 7), (7, 11), (11, 14), (14, 19), (19, 21), (21, 22)]"
            ]
          },
          "metadata": {},
          "execution_count": 123
        }
      ]
    },
    {
      "cell_type": "code",
      "source": [
        "list(map(lambda x: x[1]-x[0], zip(p, p[1:])))"
      ],
      "metadata": {
        "colab": {
          "base_uri": "https://localhost:8080/"
        },
        "id": "c2qmfXEo7uY0",
        "outputId": "59b813e1-600c-439f-b424-dae1a8170536"
      },
      "execution_count": null,
      "outputs": [
        {
          "output_type": "execute_result",
          "data": {
            "text/plain": [
              "[2, 2, 2, 4, 3, 5, 2, 1]"
            ]
          },
          "metadata": {},
          "execution_count": 125
        }
      ]
    },
    {
      "cell_type": "markdown",
      "source": [
        "# 29번"
      ],
      "metadata": {
        "id": "AjV9Sv6B5Foa"
      }
    },
    {
      "cell_type": "code",
      "source": [
        "# 알파벳 하나만을 입력하고 그 알파벳이 대문자이면 YES를 아니면 NO를 출력하는 프로그램\n"
      ],
      "metadata": {
        "id": "Lq0hTf4O5Glz"
      },
      "execution_count": null,
      "outputs": []
    },
    {
      "cell_type": "code",
      "source": [
        "# 알파벳 여러개를 입력하고 여러개 입력한 것 중 대문자만 출력해주는 프로그램\n",
        "# 'HellO WoRld' -> HOWR\n",
        "\n",
        "for s in 'HellO WoRld':\n",
        "    if s.isupper(): # 코드의 의도가 가장 명확함\n",
        "        print(s)"
      ],
      "metadata": {
        "colab": {
          "base_uri": "https://localhost:8080/"
        },
        "id": "7GNgbx748gns",
        "outputId": "f239a96b-7016-432f-cf8a-f349a7ec278e"
      },
      "execution_count": null,
      "outputs": [
        {
          "output_type": "stream",
          "name": "stdout",
          "text": [
            "H\n",
            "O\n",
            "W\n",
            "R\n"
          ]
        }
      ]
    },
    {
      "cell_type": "code",
      "source": [
        "for s in 'HellO WoRld':\n",
        "    if s != s.lower():\n",
        "        print(s)"
      ],
      "metadata": {
        "colab": {
          "base_uri": "https://localhost:8080/"
        },
        "id": "hnIDS7PD8CP8",
        "outputId": "bf18121d-59c2-44f1-db8d-1fcff9d8895c"
      },
      "execution_count": null,
      "outputs": [
        {
          "output_type": "stream",
          "name": "stdout",
          "text": [
            "H\n",
            "O\n",
            "W\n",
            "R\n"
          ]
        }
      ]
    },
    {
      "cell_type": "code",
      "source": [
        "for s in 'HellO WoRld':\n",
        "    if 'A' <= s <= 'Z':\n",
        "        print(s)"
      ],
      "metadata": {
        "colab": {
          "base_uri": "https://localhost:8080/"
        },
        "id": "Uz10js8R8aw-",
        "outputId": "d400d0c2-dced-4c7e-ab0e-16877bcf7296"
      },
      "execution_count": null,
      "outputs": [
        {
          "output_type": "stream",
          "name": "stdout",
          "text": [
            "H\n",
            "O\n",
            "W\n",
            "R\n"
          ]
        }
      ]
    },
    {
      "cell_type": "markdown",
      "source": [
        "# 30번"
      ],
      "metadata": {
        "id": "bX5OlTHT5HDj"
      }
    },
    {
      "cell_type": "code",
      "source": [
        "# 입력으로 첫 줄에 문자열이 주어지고 둘째 줄에 찾을 문자가 주어지면 그 문자가 시작하는 index를 반환하는 프로그램\n",
        "\n",
        "'pineapple is yummy'.find('apple') # 없으면 -1\n",
        "'pineapple is yummy'.index('apple') # 없으면 error\n",
        "\n",
        "# 예를 들어 주기적으로 크롤링하는 코드가 있다면\n",
        "# find를 쓰셔서 error가 안나고 다음 코드로 넘어가게 코딩하실 수 있습니다.\n",
        "# 예외처리를 하는 것이 가장 좋습니다.\n",
        "# 정답: 목적에 맞게 사용하셔야 합니다."
      ],
      "metadata": {
        "colab": {
          "base_uri": "https://localhost:8080/"
        },
        "id": "mRuLJTtE5ITL",
        "outputId": "57bb5987-03bf-4a22-bdbd-f4df9153e65c"
      },
      "execution_count": null,
      "outputs": [
        {
          "output_type": "execute_result",
          "data": {
            "text/plain": [
              "4"
            ]
          },
          "metadata": {},
          "execution_count": 139
        }
      ]
    },
    {
      "cell_type": "code",
      "source": [
        "'pineapple is yummy apple'.find('apple')\n",
        "'pineapple is yummy apple'.index('apple')"
      ],
      "metadata": {
        "colab": {
          "base_uri": "https://localhost:8080/"
        },
        "id": "MsLg0jLy-q9-",
        "outputId": "5bea2c7b-8368-494e-fcc9-7a244ad618c4"
      },
      "execution_count": null,
      "outputs": [
        {
          "output_type": "execute_result",
          "data": {
            "text/plain": [
              "4"
            ]
          },
          "metadata": {},
          "execution_count": 144
        }
      ]
    },
    {
      "cell_type": "code",
      "source": [
        "'pineapple is yummy apple'.rfind('apple')\n",
        "'pineapple is yummy apple'.rindex('apple')"
      ],
      "metadata": {
        "colab": {
          "base_uri": "https://localhost:8080/"
        },
        "id": "Jd4csP4p9bK4",
        "outputId": "8973d4b1-b8f5-4361-9329-b6e14e9d93af"
      },
      "execution_count": null,
      "outputs": [
        {
          "output_type": "execute_result",
          "data": {
            "text/plain": [
              "19"
            ]
          },
          "metadata": {},
          "execution_count": 141
        }
      ]
    },
    {
      "cell_type": "code",
      "source": [
        "'pineapple is yummy apple'.find('apple', 10)\n",
        "'pineapple is yummy apple'.index('apple', 10)"
      ],
      "metadata": {
        "colab": {
          "base_uri": "https://localhost:8080/"
        },
        "id": "jzQWhSqM-gpc",
        "outputId": "f09fe765-fdc1-446f-9231-8f062b0e17a2"
      },
      "execution_count": null,
      "outputs": [
        {
          "output_type": "execute_result",
          "data": {
            "text/plain": [
              "19"
            ]
          },
          "metadata": {},
          "execution_count": 143
        }
      ]
    },
    {
      "cell_type": "markdown",
      "source": [
        "# 31번\n",
        "\n",
        "[파이썬 자료형의 복잡도](https://wayhome25.github.io/python/2017/06/14/time-complexity/)"
      ],
      "metadata": {
        "id": "Cydmoutq-64P"
      }
    },
    {
      "cell_type": "code",
      "source": [
        "# 다음 리스트의 내장함수의 시간 복잡도가 O(1)이 아닌것은?\n",
        "# 1)  l[i]\n",
        "# 2)  l.append(5)\n",
        "## 3)  l[a:b] -> O(b-a)\n",
        "# 4)  l.pop()\n",
        "# 5)  l.clear()"
      ],
      "metadata": {
        "id": "LnhS1NZu-nWb"
      },
      "execution_count": null,
      "outputs": []
    },
    {
      "cell_type": "code",
      "source": [
        "# slice 사용 경우 -> error 발생시키지 않기 위해\n",
        "l = [1, 2, 3, 4, 5]\n",
        "\n",
        "# l[10]  # out of range error\n",
        "l[10:11] # out of range error가 안나지만 기능은 같음"
      ],
      "metadata": {
        "colab": {
          "base_uri": "https://localhost:8080/"
        },
        "id": "QNNfi9AS-8Ps",
        "outputId": "9dd96f32-a6f7-4804-aed5-a3680c6b2c6b"
      },
      "execution_count": null,
      "outputs": [
        {
          "output_type": "execute_result",
          "data": {
            "text/plain": [
              "[]"
            ]
          },
          "metadata": {},
          "execution_count": 149
        }
      ]
    },
    {
      "cell_type": "markdown",
      "source": [
        "# 32번"
      ],
      "metadata": {
        "id": "ZS0Bz3Rq_-Ov"
      }
    },
    {
      "cell_type": "code",
      "source": [
        "# 문자열을 입력받으면 단어의 갯수를 출력하는 프로그램\n",
        "s = input()\n",
        "len(s.split(' '))"
      ],
      "metadata": {
        "colab": {
          "base_uri": "https://localhost:8080/"
        },
        "id": "3KLnTcg-_u1Q",
        "outputId": "1f990321-927e-40f2-ebe1-6d840319b761"
      },
      "execution_count": null,
      "outputs": [
        {
          "name": "stdout",
          "output_type": "stream",
          "text": [
            "My name is yelin.\n"
          ]
        },
        {
          "output_type": "execute_result",
          "data": {
            "text/plain": [
              "4"
            ]
          },
          "metadata": {},
          "execution_count": 187
        }
      ]
    },
    {
      "cell_type": "markdown",
      "source": [
        "# 33번"
      ],
      "metadata": {
        "id": "PaY4V3ItAD_9"
      }
    },
    {
      "cell_type": "code",
      "source": [
        "# 한 줄에 여러개의 숫자가 입력되면, 역순으로 그 숫자들을 하나씩 출력하는 프로그램\n",
        "n = input()\n",
        "list(map(int, n.split()))[::-1]"
      ],
      "metadata": {
        "colab": {
          "base_uri": "https://localhost:8080/"
        },
        "id": "_5-R35-hADkG",
        "outputId": "1e3ddc43-5aac-4a75-bf89-12356dd032f1"
      },
      "execution_count": null,
      "outputs": [
        {
          "name": "stdout",
          "output_type": "stream",
          "text": [
            "3 6 2 8 1 7\n"
          ]
        },
        {
          "output_type": "execute_result",
          "data": {
            "text/plain": [
              "[7, 1, 8, 2, 6, 3]"
            ]
          },
          "metadata": {},
          "execution_count": 190
        }
      ]
    },
    {
      "cell_type": "markdown",
      "source": [
        "# 34번"
      ],
      "metadata": {
        "id": "lE_Wj_jJAMYw"
      }
    },
    {
      "cell_type": "code",
      "source": [
        "# sort 확인\n",
        "# 키가 주어지면 순서대로 제대로 섰는지 확인하는 프로그램"
      ],
      "metadata": {
        "id": "i6AX68U8ALep"
      },
      "execution_count": null,
      "outputs": []
    },
    {
      "cell_type": "markdown",
      "source": [
        "# 35번 ** 중요 **"
      ],
      "metadata": {
        "id": "xmuslMFMAXRF"
      }
    },
    {
      "cell_type": "code",
      "source": [
        "# 2제곱, 3제곱, 4제곱을 할 수 있는 Factory 함수\n",
        "def one(n):\n",
        "    def two(value):\n",
        "        return value**n\n",
        "    return two\n",
        "\n",
        "a = one(2)\n",
        "b = one(3)\n",
        "c = one(4)\n",
        "print(a(10))\n",
        "print(b(10))\n",
        "print(c(10))"
      ],
      "metadata": {
        "colab": {
          "base_uri": "https://localhost:8080/"
        },
        "id": "KYPok3HtAWgk",
        "outputId": "5a1c8b59-43a7-495d-84f6-854d4e27786e"
      },
      "execution_count": null,
      "outputs": [
        {
          "output_type": "stream",
          "name": "stdout",
          "text": [
            "100\n",
            "1000\n",
            "10000\n"
          ]
        }
      ]
    },
    {
      "cell_type": "code",
      "source": [
        "# id, name, email이 각각 3번씩 반복\n",
        "# 이러한 현상을 보일러 플레이트(boiler-plate)라 함\n",
        "# print를 해도 필드값이 보이지 않아 불편\n",
        "class User:\n",
        "    def __init__(self, id, name, email):\n",
        "        self.id = id\n",
        "        self.name = name\n",
        "        self.email = email\n",
        "\n",
        "    def __repr__(self):\n",
        "        return (f'{self.__class__.__qualname__}{self.id, self.name, self.email}')\n",
        "\n",
        "user = User(123, 'hojun', 'hojun@gmail')\n",
        "user"
      ],
      "metadata": {
        "colab": {
          "base_uri": "https://localhost:8080/"
        },
        "id": "uJkooZIKDgy-",
        "outputId": "73c43c33-a17d-4930-86fc-1233b321f273"
      },
      "execution_count": null,
      "outputs": [
        {
          "output_type": "execute_result",
          "data": {
            "text/plain": [
              "User(123, 'hojun', 'hojun@gmail')"
            ]
          },
          "metadata": {},
          "execution_count": 160
        }
      ]
    },
    {
      "cell_type": "code",
      "source": [
        "from dataclasses import dataclass\n",
        "\n",
        "@dataclass\n",
        "class User:\n",
        "    id: int\n",
        "    name: str\n",
        "    email : str\n",
        "\n",
        "user = User(123, 'hojun', 'hojun@gmail')\n",
        "user"
      ],
      "metadata": {
        "colab": {
          "base_uri": "https://localhost:8080/"
        },
        "id": "ZZ1TLnqIDjjf",
        "outputId": "361c5248-eb8c-4b0f-b87b-5114cb3dd9ff"
      },
      "execution_count": null,
      "outputs": [
        {
          "output_type": "execute_result",
          "data": {
            "text/plain": [
              "User(id=123, name='hojun', email='hojun@gmail')"
            ]
          },
          "metadata": {},
          "execution_count": 162
        }
      ]
    },
    {
      "cell_type": "code",
      "source": [
        "# 객체지향 프로그래밍 예제\n",
        "class Book:\n",
        "    def __init__(self, title, content, author, pub_date):\n",
        "        self.title = title\n",
        "        self.content = content\n",
        "        self.author = author\n",
        "        self.pub_date = pub_date\n",
        "\n",
        "    def calculate_date(self):\n",
        "         self.pub_date - self.current_date"
      ],
      "metadata": {
        "id": "NdeyLDbMCFdG"
      },
      "execution_count": null,
      "outputs": []
    },
    {
      "cell_type": "code",
      "source": [
        "# 1. 함수를 변수에 할당할 수 있습니다.\n",
        "# 2. 함수를 데이터 구조에 저장할 수 있습니다.\n",
        "# 3. 함수를 인자로 다른 함수에 전달할 수 있습니다.\n",
        "# 4. 함수를 결과로서 반환할 수 있습니다."
      ],
      "metadata": {
        "id": "8zGoYVCdD03o"
      },
      "execution_count": null,
      "outputs": []
    },
    {
      "cell_type": "code",
      "source": [
        "def add(x, y):\n",
        "    return x+y\n",
        "x = add\n",
        "x(10, 20)"
      ],
      "metadata": {
        "colab": {
          "base_uri": "https://localhost:8080/"
        },
        "id": "5sZ3FwKkyxlV",
        "outputId": "e817d7fa-0607-4976-c545-633d287af5e5"
      },
      "execution_count": null,
      "outputs": [
        {
          "output_type": "execute_result",
          "data": {
            "text/plain": [
              "30"
            ]
          },
          "metadata": {},
          "execution_count": 1
        }
      ]
    },
    {
      "cell_type": "code",
      "source": [
        "id(x), id(add)"
      ],
      "metadata": {
        "colab": {
          "base_uri": "https://localhost:8080/"
        },
        "id": "x8DwT3D5y7RI",
        "outputId": "e0c5cfda-a175-4fe3-8085-4366859d4c7e"
      },
      "execution_count": null,
      "outputs": [
        {
          "output_type": "execute_result",
          "data": {
            "text/plain": [
              "(139626571079904, 139626571079904)"
            ]
          },
          "metadata": {},
          "execution_count": 2
        }
      ]
    },
    {
      "cell_type": "code",
      "source": [
        "test = [x, add]\n",
        "test[0](10, 20)"
      ],
      "metadata": {
        "colab": {
          "base_uri": "https://localhost:8080/"
        },
        "id": "g_rPgBj1y96j",
        "outputId": "d26378e7-a532-47fb-c513-e937fadf7fb2"
      },
      "execution_count": null,
      "outputs": [
        {
          "output_type": "execute_result",
          "data": {
            "text/plain": [
              "30"
            ]
          },
          "metadata": {},
          "execution_count": 3
        }
      ]
    },
    {
      "cell_type": "code",
      "source": [
        "def add():\n",
        "    return lambda x: x**2\n",
        "x = add()\n",
        "x(10)"
      ],
      "metadata": {
        "colab": {
          "base_uri": "https://localhost:8080/"
        },
        "id": "Vv4ylMgnzDM_",
        "outputId": "a5cab9ac-68b4-4ce1-c31f-ff2e521f8c8c"
      },
      "execution_count": null,
      "outputs": [
        {
          "output_type": "execute_result",
          "data": {
            "text/plain": [
              "100"
            ]
          },
          "metadata": {},
          "execution_count": 4
        }
      ]
    },
    {
      "cell_type": "code",
      "source": [
        "def add():\n",
        "    return lambda x: x**2\n",
        "add()(10)"
      ],
      "metadata": {
        "colab": {
          "base_uri": "https://localhost:8080/"
        },
        "id": "P9kcHwIEzeiQ",
        "outputId": "b0eb04de-101e-4267-96b9-1ee21eb1aa92"
      },
      "execution_count": null,
      "outputs": [
        {
          "output_type": "execute_result",
          "data": {
            "text/plain": [
              "100"
            ]
          },
          "metadata": {},
          "execution_count": 5
        }
      ]
    },
    {
      "cell_type": "code",
      "source": [
        "def add(x, y):\n",
        "    def test(x):\n",
        "        return x*2\n",
        "    test(x)\n",
        "    return 'hello'\n",
        "add(10, 20)"
      ],
      "metadata": {
        "id": "cipZrPoMz0FE",
        "outputId": "2e5d6aa3-5423-46a7-d2bc-eebde223ded7",
        "colab": {
          "base_uri": "https://localhost:8080/",
          "height": 35
        }
      },
      "execution_count": null,
      "outputs": [
        {
          "output_type": "execute_result",
          "data": {
            "text/plain": [
              "'hello'"
            ],
            "application/vnd.google.colaboratory.intrinsic+json": {
              "type": "string"
            }
          },
          "metadata": {},
          "execution_count": 6
        }
      ]
    },
    {
      "cell_type": "code",
      "source": [
        "def sub(x, y):\n",
        "    return x - y\n",
        "def add(x, y, f):\n",
        "    def test(x):\n",
        "        return x * 2\n",
        "    test(x)\n",
        "    return 'hello'\n",
        "\n",
        "add(10, 20, sub) # call back 함수\n",
        "\n",
        "# map(int, ['1', '2']) # int를 콜백 함수라고도 부름"
      ],
      "metadata": {
        "id": "skaaWxBk0WWY",
        "outputId": "91d87568-b268-4e0b-fc4f-b98d18c495cc",
        "colab": {
          "base_uri": "https://localhost:8080/",
          "height": 35
        }
      },
      "execution_count": 9,
      "outputs": [
        {
          "output_type": "execute_result",
          "data": {
            "text/plain": [
              "'hello'"
            ],
            "application/vnd.google.colaboratory.intrinsic+json": {
              "type": "string"
            }
          },
          "metadata": {},
          "execution_count": 9
        }
      ]
    },
    {
      "cell_type": "markdown",
      "source": [
        "## 데코레이터"
      ],
      "metadata": {
        "id": "WSqjTQYJ5Qbv"
      }
    },
    {
      "cell_type": "code",
      "source": [
        "def simple_decorator(function):\n",
        "    def wrapper():\n",
        "        print(\"Before the function call\")\n",
        "        function()\n",
        "        print(\"After the function call\")\n",
        "    return wrapper\n",
        "\n",
        "@simple_decorator\n",
        "def hello():\n",
        "    print(\"Hello, World!\")\n",
        "\n",
        "hello() # 데코레이터가 없는 상태에서는 simple_decorator(hello)() 와 같습니다."
      ],
      "metadata": {
        "colab": {
          "base_uri": "https://localhost:8080/"
        },
        "id": "Ahn3GGUj1FEr",
        "outputId": "27a94b36-2d23-4949-c1b1-b685057294ab"
      },
      "execution_count": 10,
      "outputs": [
        {
          "output_type": "stream",
          "name": "stdout",
          "text": [
            "Before the function call\n",
            "Hello, World!\n",
            "After the function call\n"
          ]
        }
      ]
    },
    {
      "cell_type": "code",
      "source": [
        "def simple_decorator(function):\n",
        "    def wrapper(l):\n",
        "        print(\"Before the function call\")\n",
        "        print(function(map(int, l)))\n",
        "        print(\"After the function call\")\n",
        "    return wrapper\n",
        "\n",
        "@simple_decorator\n",
        "def 합(l):\n",
        "    return sum(l)\n",
        "\n",
        "합([1, 2, 3, '4'])"
      ],
      "metadata": {
        "colab": {
          "base_uri": "https://localhost:8080/"
        },
        "id": "DbUGrV1F2Apn",
        "outputId": "f0a9f515-6fdc-48d9-c716-647040b5f2ab"
      },
      "execution_count": 11,
      "outputs": [
        {
          "output_type": "stream",
          "name": "stdout",
          "text": [
            "Before the function call\n",
            "10\n",
            "After the function call\n"
          ]
        }
      ]
    },
    {
      "cell_type": "code",
      "source": [
        "def debug(function):\n",
        "    def new_function(*args):\n",
        "        print(f'{function.__name__} 함수 시작')\n",
        "        print(*args)\n",
        "        result = function(*args)\n",
        "        print(f'{function.__name__} 함수 끝')\n",
        "        # return result # return 값이 있는 데코레이터는 바로 뒤에서 진행합니다.\n",
        "\n",
        "    return new_function\n",
        "\n",
        "@debug\n",
        "def sum_1_to_n(n):\n",
        "    return n * (n + 1) / 2\n",
        "\n",
        "result = sum_1_to_n(30)\n",
        "\n",
        "print(result)"
      ],
      "metadata": {
        "colab": {
          "base_uri": "https://localhost:8080/"
        },
        "id": "-Dxd7R9c2CWT",
        "outputId": "7c1e82be-4409-4aad-f480-d3a63d53aa54"
      },
      "execution_count": 13,
      "outputs": [
        {
          "output_type": "stream",
          "name": "stdout",
          "text": [
            "sum_1_to_n 함수 시작\n",
            "30\n",
            "sum_1_to_n 함수 끝\n",
            "None\n"
          ]
        }
      ]
    },
    {
      "cell_type": "code",
      "source": [
        "def test(*args):\n",
        "    for i in args:\n",
        "        print(i)\n",
        "\n",
        "test(1, 2, 3, 4, 5, 'hello world')"
      ],
      "metadata": {
        "colab": {
          "base_uri": "https://localhost:8080/"
        },
        "id": "Pz7jyf772Y4U",
        "outputId": "67e9b3bd-ebb9-4941-af94-a0e7e39c2c35"
      },
      "execution_count": 14,
      "outputs": [
        {
          "output_type": "stream",
          "name": "stdout",
          "text": [
            "1\n",
            "2\n",
            "3\n",
            "4\n",
            "5\n",
            "hello world\n"
          ]
        }
      ]
    },
    {
      "cell_type": "code",
      "source": [
        "def test(**kargs):\n",
        "    print(kargs)\n",
        "    for i in kargs:\n",
        "        print(i)\n",
        "\n",
        "test(one=1, two=2, three=3)"
      ],
      "metadata": {
        "colab": {
          "base_uri": "https://localhost:8080/"
        },
        "id": "vwLg36p926Du",
        "outputId": "335082bc-63a2-43a0-ec8c-d9bbd9dd0d5a"
      },
      "execution_count": 16,
      "outputs": [
        {
          "output_type": "stream",
          "name": "stdout",
          "text": [
            "{'one': 1, 'two': 2, 'three': 3}\n",
            "one\n",
            "two\n",
            "three\n"
          ]
        }
      ]
    },
    {
      "cell_type": "code",
      "source": [
        "def decorator1(function):\n",
        "    def new_function(*args, **kwargs):\n",
        "        print('첫번째 데코레이터 시작')\n",
        "        result = function(*args, **kwargs)\n",
        "        print('첫번째 데코레이터 끝')\n",
        "        return result\n",
        "    return new_function\n",
        "\n",
        "def decorator2(function):\n",
        "    def new_function(*args, **kwargs):\n",
        "        print('두번째 데코레이터 시작')\n",
        "        result = function(*args, **kwargs)\n",
        "        print('두번째 데코레이터 끝')\n",
        "        return result\n",
        "    return new_function\n",
        "\n",
        "def decorator3(function):\n",
        "    def new_function(*args, **kwargs):\n",
        "        print('세번째 데코레이터 시작')\n",
        "        result = function(*args, **kwargs)\n",
        "        print('세번째 데코레이터 끝')\n",
        "        return result\n",
        "    return new_function\n",
        "\n",
        "@decorator1\n",
        "@decorator2\n",
        "@decorator3\n",
        "def sum_1_to_n(n):\n",
        "    return n * (n + 1) / 2\n",
        "\n",
        "result = sum_1_to_n(30)\n",
        "\n",
        "print(f'result: {result}')"
      ],
      "metadata": {
        "colab": {
          "base_uri": "https://localhost:8080/"
        },
        "id": "ecbJnAqo3YMN",
        "outputId": "719dc33d-8350-4cd5-cd9f-ab3538768f57"
      },
      "execution_count": 18,
      "outputs": [
        {
          "output_type": "stream",
          "name": "stdout",
          "text": [
            "첫번째 데코레이터 시작\n",
            "두번째 데코레이터 시작\n",
            "세번째 데코레이터 시작\n",
            "세번째 데코레이터 끝\n",
            "두번째 데코레이터 끝\n",
            "첫번째 데코레이터 끝\n",
            "result: 465.0\n"
          ]
        }
      ]
    },
    {
      "cell_type": "code",
      "source": [
        "def add(n):\n",
        "    def decorator(function):\n",
        "        def new_function(*args, **kwargs):\n",
        "            result = function(*args, **kwargs)\n",
        "            return result + n\n",
        "        return new_function\n",
        "    return decorator\n",
        "\n",
        "@add(10)\n",
        "def plus(a, b):\n",
        "    return a + b\n",
        "\n",
        "result = plus(10, 20)\n",
        "print(f'result : {result}')"
      ],
      "metadata": {
        "colab": {
          "base_uri": "https://localhost:8080/"
        },
        "id": "r1ND8dm748Nb",
        "outputId": "bc2f32d7-a46a-4013-ec97-3ab170a558cc"
      },
      "execution_count": 20,
      "outputs": [
        {
          "output_type": "stream",
          "name": "stdout",
          "text": [
            "result : 40\n"
          ]
        }
      ]
    },
    {
      "cell_type": "markdown",
      "source": [
        "# 36번"
      ],
      "metadata": {
        "id": "5WfxVHnYBHoZ"
      }
    },
    {
      "cell_type": "code",
      "source": [
        "n = 2\n",
        "for i in range(1, 10):\n",
        "    print(n*i, end=' ')"
      ],
      "metadata": {
        "colab": {
          "base_uri": "https://localhost:8080/"
        },
        "id": "fRGpJvTfAvOh",
        "outputId": "1dd81ab6-dd15-45bb-b03a-3b6981c5ad4d"
      },
      "execution_count": null,
      "outputs": [
        {
          "output_type": "stream",
          "name": "stdout",
          "text": [
            "2 4 6 8 10 12 14 16 18 "
          ]
        }
      ]
    },
    {
      "cell_type": "code",
      "source": [
        "# 1부터 10000까지 8이라는 숫자를 count하라\n",
        "str(list(range(10000))).count('8')"
      ],
      "metadata": {
        "colab": {
          "base_uri": "https://localhost:8080/"
        },
        "id": "JPpnAvvD5bt8",
        "outputId": "09b51b9a-79d9-4123-8b89-9f215426ee9c"
      },
      "execution_count": 21,
      "outputs": [
        {
          "output_type": "execute_result",
          "data": {
            "text/plain": [
              "4000"
            ]
          },
          "metadata": {},
          "execution_count": 21
        }
      ]
    },
    {
      "cell_type": "markdown",
      "source": [
        "# 37번"
      ],
      "metadata": {
        "id": "WBqwdsA0Bm-S"
      }
    },
    {
      "cell_type": "code",
      "source": [
        "# 입력 : 원범 원범 혜원 혜원 혜원 혜원 유진 유진\n",
        "# 출력 : 혜원(이)가 총 4표로 반장이 되었습니다."
      ],
      "metadata": {
        "id": "1gULckzLBZzT"
      },
      "execution_count": null,
      "outputs": []
    },
    {
      "cell_type": "markdown",
      "source": [
        "# 38번"
      ],
      "metadata": {
        "id": "OjMvr-HW59td"
      }
    },
    {
      "cell_type": "code",
      "source": [
        "l = set(map(int, '97 86 75 66 55 97 85 97 97 95'.split(' ')))\n",
        "sorted(l, reverse=True)[:3]"
      ],
      "metadata": {
        "colab": {
          "base_uri": "https://localhost:8080/"
        },
        "id": "vxKpne6y5_O4",
        "outputId": "54ce310b-8b24-4ba5-abb0-92caf5a7af3d"
      },
      "execution_count": 33,
      "outputs": [
        {
          "output_type": "execute_result",
          "data": {
            "text/plain": [
              "[97, 95, 86]"
            ]
          },
          "metadata": {},
          "execution_count": 33
        }
      ]
    },
    {
      "cell_type": "code",
      "source": [
        "list(reversed(sorted(set(map(int, '97 86 75 66 55 97 85 97 97 95'.split(' '))))))[:3]"
      ],
      "metadata": {
        "colab": {
          "base_uri": "https://localhost:8080/"
        },
        "id": "RcGizfEW6o4X",
        "outputId": "9bc25879-6861-447e-d5a9-5964f6a6e8a9"
      },
      "execution_count": 34,
      "outputs": [
        {
          "output_type": "execute_result",
          "data": {
            "text/plain": [
              "[97, 95, 86]"
            ]
          },
          "metadata": {},
          "execution_count": 34
        }
      ]
    },
    {
      "cell_type": "code",
      "source": [
        "# 1자리 점수가 등수에 들어갔을 때는 오류가 남\n",
        "def solution(s):\n",
        "    answer = 0\n",
        "    splitdata = map(int, s.split(' '))\n",
        "    for i in list(reversed(sorted(set(splitdata))))[:3]:\n",
        "        answer += s.count(str(i))\n",
        "    return answer\n",
        "solution('97 86 75 66 55 97 85 97 97 95')"
      ],
      "metadata": {
        "colab": {
          "base_uri": "https://localhost:8080/"
        },
        "id": "7F-lUiyN_0J_",
        "outputId": "8af2f06a-ec2a-492f-c6a6-0250a0c75ae7"
      },
      "execution_count": 40,
      "outputs": [
        {
          "output_type": "execute_result",
          "data": {
            "text/plain": [
              "6"
            ]
          },
          "metadata": {},
          "execution_count": 40
        }
      ]
    },
    {
      "cell_type": "code",
      "source": [
        "# map으로 된 데이터가 왜 한 번만 순회가 되었는지\n",
        "# https://www.notion.so/paullabworkspace/python-zip-b7a1992be7884891a5f1d0a5c0c2df9c?pvs=4\n",
        "\n",
        "def solution(s):\n",
        "    answer = 0\n",
        "    # splitdata = map(int, s.split(' '))\n",
        "    splitdata = list(map(int, s.split(' ')))\n",
        "    for i in list(reversed(sorted(set(splitdata))))[:3]:\n",
        "        for j in splitdata:\n",
        "            if i == j:\n",
        "                answer += 1\n",
        "    return answer\n",
        "solution('97 86 75 66 55 97 85 97 97 95')"
      ],
      "metadata": {
        "colab": {
          "base_uri": "https://localhost:8080/"
        },
        "id": "QslRHM2ZAogF",
        "outputId": "91a8b71e-c748-47a1-b71f-c8eaf3a01d23"
      },
      "execution_count": 45,
      "outputs": [
        {
          "output_type": "execute_result",
          "data": {
            "text/plain": [
              "6"
            ]
          },
          "metadata": {},
          "execution_count": 45
        }
      ]
    },
    {
      "cell_type": "code",
      "source": [
        "import collections\n",
        "\n",
        "collections.Counter('97 86 75 66 55 97 85 97 97 95'.split(' '))"
      ],
      "metadata": {
        "colab": {
          "base_uri": "https://localhost:8080/"
        },
        "id": "ytNUjetMDWQr",
        "outputId": "f05acb74-da9b-4417-dcbb-179cb82d527b"
      },
      "execution_count": 48,
      "outputs": [
        {
          "output_type": "execute_result",
          "data": {
            "text/plain": [
              "Counter({'97': 4, '86': 1, '75': 1, '66': 1, '55': 1, '85': 1, '95': 1})"
            ]
          },
          "metadata": {},
          "execution_count": 48
        }
      ]
    },
    {
      "cell_type": "code",
      "source": [
        "data = input().split()\n",
        "data = [int(i) for i in data]\n",
        "count = 0\n",
        "\n",
        "if len(set(data)) <= 3:\n",
        "    count = len(data)\n",
        "else:\n",
        "    break_point = sorted(list(set(data)), reverse=True)[3]\n",
        "    data_sorted = sorted(data, reverse=True)\n",
        "    for i in data_sorted:\n",
        "        if break_point == i:\n",
        "            break\n",
        "        else:\n",
        "            count += 1\n",
        "\n",
        "print(count)"
      ],
      "metadata": {
        "colab": {
          "base_uri": "https://localhost:8080/"
        },
        "id": "qb5uZIeeCUk2",
        "outputId": "c2f1247a-9a3e-4295-bc5c-48023a9137bf"
      },
      "execution_count": 46,
      "outputs": [
        {
          "output_type": "stream",
          "name": "stdout",
          "text": [
            "97 86 75 66 55 97 85 97 97 95\n",
            "6\n"
          ]
        }
      ]
    },
    {
      "cell_type": "markdown",
      "source": [
        "# 39번"
      ],
      "metadata": {
        "id": "Zu92VwuzDq6q"
      }
    },
    {
      "cell_type": "code",
      "source": [
        "# 문장이 입력되면 모든 q를 e로, b를 n으로 바꾸는 프로그램\n",
        "\n",
        "'querty'.replace('q', 'e').replace('b', 'n')"
      ],
      "metadata": {
        "colab": {
          "base_uri": "https://localhost:8080/",
          "height": 35
        },
        "id": "K0XnHSoYCWUI",
        "outputId": "90c54726-2289-402b-82ff-5f0afa269bff"
      },
      "execution_count": 49,
      "outputs": [
        {
          "output_type": "execute_result",
          "data": {
            "text/plain": [
              "'euerty'"
            ],
            "application/vnd.google.colaboratory.intrinsic+json": {
              "type": "string"
            }
          },
          "metadata": {},
          "execution_count": 49
        }
      ]
    },
    {
      "cell_type": "code",
      "source": [
        "# https://github.com/paullabkorea/Algorithm-walk-with-wenivs/blob/main/3.%20pyalgo%20%ED%92%80%EC%9D%B4/%EC%A0%95%EA%B7%9C%ED%91%9C%ED%98%84%EC%8B%9D.ipynb\n",
        "import re\n",
        "\n",
        "result = re.sub('q', 'e', 'querbty')\n",
        "result = re.sub('b', 'n', result)\n",
        "result"
      ],
      "metadata": {
        "colab": {
          "base_uri": "https://localhost:8080/",
          "height": 35
        },
        "id": "UTuMuaL9D_Ft",
        "outputId": "32581943-e36c-4c04-eb99-73f065eebe17"
      },
      "execution_count": 52,
      "outputs": [
        {
          "output_type": "execute_result",
          "data": {
            "text/plain": [
              "'euernty'"
            ],
            "application/vnd.google.colaboratory.intrinsic+json": {
              "type": "string"
            }
          },
          "metadata": {},
          "execution_count": 52
        }
      ]
    },
    {
      "cell_type": "markdown",
      "source": [
        "# 40번"
      ],
      "metadata": {
        "id": "RyFj5_rfGUig"
      }
    },
    {
      "cell_type": "code",
      "source": [
        "# 첫번째 줄에서 제한 무게가 주어지고 두번째 줄에서는 함께한 친구들의 수 n이 주어집니다.\n",
        "# 그 다음 차례대로 탑승할 친구들의 몸무게가 주어집니다. 몸무게는 무작위로 주어집니다."
      ],
      "metadata": {
        "id": "Tj7VuyD-GVsu"
      },
      "execution_count": null,
      "outputs": []
    },
    {
      "cell_type": "markdown",
      "source": [
        "# 41번"
      ],
      "metadata": {
        "id": "yt17dKtjGbEc"
      }
    },
    {
      "cell_type": "code",
      "source": [
        "# 숫자가 주어지면 소수인지 아닌지 판별하는 프로그램\n",
        "# 소수이면 YES로, 소수가 아니면 NO로 출력\n",
        "# 소수 : 1과 자기 자신만으로 나누어떨어지는 1보다 큰 양의 정수\n",
        "# 음의 소수는 고려하지 않습니다."
      ],
      "metadata": {
        "id": "B6FKMv2IGcCX"
      },
      "execution_count": null,
      "outputs": []
    },
    {
      "cell_type": "code",
      "source": [
        "def prime_list(n):\n",
        "    # 에라토스테네스의 체 초기화: n개 요소에 True 설정(소수로 간주)\n",
        "    sieve = [True] * n\n",
        "\n",
        "    # n의 최대 약수가 sqrt(n) 이하이므로 i=sqrt(n)까지 검사\n",
        "    m = int(n ** 0.5)\n",
        "    for i in range(2, m + 1):\n",
        "        if sieve[i] == True:           # i가 소수인 경우\n",
        "            for j in range(i+i, n, i): # i이후 i의 배수들을 False 판정\n",
        "                sieve[j] = False\n",
        "    print(sieve) # 0부터 시작해서 i가 소수인경우 True\n",
        "    # 소수 목록 산출\n",
        "    return [i for i in range(2, n) if sieve[i] == True]\n",
        "prime_list(100)"
      ],
      "metadata": {
        "colab": {
          "base_uri": "https://localhost:8080/"
        },
        "id": "2dcpvyprH7sL",
        "outputId": "5a8b3ff6-6e05-4a17-bc85-6e78112a8945"
      },
      "execution_count": 55,
      "outputs": [
        {
          "output_type": "stream",
          "name": "stdout",
          "text": [
            "[True, True, True, True, False, True, False, True, False, False, False, True, False, True, False, False, False, True, False, True, False, False, False, True, False, False, False, False, False, True, False, True, False, False, False, False, False, True, False, False, False, True, False, True, False, False, False, True, False, False, False, False, False, True, False, False, False, False, False, True, False, True, False, False, False, False, False, True, False, False, False, True, False, True, False, False, False, False, False, True, False, False, False, True, False, False, False, False, False, True, False, False, False, False, False, False, False, True, False, False]\n"
          ]
        },
        {
          "output_type": "execute_result",
          "data": {
            "text/plain": [
              "[2,\n",
              " 3,\n",
              " 5,\n",
              " 7,\n",
              " 11,\n",
              " 13,\n",
              " 17,\n",
              " 19,\n",
              " 23,\n",
              " 29,\n",
              " 31,\n",
              " 37,\n",
              " 41,\n",
              " 43,\n",
              " 47,\n",
              " 53,\n",
              " 59,\n",
              " 61,\n",
              " 67,\n",
              " 71,\n",
              " 73,\n",
              " 79,\n",
              " 83,\n",
              " 89,\n",
              " 97]"
            ]
          },
          "metadata": {},
          "execution_count": 55
        }
      ]
    },
    {
      "cell_type": "markdown",
      "source": [
        "# 42번"
      ],
      "metadata": {
        "id": "T9vdZuMQGeWZ"
      }
    },
    {
      "cell_type": "code",
      "source": [
        "# 두 수 a, b를 입력받아 2020년 a월 b일이 무슨 요일인지 리턴하는 함수\n",
        "import datetime\n",
        "\n",
        "date = datetime.datetime.today()\n",
        "date"
      ],
      "metadata": {
        "colab": {
          "base_uri": "https://localhost:8080/"
        },
        "id": "4HKEMTacGfGl",
        "outputId": "2d815894-de19-4317-cc04-b1299d2e4fa2"
      },
      "execution_count": 56,
      "outputs": [
        {
          "output_type": "execute_result",
          "data": {
            "text/plain": [
              "datetime.datetime(2023, 8, 10, 2, 9, 18, 855642)"
            ]
          },
          "metadata": {},
          "execution_count": 56
        }
      ]
    },
    {
      "cell_type": "code",
      "source": [
        "date.year, date.month, date.day"
      ],
      "metadata": {
        "colab": {
          "base_uri": "https://localhost:8080/"
        },
        "id": "AAKfYQW3NLDg",
        "outputId": "1db3c83a-15d2-4a65-cdd8-8b58ee42538e"
      },
      "execution_count": 57,
      "outputs": [
        {
          "output_type": "execute_result",
          "data": {
            "text/plain": [
              "(2023, 8, 10)"
            ]
          },
          "metadata": {},
          "execution_count": 57
        }
      ]
    },
    {
      "cell_type": "code",
      "source": [
        "datetime.date(2023, 8, 10).weekday()"
      ],
      "metadata": {
        "colab": {
          "base_uri": "https://localhost:8080/"
        },
        "id": "Bl5jgZKFNR2M",
        "outputId": "aebd946d-f47a-4ee5-c394-4e8fdb216a85"
      },
      "execution_count": 58,
      "outputs": [
        {
          "output_type": "execute_result",
          "data": {
            "text/plain": [
              "3"
            ]
          },
          "metadata": {},
          "execution_count": 58
        }
      ]
    },
    {
      "cell_type": "markdown",
      "source": [
        "# 43번"
      ],
      "metadata": {
        "id": "FMVM1r3vM9ZR"
      }
    },
    {
      "cell_type": "code",
      "source": [
        "# 사용자에게 숫자를 입력받고 이를 2진수를 바꾸고 그 값을 출력해주세요.\n",
        "# (bin 함수를 사용하지 않고 풀어주세요.)"
      ],
      "metadata": {
        "id": "SraY7vqsNByx"
      },
      "execution_count": 61,
      "outputs": []
    },
    {
      "cell_type": "code",
      "source": [
        "bin(11)[2:]"
      ],
      "metadata": {
        "colab": {
          "base_uri": "https://localhost:8080/",
          "height": 35
        },
        "id": "JGkohOFjOFqP",
        "outputId": "0b46f858-8adb-4f05-b712-92dbb43a5179"
      },
      "execution_count": 62,
      "outputs": [
        {
          "output_type": "execute_result",
          "data": {
            "text/plain": [
              "'1011'"
            ],
            "application/vnd.google.colaboratory.intrinsic+json": {
              "type": "string"
            }
          },
          "metadata": {},
          "execution_count": 62
        }
      ]
    },
    {
      "cell_type": "code",
      "source": [
        "# 음수 변환까지 하려면 좀 더 고려를 해야함\n",
        "x = 11\n",
        "s = ''\n",
        "while x:\n",
        "    print(x)\n",
        "    s += str(x % 2)\n",
        "    x = x // 2\n",
        "s[::-1]\n",
        "\n",
        "# 2 | 11 ... 1\n",
        "#    ---\n",
        "# 2 |  5 ... 1\n",
        "#    ---\n",
        "# 2 |  2 ... 0\n",
        "#    ---\n",
        "# 2 |  1"
      ],
      "metadata": {
        "colab": {
          "base_uri": "https://localhost:8080/",
          "height": 105
        },
        "id": "U78SbgmDOGs6",
        "outputId": "eb7a12aa-fa83-413a-fb62-93e82842af99"
      },
      "execution_count": 66,
      "outputs": [
        {
          "output_type": "stream",
          "name": "stdout",
          "text": [
            "11\n",
            "5\n",
            "2\n",
            "1\n"
          ]
        },
        {
          "output_type": "execute_result",
          "data": {
            "text/plain": [
              "'1011'"
            ],
            "application/vnd.google.colaboratory.intrinsic+json": {
              "type": "string"
            }
          },
          "metadata": {},
          "execution_count": 66
        }
      ]
    },
    {
      "cell_type": "markdown",
      "source": [
        "# 44번"
      ],
      "metadata": {
        "id": "rNwHc4JRPx8q"
      }
    },
    {
      "cell_type": "code",
      "source": [
        "# 사용자가 입력한 양의 정수의 각 자리수의 합을 구하는 프로그램\n",
        "n = 1234\n",
        "answer = 0\n",
        "for i in str(n):\n",
        "    answer += int(i)\n",
        "answer"
      ],
      "metadata": {
        "colab": {
          "base_uri": "https://localhost:8080/"
        },
        "id": "Bw808pyfPqB_",
        "outputId": "056e4d37-c6a5-4d8b-e40e-6d8aec180d68"
      },
      "execution_count": 68,
      "outputs": [
        {
          "output_type": "execute_result",
          "data": {
            "text/plain": [
              "10"
            ]
          },
          "metadata": {},
          "execution_count": 68
        }
      ]
    },
    {
      "cell_type": "code",
      "source": [
        "n = 1234\n",
        "sum(map(int, list(str(n))))"
      ],
      "metadata": {
        "colab": {
          "base_uri": "https://localhost:8080/"
        },
        "id": "8y_jaKXcP5OI",
        "outputId": "f80804c5-11f1-447f-8e99-6701f7ddd847"
      },
      "execution_count": 69,
      "outputs": [
        {
          "output_type": "execute_result",
          "data": {
            "text/plain": [
              "10"
            ]
          },
          "metadata": {},
          "execution_count": 69
        }
      ]
    },
    {
      "cell_type": "markdown",
      "source": [
        "# 45번"
      ],
      "metadata": {
        "id": "DXHxF6p4QT50"
      }
    },
    {
      "cell_type": "code",
      "source": [],
      "metadata": {
        "id": "mxertkkaQGbi"
      },
      "execution_count": null,
      "outputs": []
    },
    {
      "cell_type": "markdown",
      "source": [
        "# 46번"
      ],
      "metadata": {
        "id": "-tGY9EAZQVyb"
      }
    },
    {
      "cell_type": "code",
      "source": [],
      "metadata": {
        "id": "JxYBMQ5oQW0q"
      },
      "execution_count": null,
      "outputs": []
    },
    {
      "cell_type": "markdown",
      "source": [
        "# 47번"
      ],
      "metadata": {
        "id": "sNtcVUYHQbkq"
      }
    },
    {
      "cell_type": "code",
      "source": [
        "people = [('이호준', '01050442903'),\n",
        "          ('이호상', '01051442904'),\n",
        "          ('이준호', '01050342904'),\n",
        "          ('이호준', '01050442903'),\n",
        "          ('이준', '01050412904'),\n",
        "          ('이호', '01050443904'),\n",
        "          ('이호준', '01050442903'),]\n",
        "len(set(people))"
      ],
      "metadata": {
        "colab": {
          "base_uri": "https://localhost:8080/"
        },
        "id": "Y34MYxiOQcdk",
        "outputId": "8f0ca949-fe49-456f-fb46-0870ed2d66ee"
      },
      "execution_count": 71,
      "outputs": [
        {
          "output_type": "execute_result",
          "data": {
            "text/plain": [
              "5"
            ]
          },
          "metadata": {},
          "execution_count": 71
        }
      ]
    },
    {
      "cell_type": "markdown",
      "source": [
        "# 48번"
      ],
      "metadata": {
        "id": "i8_0IVt4Q_BR"
      }
    },
    {
      "cell_type": "code",
      "source": [
        "answer = ''\n",
        "for i in 'AAABBBcccddd':\n",
        "    if i.islower():\n",
        "        answer += i.upper()\n",
        "    else:\n",
        "        answer += i.lower()\n",
        "answer"
      ],
      "metadata": {
        "colab": {
          "base_uri": "https://localhost:8080/",
          "height": 35
        },
        "id": "HNpC5KCWQ9MW",
        "outputId": "b6f80d18-ed56-434a-8715-37896bee7dcc"
      },
      "execution_count": 72,
      "outputs": [
        {
          "output_type": "execute_result",
          "data": {
            "text/plain": [
              "'aaabbbCCCDDD'"
            ],
            "application/vnd.google.colaboratory.intrinsic+json": {
              "type": "string"
            }
          },
          "metadata": {},
          "execution_count": 72
        }
      ]
    },
    {
      "cell_type": "markdown",
      "source": [
        "# 49번"
      ],
      "metadata": {
        "id": "voJpiy21RaAS"
      }
    },
    {
      "cell_type": "code",
      "source": [
        "# 최대값"
      ],
      "metadata": {
        "id": "Q2aL3aaRRU0Z"
      },
      "execution_count": 73,
      "outputs": []
    },
    {
      "cell_type": "markdown",
      "source": [
        "# 50번"
      ],
      "metadata": {
        "id": "ppr568gpRkDx"
      }
    },
    {
      "cell_type": "code",
      "source": [
        "# 버블정렬\n",
        "def bubble(n, data):\n",
        "\tfor i in range(n-1):\n",
        "\t\tfor j in range(빈칸을 채워주세요):\n",
        "\t\t\tif data[j] > data[j+1]:\n",
        "\t\t\t\t빈칸을 채워주세요\n",
        "\tfor i in range(n):\n",
        "\t\tprint(data[i], end = \" \")\n",
        "\n",
        "n = int(input())\n",
        "data = list(map(int, input().split()))\n",
        "\n",
        "bubble(n, data)"
      ],
      "metadata": {
        "id": "Y4Kj_hSwRilR"
      },
      "execution_count": 74,
      "outputs": []
    },
    {
      "cell_type": "markdown",
      "source": [
        "# 51번"
      ],
      "metadata": {
        "id": "kazNqP40SCCj"
      }
    },
    {
      "cell_type": "code",
      "source": [
        "#병합 정렬\n",
        "def merge(입력리스트):\n",
        "    입력리스트길이 = len(입력리스트)\n",
        "    if 입력리스트길이 <= 1:\n",
        "        return 입력리스트\n",
        "    중간값 = 입력리스트길이 // 2\n",
        "    그룹_하나 = merge(입력리스트[:중간값])\n",
        "    그룹_둘 = merge(입력리스트[중간값:])\n",
        "    결과값 = []\n",
        "\n",
        "    while (#빈칸을 채워주세요) and (#빈칸을 채워주세요) :\n",
        "        if (#빈칸을 채워주세요):\n",
        "            결과값.append(그룹_하나.pop(0))\n",
        "        else:\n",
        "            결과값.append(그룹_둘.pop(0))\n",
        "\n",
        "    while 그룹_하나:\n",
        "        결과값.append(그룹_하나.pop(0))\n",
        "    while 그룹_둘:\n",
        "        결과값.append(그룹_둘.pop(0))\n",
        "    return 결과값\n",
        "\n",
        "주어진리스트 = [180, 145, 165, 45, 170, 175, 173, 171]\n",
        "#빈칸을 채워주세요\n",
        "\n",
        "print(merge(주어진리스트))"
      ],
      "metadata": {
        "id": "NOB7JovVRjjr"
      },
      "execution_count": null,
      "outputs": []
    },
    {
      "cell_type": "markdown",
      "source": [
        "# 52번"
      ],
      "metadata": {
        "id": "BkXeIw_bR_30"
      }
    },
    {
      "cell_type": "code",
      "source": [
        "# quick\n",
        "def quick(입력리스트):\n",
        "    입력리스트의길이 = len(입력리스트)\n",
        "    if 입력리스트의길이 <= 1:\n",
        "        return 입력리스트\n",
        "    기준값 = 입력리스트.pop(입력리스트의길이//2)\n",
        "    그룹_하나 = []\n",
        "    그룹_둘 = []\n",
        "\n",
        "    for i in range(입력리스트의길이-1):\n",
        "        if #내용을 채워주세요:\n",
        "            그룹_하나.append(입력리스트[i])\n",
        "        else:\n",
        "            그룹_둘.append(입력리스트[i])\n",
        "    return #내용을 채워주세요\n",
        "\n",
        "주어진리스트 = input().split(' ')\n",
        "#내용을 채워주세요.\n",
        "\n",
        "print(quick(주어진리스트))"
      ],
      "metadata": {
        "id": "C8JubOvuR33W"
      },
      "execution_count": null,
      "outputs": []
    },
    {
      "cell_type": "markdown",
      "source": [
        "# 53번"
      ],
      "metadata": {
        "id": "m61wffeMSKIl"
      }
    },
    {
      "cell_type": "code",
      "source": [
        "# 입력으로 주어진 괄호 문자열이 바른 문자열인지 바르지 않은 문자열인지 \"YES\"와 \"NO\"로 구분된 문자열을 출력해보자.\n",
        "# '{', '}', '[', ']', '(', ')'\n",
        "s = '()()'\n",
        "brackets = []\n",
        "\n",
        "if s.count('(') != s.count(')'):\n",
        "    print(False)\n",
        "else:\n",
        "    for i in s:\n",
        "        if i == ')' or i == '(':\n",
        "            brackets.append(i)\n",
        "    print(brackets)"
      ],
      "metadata": {
        "colab": {
          "base_uri": "https://localhost:8080/"
        },
        "id": "ZE9InTRLWSTc",
        "outputId": "de0f1bd0-317f-44ce-f94e-076d9e7a5c0a"
      },
      "execution_count": 78,
      "outputs": [
        {
          "output_type": "stream",
          "name": "stdout",
          "text": [
            "['(', ')', '(', ')']\n"
          ]
        }
      ]
    },
    {
      "cell_type": "code",
      "source": [
        "s = '())()'\n",
        "brackets = []\n",
        "\n",
        "if s.count('(') != s.count(')'):\n",
        "    print(False)\n",
        "else:\n",
        "    for i in s:\n",
        "        if i == '(':\n",
        "            brackets.append(i)\n",
        "        elif i == ')':\n",
        "            if len(brackets)==0:\n",
        "                print(False)\n",
        "            brackets.pop()\n",
        "    print(True)"
      ],
      "metadata": {
        "colab": {
          "base_uri": "https://localhost:8080/"
        },
        "id": "n06591JRSK_N",
        "outputId": "2115cce1-521e-464d-b8ef-c31366beda5a"
      },
      "execution_count": 81,
      "outputs": [
        {
          "output_type": "stream",
          "name": "stdout",
          "text": [
            "False\n"
          ]
        }
      ]
    },
    {
      "cell_type": "code",
      "source": [
        "def math(e):\n",
        "    if e.count('(') != e.count(')'):\n",
        "        return False\n",
        "    괄호 = []\n",
        "    for i in e:\n",
        "        if i == '(':\n",
        "            괄호.append('(')\n",
        "        if i == ')':\n",
        "            if len(괄호) == 0:\n",
        "                return False\n",
        "            괄호.pop()\n",
        "    return True\n",
        "\n",
        "n = input()\n",
        "if math(n) == True:\n",
        "\tprint(\"YES\")\n",
        "else:\n",
        "\tprint(\"NO\")"
      ],
      "metadata": {
        "colab": {
          "base_uri": "https://localhost:8080/"
        },
        "id": "eKqbmZ8Onbqt",
        "outputId": "d6641405-053b-4c6a-c477-b7adc8ed7515"
      },
      "execution_count": 82,
      "outputs": [
        {
          "output_type": "stream",
          "name": "stdout",
          "text": [
            "()())\n",
            "NO\n"
          ]
        }
      ]
    },
    {
      "cell_type": "markdown",
      "source": [
        "# 54번"
      ],
      "metadata": {
        "id": "Sg3J7iWdnsrE"
      }
    },
    {
      "cell_type": "code",
      "source": [
        "# 스탬프에 적힌 숫자가 공백으로 구분되어 주어지면 이 숫자가 연속수인지 아닌지 \"YES\"와 \"NO\"로 판별하는 프로그램\n",
        "user_input = input().split(' ')\n",
        "user_input = [int(i) for i in user_input]\n",
        "\n",
        "def sol(l):\n",
        "    l = sorted(l)\n",
        "    for i in range(len(l) - 1):\n",
        "        if l[i]+1 != l[i+1]:\n",
        "            return 'NO'\n",
        "    return 'YES'\n",
        "\n",
        "print(sol(user_input))"
      ],
      "metadata": {
        "colab": {
          "base_uri": "https://localhost:8080/"
        },
        "id": "KdLLY19Knf3f",
        "outputId": "b9ec64ef-1e7b-4e03-dbfc-062c53437425"
      },
      "execution_count": 96,
      "outputs": [
        {
          "output_type": "stream",
          "name": "stdout",
          "text": [
            "1 2 3 5 4\n",
            "YES\n"
          ]
        }
      ]
    },
    {
      "cell_type": "code",
      "source": [
        "value = list(map(int, '1 2 4 3 5'.split(' ')))\n",
        "list(range(min(value), min(value) + len(value))) == sorted(value)"
      ],
      "metadata": {
        "colab": {
          "base_uri": "https://localhost:8080/"
        },
        "id": "Kyq1ViEKqozB",
        "outputId": "8609543e-1147-4a79-af18-98395f0fc68d"
      },
      "execution_count": 99,
      "outputs": [
        {
          "output_type": "execute_result",
          "data": {
            "text/plain": [
              "True"
            ]
          },
          "metadata": {},
          "execution_count": 99
        }
      ]
    },
    {
      "cell_type": "code",
      "source": [
        "def solution(num):\n",
        "    num = num.split(' ')\n",
        "    num = list(map(int, sorted(num)))\n",
        "    for i in list(zip(num, num[1:])):\n",
        "        if i[1] - i[0] != 1:\n",
        "            return 'NO'\n",
        "    return 'YES'\n",
        "\n",
        "solution('1 4 2 5 3')"
      ],
      "metadata": {
        "colab": {
          "base_uri": "https://localhost:8080/",
          "height": 35
        },
        "id": "7P_7MbyrqtGi",
        "outputId": "f270b102-bb32-4a64-cc1b-a0caabf46ccc"
      },
      "execution_count": 101,
      "outputs": [
        {
          "output_type": "execute_result",
          "data": {
            "text/plain": [
              "'YES'"
            ],
            "application/vnd.google.colaboratory.intrinsic+json": {
              "type": "string"
            }
          },
          "metadata": {},
          "execution_count": 101
        }
      ]
    },
    {
      "cell_type": "markdown",
      "source": [
        "# 55번 하노이"
      ],
      "metadata": {
        "id": "NUwqqS8ore_S"
      }
    },
    {
      "cell_type": "code",
      "source": [
        "# [[A, C], [A, B], [C, B], [A, C], [B, A], [B, C], [A, C]]\n",
        "원판의이동경로 = []\n",
        "def 하노이(원반의수, 시작기둥, 목표기둥, 보조기둥):\n",
        "    # 원판이 한개일 때에는 옮기면 됩니다.\n",
        "    if 원반의수 == 1:\n",
        "        원판의이동경로.append([시작기둥, 목표기둥])\n",
        "        return None\n",
        "    # 원반의 n-1개를 경유기둥으로 옮기고\n",
        "    하노이(원반의수-1, 시작기둥, 보조기둥, 목표기둥) # 여기가 문제였습니다.\n",
        "    # 가장 큰 원반은 목표기둥으로\n",
        "    원판의이동경로.append([시작기둥, 목표기둥])\n",
        "    # 경유기둥과 시작기둥을 바꿉니다!\n",
        "    하노이(원반의수-1, 보조기둥, 목표기둥, 시작기둥)\n",
        "\n",
        "하노이(3,'A','C','B')\n",
        "\n",
        "print(len(원판의이동경로))\n",
        "원판의이동경로"
      ],
      "metadata": {
        "colab": {
          "base_uri": "https://localhost:8080/"
        },
        "id": "sBbVZtn2rS_n",
        "outputId": "531408a5-dbed-41ca-cf26-8a1f0bbeb171"
      },
      "execution_count": 103,
      "outputs": [
        {
          "output_type": "stream",
          "name": "stdout",
          "text": [
            "7\n"
          ]
        },
        {
          "output_type": "execute_result",
          "data": {
            "text/plain": [
              "[['A', 'C'],\n",
              " ['A', 'B'],\n",
              " ['C', 'B'],\n",
              " ['A', 'C'],\n",
              " ['B', 'A'],\n",
              " ['B', 'C'],\n",
              " ['A', 'C']]"
            ]
          },
          "metadata": {},
          "execution_count": 103
        }
      ]
    },
    {
      "cell_type": "markdown",
      "source": [
        "# 56번"
      ],
      "metadata": {
        "id": "PPccVrfKx48x"
      }
    },
    {
      "cell_type": "code",
      "source": [
        "nationWidth = {\n",
        "    'korea': 220877,\n",
        "    'Rusia': 17098242,\n",
        "    'China': 9596961,\n",
        "    'France': 543965,\n",
        "    'Japan': 377915,\n",
        "    'England': 242900,\n",
        "    'A': 543965,\n",
        "}\n",
        "\n",
        "korea = nationWidth.pop('korea') # nationWidth['korea']\n",
        "mini = float('inf')\n",
        "result_key = ''\n",
        "\n",
        "for key in nationWidth:\n",
        "    value = nationWidth[key] - korea\n",
        "    if value < mini:\n",
        "        mini = value\n",
        "        result_key = key\n",
        "\n",
        "result_key, mini"
      ],
      "metadata": {
        "colab": {
          "base_uri": "https://localhost:8080/"
        },
        "id": "KLy_i3Dh6CJ9",
        "outputId": "1b2d09de-9619-4cb6-debc-f6e1487cfd06"
      },
      "execution_count": 119,
      "outputs": [
        {
          "output_type": "execute_result",
          "data": {
            "text/plain": [
              "('England', 22023)"
            ]
          },
          "metadata": {},
          "execution_count": 119
        }
      ]
    },
    {
      "cell_type": "code",
      "source": [
        "nationWidth = {\n",
        "    'Rusia': 17098242,\n",
        "    'China': 9596961,\n",
        "    'France': 543965,\n",
        "    'Japan': 377915,\n",
        "    'England': 242900\n",
        "}\n",
        "\n",
        "def f(key):\n",
        "    return [nationWidth[key] - 220877, key]\n",
        "\n",
        "list(map(f, nationWidth))\n",
        "min(map(f, nationWidth))"
      ],
      "metadata": {
        "colab": {
          "base_uri": "https://localhost:8080/"
        },
        "id": "JstEY1cg5zev",
        "outputId": "a2bb8ecd-37ce-4bfe-ebe4-fce5ead9c57e"
      },
      "execution_count": 125,
      "outputs": [
        {
          "output_type": "execute_result",
          "data": {
            "text/plain": [
              "[22023, 'England']"
            ]
          },
          "metadata": {},
          "execution_count": 125
        }
      ]
    },
    {
      "cell_type": "code",
      "source": [
        "nationWidth = {\n",
        "    'Rusia': 17098242,\n",
        "    'China': 9596961,\n",
        "    'France': 543965,\n",
        "    'Japan': 377915,\n",
        "    'England': 242900\n",
        "}\n",
        "\n",
        "min(map(lambda key: [nationWidth[key]-220877, key], nationWidth))[1]"
      ],
      "metadata": {
        "colab": {
          "base_uri": "https://localhost:8080/",
          "height": 35
        },
        "id": "1e4xrgbI8PSm",
        "outputId": "76f1c5c1-fef2-4cb0-9995-99f88e28d2d6"
      },
      "execution_count": 123,
      "outputs": [
        {
          "output_type": "execute_result",
          "data": {
            "text/plain": [
              "'England'"
            ],
            "application/vnd.google.colaboratory.intrinsic+json": {
              "type": "string"
            }
          },
          "metadata": {},
          "execution_count": 123
        }
      ]
    },
    {
      "cell_type": "markdown",
      "source": [
        "# 57번"
      ],
      "metadata": {
        "id": "9fbwGqM187Zk"
      }
    },
    {
      "cell_type": "code",
      "source": [
        "# 0부터 1000까지 수에서 1은 몇번이나 들어갔을까요?"
      ],
      "metadata": {
        "id": "h-YFtpnr815g"
      },
      "execution_count": 126,
      "outputs": []
    },
    {
      "cell_type": "markdown",
      "source": [
        "# 58번"
      ],
      "metadata": {
        "id": "bQcdVbUG9BRn"
      }
    },
    {
      "cell_type": "code",
      "source": [
        "# 숫자를 입력 받고 천단위로 콤마(,)를 찍어주세요."
      ],
      "metadata": {
        "id": "rnq0ne2z88pk"
      },
      "execution_count": null,
      "outputs": []
    },
    {
      "cell_type": "markdown",
      "source": [
        "# 59번"
      ],
      "metadata": {
        "id": "QLLca2BH9Cw7"
      }
    },
    {
      "cell_type": "code",
      "source": [
        "# 총 문자열의 길이는 50으로 제한하고 사용자가 문자열을 입력하면 그 문자열을 가운데 정렬을 해주고, 나머지 빈 부분에는 '='을 채워넣어주세요\n",
        "\n",
        "s = 'hi'\n",
        "print(f'{s:=^50}')\n",
        "print(f'{s:!<50}')\n",
        "print(f'{s:~>50}')"
      ],
      "metadata": {
        "colab": {
          "base_uri": "https://localhost:8080/"
        },
        "id": "HuNJop6P9G5P",
        "outputId": "648feb46-22fc-4ab3-cdf2-dd9d80a72cdb"
      },
      "execution_count": 136,
      "outputs": [
        {
          "output_type": "stream",
          "name": "stdout",
          "text": [
            "========================hi========================\n",
            "hi!!!!!!!!!!!!!!!!!!!!!!!!!!!!!!!!!!!!!!!!!!!!!!!!\n",
            "~~~~~~~~~~~~~~~~~~~~~~~~~~~~~~~~~~~~~~~~~~~~~~~~hi\n"
          ]
        }
      ]
    },
    {
      "cell_type": "code",
      "source": [
        "s = 'hello world'\n",
        "print(('='*(((50//2)-len(s)//2))) + s + ('='*(((50//2)-len(s)//2))))"
      ],
      "metadata": {
        "colab": {
          "base_uri": "https://localhost:8080/"
        },
        "id": "igxwweP1-4OO",
        "outputId": "101cc054-7ded-4af8-9003-3683b79d0f05"
      },
      "execution_count": 141,
      "outputs": [
        {
          "output_type": "stream",
          "name": "stdout",
          "text": [
            "====================hello world====================\n"
          ]
        }
      ]
    },
    {
      "cell_type": "markdown",
      "source": [
        "# 60번"
      ],
      "metadata": {
        "id": "5rybhgvl-Yg2"
      }
    },
    {
      "cell_type": "code",
      "source": [
        "student = ['강은지','김유정','박현서','최성훈','홍유진','박지호','권윤일','김채리','한지호','김진이','김민호','강채연']\n",
        "\n",
        "for num, name in enumerate(sorted(student), 1):\n",
        "    print(f'번호: {num}, 이름: {name}')"
      ],
      "metadata": {
        "colab": {
          "base_uri": "https://localhost:8080/"
        },
        "id": "y_WpvY1I9HhL",
        "outputId": "097e11fa-df28-4763-cb11-b93ea18dc746"
      },
      "execution_count": 148,
      "outputs": [
        {
          "output_type": "stream",
          "name": "stdout",
          "text": [
            "번호: 1, 이름: 강은지\n",
            "번호: 2, 이름: 강채연\n",
            "번호: 3, 이름: 권윤일\n",
            "번호: 4, 이름: 김민호\n",
            "번호: 5, 이름: 김유정\n",
            "번호: 6, 이름: 김진이\n",
            "번호: 7, 이름: 김채리\n",
            "번호: 8, 이름: 박지호\n",
            "번호: 9, 이름: 박현서\n",
            "번호: 10, 이름: 최성훈\n",
            "번호: 11, 이름: 한지호\n",
            "번호: 12, 이름: 홍유진\n"
          ]
        }
      ]
    },
    {
      "cell_type": "markdown",
      "source": [
        "# 61번"
      ],
      "metadata": {
        "id": "znilcvNRCdb6"
      }
    },
    {
      "cell_type": "code",
      "source": [
        "# 입력\n",
        "# aaabbbbcdddd\n",
        "# 출력\n",
        "# a3b4c1d4\n",
        "\n",
        "w = 'aaabbbbcdddd'\n",
        "s = {}\n",
        "for i in list(w):\n",
        "    if i not in s:\n",
        "        s[i] = 0\n",
        "    s[i] += 1\n",
        "\n",
        "for i in s:\n",
        "    print(i+str(s[i]), end='')\n",
        "\n",
        "# for a, n in s.items():\n",
        "#    print(a+str(n), end='')"
      ],
      "metadata": {
        "colab": {
          "base_uri": "https://localhost:8080/"
        },
        "id": "QhPxu4lWCcB-",
        "outputId": "f188f80d-a472-40f2-ffd1-4ef8d7aae77e"
      },
      "execution_count": 177,
      "outputs": [
        {
          "output_type": "stream",
          "name": "stdout",
          "text": [
            "a3b4c1d4"
          ]
        }
      ]
    },
    {
      "cell_type": "code",
      "source": [
        "s = 'aaabbbbcddddaaabbbbcdddd'\n",
        "answer = ''\n",
        "count = 0\n",
        "pre = s[0]\n",
        "\n",
        "for i in s:\n",
        "    # print(pre, i)\n",
        "    if pre == i:\n",
        "        count += 1\n",
        "    else:\n",
        "        answer += pre + str(count)\n",
        "        pre = i\n",
        "        count = 1\n",
        "\n",
        "answer += pre + str(count)\n",
        "answer"
      ],
      "metadata": {
        "colab": {
          "base_uri": "https://localhost:8080/",
          "height": 35
        },
        "id": "0duCRms2FHLn",
        "outputId": "54c62be5-e4a7-4a0f-cb49-ad0c6ad045a5"
      },
      "execution_count": 179,
      "outputs": [
        {
          "output_type": "execute_result",
          "data": {
            "text/plain": [
              "'a3b4c1d4a3b4c1d4'"
            ],
            "application/vnd.google.colaboratory.intrinsic+json": {
              "type": "string"
            }
          },
          "metadata": {},
          "execution_count": 179
        }
      ]
    },
    {
      "cell_type": "code",
      "source": [
        "import re\n",
        "s = 'aaabbbbcddddaaabbbbcdddd'\n",
        "re.findall('(\\\\w)(\\\\1*)', s)"
      ],
      "metadata": {
        "colab": {
          "base_uri": "https://localhost:8080/"
        },
        "id": "WFtaTkMgGmHT",
        "outputId": "40a62add-6d9d-4387-c643-386baf14a907"
      },
      "execution_count": 181,
      "outputs": [
        {
          "output_type": "execute_result",
          "data": {
            "text/plain": [
              "[('a', 'aa'),\n",
              " ('b', 'bbb'),\n",
              " ('c', ''),\n",
              " ('d', 'ddd'),\n",
              " ('a', 'aa'),\n",
              " ('b', 'bbb'),\n",
              " ('c', ''),\n",
              " ('d', 'ddd')]"
            ]
          },
          "metadata": {},
          "execution_count": 181
        }
      ]
    },
    {
      "cell_type": "code",
      "source": [
        "import re\n",
        "s = 'aaabbbbcddddaaabbbbcdddd'\n",
        "answer = ''\n",
        "for i in re.findall('(\\\\w)(\\\\1*)', s):\n",
        "    answer += i[0] + str(len(i[1])+1)\n",
        "answer"
      ],
      "metadata": {
        "colab": {
          "base_uri": "https://localhost:8080/",
          "height": 35
        },
        "id": "9YRTKEwwHou_",
        "outputId": "6c20d0b2-4743-42ca-b01d-40e13b80c9cc"
      },
      "execution_count": 183,
      "outputs": [
        {
          "output_type": "execute_result",
          "data": {
            "text/plain": [
              "'a3b4c1d4a3b4c1d4'"
            ],
            "application/vnd.google.colaboratory.intrinsic+json": {
              "type": "string"
            }
          },
          "metadata": {},
          "execution_count": 183
        }
      ]
    },
    {
      "cell_type": "markdown",
      "source": [
        "# 62번"
      ],
      "metadata": {
        "id": "HISTmw92ElB6"
      }
    },
    {
      "cell_type": "code",
      "source": [
        "string='aacddddddddd'\n",
        "a=string.count('a') #2\n",
        "b=string.count('b') #0\n",
        "c=string.count('c') #1\n",
        "d=string.count('d') #9\n",
        "print(int(str(a)+str(b)+str(c)+str(d)+str(b)+str(d)+str(a)+str(a+1)))"
      ],
      "metadata": {
        "colab": {
          "base_uri": "https://localhost:8080/"
        },
        "id": "2XBAIX9mIE--",
        "outputId": "48a0ced8-6181-4ed6-e1d4-ce3e7ad537c3"
      },
      "execution_count": 184,
      "outputs": [
        {
          "output_type": "stream",
          "name": "stdout",
          "text": [
            "20190923\n"
          ]
        }
      ]
    },
    {
      "cell_type": "markdown",
      "source": [
        "# 63번"
      ],
      "metadata": {
        "id": "A4oGPOE2IGoR"
      }
    },
    {
      "cell_type": "code",
      "source": [
        "# 입력 - 입력은 한글 혹은 영어로 입력됩니다.\n",
        "# 복잡한 세상 편하게 살자\n",
        "\n",
        "# 출력 - 띄어쓰기를 기준으로 하여 짧은 형태로 출력합니다.\n",
        "# 복세편살"
      ],
      "metadata": {
        "id": "w5rmtP6pIFZ_"
      },
      "execution_count": null,
      "outputs": []
    },
    {
      "cell_type": "markdown",
      "source": [
        "# 64번"
      ],
      "metadata": {
        "id": "5m95pNZlIZTa"
      }
    },
    {
      "cell_type": "code",
      "source": [
        "# 정량 N에 정확히 맞춰야만 움직이는 화물용 엘레베이터가 있습니다.\n",
        "# 화물은 7kg, 3kg 두 가지이며 팔이 아픈 은후는 가장 적게 화물을 옮기고 싶습니다.\n",
        "\n",
        "# 입력\n",
        "# 정량 N이 입력됩니다.\n",
        "\n",
        "# 출력\n",
        "# 가장 적게 옮길 수 있는 횟수를 출력합니다.\n",
        "# 만약 어떻게 해도 정량이 N이 되지 않는다면 -1을 출력합니다."
      ],
      "metadata": {
        "id": "UvO7QLAUIVjg"
      },
      "execution_count": null,
      "outputs": []
    },
    {
      "cell_type": "markdown",
      "source": [
        "# 65번"
      ],
      "metadata": {
        "id": "ARoKJbuHIhLR"
      }
    },
    {
      "cell_type": "code",
      "source": [
        "a = [1, 2, 3, 4]\n",
        "b = ['a', 'b', 'c', 'd']\n",
        "# [[1,a],[b,2],[3,c],[d,4]]\n",
        "\n",
        "[i for i in zip(a, b)]"
      ],
      "metadata": {
        "colab": {
          "base_uri": "https://localhost:8080/"
        },
        "id": "SFDtNmWpIiPY",
        "outputId": "80cecb24-58ed-477a-cc68-6e828d16898a"
      },
      "execution_count": 187,
      "outputs": [
        {
          "output_type": "execute_result",
          "data": {
            "text/plain": [
              "[(1, 'a'), (2, 'b'), (3, 'c'), (4, 'd')]"
            ]
          },
          "metadata": {},
          "execution_count": 187
        }
      ]
    },
    {
      "cell_type": "code",
      "source": [
        "result = []\n",
        "for i in range(4):\n",
        "    if i % 2 == 0:\n",
        "        result.append([a[i], b[i]])\n",
        "    else:\n",
        "        result.append([b[i], a[i]])\n",
        "result"
      ],
      "metadata": {
        "colab": {
          "base_uri": "https://localhost:8080/"
        },
        "id": "eDpimj9pLqko",
        "outputId": "9e50e1b4-ac7a-4030-8336-6aa792b1baa2"
      },
      "execution_count": 199,
      "outputs": [
        {
          "output_type": "execute_result",
          "data": {
            "text/plain": [
              "[[1, 'a'], ['b', 2], [3, 'c'], ['d', 4]]"
            ]
          },
          "metadata": {},
          "execution_count": 199
        }
      ]
    },
    {
      "cell_type": "code",
      "source": [
        "x = list(zip(a, b))\n",
        "y = list(zip(b, a))\n",
        "x\n",
        "# x[::2], y[1::2]"
      ],
      "metadata": {
        "colab": {
          "base_uri": "https://localhost:8080/"
        },
        "id": "A2Rl61aNL17R",
        "outputId": "ac1211b9-ee30-4142-e5a0-d39964ca7e14"
      },
      "execution_count": 200,
      "outputs": [
        {
          "output_type": "execute_result",
          "data": {
            "text/plain": [
              "[(1, 'a'), (2, 'b'), (3, 'c'), (4, 'd')]"
            ]
          },
          "metadata": {},
          "execution_count": 200
        }
      ]
    },
    {
      "cell_type": "code",
      "source": [
        "result = []\n",
        "for i in range(4):\n",
        "    if i % 2 == 0:\n",
        "        result.append(x[i])\n",
        "    else:\n",
        "        result.append(y[i])\n",
        "result"
      ],
      "metadata": {
        "colab": {
          "base_uri": "https://localhost:8080/"
        },
        "id": "pOaAgsxFL6hS",
        "outputId": "694eb1ba-d0c3-43db-8ad6-951ea654e6da"
      },
      "execution_count": 202,
      "outputs": [
        {
          "output_type": "execute_result",
          "data": {
            "text/plain": [
              "[(1, 'a'), ('b', 2), (3, 'c'), ('d', 4)]"
            ]
          },
          "metadata": {},
          "execution_count": 202
        }
      ]
    },
    {
      "cell_type": "code",
      "source": [
        "list(map(lambda x: list(x[::-1]) if x[0] % 2 == 0 else list(x), list(zip(a, b))))"
      ],
      "metadata": {
        "colab": {
          "base_uri": "https://localhost:8080/"
        },
        "id": "N_dyezfkMFju",
        "outputId": "62a4e910-50ee-4370-a676-76a7bceccb2c"
      },
      "execution_count": 197,
      "outputs": [
        {
          "output_type": "execute_result",
          "data": {
            "text/plain": [
              "[[1, 'a'], ['b', 2], [3, 'c'], ['d', 4]]"
            ]
          },
          "metadata": {},
          "execution_count": 197
        }
      ]
    },
    {
      "cell_type": "code",
      "source": [
        "answer = []\n",
        "list(map(lambda num: x[num] if num % 2 == 0 else y[num], range(len(a))))"
      ],
      "metadata": {
        "colab": {
          "base_uri": "https://localhost:8080/"
        },
        "id": "ef9DeTVhMPdW",
        "outputId": "b772c9c1-779b-4ff8-ad74-b2cbbee96b0a"
      },
      "execution_count": 201,
      "outputs": [
        {
          "output_type": "execute_result",
          "data": {
            "text/plain": [
              "[(1, 'a'), ('b', 2), (3, 'c'), ('d', 4)]"
            ]
          },
          "metadata": {},
          "execution_count": 201
        }
      ]
    }
  ]
}